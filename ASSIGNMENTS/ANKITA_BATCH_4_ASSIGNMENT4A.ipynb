{
  "nbformat": 4,
  "nbformat_minor": 0,
  "metadata": {
    "colab": {
      "name": "ANKITA_BATCH_4_ASSIGNMENT4A.ipynb",
      "version": "0.3.2",
      "views": {},
      "default_view": {},
      "provenance": [
        {
          "file_id": "1gZYwZdkgXBJRr624SqWJ9f452BmKNkNT",
          "timestamp": 1525620578583
        },
        {
          "file_id": "1JURGwe4e5Z7928Zv2eiJVPCQNc702huM",
          "timestamp": 1521864568638
        }
      ],
      "collapsed_sections": []
    },
    "kernelspec": {
      "name": "python3",
      "display_name": "Python 3"
    },
    "accelerator": "GPU"
  },
  "cells": [
    {
      "metadata": {
        "id": "aNyZv-Ec52ot",
        "colab_type": "text"
      },
      "cell_type": "markdown",
      "source": [
        "# **Import Libraries and modules**"
      ]
    },
    {
      "metadata": {
        "id": "VeV1VJDBKlJj",
        "colab_type": "text"
      },
      "cell_type": "markdown",
      "source": [
        "**Model 1:**\n",
        "\n",
        "*   Number of Parameters : 1533\n",
        "*   Accuracy : 97.46%\n",
        "\n",
        "**Model 2:**\n",
        "\n",
        "*   Number of Parameters : 4370\n",
        "*   Accuracy : 98.50%\n",
        "\n",
        "**Model 3:**\n",
        "\n",
        "*   Number of Parameters : 2834\n",
        "*   Accuracy : 98.60%"
      ]
    },
    {
      "metadata": {
        "id": "3m3w1Cw49Zkt",
        "colab_type": "code",
        "colab": {
          "autoexec": {
            "startup": false,
            "wait_interval": 0
          }
        }
      },
      "cell_type": "code",
      "source": [
        "# https://keras.io/\n",
        "!pip install -q keras\n",
        "import keras"
      ],
      "execution_count": 0,
      "outputs": []
    },
    {
      "metadata": {
        "id": "Eso6UHE080D4",
        "colab_type": "code",
        "colab": {
          "autoexec": {
            "startup": false,
            "wait_interval": 0
          }
        }
      },
      "cell_type": "code",
      "source": [
        "import numpy as np\n",
        "\n",
        "from keras.models import Sequential\n",
        "from keras.layers import Dense, Dropout, Activation, Flatten, Add\n",
        "from keras.layers import Convolution2D, MaxPooling2D\n",
        "from keras.utils import np_utils\n",
        "\n",
        "from keras.datasets import mnist"
      ],
      "execution_count": 0,
      "outputs": []
    },
    {
      "metadata": {
        "id": "zByEi95J86RD",
        "colab_type": "text"
      },
      "cell_type": "markdown",
      "source": [
        "### Load pre-shuffled MNIST data into train and test sets"
      ]
    },
    {
      "metadata": {
        "id": "7eRM0QWN83PV",
        "colab_type": "code",
        "colab": {
          "autoexec": {
            "startup": false,
            "wait_interval": 0
          }
        }
      },
      "cell_type": "code",
      "source": [
        "(X_train, y_train), (X_test, y_test) = mnist.load_data()"
      ],
      "execution_count": 0,
      "outputs": []
    },
    {
      "metadata": {
        "id": "4a4Be72j8-ZC",
        "colab_type": "code",
        "colab": {
          "autoexec": {
            "startup": false,
            "wait_interval": 0
          },
          "base_uri": "https://localhost:8080/",
          "height": 300
        },
        "outputId": "7d4b637d-510d-4c5d-ceaf-b8bad4634b11",
        "executionInfo": {
          "status": "ok",
          "timestamp": 1525850657777,
          "user_tz": -330,
          "elapsed": 1515,
          "user": {
            "displayName": "Ankita Bhagat",
            "photoUrl": "//lh5.googleusercontent.com/-hBbQJG3EmsY/AAAAAAAAAAI/AAAAAAAAEMc/8aZlpsJaxOI/s50-c-k-no/photo.jpg",
            "userId": "106932527741563015055"
          }
        }
      },
      "cell_type": "code",
      "source": [
        "print (X_train.shape)\n",
        "from matplotlib import pyplot as plt\n",
        "%matplotlib inline\n",
        "plt.imshow(X_train[0])"
      ],
      "execution_count": 104,
      "outputs": [
        {
          "output_type": "stream",
          "text": [
            "(60000, 28, 28)\n"
          ],
          "name": "stdout"
        },
        {
          "output_type": "execute_result",
          "data": {
            "text/plain": [
              "<matplotlib.image.AxesImage at 0x7fb8734920f0>"
            ]
          },
          "metadata": {
            "tags": []
          },
          "execution_count": 104
        },
        {
          "output_type": "display_data",
          "data": {
            "image/png": "[encoded data removed]",
            "text/plain": [
              "<matplotlib.figure.Figure at 0x7fb87345af98>"
            ]
          },
          "metadata": {
            "tags": []
          }
        }
      ]
    },
    {
      "metadata": {
        "id": "dkmprriw9AnZ",
        "colab_type": "code",
        "colab": {
          "autoexec": {
            "startup": false,
            "wait_interval": 0
          }
        }
      },
      "cell_type": "code",
      "source": [
        "X_train = X_train.reshape(X_train.shape[0], 28, 28,1)\n",
        "X_test = X_test.reshape(X_test.shape[0], 28, 28,1)"
      ],
      "execution_count": 0,
      "outputs": []
    },
    {
      "metadata": {
        "id": "X2m4YS4E9CRh",
        "colab_type": "code",
        "colab": {
          "autoexec": {
            "startup": false,
            "wait_interval": 0
          }
        }
      },
      "cell_type": "code",
      "source": [
        "X_train = X_train.astype('float32')\n",
        "X_test = X_test.astype('float32')\n",
        "X_train /= 255\n",
        "X_test /= 255"
      ],
      "execution_count": 0,
      "outputs": []
    },
    {
      "metadata": {
        "id": "0Mn0vAYD9DvB",
        "colab_type": "code",
        "colab": {
          "autoexec": {
            "startup": false,
            "wait_interval": 0
          },
          "base_uri": "https://localhost:8080/",
          "height": 35
        },
        "outputId": "1573427a-53a6-42d0-fd8c-c14f8c1f0bb5",
        "executionInfo": {
          "status": "ok",
          "timestamp": 1525850660980,
          "user_tz": -330,
          "elapsed": 1031,
          "user": {
            "displayName": "Ankita Bhagat",
            "photoUrl": "//lh5.googleusercontent.com/-hBbQJG3EmsY/AAAAAAAAAAI/AAAAAAAAEMc/8aZlpsJaxOI/s50-c-k-no/photo.jpg",
            "userId": "106932527741563015055"
          }
        }
      },
      "cell_type": "code",
      "source": [
        "y_train[:10]"
      ],
      "execution_count": 107,
      "outputs": [
        {
          "output_type": "execute_result",
          "data": {
            "text/plain": [
              "array([5, 0, 4, 1, 9, 2, 1, 3, 1, 4], dtype=uint8)"
            ]
          },
          "metadata": {
            "tags": []
          },
          "execution_count": 107
        }
      ]
    },
    {
      "metadata": {
        "id": "ZG8JiXR39FHC",
        "colab_type": "code",
        "colab": {
          "autoexec": {
            "startup": false,
            "wait_interval": 0
          }
        }
      },
      "cell_type": "code",
      "source": [
        "# Convert 1-dimensional class arrays to 10-dimensional class matrices\n",
        "Y_train = np_utils.to_categorical(y_train, 10)\n",
        "Y_test = np_utils.to_categorical(y_test, 10)"
      ],
      "execution_count": 0,
      "outputs": []
    },
    {
      "metadata": {
        "id": "fYlFRvKS9HMB",
        "colab_type": "code",
        "colab": {
          "autoexec": {
            "startup": false,
            "wait_interval": 0
          },
          "base_uri": "https://localhost:8080/",
          "height": 191
        },
        "outputId": "879eb1e0-a61b-44e4-ef87-e781329895b3",
        "executionInfo": {
          "status": "ok",
          "timestamp": 1525850663119,
          "user_tz": -330,
          "elapsed": 952,
          "user": {
            "displayName": "Ankita Bhagat",
            "photoUrl": "//lh5.googleusercontent.com/-hBbQJG3EmsY/AAAAAAAAAAI/AAAAAAAAEMc/8aZlpsJaxOI/s50-c-k-no/photo.jpg",
            "userId": "106932527741563015055"
          }
        }
      },
      "cell_type": "code",
      "source": [
        "Y_train[:10]\n"
      ],
      "execution_count": 109,
      "outputs": [
        {
          "output_type": "execute_result",
          "data": {
            "text/plain": [
              "array([[0., 0., 0., 0., 0., 1., 0., 0., 0., 0.],\n",
              "       [1., 0., 0., 0., 0., 0., 0., 0., 0., 0.],\n",
              "       [0., 0., 0., 0., 1., 0., 0., 0., 0., 0.],\n",
              "       [0., 1., 0., 0., 0., 0., 0., 0., 0., 0.],\n",
              "       [0., 0., 0., 0., 0., 0., 0., 0., 0., 1.],\n",
              "       [0., 0., 1., 0., 0., 0., 0., 0., 0., 0.],\n",
              "       [0., 1., 0., 0., 0., 0., 0., 0., 0., 0.],\n",
              "       [0., 0., 0., 1., 0., 0., 0., 0., 0., 0.],\n",
              "       [0., 1., 0., 0., 0., 0., 0., 0., 0., 0.],\n",
              "       [0., 0., 0., 0., 1., 0., 0., 0., 0., 0.]], dtype=float32)"
            ]
          },
          "metadata": {
            "tags": []
          },
          "execution_count": 109
        }
      ]
    },
    {
      "metadata": {
        "id": "osKqT73Q9JJB",
        "colab_type": "code",
        "colab": {
          "autoexec": {
            "startup": false,
            "wait_interval": 0
          },
          "base_uri": "https://localhost:8080/",
          "height": 141
        },
        "outputId": "9d3b85d0-ba53-4d73-d7c6-c8a568294411",
        "executionInfo": {
          "status": "ok",
          "timestamp": 1525850664309,
          "user_tz": -330,
          "elapsed": 1063,
          "user": {
            "displayName": "Ankita Bhagat",
            "photoUrl": "//lh5.googleusercontent.com/-hBbQJG3EmsY/AAAAAAAAAAI/AAAAAAAAEMc/8aZlpsJaxOI/s50-c-k-no/photo.jpg",
            "userId": "106932527741563015055"
          }
        }
      },
      "cell_type": "code",
      "source": [
        "## MODEL - 1\n",
        "\n",
        "from keras.layers import Activation\n",
        "model = Sequential()\n",
        " \n",
        "model.add(Convolution2D(32, 3, 3, activation='relu', input_shape=(28,28,1)))\n",
        "model.add(MaxPooling2D(pool_size=(2, 2)))\n",
        "model.add(Convolution2D(12, 1, 1, activation='relu'))\n",
        "model.add(MaxPooling2D(pool_size=(2, 2)))\n",
        "model.add(Convolution2D(3, 3, 3, activation='relu'))\n",
        "model.add(Convolution2D(10, 4))\n",
        "model.add(Flatten())\n",
        "model.add(Activation('softmax'))"
      ],
      "execution_count": 110,
      "outputs": [
        {
          "output_type": "stream",
          "text": [
            "/usr/local/lib/python3.6/dist-packages/ipykernel_launcher.py:5: UserWarning: Update your `Conv2D` call to the Keras 2 API: `Conv2D(32, (3, 3), activation=\"relu\", input_shape=(28, 28, 1...)`\n",
            "  \"\"\"\n",
            "/usr/local/lib/python3.6/dist-packages/ipykernel_launcher.py:7: UserWarning: Update your `Conv2D` call to the Keras 2 API: `Conv2D(12, (1, 1), activation=\"relu\")`\n",
            "  import sys\n",
            "/usr/local/lib/python3.6/dist-packages/ipykernel_launcher.py:9: UserWarning: Update your `Conv2D` call to the Keras 2 API: `Conv2D(3, (3, 3), activation=\"relu\")`\n",
            "  if __name__ == '__main__':\n"
          ],
          "name": "stderr"
        }
      ]
    },
    {
      "metadata": {
        "id": "TzdAYg1k9K7Z",
        "colab_type": "code",
        "colab": {
          "autoexec": {
            "startup": false,
            "wait_interval": 0
          },
          "base_uri": "https://localhost:8080/",
          "height": 416
        },
        "outputId": "3e504940-2707-42f2-9a2d-d40048c8d6c3",
        "executionInfo": {
          "status": "ok",
          "timestamp": 1525850665419,
          "user_tz": -330,
          "elapsed": 990,
          "user": {
            "displayName": "Ankita Bhagat",
            "photoUrl": "//lh5.googleusercontent.com/-hBbQJG3EmsY/AAAAAAAAAAI/AAAAAAAAEMc/8aZlpsJaxOI/s50-c-k-no/photo.jpg",
            "userId": "106932527741563015055"
          }
        }
      },
      "cell_type": "code",
      "source": [
        "model.summary()"
      ],
      "execution_count": 111,
      "outputs": [
        {
          "output_type": "stream",
          "text": [
            "_________________________________________________________________\n",
            "Layer (type)                 Output Shape              Param #   \n",
            "=================================================================\n",
            "conv2d_67 (Conv2D)           (None, 26, 26, 32)        320       \n",
            "_________________________________________________________________\n",
            "max_pooling2d_33 (MaxPooling (None, 13, 13, 32)        0         \n",
            "_________________________________________________________________\n",
            "conv2d_68 (Conv2D)           (None, 13, 13, 12)        396       \n",
            "_________________________________________________________________\n",
            "max_pooling2d_34 (MaxPooling (None, 6, 6, 12)          0         \n",
            "_________________________________________________________________\n",
            "conv2d_69 (Conv2D)           (None, 4, 4, 3)           327       \n",
            "_________________________________________________________________\n",
            "conv2d_70 (Conv2D)           (None, 1, 1, 10)          490       \n",
            "_________________________________________________________________\n",
            "flatten_15 (Flatten)         (None, 10)                0         \n",
            "_________________________________________________________________\n",
            "activation_15 (Activation)   (None, 10)                0         \n",
            "=================================================================\n",
            "Total params: 1,533\n",
            "Trainable params: 1,533\n",
            "Non-trainable params: 0\n",
            "_________________________________________________________________\n"
          ],
          "name": "stdout"
        }
      ]
    },
    {
      "metadata": {
        "id": "Zp6SuGrL9M3h",
        "colab_type": "code",
        "colab": {
          "autoexec": {
            "startup": false,
            "wait_interval": 0
          }
        }
      },
      "cell_type": "code",
      "source": [
        "model.compile(loss='categorical_crossentropy',\n",
        "             optimizer='adam',\n",
        "             metrics=['accuracy'])"
      ],
      "execution_count": 0,
      "outputs": []
    },
    {
      "metadata": {
        "id": "4xWoKhPY9Of5",
        "colab_type": "code",
        "colab": {
          "autoexec": {
            "startup": false,
            "wait_interval": 0
          },
          "base_uri": "https://localhost:8080/",
          "height": 436
        },
        "outputId": "be9f8d8a-927a-48b9-e5b4-166ec51651a1",
        "executionInfo": {
          "status": "ok",
          "timestamp": 1525851134582,
          "user_tz": -330,
          "elapsed": 468002,
          "user": {
            "displayName": "Ankita Bhagat",
            "photoUrl": "//lh5.googleusercontent.com/-hBbQJG3EmsY/AAAAAAAAAAI/AAAAAAAAEMc/8aZlpsJaxOI/s50-c-k-no/photo.jpg",
            "userId": "106932527741563015055"
          }
        }
      },
      "cell_type": "code",
      "source": [
        "model.fit(X_train, Y_train, batch_size=32, nb_epoch=10, verbose=1)"
      ],
      "execution_count": 113,
      "outputs": [
        {
          "output_type": "stream",
          "text": [
            "/usr/local/lib/python3.6/dist-packages/keras/models.py:981: UserWarning: The `nb_epoch` argument in `fit` has been renamed `epochs`.\n",
            "  warnings.warn('The `nb_epoch` argument in `fit` '\n"
          ],
          "name": "stderr"
        },
        {
          "output_type": "stream",
          "text": [
            "Epoch 1/10\n",
            "60000/60000 [==============================] - 48s 793us/step - loss: 0.4038 - acc: 0.8767\n",
            "Epoch 2/10\n",
            "10656/60000 [====>.........................] - ETA: 37s - loss: 0.1759 - acc: 0.9458"
          ],
          "name": "stdout"
        },
        {
          "output_type": "stream",
          "text": [
            "60000/60000 [==============================] - 46s 770us/step - loss: 0.1585 - acc: 0.9516\n",
            "Epoch 3/10\n",
            "18048/60000 [========>.....................] - ETA: 40s - loss: 0.1318 - acc: 0.9596"
          ],
          "name": "stdout"
        },
        {
          "output_type": "stream",
          "text": [
            "60000/60000 [==============================] - 53s 876us/step - loss: 0.1334 - acc: 0.9591\n",
            "Epoch 4/10\n",
            "22880/60000 [==========>...................] - ETA: 28s - loss: 0.1212 - acc: 0.9625"
          ],
          "name": "stdout"
        },
        {
          "output_type": "stream",
          "text": [
            "60000/60000 [==============================] - 46s 770us/step - loss: 0.1194 - acc: 0.9634\n",
            "Epoch 5/10\n",
            "25248/60000 [===========>..................] - ETA: 27s - loss: 0.1091 - acc: 0.9670"
          ],
          "name": "stdout"
        },
        {
          "output_type": "stream",
          "text": [
            "60000/60000 [==============================] - 46s 762us/step - loss: 0.1105 - acc: 0.9662\n",
            "Epoch 6/10\n",
            "27200/60000 [============>.................] - ETA: 24s - loss: 0.1019 - acc: 0.9689"
          ],
          "name": "stdout"
        },
        {
          "output_type": "stream",
          "text": [
            "60000/60000 [==============================] - 45s 757us/step - loss: 0.1026 - acc: 0.9685\n",
            "Epoch 7/10\n",
            "28736/60000 [=============>................] - ETA: 23s - loss: 0.0975 - acc: 0.9698"
          ],
          "name": "stdout"
        },
        {
          "output_type": "stream",
          "text": [
            "60000/60000 [==============================] - 45s 743us/step - loss: 0.0977 - acc: 0.9696\n",
            "Epoch 8/10\n",
            "29216/60000 [=============>................] - ETA: 23s - loss: 0.0956 - acc: 0.9706"
          ],
          "name": "stdout"
        },
        {
          "output_type": "stream",
          "text": [
            "60000/60000 [==============================] - 45s 745us/step - loss: 0.0925 - acc: 0.9717\n",
            "Epoch 9/10\n",
            "29248/60000 [=============>................] - ETA: 23s - loss: 0.0877 - acc: 0.9729"
          ],
          "name": "stdout"
        },
        {
          "output_type": "stream",
          "text": [
            "60000/60000 [==============================] - 46s 771us/step - loss: 0.0889 - acc: 0.9718\n",
            "Epoch 10/10\n",
            "28096/60000 [=============>................] - ETA: 24s - loss: 0.0853 - acc: 0.9726"
          ],
          "name": "stdout"
        },
        {
          "output_type": "stream",
          "text": [
            "60000/60000 [==============================] - 47s 787us/step - loss: 0.0844 - acc: 0.9733\n"
          ],
          "name": "stdout"
        },
        {
          "output_type": "execute_result",
          "data": {
            "text/plain": [
              "<keras.callbacks.History at 0x7fb88076c8d0>"
            ]
          },
          "metadata": {
            "tags": []
          },
          "execution_count": 113
        }
      ]
    },
    {
      "metadata": {
        "id": "2J0o9nQcW93x",
        "colab_type": "code",
        "colab": {
          "autoexec": {
            "startup": false,
            "wait_interval": 0
          },
          "base_uri": "https://localhost:8080/",
          "height": 35
        },
        "outputId": "9c7a0d7f-4de5-42a7-cfa2-6bf5b6ed935f",
        "executionInfo": {
          "status": "ok",
          "timestamp": 1525851138605,
          "user_tz": -330,
          "elapsed": 3985,
          "user": {
            "displayName": "Ankita Bhagat",
            "photoUrl": "//lh5.googleusercontent.com/-hBbQJG3EmsY/AAAAAAAAAAI/AAAAAAAAEMc/8aZlpsJaxOI/s50-c-k-no/photo.jpg",
            "userId": "106932527741563015055"
          }
        }
      },
      "cell_type": "code",
      "source": [
        "score = model.evaluate(X_test, Y_test, verbose=0)\n",
        "print(score)"
      ],
      "execution_count": 114,
      "outputs": [
        {
          "output_type": "stream",
          "text": [
            "[0.07810063503249548, 0.9746]\n"
          ],
          "name": "stdout"
        }
      ]
    },
    {
      "metadata": {
        "id": "BtR3xS92UW0H",
        "colab_type": "code",
        "colab": {
          "autoexec": {
            "startup": false,
            "wait_interval": 0
          },
          "base_uri": "https://localhost:8080/",
          "height": 575
        },
        "outputId": "8fea1195-8b65-4954-e9b7-c40c051ba9de",
        "executionInfo": {
          "status": "ok",
          "timestamp": 1525851139684,
          "user_tz": -330,
          "elapsed": 1018,
          "user": {
            "displayName": "Ankita Bhagat",
            "photoUrl": "//lh5.googleusercontent.com/-hBbQJG3EmsY/AAAAAAAAAAI/AAAAAAAAEMc/8aZlpsJaxOI/s50-c-k-no/photo.jpg",
            "userId": "106932527741563015055"
          }
        }
      },
      "cell_type": "code",
      "source": [
        "## MODEL - 2\n",
        "\n",
        "from keras.layers import Activation\n",
        "model = Sequential()\n",
        " \n",
        "model.add(Convolution2D(32, 3, 3, activation='relu', input_shape=(28,28,1)))\n",
        "model.add(MaxPooling2D(pool_size=(2, 2)))\n",
        "model.add(Convolution2D(10, 1, 1, activation='relu'))\n",
        "model.add(MaxPooling2D(pool_size=(2, 2)))\n",
        "model.add(Convolution2D(10, 1, 1, activation='relu'))\n",
        "model.add(Convolution2D(10, 6, 6))\n",
        "model.add(Flatten())\n",
        "model.add(Activation('softmax'))\n",
        "model.summary()"
      ],
      "execution_count": 115,
      "outputs": [
        {
          "output_type": "stream",
          "text": [
            "_________________________________________________________________\n",
            "Layer (type)                 Output Shape              Param #   \n",
            "=================================================================\n",
            "conv2d_71 (Conv2D)           (None, 26, 26, 32)        320       \n",
            "_________________________________________________________________\n",
            "max_pooling2d_35 (MaxPooling (None, 13, 13, 32)        0         \n",
            "_________________________________________________________________\n",
            "conv2d_72 (Conv2D)           (None, 13, 13, 10)        330       \n",
            "_________________________________________________________________\n",
            "max_pooling2d_36 (MaxPooling (None, 6, 6, 10)          0         \n",
            "_________________________________________________________________\n",
            "conv2d_73 (Conv2D)           (None, 6, 6, 10)          110       \n",
            "_________________________________________________________________\n",
            "conv2d_74 (Conv2D)           (None, 1, 1, 10)          3610      \n",
            "_________________________________________________________________\n",
            "flatten_16 (Flatten)         (None, 10)                0         \n",
            "_________________________________________________________________\n",
            "activation_16 (Activation)   (None, 10)                0         \n",
            "=================================================================\n",
            "Total params: 4,370\n",
            "Trainable params: 4,370\n",
            "Non-trainable params: 0\n",
            "_________________________________________________________________\n"
          ],
          "name": "stdout"
        },
        {
          "output_type": "stream",
          "text": [
            "/usr/local/lib/python3.6/dist-packages/ipykernel_launcher.py:5: UserWarning: Update your `Conv2D` call to the Keras 2 API: `Conv2D(32, (3, 3), activation=\"relu\", input_shape=(28, 28, 1...)`\n",
            "  \"\"\"\n",
            "/usr/local/lib/python3.6/dist-packages/ipykernel_launcher.py:7: UserWarning: Update your `Conv2D` call to the Keras 2 API: `Conv2D(10, (1, 1), activation=\"relu\")`\n",
            "  import sys\n",
            "/usr/local/lib/python3.6/dist-packages/ipykernel_launcher.py:9: UserWarning: Update your `Conv2D` call to the Keras 2 API: `Conv2D(10, (1, 1), activation=\"relu\")`\n",
            "  if __name__ == '__main__':\n",
            "/usr/local/lib/python3.6/dist-packages/ipykernel_launcher.py:10: UserWarning: Update your `Conv2D` call to the Keras 2 API: `Conv2D(10, (6, 6))`\n",
            "  # Remove the CWD from sys.path while we load stuff.\n"
          ],
          "name": "stderr"
        }
      ]
    },
    {
      "metadata": {
        "id": "Om8wcHoXUW-W",
        "colab_type": "code",
        "colab": {
          "autoexec": {
            "startup": false,
            "wait_interval": 0
          },
          "base_uri": "https://localhost:8080/",
          "height": 436
        },
        "outputId": "1e44e8a5-ada3-47cc-fdc1-ec5b44129a74",
        "executionInfo": {
          "status": "ok",
          "timestamp": 1525851618885,
          "user_tz": -330,
          "elapsed": 479091,
          "user": {
            "displayName": "Ankita Bhagat",
            "photoUrl": "//lh5.googleusercontent.com/-hBbQJG3EmsY/AAAAAAAAAAI/AAAAAAAAEMc/8aZlpsJaxOI/s50-c-k-no/photo.jpg",
            "userId": "106932527741563015055"
          }
        }
      },
      "cell_type": "code",
      "source": [
        "model.compile(loss='categorical_crossentropy',\n",
        "             optimizer='adam',\n",
        "             metrics=['accuracy'])\n",
        "\n",
        "model.fit(X_train, Y_train, batch_size=32, nb_epoch=10, verbose=1)"
      ],
      "execution_count": 116,
      "outputs": [
        {
          "output_type": "stream",
          "text": [
            "/usr/local/lib/python3.6/dist-packages/keras/models.py:981: UserWarning: The `nb_epoch` argument in `fit` has been renamed `epochs`.\n",
            "  warnings.warn('The `nb_epoch` argument in `fit` '\n"
          ],
          "name": "stderr"
        },
        {
          "output_type": "stream",
          "text": [
            "Epoch 1/10\n",
            "60000/60000 [==============================] - 49s 823us/step - loss: 0.3538 - acc: 0.8928\n",
            "Epoch 2/10\n",
            " 9120/60000 [===>..........................] - ETA: 41s - loss: 0.1301 - acc: 0.9604"
          ],
          "name": "stdout"
        },
        {
          "output_type": "stream",
          "text": [
            "60000/60000 [==============================] - 49s 824us/step - loss: 0.1172 - acc: 0.9643\n",
            "Epoch 3/10\n",
            "17664/60000 [=======>......................] - ETA: 32s - loss: 0.0948 - acc: 0.9715"
          ],
          "name": "stdout"
        },
        {
          "output_type": "stream",
          "text": [
            "60000/60000 [==============================] - 48s 792us/step - loss: 0.0940 - acc: 0.9713\n",
            "Epoch 4/10\n",
            "18752/60000 [========>.....................] - ETA: 42s - loss: 0.0834 - acc: 0.9755"
          ],
          "name": "stdout"
        },
        {
          "output_type": "stream",
          "text": [
            "60000/60000 [==============================] - 54s 902us/step - loss: 0.0785 - acc: 0.9755\n",
            "Epoch 5/10\n",
            "22816/60000 [==========>...................] - ETA: 28s - loss: 0.0712 - acc: 0.9787"
          ],
          "name": "stdout"
        },
        {
          "output_type": "stream",
          "text": [
            "60000/60000 [==============================] - 47s 779us/step - loss: 0.0683 - acc: 0.9790\n",
            "Epoch 6/10\n",
            "25056/60000 [===========>..................] - ETA: 26s - loss: 0.0610 - acc: 0.9812"
          ],
          "name": "stdout"
        },
        {
          "output_type": "stream",
          "text": [
            "60000/60000 [==============================] - 47s 780us/step - loss: 0.0615 - acc: 0.9811\n",
            "Epoch 7/10\n",
            "25280/60000 [===========>..................] - ETA: 26s - loss: 0.0558 - acc: 0.9830"
          ],
          "name": "stdout"
        },
        {
          "output_type": "stream",
          "text": [
            "60000/60000 [==============================] - 46s 773us/step - loss: 0.0550 - acc: 0.9835\n",
            "Epoch 8/10\n",
            "26944/60000 [============>.................] - ETA: 25s - loss: 0.0482 - acc: 0.9852"
          ],
          "name": "stdout"
        },
        {
          "output_type": "stream",
          "text": [
            "60000/60000 [==============================] - 46s 768us/step - loss: 0.0511 - acc: 0.9838\n",
            "Epoch 9/10\n",
            "27232/60000 [============>.................] - ETA: 25s - loss: 0.0474 - acc: 0.9854"
          ],
          "name": "stdout"
        },
        {
          "output_type": "stream",
          "text": [
            "60000/60000 [==============================] - 46s 764us/step - loss: 0.0479 - acc: 0.9853\n",
            "Epoch 10/10\n",
            "28224/60000 [=============>................] - ETA: 23s - loss: 0.0434 - acc: 0.9869\b\b\b\b\b\b\b\b\b\b\b\b\b\b\b\b\b\b\b\b\b\b\b\b\b\b\b\b\b\b\b\b\b\b\b\b\b\b\b\b\b\b\b\b\b\b\b\b\b\b\b\b\b\b\b\b\b\b\b\b\b\b\b\b\b\b\b\b\b\b\b\b\b\b\b\b\b\b\b\b\b\b\b\b"
          ],
          "name": "stdout"
        },
        {
          "output_type": "stream",
          "text": [
            "60000/60000 [==============================] - 45s 753us/step - loss: 0.0450 - acc: 0.9863\n"
          ],
          "name": "stdout"
        },
        {
          "output_type": "execute_result",
          "data": {
            "text/plain": [
              "<keras.callbacks.History at 0x7fb872a0f7f0>"
            ]
          },
          "metadata": {
            "tags": []
          },
          "execution_count": 116
        }
      ]
    },
    {
      "metadata": {
        "id": "CF9s8aDYgneO",
        "colab_type": "code",
        "colab": {
          "autoexec": {
            "startup": false,
            "wait_interval": 0
          },
          "base_uri": "https://localhost:8080/",
          "height": 35
        },
        "outputId": "b92d9ee3-c563-4666-bf25-9998b2e3620a",
        "executionInfo": {
          "status": "ok",
          "timestamp": 1525851623281,
          "user_tz": -330,
          "elapsed": 4343,
          "user": {
            "displayName": "Ankita Bhagat",
            "photoUrl": "//lh5.googleusercontent.com/-hBbQJG3EmsY/AAAAAAAAAAI/AAAAAAAAEMc/8aZlpsJaxOI/s50-c-k-no/photo.jpg",
            "userId": "106932527741563015055"
          }
        }
      },
      "cell_type": "code",
      "source": [
        "score = model.evaluate(X_test, Y_test, verbose=0)\n",
        "\n",
        "print(score)"
      ],
      "execution_count": 117,
      "outputs": [
        {
          "output_type": "stream",
          "text": [
            "[0.04824011834450066, 0.985]\n"
          ],
          "name": "stdout"
        }
      ]
    },
    {
      "metadata": {
        "id": "9tvptcn8dxvp",
        "colab_type": "code",
        "colab": {
          "autoexec": {
            "startup": false,
            "wait_interval": 0
          },
          "base_uri": "https://localhost:8080/",
          "height": 141
        },
        "outputId": "30cafd53-5a3d-4601-af2e-ba9f3d6c7cd9",
        "executionInfo": {
          "status": "ok",
          "timestamp": 1525851624330,
          "user_tz": -330,
          "elapsed": 1005,
          "user": {
            "displayName": "Ankita Bhagat",
            "photoUrl": "//lh5.googleusercontent.com/-hBbQJG3EmsY/AAAAAAAAAAI/AAAAAAAAEMc/8aZlpsJaxOI/s50-c-k-no/photo.jpg",
            "userId": "106932527741563015055"
          }
        }
      },
      "cell_type": "code",
      "source": [
        "## MODEL - 3\n",
        "\n",
        "from keras.layers import Activation\n",
        "model = Sequential()\n",
        " \n",
        "model.add(Convolution2D(12, 7, 7, activation='relu', input_shape=(28,28,1)))\n",
        "model.add(MaxPooling2D(pool_size=(2, 2)))\n",
        "\n",
        "model.add(Convolution2D(8, 3, 3, activation='relu'))\n",
        "model.add(MaxPooling2D(pool_size=(2, 2)))\n",
        "model.add(Convolution2D(8, 1, 1, activation='relu'))\n",
        "model.add(Convolution2D(10, 4))\n",
        "model.add(Flatten())\n",
        "model.add(Activation('softmax'))"
      ],
      "execution_count": 118,
      "outputs": [
        {
          "output_type": "stream",
          "text": [
            "/usr/local/lib/python3.6/dist-packages/ipykernel_launcher.py:5: UserWarning: Update your `Conv2D` call to the Keras 2 API: `Conv2D(12, (7, 7), activation=\"relu\", input_shape=(28, 28, 1...)`\n",
            "  \"\"\"\n",
            "/usr/local/lib/python3.6/dist-packages/ipykernel_launcher.py:8: UserWarning: Update your `Conv2D` call to the Keras 2 API: `Conv2D(8, (3, 3), activation=\"relu\")`\n",
            "  \n",
            "/usr/local/lib/python3.6/dist-packages/ipykernel_launcher.py:10: UserWarning: Update your `Conv2D` call to the Keras 2 API: `Conv2D(8, (1, 1), activation=\"relu\")`\n",
            "  # Remove the CWD from sys.path while we load stuff.\n"
          ],
          "name": "stderr"
        }
      ]
    },
    {
      "metadata": {
        "id": "2J_vTyBYGLzx",
        "colab_type": "code",
        "colab": {
          "autoexec": {
            "startup": false,
            "wait_interval": 0
          },
          "base_uri": "https://localhost:8080/",
          "height": 416
        },
        "outputId": "40947479-dac1-4c16-f7d6-bc4f22d75da2",
        "executionInfo": {
          "status": "ok",
          "timestamp": 1525851625392,
          "user_tz": -330,
          "elapsed": 953,
          "user": {
            "displayName": "Ankita Bhagat",
            "photoUrl": "//lh5.googleusercontent.com/-hBbQJG3EmsY/AAAAAAAAAAI/AAAAAAAAEMc/8aZlpsJaxOI/s50-c-k-no/photo.jpg",
            "userId": "106932527741563015055"
          }
        }
      },
      "cell_type": "code",
      "source": [
        "model.summary()"
      ],
      "execution_count": 119,
      "outputs": [
        {
          "output_type": "stream",
          "text": [
            "_________________________________________________________________\n",
            "Layer (type)                 Output Shape              Param #   \n",
            "=================================================================\n",
            "conv2d_75 (Conv2D)           (None, 22, 22, 12)        600       \n",
            "_________________________________________________________________\n",
            "max_pooling2d_37 (MaxPooling (None, 11, 11, 12)        0         \n",
            "_________________________________________________________________\n",
            "conv2d_76 (Conv2D)           (None, 9, 9, 8)           872       \n",
            "_________________________________________________________________\n",
            "max_pooling2d_38 (MaxPooling (None, 4, 4, 8)           0         \n",
            "_________________________________________________________________\n",
            "conv2d_77 (Conv2D)           (None, 4, 4, 8)           72        \n",
            "_________________________________________________________________\n",
            "conv2d_78 (Conv2D)           (None, 1, 1, 10)          1290      \n",
            "_________________________________________________________________\n",
            "flatten_17 (Flatten)         (None, 10)                0         \n",
            "_________________________________________________________________\n",
            "activation_17 (Activation)   (None, 10)                0         \n",
            "=================================================================\n",
            "Total params: 2,834\n",
            "Trainable params: 2,834\n",
            "Non-trainable params: 0\n",
            "_________________________________________________________________\n"
          ],
          "name": "stdout"
        }
      ]
    },
    {
      "metadata": {
        "id": "uFTTXUVWGqtZ",
        "colab_type": "code",
        "colab": {
          "autoexec": {
            "startup": false,
            "wait_interval": 0
          },
          "base_uri": "https://localhost:8080/",
          "height": 436
        },
        "outputId": "832f63c5-965b-4fae-fa07-f31c55fb60b5",
        "executionInfo": {
          "status": "ok",
          "timestamp": 1525852091070,
          "user_tz": -330,
          "elapsed": 465546,
          "user": {
            "displayName": "Ankita Bhagat",
            "photoUrl": "//lh5.googleusercontent.com/-hBbQJG3EmsY/AAAAAAAAAAI/AAAAAAAAEMc/8aZlpsJaxOI/s50-c-k-no/photo.jpg",
            "userId": "106932527741563015055"
          }
        }
      },
      "cell_type": "code",
      "source": [
        "model.compile(loss='categorical_crossentropy',\n",
        "             optimizer='adam',\n",
        "             metrics=['accuracy'])\n",
        "\t\t\t \n",
        "model.fit(X_train, Y_train, batch_size=32, nb_epoch=10, verbose=1)\n"
      ],
      "execution_count": 120,
      "outputs": [
        {
          "output_type": "stream",
          "text": [
            "/usr/local/lib/python3.6/dist-packages/keras/models.py:981: UserWarning: The `nb_epoch` argument in `fit` has been renamed `epochs`.\n",
            "  warnings.warn('The `nb_epoch` argument in `fit` '\n"
          ],
          "name": "stderr"
        },
        {
          "output_type": "stream",
          "text": [
            "Epoch 1/10\n",
            "60000/60000 [==============================] - 47s 783us/step - loss: 0.3380 - acc: 0.8933\n",
            "Epoch 2/10\n",
            "11136/60000 [====>.........................] - ETA: 37s - loss: 0.1328 - acc: 0.9587"
          ],
          "name": "stdout"
        },
        {
          "output_type": "stream",
          "text": [
            "60000/60000 [==============================] - 46s 765us/step - loss: 0.1205 - acc: 0.9628\n",
            "Epoch 3/10\n",
            "21952/60000 [=========>....................] - ETA: 28s - loss: 0.0990 - acc: 0.9701"
          ],
          "name": "stdout"
        },
        {
          "output_type": "stream",
          "text": [
            "60000/60000 [==============================] - 45s 756us/step - loss: 0.0961 - acc: 0.9707\n",
            "Epoch 4/10\n",
            "25408/60000 [===========>..................] - ETA: 26s - loss: 0.0837 - acc: 0.9749"
          ],
          "name": "stdout"
        },
        {
          "output_type": "stream",
          "text": [
            "60000/60000 [==============================] - 48s 801us/step - loss: 0.0803 - acc: 0.9751\n",
            "Epoch 5/10\n",
            "23616/60000 [==========>...................] - ETA: 34s - loss: 0.0715 - acc: 0.9782"
          ],
          "name": "stdout"
        },
        {
          "output_type": "stream",
          "text": [
            "60000/60000 [==============================] - 50s 834us/step - loss: 0.0716 - acc: 0.9785\n",
            "Epoch 6/10\n",
            "27328/60000 [============>.................] - ETA: 24s - loss: 0.0676 - acc: 0.9795"
          ],
          "name": "stdout"
        },
        {
          "output_type": "stream",
          "text": [
            "60000/60000 [==============================] - 45s 758us/step - loss: 0.0651 - acc: 0.9800\n",
            "Epoch 7/10\n",
            "27744/60000 [============>.................] - ETA: 24s - loss: 0.0591 - acc: 0.9827"
          ],
          "name": "stdout"
        },
        {
          "output_type": "stream",
          "text": [
            "60000/60000 [==============================] - 46s 761us/step - loss: 0.0596 - acc: 0.9818\n",
            "Epoch 8/10\n",
            "28736/60000 [=============>................] - ETA: 23s - loss: 0.0555 - acc: 0.9829"
          ],
          "name": "stdout"
        },
        {
          "output_type": "stream",
          "text": [
            "60000/60000 [==============================] - 45s 750us/step - loss: 0.0542 - acc: 0.9828\n",
            "Epoch 9/10\n",
            "29216/60000 [=============>................] - ETA: 23s - loss: 0.0502 - acc: 0.9838"
          ],
          "name": "stdout"
        },
        {
          "output_type": "stream",
          "text": [
            "60000/60000 [==============================] - 46s 766us/step - loss: 0.0520 - acc: 0.9837\n",
            "Epoch 10/10\n",
            "29152/60000 [=============>................] - ETA: 23s - loss: 0.0470 - acc: 0.9851"
          ],
          "name": "stdout"
        },
        {
          "output_type": "stream",
          "text": [
            "60000/60000 [==============================] - 45s 754us/step - loss: 0.0482 - acc: 0.9844\n"
          ],
          "name": "stdout"
        },
        {
          "output_type": "execute_result",
          "data": {
            "text/plain": [
              "<keras.callbacks.History at 0x7fb8729bdd68>"
            ]
          },
          "metadata": {
            "tags": []
          },
          "execution_count": 120
        }
      ]
    },
    {
      "metadata": {
        "id": "L1KB9ivIIUhM",
        "colab_type": "code",
        "colab": {
          "autoexec": {
            "startup": false,
            "wait_interval": 0
          },
          "base_uri": "https://localhost:8080/",
          "height": 35
        },
        "outputId": "9e97d213-5a12-4d2f-fb82-509f77946043",
        "executionInfo": {
          "status": "ok",
          "timestamp": 1525852095262,
          "user_tz": -330,
          "elapsed": 4134,
          "user": {
            "displayName": "Ankita Bhagat",
            "photoUrl": "//lh5.googleusercontent.com/-hBbQJG3EmsY/AAAAAAAAAAI/AAAAAAAAEMc/8aZlpsJaxOI/s50-c-k-no/photo.jpg",
            "userId": "106932527741563015055"
          }
        }
      },
      "cell_type": "code",
      "source": [
        "score = model.evaluate(X_test, Y_test, verbose=0)\n",
        "\n",
        "print(score)"
      ],
      "execution_count": 121,
      "outputs": [
        {
          "output_type": "stream",
          "text": [
            "[0.0454571135582868, 0.986]\n"
          ],
          "name": "stdout"
        }
      ]
    },
    {
      "metadata": {
        "id": "PwmtWkCvlZjZ",
        "colab_type": "code",
        "colab": {
          "autoexec": {
            "startup": false,
            "wait_interval": 0
          }
        }
      },
      "cell_type": "code",
      "source": [
        "y_pred = model.predict(X_test)"
      ],
      "execution_count": 0,
      "outputs": []
    },
    {
      "metadata": {
        "id": "Ym7iCFBm9uBs",
        "colab_type": "code",
        "colab": {
          "autoexec": {
            "startup": false,
            "wait_interval": 0
          },
          "base_uri": "https://localhost:8080/",
          "height": 347
        },
        "outputId": "8b340dfa-99e5-420f-ee69-58e9bbf39f97",
        "executionInfo": {
          "status": "ok",
          "timestamp": 1525852099913,
          "user_tz": -330,
          "elapsed": 797,
          "user": {
            "displayName": "Ankita Bhagat",
            "photoUrl": "//lh5.googleusercontent.com/-hBbQJG3EmsY/AAAAAAAAAAI/AAAAAAAAEMc/8aZlpsJaxOI/s50-c-k-no/photo.jpg",
            "userId": "106932527741563015055"
          }
        }
      },
      "cell_type": "code",
      "source": [
        "print(y_pred[:9])\n",
        "print(y_test[:9])"
      ],
      "execution_count": 123,
      "outputs": [
        {
          "output_type": "stream",
          "text": [
            "[[6.7217396e-09 6.6142186e-10 2.6989592e-06 2.6600392e-06 1.7450931e-12\n",
            "  2.2511902e-10 8.8664944e-15 9.9999416e-01 4.9007221e-10 4.4558846e-07]\n",
            " [8.9205855e-07 7.7509525e-05 9.9992096e-01 7.0243265e-09 5.1566078e-15\n",
            "  5.3475546e-10 6.5473921e-07 7.8661140e-11 4.7113424e-09 1.2660219e-14]\n",
            " [2.2484569e-06 9.9912578e-01 3.1849850e-05 4.7999686e-07 2.5234607e-04\n",
            "  3.1005296e-05 1.5006721e-06 4.4124413e-04 1.0551663e-04 8.0837581e-06]\n",
            " [9.9995279e-01 1.5534109e-11 2.9693510e-07 3.3153896e-10 1.8961329e-08\n",
            "  9.6050838e-09 3.2832322e-05 5.1336171e-09 1.0172252e-08 1.4089030e-05]\n",
            " [1.2919771e-10 5.7092842e-10 3.3798029e-09 7.9152024e-08 9.9980444e-01\n",
            "  1.1669375e-09 9.7716626e-11 1.1321575e-06 7.7688442e-09 1.9444065e-04]\n",
            " [1.3011175e-06 9.9960834e-01 7.4265267e-06 3.3647414e-08 7.0267532e-05\n",
            "  3.6151018e-06 7.6274567e-08 2.8771546e-04 8.8134511e-06 1.2441528e-05]\n",
            " [2.1225938e-13 3.8276404e-08 5.3499313e-08 3.4530885e-08 9.9997711e-01\n",
            "  2.3478526e-06 8.2278905e-13 2.5572260e-07 1.4533970e-05 5.6429903e-06]\n",
            " [9.7466546e-10 1.6520280e-08 9.7768213e-07 9.2289156e-06 7.5942400e-05\n",
            "  9.9094568e-06 3.9975740e-12 8.5072585e-08 2.4692019e-05 9.9987912e-01]\n",
            " [3.1554737e-10 5.6720611e-11 2.7645729e-08 1.7614370e-08 1.4710902e-08\n",
            "  9.9995673e-01 2.2508972e-05 4.6603677e-06 1.3983284e-05 2.1175804e-06]]\n",
            "[7 2 1 0 4 1 4 9 5]\n"
          ],
          "name": "stdout"
        }
      ]
    },
    {
      "metadata": {
        "id": "CT--y98_dr2T",
        "colab_type": "code",
        "colab": {
          "autoexec": {
            "startup": false,
            "wait_interval": 0
          }
        }
      },
      "cell_type": "code",
      "source": [
        "layer_dict = dict([(layer.name, layer) for layer in model.layers])"
      ],
      "execution_count": 0,
      "outputs": []
    },
    {
      "metadata": {
        "id": "2GY4Upv4dsUR",
        "colab_type": "code",
        "colab": {
          "autoexec": {
            "startup": false,
            "wait_interval": 0
          },
          "base_uri": "https://localhost:8080/",
          "height": 322
        },
        "outputId": "14bf8b37-4787-4821-bbc1-a6be1111fb5e",
        "executionInfo": {
          "status": "error",
          "timestamp": 1525852102300,
          "user_tz": -330,
          "elapsed": 983,
          "user": {
            "displayName": "Ankita Bhagat",
            "photoUrl": "//lh5.googleusercontent.com/-hBbQJG3EmsY/AAAAAAAAAAI/AAAAAAAAEMc/8aZlpsJaxOI/s50-c-k-no/photo.jpg",
            "userId": "106932527741563015055"
          }
        }
      },
      "cell_type": "code",
      "source": [
        "import numpy as np\n",
        "from matplotlib import pyplot as plt\n",
        "from keras import backend as K\n",
        "%matplotlib inline\n",
        "# util function to convert a tensor into a valid image\n",
        "def deprocess_image(x):\n",
        "    # normalize tensor: center on 0., ensure std is 0.1\n",
        "    x -= x.mean()\n",
        "    x /= (x.std() + 1e-5)\n",
        "    x *= 0.1\n",
        "\n",
        "    # clip to [0, 1]\n",
        "    x += 0.5\n",
        "    x = np.clip(x, 0, 1)\n",
        "\n",
        "    # convert to RGB array\n",
        "    x *= 255\n",
        "    #x = x.transpose((1, 2, 0))\n",
        "    x = np.clip(x, 0, 255).astype('uint8')\n",
        "    return x\n",
        "\n",
        "def vis_img_in_filter(img = np.array(X_train[2]).reshape((1, 28, 28, 1)).astype(np.float64), \n",
        "                      layer_name = 'conv2d_14'):\n",
        "    layer_output = layer_dict[layer_name].output\n",
        "    img_ascs = list()\n",
        "    for filter_index in range(layer_output.shape[3]):\n",
        "        # build a loss function that maximizes the activation\n",
        "        # of the nth filter of the layer considered\n",
        "        loss = K.mean(layer_output[:, :, :, filter_index])\n",
        "\n",
        "        # compute the gradient of the input picture wrt this loss\n",
        "        grads = K.gradients(loss, model.input)[0]\n",
        "\n",
        "        # normalization trick: we normalize the gradient\n",
        "        grads /= (K.sqrt(K.mean(K.square(grads))) + 1e-5)\n",
        "\n",
        "        # this function returns the loss and grads given the input picture\n",
        "        iterate = K.function([model.input], [loss, grads])\n",
        "\n",
        "        # step size for gradient ascent\n",
        "        step = 5.\n",
        "\n",
        "        img_asc = np.array(img)\n",
        "        # run gradient ascent for 20 steps\n",
        "        for i in range(20):\n",
        "            loss_value, grads_value = iterate([img_asc])\n",
        "            img_asc += grads_value * step\n",
        "\n",
        "        img_asc = img_asc[0]\n",
        "        img_ascs.append(deprocess_image(img_asc).reshape((28, 28)))\n",
        "        \n",
        "    if layer_output.shape[3] >= 35:\n",
        "        plot_x, plot_y = 6, 6\n",
        "    elif layer_output.shape[3] >= 23:\n",
        "        plot_x, plot_y = 4, 6\n",
        "    elif layer_output.shape[3] >= 11:\n",
        "        plot_x, plot_y = 2, 6\n",
        "    else:\n",
        "        plot_x, plot_y = 1, 2\n",
        "    fig, ax = plt.subplots(plot_x, plot_y, figsize = (12, 12))\n",
        "    ax[0, 0].imshow(img.reshape((28, 28)), cmap = 'gray')\n",
        "    ax[0, 0].set_title('Input image')\n",
        "    fig.suptitle('Input image and %s filters' % (layer_name,))\n",
        "    fig.tight_layout(pad = 0.3, rect = [0, 0, 0.9, 0.9])\n",
        "    for (x, y) in [(i, j) for i in range(plot_x) for j in range(plot_y)]:\n",
        "        if x == 0 and y == 0:\n",
        "            continue\n",
        "        ax[x, y].imshow(img_ascs[x * plot_y + y - 1], cmap = 'gray')\n",
        "        ax[x, y].set_title('filter %d' % (x * plot_y + y - 1))\n",
        "\n",
        "vis_img_in_filter()"
      ],
      "execution_count": 125,
      "outputs": [
        {
          "output_type": "error",
          "ename": "KeyError",
          "evalue": "ignored",
          "traceback": [
            "\u001b[0;31m---------------------------------------------------------------------------\u001b[0m",
            "\u001b[0;31mKeyError\u001b[0m                                  Traceback (most recent call last)",
            "\u001b[0;32m<ipython-input-125-19229f66b51a>\u001b[0m in \u001b[0;36m<module>\u001b[0;34m()\u001b[0m\n\u001b[1;32m     69\u001b[0m         \u001b[0max\u001b[0m\u001b[0;34m[\u001b[0m\u001b[0mx\u001b[0m\u001b[0;34m,\u001b[0m \u001b[0my\u001b[0m\u001b[0;34m]\u001b[0m\u001b[0;34m.\u001b[0m\u001b[0mset_title\u001b[0m\u001b[0;34m(\u001b[0m\u001b[0;34m'filter %d'\u001b[0m \u001b[0;34m%\u001b[0m \u001b[0;34m(\u001b[0m\u001b[0mx\u001b[0m \u001b[0;34m*\u001b[0m \u001b[0mplot_y\u001b[0m \u001b[0;34m+\u001b[0m \u001b[0my\u001b[0m \u001b[0;34m-\u001b[0m \u001b[0;36m1\u001b[0m\u001b[0;34m)\u001b[0m\u001b[0;34m)\u001b[0m\u001b[0;34m\u001b[0m\u001b[0m\n\u001b[1;32m     70\u001b[0m \u001b[0;34m\u001b[0m\u001b[0m\n\u001b[0;32m---> 71\u001b[0;31m \u001b[0mvis_img_in_filter\u001b[0m\u001b[0;34m(\u001b[0m\u001b[0;34m)\u001b[0m\u001b[0;34m\u001b[0m\u001b[0m\n\u001b[0m",
            "\u001b[0;32m<ipython-input-125-19229f66b51a>\u001b[0m in \u001b[0;36mvis_img_in_filter\u001b[0;34m(img, layer_name)\u001b[0m\n\u001b[1;32m     22\u001b[0m def vis_img_in_filter(img = np.array(X_train[2]).reshape((1, 28, 28, 1)).astype(np.float64), \n\u001b[1;32m     23\u001b[0m                       layer_name = 'conv2d_14'):\n\u001b[0;32m---> 24\u001b[0;31m     \u001b[0mlayer_output\u001b[0m \u001b[0;34m=\u001b[0m \u001b[0mlayer_dict\u001b[0m\u001b[0;34m[\u001b[0m\u001b[0mlayer_name\u001b[0m\u001b[0;34m]\u001b[0m\u001b[0;34m.\u001b[0m\u001b[0moutput\u001b[0m\u001b[0;34m\u001b[0m\u001b[0m\n\u001b[0m\u001b[1;32m     25\u001b[0m     \u001b[0mimg_ascs\u001b[0m \u001b[0;34m=\u001b[0m \u001b[0mlist\u001b[0m\u001b[0;34m(\u001b[0m\u001b[0;34m)\u001b[0m\u001b[0;34m\u001b[0m\u001b[0m\n\u001b[1;32m     26\u001b[0m     \u001b[0;32mfor\u001b[0m \u001b[0mfilter_index\u001b[0m \u001b[0;32min\u001b[0m \u001b[0mrange\u001b[0m\u001b[0;34m(\u001b[0m\u001b[0mlayer_output\u001b[0m\u001b[0;34m.\u001b[0m\u001b[0mshape\u001b[0m\u001b[0;34m[\u001b[0m\u001b[0;36m3\u001b[0m\u001b[0;34m]\u001b[0m\u001b[0;34m)\u001b[0m\u001b[0;34m:\u001b[0m\u001b[0;34m\u001b[0m\u001b[0m\n",
            "\u001b[0;31mKeyError\u001b[0m: 'conv2d_14'"
          ]
        }
      ]
    }
  ]
}