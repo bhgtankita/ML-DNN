{
  "nbformat": 4,
  "nbformat_minor": 0,
  "metadata": {
    "colab": {
      "name": "ANKITA_BATCH_4_ASSIGNMENT4A.ipynb",
      "version": "0.3.2",
      "views": {},
      "default_view": {},
      "provenance": [
        {
          "file_id": "1gZYwZdkgXBJRr624SqWJ9f452BmKNkNT",
          "timestamp": 1525620578583
        },
        {
          "file_id": "1JURGwe4e5Z7928Zv2eiJVPCQNc702huM",
          "timestamp": 1521864568638
        }
      ],
      "collapsed_sections": []
    },
    "kernelspec": {
      "name": "python3",
      "display_name": "Python 3"
    },
    "accelerator": "GPU"
  },
  "cells": [
    {
      "metadata": {
        "id": "aNyZv-Ec52ot",
        "colab_type": "text"
      },
      "cell_type": "markdown",
      "source": [
        "# **Import Libraries and modules**"
      ]
    },
    {
      "metadata": {
        "id": "VeV1VJDBKlJj",
        "colab_type": "text"
      },
      "cell_type": "markdown",
      "source": [
        "**Model 1:**\n",
        "\n",
        "*   Number of Parameters : 1533\n",
        "*   Accuracy : 97.46%\n",
        "\n",
        "**Model 2:**\n",
        "\n",
        "*   Number of Parameters : 4370\n",
        "*   Accuracy : 98.50%\n",
        "\n",
        "**Model 3:**\n",
        "\n",
        "*   Number of Parameters : 2834\n",
        "*   Accuracy : 98.60%"
      ]
    },
    {
      "metadata": {
        "id": "3m3w1Cw49Zkt",
        "colab_type": "code",
        "colab": {
          "autoexec": {
            "startup": false,
            "wait_interval": 0
          },
          "base_uri": "https://localhost:8080/",
          "height": 33
        },
        "outputId": "dc9f4502-e617-41c9-d786-ab7321ecd16a",
        "executionInfo": {
          "status": "ok",
          "timestamp": 1528812580155,
          "user_tz": -330,
          "elapsed": 10484,
          "user": {
            "displayName": "Ankita Bhagat",
            "photoUrl": "//lh5.googleusercontent.com/-hBbQJG3EmsY/AAAAAAAAAAI/AAAAAAAAEMc/8aZlpsJaxOI/s50-c-k-no/photo.jpg",
            "userId": "106932527741563015055"
          }
        }
      },
      "cell_type": "code",
      "source": [
        "# https://keras.io/\n",
        "!pip install -q keras\n",
        "import keras"
      ],
      "execution_count": 1,
      "outputs": [
        {
          "output_type": "stream",
          "text": [
            "Using TensorFlow backend.\n"
          ],
          "name": "stderr"
        }
      ]
    },
    {
      "metadata": {
        "id": "Eso6UHE080D4",
        "colab_type": "code",
        "colab": {
          "autoexec": {
            "startup": false,
            "wait_interval": 0
          }
        }
      },
      "cell_type": "code",
      "source": [
        "import numpy as np\n",
        "\n",
        "from keras.models import Sequential\n",
        "from keras.layers import Dense, Dropout, Activation, Flatten, Add\n",
        "from keras.layers import Convolution2D, MaxPooling2D\n",
        "from keras.utils import np_utils\n",
        "\n",
        "from keras.datasets import mnist"
      ],
      "execution_count": 0,
      "outputs": []
    },
    {
      "metadata": {
        "id": "zByEi95J86RD",
        "colab_type": "text"
      },
      "cell_type": "markdown",
      "source": [
        "### Load pre-shuffled MNIST data into train and test sets"
      ]
    },
    {
      "metadata": {
        "id": "7eRM0QWN83PV",
        "colab_type": "code",
        "colab": {
          "autoexec": {
            "startup": false,
            "wait_interval": 0
          },
          "base_uri": "https://localhost:8080/",
          "height": 50
        },
        "outputId": "eb9ed474-1239-468e-ae76-c19f38ff24e7",
        "executionInfo": {
          "status": "ok",
          "timestamp": 1528812585891,
          "user_tz": -330,
          "elapsed": 4540,
          "user": {
            "displayName": "Ankita Bhagat",
            "photoUrl": "//lh5.googleusercontent.com/-hBbQJG3EmsY/AAAAAAAAAAI/AAAAAAAAEMc/8aZlpsJaxOI/s50-c-k-no/photo.jpg",
            "userId": "106932527741563015055"
          }
        }
      },
      "cell_type": "code",
      "source": [
        "(X_train, y_train), (X_test, y_test) = mnist.load_data()"
      ],
      "execution_count": 3,
      "outputs": [
        {
          "output_type": "stream",
          "text": [
            "Downloading data from https://s3.amazonaws.com/img-datasets/mnist.npz\n",
            "11493376/11490434 [==============================] - 3s 0us/step\n"
          ],
          "name": "stdout"
        }
      ]
    },
    {
      "metadata": {
        "id": "4a4Be72j8-ZC",
        "colab_type": "code",
        "colab": {
          "autoexec": {
            "startup": false,
            "wait_interval": 0
          },
          "base_uri": "https://localhost:8080/",
          "height": 298
        },
        "outputId": "abe65015-3388-40c5-985f-6c4f064a3057",
        "executionInfo": {
          "status": "ok",
          "timestamp": 1528812587129,
          "user_tz": -330,
          "elapsed": 1134,
          "user": {
            "displayName": "Ankita Bhagat",
            "photoUrl": "//lh5.googleusercontent.com/-hBbQJG3EmsY/AAAAAAAAAAI/AAAAAAAAEMc/8aZlpsJaxOI/s50-c-k-no/photo.jpg",
            "userId": "106932527741563015055"
          }
        }
      },
      "cell_type": "code",
      "source": [
        "print (X_train.shape)\n",
        "from matplotlib import pyplot as plt\n",
        "%matplotlib inline\n",
        "plt.imshow(X_train[0])"
      ],
      "execution_count": 4,
      "outputs": [
        {
          "output_type": "stream",
          "text": [
            "(60000, 28, 28)\n"
          ],
          "name": "stdout"
        },
        {
          "output_type": "execute_result",
          "data": {
            "text/plain": [
              "<matplotlib.image.AxesImage at 0x7f62eed6b438>"
            ]
          },
          "metadata": {
            "tags": []
          },
          "execution_count": 4
        },
        {
          "output_type": "display_data",
          "data": {
            "image/png": "[encoded data removed]",
            "text/plain": [
              "<matplotlib.figure.Figure at 0x7f632dadfac8>"
            ]
          },
          "metadata": {
            "tags": []
          }
        }
      ]
    },
    {
      "metadata": {
        "id": "dkmprriw9AnZ",
        "colab_type": "code",
        "colab": {
          "autoexec": {
            "startup": false,
            "wait_interval": 0
          }
        }
      },
      "cell_type": "code",
      "source": [
        "X_train = X_train.reshape(X_train.shape[0], 28, 28,1)\n",
        "X_test = X_test.reshape(X_test.shape[0], 28, 28,1)"
      ],
      "execution_count": 0,
      "outputs": []
    },
    {
      "metadata": {
        "id": "X2m4YS4E9CRh",
        "colab_type": "code",
        "colab": {
          "autoexec": {
            "startup": false,
            "wait_interval": 0
          }
        }
      },
      "cell_type": "code",
      "source": [
        "X_train = X_train.astype('float32')\n",
        "X_test = X_test.astype('float32')\n",
        "X_train /= 255\n",
        "X_test /= 255"
      ],
      "execution_count": 0,
      "outputs": []
    },
    {
      "metadata": {
        "id": "0Mn0vAYD9DvB",
        "colab_type": "code",
        "colab": {
          "autoexec": {
            "startup": false,
            "wait_interval": 0
          },
          "base_uri": "https://localhost:8080/",
          "height": 33
        },
        "outputId": "8301436c-c471-4d27-f03e-7e477beb5905",
        "executionInfo": {
          "status": "ok",
          "timestamp": 1528812593093,
          "user_tz": -330,
          "elapsed": 1281,
          "user": {
            "displayName": "Ankita Bhagat",
            "photoUrl": "//lh5.googleusercontent.com/-hBbQJG3EmsY/AAAAAAAAAAI/AAAAAAAAEMc/8aZlpsJaxOI/s50-c-k-no/photo.jpg",
            "userId": "106932527741563015055"
          }
        }
      },
      "cell_type": "code",
      "source": [
        "y_train[:10]"
      ],
      "execution_count": 7,
      "outputs": [
        {
          "output_type": "execute_result",
          "data": {
            "text/plain": [
              "array([5, 0, 4, 1, 9, 2, 1, 3, 1, 4], dtype=uint8)"
            ]
          },
          "metadata": {
            "tags": []
          },
          "execution_count": 7
        }
      ]
    },
    {
      "metadata": {
        "id": "ZG8JiXR39FHC",
        "colab_type": "code",
        "colab": {
          "autoexec": {
            "startup": false,
            "wait_interval": 0
          }
        }
      },
      "cell_type": "code",
      "source": [
        "# Convert 1-dimensional class arrays to 10-dimensional class matrices\n",
        "Y_train = np_utils.to_categorical(y_train, 10)\n",
        "Y_test = np_utils.to_categorical(y_test, 10)"
      ],
      "execution_count": 0,
      "outputs": []
    },
    {
      "metadata": {
        "id": "fYlFRvKS9HMB",
        "colab_type": "code",
        "colab": {
          "autoexec": {
            "startup": false,
            "wait_interval": 0
          },
          "base_uri": "https://localhost:8080/",
          "height": 183
        },
        "outputId": "798e1dbc-75b4-421c-b816-8267d9d4b059",
        "executionInfo": {
          "status": "ok",
          "timestamp": 1528812596173,
          "user_tz": -330,
          "elapsed": 925,
          "user": {
            "displayName": "Ankita Bhagat",
            "photoUrl": "//lh5.googleusercontent.com/-hBbQJG3EmsY/AAAAAAAAAAI/AAAAAAAAEMc/8aZlpsJaxOI/s50-c-k-no/photo.jpg",
            "userId": "106932527741563015055"
          }
        }
      },
      "cell_type": "code",
      "source": [
        "Y_train[:10]\n"
      ],
      "execution_count": 9,
      "outputs": [
        {
          "output_type": "execute_result",
          "data": {
            "text/plain": [
              "array([[0., 0., 0., 0., 0., 1., 0., 0., 0., 0.],\n",
              "       [1., 0., 0., 0., 0., 0., 0., 0., 0., 0.],\n",
              "       [0., 0., 0., 0., 1., 0., 0., 0., 0., 0.],\n",
              "       [0., 1., 0., 0., 0., 0., 0., 0., 0., 0.],\n",
              "       [0., 0., 0., 0., 0., 0., 0., 0., 0., 1.],\n",
              "       [0., 0., 1., 0., 0., 0., 0., 0., 0., 0.],\n",
              "       [0., 1., 0., 0., 0., 0., 0., 0., 0., 0.],\n",
              "       [0., 0., 0., 1., 0., 0., 0., 0., 0., 0.],\n",
              "       [0., 1., 0., 0., 0., 0., 0., 0., 0., 0.],\n",
              "       [0., 0., 0., 0., 1., 0., 0., 0., 0., 0.]], dtype=float32)"
            ]
          },
          "metadata": {
            "tags": []
          },
          "execution_count": 9
        }
      ]
    },
    {
      "metadata": {
        "id": "osKqT73Q9JJB",
        "colab_type": "code",
        "colab": {
          "autoexec": {
            "startup": false,
            "wait_interval": 0
          },
          "base_uri": "https://localhost:8080/",
          "height": 141
        },
        "outputId": "9d3b85d0-ba53-4d73-d7c6-c8a568294411",
        "executionInfo": {
          "status": "ok",
          "timestamp": 1525850664309,
          "user_tz": -330,
          "elapsed": 1063,
          "user": {
            "displayName": "Ankita Bhagat",
            "photoUrl": "//lh5.googleusercontent.com/-hBbQJG3EmsY/AAAAAAAAAAI/AAAAAAAAEMc/8aZlpsJaxOI/s50-c-k-no/photo.jpg",
            "userId": "106932527741563015055"
          }
        }
      },
      "cell_type": "code",
      "source": [
        "## MODEL - 1\n",
        "\n",
        "from keras.layers import Activation\n",
        "model = Sequential()\n",
        " \n",
        "model.add(Convolution2D(32, 3, 3, activation='relu', input_shape=(28,28,1)))\n",
        "model.add(MaxPooling2D(pool_size=(2, 2)))\n",
        "model.add(Convolution2D(12, 1, 1, activation='relu'))\n",
        "model.add(MaxPooling2D(pool_size=(2, 2)))\n",
        "model.add(Convolution2D(3, 3, 3, activation='relu'))\n",
        "model.add(Convolution2D(10, 4))\n",
        "model.add(Flatten())\n",
        "model.add(Activation('softmax'))"
      ],
      "execution_count": 110,
      "outputs": [
        {
          "output_type": "stream",
          "text": [
            "/usr/local/lib/python3.6/dist-packages/ipykernel_launcher.py:5: UserWarning: Update your `Conv2D` call to the Keras 2 API: `Conv2D(32, (3, 3), activation=\"relu\", input_shape=(28, 28, 1...)`\n",
            "  \"\"\"\n",
            "/usr/local/lib/python3.6/dist-packages/ipykernel_launcher.py:7: UserWarning: Update your `Conv2D` call to the Keras 2 API: `Conv2D(12, (1, 1), activation=\"relu\")`\n",
            "  import sys\n",
            "/usr/local/lib/python3.6/dist-packages/ipykernel_launcher.py:9: UserWarning: Update your `Conv2D` call to the Keras 2 API: `Conv2D(3, (3, 3), activation=\"relu\")`\n",
            "  if __name__ == '__main__':\n"
          ],
          "name": "stderr"
        }
      ]
    },
    {
      "metadata": {
        "id": "TzdAYg1k9K7Z",
        "colab_type": "code",
        "colab": {
          "autoexec": {
            "startup": false,
            "wait_interval": 0
          },
          "base_uri": "https://localhost:8080/",
          "height": 416
        },
        "outputId": "3e504940-2707-42f2-9a2d-d40048c8d6c3",
        "executionInfo": {
          "status": "ok",
          "timestamp": 1525850665419,
          "user_tz": -330,
          "elapsed": 990,
          "user": {
            "displayName": "Ankita Bhagat",
            "photoUrl": "//lh5.googleusercontent.com/-hBbQJG3EmsY/AAAAAAAAAAI/AAAAAAAAEMc/8aZlpsJaxOI/s50-c-k-no/photo.jpg",
            "userId": "106932527741563015055"
          }
        }
      },
      "cell_type": "code",
      "source": [
        "model.summary()"
      ],
      "execution_count": 111,
      "outputs": [
        {
          "output_type": "stream",
          "text": [
            "_________________________________________________________________\n",
            "Layer (type)                 Output Shape              Param #   \n",
            "=================================================================\n",
            "conv2d_67 (Conv2D)           (None, 26, 26, 32)        320       \n",
            "_________________________________________________________________\n",
            "max_pooling2d_33 (MaxPooling (None, 13, 13, 32)        0         \n",
            "_________________________________________________________________\n",
            "conv2d_68 (Conv2D)           (None, 13, 13, 12)        396       \n",
            "_________________________________________________________________\n",
            "max_pooling2d_34 (MaxPooling (None, 6, 6, 12)          0         \n",
            "_________________________________________________________________\n",
            "conv2d_69 (Conv2D)           (None, 4, 4, 3)           327       \n",
            "_________________________________________________________________\n",
            "conv2d_70 (Conv2D)           (None, 1, 1, 10)          490       \n",
            "_________________________________________________________________\n",
            "flatten_15 (Flatten)         (None, 10)                0         \n",
            "_________________________________________________________________\n",
            "activation_15 (Activation)   (None, 10)                0         \n",
            "=================================================================\n",
            "Total params: 1,533\n",
            "Trainable params: 1,533\n",
            "Non-trainable params: 0\n",
            "_________________________________________________________________\n"
          ],
          "name": "stdout"
        }
      ]
    },
    {
      "metadata": {
        "id": "Zp6SuGrL9M3h",
        "colab_type": "code",
        "colab": {
          "autoexec": {
            "startup": false,
            "wait_interval": 0
          }
        }
      },
      "cell_type": "code",
      "source": [
        "model.compile(loss='categorical_crossentropy',\n",
        "             optimizer='adam',\n",
        "             metrics=['accuracy'])"
      ],
      "execution_count": 0,
      "outputs": []
    },
    {
      "metadata": {
        "id": "4xWoKhPY9Of5",
        "colab_type": "code",
        "colab": {
          "autoexec": {
            "startup": false,
            "wait_interval": 0
          },
          "base_uri": "https://localhost:8080/",
          "height": 436
        },
        "outputId": "be9f8d8a-927a-48b9-e5b4-166ec51651a1",
        "executionInfo": {
          "status": "ok",
          "timestamp": 1525851134582,
          "user_tz": -330,
          "elapsed": 468002,
          "user": {
            "displayName": "Ankita Bhagat",
            "photoUrl": "//lh5.googleusercontent.com/-hBbQJG3EmsY/AAAAAAAAAAI/AAAAAAAAEMc/8aZlpsJaxOI/s50-c-k-no/photo.jpg",
            "userId": "106932527741563015055"
          }
        }
      },
      "cell_type": "code",
      "source": [
        "model.fit(X_train, Y_train, batch_size=32, nb_epoch=10, verbose=1)"
      ],
      "execution_count": 113,
      "outputs": [
        {
          "output_type": "stream",
          "text": [
            "/usr/local/lib/python3.6/dist-packages/keras/models.py:981: UserWarning: The `nb_epoch` argument in `fit` has been renamed `epochs`.\n",
            "  warnings.warn('The `nb_epoch` argument in `fit` '\n"
          ],
          "name": "stderr"
        },
        {
          "output_type": "stream",
          "text": [
            "Epoch 1/10\n",
            "60000/60000 [==============================] - 48s 793us/step - loss: 0.4038 - acc: 0.8767\n",
            "Epoch 2/10\n",
            "10656/60000 [====>.........................] - ETA: 37s - loss: 0.1759 - acc: 0.9458"
          ],
          "name": "stdout"
        },
        {
          "output_type": "stream",
          "text": [
            "60000/60000 [==============================] - 46s 770us/step - loss: 0.1585 - acc: 0.9516\n",
            "Epoch 3/10\n",
            "18048/60000 [========>.....................] - ETA: 40s - loss: 0.1318 - acc: 0.9596"
          ],
          "name": "stdout"
        },
        {
          "output_type": "stream",
          "text": [
            "60000/60000 [==============================] - 53s 876us/step - loss: 0.1334 - acc: 0.9591\n",
            "Epoch 4/10\n",
            "22880/60000 [==========>...................] - ETA: 28s - loss: 0.1212 - acc: 0.9625"
          ],
          "name": "stdout"
        },
        {
          "output_type": "stream",
          "text": [
            "60000/60000 [==============================] - 46s 770us/step - loss: 0.1194 - acc: 0.9634\n",
            "Epoch 5/10\n",
            "25248/60000 [===========>..................] - ETA: 27s - loss: 0.1091 - acc: 0.9670"
          ],
          "name": "stdout"
        },
        {
          "output_type": "stream",
          "text": [
            "60000/60000 [==============================] - 46s 762us/step - loss: 0.1105 - acc: 0.9662\n",
            "Epoch 6/10\n",
            "27200/60000 [============>.................] - ETA: 24s - loss: 0.1019 - acc: 0.9689"
          ],
          "name": "stdout"
        },
        {
          "output_type": "stream",
          "text": [
            "60000/60000 [==============================] - 45s 757us/step - loss: 0.1026 - acc: 0.9685\n",
            "Epoch 7/10\n",
            "28736/60000 [=============>................] - ETA: 23s - loss: 0.0975 - acc: 0.9698"
          ],
          "name": "stdout"
        },
        {
          "output_type": "stream",
          "text": [
            "60000/60000 [==============================] - 45s 743us/step - loss: 0.0977 - acc: 0.9696\n",
            "Epoch 8/10\n",
            "29216/60000 [=============>................] - ETA: 23s - loss: 0.0956 - acc: 0.9706"
          ],
          "name": "stdout"
        },
        {
          "output_type": "stream",
          "text": [
            "60000/60000 [==============================] - 45s 745us/step - loss: 0.0925 - acc: 0.9717\n",
            "Epoch 9/10\n",
            "29248/60000 [=============>................] - ETA: 23s - loss: 0.0877 - acc: 0.9729"
          ],
          "name": "stdout"
        },
        {
          "output_type": "stream",
          "text": [
            "60000/60000 [==============================] - 46s 771us/step - loss: 0.0889 - acc: 0.9718\n",
            "Epoch 10/10\n",
            "28096/60000 [=============>................] - ETA: 24s - loss: 0.0853 - acc: 0.9726"
          ],
          "name": "stdout"
        },
        {
          "output_type": "stream",
          "text": [
            "60000/60000 [==============================] - 47s 787us/step - loss: 0.0844 - acc: 0.9733\n"
          ],
          "name": "stdout"
        },
        {
          "output_type": "execute_result",
          "data": {
            "text/plain": [
              "<keras.callbacks.History at 0x7fb88076c8d0>"
            ]
          },
          "metadata": {
            "tags": []
          },
          "execution_count": 113
        }
      ]
    },
    {
      "metadata": {
        "id": "2J0o9nQcW93x",
        "colab_type": "code",
        "colab": {
          "autoexec": {
            "startup": false,
            "wait_interval": 0
          },
          "base_uri": "https://localhost:8080/",
          "height": 35
        },
        "outputId": "9c7a0d7f-4de5-42a7-cfa2-6bf5b6ed935f",
        "executionInfo": {
          "status": "ok",
          "timestamp": 1525851138605,
          "user_tz": -330,
          "elapsed": 3985,
          "user": {
            "displayName": "Ankita Bhagat",
            "photoUrl": "//lh5.googleusercontent.com/-hBbQJG3EmsY/AAAAAAAAAAI/AAAAAAAAEMc/8aZlpsJaxOI/s50-c-k-no/photo.jpg",
            "userId": "106932527741563015055"
          }
        }
      },
      "cell_type": "code",
      "source": [
        "score = model.evaluate(X_test, Y_test, verbose=0)\n",
        "print(score)"
      ],
      "execution_count": 114,
      "outputs": [
        {
          "output_type": "stream",
          "text": [
            "[0.07810063503249548, 0.9746]\n"
          ],
          "name": "stdout"
        }
      ]
    },
    {
      "metadata": {
        "id": "BtR3xS92UW0H",
        "colab_type": "code",
        "colab": {
          "autoexec": {
            "startup": false,
            "wait_interval": 0
          },
          "base_uri": "https://localhost:8080/",
          "height": 575
        },
        "outputId": "8fea1195-8b65-4954-e9b7-c40c051ba9de",
        "executionInfo": {
          "status": "ok",
          "timestamp": 1525851139684,
          "user_tz": -330,
          "elapsed": 1018,
          "user": {
            "displayName": "Ankita Bhagat",
            "photoUrl": "//lh5.googleusercontent.com/-hBbQJG3EmsY/AAAAAAAAAAI/AAAAAAAAEMc/8aZlpsJaxOI/s50-c-k-no/photo.jpg",
            "userId": "106932527741563015055"
          }
        }
      },
      "cell_type": "code",
      "source": [
        "## MODEL - 2\n",
        "\n",
        "from keras.layers import Activation\n",
        "model = Sequential()\n",
        " \n",
        "model.add(Convolution2D(32, 3, 3, activation='relu', input_shape=(28,28,1)))\n",
        "model.add(MaxPooling2D(pool_size=(2, 2)))\n",
        "model.add(Convolution2D(10, 1, 1, activation='relu'))\n",
        "model.add(MaxPooling2D(pool_size=(2, 2)))\n",
        "model.add(Convolution2D(10, 1, 1, activation='relu'))\n",
        "model.add(Convolution2D(10, 6, 6))\n",
        "model.add(Flatten())\n",
        "model.add(Activation('softmax'))\n",
        "model.summary()"
      ],
      "execution_count": 115,
      "outputs": [
        {
          "output_type": "stream",
          "text": [
            "_________________________________________________________________\n",
            "Layer (type)                 Output Shape              Param #   \n",
            "=================================================================\n",
            "conv2d_71 (Conv2D)           (None, 26, 26, 32)        320       \n",
            "_________________________________________________________________\n",
            "max_pooling2d_35 (MaxPooling (None, 13, 13, 32)        0         \n",
            "_________________________________________________________________\n",
            "conv2d_72 (Conv2D)           (None, 13, 13, 10)        330       \n",
            "_________________________________________________________________\n",
            "max_pooling2d_36 (MaxPooling (None, 6, 6, 10)          0         \n",
            "_________________________________________________________________\n",
            "conv2d_73 (Conv2D)           (None, 6, 6, 10)          110       \n",
            "_________________________________________________________________\n",
            "conv2d_74 (Conv2D)           (None, 1, 1, 10)          3610      \n",
            "_________________________________________________________________\n",
            "flatten_16 (Flatten)         (None, 10)                0         \n",
            "_________________________________________________________________\n",
            "activation_16 (Activation)   (None, 10)                0         \n",
            "=================================================================\n",
            "Total params: 4,370\n",
            "Trainable params: 4,370\n",
            "Non-trainable params: 0\n",
            "_________________________________________________________________\n"
          ],
          "name": "stdout"
        },
        {
          "output_type": "stream",
          "text": [
            "/usr/local/lib/python3.6/dist-packages/ipykernel_launcher.py:5: UserWarning: Update your `Conv2D` call to the Keras 2 API: `Conv2D(32, (3, 3), activation=\"relu\", input_shape=(28, 28, 1...)`\n",
            "  \"\"\"\n",
            "/usr/local/lib/python3.6/dist-packages/ipykernel_launcher.py:7: UserWarning: Update your `Conv2D` call to the Keras 2 API: `Conv2D(10, (1, 1), activation=\"relu\")`\n",
            "  import sys\n",
            "/usr/local/lib/python3.6/dist-packages/ipykernel_launcher.py:9: UserWarning: Update your `Conv2D` call to the Keras 2 API: `Conv2D(10, (1, 1), activation=\"relu\")`\n",
            "  if __name__ == '__main__':\n",
            "/usr/local/lib/python3.6/dist-packages/ipykernel_launcher.py:10: UserWarning: Update your `Conv2D` call to the Keras 2 API: `Conv2D(10, (6, 6))`\n",
            "  # Remove the CWD from sys.path while we load stuff.\n"
          ],
          "name": "stderr"
        }
      ]
    },
    {
      "metadata": {
        "id": "Om8wcHoXUW-W",
        "colab_type": "code",
        "colab": {
          "autoexec": {
            "startup": false,
            "wait_interval": 0
          },
          "base_uri": "https://localhost:8080/",
          "height": 436
        },
        "outputId": "1e44e8a5-ada3-47cc-fdc1-ec5b44129a74",
        "executionInfo": {
          "status": "ok",
          "timestamp": 1525851618885,
          "user_tz": -330,
          "elapsed": 479091,
          "user": {
            "displayName": "Ankita Bhagat",
            "photoUrl": "//lh5.googleusercontent.com/-hBbQJG3EmsY/AAAAAAAAAAI/AAAAAAAAEMc/8aZlpsJaxOI/s50-c-k-no/photo.jpg",
            "userId": "106932527741563015055"
          }
        }
      },
      "cell_type": "code",
      "source": [
        "model.compile(loss='categorical_crossentropy',\n",
        "             optimizer='adam',\n",
        "             metrics=['accuracy'])\n",
        "\n",
        "model.fit(X_train, Y_train, batch_size=32, nb_epoch=10, verbose=1)"
      ],
      "execution_count": 116,
      "outputs": [
        {
          "output_type": "stream",
          "text": [
            "/usr/local/lib/python3.6/dist-packages/keras/models.py:981: UserWarning: The `nb_epoch` argument in `fit` has been renamed `epochs`.\n",
            "  warnings.warn('The `nb_epoch` argument in `fit` '\n"
          ],
          "name": "stderr"
        },
        {
          "output_type": "stream",
          "text": [
            "Epoch 1/10\n",
            "60000/60000 [==============================] - 49s 823us/step - loss: 0.3538 - acc: 0.8928\n",
            "Epoch 2/10\n",
            " 9120/60000 [===>..........................] - ETA: 41s - loss: 0.1301 - acc: 0.9604"
          ],
          "name": "stdout"
        },
        {
          "output_type": "stream",
          "text": [
            "60000/60000 [==============================] - 49s 824us/step - loss: 0.1172 - acc: 0.9643\n",
            "Epoch 3/10\n",
            "17664/60000 [=======>......................] - ETA: 32s - loss: 0.0948 - acc: 0.9715"
          ],
          "name": "stdout"
        },
        {
          "output_type": "stream",
          "text": [
            "60000/60000 [==============================] - 48s 792us/step - loss: 0.0940 - acc: 0.9713\n",
            "Epoch 4/10\n",
            "18752/60000 [========>.....................] - ETA: 42s - loss: 0.0834 - acc: 0.9755"
          ],
          "name": "stdout"
        },
        {
          "output_type": "stream",
          "text": [
            "60000/60000 [==============================] - 54s 902us/step - loss: 0.0785 - acc: 0.9755\n",
            "Epoch 5/10\n",
            "22816/60000 [==========>...................] - ETA: 28s - loss: 0.0712 - acc: 0.9787"
          ],
          "name": "stdout"
        },
        {
          "output_type": "stream",
          "text": [
            "60000/60000 [==============================] - 47s 779us/step - loss: 0.0683 - acc: 0.9790\n",
            "Epoch 6/10\n",
            "25056/60000 [===========>..................] - ETA: 26s - loss: 0.0610 - acc: 0.9812"
          ],
          "name": "stdout"
        },
        {
          "output_type": "stream",
          "text": [
            "60000/60000 [==============================] - 47s 780us/step - loss: 0.0615 - acc: 0.9811\n",
            "Epoch 7/10\n",
            "25280/60000 [===========>..................] - ETA: 26s - loss: 0.0558 - acc: 0.9830"
          ],
          "name": "stdout"
        },
        {
          "output_type": "stream",
          "text": [
            "60000/60000 [==============================] - 46s 773us/step - loss: 0.0550 - acc: 0.9835\n",
            "Epoch 8/10\n",
            "26944/60000 [============>.................] - ETA: 25s - loss: 0.0482 - acc: 0.9852"
          ],
          "name": "stdout"
        },
        {
          "output_type": "stream",
          "text": [
            "60000/60000 [==============================] - 46s 768us/step - loss: 0.0511 - acc: 0.9838\n",
            "Epoch 9/10\n",
            "27232/60000 [============>.................] - ETA: 25s - loss: 0.0474 - acc: 0.9854"
          ],
          "name": "stdout"
        },
        {
          "output_type": "stream",
          "text": [
            "60000/60000 [==============================] - 46s 764us/step - loss: 0.0479 - acc: 0.9853\n",
            "Epoch 10/10\n",
            "28224/60000 [=============>................] - ETA: 23s - loss: 0.0434 - acc: 0.9869\b\b\b\b\b\b\b\b\b\b\b\b\b\b\b\b\b\b\b\b\b\b\b\b\b\b\b\b\b\b\b\b\b\b\b\b\b\b\b\b\b\b\b\b\b\b\b\b\b\b\b\b\b\b\b\b\b\b\b\b\b\b\b\b\b\b\b\b\b\b\b\b\b\b\b\b\b\b\b\b\b\b\b\b"
          ],
          "name": "stdout"
        },
        {
          "output_type": "stream",
          "text": [
            "60000/60000 [==============================] - 45s 753us/step - loss: 0.0450 - acc: 0.9863\n"
          ],
          "name": "stdout"
        },
        {
          "output_type": "execute_result",
          "data": {
            "text/plain": [
              "<keras.callbacks.History at 0x7fb872a0f7f0>"
            ]
          },
          "metadata": {
            "tags": []
          },
          "execution_count": 116
        }
      ]
    },
    {
      "metadata": {
        "id": "CF9s8aDYgneO",
        "colab_type": "code",
        "colab": {
          "autoexec": {
            "startup": false,
            "wait_interval": 0
          },
          "base_uri": "https://localhost:8080/",
          "height": 35
        },
        "outputId": "b92d9ee3-c563-4666-bf25-9998b2e3620a",
        "executionInfo": {
          "status": "ok",
          "timestamp": 1525851623281,
          "user_tz": -330,
          "elapsed": 4343,
          "user": {
            "displayName": "Ankita Bhagat",
            "photoUrl": "//lh5.googleusercontent.com/-hBbQJG3EmsY/AAAAAAAAAAI/AAAAAAAAEMc/8aZlpsJaxOI/s50-c-k-no/photo.jpg",
            "userId": "106932527741563015055"
          }
        }
      },
      "cell_type": "code",
      "source": [
        "score = model.evaluate(X_test, Y_test, verbose=0)\n",
        "\n",
        "print(score)"
      ],
      "execution_count": 117,
      "outputs": [
        {
          "output_type": "stream",
          "text": [
            "[0.04824011834450066, 0.985]\n"
          ],
          "name": "stdout"
        }
      ]
    },
    {
      "metadata": {
        "id": "9tvptcn8dxvp",
        "colab_type": "code",
        "colab": {
          "autoexec": {
            "startup": false,
            "wait_interval": 0
          },
          "base_uri": "https://localhost:8080/",
          "height": 137
        },
        "outputId": "c0cfc2d2-dbc0-4fdc-e34c-89d1037612e4",
        "executionInfo": {
          "status": "ok",
          "timestamp": 1528812597343,
          "user_tz": -330,
          "elapsed": 1067,
          "user": {
            "displayName": "Ankita Bhagat",
            "photoUrl": "//lh5.googleusercontent.com/-hBbQJG3EmsY/AAAAAAAAAAI/AAAAAAAAEMc/8aZlpsJaxOI/s50-c-k-no/photo.jpg",
            "userId": "106932527741563015055"
          }
        }
      },
      "cell_type": "code",
      "source": [
        "## MODEL - 3\n",
        "\n",
        "from keras.layers import Activation\n",
        "model = Sequential()\n",
        " \n",
        "model.add(Convolution2D(12, 7, 7, activation='relu', input_shape=(28,28,1)))\n",
        "model.add(MaxPooling2D(pool_size=(2, 2)))\n",
        "\n",
        "model.add(Convolution2D(8, 3, 3, activation='relu'))\n",
        "model.add(MaxPooling2D(pool_size=(2, 2)))\n",
        "model.add(Convolution2D(8, 1, 1, activation='relu'))\n",
        "model.add(Convolution2D(10, 4))\n",
        "model.add(Flatten())\n",
        "model.add(Activation('softmax'))"
      ],
      "execution_count": 10,
      "outputs": [
        {
          "output_type": "stream",
          "text": [
            "/usr/local/lib/python3.6/dist-packages/ipykernel_launcher.py:5: UserWarning: Update your `Conv2D` call to the Keras 2 API: `Conv2D(12, (7, 7), activation=\"relu\", input_shape=(28, 28, 1...)`\n",
            "  \"\"\"\n",
            "/usr/local/lib/python3.6/dist-packages/ipykernel_launcher.py:8: UserWarning: Update your `Conv2D` call to the Keras 2 API: `Conv2D(8, (3, 3), activation=\"relu\")`\n",
            "  \n",
            "/usr/local/lib/python3.6/dist-packages/ipykernel_launcher.py:10: UserWarning: Update your `Conv2D` call to the Keras 2 API: `Conv2D(8, (1, 1), activation=\"relu\")`\n",
            "  # Remove the CWD from sys.path while we load stuff.\n"
          ],
          "name": "stderr"
        }
      ]
    },
    {
      "metadata": {
        "id": "2J_vTyBYGLzx",
        "colab_type": "code",
        "colab": {
          "autoexec": {
            "startup": false,
            "wait_interval": 0
          },
          "base_uri": "https://localhost:8080/",
          "height": 400
        },
        "outputId": "b9fa15ae-4280-4a81-8800-b4a4b24a7e11",
        "executionInfo": {
          "status": "ok",
          "timestamp": 1528812598518,
          "user_tz": -330,
          "elapsed": 1087,
          "user": {
            "displayName": "Ankita Bhagat",
            "photoUrl": "//lh5.googleusercontent.com/-hBbQJG3EmsY/AAAAAAAAAAI/AAAAAAAAEMc/8aZlpsJaxOI/s50-c-k-no/photo.jpg",
            "userId": "106932527741563015055"
          }
        }
      },
      "cell_type": "code",
      "source": [
        "model.summary()"
      ],
      "execution_count": 11,
      "outputs": [
        {
          "output_type": "stream",
          "text": [
            "_________________________________________________________________\n",
            "Layer (type)                 Output Shape              Param #   \n",
            "=================================================================\n",
            "conv2d_1 (Conv2D)            (None, 22, 22, 12)        600       \n",
            "_________________________________________________________________\n",
            "max_pooling2d_1 (MaxPooling2 (None, 11, 11, 12)        0         \n",
            "_________________________________________________________________\n",
            "conv2d_2 (Conv2D)            (None, 9, 9, 8)           872       \n",
            "_________________________________________________________________\n",
            "max_pooling2d_2 (MaxPooling2 (None, 4, 4, 8)           0         \n",
            "_________________________________________________________________\n",
            "conv2d_3 (Conv2D)            (None, 4, 4, 8)           72        \n",
            "_________________________________________________________________\n",
            "conv2d_4 (Conv2D)            (None, 1, 1, 10)          1290      \n",
            "_________________________________________________________________\n",
            "flatten_1 (Flatten)          (None, 10)                0         \n",
            "_________________________________________________________________\n",
            "activation_1 (Activation)    (None, 10)                0         \n",
            "=================================================================\n",
            "Total params: 2,834\n",
            "Trainable params: 2,834\n",
            "Non-trainable params: 0\n",
            "_________________________________________________________________\n"
          ],
          "name": "stdout"
        }
      ]
    },
    {
      "metadata": {
        "id": "uFTTXUVWGqtZ",
        "colab_type": "code",
        "colab": {
          "autoexec": {
            "startup": false,
            "wait_interval": 0
          },
          "base_uri": "https://localhost:8080/",
          "height": 400
        },
        "outputId": "45fefd7c-80f0-4aa4-f7ab-1ac0ccc14267",
        "executionInfo": {
          "status": "ok",
          "timestamp": 1528812757742,
          "user_tz": -330,
          "elapsed": 159086,
          "user": {
            "displayName": "Ankita Bhagat",
            "photoUrl": "//lh5.googleusercontent.com/-hBbQJG3EmsY/AAAAAAAAAAI/AAAAAAAAEMc/8aZlpsJaxOI/s50-c-k-no/photo.jpg",
            "userId": "106932527741563015055"
          }
        }
      },
      "cell_type": "code",
      "source": [
        "model.compile(loss='categorical_crossentropy',\n",
        "             optimizer='adam',\n",
        "             metrics=['accuracy'])\n",
        "\t\t\t \n",
        "model.fit(X_train, Y_train, batch_size=32, nb_epoch=10, verbose=1)\n"
      ],
      "execution_count": 12,
      "outputs": [
        {
          "output_type": "stream",
          "text": [
            "/usr/local/lib/python3.6/dist-packages/keras/models.py:981: UserWarning: The `nb_epoch` argument in `fit` has been renamed `epochs`.\n",
            "  warnings.warn('The `nb_epoch` argument in `fit` '\n"
          ],
          "name": "stderr"
        },
        {
          "output_type": "stream",
          "text": [
            "Epoch 1/10\n",
            "60000/60000 [==============================] - 17s 289us/step - loss: 0.3323 - acc: 0.8959\n",
            "Epoch 2/10\n",
            "60000/60000 [==============================] - 16s 260us/step - loss: 0.1071 - acc: 0.9669\n",
            "Epoch 3/10\n",
            "10912/60000 [====>.........................] - ETA: 12s - loss: 0.0864 - acc: 0.9741"
          ],
          "name": "stdout"
        },
        {
          "output_type": "stream",
          "text": [
            "60000/60000 [==============================] - 16s 261us/step - loss: 0.0851 - acc: 0.9738\n",
            "Epoch 4/10\n",
            "60000/60000 [==============================] - 15s 256us/step - loss: 0.0721 - acc: 0.9783\n",
            "Epoch 5/10\n",
            "19744/60000 [========>.....................] - ETA: 10s - loss: 0.0658 - acc: 0.9800"
          ],
          "name": "stdout"
        },
        {
          "output_type": "stream",
          "text": [
            "60000/60000 [==============================] - 16s 261us/step - loss: 0.0652 - acc: 0.9797\n",
            "Epoch 6/10\n",
            "60000/60000 [==============================] - 16s 259us/step - loss: 0.0595 - acc: 0.9812\n",
            "Epoch 7/10\n",
            "22400/60000 [==========>...................] - ETA: 9s - loss: 0.0561 - acc: 0.9828"
          ],
          "name": "stdout"
        },
        {
          "output_type": "stream",
          "text": [
            "60000/60000 [==============================] - 16s 259us/step - loss: 0.0558 - acc: 0.9824\n",
            "Epoch 8/10\n",
            "60000/60000 [==============================] - 16s 260us/step - loss: 0.0530 - acc: 0.9834\n",
            "Epoch 9/10\n",
            "22816/60000 [==========>...................] - ETA: 9s - loss: 0.0481 - acc: 0.9853"
          ],
          "name": "stdout"
        },
        {
          "output_type": "stream",
          "text": [
            "60000/60000 [==============================] - 16s 261us/step - loss: 0.0492 - acc: 0.9843\n",
            "Epoch 10/10\n",
            "60000/60000 [==============================] - 16s 260us/step - loss: 0.0461 - acc: 0.9858\n"
          ],
          "name": "stdout"
        },
        {
          "output_type": "execute_result",
          "data": {
            "text/plain": [
              "<keras.callbacks.History at 0x7f62ef201780>"
            ]
          },
          "metadata": {
            "tags": []
          },
          "execution_count": 12
        }
      ]
    },
    {
      "metadata": {
        "id": "L1KB9ivIIUhM",
        "colab_type": "code",
        "colab": {
          "autoexec": {
            "startup": false,
            "wait_interval": 0
          },
          "base_uri": "https://localhost:8080/",
          "height": 33
        },
        "outputId": "c525dcc9-72df-4029-dbaa-a9033c9fd5f5",
        "executionInfo": {
          "status": "ok",
          "timestamp": 1528812759775,
          "user_tz": -330,
          "elapsed": 1847,
          "user": {
            "displayName": "Ankita Bhagat",
            "photoUrl": "//lh5.googleusercontent.com/-hBbQJG3EmsY/AAAAAAAAAAI/AAAAAAAAEMc/8aZlpsJaxOI/s50-c-k-no/photo.jpg",
            "userId": "106932527741563015055"
          }
        }
      },
      "cell_type": "code",
      "source": [
        "score = model.evaluate(X_test, Y_test, verbose=0)\n",
        "\n",
        "print(score)"
      ],
      "execution_count": 13,
      "outputs": [
        {
          "output_type": "stream",
          "text": [
            "[0.04462951899989275, 0.9862]\n"
          ],
          "name": "stdout"
        }
      ]
    },
    {
      "metadata": {
        "id": "PwmtWkCvlZjZ",
        "colab_type": "code",
        "colab": {
          "autoexec": {
            "startup": false,
            "wait_interval": 0
          }
        }
      },
      "cell_type": "code",
      "source": [
        "y_pred = model.predict(X_test)"
      ],
      "execution_count": 0,
      "outputs": []
    },
    {
      "metadata": {
        "id": "Ym7iCFBm9uBs",
        "colab_type": "code",
        "colab": {
          "autoexec": {
            "startup": false,
            "wait_interval": 0
          },
          "base_uri": "https://localhost:8080/",
          "height": 483
        },
        "outputId": "a2b0d51c-5427-4e47-e7d3-f5697ab48097",
        "executionInfo": {
          "status": "ok",
          "timestamp": 1528812763793,
          "user_tz": -330,
          "elapsed": 1197,
          "user": {
            "displayName": "Ankita Bhagat",
            "photoUrl": "//lh5.googleusercontent.com/-hBbQJG3EmsY/AAAAAAAAAAI/AAAAAAAAEMc/8aZlpsJaxOI/s50-c-k-no/photo.jpg",
            "userId": "106932527741563015055"
          }
        }
      },
      "cell_type": "code",
      "source": [
        "print(y_pred[:9])\n",
        "print(y_test[:9])"
      ],
      "execution_count": 15,
      "outputs": [
        {
          "output_type": "stream",
          "text": [
            "[[1.27498732e-08 1.77532897e-07 2.50136727e-05 2.43184368e-05\n",
            "  1.77886816e-10 2.09030304e-09 1.58364562e-15 9.99947906e-01\n",
            "  8.99053063e-08 2.48221704e-06]\n",
            " [6.79737980e-07 4.91632265e-04 9.99505758e-01 7.29788660e-11\n",
            "  2.77344250e-12 6.46877300e-12 1.51817437e-06 3.41114706e-11\n",
            "  3.51823445e-07 4.41324028e-15]\n",
            " [3.98575324e-08 9.99956012e-01 2.12526975e-05 8.40779748e-08\n",
            "  1.62540218e-05 3.95884108e-08 2.31304875e-06 1.11318366e-06\n",
            "  2.92125287e-06 3.19207381e-08]\n",
            " [9.99346912e-01 3.97810083e-12 2.83947185e-04 3.06062620e-10\n",
            "  1.01542524e-11 1.44096603e-07 3.68027977e-04 6.92560009e-09\n",
            "  9.91285219e-07 1.23795116e-08]\n",
            " [1.81682225e-08 2.03864481e-08 8.69667474e-07 8.09497858e-10\n",
            "  9.99959469e-01 3.90033034e-10 4.73924935e-08 3.86018995e-09\n",
            "  1.88862614e-07 3.93486953e-05]\n",
            " [7.45155404e-09 9.99973893e-01 6.19118964e-06 2.33521682e-08\n",
            "  1.47949477e-05 4.66579275e-10 2.94331013e-08 4.05420997e-06\n",
            "  9.13683891e-07 1.38544848e-07]\n",
            " [3.00605851e-12 1.99132927e-07 4.10626313e-07 9.72892766e-10\n",
            "  9.92032826e-01 2.26607241e-07 1.03594910e-09 7.20718329e-09\n",
            "  2.83549493e-03 5.13085257e-03]\n",
            " [1.87679455e-11 1.61003982e-06 2.04103162e-05 1.10766711e-03\n",
            "  2.25168886e-04 8.06567982e-07 7.88875733e-14 8.00797352e-05\n",
            "  1.83368364e-04 9.98380899e-01]\n",
            " [4.59729925e-08 3.38185235e-09 1.21442527e-05 3.26222857e-06\n",
            "  5.16085130e-09 9.95532036e-01 3.63382533e-05 5.68612624e-09\n",
            "  4.39590216e-03 2.03253858e-05]]\n",
            "[7 2 1 0 4 1 4 9 5]\n"
          ],
          "name": "stdout"
        }
      ]
    },
    {
      "metadata": {
        "id": "YOcPRiiYVNTv",
        "colab_type": "code",
        "colab": {
          "autoexec": {
            "startup": false,
            "wait_interval": 0
          },
          "resources": {
            "http://localhost:8080/nbextensions/google.colab/files.js": {
              "data": "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",
              "ok": true,
              "headers": [
                [
                  "content-type",
                  "application/javascript"
                ]
              ],
              "status": 200,
              "status_text": ""
            }
          },
          "base_uri": "https://localhost:8080/",
          "height": 72
        },
        "outputId": "9aae8cc8-800c-434e-fc7c-9f7015a97535",
        "executionInfo": {
          "status": "ok",
          "timestamp": 1528812825214,
          "user_tz": -330,
          "elapsed": 58145,
          "user": {
            "displayName": "Ankita Bhagat",
            "photoUrl": "//lh5.googleusercontent.com/-hBbQJG3EmsY/AAAAAAAAAAI/AAAAAAAAEMc/8aZlpsJaxOI/s50-c-k-no/photo.jpg",
            "userId": "106932527741563015055"
          }
        }
      },
      "cell_type": "code",
      "source": [
        "from google.colab import files\n",
        "uploaded = files.upload()"
      ],
      "execution_count": 16,
      "outputs": [
        {
          "output_type": "display_data",
          "data": {
            "text/html": [
              "\n",
              "     <input type=\"file\" id=\"files-f30019a9-7ec8-4703-866d-f1f7c95ce747\" name=\"files[]\" multiple disabled />\n",
              "     <output id=\"result-f30019a9-7ec8-4703-866d-f1f7c95ce747\">\n",
              "      Upload widget is only available when the cell has been executed in the\n",
              "      current browser session. Please rerun this cell to enable.\n",
              "      </output>\n",
              "      <script src=\"/nbextensions/google.colab/files.js\"></script> "
            ],
            "text/plain": [
              "<IPython.core.display.HTML object>"
            ]
          },
          "metadata": {
            "tags": []
          }
        },
        {
          "output_type": "stream",
          "text": [
            "Saving 8.jpg to 8.jpg\n"
          ],
          "name": "stdout"
        }
      ]
    },
    {
      "metadata": {
        "id": "e4GEPVSuWN4M",
        "colab_type": "code",
        "colab": {
          "autoexec": {
            "startup": false,
            "wait_interval": 0
          }
        }
      },
      "cell_type": "code",
      "source": [
        "!apt-get -qq install -y libsm6 libxext6 && pip install -q -U opencv-python"
      ],
      "execution_count": 0,
      "outputs": []
    },
    {
      "metadata": {
        "id": "FZa1RtOuVXZ_",
        "colab_type": "code",
        "colab": {
          "autoexec": {
            "startup": false,
            "wait_interval": 0
          }
        }
      },
      "cell_type": "code",
      "source": [
        "import cv2 \n",
        "from cv2 import *\n",
        "im_gray = cv2.imread('8.jpg', cv2.IMREAD_GRAYSCALE)\n",
        "im_gray =  cv2.bitwise_not(im_gray)"
      ],
      "execution_count": 0,
      "outputs": []
    },
    {
      "metadata": {
        "id": "me4v_oTJVZnT",
        "colab_type": "code",
        "colab": {
          "autoexec": {
            "startup": false,
            "wait_interval": 0
          },
          "base_uri": "https://localhost:8080/",
          "height": 268
        },
        "outputId": "44b6b674-3d4d-4219-c090-389fd40b4ac3",
        "executionInfo": {
          "status": "ok",
          "timestamp": 1528812963368,
          "user_tz": -330,
          "elapsed": 1177,
          "user": {
            "displayName": "Ankita Bhagat",
            "photoUrl": "//lh5.googleusercontent.com/-hBbQJG3EmsY/AAAAAAAAAAI/AAAAAAAAEMc/8aZlpsJaxOI/s50-c-k-no/photo.jpg",
            "userId": "106932527741563015055"
          }
        }
      },
      "cell_type": "code",
      "source": [
        "from matplotlib import pyplot as plt\n",
        "from skimage import io\n",
        "\n",
        "(thresh, im_bw) = cv2.threshold(im_gray, 128, 255, cv2.THRESH_BINARY | cv2.THRESH_OTSU)\n",
        "plt.imshow(im_bw)\n",
        "\n",
        "plt.axis(\"off\")\n",
        "plt.show()"
      ],
      "execution_count": 24,
      "outputs": [
        {
          "output_type": "display_data",
          "data": {
            "image/png": "[encoded data removed]",
            "text/plain": [
              "<matplotlib.figure.Figure at 0x7f62ba7e8e10>"
            ]
          },
          "metadata": {
            "tags": []
          }
        }
      ]
    },
    {
      "metadata": {
        "id": "wW2Psi7hVbvz",
        "colab_type": "code",
        "colab": {
          "autoexec": {
            "startup": false,
            "wait_interval": 0
          },
          "base_uri": "https://localhost:8080/",
          "height": 265
        },
        "outputId": "82313bf3-9fe0-442b-b619-7e9990bc2444",
        "executionInfo": {
          "status": "ok",
          "timestamp": 1528812967469,
          "user_tz": -330,
          "elapsed": 1183,
          "user": {
            "displayName": "Ankita Bhagat",
            "photoUrl": "//lh5.googleusercontent.com/-hBbQJG3EmsY/AAAAAAAAAAI/AAAAAAAAEMc/8aZlpsJaxOI/s50-c-k-no/photo.jpg",
            "userId": "106932527741563015055"
          }
        }
      },
      "cell_type": "code",
      "source": [
        "im_pred = cv2.resize(im_bw,(28,28), interpolation = cv2.INTER_CUBIC)\n",
        "plt.imshow(im_pred)\n",
        "\n",
        "plt.axis(\"off\")\n",
        "plt.show()"
      ],
      "execution_count": 25,
      "outputs": [
        {
          "output_type": "display_data",
          "data": {
            "image/png": "[encoded data removed]",
            "text/plain": [
              "<matplotlib.figure.Figure at 0x7f62b9c7a518>"
            ]
          },
          "metadata": {
            "tags": []
          }
        }
      ]
    },
    {
      "metadata": {
        "id": "Qxe3LPmmVdo4",
        "colab_type": "code",
        "colab": {
          "autoexec": {
            "startup": false,
            "wait_interval": 0
          },
          "base_uri": "https://localhost:8080/",
          "height": 950
        },
        "outputId": "5d0de96a-f6d1-4921-e258-e13dc693ea68",
        "executionInfo": {
          "status": "ok",
          "timestamp": 1528812975434,
          "user_tz": -330,
          "elapsed": 1136,
          "user": {
            "displayName": "Ankita Bhagat",
            "photoUrl": "//lh5.googleusercontent.com/-hBbQJG3EmsY/AAAAAAAAAAI/AAAAAAAAEMc/8aZlpsJaxOI/s50-c-k-no/photo.jpg",
            "userId": "106932527741563015055"
          }
        }
      },
      "cell_type": "code",
      "source": [
        "X_test = im_pred\n",
        "#print(X_test)\n",
        "\n",
        "X_test = X_test.reshape(1, 28, 28,1)\n",
        "X_test = X_test.astype('float32')\n",
        "X_test /= 255\n",
        "#print(X_test)"
      ],
      "execution_count": 26,
      "outputs": [
        {
          "output_type": "stream",
          "text": [
            "[[  0   0   0   0   0   0   0   0   0   0   0   0   0   0   0   0   0   0\n",
            "    0   0   0   0   0   0   0   0   0   0]\n",
            " [  0   0   0   0   0   0   0   0   0   0   0   0   0   0   0   0   0   0\n",
            "    0   0   0   0   0   0   0   0   0   0]\n",
            " [  0   0   0   0   0   0   0   0   0   0 255 255 255 255 255 255 255 255\n",
            "    0   0   0   0   0   0   0   0   0   0]\n",
            " [  0   0   0   0   0   0   0   0 255 255 255   0   0   0   0   0   0 255\n",
            "  255   0   0   0   0   0   0   0   0   0]\n",
            " [  0   0   0   0   0   0   0 255 255   0   0   0   0   0   0   0   0   0\n",
            "  255   0   0   0   0   0   0   0   0   0]\n",
            " [  0   0   0   0   0   0 255 255   0   0   0   0   0   0   0   0   0   0\n",
            "  255   0   0   0   0   0   0   0   0   0]\n",
            " [  0   0   0   0   0   0 255   0   0   0   0   0   0   0   0   0   0   0\n",
            "  255   0   0   0   0   0   0   0   0   0]\n",
            " [  0   0   0   0   0 255 255   0   0   0   0   0   0   0   0   0   0   0\n",
            "  255   0   0   0   0   0   0   0   0   0]\n",
            " [  0   0   0   0   0 255 255   0   0   0   0   0   0   0   0   0   0 255\n",
            "    0   0   0   0   0   0   0   0   0   0]\n",
            " [  0   0   0   0   0   0 255 255 255   0   0   0   0   0   0   0 255 255\n",
            "    0   0   0   0   0   0   0   0   0   0]\n",
            " [  0   0   0   0   0   0   0 255 255 255   0   0   0   0 255 255 255   0\n",
            "    0   0   0   0   0   0   0   0   0   0]\n",
            " [  0   0   0   0   0   0   0   0   0 255 255 255 255 255 255   0   0   0\n",
            "    0   0   0   0   0   0   0   0   0   0]\n",
            " [  0   0   0   0   0   0   0   0   0   0 255 255 255 255   0   0   0   0\n",
            "    0   0   0   0   0   0   0   0   0   0]\n",
            " [  0   0   0   0   0   0   0   0   0 255 255   0 255 255 255   0   0   0\n",
            "    0   0   0   0   0   0   0   0   0   0]\n",
            " [  0   0   0   0   0   0   0   0 255   0   0   0   0   0 255 255 255   0\n",
            "    0   0   0   0   0   0   0   0   0   0]\n",
            " [  0   0   0   0   0   0   0 255   0   0   0   0   0   0   0 255 255 255\n",
            "    0   0   0   0   0   0   0   0   0   0]\n",
            " [  0   0   0   0   0   0 255 255   0   0   0   0   0   0   0   0 255 255\n",
            "    0   0   0   0   0   0   0   0   0   0]\n",
            " [  0   0   0   0   0 255 255   0   0   0   0   0   0   0   0   0   0 255\n",
            "  255   0   0   0   0   0   0   0   0   0]\n",
            " [  0   0   0   0   0 255 255   0   0   0   0   0   0   0   0   0   0   0\n",
            "  255   0   0   0   0   0   0   0   0   0]\n",
            " [  0   0   0   0   0 255 255   0   0   0   0   0   0   0   0   0   0   0\n",
            "  255 255   0   0   0   0   0   0   0   0]\n",
            " [  0   0   0   0   0 255 255   0   0   0   0   0   0   0   0   0   0   0\n",
            "  255 255   0   0   0   0   0   0   0   0]\n",
            " [  0   0   0   0   0 255 255   0   0   0   0   0   0   0   0   0   0   0\n",
            "  255 255   0   0   0   0   0   0   0   0]\n",
            " [  0   0   0   0   0   2 255 255   0   0   0   0   0   0   0   0   0   0\n",
            "  255 255   0   0   0   0   0   0   0   0]\n",
            " [  0   0   0   0   0   0 255 255   0   0   0   0   0   0   0   0   0 255\n",
            "  255   0   0   0   0   0   0   0   0   0]\n",
            " [  0   0   0   0   0   0   0 255 255 255   0   0   0   0   0   0 255 255\n",
            "    0   0   0   0   0   0   0   0   0   0]\n",
            " [  0   0   0   0   0   0   0   0   0   0 255 255 255 255 255 255 255   0\n",
            "    0   0   0   0   0   0   0   0   0   0]\n",
            " [  0   0   0   0   0   0   0   0   0   0   0   0   0   0   0   0   0   0\n",
            "    0   0   0   0   0   0   0   0   0   0]\n",
            " [  0   0   0   0   0   0   0   0   0   0   0   0   0   0   0   0   0   0\n",
            "    0   0   0   0   0   0   0   0   0   0]]\n"
          ],
          "name": "stdout"
        }
      ]
    },
    {
      "metadata": {
        "id": "dcY6LQjPVekM",
        "colab_type": "code",
        "colab": {
          "autoexec": {
            "startup": false,
            "wait_interval": 0
          },
          "base_uri": "https://localhost:8080/",
          "height": 67
        },
        "outputId": "94d8a8a1-62f5-4b86-94fd-e9c5f2e4a93f",
        "executionInfo": {
          "status": "ok",
          "timestamp": 1528812987753,
          "user_tz": -330,
          "elapsed": 1187,
          "user": {
            "displayName": "Ankita Bhagat",
            "photoUrl": "//lh5.googleusercontent.com/-hBbQJG3EmsY/AAAAAAAAAAI/AAAAAAAAEMc/8aZlpsJaxOI/s50-c-k-no/photo.jpg",
            "userId": "106932527741563015055"
          }
        }
      },
      "cell_type": "code",
      "source": [
        "y_pred = model.predict(X_test)\n",
        "print(y_pred)\n",
        "print(\"The number is %d\" %np.argmax(y_pred))"
      ],
      "execution_count": 27,
      "outputs": [
        {
          "output_type": "stream",
          "text": [
            "[[5.8808423e-11 2.4021369e-06 5.1171408e-04 1.0966088e-03 4.2165662e-04\n",
            "  1.3674473e-03 5.3494620e-08 9.0088383e-07 9.9658406e-01 1.5051076e-05]]\n",
            "The number is 8\n"
          ],
          "name": "stdout"
        }
      ]
    }
  ]
}