{
  "nbformat": 4,
  "nbformat_minor": 0,
  "metadata": {
    "colab": {
      "name": "UNet.ipynb",
      "version": "0.3.2",
      "provenance": [],
      "include_colab_link": true
    },
    "kernelspec": {
      "name": "python3",
      "display_name": "Python 3"
    },
    "accelerator": "GPU"
  },
  "cells": [
    {
      "cell_type": "markdown",
      "metadata": {
        "id": "view-in-github",
        "colab_type": "text"
      },
      "source": [
        "<a href=\"https://colab.research.google.com/github/bhgtankita/ML-DNN/blob/master/UNet.ipynb\" target=\"_parent\"><img src=\"https://colab.research.google.com/assets/colab-badge.svg\" alt=\"Open In Colab\"/></a>"
      ]
    },
    {
      "cell_type": "markdown",
      "metadata": {
        "id": "WObFBC08fiOJ",
        "colab_type": "text"
      },
      "source": [
        "![UNet](https://github.com/nikhilroxtomar/UNet-Segmentation-in-Keras-TensorFlow/raw/53b5e697d3c010546b9443534a067541c4c50eb9/images/u-net-architecture.png)"
      ]
    },
    {
      "cell_type": "code",
      "metadata": {
        "id": "AjXOgMFpWgHK",
        "colab_type": "code",
        "colab": {}
      },
      "source": [
        "import sys\n",
        "import os\n",
        "import random\n",
        "\n",
        "import numpy as np\n",
        "import cv2\n",
        "import matplotlib.pyplot as plt\n",
        "\n",
        "import tensorflow as tf\n",
        "from tensorflow import keras\n",
        "\n",
        "#seeding\n",
        "seed = 2019\n",
        "random.seed = seed\n",
        "np.random.seed = seed\n",
        "tf.seed = seed\n",
        "\n",
        "## If you set the np.random.seed(a_fixed_number) every time you call the numpy's other random function, the result will be the same:"
      ],
      "execution_count": 0,
      "outputs": []
    },
    {
      "cell_type": "code",
      "metadata": {
        "id": "4SllcwjWYHRx",
        "colab_type": "code",
        "colab": {}
      },
      "source": [
        "class DataGen(keras.utils.Sequence):\n",
        "  def __init__(self, ids, path, batch_size=8, image_size=128):\n",
        "    self.ids = ids\n",
        "    self.path = path\n",
        "    self.batch_size = batch_size\n",
        "    self.image_size = image_size\n",
        "    self.on_epoch_end()\n",
        "    \n",
        "  def __load__(self, id_name):\n",
        "    #paths\n",
        "    image_path = os.path.join(self.path, id_name, \"images\", id_name) + \".png\"\n",
        "    mask_path = os.path.join(self.path, id_name, \"masks/\")\n",
        "    all_masks = os.listdir(mask_path)\n",
        "    \n",
        "    # reading images\n",
        "    image = cv2.imread(image_path, 1)\n",
        "    image = cv2.resize(image, (self.image_size, self.image_size))\n",
        "    \n",
        "    mask = np.zeros((self.image_size, self.image_size, 1))\n",
        "    \n",
        "    #reading masks\n",
        "    for name in all_masks:\n",
        "      _mask_path = mask_path + name\n",
        "      _mask_image = cv2.imread(_mask_path, -1)\n",
        "      _mask_image = cv2.resize(_mask_image, (self.image_size, self.image_size))\n",
        "      _mask_image = np.expand_dims(_mask_image, axis=-1)\n",
        "      mask = np.maximum(mask, _mask_image)\n",
        "      \n",
        "    #normalizing\n",
        "    image = image/255.0\n",
        "    mask = mask/255.0\n",
        "    \n",
        "    return image, mask\n",
        "  \n",
        "  def __getitem__(self, index):\n",
        "    if (index+1)*self.batch_size > len(self.ids):\n",
        "      self.batch_size = len(self.ids) - index*self.batch_size\n",
        "      \n",
        "    files_batch = self.ids[index*self.batch_size : (index+1)*self.batch_size]\n",
        "    \n",
        "    image = []\n",
        "    mask = []\n",
        "    \n",
        "    for id_name in files_batch:\n",
        "      _img, _mask = self.__load__(id_name)\n",
        "      image.append(_img)\n",
        "      mask.append(_mask)\n",
        "      \n",
        "    image = np.array(image)\n",
        "    mask = np.array(mask)\n",
        "    \n",
        "    return image, mask\n",
        "  \n",
        "  def on_epoch_end(self):\n",
        "    pass\n",
        "  \n",
        "  def __len__(self):\n",
        "    return int(np.ceil(len(self.ids)/float(self.batch_size)))\n",
        "    "
      ],
      "execution_count": 0,
      "outputs": []
    },
    {
      "cell_type": "code",
      "metadata": {
        "id": "ek_jOiHzSex0",
        "colab_type": "code",
        "colab": {
          "base_uri": "https://localhost:8080/",
          "height": 34
        },
        "outputId": "6e2b8c6f-621d-4d4d-aeb7-357efa1237eb"
      },
      "source": [
        "from google.colab import drive\n",
        "drive.mount('/content/gdrive')"
      ],
      "execution_count": 6,
      "outputs": [
        {
          "output_type": "stream",
          "text": [
            "Drive already mounted at /content/gdrive; to attempt to forcibly remount, call drive.mount(\"/content/gdrive\", force_remount=True).\n"
          ],
          "name": "stdout"
        }
      ]
    },
    {
      "cell_type": "code",
      "metadata": {
        "id": "j1gXdr2-Sjyw",
        "colab_type": "code",
        "colab": {
          "base_uri": "https://localhost:8080/",
          "height": 222
        },
        "outputId": "bf8c8976-ea93-4e74-fd21-4e30048c0242"
      },
      "source": [
        "!wget --header=\"Host: storage.googleapis.com\" --header=\"User-Agent: Mozilla/5.0 (Windows NT 10.0; Win64; x64) AppleWebKit/537.36 (KHTML, like Gecko) Chrome/75.0.3770.100 Safari/537.36\" --header=\"Accept: text/html,application/xhtml+xml,application/xml;q=0.9,image/webp,image/apng,*/*;q=0.8,application/signed-exchange;v=b3\" --header=\"Accept-Language: en-US,en;q=0.9\" --header=\"Referer: https://www.kaggle.com/\" \"https://storage.googleapis.com/kaggle-competitions-data/kaggle/8089/all.zip?GoogleAccessId=web-data@kaggle-161607.iam.gserviceaccount.com&Expires=1561484720&Signature=W1eSFEOTC38yAzUfyRVALDe%2B8QDcWhS5qe3zzo257J6s31KltwD78vm06XghMxR7jkG1uQ%2FrR4AfeBTgU855boRNxLXP1aTspuBEuwcu88IUiKozPpWTIosXvfhSFKuPZICqFVD7DnUCzXCe8fGThOc8%2FAjY9afK9Ii1RZY6Mp7ZqDCwvLsxvkIhuNRRrJWVxYF5Ik3EAXu6quloUYAOM1QFgucdMVeiRZ1xp439g80axMC5VefBNCJD7fZ0gMgYMYKpQ8fA%2BEelgcrXUfkIbNYfyUeYItDj1WkM%2F8b8jnT9kUAE9fhRdNc4Jeb5k2U2DG1vZbL5FcKZ7zNhkq4Deg%3D%3D&response-content-disposition=attachment%3B+filename%3Ddata-science-bowl-2018.zip\" -O \"data-science-bowl-2018.zip\" -c"
      ],
      "execution_count": 7,
      "outputs": [
        {
          "output_type": "stream",
          "text": [
            "--2019-06-22 17:59:14--  https://storage.googleapis.com/kaggle-competitions-data/kaggle/8089/all.zip?GoogleAccessId=web-data@kaggle-161607.iam.gserviceaccount.com&Expires=1561484720&Signature=W1eSFEOTC38yAzUfyRVALDe%2B8QDcWhS5qe3zzo257J6s31KltwD78vm06XghMxR7jkG1uQ%2FrR4AfeBTgU855boRNxLXP1aTspuBEuwcu88IUiKozPpWTIosXvfhSFKuPZICqFVD7DnUCzXCe8fGThOc8%2FAjY9afK9Ii1RZY6Mp7ZqDCwvLsxvkIhuNRRrJWVxYF5Ik3EAXu6quloUYAOM1QFgucdMVeiRZ1xp439g80axMC5VefBNCJD7fZ0gMgYMYKpQ8fA%2BEelgcrXUfkIbNYfyUeYItDj1WkM%2F8b8jnT9kUAE9fhRdNc4Jeb5k2U2DG1vZbL5FcKZ7zNhkq4Deg%3D%3D&response-content-disposition=attachment%3B+filename%3Ddata-science-bowl-2018.zip\n",
            "Resolving storage.googleapis.com (storage.googleapis.com)... 172.217.212.128, 2607:f8b0:4001:c16::80\n",
            "Connecting to storage.googleapis.com (storage.googleapis.com)|172.217.212.128|:443... connected.\n",
            "HTTP request sent, awaiting response... 200 OK\n",
            "Length: 375794049 (358M) [application/zip]\n",
            "Saving to: ‘data-science-bowl-2018.zip’\n",
            "\n",
            "data-science-bowl-2 100%[===================>] 358.38M   154MB/s    in 2.3s    \n",
            "\n",
            "2019-06-22 17:59:16 (154 MB/s) - ‘data-science-bowl-2018.zip’ saved [375794049/375794049]\n",
            "\n"
          ],
          "name": "stdout"
        }
      ]
    },
    {
      "cell_type": "code",
      "metadata": {
        "id": "zh84kjoLTNU3",
        "colab_type": "code",
        "colab": {
          "base_uri": "https://localhost:8080/",
          "height": 151
        },
        "outputId": "c290ba93-7451-4ef6-bccb-1f9bd769e2c9"
      },
      "source": [
        "!unzip data-science-bowl-2018.zip"
      ],
      "execution_count": 9,
      "outputs": [
        {
          "output_type": "stream",
          "text": [
            "Archive:  data-science-bowl-2018.zip\n",
            "  inflating: stage2_test_final.zip   \n",
            "  inflating: stage1_solution.csv     \n",
            "  inflating: stage1_sample_submission.csv  \n",
            "  inflating: stage1_test.zip         \n",
            "  inflating: stage2_sample_submission_final.csv  \n",
            "  inflating: stage1_train_labels.csv  \n",
            "  inflating: stage1_train.zip        \n"
          ],
          "name": "stdout"
        }
      ]
    },
    {
      "cell_type": "code",
      "metadata": {
        "id": "E6YuhpBLTRWP",
        "colab_type": "code",
        "colab": {
          "base_uri": "https://localhost:8080/",
          "height": 101
        },
        "outputId": "a4cd47c1-1483-492a-ff4c-94352b8af66b"
      },
      "source": [
        "!ls"
      ],
      "execution_count": 12,
      "outputs": [
        {
          "output_type": "stream",
          "text": [
            "data-science-bowl-2018.zip    stage1_train_labels.csv\n",
            "gdrive\t\t\t      stage1_train.zip\n",
            "stage1_sample_submission.csv  stage2_sample_submission_final.csv\n",
            "stage1_solution.csv\t      stage2_test_final.zip\n",
            "stage1_test.zip\n"
          ],
          "name": "stdout"
        }
      ]
    },
    {
      "cell_type": "code",
      "metadata": {
        "id": "efPj3m4YWSVo",
        "colab_type": "code",
        "colab": {}
      },
      "source": [
        "!mkdir dataset"
      ],
      "execution_count": 0,
      "outputs": []
    },
    {
      "cell_type": "code",
      "metadata": {
        "id": "z-1S5nWEWV6A",
        "colab_type": "code",
        "colab": {
          "base_uri": "https://localhost:8080/",
          "height": 34
        },
        "outputId": "76a338b5-8a1e-4073-8066-2fde9dfa7c97"
      },
      "source": [
        "cd dataset"
      ],
      "execution_count": 14,
      "outputs": [
        {
          "output_type": "stream",
          "text": [
            "/content/dataset\n"
          ],
          "name": "stdout"
        }
      ]
    },
    {
      "cell_type": "code",
      "metadata": {
        "id": "7adhrPflWY5I",
        "colab_type": "code",
        "colab": {}
      },
      "source": [
        "!mkdir stage1_train"
      ],
      "execution_count": 0,
      "outputs": []
    },
    {
      "cell_type": "code",
      "metadata": {
        "id": "ktzbNhMyWdP4",
        "colab_type": "code",
        "colab": {
          "base_uri": "https://localhost:8080/",
          "height": 34
        },
        "outputId": "b08b9a8d-dd3d-4004-8c5f-44d67820cb9c"
      },
      "source": [
        "cd .."
      ],
      "execution_count": 16,
      "outputs": [
        {
          "output_type": "stream",
          "text": [
            "/content\n"
          ],
          "name": "stdout"
        }
      ]
    },
    {
      "cell_type": "code",
      "metadata": {
        "id": "u4IGovrITVu3",
        "colab_type": "code",
        "colab": {}
      },
      "source": [
        "!unzip stage1_train.zip -d /content/dataset/stage1_train"
      ],
      "execution_count": 0,
      "outputs": []
    },
    {
      "cell_type": "code",
      "metadata": {
        "id": "zpHWwa01T_fQ",
        "colab_type": "code",
        "colab": {
          "base_uri": "https://localhost:8080/",
          "height": 34
        },
        "outputId": "1f845bc3-05bc-43c9-c829-9e6c468f5744"
      },
      "source": [
        "!ls 'dataset/stage1_train/00071198d059ba7f5914a526d124d28e6d010c92466da21d4a04cd5413362552'"
      ],
      "execution_count": 26,
      "outputs": [
        {
          "output_type": "stream",
          "text": [
            "images\tmasks\n"
          ],
          "name": "stdout"
        }
      ]
    },
    {
      "cell_type": "markdown",
      "metadata": {
        "id": "W2oPxd-lMJgj",
        "colab_type": "text"
      },
      "source": [
        "# Hyperparameters"
      ]
    },
    {
      "cell_type": "code",
      "metadata": {
        "id": "jHZWELNiJf2l",
        "colab_type": "code",
        "colab": {}
      },
      "source": [
        "image_size = 128\n",
        "train_path = \"dataset/stage1_train/\"\n",
        "epochs = 5\n",
        "batch_size = 8\n",
        "\n",
        "#Traning Ids\n",
        "train_ids = next(os.walk(train_path))[1]\n",
        "\n",
        "#Validation data size\n",
        "val_data_size = 10\n",
        "\n",
        "valid_ids = train_ids[:val_data_size]\n",
        "train_ids = train_ids[val_data_size:]"
      ],
      "execution_count": 0,
      "outputs": []
    },
    {
      "cell_type": "code",
      "metadata": {
        "id": "PTSQJBI3MIa_",
        "colab_type": "code",
        "colab": {
          "base_uri": "https://localhost:8080/",
          "height": 34
        },
        "outputId": "c1d63784-c603-4157-9aaf-2a913b55a0d7"
      },
      "source": [
        "gen = DataGen(train_ids, train_path, batch_size=batch_size, image_size=image_size)\n",
        "x, y = gen.__getitem__(0)\n",
        "print(x.shape, y.shape)"
      ],
      "execution_count": 28,
      "outputs": [
        {
          "output_type": "stream",
          "text": [
            "(8, 128, 128, 3) (8, 128, 128, 1)\n"
          ],
          "name": "stdout"
        }
      ]
    },
    {
      "cell_type": "code",
      "metadata": {
        "id": "M3747UwXYNsY",
        "colab_type": "code",
        "colab": {
          "base_uri": "https://localhost:8080/",
          "height": 208
        },
        "outputId": "70a367b2-c9d8-4850-9115-56a720802802"
      },
      "source": [
        "r = random.randint(0, len(x)-1)\n",
        "\n",
        "fig = plt.figure()\n",
        "fig.subplots_adjust(hspace=0.4, wspace=0.4)\n",
        "ax = fig.add_subplot(1, 2, 1)\n",
        "ax.imshow(x[r])\n",
        "ax = fig.add_subplot(1, 2, 2)\n",
        "ax.imshow(np.reshape(y[r], (image_size, image_size)), cmap=\"gray\")"
      ],
      "execution_count": 34,
      "outputs": [
        {
          "output_type": "execute_result",
          "data": {
            "text/plain": [
              "<matplotlib.image.AxesImage at 0x7f897df30dd8>"
            ]
          },
          "metadata": {
            "tags": []
          },
          "execution_count": 34
        },
        {
          "output_type": "display_data",
          "data": {
            "image/png": "[encoded data removed]",
            "text/plain": [
              "<Figure size 432x288 with 2 Axes>"
            ]
          },
          "metadata": {
            "tags": []
          }
        }
      ]
    },
    {
      "cell_type": "markdown",
      "metadata": {
        "id": "GhVesPezZ8ec",
        "colab_type": "text"
      },
      "source": [
        "# Network Architecture"
      ]
    },
    {
      "cell_type": "code",
      "metadata": {
        "id": "f34nzNVdZlF0",
        "colab_type": "code",
        "colab": {}
      },
      "source": [
        "def down_block(x, filters, kernel_size=(3,3), padding=\"same\", strides=1):\n",
        "  c = keras.layers.Conv2D(filters, kernel_size, padding=padding, strides=strides, activation=\"relu\")(x)\n",
        "  c = keras.layers.Conv2D(filters, kernel_size, padding=padding, strides=strides, activation=\"relu\")(c)\n",
        "  p = keras.layers.MaxPool2D((2,2), (2,2))(c)\n",
        "  return c, p\n",
        "\n",
        "def up_block(x, skip, filters, kernel_size=(3,3), padding=\"same\", strides=1):\n",
        "  us = keras.layers.UpSampling2D((2,2))(x)\n",
        "  concat = keras.layers.Concatenate()([us, skip])  \n",
        "  c = keras.layers.Conv2D(filters, kernel_size, padding=padding, strides=strides, activation=\"relu\")(concat)\n",
        "  c = keras.layers.Conv2D(filters, kernel_size, padding=padding, strides=strides, activation=\"relu\")(c)\n",
        "  return c\n",
        "\n",
        "def bottleneck(x, filters, kernel_size=(3,3), padding=\"same\", strides=1):\n",
        "  c = keras.layers.Conv2D(filters, kernel_size, padding=padding, strides=strides, activation=\"relu\")(x)\n",
        "  c = keras.layers.Conv2D(filters, kernel_size, padding=padding, strides=strides, activation=\"relu\")(c)\n",
        "  return c"
      ],
      "execution_count": 0,
      "outputs": []
    },
    {
      "cell_type": "markdown",
      "metadata": {
        "id": "FbBGGh0ZfGk5",
        "colab_type": "text"
      },
      "source": [
        "# UNET Model"
      ]
    },
    {
      "cell_type": "code",
      "metadata": {
        "id": "I0xnxH9VZnuh",
        "colab_type": "code",
        "colab": {}
      },
      "source": [
        "def UNet():\n",
        "  f = [16, 32, 64, 128, 256]\n",
        "  inputs = keras.layers.Input((image_size, image_size, 3))\n",
        "  \n",
        "  p0 = inputs\n",
        "  c1, p1 = down_block(p0, f[0]) #128 -> 64\n",
        "  c2, p2 = down_block(p1, f[1]) #64 -> 32\n",
        "  c3, p3 = down_block(p2, f[2]) #32 -> 16\n",
        "  c4, p4 = down_block(p3, f[3]) #16->8\n",
        "    \n",
        "  bn = bottleneck(p4, f[4])\n",
        "    \n",
        "  u1 = up_block(bn, c4, f[3]) #8 -> 16\n",
        "  u2 = up_block(u1, c3, f[2]) #16 -> 32\n",
        "  u3 = up_block(u2, c2, f[1]) #32 -> 64\n",
        "  u4 = up_block(u3, c1, f[0]) #64 -> 128\n",
        "    \n",
        "  outputs = keras.layers.Conv2D(1, (1, 1), padding=\"same\", activation=\"sigmoid\")(u4)\n",
        "  model = keras.models.Model(inputs, outputs)\n",
        "  return model  "
      ],
      "execution_count": 0,
      "outputs": []
    },
    {
      "cell_type": "code",
      "metadata": {
        "id": "AcJazcvriVgt",
        "colab_type": "code",
        "colab": {
          "base_uri": "https://localhost:8080/",
          "height": 1431
        },
        "outputId": "79ac4347-4ee2-4f97-9232-9ce59e1ed0f5"
      },
      "source": [
        "model = UNet()\n",
        "model.compile(optimizer=\"adam\", loss=\"binary_crossentropy\", metrics=[\"acc\"])\n",
        "model.summary()"
      ],
      "execution_count": 38,
      "outputs": [
        {
          "output_type": "stream",
          "text": [
            "WARNING: Logging before flag parsing goes to stderr.\n",
            "W0622 18:55:14.524138 140229891192704 deprecation.py:506] From /usr/local/lib/python3.6/dist-packages/tensorflow/python/ops/init_ops.py:1251: calling VarianceScaling.__init__ (from tensorflow.python.ops.init_ops) with dtype is deprecated and will be removed in a future version.\n",
            "Instructions for updating:\n",
            "Call initializer instance with the dtype argument instead of passing it to the constructor\n",
            "W0622 18:55:15.070938 140229891192704 deprecation.py:323] From /usr/local/lib/python3.6/dist-packages/tensorflow/python/ops/nn_impl.py:180: add_dispatch_support.<locals>.wrapper (from tensorflow.python.ops.array_ops) is deprecated and will be removed in a future version.\n",
            "Instructions for updating:\n",
            "Use tf.where in 2.0, which has the same broadcast rule as np.where\n"
          ],
          "name": "stderr"
        },
        {
          "output_type": "stream",
          "text": [
            "Model: \"model\"\n",
            "__________________________________________________________________________________________________\n",
            "Layer (type)                    Output Shape         Param #     Connected to                     \n",
            "==================================================================================================\n",
            "input_1 (InputLayer)            [(None, 128, 128, 3) 0                                            \n",
            "__________________________________________________________________________________________________\n",
            "conv2d (Conv2D)                 (None, 128, 128, 16) 448         input_1[0][0]                    \n",
            "__________________________________________________________________________________________________\n",
            "conv2d_1 (Conv2D)               (None, 128, 128, 16) 2320        conv2d[0][0]                     \n",
            "__________________________________________________________________________________________________\n",
            "max_pooling2d (MaxPooling2D)    (None, 64, 64, 16)   0           conv2d_1[0][0]                   \n",
            "__________________________________________________________________________________________________\n",
            "conv2d_2 (Conv2D)               (None, 64, 64, 32)   4640        max_pooling2d[0][0]              \n",
            "__________________________________________________________________________________________________\n",
            "conv2d_3 (Conv2D)               (None, 64, 64, 32)   9248        conv2d_2[0][0]                   \n",
            "__________________________________________________________________________________________________\n",
            "max_pooling2d_1 (MaxPooling2D)  (None, 32, 32, 32)   0           conv2d_3[0][0]                   \n",
            "__________________________________________________________________________________________________\n",
            "conv2d_4 (Conv2D)               (None, 32, 32, 64)   18496       max_pooling2d_1[0][0]            \n",
            "__________________________________________________________________________________________________\n",
            "conv2d_5 (Conv2D)               (None, 32, 32, 64)   36928       conv2d_4[0][0]                   \n",
            "__________________________________________________________________________________________________\n",
            "max_pooling2d_2 (MaxPooling2D)  (None, 16, 16, 64)   0           conv2d_5[0][0]                   \n",
            "__________________________________________________________________________________________________\n",
            "conv2d_6 (Conv2D)               (None, 16, 16, 128)  73856       max_pooling2d_2[0][0]            \n",
            "__________________________________________________________________________________________________\n",
            "conv2d_7 (Conv2D)               (None, 16, 16, 128)  147584      conv2d_6[0][0]                   \n",
            "__________________________________________________________________________________________________\n",
            "max_pooling2d_3 (MaxPooling2D)  (None, 8, 8, 128)    0           conv2d_7[0][0]                   \n",
            "__________________________________________________________________________________________________\n",
            "conv2d_8 (Conv2D)               (None, 8, 8, 256)    295168      max_pooling2d_3[0][0]            \n",
            "__________________________________________________________________________________________________\n",
            "conv2d_9 (Conv2D)               (None, 8, 8, 256)    590080      conv2d_8[0][0]                   \n",
            "__________________________________________________________________________________________________\n",
            "up_sampling2d (UpSampling2D)    (None, 16, 16, 256)  0           conv2d_9[0][0]                   \n",
            "__________________________________________________________________________________________________\n",
            "concatenate (Concatenate)       (None, 16, 16, 384)  0           up_sampling2d[0][0]              \n",
            "                                                                 conv2d_7[0][0]                   \n",
            "__________________________________________________________________________________________________\n",
            "conv2d_10 (Conv2D)              (None, 16, 16, 128)  442496      concatenate[0][0]                \n",
            "__________________________________________________________________________________________________\n",
            "conv2d_11 (Conv2D)              (None, 16, 16, 128)  147584      conv2d_10[0][0]                  \n",
            "__________________________________________________________________________________________________\n",
            "up_sampling2d_1 (UpSampling2D)  (None, 32, 32, 128)  0           conv2d_11[0][0]                  \n",
            "__________________________________________________________________________________________________\n",
            "concatenate_1 (Concatenate)     (None, 32, 32, 192)  0           up_sampling2d_1[0][0]            \n",
            "                                                                 conv2d_5[0][0]                   \n",
            "__________________________________________________________________________________________________\n",
            "conv2d_12 (Conv2D)              (None, 32, 32, 64)   110656      concatenate_1[0][0]              \n",
            "__________________________________________________________________________________________________\n",
            "conv2d_13 (Conv2D)              (None, 32, 32, 64)   36928       conv2d_12[0][0]                  \n",
            "__________________________________________________________________________________________________\n",
            "up_sampling2d_2 (UpSampling2D)  (None, 64, 64, 64)   0           conv2d_13[0][0]                  \n",
            "__________________________________________________________________________________________________\n",
            "concatenate_2 (Concatenate)     (None, 64, 64, 96)   0           up_sampling2d_2[0][0]            \n",
            "                                                                 conv2d_3[0][0]                   \n",
            "__________________________________________________________________________________________________\n",
            "conv2d_14 (Conv2D)              (None, 64, 64, 32)   27680       concatenate_2[0][0]              \n",
            "__________________________________________________________________________________________________\n",
            "conv2d_15 (Conv2D)              (None, 64, 64, 32)   9248        conv2d_14[0][0]                  \n",
            "__________________________________________________________________________________________________\n",
            "up_sampling2d_3 (UpSampling2D)  (None, 128, 128, 32) 0           conv2d_15[0][0]                  \n",
            "__________________________________________________________________________________________________\n",
            "concatenate_3 (Concatenate)     (None, 128, 128, 48) 0           up_sampling2d_3[0][0]            \n",
            "                                                                 conv2d_1[0][0]                   \n",
            "__________________________________________________________________________________________________\n",
            "conv2d_16 (Conv2D)              (None, 128, 128, 16) 6928        concatenate_3[0][0]              \n",
            "__________________________________________________________________________________________________\n",
            "conv2d_17 (Conv2D)              (None, 128, 128, 16) 2320        conv2d_16[0][0]                  \n",
            "__________________________________________________________________________________________________\n",
            "conv2d_18 (Conv2D)              (None, 128, 128, 1)  17          conv2d_17[0][0]                  \n",
            "==================================================================================================\n",
            "Total params: 1,962,625\n",
            "Trainable params: 1,962,625\n",
            "Non-trainable params: 0\n",
            "__________________________________________________________________________________________________\n"
          ],
          "name": "stdout"
        }
      ]
    },
    {
      "cell_type": "markdown",
      "metadata": {
        "id": "kBtxyMSai2Eh",
        "colab_type": "text"
      },
      "source": [
        "# Training"
      ]
    },
    {
      "cell_type": "code",
      "metadata": {
        "id": "_ckNdB-XiwG5",
        "colab_type": "code",
        "colab": {
          "base_uri": "https://localhost:8080/",
          "height": 202
        },
        "outputId": "b5d64f48-b9bc-4645-ff3e-7e55257a9f1a"
      },
      "source": [
        "train_gen = DataGen(train_ids, train_path, batch_size=batch_size, image_size=image_size)\n",
        "valid_gen = DataGen(valid_ids, train_path, batch_size=batch_size, image_size=image_size)\n",
        "\n",
        "train_steps = len(train_ids)//batch_size\n",
        "valid_steps = len(valid_ids)//batch_size\n",
        "\n",
        "model.fit_generator(train_gen, validation_data=valid_gen, steps_per_epoch=train_steps, validation_steps=valid_steps, epochs=epochs)"
      ],
      "execution_count": 39,
      "outputs": [
        {
          "output_type": "stream",
          "text": [
            "Epoch 1/5\n",
            "82/82 [==============================] - 25s 309ms/step - loss: 0.4109 - acc: 0.8465 - val_loss: 0.2953 - val_acc: 0.8006\n",
            "Epoch 2/5\n",
            "82/82 [==============================] - 14s 170ms/step - loss: 0.2089 - acc: 0.8870 - val_loss: 0.1003 - val_acc: 0.9637\n",
            "Epoch 3/5\n",
            "82/82 [==============================] - 13s 160ms/step - loss: 0.1333 - acc: 0.9327 - val_loss: 0.0539 - val_acc: 0.9689\n",
            "Epoch 4/5\n",
            "82/82 [==============================] - 13s 161ms/step - loss: 0.1131 - acc: 0.9404 - val_loss: 0.0510 - val_acc: 0.9699\n",
            "Epoch 5/5\n",
            "82/82 [==============================] - 13s 164ms/step - loss: 0.1129 - acc: 0.9409 - val_loss: 0.0421 - val_acc: 0.9725\n"
          ],
          "name": "stdout"
        },
        {
          "output_type": "execute_result",
          "data": {
            "text/plain": [
              "<tensorflow.python.keras.callbacks.History at 0x7f89ceaf0550>"
            ]
          },
          "metadata": {
            "tags": []
          },
          "execution_count": 39
        }
      ]
    },
    {
      "cell_type": "markdown",
      "metadata": {
        "id": "cbIUvlXokhKS",
        "colab_type": "text"
      },
      "source": [
        "#Testing"
      ]
    },
    {
      "cell_type": "code",
      "metadata": {
        "id": "ktUC5hTFkgsh",
        "colab_type": "code",
        "colab": {}
      },
      "source": [
        "model.save_weights(\"UNet_weights.h5\")\n",
        "\n",
        "#Prediction\n",
        "x,y = valid_gen.__getitem__(1)\n",
        "result = model.predict(x)\n",
        "\n",
        "result = result > 0.5"
      ],
      "execution_count": 0,
      "outputs": []
    },
    {
      "cell_type": "code",
      "metadata": {
        "id": "j9C3DcVNlNAr",
        "colab_type": "code",
        "colab": {
          "base_uri": "https://localhost:8080/",
          "height": 208
        },
        "outputId": "033f8ed0-8734-4b00-81b9-186a88bc3cf8"
      },
      "source": [
        "fig = plt.figure()\n",
        "fig.subplots_adjust(hspace=0.4, wspace=0.4)\n",
        "\n",
        "ax = fig.add_subplot(1, 2, 1)\n",
        "ax.imshow(np.reshape(y[0]*255, (image_size, image_size)), cmap=\"gray\")\n",
        "\n",
        "ax = fig.add_subplot(1, 2, 2)\n",
        "ax.imshow(np.reshape(result[0]*255, (image_size, image_size)), cmap=\"gray\")"
      ],
      "execution_count": 46,
      "outputs": [
        {
          "output_type": "execute_result",
          "data": {
            "text/plain": [
              "<matplotlib.image.AxesImage at 0x7f897a88c898>"
            ]
          },
          "metadata": {
            "tags": []
          },
          "execution_count": 46
        },
        {
          "output_type": "display_data",
          "data": {
            "image/png": "[encoded data removed]",
            "text/plain": [
              "<Figure size 432x288 with 2 Axes>"
            ]
          },
          "metadata": {
            "tags": []
          }
        }
      ]
    },
    {
      "cell_type": "markdown",
      "metadata": {
        "id": "TXgsWOyKf7WJ",
        "colab_type": "text"
      },
      "source": [
        "Reference: https://github.com/nikhilroxtomar/UNet-Segmentation-in-Keras-TensorFlow/blob/master/unet-segmentation.ipynb\n",
        "\n",
        "Video: https://www.youtube.com/watch?v=M3EZS__Z_XE&t=1089s\n",
        "\n",
        "Dataset: https://www.kaggle.com/c/data-science-bowl-2018"
      ]
    }
  ]
}