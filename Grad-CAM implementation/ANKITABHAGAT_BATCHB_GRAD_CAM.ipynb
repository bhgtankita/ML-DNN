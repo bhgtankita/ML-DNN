{
  "nbformat": 4,
  "nbformat_minor": 0,
  "metadata": {
    "colab": {
      "name": "ANKITABHAGAT_BATCHB_GRAD-CAM.ipynb",
      "version": "0.3.2",
      "views": {},
      "default_view": {},
      "provenance": [],
      "collapsed_sections": []
    },
    "kernelspec": {
      "name": "python3",
      "display_name": "Python 3"
    },
    "accelerator": "GPU"
  },
  "cells": [
    {
      "metadata": {
        "id": "A7hUoduGA3SE",
        "colab_type": "text"
      },
      "cell_type": "markdown",
      "source": [
        "# Grad-CAM : Visual representation of the decisions made by deep networks\n",
        "\n",
        "In layman's term, Grad-CAM the abbreviation of ** Gradient-weighted Class Activation Mapping**, is a technique which will help us to understand why network predict what they do. You will pass an image and a class of interest (Tiger Cat for the below image) and network will give you a resultant image back with a given class region highlighted in the image. It can clearly represent where the network is looking while making some predictions. \n",
        "\n",
        ">>> >>> ![gradcam](https://github.com/bhgtankita/ML-DNN/blob/master/images/GRAD-CAM_images/Grad-CAM.PNG?raw=true)\n",
        "\n",
        "<u>**Before we deep dive into technicality of the topic, let's check out illustration of [How self driving car sees the world](https://youtu.be/w6XHI1oIbOQ) which make use Grad-CAM technique. You can also try hand at [Grad-CAM demonstration](http://gradcam.cloudcv.org/classification).**"
      ]
    },
    {
      "metadata": {
        "id": "pI40mVu_vago",
        "colab_type": "text"
      },
      "cell_type": "markdown",
      "source": [
        "# Contents"
      ]
    },
    {
      "metadata": {
        "id": "idpaAXK8vdO8",
        "colab_type": "toc"
      },
      "cell_type": "markdown",
      "source": [
        ">>[1.Why interpretability is important in Deep Neural Networks?](#scrollTo=vYhtVDpZ0nR0)\n",
        "\n",
        ">>[2.Various Visualization techniques introduced prior to Grad-CAM](#scrollTo=hIVHi6oUTaJL)\n",
        "\n",
        ">>>[2.1 Class Model Visualization](#scrollTo=G7oi9bwhuMUI)\n",
        "\n",
        ">>>[2.2 Saliency Maps](#scrollTo=LbNDnHKfTokL)\n",
        "\n",
        ">>>[2.3 Class Activation Maps](#scrollTo=d584HxarTt7m)\n",
        "\n",
        ">>[3.What is Global Average Pooling?](#scrollTo=hAoxC4oYSwdq)\n",
        "\n",
        ">>[4.Grad-CAM & Guided Grad-CAM : High resolution Class-discriminative  Visualization Techniques](#scrollTo=e62otHuvqhvW)\n",
        "\n",
        ">>>[4.1 Paper key notes](#scrollTo=qvCSrVp_0HC5)\n",
        "\n",
        ">>>[4.2 Architecture details](#scrollTo=SlMynoTqRNCO)\n",
        "\n",
        ">>>[4.3 Mathematical Representation](#scrollTo=1LT6PN5yZDTn)\n",
        "\n",
        ">>[5.Keras Visualization Toolkit](#scrollTo=l_OJFwRQtBjp)\n",
        "\n",
        ">>[6.Weeknesses of Grad-CAM and further improvements](#scrollTo=qffuvn0EjBFJ)\n",
        "\n",
        ">>[7.What is DenseNet?](#scrollTo=tNk-Bn6PU-cR)\n",
        "\n",
        ">>>[7.1 Architecture of Densely Connected Networks](#scrollTo=sgA4QhoqWbrZ)\n",
        "\n",
        ">>[8.Project details and Implementation approach](#scrollTo=XWqQzaXYq7Ft)\n",
        "\n",
        ">>>[8.1 Grad-CAM implementation results based on different models](#scrollTo=iDLWI1SU5oZQ)\n",
        "\n",
        ">>>[8.2 Grad-CAM implementation results for different convolution layers](#scrollTo=3GSEJo6F5n2N)\n",
        "\n",
        ">>[9.Let's crack the code !](#scrollTo=WWOmmoH2XDG3)\n",
        "\n",
        ">>>[9.1 Initialization](#scrollTo=3GeWFDhlMfR0)\n",
        "\n",
        ">>>[9.2 Define Utility Functions](#scrollTo=c6GuHr4DHMrq)\n",
        "\n",
        ">>>[9.3 Load and instantiate DenseNet121 model](#scrollTo=ojeFfjACcluc)\n",
        "\n",
        ">>>[9.4 Apply image classifier on input image](#scrollTo=Im9nEOyPS20z)\n",
        "\n",
        ">>>[9.5 Perform Grad-CAM and Guided Grad-CAM on image with maximum probability class](#scrollTo=FxFmeZcmT4Fn)\n",
        "\n",
        ">>>[9.6 Perform visualization on a specific class](#scrollTo=t0Wa2R7cjKGY)\n",
        "\n",
        ">>>[9.7 Perform Grad-CAM on video file](#scrollTo=w0LHed8y2Szd)\n",
        "\n",
        ">>[10.Chellanges and Learnings](#scrollTo=ygHMekM4kVcT)\n",
        "\n",
        ">>[11.Conclusion](#scrollTo=gfgWVEVVVvBY)\n",
        "\n",
        ">>[12.References](#scrollTo=AQElX9zlVuYK)\n",
        "\n"
      ]
    },
    {
      "metadata": {
        "id": "vYhtVDpZ0nR0",
        "colab_type": "text"
      },
      "cell_type": "markdown",
      "source": [
        "## 1.Why interpretability is important in Deep Neural Networks?\n",
        "<hr>\n",
        "\n",
        "When deep networks make some decision, say when it is classifying an image, do you think that it can clearly differentiate objects in the image as we humans do? Well imagine, when we pass some input image to the neural network and it gives result with probability of given class being in that image, is it possible to give a clear-cut answer why network has predicted that object? In reality, this entire flow is really difficult to debug and referred as a black-box.\n",
        "<br>\n",
        "<br>\n",
        "5 incidents where the need of transparency draw our attention :\n",
        "\n",
        "1.   In the 1980s, [Pentagon](https://neil.fraser.name/writing/tank/) was running a project with use of neural network, which can identify camouflaged tanks. With the use of digital cameras, it was continuously scanning situation outside of the tanks for possible threats.  The program got 100% accuracy on training dataset but it failed completely when a different set of images fed into model for testing. The reason of failure was, half of the training dataset images were taken on a sunny day and other images captured on a cloudy day. So rather learning tank pattern, network learned to differentiate the images based on the color of sky.\n",
        "<br>\n",
        "2.  [Tesla driver dies in first fatal crash while using autopilot mode](https://www.theguardian.com/technology/2016/jun/30/tesla-autopilot-death-self-driving-car-elon-musk)\n",
        "3.   [Uber self-driving car drives through red light in San Francisco](https://www.theguardian.com/technology/2016/dec/14/uber-self-driving-cars-run-red-lights-san-francisco)\n",
        "4.  [Self-driving Uber kills Arizona woman in first fatal crash involving pedestrian](https://www.theguardian.com/technology/2018/mar/19/uber-self-driving-car-kills-woman-arizona-tempe)\n",
        "5.  European Union General Data Protection Regulation's has extended the automated decision-making rights with the new regulation, which is also presented in [paper](https://arxiv.org/pdf/1606.08813.pdf).\n",
        "<br>\n",
        "> **\"Whenever human subjects have their lives significantly impacted by an automatic decision making machine, the human subject has the right to know why the decision is made- i.e. right to explanation.\"** \n",
        "\n",
        "With growing success of Neural Networks, it is very much important for us to be able to explain their decisions. And in order to build trust in the intelligent systems, we must build transparent models."
      ]
    },
    {
      "metadata": {
        "id": "hIVHi6oUTaJL",
        "colab_type": "text"
      },
      "cell_type": "markdown",
      "source": [
        "## 2.Various Visualization techniques introduced prior to Grad-CAM\n",
        "<hr>\n",
        "\n",
        "Visualization can communicate useful information about what a network is learning. Let's understand few such techniques for visualizing workings pattern of the neural network."
      ]
    },
    {
      "metadata": {
        "id": "G7oi9bwhuMUI",
        "colab_type": "text"
      },
      "cell_type": "markdown",
      "source": [
        "> ###  **2.1 Class Model Visualization** \n",
        "\n",
        ">> **Objective : **\n",
        "*  Generate an image which will best represent the given class or category.\n",
        "\n",
        ">> **Approach :**\n",
        "* To find the image $I$ which maximizes the score $S_c(I)$ for a  category $c$, we will compute the gradient with respect to $I$ using back-propagation, and then use gradient ascent to find a better $I$. We will repeat the process until we find a locally optimal for $I$.\n",
        "* we’re optimizing the image, keeping the weights fixed.\n",
        "\n",
        ">> **Mathematical representation :** $\\boxed{argmax$_IS_c(I)}$\n",
        " \n",
        " >> **More details : **[paper](https://arxiv.org/pdf/1312.6034.pdf)\n",
        "\n",
        ">>> >>> ![](https://github.com/bhgtankita/ML-DNN/blob/master/images/GRAD-CAM_images/Class%20Model%20Vis.PNG?raw=true).\n",
        "\n",
        "\n",
        "\n"
      ]
    },
    {
      "metadata": {
        "id": "LbNDnHKfTokL",
        "colab_type": "text"
      },
      "cell_type": "markdown",
      "source": [
        "> ### 2.2 Saliency Maps\n",
        "\n",
        ">> **Objective : **\n",
        "* Find the pixels of an image which contribute most towards a particular classification.\n",
        "\n",
        ">> **Approach :**\n",
        "* We’re going to take the derivative of the class score $S_c$ with respect to the input image space $I$, and evaluate on our image $I_0$.\n",
        "* We are going to take the magnitude of scalar values and then normalize them to get a class saliency map $M_c$ over the image.\n",
        "\n",
        ">> **Mathematical representation :**  $\\boxed{M_c(i , j) = \\frac{w_{ij}}{\\sum_{ij}{w_{ij}}}}$    \n",
        ">>> >>> > Where,\n",
        ">>> >>>+ $w_{ij}^c$ = $\\frac{\\partial{S_c}}{\\partial{I}}|_{I_0}$, scalar quantity at location (i , j) for class $c$\n",
        "\n",
        ">> **More details :** [paper](https://arxiv.org/pdf/1312.6034.pdf),  [code sample](https://github.com/bhgtankita/ML-DNN/blob/master/VGG/Saliency.ipynb)\n",
        "\n",
        ">>> >>> <center>\n",
        "![](https://github.com/bhgtankita/ML-DNN/blob/master/images/GRAD-CAM_images/Saliency.PNG?raw=true)\n",
        "</center>"
      ]
    },
    {
      "metadata": {
        "id": "d584HxarTt7m",
        "colab_type": "text"
      },
      "cell_type": "markdown",
      "source": [
        ">  ### 2.3 Class Activation Maps\n",
        "> > **Objective : **\n",
        "* Generate a class activation map for a particular category, which indicates the discriminative image regions used by the CNN to identify that category.\n",
        "\n",
        ">> **Approach :**\n",
        "* In this technique we are modifying the base network to remove all fully-connected layers at the end, and including a tensor product followed by softmax. This tensor product is generated by using Global Average Pooing (refer [section 3](#scrollTo=hAoxC4oYSwdq) to understand GAP).\n",
        ">>> >>> > ![](https://github.com/bhgtankita/ML-DNN/blob/master/images/GRAD-CAM_images/CAM1.PNG?raw=true)\n",
        "* As we are changing the architecture here, network should be retrained. This sometimes lead to a decrease in accuracy.\n",
        "* Due to global Average Pooling, we can use different input image sizes.\n",
        "* We are not only using this architecture for classification, but we are also producing saliency map for visualization. \n",
        "* Overall architecture can be depicted as below.\n",
        ">>> >>> ![](https://github.com/bhgtankita/ML-DNN/blob/master/images/GRAD-CAM_images/CAM2.PNG?raw=true)\n",
        "\n",
        ">> **Mathematical representation :**  $\\boxed{S_c = \\sum_k{w_c^k}\\sum_{i, j}f_k{(i , j)}}$\n",
        "\n",
        ">>> >>> > Where, \n",
        ">>> > + $f_k{(i , j)}$ = activation at the $(i,j)$th location in feature map $k$\n",
        "<br>\n",
        ">>> > + $\\sum_{i, j}f_k{(i , j)}$ = summing up the activations within each feature map\n",
        "<br>\n",
        ">>> >+ $w_k^c$ = weights which are learnt by taking a weighted average across the feature maps\n",
        "<br>\n",
        ">>> >+ $S_c$ = score for each class\n",
        "\n",
        ">>> >>> > $\\boxed{M_c{(i , j)} = \\sum_k{w_c^k f_k{(i , j)}}}$\n",
        "\n",
        ">>> >>> >+ Here we are using the learned weight vectors $w_k^c$ to take a weighted average of each of the feature maps.\n",
        "\n",
        ">> **More details :** [paper](https://arxiv.org/pdf/1512.04150.pdf),  [What the CNN is looking](https://www.youtube.com/watch?v=fZvOy0VXWAI), [Places Demonstration](http://places2.csail.mit.edu/demo.html)\n",
        "\n",
        ">>> >>> ![](https://github.com/bhgtankita/ML-DNN/blob/master/images/GRAD-CAM_images/CAM.PNG?raw=true)"
      ]
    },
    {
      "metadata": {
        "id": "hAoxC4oYSwdq",
        "colab_type": "text"
      },
      "cell_type": "markdown",
      "source": [
        "## 3.What is Global Average Pooling? \n",
        "<hr>\n",
        "\n",
        "The traditional neural network classifiers have convolution layers in the beginning. For the classifications output of convolution is vectorized and fed into fully connected layers which will be followed by a softmax layer with the prediction of class probability. Global Average Pooling will be used to remove fully connected layers from Convnet as they are responsible to overfitting.\n",
        "Instead of adding fully connected layers on top of the feature maps, we take the average of each feature map, and the resulting vector is fed directly into the softmax layer.\n",
        "\n",
        "> Why GAP is popular?\n",
        "> *   More native to the convolutional structure\n",
        "> *   No parameter to optimize \n",
        "> *   Overfitting is avoided\n",
        "> *   More robust to spatial translations of input\n",
        "> *   Allows flexibility in input size\n",
        "\n",
        ">>> > ![](https://github.com/bhgtankita/ML-DNN/blob/master/images/GRAD-CAM_images/GAP.PNG?raw=true)"
      ]
    },
    {
      "metadata": {
        "id": "e62otHuvqhvW",
        "colab_type": "text"
      },
      "cell_type": "markdown",
      "source": [
        "## 4.Grad-CAM & Guided Grad-CAM : High resolution Class-discriminative  Visualization Techniques\n",
        "<hr>\n",
        "\n",
        "Grad-CAM is a technique, which uses the gradients of any target class, say score for the ‘dog’ or even a caption, flowing into the final convolutional layer to produce a coarse localization map highlighting the important regions in the image for predicting the concept. \n",
        "<br><br>\n",
        "The visualization of features directly can be less informative. Hence, we use the training procedure of backpropagation to activate the filters for better visualization. Since we pick what neurons are to be activated for backpropagation, it is called guided backpropagation. We will fuse Guided Backpropagation and the Grad-CAM visualizations via a pointwise multiplication, to achieve Guided Grad-CAM result.\n",
        "<br><br>\n",
        "You can read the original paper [here](https://arxiv.org/pdf/1610.02391v1.pdf).\n"
      ]
    },
    {
      "metadata": {
        "id": "qvCSrVp_0HC5",
        "colab_type": "text"
      },
      "cell_type": "markdown",
      "source": [
        "> ### 4.1 Paper key notes\n",
        "\n",
        "> *  Grad-CAM technique is highly class-discriminative i.e. 'cat' representation exclusively highlights the cat region and not the dog region and vice versa.\n",
        "\n",
        "> * Though it is class-discriminative, it can not show the fine-grained details in the image. The reason is the size of final convolution layer in CNN, which is typically very small. e.g. 14x14 in VGGNet, 7x7 in DenseNet \n",
        "\n",
        "> *  To produce high-resolution class-discriminative output, it fuses pixel gradient visualizations such as Guided backpropagation or Deconvolution, with Grad-CAM and generate Guided Grad-CAM representation. \n",
        "\n",
        "> *  [Guided backpropagation](#scrollTo=8xZLV5uqI8I1) technique is being used to implement pixel gradient visualization because it is noise-free.\n",
        "\n",
        "> *  The best part is, no need to retrain the network.  \n",
        "\n",
        "> *  Grad-CAM is a strict generalization of the CAM technique. While CAM is limited to a narrow class of CNN models as it requires feature maps to directly precede softmax layers, Grad-CAM is broadly applicable to any CNN-based architecture.  For a fully-convolutional\n",
        "architecture, Grad-CAM reduces to CAM by ignoring rectification/normalization\n",
        "for visualization purposes.\n",
        "\n",
        "> *  This technique can be implemented using a single forward and a partial backward pass per image. \n",
        "\n",
        "> *  Not only image classification, it can also be used for image captioning and VQA (Visual Question Answering) using CNN and LSTM models."
      ]
    },
    {
      "metadata": {
        "id": "SlMynoTqRNCO",
        "colab_type": "text"
      },
      "cell_type": "markdown",
      "source": [
        "> ### 4.2 Architecture details\n",
        "\n",
        ">> **Grad-CAM :**\n",
        "> * We are calculating gradients of a class logit with respect to activation maps corresponding to the final convolutional layer.\n",
        "> *  Then we are taking the weighted average of these activation maps by using the gradients as weights.\n",
        "> *  Finally, we are applying ReLU to highlight regions that positively correlates with the chosen class.\n",
        "> *  Projecting the obtained result back to the input space in the form of heatmaps (coarse localization maps). \n",
        "> * The generated image is highly class-discriminative and localize relevant image regions well, but they lack the ability to show fine-grained importance.\n",
        "\n",
        ">> **Guided Grad-CAM :**\n",
        "> * We have to generate an image which is class discriminative as well as high in resolution.  \n",
        "> * To achieve this, we are going to implement guided backpropagation and blend the generated image with Grad-CAM resultant image.  \n",
        "> * In guided backpropagation while propagating the gradient, we set all the\n",
        "negative gradients to 0. Which means we are propagating only the weights which are positive and all the activations which are greater than 0 along the back.\n",
        "> * To generate Guided Grad-CAM result we have to perform pointwise multiplication between Grad-CAM and Guided back propagation results. \n",
        "\n",
        "\n",
        "> ![](https://github.com/bhgtankita/ML-DNN/blob/master/images/GRAD-CAM_images/Grad-CAM_ARCH.png?raw=true)\n",
        "\n",
        ">> **Backpropagation Vs Deconvolution Vs. Guided Backpropagation :**\n",
        "\n",
        ">> * Guided Backpropagation seems to have a clear advantage over the plain gradient or the Deconvolution in terms of generating high resolution which shows fine grained details in the image.\n",
        ">> * During plain backpropagation we are considering both the paths which have positive and negative influence on the output class score and these end up cancelling out in a weird interference pattern, causing gradients to seem noisy. while in [Guided backpropagation](#scrollTo=8xZLV5uqI8I1), we only keep paths that lead to positive influence on the class score, and suppress the ones that have negative influence, leading to much cleaner looking images.\n",
        ">> * To implement pixel gradient visualization, Guided backpropagation is chosen over Deconvolution because it produces noise-free visualization. Another reason is Deconvolution led to non-discriminative localizations while Guided backpropagation led to somewhat discriminative localization.\n",
        "\n",
        ">>> >> ![](https://github.com/bhgtankita/ML-DNN/blob/master/images/GRAD-CAM_images/Architectural_decision.PNG?raw=true)\n",
        "\n"
      ]
    },
    {
      "metadata": {
        "id": "1LT6PN5yZDTn",
        "colab_type": "text"
      },
      "cell_type": "markdown",
      "source": [
        "> ### 4.3 Mathematical Representation\n",
        "\n",
        "> * To derive the class-discriminative localization map, we are calculating gradient of $y^c$ with respect to feature map A of a convolution layer.\n",
        "\n",
        "> * To obtain important weights $\\alpha_c^k$, now we take the average of gradients which are flowing back. It is just a single backward call till the convolutional layer.\n",
        "\n",
        "> * Generated weights $\\alpha_c^k$ represents a partial linearization of deep network downstream from $A$.\n",
        "\n",
        "$$\\boxed{\\alpha_c^k = \\overbrace{\\frac{1}{Z}\\sum_i\\sum_j}^{\\text{global average pooling}} \\underbrace{\\frac{\\partial{y^c}}{\\partial{A_{ij}^k}}}_{\\text{gradients via backprop}}}$$\n",
        "\n",
        ">>> >>> Where,\n",
        "\n",
        ">>> >>> $y^c$  = score for class c\n",
        "<br>\n",
        ">>> >>> $A_{ij}^k$ = feature maps of last convolution layer\n",
        "<br>\n",
        ">>> >>> $\\alpha_c^k$ = weights, which captures the importance of feature map k for a target class c\n",
        "\n",
        "> * We will now take the linear combination of feature maps followed by the ReLU. \n",
        "\n",
        "> * As we are only interested in the features that have a positive influence on the class of interest, i.e. pixels whose intensity should be increased in order to increase $y^c$, ReLU is the best choice here. Negative values are for the pixels those are likely to belong to another category in the image, so we get rid of it by using ReLU.\n",
        "\n",
        "\n",
        "$$\\boxed{L_{Grad-CAM}^c = ReLU {\\underbrace{(\\sum_k\\alpha_k^cA^k)}_{\\text{linear combination}}}}$$\n",
        "\n",
        ">>> >>> Where,\n",
        "\n",
        ">>> >>> $L_{Grad-CAM}^c$ = localization map for class $c$\n",
        "\n",
        "> * The generated heat-map is of the same size as convolutional feature maps, which is 7x7 in DenseNet.\n"
      ]
    },
    {
      "metadata": {
        "id": "l_OJFwRQtBjp",
        "colab_type": "text"
      },
      "cell_type": "markdown",
      "source": [
        "## 5.Keras Visualization Toolkit\n",
        "<hr>\n",
        "\n",
        "keras-vis is a toolkit for visualizing and debugging our trained keras neural net models. We can directly make use of these APIs instead writing the code manually for visual representation. This toolkit supports 3 visualizations techniques :\n",
        "\n",
        ">>  1.   Activation maximization\n",
        ">>  *   Saliency maps\n",
        ">>  *   Gradient-weighted Class activation maps\n",
        "\n",
        "Refer this toolkit document [link](https://raghakot.github.io/keras-vis/) for detail information.\n",
        "\n",
        "As we are interested in Grad-CAM implementation, below are the exposed APIs. \n",
        "\n",
        "*   **visualize_cam**:- general purpose API for visualizing grad-CAM.\n",
        "\n",
        "*   **visualize_cam_with_losses**:- intended for research use-cases where some custom weighted loss can be used.\n",
        "\n",
        "There are few newly added APIs in package 0.3.2 for grad-cam custom loss functions. API toolkit Document is not yet updated with latest information.  \n",
        "\n",
        "*   **visualize_class_cam**\n",
        "*   **visualize_regression_cam**\n",
        "\n",
        "<br>\n",
        "Check out ***Self driving toy car demonstration*** implementation by [experiencor](https://github.com/experiencor/self-driving-toy-car), which make use of **visualize_regression_cam** API and [raghakot](https://github.com/raghakot/keras-vis/tree/master/applications/self_driving) which utilize **visualize_cam** API, for Grad-CAM implementation."
      ]
    },
    {
      "metadata": {
        "id": "qffuvn0EjBFJ",
        "colab_type": "text"
      },
      "cell_type": "markdown",
      "source": [
        "## 6.Weeknesses of Grad-CAM and further improvements\n",
        "<hr>\n",
        "**Weaknesses of Grad-CAM: **\n",
        "1. Multiple occurrences of the same class (Rows 1&2)\n",
        "2. Localization capability of an object in an image (Rows 3&4)\n",
        "<br>  \n",
        "   \n",
        "> According to [paper](https://arxiv.org/abs/1710.11063) released in October 2017, Grad-CAM++ technique gives better localization and visual representation. Below illustration is taken from the Grad-CAM++ paper, which compares results from both the techniques.\n",
        "<br><br>    \n",
        "\n",
        "   > ![](https://github.com/bhgtankita/ML-DNN/blob/master/images/GRAD-CAM_images/Grad-CAM++.PNG?raw=true)\n"
      ]
    },
    {
      "metadata": {
        "id": "tNk-Bn6PU-cR",
        "colab_type": "text"
      },
      "cell_type": "markdown",
      "source": [
        "## 7.What is DenseNet?\n",
        "<hr>\n",
        "If you are already familiar with DenseNet architecture, you can directly jump to [Section 8](#scrollTo=XWqQzaXYq7Ft). \n",
        "\n",
        "DenseNet has achieved significant success in many applications. However, deep models are\n",
        "hard to train and require longer times to converge. Let's see some of the architectural properties of DenseNet.\n",
        "<br>\n",
        "*   Each layer's feature map is concatenated to the input of every successive layer which allows feature reuse within network and Strengthen feature propagation.\n",
        "*   It uses skip connections which is convenient to make gradient\n",
        "flow easily and overcome the overfitting. It is having multi-layer-skipping structure which proved to have better performance.\n",
        "*   It is not having fully connected layers which will help to reduce number of parameters and computations. \n",
        "*   Solves vanishing-gradient problem. It is proven more efficient on some image classification benchmarks.\n",
        "*   DenseNet uses a lot more memory, so it is preferred in case of small dataset.\n",
        "\n",
        "> Mathematically it can be represented as :  $\\boxed{x_l = H_l([x_0,x_1,...,x_{l-1}])}$\n",
        "\n",
        "> Where, [$x_0$,$x_1$,...,$x_l-1$]  refers to the concatenation of the feature maps produced in layers 0 , ... , ${l-1}$ and $H$ means stacking over the depth dimension.\n",
        "\n",
        "You can refer original [paper](https://arxiv.org/abs/1608.06993) which has received CVPR 2017 Best Paper Award.\n"
      ]
    },
    {
      "metadata": {
        "id": "sgA4QhoqWbrZ",
        "colab_type": "text"
      },
      "cell_type": "markdown",
      "source": [
        "> ### **7.1 Architecture of Densely Connected Networks**\n",
        "\n",
        "> *   Between each dense block there is a transition block.\n",
        "> *   Feature map sizes match within each block.\n",
        "> *   Pooling is used to reduce feature map size.\n",
        "\n",
        ">> ![](https://cdn-images-1.medium.com/max/1200/1*SSn5H14SKhhaZZ5XYWN3Cg.jpeg)\n",
        "<br>\n",
        "\n",
        "> * Imagine we have an image with shape(28, 28, 3). First, we spread image to initial 24 channels and receive the image (28, 28, 24). \n",
        "> * Every next convolution layer will generate k=12 features, and remain width and height same. The output from $L_i$ layer will be (28, 28, 12). But input to the $L_{i+1}$ will be (28, 28, 24+12), for $L_{i+2}$ (28, 28, 24 + 12 + 12) and so on. \n",
        "> * After a while, we receive the image with same width and height, but with plenty of features (28, 28, 48). These N layers are referred as ***Dense Block***. \n",
        "> * There is also batch normalization, nonlinearity and dropout inside the block.\n",
        "\n",
        ">>> >> ![DenseNet](https://cdn-images-1.medium.com/max/1200/1*6JoB4BeIZyWDNGH5U63y_Q.png)\n",
        "<br>\n",
        "\n",
        "> * ***Transition Layers*** are used to reduce the size. These layers contain convolution with kernel size = 1, followed by 2x2 average pooling with stride = 2. \n",
        "> * It reduces height and width dimensions but leaves feature dimension the same. As a result, we receive the image with shapes (14, 14, 48).\n",
        "\n",
        ">>> >>> >> ![](https://cdn-images-1.medium.com/max/1200/1*-CQyW4huxxxMYpffb72emg.png)\n",
        "\n",
        "> * Now we can again pass the image through the block with N convolutions. \n",
        "> * With this approach, DenseNet improved a flow of information and gradients throughout the network. Each layer has direct access to the gradients from the loss function and the original input signal.\n",
        "<br><br>\n",
        "<u>**Various DenseNet Architectures : ** </u>\n",
        "* Growth rate k = 32\n",
        "* each convolution layer shown in the table corresponds the sequence BN-ReLU-Conv\n",
        ">>> ![](https://github.com/bhgtankita/ML-DNN/blob/master/images/GRAD-CAM_images/DenseNet.PNG?raw=true)"
      ]
    },
    {
      "metadata": {
        "id": "XWqQzaXYq7Ft",
        "colab_type": "text"
      },
      "cell_type": "markdown",
      "source": [
        "## 8.Project details and Implementation approach\n",
        "<hr>\n",
        "\n",
        "* This iPython notebook is implementation of [paper](https://arxiv.org/pdf/1610.02391v1.pdf), which beautifully demonstrate the visual representation of where CNN is looking.\n",
        "\n",
        "* For the implementation of Grad-CAM, we have taken reference of the code implemented by [jacobgil](https://github.com/jacobgil/keras-grad-cam).\n",
        "\n",
        "* The original paper uses VGG16 imagenet pretrained weights for Grad-CAM implementation. Here we are using DenseNet121 for better classification and localization.\n",
        "\n",
        "*  For this implementation, we are using Keras DenseNet application with imagenet pretrained weights.\n",
        "\n",
        "    *   Image size : 224x224\n",
        "    *   Channels    : 3\n",
        "    *   Classes      : 1000\n",
        "    \n",
        "* **Why are we using DenseNet121?**\n",
        "  1. DenseNet gives better classification accuracy with less number of parameters. Refer below image with models performace table. \n",
        "\n",
        "  2. Features which are extracted at very early layers are, directly used by deep layers throughout the same dense block. Which means it contains a feature layer (convolutional layer) capturing low-level features from images. In a simple terms, VGG doesn't consider that grass is green (which is something that you can infer from initial layer activations) while detecting the playground, but Densenet can do it. That's why DenseNet is a good feature extractor for various computer vision tasks that build on convolutional features.\n",
        "  \n",
        ">> <u>**Models performance on the ImageNet validation dataset :**</u>\n",
        "\n",
        ">> ![](https://github.com/bhgtankita/ML-DNN/blob/master/images/GRAD-CAM_images/CNN_Architecture_Performance_.PNG?raw=true)\n",
        "    \n",
        "* We are using output of the final convolutional layer in DenseNet121 which is 'conv5_block16_concat'. The resulting feature map is of shape 7x7x1024.\n",
        "\n",
        "\n"
      ]
    },
    {
      "metadata": {
        "id": "iDLWI1SU5oZQ",
        "colab_type": "text"
      },
      "cell_type": "markdown",
      "source": [
        "> ### 8.1 Grad-CAM implementation results based on different models\n",
        "\n",
        "> * Here I have executed Grad-CAM technique with different models to choose the best one.\n",
        "\n",
        "> * DenseNet gives quite reliable classification accuracy compare to VGG.\n",
        "\n",
        "> * Based on below experiment results, it seems DenseNet121 can well localize the target class. And it has less parameters and less number of layers compare to DenseNet201, which can help us to speed up the execution.\n",
        "\n",
        "> * Refer [Source code](https://github.com/bhgtankita/ML-DNN/tree/master/Grad-CAM%20implementation/Model%20architecture%20decision) for these implementation.\n",
        "\n",
        ">>> ![](https://github.com/bhgtankita/ML-DNN/blob/master/images/GRAD-CAM_images/Model_Compare.PNG?raw=true)"
      ]
    },
    {
      "metadata": {
        "id": "3GSEJo6F5n2N",
        "colab_type": "text"
      },
      "cell_type": "markdown",
      "source": [
        "> ### 8.2 Grad-CAM implementation results for different convolution layers\n",
        "\n",
        "> * In Grad-CAM, we are calculating gradients of a class score with respect to activations of convolution layer. \n",
        "> * Here I have tried using different convolution layers of the model and recorded the results. \n",
        "> * I have observed that heatmap of last layers are class discriminative. As we are moving towards earlier convolution layers localization is getting worse.\n",
        "> * The reason is later convolution layers capture high-level semantic information and retain spatial information, while the shallower layers have smaller receptive fields and can only concentrate on local features which are important for the next layer.\n",
        "<br>\n",
        ">>> >>> ![](https://github.com/bhgtankita/ML-DNN/blob/master/images/GRAD-CAM_images/ConvLayer_result.PNG?raw=true)\n",
        "\n",
        "> * I have picked few random layers from later Dense and Transition blocks to check the behavior. But results were not satisfactory. \n",
        "\n",
        ">>> >>> ![](https://github.com/bhgtankita/ML-DNN/blob/master/images/GRAD-CAM_images/Other_Conv_Results.PNG?raw=true)\n",
        "\n",
        "> * The result of using Last Convolution layer \"**conv5_block16_concat**\" with 1024 feature maps and second last layer ''**conv5_block16_2_conv**'' with 32 feature maps, were almost identical. \n",
        "\n",
        "> * That's the reason we are using penultimate layer \"**conv5_block16_concat**\" to find out the gradients of class.\n"
      ]
    },
    {
      "metadata": {
        "id": "WWOmmoH2XDG3",
        "colab_type": "text"
      },
      "cell_type": "markdown",
      "source": [
        "## 9.Let's crack the code !\n",
        "<hr>\n",
        "\n"
      ]
    },
    {
      "metadata": {
        "id": "iyPYJVlh-yDO",
        "colab_type": "text"
      },
      "cell_type": "markdown",
      "source": [
        "+ Initialization\n",
        "    \n",
        "    + We are using ImageNet-trained DenseNet121 network.\n",
        "\n",
        "    + We are using keras library for it which is made available alongside pre-trained weights. \n",
        "    \n",
        "    + The default input size for this model is 224x224.\n",
        "    \n",
        "    + No need to retrain the network as we are not modifying the existing model structure.\n",
        "\n",
        "+ Define Utility Functions\n",
        " \n",
        "+ Load and instantiate DenseNet121 model\n",
        "\n",
        "+ Apply image classifier on input image\n",
        "\n",
        "+ Perform Grad-CAM and Guided Grad-CAM on image with maximum probability class\n",
        "\n",
        "+ Perform visualization on a specific class\n",
        "\n",
        "+ Perform Grad-CAM on video file"
      ]
    },
    {
      "metadata": {
        "id": "3GeWFDhlMfR0",
        "colab_type": "text"
      },
      "cell_type": "markdown",
      "source": [
        "### 9.1 Initialization"
      ]
    },
    {
      "metadata": {
        "id": "LX5a0h50n5eE",
        "colab_type": "code",
        "colab": {
          "autoexec": {
            "startup": false,
            "wait_interval": 0
          },
          "base_uri": "https://localhost:8080/",
          "height": 35
        },
        "outputId": "7cdcf22d-ae7f-4042-bdf1-96ca41cdb66b",
        "executionInfo": {
          "status": "ok",
          "timestamp": 1530373741315,
          "user_tz": -330,
          "elapsed": 2347,
          "user": {
            "displayName": "Ankita Bhagat",
            "photoUrl": "https://lh3.googleusercontent.com/a/default-user=s128",
            "userId": "101389315552055937052"
          }
        }
      },
      "cell_type": "code",
      "source": [
        "from keras.applications.densenet import (\n",
        "    DenseNet121, preprocess_input, decode_predictions)\n",
        "from keras.preprocessing import image\n",
        "from keras.layers.core import Lambda\n",
        "from keras.models import Sequential\n",
        "from tensorflow.python.framework import ops\n",
        "import keras.backend as K\n",
        "import tensorflow as tf\n",
        "import numpy as np\n",
        "import keras\n",
        "import sys\n",
        "import cv2"
      ],
      "execution_count": 0,
      "outputs": [
        {
          "output_type": "stream",
          "text": [
            "Using TensorFlow backend.\n"
          ],
          "name": "stderr"
        }
      ]
    },
    {
      "metadata": {
        "id": "c6GuHr4DHMrq",
        "colab_type": "text"
      },
      "cell_type": "markdown",
      "source": [
        "### 9.2 Define Utility Functions"
      ]
    },
    {
      "metadata": {
        "id": "FxfjOT791Mux",
        "colab_type": "text"
      },
      "cell_type": "markdown",
      "source": [
        "<u>**Creating a target function**</u>\n",
        "\n",
        "* The output of grad-cam will be pixels that contribute to the maximization of below target function. \n",
        "\n",
        "* If for example we are interested in what maximizes category number 20, then zero out all the other categories. Below function implements same."
      ]
    },
    {
      "metadata": {
        "id": "Ec8G7fZ1sz7H",
        "colab_type": "code",
        "colab": {
          "autoexec": {
            "startup": false,
            "wait_interval": 0
          }
        }
      },
      "cell_type": "code",
      "source": [
        "\"\"\" \n",
        "    If we are considering category \"bull_mustiff\" which is having highest probability, we are computing one-hot encoding representation for that class.\n",
        "    Then applying elementwise multiplication operation\n",
        "\"\"\"\n",
        "\n",
        "def target_category_loss(x, category_index, nb_classes):    \n",
        "    return tf.multiply(x, K.one_hot([category_index], nb_classes))"
      ],
      "execution_count": 0,
      "outputs": []
    },
    {
      "metadata": {
        "id": "V0rguIDtn7jl",
        "colab_type": "code",
        "colab": {
          "autoexec": {
            "startup": false,
            "wait_interval": 0
          }
        }
      },
      "cell_type": "code",
      "source": [
        "\"\"\"\n",
        "    Returning shape for the input tensor\n",
        "\"\"\"\n",
        "\n",
        "def target_category_loss_output_shape(input_shape):\n",
        "    return input_shape"
      ],
      "execution_count": 0,
      "outputs": []
    },
    {
      "metadata": {
        "id": "R445HuWv8Ew4",
        "colab_type": "code",
        "colab": {
          "autoexec": {
            "startup": false,
            "wait_interval": 0
          }
        }
      },
      "cell_type": "code",
      "source": [
        "\"\"\"\n",
        "    calculating RMS (root mean square) and normalize a tensor by its L2 norm\n",
        "\"\"\"    \n",
        "\n",
        "def normalize(x):\n",
        "    return x / (K.sqrt(K.mean(K.square(x))) + 1e-5)"
      ],
      "execution_count": 0,
      "outputs": []
    },
    {
      "metadata": {
        "id": "xlFQyXwM1cZv",
        "colab_type": "text"
      },
      "cell_type": "markdown",
      "source": [
        "<u>**Loading and preprocessing the image**</u>\n",
        "\n",
        "* We are loading a PIL image with target size (224, 224).\n",
        "\n",
        "* Converting image to an array and adding extra dimension for batch size.\n",
        "\n",
        "* Normalizing the image by subtracting mean RGB values from the input image using a helper function preprocess_input."
      ]
    },
    {
      "metadata": {
        "id": "FUKzL-rcn8og",
        "colab_type": "code",
        "colab": {
          "autoexec": {
            "startup": false,
            "wait_interval": 0
          }
        }
      },
      "cell_type": "code",
      "source": [
        "def load_image(path):\n",
        "    img_path = path\n",
        "    img = image.load_img(img_path, target_size=(224, 224))\n",
        "    original_image = image.img_to_array(img)   #\"\"\" shape (224, 224, 3) \"\"\"\n",
        "    x = image.img_to_array(img)\n",
        "    x = np.expand_dims(x, axis=0)     #\"\"\" transforming the array : shape (1, 224, 224, 3) \"\"\"\n",
        "    x = preprocess_input(x)           #\"\"\" channel-wise color normalization \"\"\"   \n",
        "    return original_image, x"
      ],
      "execution_count": 0,
      "outputs": []
    },
    {
      "metadata": {
        "id": "qVjkRojX7mlv",
        "colab_type": "text"
      },
      "cell_type": "markdown",
      "source": [
        "<u>**Registering Gradients for ReLU :**</u>\n",
        "\n",
        "* In below piece of code, we are implementing custom gradient function, which changes the gradients for all ReLu activations according to Guided Backpropagation.  \n",
        "* As gradients for ReLU is not included in Tensorflow, we need to implement it manually. \n",
        "* Because we are implementing Gradient function for a new mathematical operation, it has to inherit from Decop and its gradient has to be “registered” (RegisterGradient).\n"
      ]
    },
    {
      "metadata": {
        "id": "wPsTP5FkoCaV",
        "colab_type": "code",
        "colab": {
          "autoexec": {
            "startup": false,
            "wait_interval": 0
          }
        }
      },
      "cell_type": "code",
      "source": [
        "\"\"\"\n",
        "    register gradients for ReLU\n",
        "\"\"\"\n",
        "\n",
        "def register_gradient():    \n",
        "    if \"GuidedBackProp\" not in ops._gradient_registry._registry:\n",
        "        @ops.RegisterGradient(\"GuidedBackProp\")\n",
        "        def _GuidedBackProp(op, grad):\n",
        "            dtype = op.inputs[0].dtype      # \"\"\" op.inputs[0] contains the forward-pass value of the op; dtype = datatype \"\"\"\n",
        "            return grad * tf.cast(grad > 0., dtype) * \\\n",
        "                tf.cast(op.inputs[0] > 0., dtype)"
      ],
      "execution_count": 0,
      "outputs": []
    },
    {
      "metadata": {
        "id": "2j_zf--Unk3V",
        "colab_type": "text"
      },
      "cell_type": "markdown",
      "source": [
        "<u>**Computing Saliency Maps**</u>\n",
        "\n",
        "* Below is the helper function for computing the saliency map.\n",
        "* It is computing the gradient of the activation layer which is 'conv5_block16_concat' with respect to the input image. \n",
        "* Moreover we are interested in the gradient of predicted class, which means we will pick maximum activations from the convolution layer. "
      ]
    },
    {
      "metadata": {
        "id": "kUuzLjyfoEKm",
        "colab_type": "code",
        "colab": {
          "autoexec": {
            "startup": false,
            "wait_interval": 0
          }
        }
      },
      "cell_type": "code",
      "source": [
        "\"\"\"\n",
        "    Compiles a function to compute the saliency maps and predicted classes\n",
        "    for a given minibatch of input images.\n",
        "\"\"\"\n",
        "  \n",
        "def compile_saliency_function(model, activation_layer='conv5_block16_concat'):    \n",
        "    input_img = model.input\n",
        "    layer_dict = dict([(layer.name, layer) for layer in model.layers[1:]])\n",
        "    layer_output = layer_dict[activation_layer].output\n",
        "    max_output = K.max(layer_output, axis=3)     # \"\"\"Picking the maximum activations from the channels\"\"\"\n",
        "    saliency = K.gradients(K.sum(max_output), input_img)[0]\n",
        "    return K.function([input_img, K.learning_phase()], [saliency])"
      ],
      "execution_count": 0,
      "outputs": []
    },
    {
      "metadata": {
        "id": "8xZLV5uqI8I1",
        "colab_type": "text"
      },
      "cell_type": "markdown",
      "source": [
        "<u>**Guided Backpropagation :**</u>\n",
        "\n",
        "* We are implementing Guided backpropagation in below helper function, which will help us to visualize which pixels are important for the particular output of the network.\n",
        "\n",
        ">>> >>> >>> **Representation of Guided Grad-CAM**\n",
        "\n",
        ">>> >>> >>> ![](https://github.com/bhgtankita/ML-DNN/blob/master/images/GRAD-CAM_images/Guided%20Backprop.png?raw=true)\n",
        "\n",
        "* As illustrated in the image, X is the input image pixels and Pm is the output class with highest probability. The objective here is to explain why output Pm is high. It can be explained using Guided backpropagation. This technique is computing the gradient of Pm with respect to input, except it is only taking into account path between each X and Pm where all the weights are positive and all the activations are greater than 0 along the back. Any path which is not like that is just being ignored here.\n",
        "\n",
        "* We are overriding gradient of a ReLU operation with the newly implemented gradient 'GuidedBackProp'. We are updating only gradients as we want nothing to be happen in the forward pass. \n",
        "\n"
      ]
    },
    {
      "metadata": {
        "id": "BjxdnAXyoGUX",
        "colab_type": "code",
        "colab": {
          "autoexec": {
            "startup": false,
            "wait_interval": 0
          }
        }
      },
      "cell_type": "code",
      "source": [
        "\"\"\"\n",
        "    This Function is overriding the gradients of a Relu operation with our newly registered gradient \n",
        "    It is returning modified model\n",
        "\"\"\"\n",
        "def modify_backprop(model, name):\n",
        "    g = tf.get_default_graph()\n",
        "    with g.gradient_override_map({'Relu': name}):\n",
        "\n",
        "        # get layers that have an activation\n",
        "        layer_dict = [layer for layer in model.layers[1:]\n",
        "                      if hasattr(layer, 'activation')]\n",
        "\n",
        "        # replace relu activation\n",
        "        for layer in layer_dict:\n",
        "            if layer.activation == keras.activations.relu:\n",
        "                layer.activation = tf.nn.relu\n",
        "\n",
        "        # re-instantiate a new model\n",
        "        new_model = DenseNet121(weights='imagenet')\n",
        "    return new_model"
      ],
      "execution_count": 0,
      "outputs": []
    },
    {
      "metadata": {
        "id": "CFl8k4Adtfo5",
        "colab_type": "text"
      },
      "cell_type": "markdown",
      "source": [
        "<u>**Deprocessing on the Image :**</u>\n",
        "\n",
        "* We are performing normalization on the image with means subtraction and adjusting the standard deviation.\n",
        "* Then filters can be scaled back and clipped to the gradient values."
      ]
    },
    {
      "metadata": {
        "id": "WYL7o11moIfm",
        "colab_type": "code",
        "colab": {
          "autoexec": {
            "startup": false,
            "wait_interval": 0
          }
        }
      },
      "cell_type": "code",
      "source": [
        "\"\"\"\n",
        "    Normalization on the image\n",
        "\"\"\"\n",
        "def deprocess_image(x):\n",
        "\n",
        "    if np.ndim(x) > 3:\n",
        "        x = np.squeeze(x)\n",
        "        \n",
        "    # normalize tensor: center on 0., std is 0.1\n",
        "    x -= x.mean()\n",
        "    x /= (x.std() + 1e-5)\n",
        "    x *= 0.1\n",
        "\n",
        "    # clip to [0, 1]\n",
        "    x += 0.5\n",
        "    x = np.clip(x, 0, 1)\n",
        "\n",
        "    # convert to RGB array\n",
        "    x *= 255\n",
        "    if K.image_dim_ordering() == 'th':\n",
        "        x = x.transpose((1, 2, 0))\n",
        "    x = np.clip(x, 0, 255).astype('uint8')\n",
        "    return x"
      ],
      "execution_count": 0,
      "outputs": []
    },
    {
      "metadata": {
        "id": "bffSFdN6eHBL",
        "colab_type": "text"
      },
      "cell_type": "markdown",
      "source": [
        "<u>**Utility function for Grad-CAM implementation :**</u>\n",
        "\n",
        "*  We are adding an extra layer to the DenseNet121 model, which is having score for the class of interest and all other classes probability is set to 0.\n",
        "\n",
        "* Deriving a loss value, to compute the gradient of it with respect to convolutional layer (conv5_block16_concat) output.\n",
        "\n",
        "*  Pooling channel wise gradients and taking average for each feature map.\n",
        "\n",
        "*  Calculating weight of feature map.\n",
        "\n",
        "* Applying ReLU to get the positive influence activations for the intended class output.\n",
        "\n",
        "*  Generating heatmap and overlaying it to the original image to generate Grad-CAM result."
      ]
    },
    {
      "metadata": {
        "id": "A8pFjUizoJlv",
        "colab_type": "code",
        "colab": {
          "autoexec": {
            "startup": false,
            "wait_interval": 0
          }
        }
      },
      "cell_type": "code",
      "source": [
        "def grad_cam(input_model, image, origin_image, category_index, layer_name):\n",
        "    \n",
        "    \"\"\" Input Paramaters\n",
        "       Input_model -> DenseNet121 model\n",
        "       image -> preprocessed image\n",
        "       original_image -> orginal image array without applying preprocess_input\n",
        "       category_index -> class we are interested in (eg. 243 = bull_mustiff)\n",
        "    \"\"\"\n",
        "\n",
        "    model = Sequential()\n",
        "    model.add(input_model)\n",
        "    \n",
        "    \n",
        "    \"\"\" Instantiating a model with an additional layer. This additional layer will consider\n",
        "    probability of target class (e.g. 243 = bull_mustiff) and setting other class probability to 0 \"\"\"\n",
        "    \n",
        "    nb_classes = 1000\n",
        "        \n",
        "    target_layer = lambda x: target_category_loss(x, category_index, nb_classes)\n",
        "    x = input_model.layers[-1].output # Fully Connected layer - fc1000 \n",
        "    x = Lambda(target_layer, output_shape=target_category_loss_output_shape)(x)\n",
        "    model = keras.models.Model(input_model.layers[0].input, x) # Instantiate a Model\n",
        "    loss = K.sum(model.layers[-1].output)\n",
        "     \n",
        "    \"\"\" Debugging code\n",
        "    \n",
        "    # model.summary()    \n",
        "    # A new layer is added after fully connected layer\n",
        "    \n",
        "    # __________________________________________________________________________________________________\n",
        "    # fc1000 (Dense)                  (None, 1000)         1025000     avg_pool[0][0]                   \n",
        "    # __________________________________________________________________________________________________\n",
        "    # lambda_15 (Lambda)              (None, 1000)         0           fc1000[0][0]\n",
        "    \n",
        "    \"\"\" \n",
        "    \n",
        " \n",
        "    \"\"\" Computing gradients of the above calculated loss with respect to the convolutional layer \n",
        "    (conv5_block16_concat) outputs with the help of backpropagation.  \"\"\"\n",
        "\n",
        "    conv_output = [l for l in model.layers if l.name == layer_name][0].output    \n",
        "    grads = normalize(K.gradients(loss, conv_output)[0]) # normalize to adjust the values between 0 and 1\n",
        "    gradient_function = K.function([model.layers[0].input], [conv_output, grads])\n",
        "    output, grads_val = gradient_function([image]) # Output is the Numpy array -> (1, 7, 7, 1024)   \n",
        "    output, grads_val = output[0, :], grads_val[0, :, :, :] # removing a dimension for \"batch size\" -> (7, 7, 1024)\n",
        "\n",
        "\n",
        "    \n",
        "    \"\"\" pooling the gradients over all the axes leaving out the channel dimension and taking average of each feature map. \n",
        "    Finally, we are weighing the output feature map with the computed gradient values.\n",
        "    It generates (7, 7) image array which we are resizing to match with input image size  \"\"\"\n",
        "    \n",
        "    weights = np.mean(grads_val, axis = (0, 1))\n",
        "    cam = np.ones(output.shape[0 : 2], dtype = np.float32)\n",
        "    for i, w in enumerate(weights):\n",
        "        cam += w * output[:, :, i]\n",
        "    cam = cv2.resize(cam, (224, 224)) # resize (7, 7) image to (224, 224)\n",
        "    \n",
        "    \n",
        "    \n",
        "    \"\"\" Applying ReLU to keep the pixels those have a positive influence on the target function.\n",
        "    Summing up all the scaled channels to obtain the a heatmap \"\"\"\n",
        "    \n",
        "    cam = np.maximum(cam, 0)    \n",
        "    heatmap = cam / np.max(cam)     \n",
        "    \n",
        "    cam = cv2.applyColorMap(np.uint8(255*heatmap), cv2.COLORMAP_JET)\n",
        "    cam = np.float32(cam) + np.float32(origin_image)\n",
        "    cam = 255 * cam / np.max(cam)\n",
        "    \n",
        "    heatmap_print = cv2.applyColorMap(np.uint8(255*heatmap), cv2.COLORMAP_JET)\n",
        "    \n",
        "    return np.uint8(cam), heatmap, heatmap_print\n",
        "   "
      ],
      "execution_count": 0,
      "outputs": []
    },
    {
      "metadata": {
        "id": "ojeFfjACcluc",
        "colab_type": "text"
      },
      "cell_type": "markdown",
      "source": [
        "### 9.3 Load and instantiate DenseNet121 model"
      ]
    },
    {
      "metadata": {
        "id": "jAyjZ6s54sxk",
        "colab_type": "code",
        "colab": {
          "autoexec": {
            "startup": false,
            "wait_interval": 0
          },
          "resources": {
            "http://localhost:8080/nbextensions/google.colab/files.js": {
              "data": "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",
              "ok": true,
              "headers": [
                [
                  "content-type",
                  "application/javascript"
                ]
              ],
              "status": 200,
              "status_text": ""
            }
          },
          "base_uri": "https://localhost:8080/",
          "height": 73
        },
        "outputId": "23531edd-dd83-4b6f-ad99-f1a8f583043c",
        "executionInfo": {
          "status": "ok",
          "timestamp": 1530373807701,
          "user_tz": -330,
          "elapsed": 5661,
          "user": {
            "displayName": "Ankita Bhagat",
            "photoUrl": "https://lh3.googleusercontent.com/a/default-user=s128",
            "userId": "101389315552055937052"
          }
        }
      },
      "cell_type": "code",
      "source": [
        "\"\"\"\n",
        "    Uploading the image on Google Colab\n",
        "\"\"\"\n",
        "\n",
        "from google.colab import files\n",
        "uploaded = files.upload()"
      ],
      "execution_count": 0,
      "outputs": [
        {
          "output_type": "display_data",
          "data": {
            "text/html": [
              "\n",
              "     <input type=\"file\" id=\"files-f349230f-47aa-43ce-bd5d-b2a50c93a75a\" name=\"files[]\" multiple disabled />\n",
              "     <output id=\"result-f349230f-47aa-43ce-bd5d-b2a50c93a75a\">\n",
              "      Upload widget is only available when the cell has been executed in the\n",
              "      current browser session. Please rerun this cell to enable.\n",
              "      </output>\n",
              "      <script src=\"/nbextensions/google.colab/files.js\"></script> "
            ],
            "text/plain": [
              "<IPython.core.display.HTML object>"
            ]
          },
          "metadata": {
            "tags": []
          }
        },
        {
          "output_type": "stream",
          "text": [
            "Saving dog_cat.jpeg to dog_cat.jpeg\n"
          ],
          "name": "stdout"
        }
      ]
    },
    {
      "metadata": {
        "id": "IszqtlCz5ATd",
        "colab_type": "code",
        "colab": {
          "autoexec": {
            "startup": false,
            "wait_interval": 0
          },
          "base_uri": "https://localhost:8080/",
          "height": 16426
        },
        "outputId": "c6856114-5371-40ed-e3e8-585dd5afe114",
        "executionInfo": {
          "status": "ok",
          "timestamp": 1530373832404,
          "user_tz": -330,
          "elapsed": 24652,
          "user": {
            "displayName": "Ankita Bhagat",
            "photoUrl": "https://lh3.googleusercontent.com/a/default-user=s128",
            "userId": "101389315552055937052"
          }
        }
      },
      "cell_type": "code",
      "source": [
        "original_input, preprocessed_input = load_image('dog_cat.jpeg')\n",
        "model = DenseNet121(weights='imagenet')         #\"\"\" loading pretrained weights with instantiation \"\"\"\n",
        "model.summary()"
      ],
      "execution_count": 0,
      "outputs": [
        {
          "output_type": "stream",
          "text": [
            "Downloading data from https://github.com/fchollet/deep-learning-models/releases/download/v0.8/densenet121_weights_tf_dim_ordering_tf_kernels.h5\n",
            "34119680/34115984 [==============================] - 2s 0us/step\n",
            "__________________________________________________________________________________________________\n",
            "Layer (type)                    Output Shape         Param #     Connected to                     \n",
            "==================================================================================================\n",
            "input_1 (InputLayer)            (None, 224, 224, 3)  0                                            \n",
            "__________________________________________________________________________________________________\n",
            "zero_padding2d_1 (ZeroPadding2D (None, 230, 230, 3)  0           input_1[0][0]                    \n",
            "__________________________________________________________________________________________________\n",
            "conv1/conv (Conv2D)             (None, 112, 112, 64) 9408        zero_padding2d_1[0][0]           \n",
            "__________________________________________________________________________________________________\n",
            "conv1/bn (BatchNormalization)   (None, 112, 112, 64) 256         conv1/conv[0][0]                 \n",
            "__________________________________________________________________________________________________\n",
            "conv1/relu (Activation)         (None, 112, 112, 64) 0           conv1/bn[0][0]                   \n",
            "__________________________________________________________________________________________________\n",
            "zero_padding2d_2 (ZeroPadding2D (None, 114, 114, 64) 0           conv1/relu[0][0]                 \n",
            "__________________________________________________________________________________________________\n",
            "pool1 (MaxPooling2D)            (None, 56, 56, 64)   0           zero_padding2d_2[0][0]           \n",
            "__________________________________________________________________________________________________\n",
            "conv2_block1_0_bn (BatchNormali (None, 56, 56, 64)   256         pool1[0][0]                      \n",
            "__________________________________________________________________________________________________\n",
            "conv2_block1_0_relu (Activation (None, 56, 56, 64)   0           conv2_block1_0_bn[0][0]          \n",
            "__________________________________________________________________________________________________\n",
            "conv2_block1_1_conv (Conv2D)    (None, 56, 56, 128)  8192        conv2_block1_0_relu[0][0]        \n",
            "__________________________________________________________________________________________________\n",
            "conv2_block1_1_bn (BatchNormali (None, 56, 56, 128)  512         conv2_block1_1_conv[0][0]        \n",
            "__________________________________________________________________________________________________\n",
            "conv2_block1_1_relu (Activation (None, 56, 56, 128)  0           conv2_block1_1_bn[0][0]          \n",
            "__________________________________________________________________________________________________\n",
            "conv2_block1_2_conv (Conv2D)    (None, 56, 56, 32)   36864       conv2_block1_1_relu[0][0]        \n",
            "__________________________________________________________________________________________________\n",
            "conv2_block1_concat (Concatenat (None, 56, 56, 96)   0           pool1[0][0]                      \n",
            "                                                                 conv2_block1_2_conv[0][0]        \n",
            "__________________________________________________________________________________________________\n",
            "conv2_block2_0_bn (BatchNormali (None, 56, 56, 96)   384         conv2_block1_concat[0][0]        \n",
            "__________________________________________________________________________________________________\n",
            "conv2_block2_0_relu (Activation (None, 56, 56, 96)   0           conv2_block2_0_bn[0][0]          \n",
            "__________________________________________________________________________________________________\n",
            "conv2_block2_1_conv (Conv2D)    (None, 56, 56, 128)  12288       conv2_block2_0_relu[0][0]        \n",
            "__________________________________________________________________________________________________\n",
            "conv2_block2_1_bn (BatchNormali (None, 56, 56, 128)  512         conv2_block2_1_conv[0][0]        \n",
            "__________________________________________________________________________________________________\n",
            "conv2_block2_1_relu (Activation (None, 56, 56, 128)  0           conv2_block2_1_bn[0][0]          \n",
            "__________________________________________________________________________________________________\n",
            "conv2_block2_2_conv (Conv2D)    (None, 56, 56, 32)   36864       conv2_block2_1_relu[0][0]        \n",
            "__________________________________________________________________________________________________\n",
            "conv2_block2_concat (Concatenat (None, 56, 56, 128)  0           conv2_block1_concat[0][0]        \n",
            "                                                                 conv2_block2_2_conv[0][0]        \n",
            "__________________________________________________________________________________________________\n",
            "conv2_block3_0_bn (BatchNormali (None, 56, 56, 128)  512         conv2_block2_concat[0][0]        \n",
            "__________________________________________________________________________________________________\n",
            "conv2_block3_0_relu (Activation (None, 56, 56, 128)  0           conv2_block3_0_bn[0][0]          \n",
            "__________________________________________________________________________________________________\n",
            "conv2_block3_1_conv (Conv2D)    (None, 56, 56, 128)  16384       conv2_block3_0_relu[0][0]        \n",
            "__________________________________________________________________________________________________\n",
            "conv2_block3_1_bn (BatchNormali (None, 56, 56, 128)  512         conv2_block3_1_conv[0][0]        \n",
            "__________________________________________________________________________________________________\n",
            "conv2_block3_1_relu (Activation (None, 56, 56, 128)  0           conv2_block3_1_bn[0][0]          \n",
            "__________________________________________________________________________________________________\n",
            "conv2_block3_2_conv (Conv2D)    (None, 56, 56, 32)   36864       conv2_block3_1_relu[0][0]        \n",
            "__________________________________________________________________________________________________\n",
            "conv2_block3_concat (Concatenat (None, 56, 56, 160)  0           conv2_block2_concat[0][0]        \n",
            "                                                                 conv2_block3_2_conv[0][0]        \n",
            "__________________________________________________________________________________________________\n",
            "conv2_block4_0_bn (BatchNormali (None, 56, 56, 160)  640         conv2_block3_concat[0][0]        \n",
            "__________________________________________________________________________________________________\n",
            "conv2_block4_0_relu (Activation (None, 56, 56, 160)  0           conv2_block4_0_bn[0][0]          \n",
            "__________________________________________________________________________________________________\n",
            "conv2_block4_1_conv (Conv2D)    (None, 56, 56, 128)  20480       conv2_block4_0_relu[0][0]        \n",
            "__________________________________________________________________________________________________\n",
            "conv2_block4_1_bn (BatchNormali (None, 56, 56, 128)  512         conv2_block4_1_conv[0][0]        \n",
            "__________________________________________________________________________________________________\n",
            "conv2_block4_1_relu (Activation (None, 56, 56, 128)  0           conv2_block4_1_bn[0][0]          \n",
            "__________________________________________________________________________________________________\n",
            "conv2_block4_2_conv (Conv2D)    (None, 56, 56, 32)   36864       conv2_block4_1_relu[0][0]        \n",
            "__________________________________________________________________________________________________\n",
            "conv2_block4_concat (Concatenat (None, 56, 56, 192)  0           conv2_block3_concat[0][0]        \n",
            "                                                                 conv2_block4_2_conv[0][0]        \n",
            "__________________________________________________________________________________________________\n",
            "conv2_block5_0_bn (BatchNormali (None, 56, 56, 192)  768         conv2_block4_concat[0][0]        \n",
            "__________________________________________________________________________________________________\n",
            "conv2_block5_0_relu (Activation (None, 56, 56, 192)  0           conv2_block5_0_bn[0][0]          \n",
            "__________________________________________________________________________________________________\n",
            "conv2_block5_1_conv (Conv2D)    (None, 56, 56, 128)  24576       conv2_block5_0_relu[0][0]        \n",
            "__________________________________________________________________________________________________\n",
            "conv2_block5_1_bn (BatchNormali (None, 56, 56, 128)  512         conv2_block5_1_conv[0][0]        \n",
            "__________________________________________________________________________________________________\n",
            "conv2_block5_1_relu (Activation (None, 56, 56, 128)  0           conv2_block5_1_bn[0][0]          \n",
            "__________________________________________________________________________________________________\n",
            "conv2_block5_2_conv (Conv2D)    (None, 56, 56, 32)   36864       conv2_block5_1_relu[0][0]        \n",
            "__________________________________________________________________________________________________\n",
            "conv2_block5_concat (Concatenat (None, 56, 56, 224)  0           conv2_block4_concat[0][0]        \n",
            "                                                                 conv2_block5_2_conv[0][0]        \n",
            "__________________________________________________________________________________________________\n",
            "conv2_block6_0_bn (BatchNormali (None, 56, 56, 224)  896         conv2_block5_concat[0][0]        \n",
            "__________________________________________________________________________________________________\n",
            "conv2_block6_0_relu (Activation (None, 56, 56, 224)  0           conv2_block6_0_bn[0][0]          \n",
            "__________________________________________________________________________________________________\n",
            "conv2_block6_1_conv (Conv2D)    (None, 56, 56, 128)  28672       conv2_block6_0_relu[0][0]        \n",
            "__________________________________________________________________________________________________\n",
            "conv2_block6_1_bn (BatchNormali (None, 56, 56, 128)  512         conv2_block6_1_conv[0][0]        \n",
            "__________________________________________________________________________________________________\n",
            "conv2_block6_1_relu (Activation (None, 56, 56, 128)  0           conv2_block6_1_bn[0][0]          \n",
            "__________________________________________________________________________________________________\n",
            "conv2_block6_2_conv (Conv2D)    (None, 56, 56, 32)   36864       conv2_block6_1_relu[0][0]        \n",
            "__________________________________________________________________________________________________\n",
            "conv2_block6_concat (Concatenat (None, 56, 56, 256)  0           conv2_block5_concat[0][0]        \n",
            "                                                                 conv2_block6_2_conv[0][0]        \n",
            "__________________________________________________________________________________________________\n",
            "pool2_bn (BatchNormalization)   (None, 56, 56, 256)  1024        conv2_block6_concat[0][0]        \n",
            "__________________________________________________________________________________________________\n",
            "pool2_relu (Activation)         (None, 56, 56, 256)  0           pool2_bn[0][0]                   \n",
            "__________________________________________________________________________________________________\n",
            "pool2_conv (Conv2D)             (None, 56, 56, 128)  32768       pool2_relu[0][0]                 \n",
            "__________________________________________________________________________________________________\n",
            "pool2_pool (AveragePooling2D)   (None, 28, 28, 128)  0           pool2_conv[0][0]                 \n",
            "__________________________________________________________________________________________________\n",
            "conv3_block1_0_bn (BatchNormali (None, 28, 28, 128)  512         pool2_pool[0][0]                 \n",
            "__________________________________________________________________________________________________\n",
            "conv3_block1_0_relu (Activation (None, 28, 28, 128)  0           conv3_block1_0_bn[0][0]          \n",
            "__________________________________________________________________________________________________\n",
            "conv3_block1_1_conv (Conv2D)    (None, 28, 28, 128)  16384       conv3_block1_0_relu[0][0]        \n",
            "__________________________________________________________________________________________________\n",
            "conv3_block1_1_bn (BatchNormali (None, 28, 28, 128)  512         conv3_block1_1_conv[0][0]        \n",
            "__________________________________________________________________________________________________\n",
            "conv3_block1_1_relu (Activation (None, 28, 28, 128)  0           conv3_block1_1_bn[0][0]          \n",
            "__________________________________________________________________________________________________\n",
            "conv3_block1_2_conv (Conv2D)    (None, 28, 28, 32)   36864       conv3_block1_1_relu[0][0]        \n",
            "__________________________________________________________________________________________________\n",
            "conv3_block1_concat (Concatenat (None, 28, 28, 160)  0           pool2_pool[0][0]                 \n",
            "                                                                 conv3_block1_2_conv[0][0]        \n",
            "__________________________________________________________________________________________________\n",
            "conv3_block2_0_bn (BatchNormali (None, 28, 28, 160)  640         conv3_block1_concat[0][0]        \n",
            "__________________________________________________________________________________________________\n",
            "conv3_block2_0_relu (Activation (None, 28, 28, 160)  0           conv3_block2_0_bn[0][0]          \n",
            "__________________________________________________________________________________________________\n",
            "conv3_block2_1_conv (Conv2D)    (None, 28, 28, 128)  20480       conv3_block2_0_relu[0][0]        \n",
            "__________________________________________________________________________________________________\n",
            "conv3_block2_1_bn (BatchNormali (None, 28, 28, 128)  512         conv3_block2_1_conv[0][0]        \n",
            "__________________________________________________________________________________________________\n",
            "conv3_block2_1_relu (Activation (None, 28, 28, 128)  0           conv3_block2_1_bn[0][0]          \n",
            "__________________________________________________________________________________________________\n",
            "conv3_block2_2_conv (Conv2D)    (None, 28, 28, 32)   36864       conv3_block2_1_relu[0][0]        \n",
            "__________________________________________________________________________________________________\n",
            "conv3_block2_concat (Concatenat (None, 28, 28, 192)  0           conv3_block1_concat[0][0]        \n",
            "                                                                 conv3_block2_2_conv[0][0]        \n",
            "__________________________________________________________________________________________________\n",
            "conv3_block3_0_bn (BatchNormali (None, 28, 28, 192)  768         conv3_block2_concat[0][0]        \n",
            "__________________________________________________________________________________________________\n",
            "conv3_block3_0_relu (Activation (None, 28, 28, 192)  0           conv3_block3_0_bn[0][0]          \n",
            "__________________________________________________________________________________________________\n",
            "conv3_block3_1_conv (Conv2D)    (None, 28, 28, 128)  24576       conv3_block3_0_relu[0][0]        \n",
            "__________________________________________________________________________________________________\n",
            "conv3_block3_1_bn (BatchNormali (None, 28, 28, 128)  512         conv3_block3_1_conv[0][0]        \n",
            "__________________________________________________________________________________________________\n",
            "conv3_block3_1_relu (Activation (None, 28, 28, 128)  0           conv3_block3_1_bn[0][0]          \n",
            "__________________________________________________________________________________________________\n",
            "conv3_block3_2_conv (Conv2D)    (None, 28, 28, 32)   36864       conv3_block3_1_relu[0][0]        \n",
            "__________________________________________________________________________________________________\n",
            "conv3_block3_concat (Concatenat (None, 28, 28, 224)  0           conv3_block2_concat[0][0]        \n",
            "                                                                 conv3_block3_2_conv[0][0]        \n",
            "__________________________________________________________________________________________________\n",
            "conv3_block4_0_bn (BatchNormali (None, 28, 28, 224)  896         conv3_block3_concat[0][0]        \n",
            "__________________________________________________________________________________________________\n",
            "conv3_block4_0_relu (Activation (None, 28, 28, 224)  0           conv3_block4_0_bn[0][0]          \n",
            "__________________________________________________________________________________________________\n",
            "conv3_block4_1_conv (Conv2D)    (None, 28, 28, 128)  28672       conv3_block4_0_relu[0][0]        \n",
            "__________________________________________________________________________________________________\n",
            "conv3_block4_1_bn (BatchNormali (None, 28, 28, 128)  512         conv3_block4_1_conv[0][0]        \n",
            "__________________________________________________________________________________________________\n",
            "conv3_block4_1_relu (Activation (None, 28, 28, 128)  0           conv3_block4_1_bn[0][0]          \n",
            "__________________________________________________________________________________________________\n",
            "conv3_block4_2_conv (Conv2D)    (None, 28, 28, 32)   36864       conv3_block4_1_relu[0][0]        \n",
            "__________________________________________________________________________________________________\n",
            "conv3_block4_concat (Concatenat (None, 28, 28, 256)  0           conv3_block3_concat[0][0]        \n",
            "                                                                 conv3_block4_2_conv[0][0]        \n",
            "__________________________________________________________________________________________________\n",
            "conv3_block5_0_bn (BatchNormali (None, 28, 28, 256)  1024        conv3_block4_concat[0][0]        \n",
            "__________________________________________________________________________________________________\n",
            "conv3_block5_0_relu (Activation (None, 28, 28, 256)  0           conv3_block5_0_bn[0][0]          \n",
            "__________________________________________________________________________________________________\n",
            "conv3_block5_1_conv (Conv2D)    (None, 28, 28, 128)  32768       conv3_block5_0_relu[0][0]        \n",
            "__________________________________________________________________________________________________\n",
            "conv3_block5_1_bn (BatchNormali (None, 28, 28, 128)  512         conv3_block5_1_conv[0][0]        \n",
            "__________________________________________________________________________________________________\n",
            "conv3_block5_1_relu (Activation (None, 28, 28, 128)  0           conv3_block5_1_bn[0][0]          \n",
            "__________________________________________________________________________________________________\n",
            "conv3_block5_2_conv (Conv2D)    (None, 28, 28, 32)   36864       conv3_block5_1_relu[0][0]        \n",
            "__________________________________________________________________________________________________\n",
            "conv3_block5_concat (Concatenat (None, 28, 28, 288)  0           conv3_block4_concat[0][0]        \n",
            "                                                                 conv3_block5_2_conv[0][0]        \n",
            "__________________________________________________________________________________________________\n",
            "conv3_block6_0_bn (BatchNormali (None, 28, 28, 288)  1152        conv3_block5_concat[0][0]        \n",
            "__________________________________________________________________________________________________\n",
            "conv3_block6_0_relu (Activation (None, 28, 28, 288)  0           conv3_block6_0_bn[0][0]          \n",
            "__________________________________________________________________________________________________\n",
            "conv3_block6_1_conv (Conv2D)    (None, 28, 28, 128)  36864       conv3_block6_0_relu[0][0]        \n",
            "__________________________________________________________________________________________________\n",
            "conv3_block6_1_bn (BatchNormali (None, 28, 28, 128)  512         conv3_block6_1_conv[0][0]        \n",
            "__________________________________________________________________________________________________\n",
            "conv3_block6_1_relu (Activation (None, 28, 28, 128)  0           conv3_block6_1_bn[0][0]          \n",
            "__________________________________________________________________________________________________\n",
            "conv3_block6_2_conv (Conv2D)    (None, 28, 28, 32)   36864       conv3_block6_1_relu[0][0]        \n",
            "__________________________________________________________________________________________________\n",
            "conv3_block6_concat (Concatenat (None, 28, 28, 320)  0           conv3_block5_concat[0][0]        \n",
            "                                                                 conv3_block6_2_conv[0][0]        \n",
            "__________________________________________________________________________________________________\n",
            "conv3_block7_0_bn (BatchNormali (None, 28, 28, 320)  1280        conv3_block6_concat[0][0]        \n",
            "__________________________________________________________________________________________________\n",
            "conv3_block7_0_relu (Activation (None, 28, 28, 320)  0           conv3_block7_0_bn[0][0]          \n",
            "__________________________________________________________________________________________________\n",
            "conv3_block7_1_conv (Conv2D)    (None, 28, 28, 128)  40960       conv3_block7_0_relu[0][0]        \n",
            "__________________________________________________________________________________________________\n",
            "conv3_block7_1_bn (BatchNormali (None, 28, 28, 128)  512         conv3_block7_1_conv[0][0]        \n",
            "__________________________________________________________________________________________________\n",
            "conv3_block7_1_relu (Activation (None, 28, 28, 128)  0           conv3_block7_1_bn[0][0]          \n",
            "__________________________________________________________________________________________________\n",
            "conv3_block7_2_conv (Conv2D)    (None, 28, 28, 32)   36864       conv3_block7_1_relu[0][0]        \n",
            "__________________________________________________________________________________________________\n",
            "conv3_block7_concat (Concatenat (None, 28, 28, 352)  0           conv3_block6_concat[0][0]        \n",
            "                                                                 conv3_block7_2_conv[0][0]        \n",
            "__________________________________________________________________________________________________\n",
            "conv3_block8_0_bn (BatchNormali (None, 28, 28, 352)  1408        conv3_block7_concat[0][0]        \n",
            "__________________________________________________________________________________________________\n",
            "conv3_block8_0_relu (Activation (None, 28, 28, 352)  0           conv3_block8_0_bn[0][0]          \n",
            "__________________________________________________________________________________________________\n",
            "conv3_block8_1_conv (Conv2D)    (None, 28, 28, 128)  45056       conv3_block8_0_relu[0][0]        \n",
            "__________________________________________________________________________________________________\n",
            "conv3_block8_1_bn (BatchNormali (None, 28, 28, 128)  512         conv3_block8_1_conv[0][0]        \n",
            "__________________________________________________________________________________________________\n",
            "conv3_block8_1_relu (Activation (None, 28, 28, 128)  0           conv3_block8_1_bn[0][0]          \n",
            "__________________________________________________________________________________________________\n",
            "conv3_block8_2_conv (Conv2D)    (None, 28, 28, 32)   36864       conv3_block8_1_relu[0][0]        \n",
            "__________________________________________________________________________________________________\n",
            "conv3_block8_concat (Concatenat (None, 28, 28, 384)  0           conv3_block7_concat[0][0]        \n",
            "                                                                 conv3_block8_2_conv[0][0]        \n",
            "__________________________________________________________________________________________________\n",
            "conv3_block9_0_bn (BatchNormali (None, 28, 28, 384)  1536        conv3_block8_concat[0][0]        \n",
            "__________________________________________________________________________________________________\n",
            "conv3_block9_0_relu (Activation (None, 28, 28, 384)  0           conv3_block9_0_bn[0][0]          \n",
            "__________________________________________________________________________________________________\n",
            "conv3_block9_1_conv (Conv2D)    (None, 28, 28, 128)  49152       conv3_block9_0_relu[0][0]        \n",
            "__________________________________________________________________________________________________\n",
            "conv3_block9_1_bn (BatchNormali (None, 28, 28, 128)  512         conv3_block9_1_conv[0][0]        \n",
            "__________________________________________________________________________________________________\n",
            "conv3_block9_1_relu (Activation (None, 28, 28, 128)  0           conv3_block9_1_bn[0][0]          \n",
            "__________________________________________________________________________________________________\n",
            "conv3_block9_2_conv (Conv2D)    (None, 28, 28, 32)   36864       conv3_block9_1_relu[0][0]        \n",
            "__________________________________________________________________________________________________\n",
            "conv3_block9_concat (Concatenat (None, 28, 28, 416)  0           conv3_block8_concat[0][0]        \n",
            "                                                                 conv3_block9_2_conv[0][0]        \n",
            "__________________________________________________________________________________________________\n",
            "conv3_block10_0_bn (BatchNormal (None, 28, 28, 416)  1664        conv3_block9_concat[0][0]        \n",
            "__________________________________________________________________________________________________\n",
            "conv3_block10_0_relu (Activatio (None, 28, 28, 416)  0           conv3_block10_0_bn[0][0]         \n",
            "__________________________________________________________________________________________________\n",
            "conv3_block10_1_conv (Conv2D)   (None, 28, 28, 128)  53248       conv3_block10_0_relu[0][0]       \n",
            "__________________________________________________________________________________________________\n",
            "conv3_block10_1_bn (BatchNormal (None, 28, 28, 128)  512         conv3_block10_1_conv[0][0]       \n",
            "__________________________________________________________________________________________________\n",
            "conv3_block10_1_relu (Activatio (None, 28, 28, 128)  0           conv3_block10_1_bn[0][0]         \n",
            "__________________________________________________________________________________________________\n",
            "conv3_block10_2_conv (Conv2D)   (None, 28, 28, 32)   36864       conv3_block10_1_relu[0][0]       \n",
            "__________________________________________________________________________________________________\n",
            "conv3_block10_concat (Concatena (None, 28, 28, 448)  0           conv3_block9_concat[0][0]        \n",
            "                                                                 conv3_block10_2_conv[0][0]       \n",
            "__________________________________________________________________________________________________\n",
            "conv3_block11_0_bn (BatchNormal (None, 28, 28, 448)  1792        conv3_block10_concat[0][0]       \n",
            "__________________________________________________________________________________________________\n",
            "conv3_block11_0_relu (Activatio (None, 28, 28, 448)  0           conv3_block11_0_bn[0][0]         \n",
            "__________________________________________________________________________________________________\n",
            "conv3_block11_1_conv (Conv2D)   (None, 28, 28, 128)  57344       conv3_block11_0_relu[0][0]       \n",
            "__________________________________________________________________________________________________\n",
            "conv3_block11_1_bn (BatchNormal (None, 28, 28, 128)  512         conv3_block11_1_conv[0][0]       \n",
            "__________________________________________________________________________________________________\n",
            "conv3_block11_1_relu (Activatio (None, 28, 28, 128)  0           conv3_block11_1_bn[0][0]         \n",
            "__________________________________________________________________________________________________\n",
            "conv3_block11_2_conv (Conv2D)   (None, 28, 28, 32)   36864       conv3_block11_1_relu[0][0]       \n",
            "__________________________________________________________________________________________________\n",
            "conv3_block11_concat (Concatena (None, 28, 28, 480)  0           conv3_block10_concat[0][0]       \n",
            "                                                                 conv3_block11_2_conv[0][0]       \n",
            "__________________________________________________________________________________________________\n",
            "conv3_block12_0_bn (BatchNormal (None, 28, 28, 480)  1920        conv3_block11_concat[0][0]       \n",
            "__________________________________________________________________________________________________\n",
            "conv3_block12_0_relu (Activatio (None, 28, 28, 480)  0           conv3_block12_0_bn[0][0]         \n",
            "__________________________________________________________________________________________________\n",
            "conv3_block12_1_conv (Conv2D)   (None, 28, 28, 128)  61440       conv3_block12_0_relu[0][0]       \n",
            "__________________________________________________________________________________________________\n",
            "conv3_block12_1_bn (BatchNormal (None, 28, 28, 128)  512         conv3_block12_1_conv[0][0]       \n",
            "__________________________________________________________________________________________________\n",
            "conv3_block12_1_relu (Activatio (None, 28, 28, 128)  0           conv3_block12_1_bn[0][0]         \n",
            "__________________________________________________________________________________________________\n",
            "conv3_block12_2_conv (Conv2D)   (None, 28, 28, 32)   36864       conv3_block12_1_relu[0][0]       \n",
            "__________________________________________________________________________________________________\n",
            "conv3_block12_concat (Concatena (None, 28, 28, 512)  0           conv3_block11_concat[0][0]       \n",
            "                                                                 conv3_block12_2_conv[0][0]       \n",
            "__________________________________________________________________________________________________\n",
            "pool3_bn (BatchNormalization)   (None, 28, 28, 512)  2048        conv3_block12_concat[0][0]       \n",
            "__________________________________________________________________________________________________\n",
            "pool3_relu (Activation)         (None, 28, 28, 512)  0           pool3_bn[0][0]                   \n",
            "__________________________________________________________________________________________________\n",
            "pool3_conv (Conv2D)             (None, 28, 28, 256)  131072      pool3_relu[0][0]                 \n",
            "__________________________________________________________________________________________________\n",
            "pool3_pool (AveragePooling2D)   (None, 14, 14, 256)  0           pool3_conv[0][0]                 \n",
            "__________________________________________________________________________________________________\n",
            "conv4_block1_0_bn (BatchNormali (None, 14, 14, 256)  1024        pool3_pool[0][0]                 \n",
            "__________________________________________________________________________________________________\n",
            "conv4_block1_0_relu (Activation (None, 14, 14, 256)  0           conv4_block1_0_bn[0][0]          \n",
            "__________________________________________________________________________________________________\n",
            "conv4_block1_1_conv (Conv2D)    (None, 14, 14, 128)  32768       conv4_block1_0_relu[0][0]        \n",
            "__________________________________________________________________________________________________\n",
            "conv4_block1_1_bn (BatchNormali (None, 14, 14, 128)  512         conv4_block1_1_conv[0][0]        \n",
            "__________________________________________________________________________________________________\n",
            "conv4_block1_1_relu (Activation (None, 14, 14, 128)  0           conv4_block1_1_bn[0][0]          \n",
            "__________________________________________________________________________________________________\n",
            "conv4_block1_2_conv (Conv2D)    (None, 14, 14, 32)   36864       conv4_block1_1_relu[0][0]        \n",
            "__________________________________________________________________________________________________\n",
            "conv4_block1_concat (Concatenat (None, 14, 14, 288)  0           pool3_pool[0][0]                 \n",
            "                                                                 conv4_block1_2_conv[0][0]        \n",
            "__________________________________________________________________________________________________\n",
            "conv4_block2_0_bn (BatchNormali (None, 14, 14, 288)  1152        conv4_block1_concat[0][0]        \n",
            "__________________________________________________________________________________________________\n",
            "conv4_block2_0_relu (Activation (None, 14, 14, 288)  0           conv4_block2_0_bn[0][0]          \n",
            "__________________________________________________________________________________________________\n",
            "conv4_block2_1_conv (Conv2D)    (None, 14, 14, 128)  36864       conv4_block2_0_relu[0][0]        \n",
            "__________________________________________________________________________________________________\n",
            "conv4_block2_1_bn (BatchNormali (None, 14, 14, 128)  512         conv4_block2_1_conv[0][0]        \n",
            "__________________________________________________________________________________________________\n",
            "conv4_block2_1_relu (Activation (None, 14, 14, 128)  0           conv4_block2_1_bn[0][0]          \n",
            "__________________________________________________________________________________________________\n",
            "conv4_block2_2_conv (Conv2D)    (None, 14, 14, 32)   36864       conv4_block2_1_relu[0][0]        \n",
            "__________________________________________________________________________________________________\n",
            "conv4_block2_concat (Concatenat (None, 14, 14, 320)  0           conv4_block1_concat[0][0]        \n",
            "                                                                 conv4_block2_2_conv[0][0]        \n",
            "__________________________________________________________________________________________________\n",
            "conv4_block3_0_bn (BatchNormali (None, 14, 14, 320)  1280        conv4_block2_concat[0][0]        \n",
            "__________________________________________________________________________________________________\n",
            "conv4_block3_0_relu (Activation (None, 14, 14, 320)  0           conv4_block3_0_bn[0][0]          \n",
            "__________________________________________________________________________________________________\n",
            "conv4_block3_1_conv (Conv2D)    (None, 14, 14, 128)  40960       conv4_block3_0_relu[0][0]        \n",
            "__________________________________________________________________________________________________\n",
            "conv4_block3_1_bn (BatchNormali (None, 14, 14, 128)  512         conv4_block3_1_conv[0][0]        \n",
            "__________________________________________________________________________________________________\n",
            "conv4_block3_1_relu (Activation (None, 14, 14, 128)  0           conv4_block3_1_bn[0][0]          \n",
            "__________________________________________________________________________________________________\n",
            "conv4_block3_2_conv (Conv2D)    (None, 14, 14, 32)   36864       conv4_block3_1_relu[0][0]        \n",
            "__________________________________________________________________________________________________\n",
            "conv4_block3_concat (Concatenat (None, 14, 14, 352)  0           conv4_block2_concat[0][0]        \n",
            "                                                                 conv4_block3_2_conv[0][0]        \n",
            "__________________________________________________________________________________________________\n",
            "conv4_block4_0_bn (BatchNormali (None, 14, 14, 352)  1408        conv4_block3_concat[0][0]        \n",
            "__________________________________________________________________________________________________\n",
            "conv4_block4_0_relu (Activation (None, 14, 14, 352)  0           conv4_block4_0_bn[0][0]          \n",
            "__________________________________________________________________________________________________\n",
            "conv4_block4_1_conv (Conv2D)    (None, 14, 14, 128)  45056       conv4_block4_0_relu[0][0]        \n",
            "__________________________________________________________________________________________________\n",
            "conv4_block4_1_bn (BatchNormali (None, 14, 14, 128)  512         conv4_block4_1_conv[0][0]        \n",
            "__________________________________________________________________________________________________\n",
            "conv4_block4_1_relu (Activation (None, 14, 14, 128)  0           conv4_block4_1_bn[0][0]          \n",
            "__________________________________________________________________________________________________\n",
            "conv4_block4_2_conv (Conv2D)    (None, 14, 14, 32)   36864       conv4_block4_1_relu[0][0]        \n",
            "__________________________________________________________________________________________________\n",
            "conv4_block4_concat (Concatenat (None, 14, 14, 384)  0           conv4_block3_concat[0][0]        \n",
            "                                                                 conv4_block4_2_conv[0][0]        \n",
            "__________________________________________________________________________________________________\n",
            "conv4_block5_0_bn (BatchNormali (None, 14, 14, 384)  1536        conv4_block4_concat[0][0]        \n",
            "__________________________________________________________________________________________________\n",
            "conv4_block5_0_relu (Activation (None, 14, 14, 384)  0           conv4_block5_0_bn[0][0]          \n",
            "__________________________________________________________________________________________________\n",
            "conv4_block5_1_conv (Conv2D)    (None, 14, 14, 128)  49152       conv4_block5_0_relu[0][0]        \n",
            "__________________________________________________________________________________________________\n",
            "conv4_block5_1_bn (BatchNormali (None, 14, 14, 128)  512         conv4_block5_1_conv[0][0]        \n",
            "__________________________________________________________________________________________________\n",
            "conv4_block5_1_relu (Activation (None, 14, 14, 128)  0           conv4_block5_1_bn[0][0]          \n",
            "__________________________________________________________________________________________________\n",
            "conv4_block5_2_conv (Conv2D)    (None, 14, 14, 32)   36864       conv4_block5_1_relu[0][0]        \n",
            "__________________________________________________________________________________________________\n",
            "conv4_block5_concat (Concatenat (None, 14, 14, 416)  0           conv4_block4_concat[0][0]        \n",
            "                                                                 conv4_block5_2_conv[0][0]        \n",
            "__________________________________________________________________________________________________\n",
            "conv4_block6_0_bn (BatchNormali (None, 14, 14, 416)  1664        conv4_block5_concat[0][0]        \n",
            "__________________________________________________________________________________________________\n",
            "conv4_block6_0_relu (Activation (None, 14, 14, 416)  0           conv4_block6_0_bn[0][0]          \n",
            "__________________________________________________________________________________________________\n",
            "conv4_block6_1_conv (Conv2D)    (None, 14, 14, 128)  53248       conv4_block6_0_relu[0][0]        \n",
            "__________________________________________________________________________________________________\n",
            "conv4_block6_1_bn (BatchNormali (None, 14, 14, 128)  512         conv4_block6_1_conv[0][0]        \n",
            "__________________________________________________________________________________________________\n",
            "conv4_block6_1_relu (Activation (None, 14, 14, 128)  0           conv4_block6_1_bn[0][0]          \n",
            "__________________________________________________________________________________________________\n",
            "conv4_block6_2_conv (Conv2D)    (None, 14, 14, 32)   36864       conv4_block6_1_relu[0][0]        \n",
            "__________________________________________________________________________________________________\n",
            "conv4_block6_concat (Concatenat (None, 14, 14, 448)  0           conv4_block5_concat[0][0]        \n",
            "                                                                 conv4_block6_2_conv[0][0]        \n",
            "__________________________________________________________________________________________________\n",
            "conv4_block7_0_bn (BatchNormali (None, 14, 14, 448)  1792        conv4_block6_concat[0][0]        \n",
            "__________________________________________________________________________________________________\n",
            "conv4_block7_0_relu (Activation (None, 14, 14, 448)  0           conv4_block7_0_bn[0][0]          \n",
            "__________________________________________________________________________________________________\n",
            "conv4_block7_1_conv (Conv2D)    (None, 14, 14, 128)  57344       conv4_block7_0_relu[0][0]        \n",
            "__________________________________________________________________________________________________\n",
            "conv4_block7_1_bn (BatchNormali (None, 14, 14, 128)  512         conv4_block7_1_conv[0][0]        \n",
            "__________________________________________________________________________________________________\n",
            "conv4_block7_1_relu (Activation (None, 14, 14, 128)  0           conv4_block7_1_bn[0][0]          \n",
            "__________________________________________________________________________________________________\n",
            "conv4_block7_2_conv (Conv2D)    (None, 14, 14, 32)   36864       conv4_block7_1_relu[0][0]        \n",
            "__________________________________________________________________________________________________\n",
            "conv4_block7_concat (Concatenat (None, 14, 14, 480)  0           conv4_block6_concat[0][0]        \n",
            "                                                                 conv4_block7_2_conv[0][0]        \n",
            "__________________________________________________________________________________________________\n",
            "conv4_block8_0_bn (BatchNormali (None, 14, 14, 480)  1920        conv4_block7_concat[0][0]        \n",
            "__________________________________________________________________________________________________\n",
            "conv4_block8_0_relu (Activation (None, 14, 14, 480)  0           conv4_block8_0_bn[0][0]          \n",
            "__________________________________________________________________________________________________\n",
            "conv4_block8_1_conv (Conv2D)    (None, 14, 14, 128)  61440       conv4_block8_0_relu[0][0]        \n",
            "__________________________________________________________________________________________________\n",
            "conv4_block8_1_bn (BatchNormali (None, 14, 14, 128)  512         conv4_block8_1_conv[0][0]        \n",
            "__________________________________________________________________________________________________\n",
            "conv4_block8_1_relu (Activation (None, 14, 14, 128)  0           conv4_block8_1_bn[0][0]          \n",
            "__________________________________________________________________________________________________\n",
            "conv4_block8_2_conv (Conv2D)    (None, 14, 14, 32)   36864       conv4_block8_1_relu[0][0]        \n",
            "__________________________________________________________________________________________________\n",
            "conv4_block8_concat (Concatenat (None, 14, 14, 512)  0           conv4_block7_concat[0][0]        \n",
            "                                                                 conv4_block8_2_conv[0][0]        \n",
            "__________________________________________________________________________________________________\n",
            "conv4_block9_0_bn (BatchNormali (None, 14, 14, 512)  2048        conv4_block8_concat[0][0]        \n",
            "__________________________________________________________________________________________________\n",
            "conv4_block9_0_relu (Activation (None, 14, 14, 512)  0           conv4_block9_0_bn[0][0]          \n",
            "__________________________________________________________________________________________________\n",
            "conv4_block9_1_conv (Conv2D)    (None, 14, 14, 128)  65536       conv4_block9_0_relu[0][0]        \n",
            "__________________________________________________________________________________________________\n",
            "conv4_block9_1_bn (BatchNormali (None, 14, 14, 128)  512         conv4_block9_1_conv[0][0]        \n",
            "__________________________________________________________________________________________________\n",
            "conv4_block9_1_relu (Activation (None, 14, 14, 128)  0           conv4_block9_1_bn[0][0]          \n",
            "__________________________________________________________________________________________________\n",
            "conv4_block9_2_conv (Conv2D)    (None, 14, 14, 32)   36864       conv4_block9_1_relu[0][0]        \n",
            "__________________________________________________________________________________________________\n",
            "conv4_block9_concat (Concatenat (None, 14, 14, 544)  0           conv4_block8_concat[0][0]        \n",
            "                                                                 conv4_block9_2_conv[0][0]        \n",
            "__________________________________________________________________________________________________\n",
            "conv4_block10_0_bn (BatchNormal (None, 14, 14, 544)  2176        conv4_block9_concat[0][0]        \n",
            "__________________________________________________________________________________________________\n",
            "conv4_block10_0_relu (Activatio (None, 14, 14, 544)  0           conv4_block10_0_bn[0][0]         \n",
            "__________________________________________________________________________________________________\n",
            "conv4_block10_1_conv (Conv2D)   (None, 14, 14, 128)  69632       conv4_block10_0_relu[0][0]       \n",
            "__________________________________________________________________________________________________\n",
            "conv4_block10_1_bn (BatchNormal (None, 14, 14, 128)  512         conv4_block10_1_conv[0][0]       \n",
            "__________________________________________________________________________________________________\n",
            "conv4_block10_1_relu (Activatio (None, 14, 14, 128)  0           conv4_block10_1_bn[0][0]         \n",
            "__________________________________________________________________________________________________\n",
            "conv4_block10_2_conv (Conv2D)   (None, 14, 14, 32)   36864       conv4_block10_1_relu[0][0]       \n",
            "__________________________________________________________________________________________________\n",
            "conv4_block10_concat (Concatena (None, 14, 14, 576)  0           conv4_block9_concat[0][0]        \n",
            "                                                                 conv4_block10_2_conv[0][0]       \n",
            "__________________________________________________________________________________________________\n",
            "conv4_block11_0_bn (BatchNormal (None, 14, 14, 576)  2304        conv4_block10_concat[0][0]       \n",
            "__________________________________________________________________________________________________\n",
            "conv4_block11_0_relu (Activatio (None, 14, 14, 576)  0           conv4_block11_0_bn[0][0]         \n",
            "__________________________________________________________________________________________________\n",
            "conv4_block11_1_conv (Conv2D)   (None, 14, 14, 128)  73728       conv4_block11_0_relu[0][0]       \n",
            "__________________________________________________________________________________________________\n",
            "conv4_block11_1_bn (BatchNormal (None, 14, 14, 128)  512         conv4_block11_1_conv[0][0]       \n",
            "__________________________________________________________________________________________________\n",
            "conv4_block11_1_relu (Activatio (None, 14, 14, 128)  0           conv4_block11_1_bn[0][0]         \n",
            "__________________________________________________________________________________________________\n",
            "conv4_block11_2_conv (Conv2D)   (None, 14, 14, 32)   36864       conv4_block11_1_relu[0][0]       \n",
            "__________________________________________________________________________________________________\n",
            "conv4_block11_concat (Concatena (None, 14, 14, 608)  0           conv4_block10_concat[0][0]       \n",
            "                                                                 conv4_block11_2_conv[0][0]       \n",
            "__________________________________________________________________________________________________\n",
            "conv4_block12_0_bn (BatchNormal (None, 14, 14, 608)  2432        conv4_block11_concat[0][0]       \n",
            "__________________________________________________________________________________________________\n",
            "conv4_block12_0_relu (Activatio (None, 14, 14, 608)  0           conv4_block12_0_bn[0][0]         \n",
            "__________________________________________________________________________________________________\n",
            "conv4_block12_1_conv (Conv2D)   (None, 14, 14, 128)  77824       conv4_block12_0_relu[0][0]       \n",
            "__________________________________________________________________________________________________\n",
            "conv4_block12_1_bn (BatchNormal (None, 14, 14, 128)  512         conv4_block12_1_conv[0][0]       \n",
            "__________________________________________________________________________________________________\n",
            "conv4_block12_1_relu (Activatio (None, 14, 14, 128)  0           conv4_block12_1_bn[0][0]         \n",
            "__________________________________________________________________________________________________\n",
            "conv4_block12_2_conv (Conv2D)   (None, 14, 14, 32)   36864       conv4_block12_1_relu[0][0]       \n",
            "__________________________________________________________________________________________________\n",
            "conv4_block12_concat (Concatena (None, 14, 14, 640)  0           conv4_block11_concat[0][0]       \n",
            "                                                                 conv4_block12_2_conv[0][0]       \n",
            "__________________________________________________________________________________________________\n",
            "conv4_block13_0_bn (BatchNormal (None, 14, 14, 640)  2560        conv4_block12_concat[0][0]       \n",
            "__________________________________________________________________________________________________\n",
            "conv4_block13_0_relu (Activatio (None, 14, 14, 640)  0           conv4_block13_0_bn[0][0]         \n",
            "__________________________________________________________________________________________________\n",
            "conv4_block13_1_conv (Conv2D)   (None, 14, 14, 128)  81920       conv4_block13_0_relu[0][0]       \n",
            "__________________________________________________________________________________________________\n",
            "conv4_block13_1_bn (BatchNormal (None, 14, 14, 128)  512         conv4_block13_1_conv[0][0]       \n",
            "__________________________________________________________________________________________________\n",
            "conv4_block13_1_relu (Activatio (None, 14, 14, 128)  0           conv4_block13_1_bn[0][0]         \n",
            "__________________________________________________________________________________________________\n",
            "conv4_block13_2_conv (Conv2D)   (None, 14, 14, 32)   36864       conv4_block13_1_relu[0][0]       \n",
            "__________________________________________________________________________________________________\n",
            "conv4_block13_concat (Concatena (None, 14, 14, 672)  0           conv4_block12_concat[0][0]       \n",
            "                                                                 conv4_block13_2_conv[0][0]       \n",
            "__________________________________________________________________________________________________\n",
            "conv4_block14_0_bn (BatchNormal (None, 14, 14, 672)  2688        conv4_block13_concat[0][0]       \n",
            "__________________________________________________________________________________________________\n",
            "conv4_block14_0_relu (Activatio (None, 14, 14, 672)  0           conv4_block14_0_bn[0][0]         \n",
            "__________________________________________________________________________________________________\n",
            "conv4_block14_1_conv (Conv2D)   (None, 14, 14, 128)  86016       conv4_block14_0_relu[0][0]       \n",
            "__________________________________________________________________________________________________\n",
            "conv4_block14_1_bn (BatchNormal (None, 14, 14, 128)  512         conv4_block14_1_conv[0][0]       \n",
            "__________________________________________________________________________________________________\n",
            "conv4_block14_1_relu (Activatio (None, 14, 14, 128)  0           conv4_block14_1_bn[0][0]         \n",
            "__________________________________________________________________________________________________\n",
            "conv4_block14_2_conv (Conv2D)   (None, 14, 14, 32)   36864       conv4_block14_1_relu[0][0]       \n",
            "__________________________________________________________________________________________________\n",
            "conv4_block14_concat (Concatena (None, 14, 14, 704)  0           conv4_block13_concat[0][0]       \n",
            "                                                                 conv4_block14_2_conv[0][0]       \n",
            "__________________________________________________________________________________________________\n",
            "conv4_block15_0_bn (BatchNormal (None, 14, 14, 704)  2816        conv4_block14_concat[0][0]       \n",
            "__________________________________________________________________________________________________\n",
            "conv4_block15_0_relu (Activatio (None, 14, 14, 704)  0           conv4_block15_0_bn[0][0]         \n",
            "__________________________________________________________________________________________________\n",
            "conv4_block15_1_conv (Conv2D)   (None, 14, 14, 128)  90112       conv4_block15_0_relu[0][0]       \n",
            "__________________________________________________________________________________________________\n",
            "conv4_block15_1_bn (BatchNormal (None, 14, 14, 128)  512         conv4_block15_1_conv[0][0]       \n",
            "__________________________________________________________________________________________________\n",
            "conv4_block15_1_relu (Activatio (None, 14, 14, 128)  0           conv4_block15_1_bn[0][0]         \n",
            "__________________________________________________________________________________________________\n",
            "conv4_block15_2_conv (Conv2D)   (None, 14, 14, 32)   36864       conv4_block15_1_relu[0][0]       \n",
            "__________________________________________________________________________________________________\n",
            "conv4_block15_concat (Concatena (None, 14, 14, 736)  0           conv4_block14_concat[0][0]       \n",
            "                                                                 conv4_block15_2_conv[0][0]       \n",
            "__________________________________________________________________________________________________\n",
            "conv4_block16_0_bn (BatchNormal (None, 14, 14, 736)  2944        conv4_block15_concat[0][0]       \n",
            "__________________________________________________________________________________________________\n",
            "conv4_block16_0_relu (Activatio (None, 14, 14, 736)  0           conv4_block16_0_bn[0][0]         \n",
            "__________________________________________________________________________________________________\n",
            "conv4_block16_1_conv (Conv2D)   (None, 14, 14, 128)  94208       conv4_block16_0_relu[0][0]       \n",
            "__________________________________________________________________________________________________\n",
            "conv4_block16_1_bn (BatchNormal (None, 14, 14, 128)  512         conv4_block16_1_conv[0][0]       \n",
            "__________________________________________________________________________________________________\n",
            "conv4_block16_1_relu (Activatio (None, 14, 14, 128)  0           conv4_block16_1_bn[0][0]         \n",
            "__________________________________________________________________________________________________\n",
            "conv4_block16_2_conv (Conv2D)   (None, 14, 14, 32)   36864       conv4_block16_1_relu[0][0]       \n",
            "__________________________________________________________________________________________________\n",
            "conv4_block16_concat (Concatena (None, 14, 14, 768)  0           conv4_block15_concat[0][0]       \n",
            "                                                                 conv4_block16_2_conv[0][0]       \n",
            "__________________________________________________________________________________________________\n",
            "conv4_block17_0_bn (BatchNormal (None, 14, 14, 768)  3072        conv4_block16_concat[0][0]       \n",
            "__________________________________________________________________________________________________\n",
            "conv4_block17_0_relu (Activatio (None, 14, 14, 768)  0           conv4_block17_0_bn[0][0]         \n",
            "__________________________________________________________________________________________________\n",
            "conv4_block17_1_conv (Conv2D)   (None, 14, 14, 128)  98304       conv4_block17_0_relu[0][0]       \n",
            "__________________________________________________________________________________________________\n",
            "conv4_block17_1_bn (BatchNormal (None, 14, 14, 128)  512         conv4_block17_1_conv[0][0]       \n",
            "__________________________________________________________________________________________________\n",
            "conv4_block17_1_relu (Activatio (None, 14, 14, 128)  0           conv4_block17_1_bn[0][0]         \n",
            "__________________________________________________________________________________________________\n",
            "conv4_block17_2_conv (Conv2D)   (None, 14, 14, 32)   36864       conv4_block17_1_relu[0][0]       "
          ],
          "name": "stdout"
        },
        {
          "output_type": "stream",
          "text": [
            "\n",
            "__________________________________________________________________________________________________\n",
            "conv4_block17_concat (Concatena (None, 14, 14, 800)  0           conv4_block16_concat[0][0]       \n",
            "                                                                 conv4_block17_2_conv[0][0]       \n",
            "__________________________________________________________________________________________________\n",
            "conv4_block18_0_bn (BatchNormal (None, 14, 14, 800)  3200        conv4_block17_concat[0][0]       \n",
            "__________________________________________________________________________________________________\n",
            "conv4_block18_0_relu (Activatio (None, 14, 14, 800)  0           conv4_block18_0_bn[0][0]         \n",
            "__________________________________________________________________________________________________\n",
            "conv4_block18_1_conv (Conv2D)   (None, 14, 14, 128)  102400      conv4_block18_0_relu[0][0]       \n",
            "__________________________________________________________________________________________________\n",
            "conv4_block18_1_bn (BatchNormal (None, 14, 14, 128)  512         conv4_block18_1_conv[0][0]       \n",
            "__________________________________________________________________________________________________\n",
            "conv4_block18_1_relu (Activatio (None, 14, 14, 128)  0           conv4_block18_1_bn[0][0]         \n",
            "__________________________________________________________________________________________________\n",
            "conv4_block18_2_conv (Conv2D)   (None, 14, 14, 32)   36864       conv4_block18_1_relu[0][0]       \n",
            "__________________________________________________________________________________________________\n",
            "conv4_block18_concat (Concatena (None, 14, 14, 832)  0           conv4_block17_concat[0][0]       \n",
            "                                                                 conv4_block18_2_conv[0][0]       \n",
            "__________________________________________________________________________________________________\n",
            "conv4_block19_0_bn (BatchNormal (None, 14, 14, 832)  3328        conv4_block18_concat[0][0]       \n",
            "__________________________________________________________________________________________________\n",
            "conv4_block19_0_relu (Activatio (None, 14, 14, 832)  0           conv4_block19_0_bn[0][0]         \n",
            "__________________________________________________________________________________________________\n",
            "conv4_block19_1_conv (Conv2D)   (None, 14, 14, 128)  106496      conv4_block19_0_relu[0][0]       \n",
            "__________________________________________________________________________________________________\n",
            "conv4_block19_1_bn (BatchNormal (None, 14, 14, 128)  512         conv4_block19_1_conv[0][0]       \n",
            "__________________________________________________________________________________________________\n",
            "conv4_block19_1_relu (Activatio (None, 14, 14, 128)  0           conv4_block19_1_bn[0][0]         \n",
            "__________________________________________________________________________________________________\n",
            "conv4_block19_2_conv (Conv2D)   (None, 14, 14, 32)   36864       conv4_block19_1_relu[0][0]       \n",
            "__________________________________________________________________________________________________\n",
            "conv4_block19_concat (Concatena (None, 14, 14, 864)  0           conv4_block18_concat[0][0]       \n",
            "                                                                 conv4_block19_2_conv[0][0]       \n",
            "__________________________________________________________________________________________________\n",
            "conv4_block20_0_bn (BatchNormal (None, 14, 14, 864)  3456        conv4_block19_concat[0][0]       \n",
            "__________________________________________________________________________________________________\n",
            "conv4_block20_0_relu (Activatio (None, 14, 14, 864)  0           conv4_block20_0_bn[0][0]         \n",
            "__________________________________________________________________________________________________\n",
            "conv4_block20_1_conv (Conv2D)   (None, 14, 14, 128)  110592      conv4_block20_0_relu[0][0]       \n",
            "__________________________________________________________________________________________________\n",
            "conv4_block20_1_bn (BatchNormal (None, 14, 14, 128)  512         conv4_block20_1_conv[0][0]       \n",
            "__________________________________________________________________________________________________\n",
            "conv4_block20_1_relu (Activatio (None, 14, 14, 128)  0           conv4_block20_1_bn[0][0]         \n",
            "__________________________________________________________________________________________________\n",
            "conv4_block20_2_conv (Conv2D)   (None, 14, 14, 32)   36864       conv4_block20_1_relu[0][0]       \n",
            "__________________________________________________________________________________________________\n",
            "conv4_block20_concat (Concatena (None, 14, 14, 896)  0           conv4_block19_concat[0][0]       \n",
            "                                                                 conv4_block20_2_conv[0][0]       \n",
            "__________________________________________________________________________________________________\n",
            "conv4_block21_0_bn (BatchNormal (None, 14, 14, 896)  3584        conv4_block20_concat[0][0]       \n",
            "__________________________________________________________________________________________________\n",
            "conv4_block21_0_relu (Activatio (None, 14, 14, 896)  0           conv4_block21_0_bn[0][0]         \n",
            "__________________________________________________________________________________________________\n",
            "conv4_block21_1_conv (Conv2D)   (None, 14, 14, 128)  114688      conv4_block21_0_relu[0][0]       \n",
            "__________________________________________________________________________________________________\n",
            "conv4_block21_1_bn (BatchNormal (None, 14, 14, 128)  512         conv4_block21_1_conv[0][0]       \n",
            "__________________________________________________________________________________________________\n",
            "conv4_block21_1_relu (Activatio (None, 14, 14, 128)  0           conv4_block21_1_bn[0][0]         \n",
            "__________________________________________________________________________________________________\n",
            "conv4_block21_2_conv (Conv2D)   (None, 14, 14, 32)   36864       conv4_block21_1_relu[0][0]       \n",
            "__________________________________________________________________________________________________\n",
            "conv4_block21_concat (Concatena (None, 14, 14, 928)  0           conv4_block20_concat[0][0]       \n",
            "                                                                 conv4_block21_2_conv[0][0]       \n",
            "__________________________________________________________________________________________________\n",
            "conv4_block22_0_bn (BatchNormal (None, 14, 14, 928)  3712        conv4_block21_concat[0][0]       \n",
            "__________________________________________________________________________________________________\n",
            "conv4_block22_0_relu (Activatio (None, 14, 14, 928)  0           conv4_block22_0_bn[0][0]         \n",
            "__________________________________________________________________________________________________\n",
            "conv4_block22_1_conv (Conv2D)   (None, 14, 14, 128)  118784      conv4_block22_0_relu[0][0]       \n",
            "__________________________________________________________________________________________________\n",
            "conv4_block22_1_bn (BatchNormal (None, 14, 14, 128)  512         conv4_block22_1_conv[0][0]       \n",
            "__________________________________________________________________________________________________\n",
            "conv4_block22_1_relu (Activatio (None, 14, 14, 128)  0           conv4_block22_1_bn[0][0]         \n",
            "__________________________________________________________________________________________________\n",
            "conv4_block22_2_conv (Conv2D)   (None, 14, 14, 32)   36864       conv4_block22_1_relu[0][0]       \n",
            "__________________________________________________________________________________________________\n",
            "conv4_block22_concat (Concatena (None, 14, 14, 960)  0           conv4_block21_concat[0][0]       \n",
            "                                                                 conv4_block22_2_conv[0][0]       \n",
            "__________________________________________________________________________________________________\n",
            "conv4_block23_0_bn (BatchNormal (None, 14, 14, 960)  3840        conv4_block22_concat[0][0]       \n",
            "__________________________________________________________________________________________________\n",
            "conv4_block23_0_relu (Activatio (None, 14, 14, 960)  0           conv4_block23_0_bn[0][0]         \n",
            "__________________________________________________________________________________________________\n",
            "conv4_block23_1_conv (Conv2D)   (None, 14, 14, 128)  122880      conv4_block23_0_relu[0][0]       \n",
            "__________________________________________________________________________________________________\n",
            "conv4_block23_1_bn (BatchNormal (None, 14, 14, 128)  512         conv4_block23_1_conv[0][0]       \n",
            "__________________________________________________________________________________________________\n",
            "conv4_block23_1_relu (Activatio (None, 14, 14, 128)  0           conv4_block23_1_bn[0][0]         \n",
            "__________________________________________________________________________________________________\n",
            "conv4_block23_2_conv (Conv2D)   (None, 14, 14, 32)   36864       conv4_block23_1_relu[0][0]       \n",
            "__________________________________________________________________________________________________\n",
            "conv4_block23_concat (Concatena (None, 14, 14, 992)  0           conv4_block22_concat[0][0]       \n",
            "                                                                 conv4_block23_2_conv[0][0]       \n",
            "__________________________________________________________________________________________________\n",
            "conv4_block24_0_bn (BatchNormal (None, 14, 14, 992)  3968        conv4_block23_concat[0][0]       \n",
            "__________________________________________________________________________________________________\n",
            "conv4_block24_0_relu (Activatio (None, 14, 14, 992)  0           conv4_block24_0_bn[0][0]         \n",
            "__________________________________________________________________________________________________\n",
            "conv4_block24_1_conv (Conv2D)   (None, 14, 14, 128)  126976      conv4_block24_0_relu[0][0]       \n",
            "__________________________________________________________________________________________________\n",
            "conv4_block24_1_bn (BatchNormal (None, 14, 14, 128)  512         conv4_block24_1_conv[0][0]       \n",
            "__________________________________________________________________________________________________\n",
            "conv4_block24_1_relu (Activatio (None, 14, 14, 128)  0           conv4_block24_1_bn[0][0]         \n",
            "__________________________________________________________________________________________________\n",
            "conv4_block24_2_conv (Conv2D)   (None, 14, 14, 32)   36864       conv4_block24_1_relu[0][0]       \n",
            "__________________________________________________________________________________________________\n",
            "conv4_block24_concat (Concatena (None, 14, 14, 1024) 0           conv4_block23_concat[0][0]       \n",
            "                                                                 conv4_block24_2_conv[0][0]       \n",
            "__________________________________________________________________________________________________\n",
            "pool4_bn (BatchNormalization)   (None, 14, 14, 1024) 4096        conv4_block24_concat[0][0]       \n",
            "__________________________________________________________________________________________________\n",
            "pool4_relu (Activation)         (None, 14, 14, 1024) 0           pool4_bn[0][0]                   \n",
            "__________________________________________________________________________________________________\n",
            "pool4_conv (Conv2D)             (None, 14, 14, 512)  524288      pool4_relu[0][0]                 \n",
            "__________________________________________________________________________________________________\n",
            "pool4_pool (AveragePooling2D)   (None, 7, 7, 512)    0           pool4_conv[0][0]                 \n",
            "__________________________________________________________________________________________________\n",
            "conv5_block1_0_bn (BatchNormali (None, 7, 7, 512)    2048        pool4_pool[0][0]                 \n",
            "__________________________________________________________________________________________________\n",
            "conv5_block1_0_relu (Activation (None, 7, 7, 512)    0           conv5_block1_0_bn[0][0]          \n",
            "__________________________________________________________________________________________________\n",
            "conv5_block1_1_conv (Conv2D)    (None, 7, 7, 128)    65536       conv5_block1_0_relu[0][0]        \n",
            "__________________________________________________________________________________________________\n",
            "conv5_block1_1_bn (BatchNormali (None, 7, 7, 128)    512         conv5_block1_1_conv[0][0]        \n",
            "__________________________________________________________________________________________________\n",
            "conv5_block1_1_relu (Activation (None, 7, 7, 128)    0           conv5_block1_1_bn[0][0]          \n",
            "__________________________________________________________________________________________________\n",
            "conv5_block1_2_conv (Conv2D)    (None, 7, 7, 32)     36864       conv5_block1_1_relu[0][0]        \n",
            "__________________________________________________________________________________________________\n",
            "conv5_block1_concat (Concatenat (None, 7, 7, 544)    0           pool4_pool[0][0]                 \n",
            "                                                                 conv5_block1_2_conv[0][0]        \n",
            "__________________________________________________________________________________________________\n",
            "conv5_block2_0_bn (BatchNormali (None, 7, 7, 544)    2176        conv5_block1_concat[0][0]        \n",
            "__________________________________________________________________________________________________\n",
            "conv5_block2_0_relu (Activation (None, 7, 7, 544)    0           conv5_block2_0_bn[0][0]          \n",
            "__________________________________________________________________________________________________\n",
            "conv5_block2_1_conv (Conv2D)    (None, 7, 7, 128)    69632       conv5_block2_0_relu[0][0]        \n",
            "__________________________________________________________________________________________________\n",
            "conv5_block2_1_bn (BatchNormali (None, 7, 7, 128)    512         conv5_block2_1_conv[0][0]        \n",
            "__________________________________________________________________________________________________\n",
            "conv5_block2_1_relu (Activation (None, 7, 7, 128)    0           conv5_block2_1_bn[0][0]          \n",
            "__________________________________________________________________________________________________\n",
            "conv5_block2_2_conv (Conv2D)    (None, 7, 7, 32)     36864       conv5_block2_1_relu[0][0]        \n",
            "__________________________________________________________________________________________________\n",
            "conv5_block2_concat (Concatenat (None, 7, 7, 576)    0           conv5_block1_concat[0][0]        \n",
            "                                                                 conv5_block2_2_conv[0][0]        \n",
            "__________________________________________________________________________________________________\n",
            "conv5_block3_0_bn (BatchNormali (None, 7, 7, 576)    2304        conv5_block2_concat[0][0]        \n",
            "__________________________________________________________________________________________________\n",
            "conv5_block3_0_relu (Activation (None, 7, 7, 576)    0           conv5_block3_0_bn[0][0]          \n",
            "__________________________________________________________________________________________________\n",
            "conv5_block3_1_conv (Conv2D)    (None, 7, 7, 128)    73728       conv5_block3_0_relu[0][0]        \n",
            "__________________________________________________________________________________________________\n",
            "conv5_block3_1_bn (BatchNormali (None, 7, 7, 128)    512         conv5_block3_1_conv[0][0]        \n",
            "__________________________________________________________________________________________________\n",
            "conv5_block3_1_relu (Activation (None, 7, 7, 128)    0           conv5_block3_1_bn[0][0]          \n",
            "__________________________________________________________________________________________________\n",
            "conv5_block3_2_conv (Conv2D)    (None, 7, 7, 32)     36864       conv5_block3_1_relu[0][0]        \n",
            "__________________________________________________________________________________________________\n",
            "conv5_block3_concat (Concatenat (None, 7, 7, 608)    0           conv5_block2_concat[0][0]        \n",
            "                                                                 conv5_block3_2_conv[0][0]        \n",
            "__________________________________________________________________________________________________\n",
            "conv5_block4_0_bn (BatchNormali (None, 7, 7, 608)    2432        conv5_block3_concat[0][0]        \n",
            "__________________________________________________________________________________________________\n",
            "conv5_block4_0_relu (Activation (None, 7, 7, 608)    0           conv5_block4_0_bn[0][0]          \n",
            "__________________________________________________________________________________________________\n",
            "conv5_block4_1_conv (Conv2D)    (None, 7, 7, 128)    77824       conv5_block4_0_relu[0][0]        \n",
            "__________________________________________________________________________________________________\n",
            "conv5_block4_1_bn (BatchNormali (None, 7, 7, 128)    512         conv5_block4_1_conv[0][0]        \n",
            "__________________________________________________________________________________________________\n",
            "conv5_block4_1_relu (Activation (None, 7, 7, 128)    0           conv5_block4_1_bn[0][0]          \n",
            "__________________________________________________________________________________________________\n",
            "conv5_block4_2_conv (Conv2D)    (None, 7, 7, 32)     36864       conv5_block4_1_relu[0][0]        \n",
            "__________________________________________________________________________________________________\n",
            "conv5_block4_concat (Concatenat (None, 7, 7, 640)    0           conv5_block3_concat[0][0]        \n",
            "                                                                 conv5_block4_2_conv[0][0]        \n",
            "__________________________________________________________________________________________________\n",
            "conv5_block5_0_bn (BatchNormali (None, 7, 7, 640)    2560        conv5_block4_concat[0][0]        \n",
            "__________________________________________________________________________________________________\n",
            "conv5_block5_0_relu (Activation (None, 7, 7, 640)    0           conv5_block5_0_bn[0][0]          \n",
            "__________________________________________________________________________________________________\n",
            "conv5_block5_1_conv (Conv2D)    (None, 7, 7, 128)    81920       conv5_block5_0_relu[0][0]        \n",
            "__________________________________________________________________________________________________\n",
            "conv5_block5_1_bn (BatchNormali (None, 7, 7, 128)    512         conv5_block5_1_conv[0][0]        \n",
            "__________________________________________________________________________________________________\n",
            "conv5_block5_1_relu (Activation (None, 7, 7, 128)    0           conv5_block5_1_bn[0][0]          \n",
            "__________________________________________________________________________________________________\n",
            "conv5_block5_2_conv (Conv2D)    (None, 7, 7, 32)     36864       conv5_block5_1_relu[0][0]        \n",
            "__________________________________________________________________________________________________\n",
            "conv5_block5_concat (Concatenat (None, 7, 7, 672)    0           conv5_block4_concat[0][0]        \n",
            "                                                                 conv5_block5_2_conv[0][0]        \n",
            "__________________________________________________________________________________________________\n",
            "conv5_block6_0_bn (BatchNormali (None, 7, 7, 672)    2688        conv5_block5_concat[0][0]        \n",
            "__________________________________________________________________________________________________\n",
            "conv5_block6_0_relu (Activation (None, 7, 7, 672)    0           conv5_block6_0_bn[0][0]          \n",
            "__________________________________________________________________________________________________\n",
            "conv5_block6_1_conv (Conv2D)    (None, 7, 7, 128)    86016       conv5_block6_0_relu[0][0]        \n",
            "__________________________________________________________________________________________________\n",
            "conv5_block6_1_bn (BatchNormali (None, 7, 7, 128)    512         conv5_block6_1_conv[0][0]        \n",
            "__________________________________________________________________________________________________\n",
            "conv5_block6_1_relu (Activation (None, 7, 7, 128)    0           conv5_block6_1_bn[0][0]          \n",
            "__________________________________________________________________________________________________\n",
            "conv5_block6_2_conv (Conv2D)    (None, 7, 7, 32)     36864       conv5_block6_1_relu[0][0]        \n",
            "__________________________________________________________________________________________________\n",
            "conv5_block6_concat (Concatenat (None, 7, 7, 704)    0           conv5_block5_concat[0][0]        \n",
            "                                                                 conv5_block6_2_conv[0][0]        \n",
            "__________________________________________________________________________________________________\n",
            "conv5_block7_0_bn (BatchNormali (None, 7, 7, 704)    2816        conv5_block6_concat[0][0]        \n",
            "__________________________________________________________________________________________________\n",
            "conv5_block7_0_relu (Activation (None, 7, 7, 704)    0           conv5_block7_0_bn[0][0]          \n",
            "__________________________________________________________________________________________________\n",
            "conv5_block7_1_conv (Conv2D)    (None, 7, 7, 128)    90112       conv5_block7_0_relu[0][0]        \n",
            "__________________________________________________________________________________________________\n",
            "conv5_block7_1_bn (BatchNormali (None, 7, 7, 128)    512         conv5_block7_1_conv[0][0]        \n",
            "__________________________________________________________________________________________________\n",
            "conv5_block7_1_relu (Activation (None, 7, 7, 128)    0           conv5_block7_1_bn[0][0]          \n",
            "__________________________________________________________________________________________________\n",
            "conv5_block7_2_conv (Conv2D)    (None, 7, 7, 32)     36864       conv5_block7_1_relu[0][0]        \n",
            "__________________________________________________________________________________________________\n",
            "conv5_block7_concat (Concatenat (None, 7, 7, 736)    0           conv5_block6_concat[0][0]        \n",
            "                                                                 conv5_block7_2_conv[0][0]        \n",
            "__________________________________________________________________________________________________\n",
            "conv5_block8_0_bn (BatchNormali (None, 7, 7, 736)    2944        conv5_block7_concat[0][0]        \n",
            "__________________________________________________________________________________________________\n",
            "conv5_block8_0_relu (Activation (None, 7, 7, 736)    0           conv5_block8_0_bn[0][0]          \n",
            "__________________________________________________________________________________________________\n",
            "conv5_block8_1_conv (Conv2D)    (None, 7, 7, 128)    94208       conv5_block8_0_relu[0][0]        \n",
            "__________________________________________________________________________________________________\n",
            "conv5_block8_1_bn (BatchNormali (None, 7, 7, 128)    512         conv5_block8_1_conv[0][0]        \n",
            "__________________________________________________________________________________________________\n",
            "conv5_block8_1_relu (Activation (None, 7, 7, 128)    0           conv5_block8_1_bn[0][0]          \n",
            "__________________________________________________________________________________________________\n",
            "conv5_block8_2_conv (Conv2D)    (None, 7, 7, 32)     36864       conv5_block8_1_relu[0][0]        \n",
            "__________________________________________________________________________________________________\n",
            "conv5_block8_concat (Concatenat (None, 7, 7, 768)    0           conv5_block7_concat[0][0]        \n",
            "                                                                 conv5_block8_2_conv[0][0]        \n",
            "__________________________________________________________________________________________________\n",
            "conv5_block9_0_bn (BatchNormali (None, 7, 7, 768)    3072        conv5_block8_concat[0][0]        \n",
            "__________________________________________________________________________________________________\n",
            "conv5_block9_0_relu (Activation (None, 7, 7, 768)    0           conv5_block9_0_bn[0][0]          \n",
            "__________________________________________________________________________________________________\n",
            "conv5_block9_1_conv (Conv2D)    (None, 7, 7, 128)    98304       conv5_block9_0_relu[0][0]        \n",
            "__________________________________________________________________________________________________\n",
            "conv5_block9_1_bn (BatchNormali (None, 7, 7, 128)    512         conv5_block9_1_conv[0][0]        \n",
            "__________________________________________________________________________________________________\n",
            "conv5_block9_1_relu (Activation (None, 7, 7, 128)    0           conv5_block9_1_bn[0][0]          \n",
            "__________________________________________________________________________________________________\n",
            "conv5_block9_2_conv (Conv2D)    (None, 7, 7, 32)     36864       conv5_block9_1_relu[0][0]        \n",
            "__________________________________________________________________________________________________\n",
            "conv5_block9_concat (Concatenat (None, 7, 7, 800)    0           conv5_block8_concat[0][0]        \n",
            "                                                                 conv5_block9_2_conv[0][0]        \n",
            "__________________________________________________________________________________________________\n",
            "conv5_block10_0_bn (BatchNormal (None, 7, 7, 800)    3200        conv5_block9_concat[0][0]        \n",
            "__________________________________________________________________________________________________\n",
            "conv5_block10_0_relu (Activatio (None, 7, 7, 800)    0           conv5_block10_0_bn[0][0]         \n",
            "__________________________________________________________________________________________________\n",
            "conv5_block10_1_conv (Conv2D)   (None, 7, 7, 128)    102400      conv5_block10_0_relu[0][0]       \n",
            "__________________________________________________________________________________________________\n",
            "conv5_block10_1_bn (BatchNormal (None, 7, 7, 128)    512         conv5_block10_1_conv[0][0]       \n",
            "__________________________________________________________________________________________________\n",
            "conv5_block10_1_relu (Activatio (None, 7, 7, 128)    0           conv5_block10_1_bn[0][0]         \n",
            "__________________________________________________________________________________________________\n",
            "conv5_block10_2_conv (Conv2D)   (None, 7, 7, 32)     36864       conv5_block10_1_relu[0][0]       \n",
            "__________________________________________________________________________________________________\n",
            "conv5_block10_concat (Concatena (None, 7, 7, 832)    0           conv5_block9_concat[0][0]        \n",
            "                                                                 conv5_block10_2_conv[0][0]       \n",
            "__________________________________________________________________________________________________\n",
            "conv5_block11_0_bn (BatchNormal (None, 7, 7, 832)    3328        conv5_block10_concat[0][0]       \n",
            "__________________________________________________________________________________________________\n",
            "conv5_block11_0_relu (Activatio (None, 7, 7, 832)    0           conv5_block11_0_bn[0][0]         \n",
            "__________________________________________________________________________________________________\n",
            "conv5_block11_1_conv (Conv2D)   (None, 7, 7, 128)    106496      conv5_block11_0_relu[0][0]       \n",
            "__________________________________________________________________________________________________\n",
            "conv5_block11_1_bn (BatchNormal (None, 7, 7, 128)    512         conv5_block11_1_conv[0][0]       \n",
            "__________________________________________________________________________________________________\n",
            "conv5_block11_1_relu (Activatio (None, 7, 7, 128)    0           conv5_block11_1_bn[0][0]         \n",
            "__________________________________________________________________________________________________\n",
            "conv5_block11_2_conv (Conv2D)   (None, 7, 7, 32)     36864       conv5_block11_1_relu[0][0]       \n",
            "__________________________________________________________________________________________________\n",
            "conv5_block11_concat (Concatena (None, 7, 7, 864)    0           conv5_block10_concat[0][0]       \n",
            "                                                                 conv5_block11_2_conv[0][0]       \n",
            "__________________________________________________________________________________________________\n",
            "conv5_block12_0_bn (BatchNormal (None, 7, 7, 864)    3456        conv5_block11_concat[0][0]       \n",
            "__________________________________________________________________________________________________\n",
            "conv5_block12_0_relu (Activatio (None, 7, 7, 864)    0           conv5_block12_0_bn[0][0]         \n",
            "__________________________________________________________________________________________________\n",
            "conv5_block12_1_conv (Conv2D)   (None, 7, 7, 128)    110592      conv5_block12_0_relu[0][0]       \n",
            "__________________________________________________________________________________________________\n",
            "conv5_block12_1_bn (BatchNormal (None, 7, 7, 128)    512         conv5_block12_1_conv[0][0]       \n",
            "__________________________________________________________________________________________________\n",
            "conv5_block12_1_relu (Activatio (None, 7, 7, 128)    0           conv5_block12_1_bn[0][0]         \n",
            "__________________________________________________________________________________________________\n",
            "conv5_block12_2_conv (Conv2D)   (None, 7, 7, 32)     36864       conv5_block12_1_relu[0][0]       \n",
            "__________________________________________________________________________________________________\n",
            "conv5_block12_concat (Concatena (None, 7, 7, 896)    0           conv5_block11_concat[0][0]       \n",
            "                                                                 conv5_block12_2_conv[0][0]       \n",
            "__________________________________________________________________________________________________\n",
            "conv5_block13_0_bn (BatchNormal (None, 7, 7, 896)    3584        conv5_block12_concat[0][0]       \n",
            "__________________________________________________________________________________________________\n",
            "conv5_block13_0_relu (Activatio (None, 7, 7, 896)    0           conv5_block13_0_bn[0][0]         \n",
            "__________________________________________________________________________________________________\n",
            "conv5_block13_1_conv (Conv2D)   (None, 7, 7, 128)    114688      conv5_block13_0_relu[0][0]       \n",
            "__________________________________________________________________________________________________\n",
            "conv5_block13_1_bn (BatchNormal (None, 7, 7, 128)    512         conv5_block13_1_conv[0][0]       \n",
            "__________________________________________________________________________________________________\n",
            "conv5_block13_1_relu (Activatio (None, 7, 7, 128)    0           conv5_block13_1_bn[0][0]         \n",
            "__________________________________________________________________________________________________\n",
            "conv5_block13_2_conv (Conv2D)   (None, 7, 7, 32)     36864       conv5_block13_1_relu[0][0]       \n",
            "__________________________________________________________________________________________________\n",
            "conv5_block13_concat (Concatena (None, 7, 7, 928)    0           conv5_block12_concat[0][0]       \n",
            "                                                                 conv5_block13_2_conv[0][0]       \n",
            "__________________________________________________________________________________________________\n",
            "conv5_block14_0_bn (BatchNormal (None, 7, 7, 928)    3712        conv5_block13_concat[0][0]       \n",
            "__________________________________________________________________________________________________\n",
            "conv5_block14_0_relu (Activatio (None, 7, 7, 928)    0           conv5_block14_0_bn[0][0]         \n",
            "__________________________________________________________________________________________________\n",
            "conv5_block14_1_conv (Conv2D)   (None, 7, 7, 128)    118784      conv5_block14_0_relu[0][0]       \n",
            "__________________________________________________________________________________________________\n",
            "conv5_block14_1_bn (BatchNormal (None, 7, 7, 128)    512         conv5_block14_1_conv[0][0]       \n",
            "__________________________________________________________________________________________________\n",
            "conv5_block14_1_relu (Activatio (None, 7, 7, 128)    0           conv5_block14_1_bn[0][0]         \n",
            "__________________________________________________________________________________________________\n",
            "conv5_block14_2_conv (Conv2D)   (None, 7, 7, 32)     36864       conv5_block14_1_relu[0][0]       \n",
            "__________________________________________________________________________________________________\n",
            "conv5_block14_concat (Concatena (None, 7, 7, 960)    0           conv5_block13_concat[0][0]       \n",
            "                                                                 conv5_block14_2_conv[0][0]       \n",
            "__________________________________________________________________________________________________\n",
            "conv5_block15_0_bn (BatchNormal (None, 7, 7, 960)    3840        conv5_block14_concat[0][0]       \n",
            "__________________________________________________________________________________________________\n",
            "conv5_block15_0_relu (Activatio (None, 7, 7, 960)    0           conv5_block15_0_bn[0][0]         \n",
            "__________________________________________________________________________________________________\n",
            "conv5_block15_1_conv (Conv2D)   (None, 7, 7, 128)    122880      conv5_block15_0_relu[0][0]       \n",
            "__________________________________________________________________________________________________\n",
            "conv5_block15_1_bn (BatchNormal (None, 7, 7, 128)    512         conv5_block15_1_conv[0][0]       \n",
            "__________________________________________________________________________________________________\n",
            "conv5_block15_1_relu (Activatio (None, 7, 7, 128)    0           conv5_block15_1_bn[0][0]         \n",
            "__________________________________________________________________________________________________\n",
            "conv5_block15_2_conv (Conv2D)   (None, 7, 7, 32)     36864       conv5_block15_1_relu[0][0]       \n",
            "__________________________________________________________________________________________________\n",
            "conv5_block15_concat (Concatena (None, 7, 7, 992)    0           conv5_block14_concat[0][0]       \n",
            "                                                                 conv5_block15_2_conv[0][0]       \n",
            "__________________________________________________________________________________________________\n",
            "conv5_block16_0_bn (BatchNormal (None, 7, 7, 992)    3968        conv5_block15_concat[0][0]       \n",
            "__________________________________________________________________________________________________\n",
            "conv5_block16_0_relu (Activatio (None, 7, 7, 992)    0           conv5_block16_0_bn[0][0]         \n",
            "__________________________________________________________________________________________________\n",
            "conv5_block16_1_conv (Conv2D)   (None, 7, 7, 128)    126976      conv5_block16_0_relu[0][0]       \n",
            "__________________________________________________________________________________________________\n",
            "conv5_block16_1_bn (BatchNormal (None, 7, 7, 128)    512         conv5_block16_1_conv[0][0]       \n",
            "__________________________________________________________________________________________________\n",
            "conv5_block16_1_relu (Activatio (None, 7, 7, 128)    0           conv5_block16_1_bn[0][0]         \n",
            "__________________________________________________________________________________________________\n",
            "conv5_block16_2_conv (Conv2D)   (None, 7, 7, 32)     36864       conv5_block16_1_relu[0][0]       \n",
            "__________________________________________________________________________________________________\n",
            "conv5_block16_concat (Concatena (None, 7, 7, 1024)   0           conv5_block15_concat[0][0]       \n",
            "                                                                 conv5_block16_2_conv[0][0]       \n",
            "__________________________________________________________________________________________________\n",
            "bn (BatchNormalization)         (None, 7, 7, 1024)   4096        conv5_block16_concat[0][0]       \n",
            "__________________________________________________________________________________________________\n",
            "avg_pool (GlobalAveragePooling2 (None, 1024)         0           bn[0][0]                         \n",
            "__________________________________________________________________________________________________\n",
            "fc1000 (Dense)                  (None, 1000)         1025000     avg_pool[0][0]                   \n",
            "==================================================================================================\n",
            "Total params: 8,062,504\n",
            "Trainable params: 7,978,856\n",
            "Non-trainable params: 83,648\n",
            "__________________________________________________________________________________________________\n"
          ],
          "name": "stdout"
        }
      ]
    },
    {
      "metadata": {
        "id": "Im9nEOyPS20z",
        "colab_type": "text"
      },
      "cell_type": "markdown",
      "source": [
        "### 9.4 Apply image classifier on input image"
      ]
    },
    {
      "metadata": {
        "id": "7HGfNrOB6muS",
        "colab_type": "code",
        "colab": {
          "autoexec": {
            "startup": false,
            "wait_interval": 0
          },
          "base_uri": "https://localhost:8080/",
          "height": 70
        },
        "outputId": "99f15457-f8b4-4646-ac51-15ff87d402b6",
        "executionInfo": {
          "status": "ok",
          "timestamp": 1530373836362,
          "user_tz": -330,
          "elapsed": 3860,
          "user": {
            "displayName": "Ankita Bhagat",
            "photoUrl": "https://lh3.googleusercontent.com/a/default-user=s128",
            "userId": "101389315552055937052"
          }
        }
      },
      "cell_type": "code",
      "source": [
        "predictions = model.predict(preprocessed_input)\n",
        "predicted_class = np.argmax(predictions)        #\"\"\" class with highest probability \"\"\"\n",
        "\n",
        "top_1 = decode_predictions(predictions)[0][0]\n",
        "print('Top Predicted class: %s (%s) with probability %.2f' % (top_1[1], top_1[0], top_1[2]))\n",
        "\n",
        "topK = 50\n",
        "decoded = decode_predictions(predictions, top=topK)[0]   #Decodes the prediction of an ImageNet model"
      ],
      "execution_count": 0,
      "outputs": [
        {
          "output_type": "stream",
          "text": [
            "Downloading data from https://s3.amazonaws.com/deep-learning-models/image-models/imagenet_class_index.json\n",
            "40960/35363 [==================================] - 0s 1us/step\n",
            "Top Predicted class: Labrador_retriever (n02099712) with probability 0.58\n"
          ],
          "name": "stdout"
        }
      ]
    },
    {
      "metadata": {
        "id": "FxFmeZcmT4Fn",
        "colab_type": "text"
      },
      "cell_type": "markdown",
      "source": [
        "### 9.5 Perform Grad-CAM and Guided Grad-CAM on image with maximum probability class"
      ]
    },
    {
      "metadata": {
        "id": "mwIx2snX6V6r",
        "colab_type": "code",
        "colab": {
          "autoexec": {
            "startup": false,
            "wait_interval": 0
          },
          "base_uri": "https://localhost:8080/",
          "height": 35
        },
        "outputId": "67182e7a-01e5-484a-f1c3-0e164619f4a4",
        "executionInfo": {
          "status": "ok",
          "timestamp": 1530373855490,
          "user_tz": -330,
          "elapsed": 19067,
          "user": {
            "displayName": "Ankita Bhagat",
            "photoUrl": "https://lh3.googleusercontent.com/a/default-user=s128",
            "userId": "101389315552055937052"
          }
        }
      },
      "cell_type": "code",
      "source": [
        "\"\"\"\n",
        "    Performing Grad-CAM on input image\n",
        "\"\"\"\n",
        "\n",
        "cam, heatmap, heatmap_print = grad_cam(model, preprocessed_input, original_input, predicted_class, \"conv5_block16_concat\")\n",
        "cv2.imwrite(\"gradcam.jpg\", cam)               #\"\"\" Generating heatmap with overlay on input image \"\"\"\n",
        "cv2.imwrite(\"heatmap.jpg\", heatmap_print)     #\"\"\" Generating heatmap \"\"\""
      ],
      "execution_count": 0,
      "outputs": [
        {
          "output_type": "execute_result",
          "data": {
            "text/plain": [
              "True"
            ]
          },
          "metadata": {
            "tags": []
          },
          "execution_count": 16
        }
      ]
    },
    {
      "metadata": {
        "id": "uqA7bv7n6_cD",
        "colab_type": "code",
        "colab": {
          "autoexec": {
            "startup": false,
            "wait_interval": 0
          },
          "base_uri": "https://localhost:8080/",
          "height": 35
        },
        "outputId": "4a63bf47-2f07-48c6-d788-c4f7e03c342e",
        "executionInfo": {
          "status": "ok",
          "timestamp": 1530373896720,
          "user_tz": -330,
          "elapsed": 41180,
          "user": {
            "displayName": "Ankita Bhagat",
            "photoUrl": "https://lh3.googleusercontent.com/a/default-user=s128",
            "userId": "101389315552055937052"
          }
        }
      },
      "cell_type": "code",
      "source": [
        "\"\"\"\n",
        "    Performing Guided Grad-CAM on input image\n",
        "\"\"\"\n",
        "\n",
        "register_gradient()\n",
        "guided_model = modify_backprop(model, 'GuidedBackProp')\n",
        "saliency_fn = compile_saliency_function(guided_model)\n",
        "saliency = saliency_fn([preprocessed_input, 0])\n",
        "gradcam = saliency[0] * heatmap[..., np.newaxis]\n",
        "cv2.imwrite(\"guided_gradcam.jpg\", deprocess_image(gradcam))"
      ],
      "execution_count": 0,
      "outputs": [
        {
          "output_type": "execute_result",
          "data": {
            "text/plain": [
              "True"
            ]
          },
          "metadata": {
            "tags": []
          },
          "execution_count": 17
        }
      ]
    },
    {
      "metadata": {
        "id": "x6fKiSPon9_r",
        "colab_type": "code",
        "colab": {
          "autoexec": {
            "startup": false,
            "wait_interval": 0
          },
          "base_uri": "https://localhost:8080/",
          "height": 298
        },
        "outputId": "4f05e3d7-92ae-49e2-a2ad-e6a7fc7d22b7",
        "executionInfo": {
          "status": "ok",
          "timestamp": 1530239219940,
          "user_tz": -330,
          "elapsed": 1998,
          "user": {
            "displayName": "Ankita Bhagat",
            "photoUrl": "//lh5.googleusercontent.com/-hBbQJG3EmsY/AAAAAAAAAAI/AAAAAAAAEMc/8aZlpsJaxOI/s50-c-k-no/photo.jpg",
            "userId": "106932527741563015055"
          }
        }
      },
      "cell_type": "code",
      "source": [
        "\"\"\"\n",
        "    Visualization of result\n",
        "      1. Original Image\n",
        "      2. Grad-CAM result\n",
        "      3. Heatmap result\n",
        "      4. Guided Grad-CAM result\n",
        "\"\"\"\n",
        "\n",
        "from matplotlib import pyplot as plt\n",
        "from skimage import io\n",
        "from skimage.transform import resize\n",
        "fig, axs = plt.subplots(1,4,figsize=(15,5))\n",
        "\n",
        "img = io.imread('dog_cat.jpeg')\n",
        "image = resize(img, (224, 224))\n",
        "axs[0].imshow(image)\n",
        "axs[0].axis('off')\n",
        "axs[0].set_title('Original Image')\n",
        "\n",
        "img = io.imread('gradcam.jpg')\n",
        "axs[1].imshow(img)\n",
        "axs[1].axis('off')\n",
        "axs[1].set_title('Grad-CAM for Labrador (Top prediction)')\n",
        "\n",
        "img = io.imread('heatmap.jpg')\n",
        "axs[2].imshow(img)\n",
        "axs[2].axis('off')\n",
        "axs[2].set_title('Heatmap for Labrador')\n",
        "\n",
        "img = io.imread('guided_gradcam.jpg')\n",
        "axs[3].imshow(img)\n",
        "axs[3].axis('off')\n",
        "axs[3].set_title('Guided Grad-CAM for Labrador')"
      ],
      "execution_count": 0,
      "outputs": [
        {
          "output_type": "stream",
          "text": [
            "/usr/local/lib/python3.6/dist-packages/skimage/transform/_warps.py:84: UserWarning: The default mode, 'constant', will be changed to 'reflect' in skimage 0.15.\n",
            "  warn(\"The default mode, 'constant', will be changed to 'reflect' in \"\n"
          ],
          "name": "stderr"
        },
        {
          "output_type": "execute_result",
          "data": {
            "text/plain": [
              "Text(0.5,1,'Guided Grad-CAM for Labrador')"
            ]
          },
          "metadata": {
            "tags": []
          },
          "execution_count": 24
        },
        {
          "output_type": "display_data",
          "data": {
            "image/png": "[encoded data removed]",
            "text/plain": [
              "<matplotlib.figure.Figure at 0x7f5220b24a58>"
            ]
          },
          "metadata": {
            "tags": []
          }
        }
      ]
    },
    {
      "metadata": {
        "id": "t0Wa2R7cjKGY",
        "colab_type": "text"
      },
      "cell_type": "markdown",
      "source": [
        "### 9.6 Perform visualization on a specific class\n",
        "\n",
        "* we can compute map for any of the class being available in input image.\n"
      ]
    },
    {
      "metadata": {
        "id": "ymSS0KvcnUdw",
        "colab_type": "code",
        "colab": {
          "autoexec": {
            "startup": false,
            "wait_interval": 0
          },
          "base_uri": "https://localhost:8080/",
          "height": 35
        },
        "outputId": "34fd8320-aeaa-4692-8d3c-f0364cdb6bb2",
        "executionInfo": {
          "status": "ok",
          "timestamp": 1530253607070,
          "user_tz": -330,
          "elapsed": 864,
          "user": {
            "displayName": "Ankita Bhagat",
            "photoUrl": "//lh5.googleusercontent.com/-hBbQJG3EmsY/AAAAAAAAAAI/AAAAAAAAEMc/8aZlpsJaxOI/s50-c-k-no/photo.jpg",
            "userId": "106932527741563015055"
          }
        }
      },
      "cell_type": "code",
      "source": [
        "\"\"\"\n",
        "    Deriving class index by feeding in class name\n",
        "\"\"\"\n",
        "\n",
        "class_names = ['Labrador_retriever', 'tiger_cat']\n",
        "topK_ndx = []\n",
        "imagenet_ndx = [] # indexes into the softmax entries of final layer\n",
        "\n",
        "topK_synsets = [triple[0] for triple in decoded]\n",
        "topK_names = [triple[1] for triple in decoded]\n",
        "topK_scores = [triple[2] for triple in decoded]\n",
        "\n",
        "for i, name in enumerate(class_names):\n",
        "    ndx = topK_names.index(name)\n",
        "    topK_ndx.append(ndx)\n",
        "    imagenet_ndx.append(np.argwhere(predictions[0] == topK_scores[ndx])[0][0])\n",
        "print('Class indexes for [\"Labrador_retriever\", \"tiger_cat\"] = ', imagenet_ndx)"
      ],
      "execution_count": 0,
      "outputs": [
        {
          "output_type": "stream",
          "text": [
            "Class indexes for [\"Labrador_retriever\", \"tiger_cat\"] =  [208, 282]\n"
          ],
          "name": "stdout"
        }
      ]
    },
    {
      "metadata": {
        "id": "YTSFR8M7vH4Y",
        "colab_type": "code",
        "colab": {
          "autoexec": {
            "startup": false,
            "wait_interval": 0
          },
          "base_uri": "https://localhost:8080/",
          "height": 35
        },
        "outputId": "d96d8d74-ca20-499a-838a-152e2b7eb20c",
        "executionInfo": {
          "status": "ok",
          "timestamp": 1530239588959,
          "user_tz": -330,
          "elapsed": 64979,
          "user": {
            "displayName": "Ankita Bhagat",
            "photoUrl": "//lh5.googleusercontent.com/-hBbQJG3EmsY/AAAAAAAAAAI/AAAAAAAAEMc/8aZlpsJaxOI/s50-c-k-no/photo.jpg",
            "userId": "106932527741563015055"
          }
        }
      },
      "cell_type": "code",
      "source": [
        "\"\"\"\n",
        "    Performing Grad-CAM for CAT\n",
        "\"\"\"\n",
        "\n",
        "predicted_class = 282 # tiger_cat\n",
        "cam, heatmap, heatmap_print = grad_cam(model, preprocessed_input, original_input, predicted_class, \"conv5_block16_concat\")\n",
        "cv2.imwrite(\"gradcam_Cat.jpg\", cam)\n",
        "cv2.imwrite(\"heatmap_cat.jpg\", heatmap_print)"
      ],
      "execution_count": 0,
      "outputs": [
        {
          "output_type": "execute_result",
          "data": {
            "text/plain": [
              "True"
            ]
          },
          "metadata": {
            "tags": []
          },
          "execution_count": 28
        }
      ]
    },
    {
      "metadata": {
        "id": "TJkMefKpvHtj",
        "colab_type": "code",
        "colab": {
          "autoexec": {
            "startup": false,
            "wait_interval": 0
          },
          "base_uri": "https://localhost:8080/",
          "height": 35
        },
        "outputId": "ff11e9f4-e3a3-48bd-b1d3-be6dc6aa989c",
        "executionInfo": {
          "status": "ok",
          "timestamp": 1530239708230,
          "user_tz": -330,
          "elapsed": 103991,
          "user": {
            "displayName": "Ankita Bhagat",
            "photoUrl": "//lh5.googleusercontent.com/-hBbQJG3EmsY/AAAAAAAAAAI/AAAAAAAAEMc/8aZlpsJaxOI/s50-c-k-no/photo.jpg",
            "userId": "106932527741563015055"
          }
        }
      },
      "cell_type": "code",
      "source": [
        "\"\"\"\n",
        "    Performing Guided Grad-CAM for CAT\n",
        "\"\"\"\n",
        "\n",
        "register_gradient()\n",
        "guided_model = modify_backprop(model, 'GuidedBackProp')\n",
        "saliency_fn = compile_saliency_function(guided_model)\n",
        "saliency = saliency_fn([preprocessed_input, 0])\n",
        "gradcam = saliency[0] * heatmap[..., np.newaxis]\n",
        "cv2.imwrite(\"guided_gradcam_Cat.jpg\", deprocess_image(gradcam))"
      ],
      "execution_count": 0,
      "outputs": [
        {
          "output_type": "execute_result",
          "data": {
            "text/plain": [
              "True"
            ]
          },
          "metadata": {
            "tags": []
          },
          "execution_count": 29
        }
      ]
    },
    {
      "metadata": {
        "id": "dUVSnn9TZoTv",
        "colab_type": "code",
        "colab": {
          "autoexec": {
            "startup": false,
            "wait_interval": 0
          },
          "base_uri": "https://localhost:8080/",
          "height": 298
        },
        "outputId": "57c8aeeb-8fc0-4dbd-9f6d-13cd1dd19831",
        "executionInfo": {
          "status": "ok",
          "timestamp": 1530240768461,
          "user_tz": -330,
          "elapsed": 1914,
          "user": {
            "displayName": "Ankita Bhagat",
            "photoUrl": "//lh5.googleusercontent.com/-hBbQJG3EmsY/AAAAAAAAAAI/AAAAAAAAEMc/8aZlpsJaxOI/s50-c-k-no/photo.jpg",
            "userId": "106932527741563015055"
          }
        }
      },
      "cell_type": "code",
      "source": [
        "\"\"\"\n",
        "    Visualization of result\n",
        "      1. Original Image\n",
        "      2. Grad-CAM result\n",
        "      3. Heatmap result\n",
        "      4. Guided Grad-CAM result\n",
        "\"\"\"\n",
        "\n",
        "from matplotlib import pyplot as plt\n",
        "from skimage import io\n",
        "from skimage.transform import resize\n",
        "fig, axs = plt.subplots(1,4,figsize=(15,5))\n",
        "\n",
        "img = io.imread('dog_cat.jpeg')\n",
        "image = resize(img, (224, 224))\n",
        "axs[0].imshow(image)\n",
        "axs[0].axis('off')\n",
        "axs[0].set_title('Original Image')\n",
        "\n",
        "img = io.imread('gradcam_Cat.jpg')\n",
        "axs[1].imshow(img)\n",
        "axs[1].axis('off')\n",
        "axs[1].set_title('Grad-CAM for Cat')\n",
        "\n",
        "img = io.imread('heatmap_cat.jpg')\n",
        "axs[2].imshow(img)\n",
        "axs[2].axis('off')\n",
        "axs[2].set_title('Heatmap for Cat')\n",
        "\n",
        "img = io.imread('guided_gradcam_Cat.jpg')\n",
        "axs[3].imshow(img)\n",
        "axs[3].axis('off')\n",
        "axs[3].set_title('Guided Grad-CAM for Cat')"
      ],
      "execution_count": 0,
      "outputs": [
        {
          "output_type": "stream",
          "text": [
            "/usr/local/lib/python3.6/dist-packages/skimage/transform/_warps.py:84: UserWarning: The default mode, 'constant', will be changed to 'reflect' in skimage 0.15.\n",
            "  warn(\"The default mode, 'constant', will be changed to 'reflect' in \"\n"
          ],
          "name": "stderr"
        },
        {
          "output_type": "execute_result",
          "data": {
            "text/plain": [
              "Text(0.5,1,'Guided Grad-CAM for Cat')"
            ]
          },
          "metadata": {
            "tags": []
          },
          "execution_count": 31
        },
        {
          "output_type": "display_data",
          "data": {
            "image/png": "[encoded data removed]",
            "text/plain": [
              "<matplotlib.figure.Figure at 0x7f528b130160>"
            ]
          },
          "metadata": {
            "tags": []
          }
        }
      ]
    },
    {
      "metadata": {
        "id": "w0LHed8y2Szd",
        "colab_type": "text"
      },
      "cell_type": "markdown",
      "source": [
        "### 9.7 Perform Grad-CAM on video file"
      ]
    },
    {
      "metadata": {
        "id": "e-3Viwnb2SZo",
        "colab_type": "code",
        "colab": {
          "autoexec": {
            "startup": false,
            "wait_interval": 0
          },
          "resources": {
            "http://localhost:8080/nbextensions/google.colab/files.js": {
              "data": "Ly8gQ29weXJpZ2h0IDIwMTcgR29vZ2xlIExMQwovLwovLyBMaWNlbnNlZCB1bmRlciB0aGUgQXBhY2hlIExpY2Vuc2UsIFZlcnNpb24gMi4wICh0aGUgIkxpY2Vuc2UiKTsKLy8geW91IG1heSBub3QgdXNlIHRoaXMgZmlsZSBleGNlcHQgaW4gY29tcGxpYW5jZSB3aXRoIHRoZSBMaWNlbnNlLgovLyBZb3UgbWF5IG9idGFpbiBhIGNvcHkgb2YgdGhlIExpY2Vuc2UgYXQKLy8KLy8gICAgICBodHRwOi8vd3d3LmFwYWNoZS5vcmcvbGljZW5zZXMvTElDRU5TRS0yLjAKLy8KLy8gVW5sZXNzIHJlcXVpcmVkIGJ5IGFwcGxpY2FibGUgbGF3IG9yIGFncmVlZCB0byBpbiB3cml0aW5nLCBzb2Z0d2FyZQovLyBkaXN0cmlidXRlZCB1bmRlciB0aGUgTGljZW5zZSBpcyBkaXN0cmlidXRlZCBvbiBhbiAiQVMgSVMiIEJBU0lTLAovLyBXSVRIT1VUIFdBUlJBTlRJRVMgT1IgQ09ORElUSU9OUyBPRiBBTlkgS0lORCwgZWl0aGVyIGV4cHJlc3Mgb3IgaW1wbGllZC4KLy8gU2VlIHRoZSBMaWNlbnNlIGZvciB0aGUgc3BlY2lmaWMgbGFuZ3VhZ2UgZ292ZXJuaW5nIHBlcm1pc3Npb25zIGFuZAovLyBsaW1pdGF0aW9ucyB1bmRlciB0aGUgTGljZW5zZS4KCi8qKgogKiBAZmlsZW92ZXJ2aWV3IEhlbHBlcnMgZm9yIGdvb2dsZS5jb2xhYiBQeXRob24gbW9kdWxlLgogKi8KKGZ1bmN0aW9uKHNjb3BlKSB7CmZ1bmN0aW9uIHNwYW4odGV4dCwgc3R5bGVBdHRyaWJ1dGVzID0ge30pIHsKICBjb25zdCBlbGVtZW50ID0gZG9jdW1lbnQuY3JlYXRlRWxlbWVudCgnc3BhbicpOwogIGVsZW1lbnQudGV4dENvbnRlbnQgPSB0ZXh0OwogIGZvciAoY29uc3Qga2V5IG9mIE9iamVjdC5rZXlzKHN0eWxlQXR0cmlidXRlcykpIHsKICAgIGVsZW1lbnQuc3R5bGVba2V5XSA9IHN0eWxlQXR0cmlidXRlc1trZXldOwogIH0KICByZXR1cm4gZWxlbWVudDsKfQoKLy8gTWF4IG51bWJlciBvZiBieXRlcyB3aGljaCB3aWxsIGJlIHVwbG9hZGVkIGF0IGEgdGltZS4KY29uc3QgTUFYX1BBWUxPQURfU0laRSA9IDEwMCAqIDEwMjQ7Ci8vIE1heCBhbW91bnQgb2YgdGltZSB0byBibG9jayB3YWl0aW5nIGZvciB0aGUgdXNlci4KY29uc3QgRklMRV9DSEFOR0VfVElNRU9VVF9NUyA9IDMwICogMTAwMDsKCmZ1bmN0aW9uIF91cGxvYWRGaWxlcyhpbnB1dElkLCBvdXRwdXRJZCkgewogIGNvbnN0IHN0ZXBzID0gdXBsb2FkRmlsZXNTdGVwKGlucHV0SWQsIG91dHB1dElkKTsKICBjb25zdCBvdXRwdXRFbGVtZW50ID0gZG9jdW1lbnQuZ2V0RWxlbWVudEJ5SWQob3V0cHV0SWQpOwogIC8vIENhY2hlIHN0ZXBzIG9uIHRoZSBvdXRwdXRFbGVtZW50IHRvIG1ha2UgaXQgYXZhaWxhYmxlIGZvciB0aGUgbmV4dCBjYWxsCiAgLy8gdG8gdXBsb2FkRmlsZXNDb250aW51ZSBmcm9tIFB5dGhvbi4KICBvdXRwdXRFbGVtZW50LnN0ZXBzID0gc3RlcHM7CgogIHJldHVybiBfdXBsb2FkRmlsZXNDb250aW51ZShvdXRwdXRJZCk7Cn0KCi8vIFRoaXMgaXMgcm91Z2hseSBhbiBhc3luYyBnZW5lcmF0b3IgKG5vdCBzdXBwb3J0ZWQgaW4gdGhlIGJyb3dzZXIgeWV0KSwKLy8gd2hlcmUgdGhlcmUgYXJlIG11bHRpcGxlIGFzeW5jaHJvbm91cyBzdGVwcyBhbmQgdGhlIFB5dGhvbiBzaWRlIGlzIGdvaW5nCi8vIHRvIHBvbGwgZm9yIGNvbXBsZXRpb24gb2YgZWFjaCBzdGVwLgovLyBUaGlzIHVzZXMgYSBQcm9taXNlIHRvIGJsb2NrIHRoZSBweXRob24gc2lkZSBvbiBjb21wbGV0aW9uIG9mIGVhY2ggc3RlcCwKLy8gdGhlbiBwYXNzZXMgdGhlIHJlc3VsdCBvZiB0aGUgcHJldmlvdXMgc3RlcCBhcyB0aGUgaW5wdXQgdG8gdGhlIG5leHQgc3RlcC4KZnVuY3Rpb24gX3VwbG9hZEZpbGVzQ29udGludWUob3V0cHV0SWQpIHsKICBjb25zdCBvdXRwdXRFbGVtZW50ID0gZG9jdW1lbnQuZ2V0RWxlbWVudEJ5SWQob3V0cHV0SWQpOwogIGNvbnN0IHN0ZXBzID0gb3V0cHV0RWxlbWVudC5zdGVwczsKCiAgY29uc3QgbmV4dCA9IHN0ZXBzLm5leHQob3V0cHV0RWxlbWVudC5sYXN0UHJvbWlzZVZhbHVlKTsKICByZXR1cm4gUHJvbWlzZS5yZXNvbHZlKG5leHQudmFsdWUucHJvbWlzZSkudGhlbigodmFsdWUpID0+IHsKICAgIC8vIENhY2hlIHRoZSBsYXN0IHByb21pc2UgdmFsdWUgdG8gbWFrZSBpdCBhdmFpbGFibGUgdG8gdGhlIG5leHQKICAgIC8vIHN0ZXAgb2YgdGhlIGdlbmVyYXRvci4KICAgIG91dHB1dEVsZW1lbnQubGFzdFByb21pc2VWYWx1ZSA9IHZhbHVlOwogICAgcmV0dXJuIG5leHQudmFsdWUucmVzcG9uc2U7CiAgfSk7Cn0KCi8qKgogKiBHZW5lcmF0b3IgZnVuY3Rpb24gd2hpY2ggaXMgY2FsbGVkIGJldHdlZW4gZWFjaCBhc3luYyBzdGVwIG9mIHRoZSB1cGxvYWQKICogcHJvY2Vzcy4KICogQHBhcmFtIHtzdHJpbmd9IGlucHV0SWQgRWxlbWVudCBJRCBvZiB0aGUgaW5wdXQgZmlsZSBwaWNrZXIgZWxlbWVudC4KICogQHBhcmFtIHtzdHJpbmd9IG91dHB1dElkIEVsZW1lbnQgSUQgb2YgdGhlIG91dHB1dCBkaXNwbGF5LgogKiBAcmV0dXJuIHshSXRlcmFibGU8IU9iamVjdD59IEl0ZXJhYmxlIG9mIG5leHQgc3RlcHMuCiAqLwpmdW5jdGlvbiogdXBsb2FkRmlsZXNTdGVwKGlucHV0SWQsIG91dHB1dElkKSB7CiAgY29uc3QgaW5wdXRFbGVtZW50ID0gZG9jdW1lbnQuZ2V0RWxlbWVudEJ5SWQoaW5wdXRJZCk7CiAgaW5wdXRFbGVtZW50LmRpc2FibGVkID0gZmFsc2U7CgogIGNvbnN0IG91dHB1dEVsZW1lbnQgPSBkb2N1bWVudC5nZXRFbGVtZW50QnlJZChvdXRwdXRJZCk7CiAgb3V0cHV0RWxlbWVudC5pbm5lckhUTUwgPSAnJzsKCiAgY29uc3QgcGlja2VkUHJvbWlzZSA9IG5ldyBQcm9taXNlKChyZXNvbHZlKSA9PiB7CiAgICBpbnB1dEVsZW1lbnQuYWRkRXZlbnRMaXN0ZW5lcignY2hhbmdlJywgKGUpID0+IHsKICAgICAgcmVzb2x2ZShlLnRhcmdldC5maWxlcyk7CiAgICB9KTsKICB9KTsKCiAgY29uc3QgY2FuY2VsID0gZG9jdW1lbnQuY3JlYXRlRWxlbWVudCgnYnV0dG9uJyk7CiAgaW5wdXRFbGVtZW50LnBhcmVudEVsZW1lbnQuYXBwZW5kQ2hpbGQoY2FuY2VsKTsKICBjYW5jZWwudGV4dENvbnRlbnQgPSAnQ2FuY2VsIHVwbG9hZCc7CiAgY29uc3QgY2FuY2VsUHJvbWlzZSA9IG5ldyBQcm9taXNlKChyZXNvbHZlKSA9PiB7CiAgICBjYW5jZWwub25jbGljayA9ICgpID0+IHsKICAgICAgcmVzb2x2ZShudWxsKTsKICAgIH07CiAgfSk7CgogIC8vIENhbmNlbCB1cGxvYWQgaWYgdXNlciBoYXNuJ3QgcGlja2VkIGFueXRoaW5nIGluIHRpbWVvdXQuCiAgY29uc3QgdGltZW91dFByb21pc2UgPSBuZXcgUHJvbWlzZSgocmVzb2x2ZSkgPT4gewogICAgc2V0VGltZW91dCgoKSA9PiB7CiAgICAgIHJlc29sdmUobnVsbCk7CiAgICB9LCBGSUxFX0NIQU5HRV9USU1FT1VUX01TKTsKICB9KTsKCiAgLy8gV2FpdCBmb3IgdGhlIHVzZXIgdG8gcGljayB0aGUgZmlsZXMuCiAgY29uc3QgZmlsZXMgPSB5aWVsZCB7CiAgICBwcm9taXNlOiBQcm9taXNlLnJhY2UoW3BpY2tlZFByb21pc2UsIHRpbWVvdXRQcm9taXNlLCBjYW5jZWxQcm9taXNlXSksCiAgICByZXNwb25zZTogewogICAgICBhY3Rpb246ICdzdGFydGluZycsCiAgICB9CiAgfTsKCiAgaWYgKCFmaWxlcykgewogICAgcmV0dXJuIHsKICAgICAgcmVzcG9uc2U6IHsKICAgICAgICBhY3Rpb246ICdjb21wbGV0ZScsCiAgICAgIH0KICAgIH07CiAgfQoKICBjYW5jZWwucmVtb3ZlKCk7CgogIC8vIERpc2FibGUgdGhlIGlucHV0IGVsZW1lbnQgc2luY2UgZnVydGhlciBwaWNrcyBhcmUgbm90IGFsbG93ZWQuCiAgaW5wdXRFbGVtZW50LmRpc2FibGVkID0gdHJ1ZTsKCiAgZm9yIChjb25zdCBmaWxlIG9mIGZpbGVzKSB7CiAgICBjb25zdCBsaSA9IGRvY3VtZW50LmNyZWF0ZUVsZW1lbnQoJ2xpJyk7CiAgICBsaS5hcHBlbmQoc3BhbihmaWxlLm5hbWUsIHtmb250V2VpZ2h0OiAnYm9sZCd9KSk7CiAgICBsaS5hcHBlbmQoc3BhbigKICAgICAgICBgKCR7ZmlsZS50eXBlIHx8ICduL2EnfSkgLSAke2ZpbGUuc2l6ZX0gYnl0ZXMsIGAgKwogICAgICAgIGBsYXN0IG1vZGlmaWVkOiAkewogICAgICAgICAgICBmaWxlLmxhc3RNb2RpZmllZERhdGUgPyBmaWxlLmxhc3RNb2RpZmllZERhdGUudG9Mb2NhbGVEYXRlU3RyaW5nKCkgOgogICAgICAgICAgICAgICAgICAgICAgICAgICAgICAgICAgICAnbi9hJ30gLSBgKSk7CiAgICBjb25zdCBwZXJjZW50ID0gc3BhbignMCUgZG9uZScpOwogICAgbGkuYXBwZW5kQ2hpbGQocGVyY2VudCk7CgogICAgb3V0cHV0RWxlbWVudC5hcHBlbmRDaGlsZChsaSk7CgogICAgY29uc3QgZmlsZURhdGFQcm9taXNlID0gbmV3IFByb21pc2UoKHJlc29sdmUpID0+IHsKICAgICAgY29uc3QgcmVhZGVyID0gbmV3IEZpbGVSZWFkZXIoKTsKICAgICAgcmVhZGVyLm9ubG9hZCA9IChlKSA9PiB7CiAgICAgICAgcmVzb2x2ZShlLnRhcmdldC5yZXN1bHQpOwogICAgICB9OwogICAgICByZWFkZXIucmVhZEFzQXJyYXlCdWZmZXIoZmlsZSk7CiAgICB9KTsKICAgIC8vIFdhaXQgZm9yIHRoZSBkYXRhIHRvIGJlIHJlYWR5LgogICAgbGV0IGZpbGVEYXRhID0geWllbGQgewogICAgICBwcm9taXNlOiBmaWxlRGF0YVByb21pc2UsCiAgICAgIHJlc3BvbnNlOiB7CiAgICAgICAgYWN0aW9uOiAnY29udGludWUnLAogICAgICB9CiAgICB9OwoKICAgIC8vIFVzZSBhIGNodW5rZWQgc2VuZGluZyB0byBhdm9pZCBtZXNzYWdlIHNpemUgbGltaXRzLiBTZWUgYi82MjExNTY2MC4KICAgIGxldCBwb3NpdGlvbiA9IDA7CiAgICB3aGlsZSAocG9zaXRpb24gPCBmaWxlRGF0YS5ieXRlTGVuZ3RoKSB7CiAgICAgIGNvbnN0IGxlbmd0aCA9IE1hdGgubWluKGZpbGVEYXRhLmJ5dGVMZW5ndGggLSBwb3NpdGlvbiwgTUFYX1BBWUxPQURfU0laRSk7CiAgICAgIGNvbnN0IGNodW5rID0gbmV3IFVpbnQ4QXJyYXkoZmlsZURhdGEsIHBvc2l0aW9uLCBsZW5ndGgpOwogICAgICBwb3NpdGlvbiArPSBsZW5ndGg7CgogICAgICBjb25zdCBiYXNlNjQgPSBidG9hKFN0cmluZy5mcm9tQ2hhckNvZGUuYXBwbHkobnVsbCwgY2h1bmspKTsKICAgICAgeWllbGQgewogICAgICAgIHJlc3BvbnNlOiB7CiAgICAgICAgICBhY3Rpb246ICdhcHBlbmQnLAogICAgICAgICAgZmlsZTogZmlsZS5uYW1lLAogICAgICAgICAgZGF0YTogYmFzZTY0LAogICAgICAgIH0sCiAgICAgIH07CiAgICAgIHBlcmNlbnQudGV4dENvbnRlbnQgPQogICAgICAgICAgYCR7TWF0aC5yb3VuZCgocG9zaXRpb24gLyBmaWxlRGF0YS5ieXRlTGVuZ3RoKSAqIDEwMCl9JSBkb25lYDsKICAgIH0KICB9CgogIC8vIEFsbCBkb25lLgogIHlpZWxkIHsKICAgIHJlc3BvbnNlOiB7CiAgICAgIGFjdGlvbjogJ2NvbXBsZXRlJywKICAgIH0KICB9Owp9CgpzY29wZS5nb29nbGUgPSBzY29wZS5nb29nbGUgfHwge307CnNjb3BlLmdvb2dsZS5jb2xhYiA9IHNjb3BlLmdvb2dsZS5jb2xhYiB8fCB7fTsKc2NvcGUuZ29vZ2xlLmNvbGFiLl9maWxlcyA9IHsKICBfdXBsb2FkRmlsZXMsCiAgX3VwbG9hZEZpbGVzQ29udGludWUsCn07Cn0pKHNlbGYpOwo=",
              "ok": true,
              "headers": [
                [
                  "content-type",
                  "application/javascript"
                ]
              ],
              "status": 200,
              "status_text": ""
            }
          },
          "base_uri": "https://localhost:8080/",
          "height": 73
        },
        "outputId": "40aebbcf-a094-4cdc-8768-caeec7964d22",
        "executionInfo": {
          "status": "ok",
          "timestamp": 1530373959277,
          "user_tz": -330,
          "elapsed": 46564,
          "user": {
            "displayName": "Ankita Bhagat",
            "photoUrl": "https://lh3.googleusercontent.com/a/default-user=s128",
            "userId": "101389315552055937052"
          }
        }
      },
      "cell_type": "code",
      "source": [
        "from google.colab import files\n",
        "uploaded = files.upload()"
      ],
      "execution_count": 0,
      "outputs": [
        {
          "output_type": "display_data",
          "data": {
            "text/html": [
              "\n",
              "     <input type=\"file\" id=\"files-a8cde20f-2eba-46eb-ac05-9ed834884f88\" name=\"files[]\" multiple disabled />\n",
              "     <output id=\"result-a8cde20f-2eba-46eb-ac05-9ed834884f88\">\n",
              "      Upload widget is only available when the cell has been executed in the\n",
              "      current browser session. Please rerun this cell to enable.\n",
              "      </output>\n",
              "      <script src=\"/nbextensions/google.colab/files.js\"></script> "
            ],
            "text/plain": [
              "<IPython.core.display.HTML object>"
            ]
          },
          "metadata": {
            "tags": []
          }
        },
        {
          "output_type": "stream",
          "text": [
            "Saving Input.mp4 to Input.mp4\n"
          ],
          "name": "stdout"
        }
      ]
    },
    {
      "metadata": {
        "id": "5IbuW2G-0D3o",
        "colab_type": "text"
      },
      "cell_type": "markdown",
      "source": [
        "* **Installing the dependencies for opencv and ffmpeg**"
      ]
    },
    {
      "metadata": {
        "id": "xueRiHGt-Z2i",
        "colab_type": "code",
        "colab": {
          "autoexec": {
            "startup": false,
            "wait_interval": 0
          },
          "base_uri": "https://localhost:8080/",
          "height": 13866
        },
        "outputId": "f731517d-d13c-4e16-f2ba-d54a97d69441",
        "executionInfo": {
          "status": "ok",
          "timestamp": 1530374011239,
          "user_tz": -330,
          "elapsed": 51911,
          "user": {
            "displayName": "Ankita Bhagat",
            "photoUrl": "https://lh3.googleusercontent.com/a/default-user=s128",
            "userId": "101389315552055937052"
          }
        }
      },
      "cell_type": "code",
      "source": [
        "!apt-get install ffmpeg\n",
        "!apt-get -qq install -y libsm6 libxext6 && pip install -q -U opencv-python\n",
        "import cv2\n",
        "!pip install -q tqdm\n",
        "from tqdm import tqdm"
      ],
      "execution_count": 0,
      "outputs": [
        {
          "output_type": "stream",
          "text": [
            "Reading package lists... Done\n",
            "Building dependency tree       \n",
            "Reading state information... Done\n",
            "The following additional packages will be installed:\n",
            "  dbus i965-va-driver libaacs0 libapparmor1 libasound2 libasound2-data libass9\n",
            "  libasyncns0 libavc1394-0 libavcodec57 libavdevice57 libavfilter6\n",
            "  libavformat57 libavresample3 libavutil55 libbdplus0 libbluray2\n",
            "  libboost-filesystem1.62.0 libboost-system1.62.0 libbs2b0 libcaca0 libcairo2\n",
            "  libcapnp-0.5.3 libcdio-cdda1 libcdio-paranoia1 libcdio13 libchromaprint1\n",
            "  libcrystalhd3 libdbus-1-3 libdc1394-22 libdrm-amdgpu1 libdrm-common\n",
            "  libdrm-intel1 libdrm-nouveau2 libdrm-radeon1 libdrm2 libegl1-mesa libelf1\n",
            "  libfftw3-double3 libflac8 libflite1 libfribidi0 libgbm1 libgl1-mesa-dri\n",
            "  libgl1-mesa-glx libglapi-mesa libgme0 libgraphite2-3 libgsm1 libharfbuzz0b\n",
            "  libiec61883-0 libjack-jackd2-0 libllvm5.0 libmirclient9 libmircommon7\n",
            "  libmircore1 libmirprotobuf3 libmp3lame0 libmpg123-0 libnuma1 libogg0\n",
            "  libopenal-data libopenal1 libopencv-core3.1 libopencv-imgproc3.1\n",
            "  libopenjp2-7 libopenmpt0 libopus0 libpciaccess0 libpixman-1-0 libpostproc54\n",
            "  libprotobuf-lite10 libpulse0 libraw1394-11 librubberband2v5 libsamplerate0\n",
            "  libsdl2-2.0-0 libsensors4 libshine3 libslang2 libsnappy1v5 libsndfile1\n",
            "  libsndio6.1 libsoxr0 libspeex1 libssh-gcrypt-4 libswresample2 libswscale4\n",
            "  libtbb2 libtheora0 libtwolame0 libtxc-dxtn-s2tc libusb-1.0-0 libva-drm1\n",
            "  libva-x11-1 libva1 libvdpau1 libvorbis0a libvorbisenc2 libvorbisfile3\n",
            "  libvpx4 libwavpack1 libwayland-client0 libwayland-cursor0\n",
            "  libwayland-egl1-mesa libwayland-server0 libwebp6 libwebpmux3 libwrap0\n",
            "  libx11-xcb1 libx264-148 libx265-130 libxcb-dri2-0 libxcb-dri3-0 libxcb-glx0\n",
            "  libxcb-present0 libxcb-render0 libxcb-shape0 libxcb-shm0 libxcb-sync1\n",
            "  libxcb-xfixes0 libxcursor1 libxdamage1 libxfixes3 libxi6 libxinerama1\n",
            "  libxkbcommon0 libxrandr2 libxshmfence1 libxv1 libxvidcore4 libxxf86vm1\n",
            "  libzvbi-common libzvbi0 mesa-va-drivers mesa-vdpau-drivers tcpd\n",
            "  va-driver-all vdpau-driver-all xkb-data\n",
            "Suggested packages:\n",
            "  default-dbus-session-bus | dbus-session-bus ffmpeg-doc libasound2-plugins\n",
            "  alsa-utils libbluray-bdj firmware-crystalhd libfftw3-bin libfftw3-dev jackd2\n",
            "  libportaudio2 opus-tools pciutils pulseaudio libraw1394-doc lm-sensors\n",
            "  sndiod speex libfglrx-amdxvba1 libvdpau-va-gl1 nvidia-vdpau-driver\n",
            "  nvidia-legacy-340xx-vdpau-driver\n",
            "The following NEW packages will be installed:\n",
            "  dbus ffmpeg i965-va-driver libaacs0 libapparmor1 libasound2 libasound2-data\n",
            "  libass9 libasyncns0 libavc1394-0 libavcodec57 libavdevice57 libavfilter6\n",
            "  libavformat57 libavresample3 libavutil55 libbdplus0 libbluray2\n",
            "  libboost-filesystem1.62.0 libboost-system1.62.0 libbs2b0 libcaca0 libcairo2\n",
            "  libcapnp-0.5.3 libcdio-cdda1 libcdio-paranoia1 libcdio13 libchromaprint1\n",
            "  libcrystalhd3 libdbus-1-3 libdc1394-22 libdrm-amdgpu1 libdrm-common\n",
            "  libdrm-intel1 libdrm-nouveau2 libdrm-radeon1 libdrm2 libegl1-mesa libelf1\n",
            "  libfftw3-double3 libflac8 libflite1 libfribidi0 libgbm1 libgl1-mesa-dri\n",
            "  libgl1-mesa-glx libglapi-mesa libgme0 libgraphite2-3 libgsm1 libharfbuzz0b\n",
            "  libiec61883-0 libjack-jackd2-0 libllvm5.0 libmirclient9 libmircommon7\n",
            "  libmircore1 libmirprotobuf3 libmp3lame0 libmpg123-0 libnuma1 libogg0\n",
            "  libopenal-data libopenal1 libopencv-core3.1 libopencv-imgproc3.1\n",
            "  libopenjp2-7 libopenmpt0 libopus0 libpciaccess0 libpixman-1-0 libpostproc54\n",
            "  libprotobuf-lite10 libpulse0 libraw1394-11 librubberband2v5 libsamplerate0\n",
            "  libsdl2-2.0-0 libsensors4 libshine3 libslang2 libsnappy1v5 libsndfile1\n",
            "  libsndio6.1 libsoxr0 libspeex1 libssh-gcrypt-4 libswresample2 libswscale4\n",
            "  libtbb2 libtheora0 libtwolame0 libtxc-dxtn-s2tc libusb-1.0-0 libva-drm1\n",
            "  libva-x11-1 libva1 libvdpau1 libvorbis0a libvorbisenc2 libvorbisfile3\n",
            "  libvpx4 libwavpack1 libwayland-client0 libwayland-cursor0\n",
            "  libwayland-egl1-mesa libwayland-server0 libwebp6 libwebpmux3 libwrap0\n",
            "  libx11-xcb1 libx264-148 libx265-130 libxcb-dri2-0 libxcb-dri3-0 libxcb-glx0\n",
            "  libxcb-present0 libxcb-render0 libxcb-shape0 libxcb-shm0 libxcb-sync1\n",
            "  libxcb-xfixes0 libxcursor1 libxdamage1 libxfixes3 libxi6 libxinerama1\n",
            "  libxkbcommon0 libxrandr2 libxshmfence1 libxv1 libxvidcore4 libxxf86vm1\n",
            "  libzvbi-common libzvbi0 mesa-va-drivers mesa-vdpau-drivers tcpd\n",
            "  va-driver-all vdpau-driver-all xkb-data\n",
            "0 upgraded, 141 newly installed, 0 to remove and 6 not upgraded.\n",
            "Need to get 60.1 MB of archives.\n",
            "After this operation, 336 MB of additional disk space will be used.\n",
            "Get:1 http://archive.ubuntu.com/ubuntu artful/universe amd64 libgsm1 amd64 1.0.13-4 [27.1 kB]\n",
            "Get:2 http://archive.ubuntu.com/ubuntu artful/main amd64 libogg0 amd64 1.3.2-1 [17.2 kB]\n",
            "Get:3 http://archive.ubuntu.com/ubuntu artful/main amd64 libxinerama1 amd64 2:1.1.3-1 [7,908 B]\n",
            "Get:4 http://archive.ubuntu.com/ubuntu artful/main amd64 libxshmfence1 amd64 1.2-1 [5,042 B]\n",
            "Get:5 http://archive.ubuntu.com/ubuntu artful/main amd64 libxxf86vm1 amd64 1:1.1.4-1 [10.6 kB]\n",
            "Get:6 http://archive.ubuntu.com/ubuntu artful-updates/main amd64 libapparmor1 amd64 2.11.0-2ubuntu17.1 [28.9 kB]\n",
            "Get:7 http://archive.ubuntu.com/ubuntu artful/main amd64 libdbus-1-3 amd64 1.10.22-1ubuntu1 [165 kB]\n",
            "Get:8 http://archive.ubuntu.com/ubuntu artful/main amd64 dbus amd64 1.10.22-1ubuntu1 [144 kB]\n",
            "Get:9 http://archive.ubuntu.com/ubuntu artful/main amd64 libelf1 amd64 0.170-0.1 [44.3 kB]\n",
            "Get:10 http://archive.ubuntu.com/ubuntu artful/main amd64 libfribidi0 amd64 0.19.7-1 [25.1 kB]\n",
            "Get:11 http://archive.ubuntu.com/ubuntu artful/main amd64 libslang2 amd64 2.3.1-5ubuntu1 [422 kB]\n",
            "Get:12 http://archive.ubuntu.com/ubuntu artful/main amd64 xkb-data all 2.19-1.1ubuntu1 [312 kB]\n",
            "Get:13 http://archive.ubuntu.com/ubuntu artful/main amd64 libdrm-common all 2.4.83-1 [4,938 B]\n",
            "Get:14 http://archive.ubuntu.com/ubuntu artful/main amd64 libdrm2 amd64 2.4.83-1 [30.6 kB]\n",
            "Get:15 http://archive.ubuntu.com/ubuntu artful/main amd64 libnuma1 amd64 2.0.11-2.1 [21.6 kB]\n",
            "Get:16 http://archive.ubuntu.com/ubuntu artful/main amd64 libusb-1.0-0 amd64 2:1.0.21-2 [43.3 kB]\n",
            "Get:17 http://archive.ubuntu.com/ubuntu artful/universe amd64 libva-drm1 amd64 1.8.3-2 [7,858 B]\n",
            "Get:18 http://archive.ubuntu.com/ubuntu artful/universe amd64 libva1 amd64 1.8.3-2 [44.9 kB]\n",
            "Get:19 http://archive.ubuntu.com/ubuntu artful/main amd64 libxfixes3 amd64 1:5.0.3-1 [10.8 kB]\n",
            "Get:20 http://archive.ubuntu.com/ubuntu artful/universe amd64 libva-x11-1 amd64 1.8.3-2 [11.4 kB]\n",
            "Get:21 http://archive.ubuntu.com/ubuntu artful/main amd64 libvdpau1 amd64 1.1.1-3ubuntu1 [25.5 kB]\n",
            "Get:22 http://archive.ubuntu.com/ubuntu artful/universe amd64 libavutil55 amd64 7:3.3.4-2 [183 kB]\n",
            "Get:23 http://archive.ubuntu.com/ubuntu artful/universe amd64 libcrystalhd3 amd64 1:0.0~git20110715.fdd2f19-12 [45.8 kB]\n",
            "Get:24 http://archive.ubuntu.com/ubuntu artful/universe amd64 libmp3lame0 amd64 3.99.5+repack1-9build1 [127 kB]\n",
            "Get:25 http://archive.ubuntu.com/ubuntu artful/universe amd64 libopenjp2-7 amd64 2.2.0-1 [133 kB]\n",
            "Get:26 http://archive.ubuntu.com/ubuntu artful/main amd64 libopus0 amd64 1.1.2-1ubuntu1 [159 kB]\n",
            "Get:27 http://archive.ubuntu.com/ubuntu artful/universe amd64 libshine3 amd64 3.1.1-1 [22.9 kB]\n",
            "Get:28 http://archive.ubuntu.com/ubuntu artful/main amd64 libsnappy1v5 amd64 1.1.6-4 [16.0 kB]\n",
            "Get:29 http://archive.ubuntu.com/ubuntu artful/main amd64 libspeex1 amd64 1.2~rc1.2-1ubuntu1 [51.3 kB]\n",
            "Get:30 http://archive.ubuntu.com/ubuntu artful/universe amd64 libsoxr0 amd64 0.1.2-2 [64.7 kB]\n",
            "Get:31 http://archive.ubuntu.com/ubuntu artful/universe amd64 libswresample2 amd64 7:3.3.4-2 [55.4 kB]\n",
            "Get:32 http://archive.ubuntu.com/ubuntu artful/main amd64 libpixman-1-0 amd64 0.34.0-1 [230 kB]\n",
            "Get:33 http://archive.ubuntu.com/ubuntu artful/main amd64 libxcb-render0 amd64 1.12-1ubuntu1 [14.8 kB]\n",
            "Get:34 http://archive.ubuntu.com/ubuntu artful/main amd64 libxcb-shm0 amd64 1.12-1ubuntu1 [5,482 B]\n",
            "Get:35 http://archive.ubuntu.com/ubuntu artful/main amd64 libcairo2 amd64 1.14.10-1ubuntu1 [558 kB]\n",
            "8% [35 libcairo2 70.3 kB/558 kB 13%]"
          ],
          "name": "stdout"
        },
        {
          "output_type": "stream",
          "text": [
            "\r                                    \r9% [Waiting for headers]\r                        \rGet:36 http://archive.ubuntu.com/ubuntu artful/main amd64 libtheora0 amd64 1.1.1+dfsg.1-14 [170 kB]\r\n",
            "Get:37 http://archive.ubuntu.com/ubuntu artful/universe amd64 libtwolame0 amd64 0.3.13-2 [46.1 kB]\n",
            "Get:38 http://archive.ubuntu.com/ubuntu artful-updates/main amd64 libvorbis0a amd64 1.3.5-4ubuntu0.2 [86.5 kB]\n",
            "Get:39 http://archive.ubuntu.com/ubuntu artful-updates/main amd64 libvorbisenc2 amd64 1.3.5-4ubuntu0.2 [70.6 kB]\n",
            "Get:40 http://archive.ubuntu.com/ubuntu artful/main amd64 libvpx4 amd64 1.6.1-3 [763 kB]\n",
            "Get:41 http://archive.ubuntu.com/ubuntu artful-updates/main amd64 libwavpack1 amd64 5.1.0-2ubuntu0.3 [76.3 kB]\n",
            "Get:42 http://archive.ubuntu.com/ubuntu artful/main amd64 libwebp6 amd64 0.6.0-3 [181 kB]\n",
            "Get:43 http://archive.ubuntu.com/ubuntu artful/main amd64 libwebpmux3 amd64 0.6.0-3 [20.0 kB]\n",
            "Get:44 http://archive.ubuntu.com/ubuntu artful/universe amd64 libx264-148 amd64 2:0.148.2795+gitaaa9aa8-1 [604 kB]\n",
            "Get:45 http://archive.ubuntu.com/ubuntu artful/universe amd64 libx265-130 amd64 2.5-2 [1,044 kB]\n",
            "Get:46 http://archive.ubuntu.com/ubuntu artful/universe amd64 libxvidcore4 amd64 2:1.3.4-1 [206 kB]\n",
            "Get:47 http://archive.ubuntu.com/ubuntu artful/universe amd64 libzvbi-common all 0.2.35-13 [32.1 kB]\n",
            "Get:48 http://archive.ubuntu.com/ubuntu artful/universe amd64 libzvbi0 amd64 0.2.35-13 [235 kB]\n",
            "Get:49 http://archive.ubuntu.com/ubuntu artful/universe amd64 libavcodec57 amd64 7:3.3.4-2 [4,513 kB]\n",
            "Get:50 http://archive.ubuntu.com/ubuntu artful/main amd64 libasound2-data all 1.1.3-5 [36.1 kB]\n",
            "Get:51 http://archive.ubuntu.com/ubuntu artful/main amd64 libasound2 amd64 1.1.3-5 [357 kB]\n",
            "Get:52 http://archive.ubuntu.com/ubuntu artful/main amd64 libraw1394-11 amd64 2.1.2-1 [30.7 kB]\n",
            "Get:53 http://archive.ubuntu.com/ubuntu artful/main amd64 libavc1394-0 amd64 0.5.4-4 [16.1 kB]\n",
            "Get:54 http://archive.ubuntu.com/ubuntu artful/main amd64 libgraphite2-3 amd64 1.3.10-2 [78.3 kB]\n",
            "Get:55 http://archive.ubuntu.com/ubuntu artful/main amd64 libharfbuzz0b amd64 1.4.2-1 [211 kB]\n",
            "Get:56 http://archive.ubuntu.com/ubuntu artful/universe amd64 libass9 amd64 1:0.13.7-2 [83.7 kB]\n",
            "Get:57 http://archive.ubuntu.com/ubuntu artful/universe amd64 libbluray2 amd64 1:1.0.1.deb1-2 [136 kB]\n",
            "Get:58 http://archive.ubuntu.com/ubuntu artful/universe amd64 libchromaprint1 amd64 1.4.2-1 [36.8 kB]\n",
            "Get:59 http://archive.ubuntu.com/ubuntu artful/universe amd64 libgme0 amd64 0.6.1-1 [122 kB]\n",
            "Get:60 http://archive.ubuntu.com/ubuntu artful/universe amd64 libmpg123-0 amd64 1.25.6-1 [125 kB]\n",
            "Get:61 http://archive.ubuntu.com/ubuntu artful-updates/main amd64 libvorbisfile3 amd64 1.3.5-4ubuntu0.2 [15.9 kB]\n",
            "Get:62 http://archive.ubuntu.com/ubuntu artful/universe amd64 libopenmpt0 amd64 0.2.8760~beta27-1 [474 kB]\n",
            "Get:63 http://archive.ubuntu.com/ubuntu artful/main amd64 libssh-gcrypt-4 amd64 0.7.5-1 [162 kB]\n",
            "Get:64 http://archive.ubuntu.com/ubuntu artful/universe amd64 libavformat57 amd64 7:3.3.4-2 [924 kB]\n",
            "Get:65 http://archive.ubuntu.com/ubuntu artful/universe amd64 libavresample3 amd64 7:3.3.4-2 [52.7 kB]\n",
            "Get:66 http://archive.ubuntu.com/ubuntu artful/universe amd64 libbs2b0 amd64 3.1.0+dfsg-2.2 [10.5 kB]\n",
            "Get:67 http://archive.ubuntu.com/ubuntu artful/universe amd64 libflite1 amd64 2.0.0-release-4 [12.9 MB]\n",
            "Get:68 http://archive.ubuntu.com/ubuntu artful/universe amd64 libtbb2 amd64 2017~U7-6 [112 kB]\n",
            "Get:69 http://archive.ubuntu.com/ubuntu artful/universe amd64 libopencv-core3.1 amd64 3.1.0+dfsg1-1~exp1ubuntu3 [698 kB]\n",
            "Get:70 http://archive.ubuntu.com/ubuntu artful/universe amd64 libopencv-imgproc3.1 amd64 3.1.0+dfsg1-1~exp1ubuntu3 [778 kB]\n",
            "Get:71 http://archive.ubuntu.com/ubuntu artful/universe amd64 libpostproc54 amd64 7:3.3.4-2 [50.5 kB]\n",
            "Get:72 http://archive.ubuntu.com/ubuntu artful/main amd64 libfftw3-double3 amd64 3.3.6p2-1 [727 kB]\n",
            "Get:73 http://archive.ubuntu.com/ubuntu artful/main amd64 libsamplerate0 amd64 0.1.9-1 [938 kB]\n",
            "Get:74 http://archive.ubuntu.com/ubuntu artful/universe amd64 librubberband2v5 amd64 1.8.1-6ubuntu2 [85.3 kB]\n",
            "Get:75 http://archive.ubuntu.com/ubuntu artful/universe amd64 libswscale4 amd64 7:3.3.4-2 [150 kB]\n",
            "Get:76 http://archive.ubuntu.com/ubuntu artful/universe amd64 libavfilter6 amd64 7:3.3.4-2 [812 kB]\n",
            "Get:77 http://archive.ubuntu.com/ubuntu artful/main amd64 libcaca0 amd64 0.99.beta19-2build2~gcc5.2 [202 kB]\n",
            "Get:78 http://archive.ubuntu.com/ubuntu artful/main amd64 libcdio13 amd64 0.83-4.2ubuntu1 [53.0 kB]\n",
            "Get:79 http://archive.ubuntu.com/ubuntu artful/main amd64 libcdio-cdda1 amd64 0.83-4.2ubuntu1 [15.7 kB]\n",
            "Get:80 http://archive.ubuntu.com/ubuntu artful/main amd64 libcdio-paranoia1 amd64 0.83-4.2ubuntu1 [15.4 kB]\n",
            "Get:81 http://archive.ubuntu.com/ubuntu artful/universe amd64 libdc1394-22 amd64 2.2.5-1 [77.5 kB]\n",
            "Get:82 http://archive.ubuntu.com/ubuntu artful-updates/main amd64 libglapi-mesa amd64 17.2.8-0ubuntu0~17.10.1 [22.2 kB]\n",
            "Get:83 http://archive.ubuntu.com/ubuntu artful/main amd64 libx11-xcb1 amd64 2:1.6.4-3 [9,626 B]\n",
            "Get:84 http://archive.ubuntu.com/ubuntu artful/main amd64 libxcb-dri2-0 amd64 1.12-1ubuntu1 [6,838 B]\n",
            "Get:85 http://archive.ubuntu.com/ubuntu artful/main amd64 libxcb-dri3-0 amd64 1.12-1ubuntu1 [5,156 B]\n",
            "Get:86 http://archive.ubuntu.com/ubuntu artful/main amd64 libxcb-glx0 amd64 1.12-1ubuntu1 [22.3 kB]\n",
            "Get:87 http://archive.ubuntu.com/ubuntu artful/main amd64 libxcb-present0 amd64 1.12-1ubuntu1 [5,436 B]\n",
            "Get:88 http://archive.ubuntu.com/ubuntu artful/main amd64 libxcb-sync1 amd64 1.12-1ubuntu1 [8,746 B]\n",
            "Get:89 http://archive.ubuntu.com/ubuntu artful/main amd64 libxdamage1 amd64 1:1.1.4-3 [6,934 B]\n",
            "Get:90 http://archive.ubuntu.com/ubuntu artful/main amd64 libdrm-amdgpu1 amd64 2.4.83-1 [18.5 kB]\n",
            "Get:91 http://archive.ubuntu.com/ubuntu artful/main amd64 libpciaccess0 amd64 0.13.4-1ubuntu1 [17.9 kB]\n",
            "Get:92 http://archive.ubuntu.com/ubuntu artful/main amd64 libdrm-intel1 amd64 2.4.83-1 [59.7 kB]\n",
            "Get:93 http://archive.ubuntu.com/ubuntu artful/main amd64 libdrm-nouveau2 amd64 2.4.83-1 [16.4 kB]\n",
            "Get:94 http://archive.ubuntu.com/ubuntu artful/main amd64 libdrm-radeon1 amd64 2.4.83-1 [21.6 kB]\n",
            "Get:95 http://archive.ubuntu.com/ubuntu artful/main amd64 libllvm5.0 amd64 1:5.0-3 [13.7 MB]\n",
            "Get:96 http://archive.ubuntu.com/ubuntu artful/main amd64 libsensors4 amd64 1:3.4.0-4 [28.8 kB]\n",
            "Get:97 http://archive.ubuntu.com/ubuntu artful-updates/main amd64 libgl1-mesa-dri amd64 17.2.8-0ubuntu0~17.10.1 [5,707 kB]\n",
            "Get:98 http://archive.ubuntu.com/ubuntu artful-updates/main amd64 libgl1-mesa-glx amd64 17.2.8-0ubuntu0~17.10.1 [130 kB]\n",
            "Get:99 http://archive.ubuntu.com/ubuntu artful/main amd64 libiec61883-0 amd64 1.2.0-2 [23.5 kB]\n",
            "Get:100 http://archive.ubuntu.com/ubuntu artful/main amd64 libjack-jackd2-0 amd64 1.9.10+20150825git1ed50c92~dfsg-5ubuntu1 [256 kB]\n",
            "Get:101 http://archive.ubuntu.com/ubuntu artful/universe amd64 libopenal-data all 1:1.17.2-4 [101 kB]\n",
            "Get:102 http://archive.ubuntu.com/ubuntu artful/universe amd64 libsndio6.1 amd64 1.1.0-3 [23.4 kB]\n",
            "Get:103 http://archive.ubuntu.com/ubuntu artful/universe amd64 libopenal1 amd64 1:1.17.2-4 [207 kB]\n",
            "84% [Waiting for headers]"
          ],
          "name": "stdout"
        },
        {
          "output_type": "stream",
          "text": [
            "Get:104 http://archive.ubuntu.com/ubuntu artful/main amd64 libasyncns0 amd64 0.8-6 [12.1 kB]\n",
            "Get:105 http://archive.ubuntu.com/ubuntu artful/main amd64 libflac8 amd64 1.3.2-1 [213 kB]\n",
            "Get:106 http://archive.ubuntu.com/ubuntu artful/main amd64 libsndfile1 amd64 1.0.28-4 [169 kB]\n",
            "Get:107 http://archive.ubuntu.com/ubuntu artful/main amd64 libwrap0 amd64 7.6.q-26 [46.1 kB]\n",
            "Get:108 http://archive.ubuntu.com/ubuntu artful-updates/main amd64 libpulse0 amd64 1:10.0-2ubuntu3.1 [265 kB]\n",
            "Get:109 http://archive.ubuntu.com/ubuntu artful-updates/main amd64 libwayland-client0 amd64 1.14.0-1ubuntu0.1 [22.5 kB]\n",
            "Get:110 http://archive.ubuntu.com/ubuntu artful-updates/main amd64 libwayland-cursor0 amd64 1.14.0-1ubuntu0.1 [9,890 B]\n",
            "Get:111 http://archive.ubuntu.com/ubuntu artful-updates/main amd64 libwayland-server0 amd64 1.14.0-1ubuntu0.1 [28.5 kB]\n",
            "Get:112 http://archive.ubuntu.com/ubuntu artful-updates/main amd64 libgbm1 amd64 17.2.8-0ubuntu0~17.10.1 [24.4 kB]\n",
            "Get:113 http://archive.ubuntu.com/ubuntu artful/main amd64 libboost-system1.62.0 amd64 1.62.0+dfsg-4build3 [9,212 B]\n",
            "Get:114 http://archive.ubuntu.com/ubuntu artful/main amd64 libcapnp-0.5.3 amd64 0.5.3-2ubuntu2 [569 kB]\n",
            "Get:115 http://archive.ubuntu.com/ubuntu artful/main amd64 libboost-filesystem1.62.0 amd64 1.62.0+dfsg-4build3 [38.6 kB]\n",
            "Get:116 http://archive.ubuntu.com/ubuntu artful/main amd64 libmircore1 amd64 0.28.0+17.10.20171011.1-0ubuntu1 [31.5 kB]\n",
            "Get:117 http://archive.ubuntu.com/ubuntu artful/main amd64 libmircommon7 amd64 0.28.0+17.10.20171011.1-0ubuntu1 [73.2 kB]\n",
            "Get:118 http://archive.ubuntu.com/ubuntu artful/main amd64 libprotobuf-lite10 amd64 3.0.0-9ubuntu5 [97.1 kB]\n",
            "Get:119 http://archive.ubuntu.com/ubuntu artful/main amd64 libmirprotobuf3 amd64 0.28.0+17.10.20171011.1-0ubuntu1 [131 kB]\n",
            "Get:120 http://archive.ubuntu.com/ubuntu artful/main amd64 libxkbcommon0 amd64 0.7.1-2 [97.2 kB]\n",
            "Get:121 http://archive.ubuntu.com/ubuntu artful/main amd64 libmirclient9 amd64 0.28.0+17.10.20171011.1-0ubuntu1 [199 kB]\n",
            "Get:122 http://archive.ubuntu.com/ubuntu artful/main amd64 libxcb-xfixes0 amd64 1.12-1ubuntu1 [9,292 B]\n",
            "Get:123 http://archive.ubuntu.com/ubuntu artful-updates/main amd64 libegl1-mesa amd64 17.2.8-0ubuntu0~17.10.1 [85.3 kB]\n",
            "Get:124 http://archive.ubuntu.com/ubuntu artful-updates/main amd64 libwayland-egl1-mesa amd64 17.2.8-0ubuntu0~17.10.1 [5,778 B]\n",
            "Get:125 http://archive.ubuntu.com/ubuntu artful-updates/main amd64 libxcursor1 amd64 1:1.1.14-3ubuntu0.1 [19.8 kB]\n",
            "Get:126 http://archive.ubuntu.com/ubuntu artful/main amd64 libxi6 amd64 2:1.7.9-1 [29.2 kB]\n",
            "Get:127 http://archive.ubuntu.com/ubuntu artful/main amd64 libxrandr2 amd64 2:1.5.1-1 [18.1 kB]\n",
            "Get:128 http://archive.ubuntu.com/ubuntu artful/universe amd64 libsdl2-2.0-0 amd64 2.0.6+dfsg1-3ubuntu1 [346 kB]\n",
            "Get:129 http://archive.ubuntu.com/ubuntu artful/main amd64 libxcb-shape0 amd64 1.12-1ubuntu1 [5,864 B]\n",
            "Get:130 http://archive.ubuntu.com/ubuntu artful/main amd64 libxv1 amd64 2:1.0.11-1 [10.7 kB]\n",
            "Get:131 http://archive.ubuntu.com/ubuntu artful/universe amd64 libavdevice57 amd64 7:3.3.4-2 [73.7 kB]\n",
            "Get:132 http://archive.ubuntu.com/ubuntu artful/universe amd64 ffmpeg amd64 7:3.3.4-2 [1,524 kB]\n",
            "Get:133 http://archive.ubuntu.com/ubuntu artful/universe amd64 libaacs0 amd64 0.9.0-1 [51.4 kB]\n",
            "Get:134 http://archive.ubuntu.com/ubuntu artful/universe amd64 libbdplus0 amd64 0.1.2-2 [46.6 kB]\n",
            "Get:135 http://archive.ubuntu.com/ubuntu artful-updates/universe amd64 mesa-va-drivers amd64 17.2.8-0ubuntu0~17.10.1 [1,532 kB]\n",
            "Get:136 http://archive.ubuntu.com/ubuntu artful-updates/main amd64 mesa-vdpau-drivers amd64 17.2.8-0ubuntu0~17.10.1 [1,658 kB]\n",
            "Get:137 http://archive.ubuntu.com/ubuntu artful/main amd64 tcpd amd64 7.6.q-26 [23.5 kB]\n",
            "Get:138 http://archive.ubuntu.com/ubuntu artful/universe amd64 i965-va-driver amd64 1.8.3-1ubuntu1 [633 kB]\n",
            "Get:139 http://archive.ubuntu.com/ubuntu artful/universe amd64 va-driver-all amd64 1.8.3-2 [4,294 B]\n",
            "Get:140 http://archive.ubuntu.com/ubuntu artful/main amd64 vdpau-driver-all amd64 1.1.1-3ubuntu1 [4,674 B]\n",
            "100% [Working]                                                    8,870 kB/s 0s"
          ],
          "name": "stdout"
        },
        {
          "output_type": "stream",
          "text": [
            "\r                                                                               \rGet:141 http://archive.ubuntu.com/ubuntu artful/main amd64 libtxc-dxtn-s2tc amd64 1.0+git20151227-2 [48.4 kB]\r\n",
            "Fetched 60.1 MB in 9s (6,646 kB/s)\n",
            "Extracting templates from packages: 100%\n",
            "Selecting previously unselected package libgsm1:amd64.\n",
            "(Reading database ... 18396 files and directories currently installed.)\n",
            "Preparing to unpack .../000-libgsm1_1.0.13-4_amd64.deb ...\n",
            "Unpacking libgsm1:amd64 (1.0.13-4) ...\n",
            "Selecting previously unselected package libogg0:amd64.\n",
            "Preparing to unpack .../001-libogg0_1.3.2-1_amd64.deb ...\n",
            "Unpacking libogg0:amd64 (1.3.2-1) ...\n",
            "Selecting previously unselected package libxinerama1:amd64.\n",
            "Preparing to unpack .../002-libxinerama1_2%3a1.1.3-1_amd64.deb ...\n",
            "Unpacking libxinerama1:amd64 (2:1.1.3-1) ...\n",
            "Selecting previously unselected package libxshmfence1:amd64.\n",
            "Preparing to unpack .../003-libxshmfence1_1.2-1_amd64.deb ...\n",
            "Unpacking libxshmfence1:amd64 (1.2-1) ...\n",
            "Selecting previously unselected package libxxf86vm1:amd64.\n",
            "Preparing to unpack .../004-libxxf86vm1_1%3a1.1.4-1_amd64.deb ...\n",
            "Unpacking libxxf86vm1:amd64 (1:1.1.4-1) ...\n",
            "Selecting previously unselected package libapparmor1:amd64.\n",
            "Preparing to unpack .../005-libapparmor1_2.11.0-2ubuntu17.1_amd64.deb ...\n",
            "Unpacking libapparmor1:amd64 (2.11.0-2ubuntu17.1) ...\n",
            "Selecting previously unselected package libdbus-1-3:amd64.\n",
            "Preparing to unpack .../006-libdbus-1-3_1.10.22-1ubuntu1_amd64.deb ...\n",
            "Unpacking libdbus-1-3:amd64 (1.10.22-1ubuntu1) ...\n",
            "Selecting previously unselected package dbus.\n",
            "Preparing to unpack .../007-dbus_1.10.22-1ubuntu1_amd64.deb ...\n",
            "Unpacking dbus (1.10.22-1ubuntu1) ...\n",
            "Selecting previously unselected package libelf1:amd64.\n",
            "Preparing to unpack .../008-libelf1_0.170-0.1_amd64.deb ...\n",
            "Unpacking libelf1:amd64 (0.170-0.1) ...\n",
            "Selecting previously unselected package libfribidi0:amd64.\n",
            "Preparing to unpack .../009-libfribidi0_0.19.7-1_amd64.deb ...\n",
            "Unpacking libfribidi0:amd64 (0.19.7-1) ...\n",
            "Selecting previously unselected package libslang2:amd64.\n",
            "Preparing to unpack .../010-libslang2_2.3.1-5ubuntu1_amd64.deb ...\n",
            "Unpacking libslang2:amd64 (2.3.1-5ubuntu1) ...\n",
            "Selecting previously unselected package xkb-data.\n",
            "Preparing to unpack .../011-xkb-data_2.19-1.1ubuntu1_all.deb ...\n",
            "Unpacking xkb-data (2.19-1.1ubuntu1) ...\n",
            "Selecting previously unselected package libdrm-common.\n",
            "Preparing to unpack .../012-libdrm-common_2.4.83-1_all.deb ...\n",
            "Unpacking libdrm-common (2.4.83-1) ...\n",
            "Selecting previously unselected package libdrm2:amd64.\n",
            "Preparing to unpack .../013-libdrm2_2.4.83-1_amd64.deb ...\n",
            "Unpacking libdrm2:amd64 (2.4.83-1) ...\n",
            "Selecting previously unselected package libnuma1:amd64.\n",
            "Preparing to unpack .../014-libnuma1_2.0.11-2.1_amd64.deb ...\n",
            "Unpacking libnuma1:amd64 (2.0.11-2.1) ...\n",
            "Selecting previously unselected package libusb-1.0-0:amd64.\n",
            "Preparing to unpack .../015-libusb-1.0-0_2%3a1.0.21-2_amd64.deb ...\n",
            "Unpacking libusb-1.0-0:amd64 (2:1.0.21-2) ...\n",
            "Selecting previously unselected package libva-drm1:amd64.\n",
            "Preparing to unpack .../016-libva-drm1_1.8.3-2_amd64.deb ...\n",
            "Unpacking libva-drm1:amd64 (1.8.3-2) ...\n",
            "Selecting previously unselected package libva1:amd64.\n",
            "Preparing to unpack .../017-libva1_1.8.3-2_amd64.deb ...\n",
            "Unpacking libva1:amd64 (1.8.3-2) ...\n",
            "Selecting previously unselected package libxfixes3:amd64.\n",
            "Preparing to unpack .../018-libxfixes3_1%3a5.0.3-1_amd64.deb ...\n",
            "Unpacking libxfixes3:amd64 (1:5.0.3-1) ...\n",
            "Selecting previously unselected package libva-x11-1:amd64.\n",
            "Preparing to unpack .../019-libva-x11-1_1.8.3-2_amd64.deb ...\n",
            "Unpacking libva-x11-1:amd64 (1.8.3-2) ...\n",
            "Selecting previously unselected package libvdpau1:amd64.\n",
            "Preparing to unpack .../020-libvdpau1_1.1.1-3ubuntu1_amd64.deb ...\n",
            "Unpacking libvdpau1:amd64 (1.1.1-3ubuntu1) ...\n",
            "Selecting previously unselected package libavutil55:amd64.\n",
            "Preparing to unpack .../021-libavutil55_7%3a3.3.4-2_amd64.deb ...\n",
            "Unpacking libavutil55:amd64 (7:3.3.4-2) ...\n",
            "Selecting previously unselected package libcrystalhd3:amd64.\n",
            "Preparing to unpack .../022-libcrystalhd3_1%3a0.0~git20110715.fdd2f19-12_amd64.deb ...\n",
            "Unpacking libcrystalhd3:amd64 (1:0.0~git20110715.fdd2f19-12) ...\n",
            "Selecting previously unselected package libmp3lame0:amd64.\n",
            "Preparing to unpack .../023-libmp3lame0_3.99.5+repack1-9build1_amd64.deb ...\n",
            "Unpacking libmp3lame0:amd64 (3.99.5+repack1-9build1) ...\n",
            "Selecting previously unselected package libopenjp2-7:amd64.\n",
            "Preparing to unpack .../024-libopenjp2-7_2.2.0-1_amd64.deb ...\n",
            "Unpacking libopenjp2-7:amd64 (2.2.0-1) ...\n",
            "Selecting previously unselected package libopus0:amd64.\n",
            "Preparing to unpack .../025-libopus0_1.1.2-1ubuntu1_amd64.deb ...\n",
            "Unpacking libopus0:amd64 (1.1.2-1ubuntu1) ...\n",
            "Selecting previously unselected package libshine3:amd64.\n",
            "Preparing to unpack .../026-libshine3_3.1.1-1_amd64.deb ...\n",
            "Unpacking libshine3:amd64 (3.1.1-1) ...\n",
            "Selecting previously unselected package libsnappy1v5:amd64.\n",
            "Preparing to unpack .../027-libsnappy1v5_1.1.6-4_amd64.deb ...\n",
            "Unpacking libsnappy1v5:amd64 (1.1.6-4) ...\n",
            "Selecting previously unselected package libspeex1:amd64.\n",
            "Preparing to unpack .../028-libspeex1_1.2~rc1.2-1ubuntu1_amd64.deb ...\n"
          ],
          "name": "stdout"
        },
        {
          "output_type": "stream",
          "text": [
            "Unpacking libspeex1:amd64 (1.2~rc1.2-1ubuntu1) ...\n",
            "Selecting previously unselected package libsoxr0:amd64.\n",
            "Preparing to unpack .../029-libsoxr0_0.1.2-2_amd64.deb ...\n",
            "Unpacking libsoxr0:amd64 (0.1.2-2) ...\n",
            "Selecting previously unselected package libswresample2:amd64.\n",
            "Preparing to unpack .../030-libswresample2_7%3a3.3.4-2_amd64.deb ...\n",
            "Unpacking libswresample2:amd64 (7:3.3.4-2) ...\n",
            "Selecting previously unselected package libpixman-1-0:amd64.\n",
            "Preparing to unpack .../031-libpixman-1-0_0.34.0-1_amd64.deb ...\n",
            "Unpacking libpixman-1-0:amd64 (0.34.0-1) ...\n",
            "Selecting previously unselected package libxcb-render0:amd64.\n",
            "Preparing to unpack .../032-libxcb-render0_1.12-1ubuntu1_amd64.deb ...\n",
            "Unpacking libxcb-render0:amd64 (1.12-1ubuntu1) ...\n",
            "Selecting previously unselected package libxcb-shm0:amd64.\n",
            "Preparing to unpack .../033-libxcb-shm0_1.12-1ubuntu1_amd64.deb ...\n",
            "Unpacking libxcb-shm0:amd64 (1.12-1ubuntu1) ...\n",
            "Selecting previously unselected package libcairo2:amd64.\n",
            "Preparing to unpack .../034-libcairo2_1.14.10-1ubuntu1_amd64.deb ...\n",
            "Unpacking libcairo2:amd64 (1.14.10-1ubuntu1) ...\n",
            "Selecting previously unselected package libtheora0:amd64.\n",
            "Preparing to unpack .../035-libtheora0_1.1.1+dfsg.1-14_amd64.deb ...\n",
            "Unpacking libtheora0:amd64 (1.1.1+dfsg.1-14) ...\n",
            "Selecting previously unselected package libtwolame0:amd64.\n",
            "Preparing to unpack .../036-libtwolame0_0.3.13-2_amd64.deb ...\n",
            "Unpacking libtwolame0:amd64 (0.3.13-2) ...\n",
            "Selecting previously unselected package libvorbis0a:amd64.\n",
            "Preparing to unpack .../037-libvorbis0a_1.3.5-4ubuntu0.2_amd64.deb ...\n",
            "Unpacking libvorbis0a:amd64 (1.3.5-4ubuntu0.2) ...\n",
            "Selecting previously unselected package libvorbisenc2:amd64.\n",
            "Preparing to unpack .../038-libvorbisenc2_1.3.5-4ubuntu0.2_amd64.deb ...\n",
            "Unpacking libvorbisenc2:amd64 (1.3.5-4ubuntu0.2) ...\n",
            "Selecting previously unselected package libvpx4:amd64.\n",
            "Preparing to unpack .../039-libvpx4_1.6.1-3_amd64.deb ...\n",
            "Unpacking libvpx4:amd64 (1.6.1-3) ...\n",
            "Selecting previously unselected package libwavpack1:amd64.\n",
            "Preparing to unpack .../040-libwavpack1_5.1.0-2ubuntu0.3_amd64.deb ...\n",
            "Unpacking libwavpack1:amd64 (5.1.0-2ubuntu0.3) ...\n",
            "Selecting previously unselected package libwebp6:amd64.\n",
            "Preparing to unpack .../041-libwebp6_0.6.0-3_amd64.deb ...\n",
            "Unpacking libwebp6:amd64 (0.6.0-3) ...\n",
            "Selecting previously unselected package libwebpmux3:amd64.\n",
            "Preparing to unpack .../042-libwebpmux3_0.6.0-3_amd64.deb ...\n",
            "Unpacking libwebpmux3:amd64 (0.6.0-3) ...\n",
            "Selecting previously unselected package libx264-148:amd64.\n",
            "Preparing to unpack .../043-libx264-148_2%3a0.148.2795+gitaaa9aa8-1_amd64.deb ...\n",
            "Unpacking libx264-148:amd64 (2:0.148.2795+gitaaa9aa8-1) ...\n",
            "Selecting previously unselected package libx265-130:amd64.\n",
            "Preparing to unpack .../044-libx265-130_2.5-2_amd64.deb ...\n",
            "Unpacking libx265-130:amd64 (2.5-2) ...\n",
            "Selecting previously unselected package libxvidcore4:amd64.\n",
            "Preparing to unpack .../045-libxvidcore4_2%3a1.3.4-1_amd64.deb ...\n",
            "Unpacking libxvidcore4:amd64 (2:1.3.4-1) ...\n",
            "Selecting previously unselected package libzvbi-common.\n",
            "Preparing to unpack .../046-libzvbi-common_0.2.35-13_all.deb ...\n",
            "Unpacking libzvbi-common (0.2.35-13) ...\n",
            "Selecting previously unselected package libzvbi0:amd64.\n",
            "Preparing to unpack .../047-libzvbi0_0.2.35-13_amd64.deb ...\n",
            "Unpacking libzvbi0:amd64 (0.2.35-13) ...\n",
            "Selecting previously unselected package libavcodec57:amd64.\n",
            "Preparing to unpack .../048-libavcodec57_7%3a3.3.4-2_amd64.deb ...\n",
            "Unpacking libavcodec57:amd64 (7:3.3.4-2) ...\n",
            "Selecting previously unselected package libasound2-data.\n",
            "Preparing to unpack .../049-libasound2-data_1.1.3-5_all.deb ...\n",
            "Unpacking libasound2-data (1.1.3-5) ...\n",
            "Selecting previously unselected package libasound2:amd64.\n",
            "Preparing to unpack .../050-libasound2_1.1.3-5_amd64.deb ...\n",
            "Unpacking libasound2:amd64 (1.1.3-5) ...\n",
            "Selecting previously unselected package libraw1394-11:amd64.\n",
            "Preparing to unpack .../051-libraw1394-11_2.1.2-1_amd64.deb ...\n",
            "Unpacking libraw1394-11:amd64 (2.1.2-1) ...\n",
            "Selecting previously unselected package libavc1394-0:amd64.\n",
            "Preparing to unpack .../052-libavc1394-0_0.5.4-4_amd64.deb ...\n",
            "Unpacking libavc1394-0:amd64 (0.5.4-4) ...\n",
            "Selecting previously unselected package libgraphite2-3:amd64.\n",
            "Preparing to unpack .../053-libgraphite2-3_1.3.10-2_amd64.deb ...\n",
            "Unpacking libgraphite2-3:amd64 (1.3.10-2) ...\n",
            "Selecting previously unselected package libharfbuzz0b:amd64.\n",
            "Preparing to unpack .../054-libharfbuzz0b_1.4.2-1_amd64.deb ...\n",
            "Unpacking libharfbuzz0b:amd64 (1.4.2-1) ...\n",
            "Selecting previously unselected package libass9:amd64.\n",
            "Preparing to unpack .../055-libass9_1%3a0.13.7-2_amd64.deb ...\n",
            "Unpacking libass9:amd64 (1:0.13.7-2) ...\n",
            "Selecting previously unselected package libbluray2:amd64.\n",
            "Preparing to unpack .../056-libbluray2_1%3a1.0.1.deb1-2_amd64.deb ...\n",
            "Unpacking libbluray2:amd64 (1:1.0.1.deb1-2) ...\n",
            "Selecting previously unselected package libchromaprint1:amd64.\n",
            "Preparing to unpack .../057-libchromaprint1_1.4.2-1_amd64.deb ...\n",
            "Unpacking libchromaprint1:amd64 (1.4.2-1) ...\n",
            "Selecting previously unselected package libgme0:amd64.\n",
            "Preparing to unpack .../058-libgme0_0.6.1-1_amd64.deb ...\n",
            "Unpacking libgme0:amd64 (0.6.1-1) ...\n"
          ],
          "name": "stdout"
        },
        {
          "output_type": "stream",
          "text": [
            "Selecting previously unselected package libmpg123-0:amd64.\r\n",
            "Preparing to unpack .../059-libmpg123-0_1.25.6-1_amd64.deb ...\r\n",
            "Unpacking libmpg123-0:amd64 (1.25.6-1) ...\n",
            "Selecting previously unselected package libvorbisfile3:amd64.\n",
            "Preparing to unpack .../060-libvorbisfile3_1.3.5-4ubuntu0.2_amd64.deb ...\n",
            "Unpacking libvorbisfile3:amd64 (1.3.5-4ubuntu0.2) ...\n",
            "Selecting previously unselected package libopenmpt0:amd64.\n",
            "Preparing to unpack .../061-libopenmpt0_0.2.8760~beta27-1_amd64.deb ...\n",
            "Unpacking libopenmpt0:amd64 (0.2.8760~beta27-1) ...\n",
            "Selecting previously unselected package libssh-gcrypt-4:amd64.\n",
            "Preparing to unpack .../062-libssh-gcrypt-4_0.7.5-1_amd64.deb ...\n",
            "Unpacking libssh-gcrypt-4:amd64 (0.7.5-1) ...\n",
            "Selecting previously unselected package libavformat57:amd64.\n",
            "Preparing to unpack .../063-libavformat57_7%3a3.3.4-2_amd64.deb ...\n",
            "Unpacking libavformat57:amd64 (7:3.3.4-2) ...\n",
            "Selecting previously unselected package libavresample3:amd64.\n",
            "Preparing to unpack .../064-libavresample3_7%3a3.3.4-2_amd64.deb ...\n",
            "Unpacking libavresample3:amd64 (7:3.3.4-2) ...\n",
            "Selecting previously unselected package libbs2b0:amd64.\n",
            "Preparing to unpack .../065-libbs2b0_3.1.0+dfsg-2.2_amd64.deb ...\n",
            "Unpacking libbs2b0:amd64 (3.1.0+dfsg-2.2) ...\n",
            "Selecting previously unselected package libflite1:amd64.\n",
            "Preparing to unpack .../066-libflite1_2.0.0-release-4_amd64.deb ...\n",
            "Unpacking libflite1:amd64 (2.0.0-release-4) ...\n",
            "Selecting previously unselected package libtbb2:amd64.\n",
            "Preparing to unpack .../067-libtbb2_2017~U7-6_amd64.deb ...\n",
            "Unpacking libtbb2:amd64 (2017~U7-6) ...\n",
            "Selecting previously unselected package libopencv-core3.1:amd64.\n",
            "Preparing to unpack .../068-libopencv-core3.1_3.1.0+dfsg1-1~exp1ubuntu3_amd64.deb ...\n",
            "Unpacking libopencv-core3.1:amd64 (3.1.0+dfsg1-1~exp1ubuntu3) ...\n",
            "Selecting previously unselected package libopencv-imgproc3.1:amd64.\n",
            "Preparing to unpack .../069-libopencv-imgproc3.1_3.1.0+dfsg1-1~exp1ubuntu3_amd64.deb ...\n",
            "Unpacking libopencv-imgproc3.1:amd64 (3.1.0+dfsg1-1~exp1ubuntu3) ...\n",
            "Selecting previously unselected package libpostproc54:amd64.\n",
            "Preparing to unpack .../070-libpostproc54_7%3a3.3.4-2_amd64.deb ...\n",
            "Unpacking libpostproc54:amd64 (7:3.3.4-2) ...\n",
            "Selecting previously unselected package libfftw3-double3:amd64.\n",
            "Preparing to unpack .../071-libfftw3-double3_3.3.6p2-1_amd64.deb ...\n",
            "Unpacking libfftw3-double3:amd64 (3.3.6p2-1) ...\n",
            "Selecting previously unselected package libsamplerate0:amd64.\n",
            "Preparing to unpack .../072-libsamplerate0_0.1.9-1_amd64.deb ...\n",
            "Unpacking libsamplerate0:amd64 (0.1.9-1) ...\n",
            "Selecting previously unselected package librubberband2v5:amd64.\n",
            "Preparing to unpack .../073-librubberband2v5_1.8.1-6ubuntu2_amd64.deb ...\n",
            "Unpacking librubberband2v5:amd64 (1.8.1-6ubuntu2) ...\n",
            "Selecting previously unselected package libswscale4:amd64.\n",
            "Preparing to unpack .../074-libswscale4_7%3a3.3.4-2_amd64.deb ...\n",
            "Unpacking libswscale4:amd64 (7:3.3.4-2) ...\n",
            "Selecting previously unselected package libavfilter6:amd64.\n",
            "Preparing to unpack .../075-libavfilter6_7%3a3.3.4-2_amd64.deb ...\n",
            "Unpacking libavfilter6:amd64 (7:3.3.4-2) ...\n",
            "Selecting previously unselected package libcaca0:amd64.\n",
            "Preparing to unpack .../076-libcaca0_0.99.beta19-2build2~gcc5.2_amd64.deb ...\n",
            "Unpacking libcaca0:amd64 (0.99.beta19-2build2~gcc5.2) ...\n",
            "Selecting previously unselected package libcdio13:amd64.\n",
            "Preparing to unpack .../077-libcdio13_0.83-4.2ubuntu1_amd64.deb ...\n",
            "Unpacking libcdio13:amd64 (0.83-4.2ubuntu1) ...\n",
            "Selecting previously unselected package libcdio-cdda1:amd64.\n",
            "Preparing to unpack .../078-libcdio-cdda1_0.83-4.2ubuntu1_amd64.deb ...\n",
            "Unpacking libcdio-cdda1:amd64 (0.83-4.2ubuntu1) ...\n",
            "Selecting previously unselected package libcdio-paranoia1:amd64.\n",
            "Preparing to unpack .../079-libcdio-paranoia1_0.83-4.2ubuntu1_amd64.deb ...\n",
            "Unpacking libcdio-paranoia1:amd64 (0.83-4.2ubuntu1) ...\n",
            "Selecting previously unselected package libdc1394-22:amd64.\n",
            "Preparing to unpack .../080-libdc1394-22_2.2.5-1_amd64.deb ...\n",
            "Unpacking libdc1394-22:amd64 (2.2.5-1) ...\n",
            "Selecting previously unselected package libglapi-mesa:amd64.\n",
            "Preparing to unpack .../081-libglapi-mesa_17.2.8-0ubuntu0~17.10.1_amd64.deb ...\n",
            "Unpacking libglapi-mesa:amd64 (17.2.8-0ubuntu0~17.10.1) ...\n",
            "Selecting previously unselected package libx11-xcb1:amd64.\n",
            "Preparing to unpack .../082-libx11-xcb1_2%3a1.6.4-3_amd64.deb ...\n",
            "Unpacking libx11-xcb1:amd64 (2:1.6.4-3) ...\n",
            "Selecting previously unselected package libxcb-dri2-0:amd64.\n",
            "Preparing to unpack .../083-libxcb-dri2-0_1.12-1ubuntu1_amd64.deb ...\n",
            "Unpacking libxcb-dri2-0:amd64 (1.12-1ubuntu1) ...\n",
            "Selecting previously unselected package libxcb-dri3-0:amd64.\n",
            "Preparing to unpack .../084-libxcb-dri3-0_1.12-1ubuntu1_amd64.deb ...\n",
            "Unpacking libxcb-dri3-0:amd64 (1.12-1ubuntu1) ...\n",
            "Selecting previously unselected package libxcb-glx0:amd64.\n",
            "Preparing to unpack .../085-libxcb-glx0_1.12-1ubuntu1_amd64.deb ...\n",
            "Unpacking libxcb-glx0:amd64 (1.12-1ubuntu1) ...\n"
          ],
          "name": "stdout"
        },
        {
          "output_type": "stream",
          "text": [
            "Selecting previously unselected package libxcb-present0:amd64.\r\n",
            "Preparing to unpack .../086-libxcb-present0_1.12-1ubuntu1_amd64.deb ...\r\n",
            "Unpacking libxcb-present0:amd64 (1.12-1ubuntu1) ...\n",
            "Selecting previously unselected package libxcb-sync1:amd64.\n",
            "Preparing to unpack .../087-libxcb-sync1_1.12-1ubuntu1_amd64.deb ...\n",
            "Unpacking libxcb-sync1:amd64 (1.12-1ubuntu1) ...\n",
            "Selecting previously unselected package libxdamage1:amd64.\n",
            "Preparing to unpack .../088-libxdamage1_1%3a1.1.4-3_amd64.deb ...\n",
            "Unpacking libxdamage1:amd64 (1:1.1.4-3) ...\n",
            "Selecting previously unselected package libdrm-amdgpu1:amd64.\n",
            "Preparing to unpack .../089-libdrm-amdgpu1_2.4.83-1_amd64.deb ...\n",
            "Unpacking libdrm-amdgpu1:amd64 (2.4.83-1) ...\n",
            "Selecting previously unselected package libpciaccess0:amd64.\n",
            "Preparing to unpack .../090-libpciaccess0_0.13.4-1ubuntu1_amd64.deb ...\n",
            "Unpacking libpciaccess0:amd64 (0.13.4-1ubuntu1) ...\n",
            "Selecting previously unselected package libdrm-intel1:amd64.\n",
            "Preparing to unpack .../091-libdrm-intel1_2.4.83-1_amd64.deb ...\n",
            "Unpacking libdrm-intel1:amd64 (2.4.83-1) ...\n",
            "Selecting previously unselected package libdrm-nouveau2:amd64.\n",
            "Preparing to unpack .../092-libdrm-nouveau2_2.4.83-1_amd64.deb ...\n",
            "Unpacking libdrm-nouveau2:amd64 (2.4.83-1) ...\n",
            "Selecting previously unselected package libdrm-radeon1:amd64.\n",
            "Preparing to unpack .../093-libdrm-radeon1_2.4.83-1_amd64.deb ...\n",
            "Unpacking libdrm-radeon1:amd64 (2.4.83-1) ...\n",
            "Selecting previously unselected package libllvm5.0:amd64.\n",
            "Preparing to unpack .../094-libllvm5.0_1%3a5.0-3_amd64.deb ...\n",
            "Unpacking libllvm5.0:amd64 (1:5.0-3) ...\n",
            "Selecting previously unselected package libsensors4:amd64.\n",
            "Preparing to unpack .../095-libsensors4_1%3a3.4.0-4_amd64.deb ...\n",
            "Unpacking libsensors4:amd64 (1:3.4.0-4) ...\n",
            "Selecting previously unselected package libgl1-mesa-dri:amd64.\n",
            "Preparing to unpack .../096-libgl1-mesa-dri_17.2.8-0ubuntu0~17.10.1_amd64.deb ...\n",
            "Unpacking libgl1-mesa-dri:amd64 (17.2.8-0ubuntu0~17.10.1) ...\n",
            "Selecting previously unselected package libgl1-mesa-glx:amd64.\n",
            "Preparing to unpack .../097-libgl1-mesa-glx_17.2.8-0ubuntu0~17.10.1_amd64.deb ...\n",
            "Unpacking libgl1-mesa-glx:amd64 (17.2.8-0ubuntu0~17.10.1) ...\n",
            "Selecting previously unselected package libiec61883-0:amd64.\n",
            "Preparing to unpack .../098-libiec61883-0_1.2.0-2_amd64.deb ...\n",
            "Unpacking libiec61883-0:amd64 (1.2.0-2) ...\n",
            "Selecting previously unselected package libjack-jackd2-0:amd64.\n",
            "Preparing to unpack .../099-libjack-jackd2-0_1.9.10+20150825git1ed50c92~dfsg-5ubuntu1_amd64.deb ...\n",
            "Unpacking libjack-jackd2-0:amd64 (1.9.10+20150825git1ed50c92~dfsg-5ubuntu1) ...\n",
            "Selecting previously unselected package libopenal-data.\n",
            "Preparing to unpack .../100-libopenal-data_1%3a1.17.2-4_all.deb ...\n",
            "Unpacking libopenal-data (1:1.17.2-4) ...\n",
            "Selecting previously unselected package libsndio6.1:amd64.\n",
            "Preparing to unpack .../101-libsndio6.1_1.1.0-3_amd64.deb ...\n",
            "Unpacking libsndio6.1:amd64 (1.1.0-3) ...\n",
            "Selecting previously unselected package libopenal1:amd64.\n",
            "Preparing to unpack .../102-libopenal1_1%3a1.17.2-4_amd64.deb ...\n",
            "Unpacking libopenal1:amd64 (1:1.17.2-4) ...\n",
            "Selecting previously unselected package libasyncns0:amd64.\n",
            "Preparing to unpack .../103-libasyncns0_0.8-6_amd64.deb ...\n",
            "Unpacking libasyncns0:amd64 (0.8-6) ...\n",
            "Selecting previously unselected package libflac8:amd64.\n",
            "Preparing to unpack .../104-libflac8_1.3.2-1_amd64.deb ...\n",
            "Unpacking libflac8:amd64 (1.3.2-1) ...\n",
            "Selecting previously unselected package libsndfile1:amd64.\n",
            "Preparing to unpack .../105-libsndfile1_1.0.28-4_amd64.deb ...\n",
            "Unpacking libsndfile1:amd64 (1.0.28-4) ...\n",
            "Selecting previously unselected package libwrap0:amd64.\n",
            "Preparing to unpack .../106-libwrap0_7.6.q-26_amd64.deb ...\n",
            "Unpacking libwrap0:amd64 (7.6.q-26) ...\n",
            "Selecting previously unselected package libpulse0:amd64.\n",
            "Preparing to unpack .../107-libpulse0_1%3a10.0-2ubuntu3.1_amd64.deb ...\n",
            "Unpacking libpulse0:amd64 (1:10.0-2ubuntu3.1) ...\n",
            "Selecting previously unselected package libwayland-client0:amd64.\n",
            "Preparing to unpack .../108-libwayland-client0_1.14.0-1ubuntu0.1_amd64.deb ...\n",
            "Unpacking libwayland-client0:amd64 (1.14.0-1ubuntu0.1) ...\n",
            "Selecting previously unselected package libwayland-cursor0:amd64.\n",
            "Preparing to unpack .../109-libwayland-cursor0_1.14.0-1ubuntu0.1_amd64.deb ...\n",
            "Unpacking libwayland-cursor0:amd64 (1.14.0-1ubuntu0.1) ...\n",
            "Selecting previously unselected package libwayland-server0:amd64.\n",
            "Preparing to unpack .../110-libwayland-server0_1.14.0-1ubuntu0.1_amd64.deb ...\n",
            "Unpacking libwayland-server0:amd64 (1.14.0-1ubuntu0.1) ...\n",
            "Selecting previously unselected package libgbm1:amd64.\n",
            "Preparing to unpack .../111-libgbm1_17.2.8-0ubuntu0~17.10.1_amd64.deb ...\n",
            "Unpacking libgbm1:amd64 (17.2.8-0ubuntu0~17.10.1) ...\n",
            "Selecting previously unselected package libboost-system1.62.0:amd64.\n",
            "Preparing to unpack .../112-libboost-system1.62.0_1.62.0+dfsg-4build3_amd64.deb ...\n",
            "Unpacking libboost-system1.62.0:amd64 (1.62.0+dfsg-4build3) ...\n",
            "Selecting previously unselected package libcapnp-0.5.3:amd64.\n",
            "Preparing to unpack .../113-libcapnp-0.5.3_0.5.3-2ubuntu2_amd64.deb ...\n",
            "Unpacking libcapnp-0.5.3:amd64 (0.5.3-2ubuntu2) ...\n",
            "Selecting previously unselected package libboost-filesystem1.62.0:amd64.\n",
            "Preparing to unpack .../114-libboost-filesystem1.62.0_1.62.0+dfsg-4build3_amd64.deb ...\n",
            "Unpacking libboost-filesystem1.62.0:amd64 (1.62.0+dfsg-4build3) ...\n"
          ],
          "name": "stdout"
        },
        {
          "output_type": "stream",
          "text": [
            "Selecting previously unselected package libmircore1:amd64.\r\n",
            "Preparing to unpack .../115-libmircore1_0.28.0+17.10.20171011.1-0ubuntu1_amd64.deb ...\r\n",
            "Unpacking libmircore1:amd64 (0.28.0+17.10.20171011.1-0ubuntu1) ...\n",
            "Selecting previously unselected package libmircommon7:amd64.\n",
            "Preparing to unpack .../116-libmircommon7_0.28.0+17.10.20171011.1-0ubuntu1_amd64.deb ...\n",
            "Unpacking libmircommon7:amd64 (0.28.0+17.10.20171011.1-0ubuntu1) ...\n",
            "Selecting previously unselected package libprotobuf-lite10:amd64.\n",
            "Preparing to unpack .../117-libprotobuf-lite10_3.0.0-9ubuntu5_amd64.deb ...\n",
            "Unpacking libprotobuf-lite10:amd64 (3.0.0-9ubuntu5) ...\n",
            "Selecting previously unselected package libmirprotobuf3:amd64.\n",
            "Preparing to unpack .../118-libmirprotobuf3_0.28.0+17.10.20171011.1-0ubuntu1_amd64.deb ...\n",
            "Unpacking libmirprotobuf3:amd64 (0.28.0+17.10.20171011.1-0ubuntu1) ...\n",
            "Selecting previously unselected package libxkbcommon0:amd64.\n",
            "Preparing to unpack .../119-libxkbcommon0_0.7.1-2_amd64.deb ...\n",
            "Unpacking libxkbcommon0:amd64 (0.7.1-2) ...\n",
            "Selecting previously unselected package libmirclient9:amd64.\n",
            "Preparing to unpack .../120-libmirclient9_0.28.0+17.10.20171011.1-0ubuntu1_amd64.deb ...\n",
            "Unpacking libmirclient9:amd64 (0.28.0+17.10.20171011.1-0ubuntu1) ...\n",
            "Selecting previously unselected package libxcb-xfixes0:amd64.\n",
            "Preparing to unpack .../121-libxcb-xfixes0_1.12-1ubuntu1_amd64.deb ...\n",
            "Unpacking libxcb-xfixes0:amd64 (1.12-1ubuntu1) ...\n",
            "Selecting previously unselected package libegl1-mesa:amd64.\n",
            "Preparing to unpack .../122-libegl1-mesa_17.2.8-0ubuntu0~17.10.1_amd64.deb ...\n",
            "Unpacking libegl1-mesa:amd64 (17.2.8-0ubuntu0~17.10.1) ...\n",
            "Selecting previously unselected package libwayland-egl1-mesa:amd64.\n",
            "Preparing to unpack .../123-libwayland-egl1-mesa_17.2.8-0ubuntu0~17.10.1_amd64.deb ...\n",
            "Unpacking libwayland-egl1-mesa:amd64 (17.2.8-0ubuntu0~17.10.1) ...\n",
            "Selecting previously unselected package libxcursor1:amd64.\n",
            "Preparing to unpack .../124-libxcursor1_1%3a1.1.14-3ubuntu0.1_amd64.deb ...\n",
            "Unpacking libxcursor1:amd64 (1:1.1.14-3ubuntu0.1) ...\n",
            "Selecting previously unselected package libxi6:amd64.\n",
            "Preparing to unpack .../125-libxi6_2%3a1.7.9-1_amd64.deb ...\n",
            "Unpacking libxi6:amd64 (2:1.7.9-1) ...\n",
            "Selecting previously unselected package libxrandr2:amd64.\n",
            "Preparing to unpack .../126-libxrandr2_2%3a1.5.1-1_amd64.deb ...\n",
            "Unpacking libxrandr2:amd64 (2:1.5.1-1) ...\n",
            "Selecting previously unselected package libsdl2-2.0-0:amd64.\n",
            "Preparing to unpack .../127-libsdl2-2.0-0_2.0.6+dfsg1-3ubuntu1_amd64.deb ...\n",
            "Unpacking libsdl2-2.0-0:amd64 (2.0.6+dfsg1-3ubuntu1) ...\n",
            "Selecting previously unselected package libxcb-shape0:amd64.\n",
            "Preparing to unpack .../128-libxcb-shape0_1.12-1ubuntu1_amd64.deb ...\n",
            "Unpacking libxcb-shape0:amd64 (1.12-1ubuntu1) ...\n",
            "Selecting previously unselected package libxv1:amd64.\n",
            "Preparing to unpack .../129-libxv1_2%3a1.0.11-1_amd64.deb ...\n",
            "Unpacking libxv1:amd64 (2:1.0.11-1) ...\n",
            "Selecting previously unselected package libavdevice57:amd64.\n",
            "Preparing to unpack .../130-libavdevice57_7%3a3.3.4-2_amd64.deb ...\n",
            "Unpacking libavdevice57:amd64 (7:3.3.4-2) ...\n",
            "Selecting previously unselected package ffmpeg.\n",
            "Preparing to unpack .../131-ffmpeg_7%3a3.3.4-2_amd64.deb ...\n",
            "Unpacking ffmpeg (7:3.3.4-2) ...\n",
            "Selecting previously unselected package libaacs0:amd64.\n",
            "Preparing to unpack .../132-libaacs0_0.9.0-1_amd64.deb ...\n",
            "Unpacking libaacs0:amd64 (0.9.0-1) ...\n",
            "Selecting previously unselected package libbdplus0:amd64.\n",
            "Preparing to unpack .../133-libbdplus0_0.1.2-2_amd64.deb ...\n",
            "Unpacking libbdplus0:amd64 (0.1.2-2) ...\n",
            "Selecting previously unselected package mesa-va-drivers:amd64.\n",
            "Preparing to unpack .../134-mesa-va-drivers_17.2.8-0ubuntu0~17.10.1_amd64.deb ...\n",
            "Unpacking mesa-va-drivers:amd64 (17.2.8-0ubuntu0~17.10.1) ...\n",
            "Selecting previously unselected package mesa-vdpau-drivers:amd64.\n",
            "Preparing to unpack .../135-mesa-vdpau-drivers_17.2.8-0ubuntu0~17.10.1_amd64.deb ...\n",
            "Unpacking mesa-vdpau-drivers:amd64 (17.2.8-0ubuntu0~17.10.1) ...\n",
            "Selecting previously unselected package tcpd.\n",
            "Preparing to unpack .../136-tcpd_7.6.q-26_amd64.deb ...\n",
            "Unpacking tcpd (7.6.q-26) ...\n",
            "Selecting previously unselected package i965-va-driver:amd64.\n",
            "Preparing to unpack .../137-i965-va-driver_1.8.3-1ubuntu1_amd64.deb ...\n",
            "Unpacking i965-va-driver:amd64 (1.8.3-1ubuntu1) ...\n",
            "Selecting previously unselected package va-driver-all:amd64.\n",
            "Preparing to unpack .../138-va-driver-all_1.8.3-2_amd64.deb ...\n",
            "Unpacking va-driver-all:amd64 (1.8.3-2) ...\n",
            "Selecting previously unselected package vdpau-driver-all:amd64.\n",
            "Preparing to unpack .../139-vdpau-driver-all_1.1.1-3ubuntu1_amd64.deb ...\n",
            "Unpacking vdpau-driver-all:amd64 (1.1.1-3ubuntu1) ...\n",
            "Selecting previously unselected package libtxc-dxtn-s2tc:amd64.\n",
            "Preparing to unpack .../140-libtxc-dxtn-s2tc_1.0+git20151227-2_amd64.deb ...\n",
            "Unpacking libtxc-dxtn-s2tc:amd64 (1.0+git20151227-2) ...\n",
            "Setting up libxi6:amd64 (2:1.7.9-1) ...\n",
            "Setting up libxcb-present0:amd64 (1.12-1ubuntu1) ...\n",
            "Setting up libxinerama1:amd64 (2:1.1.3-1) ...\n",
            "Setting up libxcb-dri2-0:amd64 (1.12-1ubuntu1) ...\n",
            "Setting up libxcb-dri3-0:amd64 (1.12-1ubuntu1) ...\n"
          ],
          "name": "stdout"
        },
        {
          "output_type": "stream",
          "text": [
            "Setting up libxcb-glx0:amd64 (1.12-1ubuntu1) ...\r\n",
            "Setting up libtwolame0:amd64 (0.3.13-2) ...\n",
            "Setting up libraw1394-11:amd64 (2.1.2-1) ...\n",
            "Setting up libxcb-xfixes0:amd64 (1.12-1ubuntu1) ...\n",
            "Setting up libxcb-render0:amd64 (1.12-1ubuntu1) ...\n",
            "Setting up libopenjp2-7:amd64 (2.2.0-1) ...\n",
            "Setting up libasyncns0:amd64 (0.8-6) ...\n",
            "Setting up libcdio13:amd64 (0.83-4.2ubuntu1) ...\n",
            "Setting up libx264-148:amd64 (2:0.148.2795+gitaaa9aa8-1) ...\n",
            "Setting up libxdamage1:amd64 (1:1.1.4-3) ...\n",
            "Setting up libxfixes3:amd64 (1:5.0.3-1) ...\n",
            "Setting up libwavpack1:amd64 (5.1.0-2ubuntu0.3) ...\n",
            "Setting up libaacs0:amd64 (0.9.0-1) ...\n",
            "Setting up libnuma1:amd64 (2.0.11-2.1) ...\n",
            "Setting up libtbb2:amd64 (2017~U7-6) ...\n",
            "Setting up libelf1:amd64 (0.170-0.1) ...\n",
            "Setting up libcdio-cdda1:amd64 (0.83-4.2ubuntu1) ...\n",
            "Setting up libsoxr0:amd64 (0.1.2-2) ...\n",
            "Setting up libssh-gcrypt-4:amd64 (0.7.5-1) ...\n",
            "Setting up libasound2-data (1.1.3-5) ...\n",
            "Setting up libxshmfence1:amd64 (1.2-1) ...\n",
            "Setting up libwayland-client0:amd64 (1.14.0-1ubuntu0.1) ...\n",
            "Setting up xkb-data (2.19-1.1ubuntu1) ...\n",
            "Setting up libcapnp-0.5.3:amd64 (0.5.3-2ubuntu2) ...\n",
            "Setting up libbluray2:amd64 (1:1.0.1.deb1-2) ...\n",
            "Setting up libvdpau1:amd64 (1.1.1-3ubuntu1) ...\n",
            "Setting up libllvm5.0:amd64 (1:5.0-3) ...\n",
            "Setting up libshine3:amd64 (3.1.1-1) ...\n",
            "Setting up libtxc-dxtn-s2tc:amd64 (1.0+git20151227-2) ...\n",
            "update-alternatives: using /usr/lib/x86_64-linux-gnu/s2tc/libtxc_dxtn.so to provide /usr/lib/x86_64-linux-gnu/libtxc_dxtn.so (libtxc-dxtn-x86_64-linux-gnu) in auto mode\n",
            "Setting up libiec61883-0:amd64 (1.2.0-2) ...\n",
            "Setting up libglapi-mesa:amd64 (17.2.8-0ubuntu0~17.10.1) ...\n",
            "Setting up libspeex1:amd64 (1.2~rc1.2-1ubuntu1) ...\n",
            "Setting up libfftw3-double3:amd64 (3.3.6p2-1) ...\n",
            "Setting up libxvidcore4:amd64 (2:1.3.4-1) ...\n",
            "Setting up libvpx4:amd64 (1.6.1-3) ...\n",
            "Setting up libopus0:amd64 (1.1.2-1ubuntu1) ...\n",
            "Setting up libva1:amd64 (1.8.3-2) ...\n",
            "Setting up libasound2:amd64 (1.1.3-5) ...\n",
            "Setting up libopenal-data (1:1.17.2-4) ...\n",
            "Setting up libdrm-common (2.4.83-1) ...\n",
            "Setting up libgraphite2-3:amd64 (1.3.10-2) ...\n",
            "Setting up libbs2b0:amd64 (3.1.0+dfsg-2.2) ...\n",
            "Setting up libxcb-sync1:amd64 (1.12-1ubuntu1) ...\n",
            "Setting up libogg0:amd64 (1.3.2-1) ...\n",
            "Setting up libx11-xcb1:amd64 (2:1.6.4-3) ...\n",
            "Setting up libpixman-1-0:amd64 (0.34.0-1) ...\n",
            "Setting up libmp3lame0:amd64 (3.99.5+repack1-9build1) ...\n",
            "Setting up libxcursor1:amd64 (1:1.1.14-3ubuntu0.1) ...\n",
            "Setting up libusb-1.0-0:amd64 (2:1.0.21-2) ...\n",
            "Setting up libcrystalhd3:amd64 (1:0.0~git20110715.fdd2f19-12) ...\n",
            "Processing triggers for libc-bin (2.26-0ubuntu2.1) ...\n",
            "Setting up libapparmor1:amd64 (2.11.0-2ubuntu17.1) ...\n",
            "Setting up libsnappy1v5:amd64 (1.1.6-4) ...\n",
            "Setting up libavc1394-0:amd64 (0.5.4-4) ...\n",
            "Setting up libx265-130:amd64 (2.5-2) ...\n",
            "Setting up libzvbi-common (0.2.35-13) ...\n",
            "Setting up libfribidi0:amd64 (0.19.7-1) ...\n",
            "Setting up libxcb-shm0:amd64 (1.12-1ubuntu1) ...\n",
            "Setting up libxcb-shape0:amd64 (1.12-1ubuntu1) ...\n",
            "Setting up libpciaccess0:amd64 (0.13.4-1ubuntu1) ...\n",
            "Setting up libxv1:amd64 (2:1.0.11-1) ...\n",
            "Setting up libsensors4:amd64 (1:3.4.0-4) ...\n",
            "Setting up libxkbcommon0:amd64 (0.7.1-2) ...\n",
            "Setting up libcdio-paranoia1:amd64 (0.83-4.2ubuntu1) ...\n",
            "Setting up libgme0:amd64 (0.6.1-1) ...\n",
            "Setting up libbdplus0:amd64 (0.1.2-2) ...\n",
            "Setting up libxxf86vm1:amd64 (1:1.1.4-1) ...\n",
            "Setting up libzvbi0:amd64 (0.2.35-13) ...\n",
            "Setting up libsamplerate0:amd64 (0.1.9-1) ...\n",
            "Setting up libsndio6.1:amd64 (1.1.0-3) ...\n",
            "Setting up libvorbis0a:amd64 (1.3.5-4ubuntu0.2) ...\n",
            "Setting up libprotobuf-lite10:amd64 (3.0.0-9ubuntu5) ...\n",
            "Setting up libmpg123-0:amd64 (1.25.6-1) ...\n",
            "Setting up libslang2:amd64 (2.3.1-5ubuntu1) ...\n",
            "Setting up libwayland-cursor0:amd64 (1.14.0-1ubuntu0.1) ...\n",
            "Setting up libgsm1:amd64 (1.0.13-4) ...\n",
            "Setting up libxrandr2:amd64 (2:1.5.1-1) ...\n",
            "Setting up libdbus-1-3:amd64 (1.10.22-1ubuntu1) ...\n",
            "Setting up libboost-system1.62.0:amd64 (1.62.0+dfsg-4build3) ...\n",
            "Setting up libwrap0:amd64 (7.6.q-26) ...\n",
            "Setting up libwayland-server0:amd64 (1.14.0-1ubuntu0.1) ...\n",
            "Setting up libwebp6:amd64 (0.6.0-3) ...\n",
            "Setting up libvorbisfile3:amd64 (1.3.5-4ubuntu0.2) ...\n",
            "Setting up libcairo2:amd64 (1.14.10-1ubuntu1) ...\n",
            "Setting up libopencv-core3.1:amd64 (3.1.0+dfsg1-1~exp1ubuntu3) ...\n",
            "Setting up libopenmpt0:amd64 (0.2.8760~beta27-1) ...\n"
          ],
          "name": "stdout"
        },
        {
          "output_type": "stream",
          "text": [
            "Setting up libmirprotobuf3:amd64 (0.28.0+17.10.20171011.1-0ubuntu1) ...\r\n",
            "Setting up libflite1:amd64 (2.0.0-release-4) ...\n",
            "Setting up libflac8:amd64 (1.3.2-1) ...\n",
            "Setting up libharfbuzz0b:amd64 (1.4.2-1) ...\n",
            "Setting up libdc1394-22:amd64 (2.2.5-1) ...\n",
            "Setting up tcpd (7.6.q-26) ...\n",
            "Setting up libdrm2:amd64 (2.4.83-1) ...\n",
            "Setting up libdrm-intel1:amd64 (2.4.83-1) ...\n",
            "Setting up libwebpmux3:amd64 (0.6.0-3) ...\n",
            "Setting up libopencv-imgproc3.1:amd64 (3.1.0+dfsg1-1~exp1ubuntu3) ...\n",
            "Setting up libboost-filesystem1.62.0:amd64 (1.62.0+dfsg-4build3) ...\n",
            "Setting up libjack-jackd2-0:amd64 (1.9.10+20150825git1ed50c92~dfsg-5ubuntu1) ...\n",
            "Setting up libopenal1:amd64 (1:1.17.2-4) ...\n",
            "Setting up libva-drm1:amd64 (1.8.3-2) ...\n",
            "Setting up libdrm-radeon1:amd64 (2.4.83-1) ...\n",
            "Setting up librubberband2v5:amd64 (1.8.1-6ubuntu2) ...\n",
            "Setting up dbus (1.10.22-1ubuntu1) ...\n",
            "Setting up libvorbisenc2:amd64 (1.3.5-4ubuntu0.2) ...\n",
            "Setting up libdrm-nouveau2:amd64 (2.4.83-1) ...\n",
            "Setting up libcaca0:amd64 (0.99.beta19-2build2~gcc5.2) ...\n",
            "Setting up libmircore1:amd64 (0.28.0+17.10.20171011.1-0ubuntu1) ...\n",
            "Setting up libtheora0:amd64 (1.1.1+dfsg.1-14) ...\n",
            "Setting up libva-x11-1:amd64 (1.8.3-2) ...\n",
            "Setting up libavutil55:amd64 (7:3.3.4-2) ...\n",
            "Setting up libdrm-amdgpu1:amd64 (2.4.83-1) ...\n",
            "Setting up mesa-vdpau-drivers:amd64 (17.2.8-0ubuntu0~17.10.1) ...\n",
            "Setting up libgbm1:amd64 (17.2.8-0ubuntu0~17.10.1) ...\n",
            "Setting up libass9:amd64 (1:0.13.7-2) ...\n",
            "Setting up libgl1-mesa-dri:amd64 (17.2.8-0ubuntu0~17.10.1) ...\n",
            "Setting up libswresample2:amd64 (7:3.3.4-2) ...\n",
            "Setting up libsndfile1:amd64 (1.0.28-4) ...\n",
            "Setting up i965-va-driver:amd64 (1.8.3-1ubuntu1) ...\n",
            "Setting up libgl1-mesa-glx:amd64 (17.2.8-0ubuntu0~17.10.1) ...\n",
            "update-alternatives: using /usr/lib/x86_64-linux-gnu/mesa/ld.so.conf to provide /etc/ld.so.conf.d/x86_64-linux-gnu_GL.conf (x86_64-linux-gnu_gl_conf) in auto mode\n",
            "Setting up libswscale4:amd64 (7:3.3.4-2) ...\n",
            "Setting up mesa-va-drivers:amd64 (17.2.8-0ubuntu0~17.10.1) ...\n",
            "Setting up libpostproc54:amd64 (7:3.3.4-2) ...\n",
            "Setting up libmircommon7:amd64 (0.28.0+17.10.20171011.1-0ubuntu1) ...\n",
            "Setting up vdpau-driver-all:amd64 (1.1.1-3ubuntu1) ...\n",
            "Setting up libavresample3:amd64 (7:3.3.4-2) ...\n",
            "Setting up libavcodec57:amd64 (7:3.3.4-2) ...\n",
            "Setting up libmirclient9:amd64 (0.28.0+17.10.20171011.1-0ubuntu1) ...\n",
            "Setting up libpulse0:amd64 (1:10.0-2ubuntu3.1) ...\n",
            "Setting up va-driver-all:amd64 (1.8.3-2) ...\n",
            "Setting up libegl1-mesa:amd64 (17.2.8-0ubuntu0~17.10.1) ...\n",
            "update-alternatives: using /usr/lib/x86_64-linux-gnu/mesa-egl/ld.so.conf to provide /etc/ld.so.conf.d/x86_64-linux-gnu_EGL.conf (x86_64-linux-gnu_egl_conf) in auto mode\n",
            "Setting up libchromaprint1:amd64 (1.4.2-1) ...\n",
            "Setting up libwayland-egl1-mesa:amd64 (17.2.8-0ubuntu0~17.10.1) ...\n",
            "Setting up libavformat57:amd64 (7:3.3.4-2) ...\n",
            "Setting up libavfilter6:amd64 (7:3.3.4-2) ...\n",
            "Setting up libsdl2-2.0-0:amd64 (2.0.6+dfsg1-3ubuntu1) ...\n",
            "Setting up libavdevice57:amd64 (7:3.3.4-2) ...\n",
            "Setting up ffmpeg (7:3.3.4-2) ...\n",
            "Processing triggers for libc-bin (2.26-0ubuntu2.1) ...\n"
          ],
          "name": "stdout"
        }
      ]
    },
    {
      "metadata": {
        "id": "8CgY018Pk1Zb",
        "colab_type": "text"
      },
      "cell_type": "markdown",
      "source": [
        "> **Implementation :**\n",
        "\n",
        "> * To process the video we are using **opencv**.\n",
        "> * To generate a video file back from processed images we are using **ffmpeg**.\n",
        "> * Taking the video file and process it frame by frame. \n",
        "> * Applying classifier to find out the class with highest probability in the image frame.\n",
        "> * Performing grad-cam technique on images. \n",
        "> * Generating and saving output images with the \"Image%d.jpg\" file name , where %d is a sequence number. These files later be used to obtain the video representation of processed images. "
      ]
    },
    {
      "metadata": {
        "id": "z1UQ7iIzHe33",
        "colab_type": "code",
        "colab": {
          "autoexec": {
            "startup": false,
            "wait_interval": 0
          },
          "base_uri": "https://localhost:8080/",
          "height": 1688
        },
        "outputId": "5a4a305a-a9d4-4674-bdbf-20c9a8b33860"
      },
      "cell_type": "code",
      "source": [
        "#DenseNet121\n",
        "video_inp = 'Input.mp4'\n",
        "video_out = 'Animals_out.mp4'\n",
        "\n",
        "video_reader = cv2.VideoCapture(video_inp)\n",
        "\n",
        "nb_frames = int(video_reader.get(cv2.CAP_PROP_FRAME_COUNT))\n",
        "frame_h = int(video_reader.get(cv2.CAP_PROP_FRAME_HEIGHT))\n",
        "frame_w = int(video_reader.get(cv2.CAP_PROP_FRAME_WIDTH))\n",
        "\n",
        "video_writer = cv2.VideoWriter(video_out,\n",
        "                               cv2.VideoWriter_fourcc(*'MP4V'), \n",
        "                               20.0, \n",
        "                               (frame_w, frame_h))\n",
        "\n",
        "for i in tqdm(range(nb_frames)):\n",
        "    ret, image = video_reader.read()\n",
        "    if ret == True:\n",
        "      input_image = cv2.resize(image, (224, 224))\n",
        "      original_image = cv2.resize(image, (224, 224))\n",
        "      input_image = input_image[:,:,::-1]     #\"\"\" convert from RGB of PIL to BGR of OpenCV \"\"\"\n",
        "      input_image = np.expand_dims(input_image, 0)\n",
        "      input_image = input_image.astype(np.float32)\n",
        "      input_image = preprocess_input(input_image)\n",
        "      predictions = model.predict(input_image)\n",
        "      top_1 = decode_predictions(predictions)[0][0]\n",
        "      print('Predicted class:')\n",
        "      print('%s (%s) with probability %.2f' % (top_1[1], top_1[0], top_1[2]))\n",
        "      \n",
        "      predicted_class = np.argmax(predictions)\n",
        "      \n",
        "      cam, heatmap, heatmap_print = grad_cam(model, input_image, original_image, predicted_class, \"conv5_block16_concat\")\n",
        "      cam = cv2.resize(cam, (1280, 720))\n",
        "      cv2.imwrite('Image' + str(i) + '.jpg', cam)\n",
        "      video_writer.write(cam)\n",
        "\n",
        "video_reader.release()\n",
        "video_writer.release()\n"
      ],
      "execution_count": 0,
      "outputs": [
        {
          "output_type": "stream",
          "text": [
            "\r  0%|          | 0/481 [00:00<?, ?it/s]"
          ],
          "name": "stderr"
        },
        {
          "output_type": "stream",
          "text": [
            "Predicted class:\n",
            "tiger (n02129604) with probability 0.91\n"
          ],
          "name": "stdout"
        },
        {
          "output_type": "stream",
          "text": [
            "\r  0%|          | 1/481 [00:26<3:32:56, 26.62s/it]"
          ],
          "name": "stderr"
        },
        {
          "output_type": "stream",
          "text": [
            "Predicted class:\n",
            "tiger (n02129604) with probability 0.90\n"
          ],
          "name": "stdout"
        },
        {
          "output_type": "stream",
          "text": [
            "\r  0%|          | 2/481 [00:55<3:43:06, 27.95s/it]"
          ],
          "name": "stderr"
        },
        {
          "output_type": "stream",
          "text": [
            "Predicted class:\n",
            "tiger (n02129604) with probability 0.91\n"
          ],
          "name": "stdout"
        },
        {
          "output_type": "stream",
          "text": [
            "\r  1%|          | 3/481 [01:26<3:49:26, 28.80s/it]"
          ],
          "name": "stderr"
        },
        {
          "output_type": "stream",
          "text": [
            "Predicted class:\n",
            "tiger (n02129604) with probability 0.92\n"
          ],
          "name": "stdout"
        },
        {
          "output_type": "stream",
          "text": [
            "\r  1%|          | 4/481 [01:58<3:55:48, 29.66s/it]"
          ],
          "name": "stderr"
        },
        {
          "output_type": "stream",
          "text": [
            "Predicted class:\n",
            "tiger (n02129604) with probability 0.91\n"
          ],
          "name": "stdout"
        },
        {
          "output_type": "stream",
          "text": [
            "\r  1%|          | 5/481 [02:34<4:05:18, 30.92s/it]"
          ],
          "name": "stderr"
        },
        {
          "output_type": "stream",
          "text": [
            "Predicted class:\n",
            "tiger (n02129604) with probability 0.89\n"
          ],
          "name": "stdout"
        },
        {
          "output_type": "stream",
          "text": [
            "\r  1%|          | 6/481 [03:14<4:16:38, 32.42s/it]"
          ],
          "name": "stderr"
        },
        {
          "output_type": "stream",
          "text": [
            "Predicted class:\n",
            "tiger (n02129604) with probability 0.90\n"
          ],
          "name": "stdout"
        },
        {
          "output_type": "stream",
          "text": [
            "\r  1%|▏         | 7/481 [03:59<4:30:05, 34.19s/it]"
          ],
          "name": "stderr"
        },
        {
          "output_type": "stream",
          "text": [
            "Predicted class:\n",
            "tiger (n02129604) with probability 0.93\n"
          ],
          "name": "stdout"
        },
        {
          "output_type": "stream",
          "text": [
            "\r  2%|▏         | 8/481 [04:47<4:42:49, 35.88s/it]"
          ],
          "name": "stderr"
        },
        {
          "output_type": "stream",
          "text": [
            "Predicted class:\n",
            "tiger (n02129604) with probability 0.93\n"
          ],
          "name": "stdout"
        },
        {
          "output_type": "stream",
          "text": [
            "\r  2%|▏         | 9/481 [05:37<4:55:08, 37.52s/it]"
          ],
          "name": "stderr"
        },
        {
          "output_type": "stream",
          "text": [
            "Predicted class:\n",
            "tiger (n02129604) with probability 0.91\n"
          ],
          "name": "stdout"
        },
        {
          "output_type": "stream",
          "text": [
            "\r  2%|▏         | 10/481 [06:32<5:07:48, 39.21s/it]"
          ],
          "name": "stderr"
        },
        {
          "output_type": "stream",
          "text": [
            "Predicted class:\n",
            "tiger (n02129604) with probability 0.91\n"
          ],
          "name": "stdout"
        },
        {
          "output_type": "stream",
          "text": [
            "\r  2%|▏         | 11/481 [07:28<5:19:26, 40.78s/it]"
          ],
          "name": "stderr"
        },
        {
          "output_type": "stream",
          "text": [
            "Predicted class:\n",
            "tiger (n02129604) with probability 0.92\n"
          ],
          "name": "stdout"
        },
        {
          "output_type": "stream",
          "text": [
            "\r  2%|▏         | 12/481 [08:27<5:30:25, 42.27s/it]"
          ],
          "name": "stderr"
        },
        {
          "output_type": "stream",
          "text": [
            "Predicted class:\n",
            "tiger (n02129604) with probability 0.90\n"
          ],
          "name": "stdout"
        },
        {
          "output_type": "stream",
          "text": [
            "\r  3%|▎         | 13/481 [09:30<5:42:15, 43.88s/it]"
          ],
          "name": "stderr"
        },
        {
          "output_type": "stream",
          "text": [
            "Predicted class:\n",
            "tiger (n02129604) with probability 0.90\n"
          ],
          "name": "stdout"
        },
        {
          "output_type": "stream",
          "text": [
            "\r  3%|▎         | 14/481 [10:35<5:53:05, 45.37s/it]"
          ],
          "name": "stderr"
        },
        {
          "output_type": "stream",
          "text": [
            "Predicted class:\n",
            "tiger (n02129604) with probability 0.90\n"
          ],
          "name": "stdout"
        },
        {
          "output_type": "stream",
          "text": [
            "\r  3%|▎         | 15/481 [11:46<6:05:38, 47.08s/it]"
          ],
          "name": "stderr"
        },
        {
          "output_type": "stream",
          "text": [
            "Predicted class:\n",
            "tiger (n02129604) with probability 0.91\n"
          ],
          "name": "stdout"
        },
        {
          "output_type": "stream",
          "text": [
            "\r  3%|▎         | 16/481 [12:59<6:17:44, 48.74s/it]"
          ],
          "name": "stderr"
        },
        {
          "output_type": "stream",
          "text": [
            "Predicted class:\n",
            "tiger (n02129604) with probability 0.88\n"
          ],
          "name": "stdout"
        },
        {
          "output_type": "stream",
          "text": [
            "\r  4%|▎         | 17/481 [14:17<6:30:06, 50.44s/it]"
          ],
          "name": "stderr"
        },
        {
          "output_type": "stream",
          "text": [
            "Predicted class:\n",
            "tiger (n02129604) with probability 0.88\n"
          ],
          "name": "stdout"
        },
        {
          "output_type": "stream",
          "text": [
            "\r  4%|▎         | 18/481 [15:39<6:42:34, 52.17s/it]"
          ],
          "name": "stderr"
        },
        {
          "output_type": "stream",
          "text": [
            "Predicted class:\n",
            "tiger (n02129604) with probability 0.87\n"
          ],
          "name": "stdout"
        },
        {
          "output_type": "stream",
          "text": [
            "\r  4%|▍         | 19/481 [17:07<6:56:27, 54.09s/it]"
          ],
          "name": "stderr"
        },
        {
          "output_type": "stream",
          "text": [
            "Predicted class:\n",
            "tiger (n02129604) with probability 0.87\n"
          ],
          "name": "stdout"
        },
        {
          "output_type": "stream",
          "text": [
            "\r  4%|▍         | 20/481 [18:36<7:08:43, 55.80s/it]"
          ],
          "name": "stderr"
        },
        {
          "output_type": "stream",
          "text": [
            "Predicted class:\n",
            "tiger (n02129604) with probability 0.90\n"
          ],
          "name": "stdout"
        },
        {
          "output_type": "stream",
          "text": [
            "\r  4%|▍         | 21/481 [20:11<7:22:22, 57.70s/it]"
          ],
          "name": "stderr"
        },
        {
          "output_type": "stream",
          "text": [
            "Predicted class:\n",
            "tiger (n02129604) with probability 0.87\n"
          ],
          "name": "stdout"
        },
        {
          "output_type": "stream",
          "text": [
            "\r  5%|▍         | 22/481 [21:50<7:35:33, 59.55s/it]"
          ],
          "name": "stderr"
        },
        {
          "output_type": "stream",
          "text": [
            "Predicted class:\n",
            "tiger (n02129604) with probability 0.88\n"
          ],
          "name": "stdout"
        },
        {
          "output_type": "stream",
          "text": [
            "\r  5%|▍         | 23/481 [23:34<7:49:28, 61.50s/it]"
          ],
          "name": "stderr"
        },
        {
          "output_type": "stream",
          "text": [
            "Predicted class:\n",
            "tiger (n02129604) with probability 0.89\n"
          ],
          "name": "stdout"
        },
        {
          "output_type": "stream",
          "text": [
            "\r  5%|▍         | 24/481 [25:25<8:03:59, 63.54s/it]"
          ],
          "name": "stderr"
        },
        {
          "output_type": "stream",
          "text": [
            "Predicted class:\n",
            "tiger (n02129604) with probability 0.90\n"
          ],
          "name": "stdout"
        },
        {
          "output_type": "stream",
          "text": [
            "\r  5%|▌         | 25/481 [27:13<8:16:37, 65.35s/it]"
          ],
          "name": "stderr"
        },
        {
          "output_type": "stream",
          "text": [
            "Predicted class:\n",
            "tiger (n02129604) with probability 0.90\n"
          ],
          "name": "stdout"
        },
        {
          "output_type": "stream",
          "text": [
            "\r  5%|▌         | 26/481 [29:06<8:29:32, 67.19s/it]"
          ],
          "name": "stderr"
        },
        {
          "output_type": "stream",
          "text": [
            "Predicted class:\n",
            "tiger (n02129604) with probability 0.89\n"
          ],
          "name": "stdout"
        },
        {
          "output_type": "stream",
          "text": [
            "\r  6%|▌         | 27/481 [31:05<8:42:46, 69.09s/it]"
          ],
          "name": "stderr"
        },
        {
          "output_type": "stream",
          "text": [
            "Predicted class:\n",
            "tiger (n02129604) with probability 0.86\n"
          ],
          "name": "stdout"
        },
        {
          "output_type": "stream",
          "text": [
            "\r  6%|▌         | 28/481 [33:08<8:56:07, 71.01s/it]"
          ],
          "name": "stderr"
        },
        {
          "output_type": "stream",
          "text": [
            "Predicted class:\n",
            "tiger (n02129604) with probability 0.85\n"
          ],
          "name": "stdout"
        },
        {
          "output_type": "stream",
          "text": [
            "\r  6%|▌         | 29/481 [35:15<9:09:34, 72.95s/it]"
          ],
          "name": "stderr"
        },
        {
          "output_type": "stream",
          "text": [
            "Predicted class:\n",
            "tiger (n02129604) with probability 0.89\n"
          ],
          "name": "stdout"
        },
        {
          "output_type": "stream",
          "text": [
            "\r  6%|▌         | 30/481 [37:33<9:24:36, 75.11s/it]"
          ],
          "name": "stderr"
        },
        {
          "output_type": "stream",
          "text": [
            "Predicted class:\n",
            "tiger (n02129604) with probability 0.89\n"
          ],
          "name": "stdout"
        },
        {
          "output_type": "stream",
          "text": [
            "\r  6%|▋         | 31/481 [39:51<9:38:40, 77.16s/it]"
          ],
          "name": "stderr"
        },
        {
          "output_type": "stream",
          "text": [
            "Predicted class:\n",
            "tiger (n02129604) with probability 0.89\n"
          ],
          "name": "stdout"
        },
        {
          "output_type": "stream",
          "text": [
            "\r  7%|▋         | 32/481 [42:14<9:52:47, 79.21s/it]"
          ],
          "name": "stderr"
        },
        {
          "output_type": "stream",
          "text": [
            "Predicted class:\n",
            "tiger (n02129604) with probability 0.87\n"
          ],
          "name": "stdout"
        },
        {
          "output_type": "stream",
          "text": [
            "\r  7%|▋         | 33/481 [44:41<10:06:44, 81.26s/it]"
          ],
          "name": "stderr"
        },
        {
          "output_type": "stream",
          "text": [
            "Predicted class:\n",
            "tiger (n02129604) with probability 0.89\n"
          ],
          "name": "stdout"
        },
        {
          "output_type": "stream",
          "text": [
            "\r  7%|▋         | 34/481 [47:12<10:20:34, 83.30s/it]"
          ],
          "name": "stderr"
        },
        {
          "output_type": "stream",
          "text": [
            "Predicted class:\n",
            "tiger (n02129604) with probability 0.92\n"
          ],
          "name": "stdout"
        },
        {
          "output_type": "stream",
          "text": [
            "\r  7%|▋         | 35/481 [49:46<10:34:18, 85.33s/it]"
          ],
          "name": "stderr"
        },
        {
          "output_type": "stream",
          "text": [
            "Predicted class:\n",
            "tiger (n02129604) with probability 0.91\n"
          ],
          "name": "stdout"
        },
        {
          "output_type": "stream",
          "text": [
            "\r  7%|▋         | 36/481 [52:28<10:48:34, 87.45s/it]"
          ],
          "name": "stderr"
        },
        {
          "output_type": "stream",
          "text": [
            "Predicted class:\n",
            "tiger (n02129604) with probability 0.90\n"
          ],
          "name": "stdout"
        },
        {
          "output_type": "stream",
          "text": [
            "\r  8%|▊         | 37/481 [55:19<11:03:54, 89.72s/it]"
          ],
          "name": "stderr"
        },
        {
          "output_type": "stream",
          "text": [
            "Predicted class:\n",
            "tiger (n02129604) with probability 0.88\n"
          ],
          "name": "stdout"
        },
        {
          "output_type": "stream",
          "text": [
            "\r  8%|▊         | 38/481 [58:11<11:18:24, 91.88s/it]"
          ],
          "name": "stderr"
        },
        {
          "output_type": "stream",
          "text": [
            "Predicted class:\n",
            "tiger (n02129604) with probability 0.90\n"
          ],
          "name": "stdout"
        },
        {
          "output_type": "stream",
          "text": [
            "\r  8%|▊         | 39/481 [1:01:06<11:32:33, 94.01s/it]"
          ],
          "name": "stderr"
        },
        {
          "output_type": "stream",
          "text": [
            "Predicted class:\n",
            "tiger (n02129604) with probability 0.91\n"
          ],
          "name": "stdout"
        },
        {
          "output_type": "stream",
          "text": [
            "\r  8%|▊         | 40/481 [1:04:07<11:46:55, 96.18s/it]"
          ],
          "name": "stderr"
        },
        {
          "output_type": "stream",
          "text": [
            "Predicted class:\n",
            "tiger (n02129604) with probability 0.89\n"
          ],
          "name": "stdout"
        },
        {
          "output_type": "stream",
          "text": [
            "\r  9%|▊         | 41/481 [1:07:10<12:00:52, 98.30s/it]"
          ],
          "name": "stderr"
        },
        {
          "output_type": "stream",
          "text": [
            "Predicted class:\n",
            "tiger (n02129604) with probability 0.90\n"
          ],
          "name": "stdout"
        },
        {
          "output_type": "stream",
          "text": [
            "\r  9%|▊         | 42/481 [1:10:22<12:15:33, 100.53s/it]"
          ],
          "name": "stderr"
        },
        {
          "output_type": "stream",
          "text": [
            "Predicted class:\n",
            "tiger (n02129604) with probability 0.89\n"
          ],
          "name": "stdout"
        },
        {
          "output_type": "stream",
          "text": [
            "\r  9%|▉         | 43/481 [1:13:39<12:30:18, 102.78s/it]"
          ],
          "name": "stderr"
        },
        {
          "output_type": "stream",
          "text": [
            "Predicted class:\n",
            "tiger (n02129604) with probability 0.88\n"
          ],
          "name": "stdout"
        },
        {
          "output_type": "stream",
          "text": [
            "\r  9%|▉         | 44/481 [1:17:01<12:44:59, 105.03s/it]"
          ],
          "name": "stderr"
        },
        {
          "output_type": "stream",
          "text": [
            "Predicted class:\n",
            "tiger (n02129604) with probability 0.90\n"
          ],
          "name": "stdout"
        },
        {
          "output_type": "stream",
          "text": [
            "\r  9%|▉         | 45/481 [1:20:26<12:59:21, 107.25s/it]"
          ],
          "name": "stderr"
        },
        {
          "output_type": "stream",
          "text": [
            "Predicted class:\n",
            "tiger (n02129604) with probability 0.88\n"
          ],
          "name": "stdout"
        },
        {
          "output_type": "stream",
          "text": [
            "\r 10%|▉         | 46/481 [1:24:01<13:14:36, 109.60s/it]"
          ],
          "name": "stderr"
        },
        {
          "output_type": "stream",
          "text": [
            "Predicted class:\n",
            "tiger (n02129604) with probability 0.90\n"
          ],
          "name": "stdout"
        }
      ]
    },
    {
      "metadata": {
        "id": "qb-3WQIq0ipD",
        "colab_type": "text"
      },
      "cell_type": "markdown",
      "source": [
        "* Generating video file from processed images"
      ]
    },
    {
      "metadata": {
        "id": "CBVsdH-4-WzP",
        "colab_type": "code",
        "colab": {
          "autoexec": {
            "startup": false,
            "wait_interval": 0
          },
          "base_uri": "https://localhost:8080/",
          "height": 606
        },
        "outputId": "f47b6716-c985-43b5-cb30-982091852214",
        "executionInfo": {
          "status": "ok",
          "timestamp": 1529806382327,
          "user_tz": -330,
          "elapsed": 12454,
          "user": {
            "displayName": "Ankita Bhagat",
            "photoUrl": "//lh5.googleusercontent.com/-hBbQJG3EmsY/AAAAAAAAAAI/AAAAAAAAEMc/8aZlpsJaxOI/s50-c-k-no/photo.jpg",
            "userId": "106932527741563015055"
          }
        }
      },
      "cell_type": "code",
      "source": [
        "cat *.jpg | ffmpeg -f image2pipe -c:v mjpeg -i - output2.mpg"
      ],
      "execution_count": 0,
      "outputs": [
        {
          "output_type": "stream",
          "text": [
            "ffmpeg version 3.3.4-2 Copyright (c) 2000-2017 the FFmpeg developers\r\n",
            "  built with gcc 7 (Ubuntu 7.2.0-8ubuntu2)\r\n",
            "  configuration: --prefix=/usr --extra-version=2 --toolchain=hardened --libdir=/usr/lib/x86_64-linux-gnu --incdir=/usr/include/x86_64-linux-gnu --enable-gpl --disable-stripping --enable-avresample --enable-avisynth --enable-gnutls --enable-ladspa --enable-libass --enable-libbluray --enable-libbs2b --enable-libcaca --enable-libcdio --enable-libflite --enable-libfontconfig --enable-libfreetype --enable-libfribidi --enable-libgme --enable-libgsm --enable-libmp3lame --enable-libopenjpeg --enable-libopenmpt --enable-libopus --enable-libpulse --enable-librubberband --enable-libshine --enable-libsnappy --enable-libsoxr --enable-libspeex --enable-libssh --enable-libtheora --enable-libtwolame --enable-libvorbis --enable-libvpx --enable-libwavpack --enable-libwebp --enable-libx265 --enable-libxvid --enable-libzmq --enable-libzvbi --enable-omx --enable-openal --enable-opengl --enable-sdl2 --enable-libdc1394 --enable-libiec61883 --enable-chromaprint --enable-frei0r --enable-libopencv --enable-libx264 --enable-shared\r\n",
            "  libavutil      55. 58.100 / 55. 58.100\r\n",
            "  libavcodec     57. 89.100 / 57. 89.100\r\n",
            "  libavformat    57. 71.100 / 57. 71.100\r\n",
            "  libavdevice    57.  6.100 / 57.  6.100\r\n",
            "  libavfilter     6. 82.100 /  6. 82.100\r\n",
            "  libavresample   3.  5.  0 /  3.  5.  0\r\n",
            "  libswscale      4.  6.100 /  4.  6.100\r\n",
            "  libswresample   2.  7.100 /  2.  7.100\r\n",
            "  libpostproc    54.  5.100 / 54.  5.100\n",
            "Input #0, image2pipe, from 'pipe:':\n",
            "  Duration: N/A, bitrate: N/A\n",
            "    Stream #0:0: Video: mjpeg, yuvj420p(pc, bt470bg/unknown/unknown), 1280x1280 [SAR 1:1 DAR 1:1], 25 fps, 25 tbr, 25 tbn, 25 tbc\n",
            "Stream mapping:\n",
            "  Stream #0:0 -> #0:0 (mjpeg (native) -> mpeg1video (native))\n",
            "\u001b[1;34m[swscaler @ 0x5565b0a3e000] \u001b[0m\u001b[0;33mdeprecated pixel format used, make sure you did set range correctly\n",
            "\u001b[0m\u001b[1;35m[mpeg @ 0x5565b08de600] \u001b[0m\u001b[0;33mVBV buffer size not set, using default size of 130KB\n",
            "If you want the mpeg file to be compliant to some specification\n",
            "Like DVD, VCD or others, make sure you set the correct buffer size\n",
            "\u001b[0mOutput #0, mpeg, to 'output2.mpg':\n",
            "  Metadata:\n",
            "    encoder         : Lavf57.71.100\n",
            "    Stream #0:0: Video: mpeg1video, yuv420p, 1280x1280 [SAR 1:1 DAR 1:1], q=2-31, 200 kb/s, 25 fps, 90k tbn, 25 tbc\n",
            "    Metadata:\n",
            "      encoder         : Lavc57.89.100 mpeg1video\n",
            "    Side data:\n",
            "      cpb: bitrate max/min/avg: 0/0/200000 buffer size: 0 vbv_delay: -1\n",
            "\u001b[1;34m[swscaler @ 0x5565b0a3e000] \u001b[0m\u001b[0;33mdeprecated pixel format used, make sure you did set range correctly\n",
            "\u001b[0mframe=  482 fps= 49 q=24.8 Lsize=    8186kB time=00:00:19.20 bitrate=3492.7kbits/s speed=1.95x    \n",
            "video:8147kB audio:0kB subtitle:0kB other streams:0kB global headers:0kB muxing overhead: 0.483317%\n"
          ],
          "name": "stdout"
        }
      ]
    },
    {
      "metadata": {
        "id": "7YNv92se-XhT",
        "colab_type": "code",
        "colab": {
          "autoexec": {
            "startup": false,
            "wait_interval": 0
          }
        }
      },
      "cell_type": "code",
      "source": [
        "files.download('output2.mpg')"
      ],
      "execution_count": 0,
      "outputs": []
    },
    {
      "metadata": {
        "id": "BjRZpVlwNRU4",
        "colab_type": "text"
      },
      "cell_type": "markdown",
      "source": [
        "**<u>Result is uploaded on</u> : [YouTube](https://youtu.be/pxsmaDVzdBg)**\n",
        "\n",
        "* You can compare results of [VGGNet](https://youtu.be/BivjjJwtSQw) and [DenseNet](https://youtu.be/pxsmaDVzdBg) on a video file.\n",
        "* Source Code for Grad-CAM on a video file with VGG16 network is available [here](https://github.com/bhgtankita/ML-DNN/blob/master/Grad-CAM%20implementation/VGG16_GRAD_CAM_video.ipynb).\n",
        "* Source Code for Grad-CAM on a video file with DenseNet121 network is available [here](https://github.com/bhgtankita/ML-DNN/blob/master/Grad-CAM%20implementation/DENSENET121_GRAD_CAM_Vedio.ipynb). \n",
        "<br>(Note : This file have complete list of predicted classes with their probability for each frame)\n",
        "* The classes with highest probability is far more accurate in case of DenseNet compare to VGG. For reference you can check the source code where I am printing frame wise predicted class with its probability."
      ]
    },
    {
      "metadata": {
        "id": "ygHMekM4kVcT",
        "colab_type": "text"
      },
      "cell_type": "markdown",
      "source": [
        "## 10.Chellanges and Learnings\n",
        "<hr>\n",
        "\n",
        "* In Google Colab, the version of keras is 2.1.6. And the code we have taken for reference is written in keras 2.0.9. We could have simply downgraded keras version to run the exact same code implemented by [jacobgil](https://github.com/jacobgil/keras-grad-cam). Instead I have chosen to change the code to make it compatible with the latest keras version. It is good to run the code with latest version.\n",
        "\n",
        "* The referenced code is written by using VGG16 model, which requires input image in BGR format. **preprocess_input** function of keras.applications.vgg16 library, converts RGB image to BGR and perform normalization. Whereas DenseNet model can accept the images in RGB. Modified the original code to make it compatible with DenseNet Architecture.\n",
        "\n",
        "* To try the Grad-CAM technique on video file, I have used python opencv library and implemented the code for video processing. After converting frames to Grad-CAM heatmap, I have used VideoWriter function to generate a video file back from images. It can able to generate the video file but the issue is while running it gives codec format error. The problem is with decompressing the file back. I have tried the code with different video codec formats like XVID, MJPG, X264 Also tried FFDVedio decoder tool but it can not able to decompress it. As a work around, I have used **ffmpeg**  library to generate a video from processed image frames."
      ]
    },
    {
      "metadata": {
        "id": "gfgWVEVVVvBY",
        "colab_type": "text"
      },
      "cell_type": "markdown",
      "source": [
        "## 11.Conclusion\n",
        "<hr>\n",
        "\n",
        "* We have seen Gradient-weighted Class Activation Mapping (Grad-CAM) technique which is class-discriminative and Guided Grad-CAM technique to generate high resolution output with localization – for making CNN-based models more transparent by producing visual explanations.\n",
        "\n",
        "* We can make use of these techniques to explain the results produced by any CNN based application.\n",
        "\n",
        "* This technique can be used not only for classification problems, but also for image captioning and Visual Question Answering (VQA) problem statements. Which means we can create text labels of CNN's\n",
        "findings that classify the image’s content, or captions that describe the image in further detail. You can find tensorflow implementation for this by original paper author [Ramprasaath R. Selvaraju](https://github.com/ramprs/grad-cam/). I am planning to implement it by using keras library.\n",
        "\n",
        "* I feel Grad-CAM technique can be used in many applications to hack network's behavior. As we have already seen the use case of Grad-CAM for self-driving cars in seeing the outside world. Even it can be widely used in medical domain where we can automate surgeries. We can create solutions in security and defense area with it. And there are many more such use cases. My further plan is to pick any one real world problem which can be resolved with Grad-CAM technique and implement it."
      ]
    },
    {
      "metadata": {
        "id": "AQElX9zlVuYK",
        "colab_type": "text"
      },
      "cell_type": "markdown",
      "source": [
        "## 12.References\n",
        "<hr>\n",
        "\n",
        "https://rajpurkar.github.io/mlx/visualizing-cnns/\n",
        "<br>\n",
        "https://ramprs.github.io/2017/01/21/Grad-CAM-Making-Off-the-Shelf-Deep-Models-Transparent-through-Visual-Explanations.html#guided-grad-cam\n",
        "<br>\n",
        "http://www.hackevolve.com/where-cnn-is-looking-grad-cam/\n",
        "<br>\n",
        "https://medium.com/twentybn/visual-explanation-for-video-recognition-87e9ba2a675b"
      ]
    }
  ]
}