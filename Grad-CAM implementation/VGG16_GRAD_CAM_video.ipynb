{
  "nbformat": 4,
  "nbformat_minor": 0,
  "metadata": {
    "colab": {
      "name": "VGG16_GRAD_CAM_(2) (1).ipynb",
      "version": "0.3.2",
      "views": {},
      "default_view": {},
      "provenance": [],
      "collapsed_sections": []
    },
    "kernelspec": {
      "name": "python3",
      "display_name": "Python 3"
    },
    "accelerator": "GPU"
  },
  "cells": [
    {
      "metadata": {
        "id": "WCeaQRqPMLG0",
        "colab_type": "code",
        "colab": {
          "autoexec": {
            "startup": false,
            "wait_interval": 0
          },
          "base_uri": "https://localhost:8080/",
          "height": 73
        },
        "outputId": "0e692a91-15c1-4e50-c5bc-d43f10a44327",
        "executionInfo": {
          "status": "ok",
          "timestamp": 1529768016845,
          "user_tz": -330,
          "elapsed": 78358,
          "user": {
            "displayName": "Ankita Bhagat",
            "photoUrl": "//lh5.googleusercontent.com/-hBbQJG3EmsY/AAAAAAAAAAI/AAAAAAAAEMc/8aZlpsJaxOI/s50-c-k-no/photo.jpg",
            "userId": "106932527741563015055"
          }
        }
      },
      "cell_type": "code",
      "source": [
        "from google.colab import files\n",
        "uploaded = files.upload()"
      ],
      "execution_count": 1,
      "outputs": [
        {
          "output_type": "display_data",
          "data": {
            "text/html": [
              "\n",
              "     <input type=\"file\" id=\"files-0ef5b2b6-620b-4476-9318-e54565b9200a\" name=\"files[]\" multiple disabled />\n",
              "     <output id=\"result-0ef5b2b6-620b-4476-9318-e54565b9200a\">\n",
              "      Upload widget is only available when the cell has been executed in the\n",
              "      current browser session. Please rerun this cell to enable.\n",
              "      </output>\n",
              "      <script src=\"/nbextensions/google.colab/files.js\"></script> "
            ],
            "text/plain": [
              "<IPython.core.display.HTML object>"
            ]
          },
          "metadata": {
            "tags": []
          }
        },
        {
          "output_type": "stream",
          "text": [
            "Saving Input.mp4 to Input.mp4\n"
          ],
          "name": "stdout"
        }
      ]
    },
    {
      "metadata": {
        "id": "xw_gGEzp2nHc",
        "colab_type": "code",
        "colab": {
          "autoexec": {
            "startup": false,
            "wait_interval": 0
          },
          "base_uri": "https://localhost:8080/",
          "height": 1759
        },
        "outputId": "09f5f0bc-b154-4e56-c756-160aeacbbb1b",
        "executionInfo": {
          "status": "ok",
          "timestamp": 1529776461792,
          "user_tz": -330,
          "elapsed": 2140,
          "user": {
            "displayName": "Ankita Bhagat",
            "photoUrl": "//lh5.googleusercontent.com/-hBbQJG3EmsY/AAAAAAAAAAI/AAAAAAAAEMc/8aZlpsJaxOI/s50-c-k-no/photo.jpg",
            "userId": "106932527741563015055"
          }
        }
      },
      "cell_type": "code",
      "source": [
        "ls"
      ],
      "execution_count": 1,
      "outputs": [
        {
          "output_type": "stream",
          "text": [
            "Animals_out.avi  Image186.jpg  Image274.jpg  Image362.jpg  Image450.jpg\r\n",
            "Animals_out.mp4  Image187.jpg  Image275.jpg  Image363.jpg  Image451.jpg\r\n",
            "\u001b[0m\u001b[01;34mdatalab\u001b[0m/         Image188.jpg  Image276.jpg  Image364.jpg  Image452.jpg\r\n",
            "Image0.jpg       Image189.jpg  Image277.jpg  Image365.jpg  Image453.jpg\r\n",
            "Image100.jpg     Image18.jpg   Image278.jpg  Image366.jpg  Image454.jpg\r\n",
            "Image101.jpg     Image190.jpg  Image279.jpg  Image367.jpg  Image455.jpg\r\n",
            "Image102.jpg     Image191.jpg  Image27.jpg   Image368.jpg  Image456.jpg\r\n",
            "Image103.jpg     Image192.jpg  Image280.jpg  Image369.jpg  Image457.jpg\r\n",
            "Image104.jpg     Image193.jpg  Image281.jpg  Image36.jpg   Image458.jpg\r\n",
            "Image105.jpg     Image194.jpg  Image282.jpg  Image370.jpg  Image459.jpg\r\n",
            "Image106.jpg     Image195.jpg  Image283.jpg  Image371.jpg  Image45.jpg\r\n",
            "Image107.jpg     Image196.jpg  Image284.jpg  Image372.jpg  Image460.jpg\r\n",
            "Image108.jpg     Image197.jpg  Image285.jpg  Image373.jpg  Image461.jpg\r\n",
            "Image109.jpg     Image198.jpg  Image286.jpg  Image374.jpg  Image462.jpg\r\n",
            "Image10.jpg      Image199.jpg  Image287.jpg  Image375.jpg  Image463.jpg\r\n",
            "Image110.jpg     Image19.jpg   Image288.jpg  Image376.jpg  Image464.jpg\r\n",
            "Image111.jpg     Image1.jpg    Image289.jpg  Image377.jpg  Image465.jpg\r\n",
            "Image112.jpg     Image200.jpg  Image28.jpg   Image378.jpg  Image466.jpg\r\n",
            "Image113.jpg     Image201.jpg  Image290.jpg  Image379.jpg  Image467.jpg\r\n",
            "Image114.jpg     Image202.jpg  Image291.jpg  Image37.jpg   Image468.jpg\r\n",
            "Image115.jpg     Image203.jpg  Image292.jpg  Image380.jpg  Image469.jpg\r\n",
            "Image116.jpg     Image204.jpg  Image293.jpg  Image381.jpg  Image46.jpg\r\n",
            "Image117.jpg     Image205.jpg  Image294.jpg  Image382.jpg  Image470.jpg\r\n",
            "Image118.jpg     Image206.jpg  Image295.jpg  Image383.jpg  Image471.jpg\r\n",
            "Image119.jpg     Image207.jpg  Image296.jpg  Image384.jpg  Image472.jpg\r\n",
            "Image11.jpg      Image208.jpg  Image297.jpg  Image385.jpg  Image473.jpg\r\n",
            "Image120.jpg     Image209.jpg  Image298.jpg  Image386.jpg  Image474.jpg\r\n",
            "Image121.jpg     Image20.jpg   Image299.jpg  Image387.jpg  Image475.jpg\r\n",
            "Image122.jpg     Image210.jpg  Image29.jpg   Image388.jpg  Image476.jpg\r\n",
            "Image123.jpg     Image211.jpg  Image2.jpg    Image389.jpg  Image477.jpg\r\n",
            "Image124.jpg     Image212.jpg  Image300.jpg  Image38.jpg   Image478.jpg\r\n",
            "Image125.jpg     Image213.jpg  Image301.jpg  Image390.jpg  Image479.jpg\r\n",
            "Image126.jpg     Image214.jpg  Image302.jpg  Image391.jpg  Image47.jpg\r\n",
            "Image127.jpg     Image215.jpg  Image303.jpg  Image392.jpg  Image480.jpg\r\n",
            "Image128.jpg     Image216.jpg  Image304.jpg  Image393.jpg  Image48.jpg\r\n",
            "Image129.jpg     Image217.jpg  Image305.jpg  Image394.jpg  Image49.jpg\r\n",
            "Image12.jpg      Image218.jpg  Image306.jpg  Image395.jpg  Image4.jpg\r\n",
            "Image130.jpg     Image219.jpg  Image307.jpg  Image396.jpg  Image50.jpg\r\n",
            "Image131.jpg     Image21.jpg   Image308.jpg  Image397.jpg  Image51.jpg\r\n",
            "Image132.jpg     Image220.jpg  Image309.jpg  Image398.jpg  Image52.jpg\r\n",
            "Image133.jpg     Image221.jpg  Image30.jpg   Image399.jpg  Image53.jpg\r\n",
            "Image134.jpg     Image222.jpg  Image310.jpg  Image39.jpg   Image54.jpg\r\n",
            "Image135.jpg     Image223.jpg  Image311.jpg  Image3.jpg    Image55.jpg\r\n",
            "Image136.jpg     Image224.jpg  Image312.jpg  Image400.jpg  Image56.jpg\r\n",
            "Image137.jpg     Image225.jpg  Image313.jpg  Image401.jpg  Image57.jpg\r\n",
            "Image138.jpg     Image226.jpg  Image314.jpg  Image402.jpg  Image58.jpg\r\n",
            "Image139.jpg     Image227.jpg  Image315.jpg  Image403.jpg  Image59.jpg\r\n",
            "Image13.jpg      Image228.jpg  Image316.jpg  Image404.jpg  Image5.jpg\r\n",
            "Image140.jpg     Image229.jpg  Image317.jpg  Image405.jpg  Image60.jpg\r\n",
            "Image141.jpg     Image22.jpg   Image318.jpg  Image406.jpg  Image61.jpg\r\n",
            "Image142.jpg     Image230.jpg  Image319.jpg  Image407.jpg  Image62.jpg\r\n",
            "Image143.jpg     Image231.jpg  Image31.jpg   Image408.jpg  Image63.jpg\r\n",
            "Image144.jpg     Image232.jpg  Image320.jpg  Image409.jpg  Image64.jpg\r\n",
            "Image145.jpg     Image233.jpg  Image321.jpg  Image40.jpg   Image65.jpg\r\n",
            "Image146.jpg     Image234.jpg  Image322.jpg  Image410.jpg  Image66.jpg\r\n",
            "Image147.jpg     Image235.jpg  Image323.jpg  Image411.jpg  Image67.jpg\r\n",
            "Image148.jpg     Image236.jpg  Image324.jpg  Image412.jpg  Image68.jpg\r\n",
            "Image149.jpg     Image237.jpg  Image325.jpg  Image413.jpg  Image69.jpg\r\n",
            "Image14.jpg      Image238.jpg  Image326.jpg  Image414.jpg  Image6.jpg\r\n",
            "Image150.jpg     Image239.jpg  Image327.jpg  Image415.jpg  Image70.jpg\r\n",
            "Image151.jpg     Image23.jpg   Image328.jpg  Image416.jpg  Image71.jpg\r\n",
            "Image152.jpg     Image240.jpg  Image329.jpg  Image417.jpg  Image72.jpg\r\n",
            "Image153.jpg     Image241.jpg  Image32.jpg   Image418.jpg  Image73.jpg\r\n",
            "Image154.jpg     Image242.jpg  Image330.jpg  Image419.jpg  Image74.jpg\r\n",
            "Image155.jpg     Image243.jpg  Image331.jpg  Image41.jpg   Image75.jpg\r\n",
            "Image156.jpg     Image244.jpg  Image332.jpg  Image420.jpg  Image76.jpg\r\n",
            "Image157.jpg     Image245.jpg  Image333.jpg  Image421.jpg  Image77.jpg\r\n",
            "Image158.jpg     Image246.jpg  Image334.jpg  Image422.jpg  Image78.jpg\r\n",
            "Image159.jpg     Image247.jpg  Image335.jpg  Image423.jpg  Image79.jpg\r\n",
            "Image15.jpg      Image248.jpg  Image336.jpg  Image424.jpg  Image7.jpg\r\n",
            "Image160.jpg     Image249.jpg  Image337.jpg  Image425.jpg  Image80.jpg\r\n",
            "Image161.jpg     Image24.jpg   Image338.jpg  Image426.jpg  Image81.jpg\r\n",
            "Image162.jpg     Image250.jpg  Image339.jpg  Image427.jpg  Image82.jpg\r\n",
            "Image163.jpg     Image251.jpg  Image33.jpg   Image428.jpg  Image83.jpg\r\n",
            "Image164.jpg     Image252.jpg  Image340.jpg  Image429.jpg  Image84.jpg\r\n",
            "Image165.jpg     Image253.jpg  Image341.jpg  Image42.jpg   Image85.jpg\r\n",
            "Image166.jpg     Image254.jpg  Image342.jpg  Image430.jpg  Image86.jpg\r\n",
            "Image167.jpg     Image255.jpg  Image343.jpg  Image431.jpg  Image87.jpg\r\n",
            "Image168.jpg     Image256.jpg  Image344.jpg  Image432.jpg  Image88.jpg\r\n",
            "Image169.jpg     Image257.jpg  Image345.jpg  Image433.jpg  Image89.jpg\r\n",
            "Image16.jpg      Image258.jpg  Image346.jpg  Image434.jpg  Image8.jpg\r\n",
            "Image170.jpg     Image259.jpg  Image347.jpg  Image435.jpg  Image90.jpg\r\n",
            "Image171.jpg     Image25.jpg   Image348.jpg  Image436.jpg  Image91.jpg\r\n",
            "Image172.jpg     Image260.jpg  Image349.jpg  Image437.jpg  Image92.jpg\r\n",
            "Image173.jpg     Image261.jpg  Image34.jpg   Image438.jpg  Image93.jpg\r\n",
            "Image174.jpg     Image262.jpg  Image350.jpg  Image439.jpg  Image94.jpg\r\n",
            "Image175.jpg     Image263.jpg  Image351.jpg  Image43.jpg   Image95.jpg\r\n",
            "Image176.jpg     Image264.jpg  Image352.jpg  Image440.jpg  Image96.jpg\r\n",
            "Image177.jpg     Image265.jpg  Image353.jpg  Image441.jpg  Image97.jpg\r\n",
            "Image178.jpg     Image266.jpg  Image354.jpg  Image442.jpg  Image98.jpg\r\n",
            "Image179.jpg     Image267.jpg  Image355.jpg  Image443.jpg  Image99.jpg\r\n",
            "Image17.jpg      Image268.jpg  Image356.jpg  Image444.jpg  Image9.jpg\r\n",
            "Image180.jpg     Image269.jpg  Image357.jpg  Image445.jpg  image.jpg\r\n",
            "Image181.jpg     Image26.jpg   Image358.jpg  Image446.jpg  Input.mp4\r\n",
            "Image182.jpg     Image270.jpg  Image359.jpg  Image447.jpg\r\n",
            "Image183.jpg     Image271.jpg  Image35.jpg   Image448.jpg\r\n",
            "Image184.jpg     Image272.jpg  Image360.jpg  Image449.jpg\r\n",
            "Image185.jpg     Image273.jpg  Image361.jpg  Image44.jpg\r\n"
          ],
          "name": "stdout"
        }
      ]
    },
    {
      "metadata": {
        "id": "AfHhqsiD_I05",
        "colab_type": "code",
        "colab": {
          "autoexec": {
            "startup": false,
            "wait_interval": 0
          }
        }
      },
      "cell_type": "code",
      "source": [
        "!rm -rf /content"
      ],
      "execution_count": 0,
      "outputs": []
    },
    {
      "metadata": {
        "id": "4StKVaStPmsT",
        "colab_type": "code",
        "colab": {
          "autoexec": {
            "startup": false,
            "wait_interval": 0
          },
          "base_uri": "https://localhost:8080/",
          "height": 977
        },
        "outputId": "1abe4622-47f7-4f4b-ffae-1b0d524c4a02",
        "executionInfo": {
          "status": "ok",
          "timestamp": 1529776472569,
          "user_tz": -330,
          "elapsed": 5693,
          "user": {
            "displayName": "Ankita Bhagat",
            "photoUrl": "//lh5.googleusercontent.com/-hBbQJG3EmsY/AAAAAAAAAAI/AAAAAAAAEMc/8aZlpsJaxOI/s50-c-k-no/photo.jpg",
            "userId": "106932527741563015055"
          }
        }
      },
      "cell_type": "code",
      "source": [
        "from keras.applications.vgg16 import (\n",
        "    VGG16, preprocess_input, decode_predictions)\n",
        "from keras.preprocessing import image\n",
        "from keras.layers.core import Lambda\n",
        "from keras.models import Sequential\n",
        "from tensorflow.python.framework import ops\n",
        "import keras.backend as K\n",
        "import tensorflow as tf\n",
        "import numpy as np\n",
        "import keras\n",
        "import sys\n",
        "import cv2\n",
        "\n",
        "def target_category_loss(x, category_index, nb_classes):\n",
        "    return tf.multiply(x, K.one_hot([category_index], nb_classes))\n",
        "\n",
        "def target_category_loss_output_shape(input_shape):\n",
        "    return input_shape\n",
        "\n",
        "def normalize(x):\n",
        "    # utility function to normalize a tensor by its L2 norm\n",
        "    return x / (K.sqrt(K.mean(K.square(x))) + 1e-5)\n",
        "\n",
        "def load_image(path):\n",
        "    #img_path = sys.argv[1]\n",
        "    img_path = path\n",
        "    img = image.load_img(img_path, target_size=(224, 224))\n",
        "    x = image.img_to_array(img)\n",
        "    x = np.expand_dims(x, axis=0)\n",
        "    # print('x:',x)\n",
        "    x = preprocess_input(x)\n",
        "    print(\"preprocess\",x)\n",
        "    return x\n",
        "\n",
        "def register_gradient():\n",
        "    if \"GuidedBackProp\" not in ops._gradient_registry._registry:\n",
        "        @ops.RegisterGradient(\"GuidedBackProp\")\n",
        "        def _GuidedBackProp(op, grad):\n",
        "            dtype = op.inputs[0].dtype\n",
        "            return grad * tf.cast(grad > 0., dtype) * \\\n",
        "                tf.cast(op.inputs[0] > 0., dtype)\n",
        "\n",
        "def compile_saliency_function(model, activation_layer='block5_conv3'):\n",
        "    input_img = model.input\n",
        "    layer_dict = dict([(layer.name, layer) for layer in model.layers[1:]])\n",
        "    layer_output = layer_dict[activation_layer].output\n",
        "    max_output = K.max(layer_output, axis=3)\n",
        "    saliency = K.gradients(K.sum(max_output), input_img)[0]\n",
        "    return K.function([input_img, K.learning_phase()], [saliency])\n",
        "\n",
        "def modify_backprop(model, name):\n",
        "    g = tf.get_default_graph()\n",
        "    with g.gradient_override_map({'Relu': name}):\n",
        "\n",
        "        # get layers that have an activation\n",
        "        layer_dict = [layer for layer in model.layers[1:]\n",
        "                      if hasattr(layer, 'activation')]\n",
        "\n",
        "        # replace relu activation\n",
        "        for layer in layer_dict:\n",
        "            if layer.activation == keras.activations.relu:\n",
        "                layer.activation = tf.nn.relu\n",
        "\n",
        "        # re-instanciate a new model\n",
        "        new_model = VGG16(weights='imagenet')\n",
        "    return new_model\n",
        "\n",
        "def deprocess_image(x):\n",
        "    '''\n",
        "    Same normalization as in:\n",
        "    https://github.com/fchollet/keras/blob/master/examples/conv_filter_visualization.py\n",
        "    '''\n",
        "    if np.ndim(x) > 3:\n",
        "        x = np.squeeze(x)\n",
        "    # normalize tensor: center on 0., ensure std is 0.1\n",
        "    x -= x.mean()\n",
        "    x /= (x.std() + 1e-5)\n",
        "    x *= 0.1\n",
        "\n",
        "    # clip to [0, 1]\n",
        "    x += 0.5\n",
        "    x = np.clip(x, 0, 1)\n",
        "\n",
        "    # convert to RGB array\n",
        "    x *= 255\n",
        "    if K.image_dim_ordering() == 'th':\n",
        "        x = x.transpose((1, 2, 0))\n",
        "    x = np.clip(x, 0, 255).astype('uint8')\n",
        "    return x\n",
        "\n",
        "def grad_cam(input_model, image, category_index, layer_name):\n",
        "    nb_classes = 1000\n",
        "    target_layer = lambda x: target_category_loss(x, category_index, nb_classes)\n",
        "\n",
        "    x = input_model.layers[-1].output\n",
        "    x = Lambda(target_layer, output_shape=target_category_loss_output_shape)(x)\n",
        "    model = keras.models.Model(input_model.layers[0].input, x)\n",
        "\n",
        "    loss = K.sum(model.layers[-1].output)\n",
        "    #conv_output = [l for l in model.layers[0].layers if l.name is layer_name][0].output\n",
        "    conv_output = [l for l in model.layers if l.name == layer_name][0].output\n",
        "    #print(conv_output)\n",
        "\n",
        "    grads = normalize(K.gradients(loss, conv_output)[0])\n",
        "    gradient_function = K.function([model.layers[0].input], [conv_output, grads])\n",
        "\n",
        "    output, grads_val = gradient_function([image])\n",
        "    output, grads_val = output[0, :], grads_val[0, :, :, :]\n",
        "\n",
        "    weights = np.mean(grads_val, axis = (0, 1))\n",
        "    cam = np.ones(output.shape[0 : 2], dtype = np.float32)\n",
        "\n",
        "    for i, w in enumerate(weights):\n",
        "        cam += w * output[:, :, i]\n",
        "\n",
        "    cam = cv2.resize(cam, (224, 224))\n",
        "    cam = np.maximum(cam, 0)\n",
        "    heatmap = cam / np.max(cam)\n",
        "\n",
        "    #Return to BGR [0..255] from the preprocessed image\n",
        "    image = image[0, :]\n",
        "    image -= np.min(image)\n",
        "    image = np.minimum(image, 255)\n",
        "    \n",
        "    cv2.imwrite(\"image.jpg\", image)\n",
        "\n",
        "    cam = cv2.applyColorMap(np.uint8(255*heatmap), cv2.COLORMAP_JET)\n",
        "    cam = np.float32(cam) + np.float32(image)\n",
        "    cam = 255 * cam / np.max(cam)\n",
        "    return np.uint8(cam), heatmap\n",
        "\n",
        "#preprocessed_input = load_image('cat_dog.jpg')\n",
        "#preprocessed_input = load_image(\"./examples/boat.jpg\")\n",
        "\n",
        "#print('preprocessed_input:',preprocessed_input)\n",
        "\n",
        "model = VGG16(weights='imagenet')\n",
        "\n",
        "model.summary()\n"
      ],
      "execution_count": 2,
      "outputs": [
        {
          "output_type": "stream",
          "text": [
            "Using TensorFlow backend.\n"
          ],
          "name": "stderr"
        },
        {
          "output_type": "stream",
          "text": [
            "_________________________________________________________________\n",
            "Layer (type)                 Output Shape              Param #   \n",
            "=================================================================\n",
            "input_1 (InputLayer)         (None, 224, 224, 3)       0         \n",
            "_________________________________________________________________\n",
            "block1_conv1 (Conv2D)        (None, 224, 224, 64)      1792      \n",
            "_________________________________________________________________\n",
            "block1_conv2 (Conv2D)        (None, 224, 224, 64)      36928     \n",
            "_________________________________________________________________\n",
            "block1_pool (MaxPooling2D)   (None, 112, 112, 64)      0         \n",
            "_________________________________________________________________\n",
            "block2_conv1 (Conv2D)        (None, 112, 112, 128)     73856     \n",
            "_________________________________________________________________\n",
            "block2_conv2 (Conv2D)        (None, 112, 112, 128)     147584    \n",
            "_________________________________________________________________\n",
            "block2_pool (MaxPooling2D)   (None, 56, 56, 128)       0         \n",
            "_________________________________________________________________\n",
            "block3_conv1 (Conv2D)        (None, 56, 56, 256)       295168    \n",
            "_________________________________________________________________\n",
            "block3_conv2 (Conv2D)        (None, 56, 56, 256)       590080    \n",
            "_________________________________________________________________\n",
            "block3_conv3 (Conv2D)        (None, 56, 56, 256)       590080    \n",
            "_________________________________________________________________\n",
            "block3_pool (MaxPooling2D)   (None, 28, 28, 256)       0         \n",
            "_________________________________________________________________\n",
            "block4_conv1 (Conv2D)        (None, 28, 28, 512)       1180160   \n",
            "_________________________________________________________________\n",
            "block4_conv2 (Conv2D)        (None, 28, 28, 512)       2359808   \n",
            "_________________________________________________________________\n",
            "block4_conv3 (Conv2D)        (None, 28, 28, 512)       2359808   \n",
            "_________________________________________________________________\n",
            "block4_pool (MaxPooling2D)   (None, 14, 14, 512)       0         \n",
            "_________________________________________________________________\n",
            "block5_conv1 (Conv2D)        (None, 14, 14, 512)       2359808   \n",
            "_________________________________________________________________\n",
            "block5_conv2 (Conv2D)        (None, 14, 14, 512)       2359808   \n",
            "_________________________________________________________________\n",
            "block5_conv3 (Conv2D)        (None, 14, 14, 512)       2359808   \n",
            "_________________________________________________________________\n",
            "block5_pool (MaxPooling2D)   (None, 7, 7, 512)         0         \n",
            "_________________________________________________________________\n",
            "flatten (Flatten)            (None, 25088)             0         \n",
            "_________________________________________________________________\n",
            "fc1 (Dense)                  (None, 4096)              102764544 \n",
            "_________________________________________________________________\n",
            "fc2 (Dense)                  (None, 4096)              16781312  \n",
            "_________________________________________________________________\n",
            "predictions (Dense)          (None, 1000)              4097000   \n",
            "=================================================================\n",
            "Total params: 138,357,544\n",
            "Trainable params: 138,357,544\n",
            "Non-trainable params: 0\n",
            "_________________________________________________________________\n"
          ],
          "name": "stdout"
        }
      ]
    },
    {
      "metadata": {
        "id": "3IOad4jv65j4",
        "colab_type": "code",
        "colab": {
          "autoexec": {
            "startup": false,
            "wait_interval": 0
          },
          "base_uri": "https://localhost:8080/",
          "height": 1269
        },
        "outputId": "ff42dd2d-4e3f-4bba-954a-aae2cf56fee5",
        "executionInfo": {
          "status": "ok",
          "timestamp": 1529748625558,
          "user_tz": -330,
          "elapsed": 6492,
          "user": {
            "displayName": "premila bhagat",
            "photoUrl": "https://lh3.googleusercontent.com/a/default-user=s128",
            "userId": "108134130403334238154"
          }
        }
      },
      "cell_type": "code",
      "source": [
        "preprocessed_input = load_image('cat_dog.jpg')\n",
        "\n",
        "predictions = model.predict(preprocessed_input)\n",
        "top_1 = decode_predictions(predictions)[0][0]\n",
        "print('Predicted class:')\n",
        "print('%s (%s) with probability %.2f' % (top_1[1], top_1[0], top_1[2]))\n",
        "\n",
        "#print(predictions.shape)\n",
        "topK = 20\n",
        "decoded = decode_predictions(predictions, top=topK)[0]\n",
        "#print('Predicted:', decoded)\n",
        "\n",
        "\n",
        "\n",
        "predicted_class = np.argmax(predictions)\n",
        "cam, heatmap = grad_cam(model, preprocessed_input, predicted_class, \"block5_conv3\")\n",
        "cv2.imwrite(\"gradcam.jpg\", cam)\n",
        "\n",
        "register_gradient()\n",
        "guided_model = modify_backprop(model, 'GuidedBackProp')\n",
        "saliency_fn = compile_saliency_function(guided_model)\n",
        "saliency = saliency_fn([preprocessed_input, 0])\n",
        "gradcam = saliency[0] * heatmap[..., np.newaxis]\n",
        "cv2.imwrite(\"guided_gradcam.jpg\", deprocess_image(gradcam))\n",
        "\n",
        "from matplotlib import pyplot as plt\n",
        "from skimage import io\n",
        "from skimage.transform import resize\n",
        "fig, axs = plt.subplots(1,3,figsize=(15,5))\n",
        "\n",
        "img = io.imread('cat_dog.jpg')\n",
        "image = resize(img, (224, 224))\n",
        "axs[0].imshow(image)\n",
        "axs[0].axis('off')\n",
        "axs[0].set_title('Original Image')\n",
        "\n",
        "img = io.imread('gradcam.jpg')\n",
        "axs[1].imshow(img)\n",
        "axs[1].axis('off')\n",
        "axs[1].set_title('Grad-CAM for Bull mastiff (Top prediction)')\n",
        "\n",
        "img = io.imread('guided_gradcam.jpg')\n",
        "axs[2].imshow(img)\n",
        "axs[2].axis('off')\n",
        "axs[2].set_title('Guided Grad-CAM for Bull mastiff (Top prediction)')"
      ],
      "execution_count": 0,
      "outputs": [
        {
          "output_type": "stream",
          "text": [
            "preprocess [[[[-103.939 -116.779 -123.68 ]\n",
            "   [-103.939 -116.779 -123.68 ]\n",
            "   [-103.939 -116.779 -123.68 ]\n",
            "   ...\n",
            "   [-103.939 -116.779 -123.68 ]\n",
            "   [-103.939 -116.779 -123.68 ]\n",
            "   [-103.939 -116.779 -123.68 ]]\n",
            "\n",
            "  [[-103.939 -116.779 -123.68 ]\n",
            "   [-103.939 -116.779 -123.68 ]\n",
            "   [-103.939 -116.779 -123.68 ]\n",
            "   ...\n",
            "   [-103.939 -116.779 -123.68 ]\n",
            "   [-103.939 -116.779 -123.68 ]\n",
            "   [-103.939 -116.779 -123.68 ]]\n",
            "\n",
            "  [[-103.939 -116.779 -123.68 ]\n",
            "   [-103.939 -116.779 -123.68 ]\n",
            "   [-103.939 -116.779 -123.68 ]\n",
            "   ...\n",
            "   [-103.939 -116.779 -123.68 ]\n",
            "   [-103.939 -116.779 -123.68 ]\n",
            "   [-103.939 -116.779 -123.68 ]]\n",
            "\n",
            "  ...\n",
            "\n",
            "  [[-103.939 -116.779 -123.68 ]\n",
            "   [-103.939 -116.779 -123.68 ]\n",
            "   [-103.939 -116.779 -123.68 ]\n",
            "   ...\n",
            "   [-103.939 -116.779 -123.68 ]\n",
            "   [-103.939 -116.779 -123.68 ]\n",
            "   [-103.939 -116.779 -123.68 ]]\n",
            "\n",
            "  [[-103.939 -116.779 -123.68 ]\n",
            "   [-103.939 -116.779 -123.68 ]\n",
            "   [-103.939 -116.779 -123.68 ]\n",
            "   ...\n",
            "   [-103.939 -116.779 -123.68 ]\n",
            "   [-103.939 -116.779 -123.68 ]\n",
            "   [-103.939 -116.779 -123.68 ]]\n",
            "\n",
            "  [[-103.939 -116.779 -123.68 ]\n",
            "   [-103.939 -116.779 -123.68 ]\n",
            "   [-103.939 -116.779 -123.68 ]\n",
            "   ...\n",
            "   [-103.939 -116.779 -123.68 ]\n",
            "   [-103.939 -116.779 -123.68 ]\n",
            "   [-103.939 -116.779 -123.68 ]]]]\n",
            "Predicted class:\n",
            "bloodhound (n02088466) with probability 0.29\n"
          ],
          "name": "stdout"
        },
        {
          "output_type": "stream",
          "text": [
            "/usr/local/lib/python3.6/dist-packages/skimage/transform/_warps.py:84: UserWarning: The default mode, 'constant', will be changed to 'reflect' in skimage 0.15.\n",
            "  warn(\"The default mode, 'constant', will be changed to 'reflect' in \"\n"
          ],
          "name": "stderr"
        },
        {
          "output_type": "execute_result",
          "data": {
            "text/plain": [
              "Text(0.5,1,'Guided Grad-CAM for Bull mastiff (Top prediction)')"
            ]
          },
          "metadata": {
            "tags": []
          },
          "execution_count": 23
        },
        {
          "output_type": "display_data",
          "data": {
            "image/png": "[encoded data removed]",
            "text/plain": [
              "<matplotlib.figure.Figure at 0x7f1b9d4130f0>"
            ]
          },
          "metadata": {
            "tags": []
          }
        }
      ]
    },
    {
      "metadata": {
        "id": "zhs-TsHRKAVs",
        "colab_type": "code",
        "colab": {
          "autoexec": {
            "startup": false,
            "wait_interval": 0
          },
          "base_uri": "https://localhost:8080/",
          "height": 14366
        },
        "outputId": "c96b464a-a913-4ef0-8b5a-41ddb50965de",
        "executionInfo": {
          "status": "ok",
          "timestamp": 1529766034613,
          "user_tz": -330,
          "elapsed": 75872,
          "user": {
            "displayName": "premila bhagat",
            "photoUrl": "https://lh3.googleusercontent.com/a/default-user=s128",
            "userId": "108134130403334238154"
          }
        }
      },
      "cell_type": "code",
      "source": [
        "!apt-get install ffmpeg x264 libx264-dev"
      ],
      "execution_count": 0,
      "outputs": [
        {
          "output_type": "stream",
          "text": [
            "Reading package lists... Done\n",
            "Building dependency tree       \n",
            "Reading state information... Done\n",
            "The following additional packages will be installed:\n",
            "  dbus i965-va-driver libaacs0 libapparmor1 libasound2 libasound2-data libass9\n",
            "  libasyncns0 libavc1394-0 libavcodec57 libavdevice57 libavfilter6\n",
            "  libavformat57 libavresample3 libavutil55 libbdplus0 libbluray2\n",
            "  libboost-filesystem1.62.0 libboost-system1.62.0 libbs2b0 libcaca0 libcairo2\n",
            "  libcapnp-0.5.3 libcdio-cdda1 libcdio-paranoia1 libcdio13 libchromaprint1\n",
            "  libcrystalhd3 libdbus-1-3 libdc1394-22 libdrm-amdgpu1 libdrm-common\n",
            "  libdrm-intel1 libdrm-nouveau2 libdrm-radeon1 libdrm2 libegl1-mesa libelf1\n",
            "  libffms2-4 libfftw3-double3 libflac8 libflite1 libfribidi0 libgbm1\n",
            "  libgl1-mesa-dri libgl1-mesa-glx libglapi-mesa libglu1-mesa libgme0 libgpac4\n",
            "  libgraphite2-3 libgsm1 libharfbuzz0b libiec61883-0 libjack-jackd2-0\n",
            "  libllvm5.0 libmirclient9 libmircommon7 libmircore1 libmirprotobuf3\n",
            "  libmp3lame0 libmpg123-0 libnuma1 libogg0 libopenal-data libopenal1\n",
            "  libopencv-core3.1 libopencv-imgproc3.1 libopenjp2-7 libopenmpt0 libopus0\n",
            "  libpciaccess0 libpixman-1-0 libpostproc54 libprotobuf-lite10 libpulse0\n",
            "  libraw1394-11 librubberband2v5 libsamplerate0 libsdl2-2.0-0 libsensors4\n",
            "  libshine3 libslang2 libsnappy1v5 libsndfile1 libsndio6.1 libsoxr0 libspeex1\n",
            "  libssh-gcrypt-4 libswresample2 libswscale4 libtbb2 libtheora0 libtwolame0\n",
            "  libtxc-dxtn-s2tc libusb-1.0-0 libva-drm1 libva-x11-1 libva1 libvdpau1\n",
            "  libvorbis0a libvorbisenc2 libvorbisfile3 libvpx4 libwavpack1\n",
            "  libwayland-client0 libwayland-cursor0 libwayland-egl1-mesa\n",
            "  libwayland-server0 libwebp6 libwebpmux3 libwrap0 libx11-xcb1 libx264-148\n",
            "  libx265-130 libxcb-dri2-0 libxcb-dri3-0 libxcb-glx0 libxcb-present0\n",
            "  libxcb-render0 libxcb-shape0 libxcb-shm0 libxcb-sync1 libxcb-xfixes0\n",
            "  libxcursor1 libxdamage1 libxfixes3 libxi6 libxinerama1 libxkbcommon0\n",
            "  libxrandr2 libxshmfence1 libxv1 libxvidcore4 libxxf86vm1 libzvbi-common\n",
            "  libzvbi0 mesa-va-drivers mesa-vdpau-drivers tcpd va-driver-all\n",
            "  vdpau-driver-all xkb-data\n",
            "Suggested packages:\n",
            "  default-dbus-session-bus | dbus-session-bus ffmpeg-doc libasound2-plugins\n",
            "  alsa-utils libbluray-bdj firmware-crystalhd libfftw3-bin libfftw3-dev jackd2\n",
            "  libportaudio2 opus-tools pciutils pulseaudio libraw1394-doc lm-sensors\n",
            "  sndiod speex libfglrx-amdxvba1 libvdpau-va-gl1 nvidia-vdpau-driver\n",
            "  nvidia-legacy-340xx-vdpau-driver\n",
            "The following NEW packages will be installed:\n",
            "  dbus ffmpeg i965-va-driver libaacs0 libapparmor1 libasound2 libasound2-data\n",
            "  libass9 libasyncns0 libavc1394-0 libavcodec57 libavdevice57 libavfilter6\n",
            "  libavformat57 libavresample3 libavutil55 libbdplus0 libbluray2\n",
            "  libboost-filesystem1.62.0 libboost-system1.62.0 libbs2b0 libcaca0 libcairo2\n",
            "  libcapnp-0.5.3 libcdio-cdda1 libcdio-paranoia1 libcdio13 libchromaprint1\n",
            "  libcrystalhd3 libdbus-1-3 libdc1394-22 libdrm-amdgpu1 libdrm-common\n",
            "  libdrm-intel1 libdrm-nouveau2 libdrm-radeon1 libdrm2 libegl1-mesa libelf1\n",
            "  libffms2-4 libfftw3-double3 libflac8 libflite1 libfribidi0 libgbm1\n",
            "  libgl1-mesa-dri libgl1-mesa-glx libglapi-mesa libglu1-mesa libgme0 libgpac4\n",
            "  libgraphite2-3 libgsm1 libharfbuzz0b libiec61883-0 libjack-jackd2-0\n",
            "  libllvm5.0 libmirclient9 libmircommon7 libmircore1 libmirprotobuf3\n",
            "  libmp3lame0 libmpg123-0 libnuma1 libogg0 libopenal-data libopenal1\n",
            "  libopencv-core3.1 libopencv-imgproc3.1 libopenjp2-7 libopenmpt0 libopus0\n",
            "  libpciaccess0 libpixman-1-0 libpostproc54 libprotobuf-lite10 libpulse0\n",
            "  libraw1394-11 librubberband2v5 libsamplerate0 libsdl2-2.0-0 libsensors4\n",
            "  libshine3 libslang2 libsnappy1v5 libsndfile1 libsndio6.1 libsoxr0 libspeex1\n",
            "  libssh-gcrypt-4 libswresample2 libswscale4 libtbb2 libtheora0 libtwolame0\n",
            "  libtxc-dxtn-s2tc libusb-1.0-0 libva-drm1 libva-x11-1 libva1 libvdpau1\n",
            "  libvorbis0a libvorbisenc2 libvorbisfile3 libvpx4 libwavpack1\n",
            "  libwayland-client0 libwayland-cursor0 libwayland-egl1-mesa\n",
            "  libwayland-server0 libwebp6 libwebpmux3 libwrap0 libx11-xcb1 libx264-148\n",
            "  libx264-dev libx265-130 libxcb-dri2-0 libxcb-dri3-0 libxcb-glx0\n",
            "  libxcb-present0 libxcb-render0 libxcb-shape0 libxcb-shm0 libxcb-sync1\n",
            "  libxcb-xfixes0 libxcursor1 libxdamage1 libxfixes3 libxi6 libxinerama1\n",
            "  libxkbcommon0 libxrandr2 libxshmfence1 libxv1 libxvidcore4 libxxf86vm1\n",
            "  libzvbi-common libzvbi0 mesa-va-drivers mesa-vdpau-drivers tcpd\n",
            "  va-driver-all vdpau-driver-all x264 xkb-data\n",
            "0 upgraded, 146 newly installed, 0 to remove and 6 not upgraded.\n",
            "Need to get 62.4 MB of archives.\n",
            "After this operation, 343 MB of additional disk space will be used.\n",
            "Get:1 http://archive.ubuntu.com/ubuntu artful/universe amd64 libgsm1 amd64 1.0.13-4 [27.1 kB]\n",
            "Get:2 http://archive.ubuntu.com/ubuntu artful/main amd64 libogg0 amd64 1.3.2-1 [17.2 kB]\n",
            "Get:3 http://archive.ubuntu.com/ubuntu artful/main amd64 libxinerama1 amd64 2:1.1.3-1 [7,908 B]\n",
            "Get:4 http://archive.ubuntu.com/ubuntu artful/main amd64 libxshmfence1 amd64 1.2-1 [5,042 B]\n",
            "Get:5 http://archive.ubuntu.com/ubuntu artful/main amd64 libxxf86vm1 amd64 1:1.1.4-1 [10.6 kB]\n",
            "Get:6 http://archive.ubuntu.com/ubuntu artful-updates/main amd64 libapparmor1 amd64 2.11.0-2ubuntu17.1 [28.9 kB]\n",
            "Get:7 http://archive.ubuntu.com/ubuntu artful/main amd64 libdbus-1-3 amd64 1.10.22-1ubuntu1 [165 kB]\n",
            "Get:8 http://archive.ubuntu.com/ubuntu artful/main amd64 dbus amd64 1.10.22-1ubuntu1 [144 kB]\n",
            "Get:9 http://archive.ubuntu.com/ubuntu artful/main amd64 libelf1 amd64 0.170-0.1 [44.3 kB]\n",
            "Get:10 http://archive.ubuntu.com/ubuntu artful/main amd64 libfribidi0 amd64 0.19.7-1 [25.1 kB]\n",
            "Get:11 http://archive.ubuntu.com/ubuntu artful/main amd64 libslang2 amd64 2.3.1-5ubuntu1 [422 kB]\n",
            "Get:12 http://archive.ubuntu.com/ubuntu artful/main amd64 xkb-data all 2.19-1.1ubuntu1 [312 kB]\n",
            "Get:13 http://archive.ubuntu.com/ubuntu artful/main amd64 libdrm-common all 2.4.83-1 [4,938 B]\n",
            "Get:14 http://archive.ubuntu.com/ubuntu artful/main amd64 libdrm2 amd64 2.4.83-1 [30.6 kB]\n",
            "Get:15 http://archive.ubuntu.com/ubuntu artful/main amd64 libnuma1 amd64 2.0.11-2.1 [21.6 kB]\n",
            "Get:16 http://archive.ubuntu.com/ubuntu artful/main amd64 libusb-1.0-0 amd64 2:1.0.21-2 [43.3 kB]\n",
            "Get:17 http://archive.ubuntu.com/ubuntu artful/universe amd64 libva-drm1 amd64 1.8.3-2 [7,858 B]\n",
            "Get:18 http://archive.ubuntu.com/ubuntu artful/universe amd64 libva1 amd64 1.8.3-2 [44.9 kB]\n",
            "Get:19 http://archive.ubuntu.com/ubuntu artful/main amd64 libxfixes3 amd64 1:5.0.3-1 [10.8 kB]\n",
            "Get:20 http://archive.ubuntu.com/ubuntu artful/universe amd64 libva-x11-1 amd64 1.8.3-2 [11.4 kB]\n",
            "Get:21 http://archive.ubuntu.com/ubuntu artful/main amd64 libvdpau1 amd64 1.1.1-3ubuntu1 [25.5 kB]\n",
            "Get:22 http://archive.ubuntu.com/ubuntu artful/universe amd64 libavutil55 amd64 7:3.3.4-2 [183 kB]\n",
            "Get:23 http://archive.ubuntu.com/ubuntu artful/universe amd64 libcrystalhd3 amd64 1:0.0~git20110715.fdd2f19-12 [45.8 kB]\n",
            "Get:24 http://archive.ubuntu.com/ubuntu artful/universe amd64 libmp3lame0 amd64 3.99.5+repack1-9build1 [127 kB]\n",
            "Get:25 http://archive.ubuntu.com/ubuntu artful/universe amd64 libopenjp2-7 amd64 2.2.0-1 [133 kB]\n",
            "Get:26 http://archive.ubuntu.com/ubuntu artful/main amd64 libopus0 amd64 1.1.2-1ubuntu1 [159 kB]\n",
            "Get:27 http://archive.ubuntu.com/ubuntu artful/universe amd64 libshine3 amd64 3.1.1-1 [22.9 kB]\n",
            "Get:28 http://archive.ubuntu.com/ubuntu artful/main amd64 libsnappy1v5 amd64 1.1.6-4 [16.0 kB]\n",
            "Get:29 http://archive.ubuntu.com/ubuntu artful/main amd64 libspeex1 amd64 1.2~rc1.2-1ubuntu1 [51.3 kB]\n",
            "Get:30 http://archive.ubuntu.com/ubuntu artful/universe amd64 libsoxr0 amd64 0.1.2-2 [64.7 kB]\n",
            "Get:31 http://archive.ubuntu.com/ubuntu artful/universe amd64 libswresample2 amd64 7:3.3.4-2 [55.4 kB]\n",
            "7% [Waiting for headers]"
          ],
          "name": "stdout"
        },
        {
          "output_type": "stream",
          "text": [
            "\r                        \rGet:32 http://archive.ubuntu.com/ubuntu artful/main amd64 libpixman-1-0 amd64 0.34.0-1 [230 kB]\r\n",
            "\r7% [32 libpixman-1-0 15.6 kB/230 kB 7%]\r                                       \rGet:33 http://archive.ubuntu.com/ubuntu artful/main amd64 libxcb-render0 amd64 1.12-1ubuntu1 [14.8 kB]\r\n",
            "\r8% [33 libxcb-render0 11.5 kB/14.8 kB 78%]\r                                          \r8% [Waiting for headers]\r                        \rGet:34 http://archive.ubuntu.com/ubuntu artful/main amd64 libxcb-shm0 amd64 1.12-1ubuntu1 [5,482 B]\r\n",
            "Get:35 http://archive.ubuntu.com/ubuntu artful/main amd64 libcairo2 amd64 1.14.10-1ubuntu1 [558 kB]\n",
            "Get:36 http://archive.ubuntu.com/ubuntu artful/main amd64 libtheora0 amd64 1.1.1+dfsg.1-14 [170 kB]\n",
            "Get:37 http://archive.ubuntu.com/ubuntu artful/universe amd64 libtwolame0 amd64 0.3.13-2 [46.1 kB]\n",
            "Get:38 http://archive.ubuntu.com/ubuntu artful-updates/main amd64 libvorbis0a amd64 1.3.5-4ubuntu0.2 [86.5 kB]\n",
            "Get:39 http://archive.ubuntu.com/ubuntu artful-updates/main amd64 libvorbisenc2 amd64 1.3.5-4ubuntu0.2 [70.6 kB]\n",
            "Get:40 http://archive.ubuntu.com/ubuntu artful/main amd64 libvpx4 amd64 1.6.1-3 [763 kB]\n",
            "Get:41 http://archive.ubuntu.com/ubuntu artful-updates/main amd64 libwavpack1 amd64 5.1.0-2ubuntu0.3 [76.3 kB]\n",
            "Get:42 http://archive.ubuntu.com/ubuntu artful/main amd64 libwebp6 amd64 0.6.0-3 [181 kB]\n",
            "Get:43 http://archive.ubuntu.com/ubuntu artful/main amd64 libwebpmux3 amd64 0.6.0-3 [20.0 kB]\n",
            "Get:44 http://archive.ubuntu.com/ubuntu artful/universe amd64 libx264-148 amd64 2:0.148.2795+gitaaa9aa8-1 [604 kB]\n",
            "Get:45 http://archive.ubuntu.com/ubuntu artful/universe amd64 libx265-130 amd64 2.5-2 [1,044 kB]\n",
            "Get:46 http://archive.ubuntu.com/ubuntu artful/universe amd64 libxvidcore4 amd64 2:1.3.4-1 [206 kB]\n",
            "Get:47 http://archive.ubuntu.com/ubuntu artful/universe amd64 libzvbi-common all 0.2.35-13 [32.1 kB]\n",
            "Get:48 http://archive.ubuntu.com/ubuntu artful/universe amd64 libzvbi0 amd64 0.2.35-13 [235 kB]\n",
            "Get:49 http://archive.ubuntu.com/ubuntu artful/universe amd64 libavcodec57 amd64 7:3.3.4-2 [4,513 kB]\n",
            "Get:50 http://archive.ubuntu.com/ubuntu artful/main amd64 libasound2-data all 1.1.3-5 [36.1 kB]\n",
            "Get:51 http://archive.ubuntu.com/ubuntu artful/main amd64 libasound2 amd64 1.1.3-5 [357 kB]\n",
            "Get:52 http://archive.ubuntu.com/ubuntu artful/main amd64 libraw1394-11 amd64 2.1.2-1 [30.7 kB]\n",
            "Get:53 http://archive.ubuntu.com/ubuntu artful/main amd64 libavc1394-0 amd64 0.5.4-4 [16.1 kB]\n",
            "Get:54 http://archive.ubuntu.com/ubuntu artful/main amd64 libgraphite2-3 amd64 1.3.10-2 [78.3 kB]\n",
            "Get:55 http://archive.ubuntu.com/ubuntu artful/main amd64 libharfbuzz0b amd64 1.4.2-1 [211 kB]\n",
            "Get:56 http://archive.ubuntu.com/ubuntu artful/universe amd64 libass9 amd64 1:0.13.7-2 [83.7 kB]\n",
            "Get:57 http://archive.ubuntu.com/ubuntu artful/universe amd64 libbluray2 amd64 1:1.0.1.deb1-2 [136 kB]\n",
            "Get:58 http://archive.ubuntu.com/ubuntu artful/universe amd64 libchromaprint1 amd64 1.4.2-1 [36.8 kB]\n",
            "Get:59 http://archive.ubuntu.com/ubuntu artful/universe amd64 libgme0 amd64 0.6.1-1 [122 kB]\n",
            "Get:60 http://archive.ubuntu.com/ubuntu artful/universe amd64 libmpg123-0 amd64 1.25.6-1 [125 kB]\n",
            "Get:61 http://archive.ubuntu.com/ubuntu artful-updates/main amd64 libvorbisfile3 amd64 1.3.5-4ubuntu0.2 [15.9 kB]\n",
            "Get:62 http://archive.ubuntu.com/ubuntu artful/universe amd64 libopenmpt0 amd64 0.2.8760~beta27-1 [474 kB]\n",
            "Get:63 http://archive.ubuntu.com/ubuntu artful/main amd64 libssh-gcrypt-4 amd64 0.7.5-1 [162 kB]\n",
            "Get:64 http://archive.ubuntu.com/ubuntu artful/universe amd64 libavformat57 amd64 7:3.3.4-2 [924 kB]\n",
            "Get:65 http://archive.ubuntu.com/ubuntu artful/universe amd64 libavresample3 amd64 7:3.3.4-2 [52.7 kB]\n",
            "Get:66 http://archive.ubuntu.com/ubuntu artful/universe amd64 libbs2b0 amd64 3.1.0+dfsg-2.2 [10.5 kB]\n",
            "Get:67 http://archive.ubuntu.com/ubuntu artful/universe amd64 libflite1 amd64 2.0.0-release-4 [12.9 MB]\n",
            "Get:68 http://archive.ubuntu.com/ubuntu artful/universe amd64 libtbb2 amd64 2017~U7-6 [112 kB]\n",
            "Get:69 http://archive.ubuntu.com/ubuntu artful/universe amd64 libopencv-core3.1 amd64 3.1.0+dfsg1-1~exp1ubuntu3 [698 kB]\n",
            "Get:70 http://archive.ubuntu.com/ubuntu artful/universe amd64 libopencv-imgproc3.1 amd64 3.1.0+dfsg1-1~exp1ubuntu3 [778 kB]\n",
            "Get:71 http://archive.ubuntu.com/ubuntu artful/universe amd64 libpostproc54 amd64 7:3.3.4-2 [50.5 kB]\n",
            "Get:72 http://archive.ubuntu.com/ubuntu artful/main amd64 libfftw3-double3 amd64 3.3.6p2-1 [727 kB]\n",
            "Get:73 http://archive.ubuntu.com/ubuntu artful/main amd64 libsamplerate0 amd64 0.1.9-1 [938 kB]\n",
            "Get:74 http://archive.ubuntu.com/ubuntu artful/universe amd64 librubberband2v5 amd64 1.8.1-6ubuntu2 [85.3 kB]\n",
            "Get:75 http://archive.ubuntu.com/ubuntu artful/universe amd64 libswscale4 amd64 7:3.3.4-2 [150 kB]\n",
            "Get:76 http://archive.ubuntu.com/ubuntu artful/universe amd64 libavfilter6 amd64 7:3.3.4-2 [812 kB]\n",
            "Get:77 http://archive.ubuntu.com/ubuntu artful/main amd64 libcaca0 amd64 0.99.beta19-2build2~gcc5.2 [202 kB]\n",
            "Get:78 http://archive.ubuntu.com/ubuntu artful/main amd64 libcdio13 amd64 0.83-4.2ubuntu1 [53.0 kB]\n",
            "Get:79 http://archive.ubuntu.com/ubuntu artful/main amd64 libcdio-cdda1 amd64 0.83-4.2ubuntu1 [15.7 kB]\n",
            "Get:80 http://archive.ubuntu.com/ubuntu artful/main amd64 libcdio-paranoia1 amd64 0.83-4.2ubuntu1 [15.4 kB]\n",
            "Get:81 http://archive.ubuntu.com/ubuntu artful/universe amd64 libdc1394-22 amd64 2.2.5-1 [77.5 kB]\n",
            "Get:82 http://archive.ubuntu.com/ubuntu artful-updates/main amd64 libglapi-mesa amd64 17.2.8-0ubuntu0~17.10.1 [22.2 kB]\n",
            "Get:83 http://archive.ubuntu.com/ubuntu artful/main amd64 libx11-xcb1 amd64 2:1.6.4-3 [9,626 B]\n",
            "Get:84 http://archive.ubuntu.com/ubuntu artful/main amd64 libxcb-dri2-0 amd64 1.12-1ubuntu1 [6,838 B]\n",
            "Get:85 http://archive.ubuntu.com/ubuntu artful/main amd64 libxcb-dri3-0 amd64 1.12-1ubuntu1 [5,156 B]\n",
            "Get:86 http://archive.ubuntu.com/ubuntu artful/main amd64 libxcb-glx0 amd64 1.12-1ubuntu1 [22.3 kB]\n",
            "Get:87 http://archive.ubuntu.com/ubuntu artful/main amd64 libxcb-present0 amd64 1.12-1ubuntu1 [5,436 B]\n",
            "Get:88 http://archive.ubuntu.com/ubuntu artful/main amd64 libxcb-sync1 amd64 1.12-1ubuntu1 [8,746 B]\n",
            "Get:89 http://archive.ubuntu.com/ubuntu artful/main amd64 libxdamage1 amd64 1:1.1.4-3 [6,934 B]\n",
            "Get:90 http://archive.ubuntu.com/ubuntu artful/main amd64 libdrm-amdgpu1 amd64 2.4.83-1 [18.5 kB]\n",
            "Get:91 http://archive.ubuntu.com/ubuntu artful/main amd64 libpciaccess0 amd64 0.13.4-1ubuntu1 [17.9 kB]\n",
            "Get:92 http://archive.ubuntu.com/ubuntu artful/main amd64 libdrm-intel1 amd64 2.4.83-1 [59.7 kB]\n",
            "Get:93 http://archive.ubuntu.com/ubuntu artful/main amd64 libdrm-nouveau2 amd64 2.4.83-1 [16.4 kB]\n",
            "Get:94 http://archive.ubuntu.com/ubuntu artful/main amd64 libdrm-radeon1 amd64 2.4.83-1 [21.6 kB]\n",
            "Get:95 http://archive.ubuntu.com/ubuntu artful/main amd64 libllvm5.0 amd64 1:5.0-3 [13.7 MB]\n",
            "Get:96 http://archive.ubuntu.com/ubuntu artful/main amd64 libsensors4 amd64 1:3.4.0-4 [28.8 kB]\n",
            "Get:97 http://archive.ubuntu.com/ubuntu artful-updates/main amd64 libgl1-mesa-dri amd64 17.2.8-0ubuntu0~17.10.1 [5,707 kB]\n",
            "Get:98 http://archive.ubuntu.com/ubuntu artful-updates/main amd64 libgl1-mesa-glx amd64 17.2.8-0ubuntu0~17.10.1 [130 kB]\n",
            "Get:99 http://archive.ubuntu.com/ubuntu artful/main amd64 libiec61883-0 amd64 1.2.0-2 [23.5 kB]\n",
            "Get:100 http://archive.ubuntu.com/ubuntu artful/main amd64 libjack-jackd2-0 amd64 1.9.10+20150825git1ed50c92~dfsg-5ubuntu1 [256 kB]\n",
            "Get:101 http://archive.ubuntu.com/ubuntu artful/universe amd64 libopenal-data all 1:1.17.2-4 [101 kB]\n",
            "Get:102 http://archive.ubuntu.com/ubuntu artful/universe amd64 libsndio6.1 amd64 1.1.0-3 [23.4 kB]\n",
            "80% [Working]"
          ],
          "name": "stdout"
        },
        {
          "output_type": "stream",
          "text": [
            "Get:103 http://archive.ubuntu.com/ubuntu artful/universe amd64 libopenal1 amd64 1:1.17.2-4 [207 kB]\n",
            "Get:104 http://archive.ubuntu.com/ubuntu artful/main amd64 libasyncns0 amd64 0.8-6 [12.1 kB]\n",
            "Get:105 http://archive.ubuntu.com/ubuntu artful/main amd64 libflac8 amd64 1.3.2-1 [213 kB]\n",
            "Get:106 http://archive.ubuntu.com/ubuntu artful/main amd64 libsndfile1 amd64 1.0.28-4 [169 kB]\n",
            "Get:107 http://archive.ubuntu.com/ubuntu artful/main amd64 libwrap0 amd64 7.6.q-26 [46.1 kB]\n",
            "Get:108 http://archive.ubuntu.com/ubuntu artful-updates/main amd64 libpulse0 amd64 1:10.0-2ubuntu3.1 [265 kB]\n",
            "Get:109 http://archive.ubuntu.com/ubuntu artful-updates/main amd64 libwayland-client0 amd64 1.14.0-1ubuntu0.1 [22.5 kB]\n",
            "Get:110 http://archive.ubuntu.com/ubuntu artful-updates/main amd64 libwayland-cursor0 amd64 1.14.0-1ubuntu0.1 [9,890 B]\n",
            "Get:111 http://archive.ubuntu.com/ubuntu artful-updates/main amd64 libwayland-server0 amd64 1.14.0-1ubuntu0.1 [28.5 kB]\n",
            "Get:112 http://archive.ubuntu.com/ubuntu artful-updates/main amd64 libgbm1 amd64 17.2.8-0ubuntu0~17.10.1 [24.4 kB]\n",
            "Get:113 http://archive.ubuntu.com/ubuntu artful/main amd64 libboost-system1.62.0 amd64 1.62.0+dfsg-4build3 [9,212 B]\n",
            "Get:114 http://archive.ubuntu.com/ubuntu artful/main amd64 libcapnp-0.5.3 amd64 0.5.3-2ubuntu2 [569 kB]\n",
            "Get:115 http://archive.ubuntu.com/ubuntu artful/main amd64 libboost-filesystem1.62.0 amd64 1.62.0+dfsg-4build3 [38.6 kB]\n",
            "Get:116 http://archive.ubuntu.com/ubuntu artful/main amd64 libmircore1 amd64 0.28.0+17.10.20171011.1-0ubuntu1 [31.5 kB]\n",
            "Get:117 http://archive.ubuntu.com/ubuntu artful/main amd64 libmircommon7 amd64 0.28.0+17.10.20171011.1-0ubuntu1 [73.2 kB]\n",
            "Get:118 http://archive.ubuntu.com/ubuntu artful/main amd64 libprotobuf-lite10 amd64 3.0.0-9ubuntu5 [97.1 kB]\n",
            "Get:119 http://archive.ubuntu.com/ubuntu artful/main amd64 libmirprotobuf3 amd64 0.28.0+17.10.20171011.1-0ubuntu1 [131 kB]\n",
            "Get:120 http://archive.ubuntu.com/ubuntu artful/main amd64 libxkbcommon0 amd64 0.7.1-2 [97.2 kB]\n",
            "Get:121 http://archive.ubuntu.com/ubuntu artful/main amd64 libmirclient9 amd64 0.28.0+17.10.20171011.1-0ubuntu1 [199 kB]\n",
            "Get:122 http://archive.ubuntu.com/ubuntu artful/main amd64 libxcb-xfixes0 amd64 1.12-1ubuntu1 [9,292 B]\n",
            "Get:123 http://archive.ubuntu.com/ubuntu artful-updates/main amd64 libegl1-mesa amd64 17.2.8-0ubuntu0~17.10.1 [85.3 kB]\n",
            "Get:124 http://archive.ubuntu.com/ubuntu artful-updates/main amd64 libwayland-egl1-mesa amd64 17.2.8-0ubuntu0~17.10.1 [5,778 B]\n",
            "Get:125 http://archive.ubuntu.com/ubuntu artful-updates/main amd64 libxcursor1 amd64 1:1.1.14-3ubuntu0.1 [19.8 kB]\n",
            "Get:126 http://archive.ubuntu.com/ubuntu artful/main amd64 libxi6 amd64 2:1.7.9-1 [29.2 kB]\n",
            "Get:127 http://archive.ubuntu.com/ubuntu artful/main amd64 libxrandr2 amd64 2:1.5.1-1 [18.1 kB]\n",
            "Get:128 http://archive.ubuntu.com/ubuntu artful/universe amd64 libsdl2-2.0-0 amd64 2.0.6+dfsg1-3ubuntu1 [346 kB]\n",
            "Get:129 http://archive.ubuntu.com/ubuntu artful/main amd64 libxcb-shape0 amd64 1.12-1ubuntu1 [5,864 B]\n",
            "Get:130 http://archive.ubuntu.com/ubuntu artful/main amd64 libxv1 amd64 2:1.0.11-1 [10.7 kB]\n",
            "Get:131 http://archive.ubuntu.com/ubuntu artful/universe amd64 libavdevice57 amd64 7:3.3.4-2 [73.7 kB]\n",
            "Get:132 http://archive.ubuntu.com/ubuntu artful/universe amd64 ffmpeg amd64 7:3.3.4-2 [1,524 kB]\n",
            "Get:133 http://archive.ubuntu.com/ubuntu artful/universe amd64 libaacs0 amd64 0.9.0-1 [51.4 kB]\n",
            "Get:134 http://archive.ubuntu.com/ubuntu artful/universe amd64 libbdplus0 amd64 0.1.2-2 [46.6 kB]\n",
            "Get:135 http://archive.ubuntu.com/ubuntu artful/universe amd64 libffms2-4 amd64 2.23-1 [58.0 kB]\n",
            "Get:136 http://archive.ubuntu.com/ubuntu artful/main amd64 libglu1-mesa amd64 9.0.0-2.1build1 [168 kB]\n",
            "Get:137 http://archive.ubuntu.com/ubuntu artful/universe amd64 libgpac4 amd64 0.5.2-426-gc5ad4e4+dfsg5-3 [1,529 kB]\n",
            "Get:138 http://archive.ubuntu.com/ubuntu artful/universe amd64 libx264-dev amd64 2:0.148.2795+gitaaa9aa8-1 [455 kB]\n",
            "Get:139 http://archive.ubuntu.com/ubuntu artful-updates/universe amd64 mesa-va-drivers amd64 17.2.8-0ubuntu0~17.10.1 [1,532 kB]\n",
            "96% [Working]                                                     1,057 kB/s 2s"
          ],
          "name": "stdout"
        },
        {
          "output_type": "stream",
          "text": [
            "Get:140 http://archive.ubuntu.com/ubuntu artful-updates/main amd64 mesa-vdpau-drivers amd64 17.2.8-0ubuntu0~17.10.1 [1,658 kB]\n",
            "Get:141 http://archive.ubuntu.com/ubuntu artful/main amd64 tcpd amd64 7.6.q-26 [23.5 kB]\n",
            "Get:142 http://archive.ubuntu.com/ubuntu artful/universe amd64 i965-va-driver amd64 1.8.3-1ubuntu1 [633 kB]\n",
            "Get:143 http://archive.ubuntu.com/ubuntu artful/universe amd64 va-driver-all amd64 1.8.3-2 [4,294 B]\n",
            "Get:144 http://archive.ubuntu.com/ubuntu artful/main amd64 vdpau-driver-all amd64 1.1.1-3ubuntu1 [4,674 B]\n",
            "Get:145 http://archive.ubuntu.com/ubuntu artful/universe amd64 x264 amd64 2:0.148.2795+gitaaa9aa8-1 [77.4 kB]\n",
            "Get:146 http://archive.ubuntu.com/ubuntu artful/main amd64 libtxc-dxtn-s2tc amd64 1.0+git20151227-2 [48.4 kB]\n",
            "Fetched 62.4 MB in 13s (4,663 kB/s)\n",
            "Extracting templates from packages: 100%\n",
            "Selecting previously unselected package libgsm1:amd64.\n",
            "(Reading database ... 18396 files and directories currently installed.)\n",
            "Preparing to unpack .../000-libgsm1_1.0.13-4_amd64.deb ...\n",
            "Unpacking libgsm1:amd64 (1.0.13-4) ...\n",
            "Selecting previously unselected package libogg0:amd64.\n",
            "Preparing to unpack .../001-libogg0_1.3.2-1_amd64.deb ...\n",
            "Unpacking libogg0:amd64 (1.3.2-1) ...\n",
            "Selecting previously unselected package libxinerama1:amd64.\n",
            "Preparing to unpack .../002-libxinerama1_2%3a1.1.3-1_amd64.deb ...\n",
            "Unpacking libxinerama1:amd64 (2:1.1.3-1) ...\n",
            "Selecting previously unselected package libxshmfence1:amd64.\n",
            "Preparing to unpack .../003-libxshmfence1_1.2-1_amd64.deb ...\n",
            "Unpacking libxshmfence1:amd64 (1.2-1) ...\n",
            "Selecting previously unselected package libxxf86vm1:amd64.\n",
            "Preparing to unpack .../004-libxxf86vm1_1%3a1.1.4-1_amd64.deb ...\n",
            "Unpacking libxxf86vm1:amd64 (1:1.1.4-1) ...\n",
            "Selecting previously unselected package libapparmor1:amd64.\n",
            "Preparing to unpack .../005-libapparmor1_2.11.0-2ubuntu17.1_amd64.deb ...\n",
            "Unpacking libapparmor1:amd64 (2.11.0-2ubuntu17.1) ...\n",
            "Selecting previously unselected package libdbus-1-3:amd64.\n",
            "Preparing to unpack .../006-libdbus-1-3_1.10.22-1ubuntu1_amd64.deb ...\n",
            "Unpacking libdbus-1-3:amd64 (1.10.22-1ubuntu1) ...\n",
            "Selecting previously unselected package dbus.\n",
            "Preparing to unpack .../007-dbus_1.10.22-1ubuntu1_amd64.deb ...\n",
            "Unpacking dbus (1.10.22-1ubuntu1) ...\n",
            "Selecting previously unselected package libelf1:amd64.\n",
            "Preparing to unpack .../008-libelf1_0.170-0.1_amd64.deb ...\n",
            "Unpacking libelf1:amd64 (0.170-0.1) ...\n",
            "Selecting previously unselected package libfribidi0:amd64.\n",
            "Preparing to unpack .../009-libfribidi0_0.19.7-1_amd64.deb ...\n",
            "Unpacking libfribidi0:amd64 (0.19.7-1) ...\n",
            "Selecting previously unselected package libslang2:amd64.\n",
            "Preparing to unpack .../010-libslang2_2.3.1-5ubuntu1_amd64.deb ...\n",
            "Unpacking libslang2:amd64 (2.3.1-5ubuntu1) ...\n",
            "Selecting previously unselected package xkb-data.\n",
            "Preparing to unpack .../011-xkb-data_2.19-1.1ubuntu1_all.deb ...\n",
            "Unpacking xkb-data (2.19-1.1ubuntu1) ...\n",
            "Selecting previously unselected package libdrm-common.\n",
            "Preparing to unpack .../012-libdrm-common_2.4.83-1_all.deb ...\n",
            "Unpacking libdrm-common (2.4.83-1) ...\n",
            "Selecting previously unselected package libdrm2:amd64.\n",
            "Preparing to unpack .../013-libdrm2_2.4.83-1_amd64.deb ...\n",
            "Unpacking libdrm2:amd64 (2.4.83-1) ...\n",
            "Selecting previously unselected package libnuma1:amd64.\n",
            "Preparing to unpack .../014-libnuma1_2.0.11-2.1_amd64.deb ...\n",
            "Unpacking libnuma1:amd64 (2.0.11-2.1) ...\n",
            "Selecting previously unselected package libusb-1.0-0:amd64.\n",
            "Preparing to unpack .../015-libusb-1.0-0_2%3a1.0.21-2_amd64.deb ...\n",
            "Unpacking libusb-1.0-0:amd64 (2:1.0.21-2) ...\n",
            "Selecting previously unselected package libva-drm1:amd64.\n",
            "Preparing to unpack .../016-libva-drm1_1.8.3-2_amd64.deb ...\n",
            "Unpacking libva-drm1:amd64 (1.8.3-2) ...\n",
            "Selecting previously unselected package libva1:amd64.\n",
            "Preparing to unpack .../017-libva1_1.8.3-2_amd64.deb ...\n",
            "Unpacking libva1:amd64 (1.8.3-2) ...\n",
            "Selecting previously unselected package libxfixes3:amd64.\n",
            "Preparing to unpack .../018-libxfixes3_1%3a5.0.3-1_amd64.deb ...\n",
            "Unpacking libxfixes3:amd64 (1:5.0.3-1) ...\n",
            "Selecting previously unselected package libva-x11-1:amd64.\n",
            "Preparing to unpack .../019-libva-x11-1_1.8.3-2_amd64.deb ...\n",
            "Unpacking libva-x11-1:amd64 (1.8.3-2) ...\n",
            "Selecting previously unselected package libvdpau1:amd64.\n",
            "Preparing to unpack .../020-libvdpau1_1.1.1-3ubuntu1_amd64.deb ...\n",
            "Unpacking libvdpau1:amd64 (1.1.1-3ubuntu1) ...\n",
            "Selecting previously unselected package libavutil55:amd64.\n",
            "Preparing to unpack .../021-libavutil55_7%3a3.3.4-2_amd64.deb ...\n",
            "Unpacking libavutil55:amd64 (7:3.3.4-2) ...\n",
            "Selecting previously unselected package libcrystalhd3:amd64.\n",
            "Preparing to unpack .../022-libcrystalhd3_1%3a0.0~git20110715.fdd2f19-12_amd64.deb ...\n",
            "Unpacking libcrystalhd3:amd64 (1:0.0~git20110715.fdd2f19-12) ...\n",
            "Selecting previously unselected package libmp3lame0:amd64.\n",
            "Preparing to unpack .../023-libmp3lame0_3.99.5+repack1-9build1_amd64.deb ...\n",
            "Unpacking libmp3lame0:amd64 (3.99.5+repack1-9build1) ...\n"
          ],
          "name": "stdout"
        },
        {
          "output_type": "stream",
          "text": [
            "Selecting previously unselected package libopenjp2-7:amd64.\r\n",
            "Preparing to unpack .../024-libopenjp2-7_2.2.0-1_amd64.deb ...\n",
            "Unpacking libopenjp2-7:amd64 (2.2.0-1) ...\n",
            "Selecting previously unselected package libopus0:amd64.\n",
            "Preparing to unpack .../025-libopus0_1.1.2-1ubuntu1_amd64.deb ...\n",
            "Unpacking libopus0:amd64 (1.1.2-1ubuntu1) ...\n",
            "Selecting previously unselected package libshine3:amd64.\n",
            "Preparing to unpack .../026-libshine3_3.1.1-1_amd64.deb ...\n",
            "Unpacking libshine3:amd64 (3.1.1-1) ...\n",
            "Selecting previously unselected package libsnappy1v5:amd64.\n",
            "Preparing to unpack .../027-libsnappy1v5_1.1.6-4_amd64.deb ...\n",
            "Unpacking libsnappy1v5:amd64 (1.1.6-4) ...\n",
            "Selecting previously unselected package libspeex1:amd64.\n",
            "Preparing to unpack .../028-libspeex1_1.2~rc1.2-1ubuntu1_amd64.deb ...\n",
            "Unpacking libspeex1:amd64 (1.2~rc1.2-1ubuntu1) ...\n",
            "Selecting previously unselected package libsoxr0:amd64.\n",
            "Preparing to unpack .../029-libsoxr0_0.1.2-2_amd64.deb ...\n",
            "Unpacking libsoxr0:amd64 (0.1.2-2) ...\n",
            "Selecting previously unselected package libswresample2:amd64.\n",
            "Preparing to unpack .../030-libswresample2_7%3a3.3.4-2_amd64.deb ...\n",
            "Unpacking libswresample2:amd64 (7:3.3.4-2) ...\n",
            "Selecting previously unselected package libpixman-1-0:amd64.\n",
            "Preparing to unpack .../031-libpixman-1-0_0.34.0-1_amd64.deb ...\n",
            "Unpacking libpixman-1-0:amd64 (0.34.0-1) ...\n",
            "Selecting previously unselected package libxcb-render0:amd64.\n",
            "Preparing to unpack .../032-libxcb-render0_1.12-1ubuntu1_amd64.deb ...\n",
            "Unpacking libxcb-render0:amd64 (1.12-1ubuntu1) ...\n",
            "Selecting previously unselected package libxcb-shm0:amd64.\n",
            "Preparing to unpack .../033-libxcb-shm0_1.12-1ubuntu1_amd64.deb ...\n",
            "Unpacking libxcb-shm0:amd64 (1.12-1ubuntu1) ...\n",
            "Selecting previously unselected package libcairo2:amd64.\n",
            "Preparing to unpack .../034-libcairo2_1.14.10-1ubuntu1_amd64.deb ...\n",
            "Unpacking libcairo2:amd64 (1.14.10-1ubuntu1) ...\n",
            "Selecting previously unselected package libtheora0:amd64.\n",
            "Preparing to unpack .../035-libtheora0_1.1.1+dfsg.1-14_amd64.deb ...\n",
            "Unpacking libtheora0:amd64 (1.1.1+dfsg.1-14) ...\n",
            "Selecting previously unselected package libtwolame0:amd64.\n",
            "Preparing to unpack .../036-libtwolame0_0.3.13-2_amd64.deb ...\n",
            "Unpacking libtwolame0:amd64 (0.3.13-2) ...\n",
            "Selecting previously unselected package libvorbis0a:amd64.\n",
            "Preparing to unpack .../037-libvorbis0a_1.3.5-4ubuntu0.2_amd64.deb ...\n",
            "Unpacking libvorbis0a:amd64 (1.3.5-4ubuntu0.2) ...\n",
            "Selecting previously unselected package libvorbisenc2:amd64.\n",
            "Preparing to unpack .../038-libvorbisenc2_1.3.5-4ubuntu0.2_amd64.deb ...\n",
            "Unpacking libvorbisenc2:amd64 (1.3.5-4ubuntu0.2) ...\n",
            "Selecting previously unselected package libvpx4:amd64.\n",
            "Preparing to unpack .../039-libvpx4_1.6.1-3_amd64.deb ...\n",
            "Unpacking libvpx4:amd64 (1.6.1-3) ...\n",
            "Selecting previously unselected package libwavpack1:amd64.\n",
            "Preparing to unpack .../040-libwavpack1_5.1.0-2ubuntu0.3_amd64.deb ...\n",
            "Unpacking libwavpack1:amd64 (5.1.0-2ubuntu0.3) ...\n",
            "Selecting previously unselected package libwebp6:amd64.\n",
            "Preparing to unpack .../041-libwebp6_0.6.0-3_amd64.deb ...\n",
            "Unpacking libwebp6:amd64 (0.6.0-3) ...\n",
            "Selecting previously unselected package libwebpmux3:amd64.\n",
            "Preparing to unpack .../042-libwebpmux3_0.6.0-3_amd64.deb ...\n",
            "Unpacking libwebpmux3:amd64 (0.6.0-3) ...\n",
            "Selecting previously unselected package libx264-148:amd64.\n",
            "Preparing to unpack .../043-libx264-148_2%3a0.148.2795+gitaaa9aa8-1_amd64.deb ...\n",
            "Unpacking libx264-148:amd64 (2:0.148.2795+gitaaa9aa8-1) ...\n",
            "Selecting previously unselected package libx265-130:amd64.\n",
            "Preparing to unpack .../044-libx265-130_2.5-2_amd64.deb ...\n",
            "Unpacking libx265-130:amd64 (2.5-2) ...\n",
            "Selecting previously unselected package libxvidcore4:amd64.\n",
            "Preparing to unpack .../045-libxvidcore4_2%3a1.3.4-1_amd64.deb ...\n",
            "Unpacking libxvidcore4:amd64 (2:1.3.4-1) ...\n",
            "Selecting previously unselected package libzvbi-common.\n",
            "Preparing to unpack .../046-libzvbi-common_0.2.35-13_all.deb ...\n",
            "Unpacking libzvbi-common (0.2.35-13) ...\n",
            "Selecting previously unselected package libzvbi0:amd64.\n",
            "Preparing to unpack .../047-libzvbi0_0.2.35-13_amd64.deb ...\n",
            "Unpacking libzvbi0:amd64 (0.2.35-13) ...\n",
            "Selecting previously unselected package libavcodec57:amd64.\n",
            "Preparing to unpack .../048-libavcodec57_7%3a3.3.4-2_amd64.deb ...\n",
            "Unpacking libavcodec57:amd64 (7:3.3.4-2) ...\n",
            "Selecting previously unselected package libasound2-data.\n",
            "Preparing to unpack .../049-libasound2-data_1.1.3-5_all.deb ...\n",
            "Unpacking libasound2-data (1.1.3-5) ...\n",
            "Selecting previously unselected package libasound2:amd64.\n",
            "Preparing to unpack .../050-libasound2_1.1.3-5_amd64.deb ...\n",
            "Unpacking libasound2:amd64 (1.1.3-5) ...\n",
            "Selecting previously unselected package libraw1394-11:amd64.\n",
            "Preparing to unpack .../051-libraw1394-11_2.1.2-1_amd64.deb ...\n",
            "Unpacking libraw1394-11:amd64 (2.1.2-1) ...\n",
            "Selecting previously unselected package libavc1394-0:amd64.\n",
            "Preparing to unpack .../052-libavc1394-0_0.5.4-4_amd64.deb ...\n",
            "Unpacking libavc1394-0:amd64 (0.5.4-4) ...\n"
          ],
          "name": "stdout"
        },
        {
          "output_type": "stream",
          "text": [
            "Selecting previously unselected package libgraphite2-3:amd64.\r\n",
            "Preparing to unpack .../053-libgraphite2-3_1.3.10-2_amd64.deb ...\r\n",
            "Unpacking libgraphite2-3:amd64 (1.3.10-2) ...\n",
            "Selecting previously unselected package libharfbuzz0b:amd64.\n",
            "Preparing to unpack .../054-libharfbuzz0b_1.4.2-1_amd64.deb ...\n",
            "Unpacking libharfbuzz0b:amd64 (1.4.2-1) ...\n",
            "Selecting previously unselected package libass9:amd64.\n",
            "Preparing to unpack .../055-libass9_1%3a0.13.7-2_amd64.deb ...\n",
            "Unpacking libass9:amd64 (1:0.13.7-2) ...\n",
            "Selecting previously unselected package libbluray2:amd64.\n",
            "Preparing to unpack .../056-libbluray2_1%3a1.0.1.deb1-2_amd64.deb ...\n",
            "Unpacking libbluray2:amd64 (1:1.0.1.deb1-2) ...\n",
            "Selecting previously unselected package libchromaprint1:amd64.\n",
            "Preparing to unpack .../057-libchromaprint1_1.4.2-1_amd64.deb ...\n",
            "Unpacking libchromaprint1:amd64 (1.4.2-1) ...\n",
            "Selecting previously unselected package libgme0:amd64.\n",
            "Preparing to unpack .../058-libgme0_0.6.1-1_amd64.deb ...\n",
            "Unpacking libgme0:amd64 (0.6.1-1) ...\n",
            "Selecting previously unselected package libmpg123-0:amd64.\n",
            "Preparing to unpack .../059-libmpg123-0_1.25.6-1_amd64.deb ...\n",
            "Unpacking libmpg123-0:amd64 (1.25.6-1) ...\n",
            "Selecting previously unselected package libvorbisfile3:amd64.\n",
            "Preparing to unpack .../060-libvorbisfile3_1.3.5-4ubuntu0.2_amd64.deb ...\n",
            "Unpacking libvorbisfile3:amd64 (1.3.5-4ubuntu0.2) ...\n",
            "Selecting previously unselected package libopenmpt0:amd64.\n",
            "Preparing to unpack .../061-libopenmpt0_0.2.8760~beta27-1_amd64.deb ...\n",
            "Unpacking libopenmpt0:amd64 (0.2.8760~beta27-1) ...\n",
            "Selecting previously unselected package libssh-gcrypt-4:amd64.\n",
            "Preparing to unpack .../062-libssh-gcrypt-4_0.7.5-1_amd64.deb ...\n",
            "Unpacking libssh-gcrypt-4:amd64 (0.7.5-1) ...\n",
            "Selecting previously unselected package libavformat57:amd64.\n",
            "Preparing to unpack .../063-libavformat57_7%3a3.3.4-2_amd64.deb ...\n",
            "Unpacking libavformat57:amd64 (7:3.3.4-2) ...\n",
            "Selecting previously unselected package libavresample3:amd64.\n",
            "Preparing to unpack .../064-libavresample3_7%3a3.3.4-2_amd64.deb ...\n",
            "Unpacking libavresample3:amd64 (7:3.3.4-2) ...\n",
            "Selecting previously unselected package libbs2b0:amd64.\n",
            "Preparing to unpack .../065-libbs2b0_3.1.0+dfsg-2.2_amd64.deb ...\n",
            "Unpacking libbs2b0:amd64 (3.1.0+dfsg-2.2) ...\n",
            "Selecting previously unselected package libflite1:amd64.\n",
            "Preparing to unpack .../066-libflite1_2.0.0-release-4_amd64.deb ...\n",
            "Unpacking libflite1:amd64 (2.0.0-release-4) ...\n",
            "Selecting previously unselected package libtbb2:amd64.\n",
            "Preparing to unpack .../067-libtbb2_2017~U7-6_amd64.deb ...\n",
            "Unpacking libtbb2:amd64 (2017~U7-6) ...\n",
            "Selecting previously unselected package libopencv-core3.1:amd64.\n",
            "Preparing to unpack .../068-libopencv-core3.1_3.1.0+dfsg1-1~exp1ubuntu3_amd64.deb ...\n",
            "Unpacking libopencv-core3.1:amd64 (3.1.0+dfsg1-1~exp1ubuntu3) ...\n",
            "Selecting previously unselected package libopencv-imgproc3.1:amd64.\n",
            "Preparing to unpack .../069-libopencv-imgproc3.1_3.1.0+dfsg1-1~exp1ubuntu3_amd64.deb ...\n",
            "Unpacking libopencv-imgproc3.1:amd64 (3.1.0+dfsg1-1~exp1ubuntu3) ...\n",
            "Selecting previously unselected package libpostproc54:amd64.\n",
            "Preparing to unpack .../070-libpostproc54_7%3a3.3.4-2_amd64.deb ...\n",
            "Unpacking libpostproc54:amd64 (7:3.3.4-2) ...\n",
            "Selecting previously unselected package libfftw3-double3:amd64.\n",
            "Preparing to unpack .../071-libfftw3-double3_3.3.6p2-1_amd64.deb ...\n",
            "Unpacking libfftw3-double3:amd64 (3.3.6p2-1) ...\n",
            "Selecting previously unselected package libsamplerate0:amd64.\n",
            "Preparing to unpack .../072-libsamplerate0_0.1.9-1_amd64.deb ...\n",
            "Unpacking libsamplerate0:amd64 (0.1.9-1) ...\n",
            "Selecting previously unselected package librubberband2v5:amd64.\n",
            "Preparing to unpack .../073-librubberband2v5_1.8.1-6ubuntu2_amd64.deb ...\n",
            "Unpacking librubberband2v5:amd64 (1.8.1-6ubuntu2) ...\n",
            "Selecting previously unselected package libswscale4:amd64.\n",
            "Preparing to unpack .../074-libswscale4_7%3a3.3.4-2_amd64.deb ...\n",
            "Unpacking libswscale4:amd64 (7:3.3.4-2) ...\n",
            "Selecting previously unselected package libavfilter6:amd64.\n",
            "Preparing to unpack .../075-libavfilter6_7%3a3.3.4-2_amd64.deb ...\n",
            "Unpacking libavfilter6:amd64 (7:3.3.4-2) ...\n",
            "Selecting previously unselected package libcaca0:amd64.\n",
            "Preparing to unpack .../076-libcaca0_0.99.beta19-2build2~gcc5.2_amd64.deb ...\n",
            "Unpacking libcaca0:amd64 (0.99.beta19-2build2~gcc5.2) ...\n",
            "Selecting previously unselected package libcdio13:amd64.\n",
            "Preparing to unpack .../077-libcdio13_0.83-4.2ubuntu1_amd64.deb ...\n",
            "Unpacking libcdio13:amd64 (0.83-4.2ubuntu1) ...\n",
            "Selecting previously unselected package libcdio-cdda1:amd64.\n",
            "Preparing to unpack .../078-libcdio-cdda1_0.83-4.2ubuntu1_amd64.deb ...\n",
            "Unpacking libcdio-cdda1:amd64 (0.83-4.2ubuntu1) ...\n",
            "Selecting previously unselected package libcdio-paranoia1:amd64.\n",
            "Preparing to unpack .../079-libcdio-paranoia1_0.83-4.2ubuntu1_amd64.deb ...\n",
            "Unpacking libcdio-paranoia1:amd64 (0.83-4.2ubuntu1) ...\n",
            "Selecting previously unselected package libdc1394-22:amd64.\n",
            "Preparing to unpack .../080-libdc1394-22_2.2.5-1_amd64.deb ...\n",
            "Unpacking libdc1394-22:amd64 (2.2.5-1) ...\n"
          ],
          "name": "stdout"
        },
        {
          "output_type": "stream",
          "text": [
            "Selecting previously unselected package libglapi-mesa:amd64.\n",
            "Preparing to unpack .../081-libglapi-mesa_17.2.8-0ubuntu0~17.10.1_amd64.deb ...\n",
            "Unpacking libglapi-mesa:amd64 (17.2.8-0ubuntu0~17.10.1) ...\n",
            "Selecting previously unselected package libx11-xcb1:amd64.\n",
            "Preparing to unpack .../082-libx11-xcb1_2%3a1.6.4-3_amd64.deb ...\n",
            "Unpacking libx11-xcb1:amd64 (2:1.6.4-3) ...\n",
            "Selecting previously unselected package libxcb-dri2-0:amd64.\n",
            "Preparing to unpack .../083-libxcb-dri2-0_1.12-1ubuntu1_amd64.deb ...\n",
            "Unpacking libxcb-dri2-0:amd64 (1.12-1ubuntu1) ...\n",
            "Selecting previously unselected package libxcb-dri3-0:amd64.\n",
            "Preparing to unpack .../084-libxcb-dri3-0_1.12-1ubuntu1_amd64.deb ...\n",
            "Unpacking libxcb-dri3-0:amd64 (1.12-1ubuntu1) ...\n",
            "Selecting previously unselected package libxcb-glx0:amd64.\n",
            "Preparing to unpack .../085-libxcb-glx0_1.12-1ubuntu1_amd64.deb ...\n",
            "Unpacking libxcb-glx0:amd64 (1.12-1ubuntu1) ...\n",
            "Selecting previously unselected package libxcb-present0:amd64.\n",
            "Preparing to unpack .../086-libxcb-present0_1.12-1ubuntu1_amd64.deb ...\n",
            "Unpacking libxcb-present0:amd64 (1.12-1ubuntu1) ...\n",
            "Selecting previously unselected package libxcb-sync1:amd64.\n",
            "Preparing to unpack .../087-libxcb-sync1_1.12-1ubuntu1_amd64.deb ...\n",
            "Unpacking libxcb-sync1:amd64 (1.12-1ubuntu1) ...\n",
            "Selecting previously unselected package libxdamage1:amd64.\n",
            "Preparing to unpack .../088-libxdamage1_1%3a1.1.4-3_amd64.deb ...\n",
            "Unpacking libxdamage1:amd64 (1:1.1.4-3) ...\n",
            "Selecting previously unselected package libdrm-amdgpu1:amd64.\n",
            "Preparing to unpack .../089-libdrm-amdgpu1_2.4.83-1_amd64.deb ...\n",
            "Unpacking libdrm-amdgpu1:amd64 (2.4.83-1) ...\n",
            "Selecting previously unselected package libpciaccess0:amd64.\n",
            "Preparing to unpack .../090-libpciaccess0_0.13.4-1ubuntu1_amd64.deb ...\n",
            "Unpacking libpciaccess0:amd64 (0.13.4-1ubuntu1) ...\n",
            "Selecting previously unselected package libdrm-intel1:amd64.\n",
            "Preparing to unpack .../091-libdrm-intel1_2.4.83-1_amd64.deb ...\n",
            "Unpacking libdrm-intel1:amd64 (2.4.83-1) ...\n",
            "Selecting previously unselected package libdrm-nouveau2:amd64.\n",
            "Preparing to unpack .../092-libdrm-nouveau2_2.4.83-1_amd64.deb ...\n",
            "Unpacking libdrm-nouveau2:amd64 (2.4.83-1) ...\n",
            "Selecting previously unselected package libdrm-radeon1:amd64.\n",
            "Preparing to unpack .../093-libdrm-radeon1_2.4.83-1_amd64.deb ...\n",
            "Unpacking libdrm-radeon1:amd64 (2.4.83-1) ...\n",
            "Selecting previously unselected package libllvm5.0:amd64.\n",
            "Preparing to unpack .../094-libllvm5.0_1%3a5.0-3_amd64.deb ...\n",
            "Unpacking libllvm5.0:amd64 (1:5.0-3) ...\n",
            "Selecting previously unselected package libsensors4:amd64.\n",
            "Preparing to unpack .../095-libsensors4_1%3a3.4.0-4_amd64.deb ...\n",
            "Unpacking libsensors4:amd64 (1:3.4.0-4) ...\n",
            "Selecting previously unselected package libgl1-mesa-dri:amd64.\n",
            "Preparing to unpack .../096-libgl1-mesa-dri_17.2.8-0ubuntu0~17.10.1_amd64.deb ...\n",
            "Unpacking libgl1-mesa-dri:amd64 (17.2.8-0ubuntu0~17.10.1) ...\n",
            "Selecting previously unselected package libgl1-mesa-glx:amd64.\n",
            "Preparing to unpack .../097-libgl1-mesa-glx_17.2.8-0ubuntu0~17.10.1_amd64.deb ...\n",
            "Unpacking libgl1-mesa-glx:amd64 (17.2.8-0ubuntu0~17.10.1) ...\n",
            "Selecting previously unselected package libiec61883-0:amd64.\n",
            "Preparing to unpack .../098-libiec61883-0_1.2.0-2_amd64.deb ...\n",
            "Unpacking libiec61883-0:amd64 (1.2.0-2) ...\n",
            "Selecting previously unselected package libjack-jackd2-0:amd64.\n",
            "Preparing to unpack .../099-libjack-jackd2-0_1.9.10+20150825git1ed50c92~dfsg-5ubuntu1_amd64.deb ...\n",
            "Unpacking libjack-jackd2-0:amd64 (1.9.10+20150825git1ed50c92~dfsg-5ubuntu1) ...\n",
            "Selecting previously unselected package libopenal-data.\n",
            "Preparing to unpack .../100-libopenal-data_1%3a1.17.2-4_all.deb ...\n",
            "Unpacking libopenal-data (1:1.17.2-4) ...\n",
            "Selecting previously unselected package libsndio6.1:amd64.\n",
            "Preparing to unpack .../101-libsndio6.1_1.1.0-3_amd64.deb ...\n",
            "Unpacking libsndio6.1:amd64 (1.1.0-3) ...\n",
            "Selecting previously unselected package libopenal1:amd64.\n",
            "Preparing to unpack .../102-libopenal1_1%3a1.17.2-4_amd64.deb ...\n",
            "Unpacking libopenal1:amd64 (1:1.17.2-4) ...\n",
            "Selecting previously unselected package libasyncns0:amd64.\n",
            "Preparing to unpack .../103-libasyncns0_0.8-6_amd64.deb ...\n",
            "Unpacking libasyncns0:amd64 (0.8-6) ...\n",
            "Selecting previously unselected package libflac8:amd64.\n",
            "Preparing to unpack .../104-libflac8_1.3.2-1_amd64.deb ...\n",
            "Unpacking libflac8:amd64 (1.3.2-1) ...\n",
            "Selecting previously unselected package libsndfile1:amd64.\n",
            "Preparing to unpack .../105-libsndfile1_1.0.28-4_amd64.deb ...\n",
            "Unpacking libsndfile1:amd64 (1.0.28-4) ...\n",
            "Selecting previously unselected package libwrap0:amd64.\n",
            "Preparing to unpack .../106-libwrap0_7.6.q-26_amd64.deb ...\n",
            "Unpacking libwrap0:amd64 (7.6.q-26) ...\n",
            "Selecting previously unselected package libpulse0:amd64.\n",
            "Preparing to unpack .../107-libpulse0_1%3a10.0-2ubuntu3.1_amd64.deb ...\n",
            "Unpacking libpulse0:amd64 (1:10.0-2ubuntu3.1) ...\n",
            "Selecting previously unselected package libwayland-client0:amd64.\n",
            "Preparing to unpack .../108-libwayland-client0_1.14.0-1ubuntu0.1_amd64.deb ...\n",
            "Unpacking libwayland-client0:amd64 (1.14.0-1ubuntu0.1) ...\n",
            "Selecting previously unselected package libwayland-cursor0:amd64.\n",
            "Preparing to unpack .../109-libwayland-cursor0_1.14.0-1ubuntu0.1_amd64.deb ...\n",
            "Unpacking libwayland-cursor0:amd64 (1.14.0-1ubuntu0.1) ...\n"
          ],
          "name": "stdout"
        },
        {
          "output_type": "stream",
          "text": [
            "Selecting previously unselected package libwayland-server0:amd64.\r\n",
            "Preparing to unpack .../110-libwayland-server0_1.14.0-1ubuntu0.1_amd64.deb ...\r\n",
            "Unpacking libwayland-server0:amd64 (1.14.0-1ubuntu0.1) ...\n",
            "Selecting previously unselected package libgbm1:amd64.\n",
            "Preparing to unpack .../111-libgbm1_17.2.8-0ubuntu0~17.10.1_amd64.deb ...\n",
            "Unpacking libgbm1:amd64 (17.2.8-0ubuntu0~17.10.1) ...\n",
            "Selecting previously unselected package libboost-system1.62.0:amd64.\n",
            "Preparing to unpack .../112-libboost-system1.62.0_1.62.0+dfsg-4build3_amd64.deb ...\n",
            "Unpacking libboost-system1.62.0:amd64 (1.62.0+dfsg-4build3) ...\n",
            "Selecting previously unselected package libcapnp-0.5.3:amd64.\n",
            "Preparing to unpack .../113-libcapnp-0.5.3_0.5.3-2ubuntu2_amd64.deb ...\n",
            "Unpacking libcapnp-0.5.3:amd64 (0.5.3-2ubuntu2) ...\n",
            "Selecting previously unselected package libboost-filesystem1.62.0:amd64.\n",
            "Preparing to unpack .../114-libboost-filesystem1.62.0_1.62.0+dfsg-4build3_amd64.deb ...\n",
            "Unpacking libboost-filesystem1.62.0:amd64 (1.62.0+dfsg-4build3) ...\n",
            "Selecting previously unselected package libmircore1:amd64.\n",
            "Preparing to unpack .../115-libmircore1_0.28.0+17.10.20171011.1-0ubuntu1_amd64.deb ...\n",
            "Unpacking libmircore1:amd64 (0.28.0+17.10.20171011.1-0ubuntu1) ...\n",
            "Selecting previously unselected package libmircommon7:amd64.\n",
            "Preparing to unpack .../116-libmircommon7_0.28.0+17.10.20171011.1-0ubuntu1_amd64.deb ...\n",
            "Unpacking libmircommon7:amd64 (0.28.0+17.10.20171011.1-0ubuntu1) ...\n",
            "Selecting previously unselected package libprotobuf-lite10:amd64.\n",
            "Preparing to unpack .../117-libprotobuf-lite10_3.0.0-9ubuntu5_amd64.deb ...\n",
            "Unpacking libprotobuf-lite10:amd64 (3.0.0-9ubuntu5) ...\n",
            "Selecting previously unselected package libmirprotobuf3:amd64.\n",
            "Preparing to unpack .../118-libmirprotobuf3_0.28.0+17.10.20171011.1-0ubuntu1_amd64.deb ...\n",
            "Unpacking libmirprotobuf3:amd64 (0.28.0+17.10.20171011.1-0ubuntu1) ...\n",
            "Selecting previously unselected package libxkbcommon0:amd64.\n",
            "Preparing to unpack .../119-libxkbcommon0_0.7.1-2_amd64.deb ...\n",
            "Unpacking libxkbcommon0:amd64 (0.7.1-2) ...\n",
            "Selecting previously unselected package libmirclient9:amd64.\n",
            "Preparing to unpack .../120-libmirclient9_0.28.0+17.10.20171011.1-0ubuntu1_amd64.deb ...\n",
            "Unpacking libmirclient9:amd64 (0.28.0+17.10.20171011.1-0ubuntu1) ...\n",
            "Selecting previously unselected package libxcb-xfixes0:amd64.\n",
            "Preparing to unpack .../121-libxcb-xfixes0_1.12-1ubuntu1_amd64.deb ...\n",
            "Unpacking libxcb-xfixes0:amd64 (1.12-1ubuntu1) ...\n",
            "Selecting previously unselected package libegl1-mesa:amd64.\n",
            "Preparing to unpack .../122-libegl1-mesa_17.2.8-0ubuntu0~17.10.1_amd64.deb ...\n",
            "Unpacking libegl1-mesa:amd64 (17.2.8-0ubuntu0~17.10.1) ...\n",
            "Selecting previously unselected package libwayland-egl1-mesa:amd64.\n",
            "Preparing to unpack .../123-libwayland-egl1-mesa_17.2.8-0ubuntu0~17.10.1_amd64.deb ...\n",
            "Unpacking libwayland-egl1-mesa:amd64 (17.2.8-0ubuntu0~17.10.1) ...\n",
            "Selecting previously unselected package libxcursor1:amd64.\n",
            "Preparing to unpack .../124-libxcursor1_1%3a1.1.14-3ubuntu0.1_amd64.deb ...\n",
            "Unpacking libxcursor1:amd64 (1:1.1.14-3ubuntu0.1) ...\n",
            "Selecting previously unselected package libxi6:amd64.\n",
            "Preparing to unpack .../125-libxi6_2%3a1.7.9-1_amd64.deb ...\n",
            "Unpacking libxi6:amd64 (2:1.7.9-1) ...\n",
            "Selecting previously unselected package libxrandr2:amd64.\n",
            "Preparing to unpack .../126-libxrandr2_2%3a1.5.1-1_amd64.deb ...\n",
            "Unpacking libxrandr2:amd64 (2:1.5.1-1) ...\n",
            "Selecting previously unselected package libsdl2-2.0-0:amd64.\n",
            "Preparing to unpack .../127-libsdl2-2.0-0_2.0.6+dfsg1-3ubuntu1_amd64.deb ...\n",
            "Unpacking libsdl2-2.0-0:amd64 (2.0.6+dfsg1-3ubuntu1) ...\n",
            "Selecting previously unselected package libxcb-shape0:amd64.\n",
            "Preparing to unpack .../128-libxcb-shape0_1.12-1ubuntu1_amd64.deb ...\n",
            "Unpacking libxcb-shape0:amd64 (1.12-1ubuntu1) ...\n",
            "Selecting previously unselected package libxv1:amd64.\n",
            "Preparing to unpack .../129-libxv1_2%3a1.0.11-1_amd64.deb ...\n",
            "Unpacking libxv1:amd64 (2:1.0.11-1) ...\n",
            "Selecting previously unselected package libavdevice57:amd64.\n",
            "Preparing to unpack .../130-libavdevice57_7%3a3.3.4-2_amd64.deb ...\n",
            "Unpacking libavdevice57:amd64 (7:3.3.4-2) ...\n",
            "Selecting previously unselected package ffmpeg.\n",
            "Preparing to unpack .../131-ffmpeg_7%3a3.3.4-2_amd64.deb ...\n",
            "Unpacking ffmpeg (7:3.3.4-2) ...\n",
            "Selecting previously unselected package libaacs0:amd64.\n",
            "Preparing to unpack .../132-libaacs0_0.9.0-1_amd64.deb ...\n",
            "Unpacking libaacs0:amd64 (0.9.0-1) ...\n",
            "Selecting previously unselected package libbdplus0:amd64.\n",
            "Preparing to unpack .../133-libbdplus0_0.1.2-2_amd64.deb ...\n",
            "Unpacking libbdplus0:amd64 (0.1.2-2) ...\n",
            "Selecting previously unselected package libffms2-4:amd64.\n",
            "Preparing to unpack .../134-libffms2-4_2.23-1_amd64.deb ...\n",
            "Unpacking libffms2-4:amd64 (2.23-1) ...\n",
            "Selecting previously unselected package libglu1-mesa:amd64.\n",
            "Preparing to unpack .../135-libglu1-mesa_9.0.0-2.1build1_amd64.deb ...\n",
            "Unpacking libglu1-mesa:amd64 (9.0.0-2.1build1) ...\n",
            "Selecting previously unselected package libgpac4:amd64.\n",
            "Preparing to unpack .../136-libgpac4_0.5.2-426-gc5ad4e4+dfsg5-3_amd64.deb ...\n",
            "Unpacking libgpac4:amd64 (0.5.2-426-gc5ad4e4+dfsg5-3) ...\n",
            "Selecting previously unselected package libx264-dev:amd64.\n",
            "Preparing to unpack .../137-libx264-dev_2%3a0.148.2795+gitaaa9aa8-1_amd64.deb ...\n",
            "Unpacking libx264-dev:amd64 (2:0.148.2795+gitaaa9aa8-1) ...\n",
            "Selecting previously unselected package mesa-va-drivers:amd64.\n",
            "Preparing to unpack .../138-mesa-va-drivers_17.2.8-0ubuntu0~17.10.1_amd64.deb ...\n",
            "Unpacking mesa-va-drivers:amd64 (17.2.8-0ubuntu0~17.10.1) ...\n",
            "Selecting previously unselected package mesa-vdpau-drivers:amd64.\n",
            "Preparing to unpack .../139-mesa-vdpau-drivers_17.2.8-0ubuntu0~17.10.1_amd64.deb ...\n",
            "Unpacking mesa-vdpau-drivers:amd64 (17.2.8-0ubuntu0~17.10.1) ...\n"
          ],
          "name": "stdout"
        },
        {
          "output_type": "stream",
          "text": [
            "Selecting previously unselected package tcpd.\r\n",
            "Preparing to unpack .../140-tcpd_7.6.q-26_amd64.deb ...\r\n",
            "Unpacking tcpd (7.6.q-26) ...\n",
            "Selecting previously unselected package i965-va-driver:amd64.\n",
            "Preparing to unpack .../141-i965-va-driver_1.8.3-1ubuntu1_amd64.deb ...\n",
            "Unpacking i965-va-driver:amd64 (1.8.3-1ubuntu1) ...\n",
            "Selecting previously unselected package va-driver-all:amd64.\n",
            "Preparing to unpack .../142-va-driver-all_1.8.3-2_amd64.deb ...\n",
            "Unpacking va-driver-all:amd64 (1.8.3-2) ...\n",
            "Selecting previously unselected package vdpau-driver-all:amd64.\n",
            "Preparing to unpack .../143-vdpau-driver-all_1.1.1-3ubuntu1_amd64.deb ...\n",
            "Unpacking vdpau-driver-all:amd64 (1.1.1-3ubuntu1) ...\n",
            "Selecting previously unselected package x264.\n",
            "Preparing to unpack .../144-x264_2%3a0.148.2795+gitaaa9aa8-1_amd64.deb ...\n",
            "Unpacking x264 (2:0.148.2795+gitaaa9aa8-1) ...\n",
            "Selecting previously unselected package libtxc-dxtn-s2tc:amd64.\n",
            "Preparing to unpack .../145-libtxc-dxtn-s2tc_1.0+git20151227-2_amd64.deb ...\n",
            "Unpacking libtxc-dxtn-s2tc:amd64 (1.0+git20151227-2) ...\n",
            "Setting up libxi6:amd64 (2:1.7.9-1) ...\n",
            "Setting up libxcb-present0:amd64 (1.12-1ubuntu1) ...\n",
            "Setting up libxinerama1:amd64 (2:1.1.3-1) ...\n",
            "Setting up libxcb-dri2-0:amd64 (1.12-1ubuntu1) ...\n",
            "Setting up libxcb-dri3-0:amd64 (1.12-1ubuntu1) ...\n",
            "Setting up libxcb-glx0:amd64 (1.12-1ubuntu1) ...\n",
            "Setting up libtwolame0:amd64 (0.3.13-2) ...\n",
            "Setting up libraw1394-11:amd64 (2.1.2-1) ...\n",
            "Setting up libxcb-xfixes0:amd64 (1.12-1ubuntu1) ...\n",
            "Setting up libxcb-render0:amd64 (1.12-1ubuntu1) ...\n",
            "Setting up libopenjp2-7:amd64 (2.2.0-1) ...\n",
            "Setting up libasyncns0:amd64 (0.8-6) ...\n",
            "Setting up libcdio13:amd64 (0.83-4.2ubuntu1) ...\n",
            "Setting up libx264-148:amd64 (2:0.148.2795+gitaaa9aa8-1) ...\n",
            "Setting up libxdamage1:amd64 (1:1.1.4-3) ...\n",
            "Setting up libxfixes3:amd64 (1:5.0.3-1) ...\n",
            "Setting up libwavpack1:amd64 (5.1.0-2ubuntu0.3) ...\n",
            "Setting up libaacs0:amd64 (0.9.0-1) ...\n",
            "Setting up libnuma1:amd64 (2.0.11-2.1) ...\n",
            "Setting up libtbb2:amd64 (2017~U7-6) ...\n",
            "Setting up libelf1:amd64 (0.170-0.1) ...\n",
            "Setting up libcdio-cdda1:amd64 (0.83-4.2ubuntu1) ...\n",
            "Setting up libsoxr0:amd64 (0.1.2-2) ...\n",
            "Setting up libssh-gcrypt-4:amd64 (0.7.5-1) ...\n",
            "Setting up libasound2-data (1.1.3-5) ...\n",
            "Setting up libxshmfence1:amd64 (1.2-1) ...\n",
            "Setting up libwayland-client0:amd64 (1.14.0-1ubuntu0.1) ...\n",
            "Setting up xkb-data (2.19-1.1ubuntu1) ...\n",
            "Setting up libcapnp-0.5.3:amd64 (0.5.3-2ubuntu2) ...\n",
            "Setting up libbluray2:amd64 (1:1.0.1.deb1-2) ...\n",
            "Setting up libvdpau1:amd64 (1.1.1-3ubuntu1) ...\n",
            "Setting up libllvm5.0:amd64 (1:5.0-3) ...\n",
            "Setting up libshine3:amd64 (3.1.1-1) ...\n",
            "Setting up libtxc-dxtn-s2tc:amd64 (1.0+git20151227-2) ...\n",
            "update-alternatives: using /usr/lib/x86_64-linux-gnu/s2tc/libtxc_dxtn.so to provide /usr/lib/x86_64-linux-gnu/libtxc_dxtn.so (libtxc-dxtn-x86_64-linux-gnu) in auto mode\n",
            "Setting up libiec61883-0:amd64 (1.2.0-2) ...\n",
            "Setting up libglapi-mesa:amd64 (17.2.8-0ubuntu0~17.10.1) ...\n",
            "Setting up libspeex1:amd64 (1.2~rc1.2-1ubuntu1) ...\n",
            "Setting up libfftw3-double3:amd64 (3.3.6p2-1) ...\n",
            "Setting up libxvidcore4:amd64 (2:1.3.4-1) ...\n",
            "Setting up libvpx4:amd64 (1.6.1-3) ...\n",
            "Setting up libopus0:amd64 (1.1.2-1ubuntu1) ...\n",
            "Setting up libva1:amd64 (1.8.3-2) ...\n",
            "Setting up libasound2:amd64 (1.1.3-5) ...\n",
            "Setting up libopenal-data (1:1.17.2-4) ...\n",
            "Setting up libdrm-common (2.4.83-1) ...\n",
            "Setting up libgraphite2-3:amd64 (1.3.10-2) ...\n",
            "Setting up libbs2b0:amd64 (3.1.0+dfsg-2.2) ...\n",
            "Setting up libxcb-sync1:amd64 (1.12-1ubuntu1) ...\n",
            "Setting up libogg0:amd64 (1.3.2-1) ...\n",
            "Setting up libx11-xcb1:amd64 (2:1.6.4-3) ...\n",
            "Setting up libpixman-1-0:amd64 (0.34.0-1) ...\n",
            "Setting up libmp3lame0:amd64 (3.99.5+repack1-9build1) ...\n",
            "Setting up libxcursor1:amd64 (1:1.1.14-3ubuntu0.1) ...\n",
            "Setting up libusb-1.0-0:amd64 (2:1.0.21-2) ...\n",
            "Setting up libcrystalhd3:amd64 (1:0.0~git20110715.fdd2f19-12) ...\n",
            "Processing triggers for libc-bin (2.26-0ubuntu2.1) ...\n",
            "Setting up libapparmor1:amd64 (2.11.0-2ubuntu17.1) ...\n",
            "Setting up libsnappy1v5:amd64 (1.1.6-4) ...\n",
            "Setting up libavc1394-0:amd64 (0.5.4-4) ...\n",
            "Setting up libx265-130:amd64 (2.5-2) ...\n",
            "Setting up libzvbi-common (0.2.35-13) ...\n",
            "Setting up libfribidi0:amd64 (0.19.7-1) ...\n",
            "Setting up libxcb-shm0:amd64 (1.12-1ubuntu1) ...\n",
            "Setting up libxcb-shape0:amd64 (1.12-1ubuntu1) ...\n",
            "Setting up libpciaccess0:amd64 (0.13.4-1ubuntu1) ...\n",
            "Setting up libxv1:amd64 (2:1.0.11-1) ...\n",
            "Setting up libsensors4:amd64 (1:3.4.0-4) ...\n",
            "Setting up libxkbcommon0:amd64 (0.7.1-2) ...\n",
            "Setting up libcdio-paranoia1:amd64 (0.83-4.2ubuntu1) ...\n",
            "Setting up libgme0:amd64 (0.6.1-1) ...\n",
            "Setting up libbdplus0:amd64 (0.1.2-2) ...\n",
            "Setting up libxxf86vm1:amd64 (1:1.1.4-1) ...\n",
            "Setting up libzvbi0:amd64 (0.2.35-13) ...\n",
            "Setting up libsamplerate0:amd64 (0.1.9-1) ...\n",
            "Setting up libsndio6.1:amd64 (1.1.0-3) ...\n",
            "Setting up libvorbis0a:amd64 (1.3.5-4ubuntu0.2) ...\n"
          ],
          "name": "stdout"
        },
        {
          "output_type": "stream",
          "text": [
            "Setting up libprotobuf-lite10:amd64 (3.0.0-9ubuntu5) ...\r\n",
            "Setting up libmpg123-0:amd64 (1.25.6-1) ...\r\n",
            "Setting up libslang2:amd64 (2.3.1-5ubuntu1) ...\n",
            "Setting up libwayland-cursor0:amd64 (1.14.0-1ubuntu0.1) ...\n",
            "Setting up libgsm1:amd64 (1.0.13-4) ...\n",
            "Setting up libxrandr2:amd64 (2:1.5.1-1) ...\n",
            "Setting up libdbus-1-3:amd64 (1.10.22-1ubuntu1) ...\n",
            "Setting up libboost-system1.62.0:amd64 (1.62.0+dfsg-4build3) ...\n",
            "Setting up libwrap0:amd64 (7.6.q-26) ...\n",
            "Setting up libwayland-server0:amd64 (1.14.0-1ubuntu0.1) ...\n",
            "Setting up libwebp6:amd64 (0.6.0-3) ...\n",
            "Setting up libvorbisfile3:amd64 (1.3.5-4ubuntu0.2) ...\n",
            "Setting up libx264-dev:amd64 (2:0.148.2795+gitaaa9aa8-1) ...\n",
            "Setting up libcairo2:amd64 (1.14.10-1ubuntu1) ...\n",
            "Setting up libopencv-core3.1:amd64 (3.1.0+dfsg1-1~exp1ubuntu3) ...\n",
            "Setting up libopenmpt0:amd64 (0.2.8760~beta27-1) ...\n",
            "Setting up libmirprotobuf3:amd64 (0.28.0+17.10.20171011.1-0ubuntu1) ...\n",
            "Setting up libflite1:amd64 (2.0.0-release-4) ...\n",
            "Setting up libflac8:amd64 (1.3.2-1) ...\n",
            "Setting up libharfbuzz0b:amd64 (1.4.2-1) ...\n",
            "Setting up libdc1394-22:amd64 (2.2.5-1) ...\n",
            "Setting up tcpd (7.6.q-26) ...\n",
            "Setting up libdrm2:amd64 (2.4.83-1) ...\n",
            "Setting up libdrm-intel1:amd64 (2.4.83-1) ...\n",
            "Setting up libwebpmux3:amd64 (0.6.0-3) ...\n",
            "Setting up libopencv-imgproc3.1:amd64 (3.1.0+dfsg1-1~exp1ubuntu3) ...\n",
            "Setting up libboost-filesystem1.62.0:amd64 (1.62.0+dfsg-4build3) ...\n",
            "Setting up libjack-jackd2-0:amd64 (1.9.10+20150825git1ed50c92~dfsg-5ubuntu1) ...\n",
            "Setting up libopenal1:amd64 (1:1.17.2-4) ...\n",
            "Setting up libva-drm1:amd64 (1.8.3-2) ...\n",
            "Setting up libdrm-radeon1:amd64 (2.4.83-1) ...\n",
            "Setting up librubberband2v5:amd64 (1.8.1-6ubuntu2) ...\n",
            "Setting up dbus (1.10.22-1ubuntu1) ...\n",
            "Setting up libvorbisenc2:amd64 (1.3.5-4ubuntu0.2) ...\n",
            "Setting up libdrm-nouveau2:amd64 (2.4.83-1) ...\n",
            "Setting up libcaca0:amd64 (0.99.beta19-2build2~gcc5.2) ...\n",
            "Setting up libmircore1:amd64 (0.28.0+17.10.20171011.1-0ubuntu1) ...\n",
            "Setting up libtheora0:amd64 (1.1.1+dfsg.1-14) ...\n",
            "Setting up libva-x11-1:amd64 (1.8.3-2) ...\n",
            "Setting up libavutil55:amd64 (7:3.3.4-2) ...\n",
            "Setting up libdrm-amdgpu1:amd64 (2.4.83-1) ...\n",
            "Setting up mesa-vdpau-drivers:amd64 (17.2.8-0ubuntu0~17.10.1) ...\n",
            "Setting up libgbm1:amd64 (17.2.8-0ubuntu0~17.10.1) ...\n",
            "Setting up libass9:amd64 (1:0.13.7-2) ...\n",
            "Setting up libgl1-mesa-dri:amd64 (17.2.8-0ubuntu0~17.10.1) ...\n",
            "Setting up libswresample2:amd64 (7:3.3.4-2) ...\n",
            "Setting up libsndfile1:amd64 (1.0.28-4) ...\n",
            "Setting up i965-va-driver:amd64 (1.8.3-1ubuntu1) ...\n",
            "Setting up libgl1-mesa-glx:amd64 (17.2.8-0ubuntu0~17.10.1) ...\n",
            "update-alternatives: using /usr/lib/x86_64-linux-gnu/mesa/ld.so.conf to provide /etc/ld.so.conf.d/x86_64-linux-gnu_GL.conf (x86_64-linux-gnu_gl_conf) in auto mode\n",
            "Setting up libswscale4:amd64 (7:3.3.4-2) ...\n",
            "Setting up mesa-va-drivers:amd64 (17.2.8-0ubuntu0~17.10.1) ...\n",
            "Setting up libpostproc54:amd64 (7:3.3.4-2) ...\n",
            "Setting up libmircommon7:amd64 (0.28.0+17.10.20171011.1-0ubuntu1) ...\n",
            "Setting up libglu1-mesa:amd64 (9.0.0-2.1build1) ...\n",
            "Setting up libgpac4:amd64 (0.5.2-426-gc5ad4e4+dfsg5-3) ...\n",
            "Setting up vdpau-driver-all:amd64 (1.1.1-3ubuntu1) ...\n",
            "Setting up libavresample3:amd64 (7:3.3.4-2) ...\n",
            "Setting up libavcodec57:amd64 (7:3.3.4-2) ...\n",
            "Setting up libmirclient9:amd64 (0.28.0+17.10.20171011.1-0ubuntu1) ...\n",
            "Setting up libpulse0:amd64 (1:10.0-2ubuntu3.1) ...\n",
            "Setting up va-driver-all:amd64 (1.8.3-2) ...\n",
            "Setting up libegl1-mesa:amd64 (17.2.8-0ubuntu0~17.10.1) ...\n",
            "update-alternatives: using /usr/lib/x86_64-linux-gnu/mesa-egl/ld.so.conf to provide /etc/ld.so.conf.d/x86_64-linux-gnu_EGL.conf (x86_64-linux-gnu_egl_conf) in auto mode\n",
            "Setting up libchromaprint1:amd64 (1.4.2-1) ...\n",
            "Setting up libwayland-egl1-mesa:amd64 (17.2.8-0ubuntu0~17.10.1) ...\n",
            "Setting up libavformat57:amd64 (7:3.3.4-2) ...\n",
            "Setting up libavfilter6:amd64 (7:3.3.4-2) ...\n",
            "Setting up libffms2-4:amd64 (2.23-1) ...\n",
            "Setting up libsdl2-2.0-0:amd64 (2.0.6+dfsg1-3ubuntu1) ...\n",
            "Setting up libavdevice57:amd64 (7:3.3.4-2) ...\n",
            "Setting up x264 (2:0.148.2795+gitaaa9aa8-1) ...\n",
            "Setting up ffmpeg (7:3.3.4-2) ...\n",
            "Processing triggers for libc-bin (2.26-0ubuntu2.1) ...\n"
          ],
          "name": "stdout"
        }
      ]
    },
    {
      "metadata": {
        "id": "wUB-JDzpfIbd",
        "colab_type": "code",
        "colab": {
          "autoexec": {
            "startup": false,
            "wait_interval": 0
          },
          "base_uri": "https://localhost:8080/",
          "height": 17137
        },
        "outputId": "96f2e1e4-7467-4b60-d859-86d01b4ba220",
        "executionInfo": {
          "status": "ok",
          "timestamp": 1529776913549,
          "user_tz": -330,
          "elapsed": 427034,
          "user": {
            "displayName": "Ankita Bhagat",
            "photoUrl": "//lh5.googleusercontent.com/-hBbQJG3EmsY/AAAAAAAAAAI/AAAAAAAAEMc/8aZlpsJaxOI/s50-c-k-no/photo.jpg",
            "userId": "106932527741563015055"
          }
        }
      },
      "cell_type": "code",
      "source": [
        "!apt-get -qq install -y libsm6 libxext6 && pip install -q -U opencv-python\n",
        "import cv2\n",
        "!pip install -q tqdm\n",
        "from tqdm import tqdm\n",
        "\n",
        "\n",
        "video_inp = 'Input.mp4'\n",
        "video_out = 'Animals_out.avi'\n",
        "\n",
        "video_reader = cv2.VideoCapture(video_inp)\n",
        "\n",
        "nb_frames = int(video_reader.get(cv2.CAP_PROP_FRAME_COUNT))\n",
        "frame_h = int(video_reader.get(cv2.CAP_PROP_FRAME_HEIGHT))\n",
        "frame_w = int(video_reader.get(cv2.CAP_PROP_FRAME_WIDTH))\n",
        "#print(nb_frames)\n",
        "#print(frame_h)\n",
        "#print(frame_w)\n",
        "\n",
        "video_writer = cv2.VideoWriter(video_out,\n",
        "                               cv2.VideoWriter_fourcc(*'XVID'), \n",
        "                               20.0, \n",
        "                               (frame_w, frame_h))\n",
        "\n",
        "for i in tqdm(range(nb_frames)):\n",
        "    ret, image = video_reader.read()\n",
        "    if ret == True:\n",
        "      #preprocessed_input = load_image(image)\n",
        "      #original_input = load_original_image(image)\n",
        "      input_image = ''\n",
        "      input_image = cv2.resize(image, (224, 224))\n",
        "      #input_image = input_image / 255.\n",
        "      input_image = input_image[:,:,::-1]\n",
        "      input_image = np.expand_dims(input_image, 0)\n",
        "      #input_image = preprocess_input(input_image)\n",
        "      #cv2.imwrite('Image' + str(i) + '.jpg',input_image)\n",
        "      predictions = model.predict(input_image)\n",
        "      top_1 = decode_predictions(predictions)[0][0]\n",
        "      print('Predicted class:')\n",
        "      print('%s (%s) with probability %.2f' % (top_1[1], top_1[0], top_1[2]))\n",
        "      \n",
        "      predicted_class = np.argmax(predictions)\n",
        "      \n",
        "      #input_image = np.expand_dims(input_image, 0)\n",
        "      #input_image = input_image / 255.\n",
        "      #input_image = preprocess_input(input_image)\n",
        "      \n",
        "      \n",
        "      \n",
        "      #print(\"preprocess\" + str(i) ,input_image)\n",
        "\n",
        "      #predictions = model.predict([input_image, dummy_array])\n",
        "\n",
        "      #predictions = model.predict(input_image)\n",
        "      #top_1 = decode_predictions(predictions)[0][0]\n",
        "      #print('Predicted class:')\n",
        "      #print('%s (%s) with probability %.2f' % (top_1[1], top_1[0], top_1[2]))\n",
        "\n",
        "      #print(\"predicted_class\", predicted_class)\n",
        "      cam, heatmap = grad_cam(model, input_image, predicted_class, \"block5_conv3\")\n",
        "      cv2.imwrite('Image' + str(i) + '.jpg', cam)\n",
        "      video_writer.write(cam)\n",
        "\n",
        "\"\"\"\n",
        "    boxes = decode_netout(netout[0], \n",
        "                          obj_threshold=0.3,\n",
        "                          nms_threshold=NMS_THRESHOLD,\n",
        "                          anchors=ANCHORS, \n",
        "                          nb_class=CLASS)\n",
        "    image = draw_boxes(image, boxes, labels=LABELS)\n",
        "\"\"\"\n",
        "\n",
        "    \n",
        "    \n",
        "video_reader.release()\n",
        "video_writer.release()"
      ],
      "execution_count": 3,
      "outputs": [
        {
          "output_type": "stream",
          "text": [
            "  0%|          | 1/481 [00:01<11:24,  1.43s/it]"
          ],
          "name": "stderr"
        },
        {
          "output_type": "stream",
          "text": [
            "Predicted class:\n",
            "zebra (n02391049) with probability 0.46\n"
          ],
          "name": "stdout"
        },
        {
          "output_type": "stream",
          "text": [
            "\r  0%|          | 2/481 [00:01<06:30,  1.23it/s]"
          ],
          "name": "stderr"
        },
        {
          "output_type": "stream",
          "text": [
            "Predicted class:\n",
            "zebra (n02391049) with probability 0.55\n",
            "Predicted class:\n",
            "zebra (n02391049) with probability 0.65\n"
          ],
          "name": "stdout"
        },
        {
          "output_type": "stream",
          "text": [
            "  1%|          | 4/481 [00:02<04:04,  1.95it/s]"
          ],
          "name": "stderr"
        },
        {
          "output_type": "stream",
          "text": [
            "Predicted class:\n",
            "zebra (n02391049) with probability 0.46\n"
          ],
          "name": "stdout"
        },
        {
          "output_type": "stream",
          "text": [
            "\r  1%|          | 5/481 [00:02<03:35,  2.21it/s]"
          ],
          "name": "stderr"
        },
        {
          "output_type": "stream",
          "text": [
            "Predicted class:\n",
            "zebra (n02391049) with probability 0.56\n"
          ],
          "name": "stdout"
        },
        {
          "output_type": "stream",
          "text": [
            "\r  1%|          | 6/481 [00:02<03:16,  2.42it/s]"
          ],
          "name": "stderr"
        },
        {
          "output_type": "stream",
          "text": [
            "Predicted class:\n",
            "zebra (n02391049) with probability 0.55\n",
            "Predicted class:\n",
            "zebra (n02391049) with probability 0.68\n"
          ],
          "name": "stdout"
        },
        {
          "output_type": "stream",
          "text": [
            "  2%|▏         | 8/481 [00:03<02:57,  2.66it/s]"
          ],
          "name": "stderr"
        },
        {
          "output_type": "stream",
          "text": [
            "Predicted class:\n",
            "zebra (n02391049) with probability 0.71\n"
          ],
          "name": "stdout"
        },
        {
          "output_type": "stream",
          "text": [
            "\r  2%|▏         | 9/481 [00:03<02:49,  2.79it/s]"
          ],
          "name": "stderr"
        },
        {
          "output_type": "stream",
          "text": [
            "Predicted class:\n",
            "zebra (n02391049) with probability 0.42\n"
          ],
          "name": "stdout"
        },
        {
          "output_type": "stream",
          "text": [
            "\r  2%|▏         | 10/481 [00:03<02:42,  2.90it/s]"
          ],
          "name": "stderr"
        },
        {
          "output_type": "stream",
          "text": [
            "Predicted class:\n",
            "zebra (n02391049) with probability 0.60\n"
          ],
          "name": "stdout"
        },
        {
          "output_type": "stream",
          "text": [
            "\r  2%|▏         | 11/481 [00:03<02:37,  2.99it/s]"
          ],
          "name": "stderr"
        },
        {
          "output_type": "stream",
          "text": [
            "Predicted class:\n",
            "zebra (n02391049) with probability 0.66\n"
          ],
          "name": "stdout"
        },
        {
          "output_type": "stream",
          "text": [
            "\r  2%|▏         | 12/481 [00:03<02:32,  3.07it/s]"
          ],
          "name": "stderr"
        },
        {
          "output_type": "stream",
          "text": [
            "Predicted class:\n",
            "zebra (n02391049) with probability 0.51\n"
          ],
          "name": "stdout"
        },
        {
          "output_type": "stream",
          "text": [
            "\r  3%|▎         | 13/481 [00:04<02:29,  3.13it/s]"
          ],
          "name": "stderr"
        },
        {
          "output_type": "stream",
          "text": [
            "Predicted class:\n",
            "zebra (n02391049) with probability 0.36\n"
          ],
          "name": "stdout"
        },
        {
          "output_type": "stream",
          "text": [
            "\r  3%|▎         | 14/481 [00:04<02:27,  3.17it/s]"
          ],
          "name": "stderr"
        },
        {
          "output_type": "stream",
          "text": [
            "Predicted class:\n",
            "zebra (n02391049) with probability 0.43\n",
            "Predicted class:\n",
            "zebra (n02391049) with probability 0.31\n"
          ],
          "name": "stdout"
        },
        {
          "output_type": "stream",
          "text": [
            "\r  3%|▎         | 15/481 [00:04<02:25,  3.20it/s]"
          ],
          "name": "stderr"
        },
        {
          "output_type": "stream",
          "text": [
            "Predicted class:\n",
            "zebra (n02391049) with probability 0.70\n"
          ],
          "name": "stdout"
        },
        {
          "output_type": "stream",
          "text": [
            "\r  3%|▎         | 16/481 [00:04<02:23,  3.24it/s]"
          ],
          "name": "stderr"
        },
        {
          "output_type": "stream",
          "text": [
            "Predicted class:\n",
            "zebra (n02391049) with probability 0.52\n"
          ],
          "name": "stdout"
        },
        {
          "output_type": "stream",
          "text": [
            "\r  4%|▎         | 17/481 [00:05<02:21,  3.27it/s]"
          ],
          "name": "stderr"
        },
        {
          "output_type": "stream",
          "text": [
            "Predicted class:\n",
            "zebra (n02391049) with probability 0.33\n"
          ],
          "name": "stdout"
        },
        {
          "output_type": "stream",
          "text": [
            "\r  4%|▎         | 18/481 [00:05<02:20,  3.29it/s]"
          ],
          "name": "stderr"
        },
        {
          "output_type": "stream",
          "text": [
            "Predicted class:\n",
            "zebra (n02391049) with probability 0.46\n"
          ],
          "name": "stdout"
        },
        {
          "output_type": "stream",
          "text": [
            "\r  4%|▍         | 19/481 [00:05<02:19,  3.32it/s]"
          ],
          "name": "stderr"
        },
        {
          "output_type": "stream",
          "text": [
            "Predicted class:\n",
            "zebra (n02391049) with probability 0.28\n"
          ],
          "name": "stdout"
        },
        {
          "output_type": "stream",
          "text": [
            "\r  4%|▍         | 20/481 [00:05<02:18,  3.33it/s]"
          ],
          "name": "stderr"
        },
        {
          "output_type": "stream",
          "text": [
            "Predicted class:\n",
            "zebra (n02391049) with probability 0.16\n"
          ],
          "name": "stdout"
        },
        {
          "output_type": "stream",
          "text": [
            "\r  4%|▍         | 21/481 [00:06<02:17,  3.35it/s]"
          ],
          "name": "stderr"
        },
        {
          "output_type": "stream",
          "text": [
            "Predicted class:\n",
            "zebra (n02391049) with probability 0.39\n"
          ],
          "name": "stdout"
        },
        {
          "output_type": "stream",
          "text": [
            "\r  5%|▍         | 22/481 [00:06<02:16,  3.37it/s]"
          ],
          "name": "stderr"
        },
        {
          "output_type": "stream",
          "text": [
            "Predicted class:\n",
            "zebra (n02391049) with probability 0.31\n"
          ],
          "name": "stdout"
        },
        {
          "output_type": "stream",
          "text": [
            "\r  5%|▍         | 23/481 [00:06<02:15,  3.38it/s]"
          ],
          "name": "stderr"
        },
        {
          "output_type": "stream",
          "text": [
            "Predicted class:\n",
            "zebra (n02391049) with probability 0.22\n"
          ],
          "name": "stdout"
        },
        {
          "output_type": "stream",
          "text": [
            "\r  5%|▍         | 24/481 [00:07<02:14,  3.39it/s]"
          ],
          "name": "stderr"
        },
        {
          "output_type": "stream",
          "text": [
            "Predicted class:\n",
            "flatworm (n01924916) with probability 0.20\n"
          ],
          "name": "stdout"
        },
        {
          "output_type": "stream",
          "text": [
            "\r  5%|▌         | 25/481 [00:07<02:13,  3.40it/s]"
          ],
          "name": "stderr"
        },
        {
          "output_type": "stream",
          "text": [
            "Predicted class:\n",
            "flatworm (n01924916) with probability 0.18\n"
          ],
          "name": "stdout"
        },
        {
          "output_type": "stream",
          "text": [
            "\r  5%|▌         | 26/481 [00:07<02:13,  3.42it/s]"
          ],
          "name": "stderr"
        },
        {
          "output_type": "stream",
          "text": [
            "Predicted class:\n",
            "zebra (n02391049) with probability 0.17\n"
          ],
          "name": "stdout"
        },
        {
          "output_type": "stream",
          "text": [
            "\r  6%|▌         | 27/481 [00:07<02:12,  3.43it/s]"
          ],
          "name": "stderr"
        },
        {
          "output_type": "stream",
          "text": [
            "Predicted class:\n",
            "electric_ray (n01496331) with probability 0.13\n"
          ],
          "name": "stdout"
        },
        {
          "output_type": "stream",
          "text": [
            "\r  6%|▌         | 28/481 [00:08<02:12,  3.43it/s]"
          ],
          "name": "stderr"
        },
        {
          "output_type": "stream",
          "text": [
            "Predicted class:\n",
            "hippopotamus (n02398521) with probability 0.17\n"
          ],
          "name": "stdout"
        },
        {
          "output_type": "stream",
          "text": [
            "\r  6%|▌         | 29/481 [00:08<02:11,  3.43it/s]"
          ],
          "name": "stderr"
        },
        {
          "output_type": "stream",
          "text": [
            "Predicted class:\n",
            "tiger (n02129604) with probability 0.18\n"
          ],
          "name": "stdout"
        },
        {
          "output_type": "stream",
          "text": [
            "\r  6%|▌         | 30/481 [00:08<02:11,  3.44it/s]"
          ],
          "name": "stderr"
        },
        {
          "output_type": "stream",
          "text": [
            "Predicted class:\n",
            "electric_ray (n01496331) with probability 0.15\n"
          ],
          "name": "stdout"
        },
        {
          "output_type": "stream",
          "text": [
            "\r  6%|▋         | 31/481 [00:09<02:10,  3.44it/s]"
          ],
          "name": "stderr"
        },
        {
          "output_type": "stream",
          "text": [
            "Predicted class:\n",
            "electric_ray (n01496331) with probability 0.17\n"
          ],
          "name": "stdout"
        },
        {
          "output_type": "stream",
          "text": [
            "\r  7%|▋         | 32/481 [00:09<02:10,  3.44it/s]"
          ],
          "name": "stderr"
        },
        {
          "output_type": "stream",
          "text": [
            "Predicted class:\n",
            "electric_ray (n01496331) with probability 0.15\n"
          ],
          "name": "stdout"
        },
        {
          "output_type": "stream",
          "text": [
            "\r  7%|▋         | 33/481 [00:09<02:10,  3.44it/s]"
          ],
          "name": "stderr"
        },
        {
          "output_type": "stream",
          "text": [
            "Predicted class:\n",
            "tiger (n02129604) with probability 0.17\n"
          ],
          "name": "stdout"
        },
        {
          "output_type": "stream",
          "text": [
            "\r  7%|▋         | 34/481 [00:09<02:09,  3.44it/s]"
          ],
          "name": "stderr"
        },
        {
          "output_type": "stream",
          "text": [
            "Predicted class:\n",
            "tiger (n02129604) with probability 0.17\n"
          ],
          "name": "stdout"
        },
        {
          "output_type": "stream",
          "text": [
            "\r  7%|▋         | 35/481 [00:10<02:09,  3.44it/s]"
          ],
          "name": "stderr"
        },
        {
          "output_type": "stream",
          "text": [
            "Predicted class:\n",
            "tiger (n02129604) with probability 0.11\n"
          ],
          "name": "stdout"
        },
        {
          "output_type": "stream",
          "text": [
            "\r  7%|▋         | 36/481 [00:10<02:09,  3.44it/s]"
          ],
          "name": "stderr"
        },
        {
          "output_type": "stream",
          "text": [
            "Predicted class:\n",
            "electric_ray (n01496331) with probability 0.15\n"
          ],
          "name": "stdout"
        },
        {
          "output_type": "stream",
          "text": [
            "\r  8%|▊         | 37/481 [00:10<02:08,  3.44it/s]"
          ],
          "name": "stderr"
        },
        {
          "output_type": "stream",
          "text": [
            "Predicted class:\n",
            "electric_ray (n01496331) with probability 0.12\n"
          ],
          "name": "stdout"
        },
        {
          "output_type": "stream",
          "text": [
            "\r  8%|▊         | 38/481 [00:11<02:08,  3.44it/s]"
          ],
          "name": "stderr"
        },
        {
          "output_type": "stream",
          "text": [
            "Predicted class:\n",
            "tiger (n02129604) with probability 0.14\n"
          ],
          "name": "stdout"
        },
        {
          "output_type": "stream",
          "text": [
            "\r  8%|▊         | 39/481 [00:11<02:09,  3.42it/s]"
          ],
          "name": "stderr"
        },
        {
          "output_type": "stream",
          "text": [
            "Predicted class:\n",
            "tiger (n02129604) with probability 0.17\n"
          ],
          "name": "stdout"
        },
        {
          "output_type": "stream",
          "text": [
            "\r  8%|▊         | 40/481 [00:11<02:09,  3.42it/s]"
          ],
          "name": "stderr"
        },
        {
          "output_type": "stream",
          "text": [
            "Predicted class:\n",
            "tiger (n02129604) with probability 0.25\n"
          ],
          "name": "stdout"
        },
        {
          "output_type": "stream",
          "text": [
            "\r  9%|▊         | 41/481 [00:12<02:08,  3.41it/s]"
          ],
          "name": "stderr"
        },
        {
          "output_type": "stream",
          "text": [
            "Predicted class:\n",
            "electric_ray (n01496331) with probability 0.13\n"
          ],
          "name": "stdout"
        },
        {
          "output_type": "stream",
          "text": [
            "\r  9%|▊         | 42/481 [00:12<02:08,  3.41it/s]"
          ],
          "name": "stderr"
        },
        {
          "output_type": "stream",
          "text": [
            "Predicted class:\n",
            "electric_ray (n01496331) with probability 0.13\n"
          ],
          "name": "stdout"
        },
        {
          "output_type": "stream",
          "text": [
            "\r  9%|▉         | 43/481 [00:12<02:08,  3.41it/s]"
          ],
          "name": "stderr"
        },
        {
          "output_type": "stream",
          "text": [
            "Predicted class:\n",
            "tiger (n02129604) with probability 0.14\n"
          ],
          "name": "stdout"
        },
        {
          "output_type": "stream",
          "text": [
            "\r  9%|▉         | 44/481 [00:12<02:08,  3.40it/s]"
          ],
          "name": "stderr"
        },
        {
          "output_type": "stream",
          "text": [
            "Predicted class:\n",
            "tiger (n02129604) with probability 0.20\n"
          ],
          "name": "stdout"
        },
        {
          "output_type": "stream",
          "text": [
            "\r  9%|▉         | 45/481 [00:13<02:08,  3.39it/s]"
          ],
          "name": "stderr"
        },
        {
          "output_type": "stream",
          "text": [
            "Predicted class:\n",
            "flatworm (n01924916) with probability 0.24\n"
          ],
          "name": "stdout"
        },
        {
          "output_type": "stream",
          "text": [
            "\r 10%|▉         | 46/481 [00:13<02:08,  3.39it/s]"
          ],
          "name": "stderr"
        },
        {
          "output_type": "stream",
          "text": [
            "Predicted class:\n",
            "zebra (n02391049) with probability 0.20\n"
          ],
          "name": "stdout"
        },
        {
          "output_type": "stream",
          "text": [
            "\r 10%|▉         | 47/481 [00:13<02:08,  3.39it/s]"
          ],
          "name": "stderr"
        },
        {
          "output_type": "stream",
          "text": [
            "Predicted class:\n",
            "tiger (n02129604) with probability 0.32\n"
          ],
          "name": "stdout"
        },
        {
          "output_type": "stream",
          "text": [
            "\r 10%|▉         | 48/481 [00:14<02:08,  3.38it/s]"
          ],
          "name": "stderr"
        },
        {
          "output_type": "stream",
          "text": [
            "Predicted class:\n",
            "tiger (n02129604) with probability 0.14\n"
          ],
          "name": "stdout"
        },
        {
          "output_type": "stream",
          "text": [
            "\r 10%|█         | 49/481 [00:14<02:08,  3.37it/s]"
          ],
          "name": "stderr"
        },
        {
          "output_type": "stream",
          "text": [
            "Predicted class:\n",
            "tiger (n02129604) with probability 0.19\n"
          ],
          "name": "stdout"
        },
        {
          "output_type": "stream",
          "text": [
            "\r 10%|█         | 50/481 [00:14<02:08,  3.37it/s]"
          ],
          "name": "stderr"
        },
        {
          "output_type": "stream",
          "text": [
            "Predicted class:\n",
            "zebra (n02391049) with probability 0.12\n"
          ],
          "name": "stdout"
        },
        {
          "output_type": "stream",
          "text": [
            "\r 11%|█         | 51/481 [00:15<02:08,  3.36it/s]"
          ],
          "name": "stderr"
        },
        {
          "output_type": "stream",
          "text": [
            "Predicted class:\n",
            "zebra (n02391049) with probability 0.15\n"
          ],
          "name": "stdout"
        },
        {
          "output_type": "stream",
          "text": [
            "\r 11%|█         | 52/481 [00:15<02:08,  3.35it/s]"
          ],
          "name": "stderr"
        },
        {
          "output_type": "stream",
          "text": [
            "Predicted class:\n",
            "zebra (n02391049) with probability 0.16\n"
          ],
          "name": "stdout"
        },
        {
          "output_type": "stream",
          "text": [
            "\r 11%|█         | 53/481 [00:15<02:07,  3.34it/s]"
          ],
          "name": "stderr"
        },
        {
          "output_type": "stream",
          "text": [
            "Predicted class:\n",
            "zebra (n02391049) with probability 0.30\n"
          ],
          "name": "stdout"
        },
        {
          "output_type": "stream",
          "text": [
            "\r 11%|█         | 54/481 [00:16<02:07,  3.34it/s]"
          ],
          "name": "stderr"
        },
        {
          "output_type": "stream",
          "text": [
            "Predicted class:\n",
            "zebra (n02391049) with probability 0.47\n"
          ],
          "name": "stdout"
        },
        {
          "output_type": "stream",
          "text": [
            "\r 11%|█▏        | 55/481 [00:16<02:07,  3.33it/s]"
          ],
          "name": "stderr"
        },
        {
          "output_type": "stream",
          "text": [
            "Predicted class:\n",
            "zebra (n02391049) with probability 0.20\n"
          ],
          "name": "stdout"
        },
        {
          "output_type": "stream",
          "text": [
            "\r 12%|█▏        | 56/481 [00:16<02:07,  3.32it/s]"
          ],
          "name": "stderr"
        },
        {
          "output_type": "stream",
          "text": [
            "Predicted class:\n",
            "zebra (n02391049) with probability 0.24\n"
          ],
          "name": "stdout"
        },
        {
          "output_type": "stream",
          "text": [
            "\r 12%|█▏        | 57/481 [00:17<02:07,  3.32it/s]"
          ],
          "name": "stderr"
        },
        {
          "output_type": "stream",
          "text": [
            "Predicted class:\n",
            "zebra (n02391049) with probability 0.37\n"
          ],
          "name": "stdout"
        },
        {
          "output_type": "stream",
          "text": [
            "\r 12%|█▏        | 58/481 [00:17<02:07,  3.31it/s]"
          ],
          "name": "stderr"
        },
        {
          "output_type": "stream",
          "text": [
            "Predicted class:\n",
            "zebra (n02391049) with probability 0.44\n"
          ],
          "name": "stdout"
        },
        {
          "output_type": "stream",
          "text": [
            "\r 12%|█▏        | 59/481 [00:17<02:07,  3.30it/s]"
          ],
          "name": "stderr"
        },
        {
          "output_type": "stream",
          "text": [
            "Predicted class:\n",
            "zebra (n02391049) with probability 0.50\n"
          ],
          "name": "stdout"
        },
        {
          "output_type": "stream",
          "text": [
            "\r 12%|█▏        | 60/481 [00:18<02:07,  3.29it/s]"
          ],
          "name": "stderr"
        },
        {
          "output_type": "stream",
          "text": [
            "Predicted class:\n",
            "zebra (n02391049) with probability 0.52\n"
          ],
          "name": "stdout"
        },
        {
          "output_type": "stream",
          "text": [
            "\r 13%|█▎        | 61/481 [00:18<02:07,  3.29it/s]"
          ],
          "name": "stderr"
        },
        {
          "output_type": "stream",
          "text": [
            "Predicted class:\n",
            "zebra (n02391049) with probability 0.51\n"
          ],
          "name": "stdout"
        },
        {
          "output_type": "stream",
          "text": [
            "\r 13%|█▎        | 62/481 [00:18<02:07,  3.28it/s]"
          ],
          "name": "stderr"
        },
        {
          "output_type": "stream",
          "text": [
            "Predicted class:\n",
            "zebra (n02391049) with probability 0.40\n"
          ],
          "name": "stdout"
        },
        {
          "output_type": "stream",
          "text": [
            "\r 13%|█▎        | 63/481 [00:19<02:07,  3.27it/s]"
          ],
          "name": "stderr"
        },
        {
          "output_type": "stream",
          "text": [
            "Predicted class:\n",
            "zebra (n02391049) with probability 0.56\n"
          ],
          "name": "stdout"
        },
        {
          "output_type": "stream",
          "text": [
            "\r 13%|█▎        | 64/481 [00:19<02:07,  3.26it/s]"
          ],
          "name": "stderr"
        },
        {
          "output_type": "stream",
          "text": [
            "Predicted class:\n",
            "zebra (n02391049) with probability 0.58\n"
          ],
          "name": "stdout"
        },
        {
          "output_type": "stream",
          "text": [
            "\r 14%|█▎        | 65/481 [00:19<02:07,  3.25it/s]"
          ],
          "name": "stderr"
        },
        {
          "output_type": "stream",
          "text": [
            "Predicted class:\n",
            "zebra (n02391049) with probability 0.43\n"
          ],
          "name": "stdout"
        },
        {
          "output_type": "stream",
          "text": [
            "\r 14%|█▎        | 66/481 [00:20<02:07,  3.24it/s]"
          ],
          "name": "stderr"
        },
        {
          "output_type": "stream",
          "text": [
            "Predicted class:\n",
            "zebra (n02391049) with probability 0.69\n"
          ],
          "name": "stdout"
        },
        {
          "output_type": "stream",
          "text": [
            "\r 14%|█▍        | 67/481 [00:20<02:07,  3.24it/s]"
          ],
          "name": "stderr"
        },
        {
          "output_type": "stream",
          "text": [
            "Predicted class:\n",
            "zebra (n02391049) with probability 0.64\n"
          ],
          "name": "stdout"
        },
        {
          "output_type": "stream",
          "text": [
            "\r 14%|█▍        | 68/481 [00:21<02:07,  3.23it/s]"
          ],
          "name": "stderr"
        },
        {
          "output_type": "stream",
          "text": [
            "Predicted class:\n",
            "zebra (n02391049) with probability 0.73\n"
          ],
          "name": "stdout"
        },
        {
          "output_type": "stream",
          "text": [
            "\r 14%|█▍        | 69/481 [00:21<02:07,  3.22it/s]"
          ],
          "name": "stderr"
        },
        {
          "output_type": "stream",
          "text": [
            "Predicted class:\n",
            "zebra (n02391049) with probability 0.60\n"
          ],
          "name": "stdout"
        },
        {
          "output_type": "stream",
          "text": [
            "\r 15%|█▍        | 70/481 [00:21<02:07,  3.21it/s]"
          ],
          "name": "stderr"
        },
        {
          "output_type": "stream",
          "text": [
            "Predicted class:\n",
            "zebra (n02391049) with probability 0.61\n"
          ],
          "name": "stdout"
        },
        {
          "output_type": "stream",
          "text": [
            "\r 15%|█▍        | 71/481 [00:22<02:08,  3.19it/s]"
          ],
          "name": "stderr"
        },
        {
          "output_type": "stream",
          "text": [
            "Predicted class:\n",
            "zebra (n02391049) with probability 0.55\n"
          ],
          "name": "stdout"
        },
        {
          "output_type": "stream",
          "text": [
            "\r 15%|█▍        | 72/481 [00:22<02:08,  3.18it/s]"
          ],
          "name": "stderr"
        },
        {
          "output_type": "stream",
          "text": [
            "Predicted class:\n",
            "zebra (n02391049) with probability 0.40\n"
          ],
          "name": "stdout"
        },
        {
          "output_type": "stream",
          "text": [
            "\r 15%|█▌        | 73/481 [00:23<02:08,  3.17it/s]"
          ],
          "name": "stderr"
        },
        {
          "output_type": "stream",
          "text": [
            "Predicted class:\n",
            "flatworm (n01924916) with probability 0.53\n"
          ],
          "name": "stdout"
        },
        {
          "output_type": "stream",
          "text": [
            "\r 15%|█▌        | 74/481 [00:23<02:08,  3.16it/s]"
          ],
          "name": "stderr"
        },
        {
          "output_type": "stream",
          "text": [
            "Predicted class:\n",
            "flatworm (n01924916) with probability 0.39\n"
          ],
          "name": "stdout"
        },
        {
          "output_type": "stream",
          "text": [
            "\r 16%|█▌        | 75/481 [00:23<02:08,  3.15it/s]"
          ],
          "name": "stderr"
        },
        {
          "output_type": "stream",
          "text": [
            "Predicted class:\n",
            "flatworm (n01924916) with probability 0.52\n"
          ],
          "name": "stdout"
        },
        {
          "output_type": "stream",
          "text": [
            "\r 16%|█▌        | 76/481 [00:24<02:08,  3.14it/s]"
          ],
          "name": "stderr"
        },
        {
          "output_type": "stream",
          "text": [
            "Predicted class:\n",
            "flatworm (n01924916) with probability 0.51\n"
          ],
          "name": "stdout"
        },
        {
          "output_type": "stream",
          "text": [
            "\r 16%|█▌        | 77/481 [00:24<02:08,  3.13it/s]"
          ],
          "name": "stderr"
        },
        {
          "output_type": "stream",
          "text": [
            "Predicted class:\n",
            "zebra (n02391049) with probability 0.48\n"
          ],
          "name": "stdout"
        },
        {
          "output_type": "stream",
          "text": [
            "\r 16%|█▌        | 78/481 [00:24<02:08,  3.12it/s]"
          ],
          "name": "stderr"
        },
        {
          "output_type": "stream",
          "text": [
            "Predicted class:\n",
            "zebra (n02391049) with probability 0.69\n"
          ],
          "name": "stdout"
        },
        {
          "output_type": "stream",
          "text": [
            "\r 16%|█▋        | 79/481 [00:25<02:09,  3.12it/s]"
          ],
          "name": "stderr"
        },
        {
          "output_type": "stream",
          "text": [
            "Predicted class:\n",
            "zebra (n02391049) with probability 0.75\n"
          ],
          "name": "stdout"
        },
        {
          "output_type": "stream",
          "text": [
            "\r 17%|█▋        | 80/481 [00:25<02:09,  3.11it/s]"
          ],
          "name": "stderr"
        },
        {
          "output_type": "stream",
          "text": [
            "Predicted class:\n",
            "zebra (n02391049) with probability 0.83\n"
          ],
          "name": "stdout"
        },
        {
          "output_type": "stream",
          "text": [
            "\r 17%|█▋        | 81/481 [00:26<02:09,  3.10it/s]"
          ],
          "name": "stderr"
        },
        {
          "output_type": "stream",
          "text": [
            "Predicted class:\n",
            "zebra (n02391049) with probability 0.82\n"
          ],
          "name": "stdout"
        },
        {
          "output_type": "stream",
          "text": [
            "\r 17%|█▋        | 82/481 [00:26<02:09,  3.09it/s]"
          ],
          "name": "stderr"
        },
        {
          "output_type": "stream",
          "text": [
            "Predicted class:\n",
            "zebra (n02391049) with probability 0.72\n"
          ],
          "name": "stdout"
        },
        {
          "output_type": "stream",
          "text": [
            "\r 17%|█▋        | 83/481 [00:26<02:09,  3.08it/s]"
          ],
          "name": "stderr"
        },
        {
          "output_type": "stream",
          "text": [
            "Predicted class:\n",
            "zebra (n02391049) with probability 0.88\n"
          ],
          "name": "stdout"
        },
        {
          "output_type": "stream",
          "text": [
            "\r 17%|█▋        | 84/481 [00:27<02:09,  3.07it/s]"
          ],
          "name": "stderr"
        },
        {
          "output_type": "stream",
          "text": [
            "Predicted class:\n",
            "zebra (n02391049) with probability 0.79\n"
          ],
          "name": "stdout"
        },
        {
          "output_type": "stream",
          "text": [
            "\r 18%|█▊        | 85/481 [00:27<02:09,  3.06it/s]"
          ],
          "name": "stderr"
        },
        {
          "output_type": "stream",
          "text": [
            "Predicted class:\n",
            "zebra (n02391049) with probability 0.84\n"
          ],
          "name": "stdout"
        },
        {
          "output_type": "stream",
          "text": [
            "\r 18%|█▊        | 86/481 [00:28<02:09,  3.06it/s]"
          ],
          "name": "stderr"
        },
        {
          "output_type": "stream",
          "text": [
            "Predicted class:\n",
            "zebra (n02391049) with probability 0.85\n"
          ],
          "name": "stdout"
        },
        {
          "output_type": "stream",
          "text": [
            "\r 18%|█▊        | 87/481 [00:28<02:09,  3.05it/s]"
          ],
          "name": "stderr"
        },
        {
          "output_type": "stream",
          "text": [
            "Predicted class:\n",
            "zebra (n02391049) with probability 0.80\n"
          ],
          "name": "stdout"
        },
        {
          "output_type": "stream",
          "text": [
            "\r 18%|█▊        | 88/481 [00:28<02:09,  3.04it/s]"
          ],
          "name": "stderr"
        },
        {
          "output_type": "stream",
          "text": [
            "Predicted class:\n",
            "zebra (n02391049) with probability 0.82\n"
          ],
          "name": "stdout"
        },
        {
          "output_type": "stream",
          "text": [
            "\r 19%|█▊        | 89/481 [00:29<02:09,  3.03it/s]"
          ],
          "name": "stderr"
        },
        {
          "output_type": "stream",
          "text": [
            "Predicted class:\n",
            "zebra (n02391049) with probability 0.74\n"
          ],
          "name": "stdout"
        },
        {
          "output_type": "stream",
          "text": [
            "\r 19%|█▊        | 90/481 [00:29<02:09,  3.02it/s]"
          ],
          "name": "stderr"
        },
        {
          "output_type": "stream",
          "text": [
            "Predicted class:\n",
            "zebra (n02391049) with probability 0.75\n"
          ],
          "name": "stdout"
        },
        {
          "output_type": "stream",
          "text": [
            "\r 19%|█▉        | 91/481 [00:30<02:09,  3.01it/s]"
          ],
          "name": "stderr"
        },
        {
          "output_type": "stream",
          "text": [
            "Predicted class:\n",
            "zebra (n02391049) with probability 0.70\n"
          ],
          "name": "stdout"
        },
        {
          "output_type": "stream",
          "text": [
            "\r 19%|█▉        | 92/481 [00:30<02:09,  3.00it/s]"
          ],
          "name": "stderr"
        },
        {
          "output_type": "stream",
          "text": [
            "Predicted class:\n",
            "zebra (n02391049) with probability 0.74\n"
          ],
          "name": "stdout"
        },
        {
          "output_type": "stream",
          "text": [
            "\r 19%|█▉        | 93/481 [00:31<02:09,  2.99it/s]"
          ],
          "name": "stderr"
        },
        {
          "output_type": "stream",
          "text": [
            "Predicted class:\n",
            "zebra (n02391049) with probability 0.80\n"
          ],
          "name": "stdout"
        },
        {
          "output_type": "stream",
          "text": [
            "\r 20%|█▉        | 94/481 [00:31<02:09,  2.98it/s]"
          ],
          "name": "stderr"
        },
        {
          "output_type": "stream",
          "text": [
            "Predicted class:\n",
            "zebra (n02391049) with probability 0.83\n"
          ],
          "name": "stdout"
        },
        {
          "output_type": "stream",
          "text": [
            "\r 20%|█▉        | 95/481 [00:31<02:09,  2.97it/s]"
          ],
          "name": "stderr"
        },
        {
          "output_type": "stream",
          "text": [
            "Predicted class:\n",
            "zebra (n02391049) with probability 0.85\n"
          ],
          "name": "stdout"
        },
        {
          "output_type": "stream",
          "text": [
            "\r 20%|█▉        | 96/481 [00:32<02:09,  2.96it/s]"
          ],
          "name": "stderr"
        },
        {
          "output_type": "stream",
          "text": [
            "Predicted class:\n",
            "zebra (n02391049) with probability 0.87\n"
          ],
          "name": "stdout"
        },
        {
          "output_type": "stream",
          "text": [
            "\r 20%|██        | 97/481 [00:32<02:10,  2.95it/s]"
          ],
          "name": "stderr"
        },
        {
          "output_type": "stream",
          "text": [
            "Predicted class:\n",
            "zebra (n02391049) with probability 0.89\n"
          ],
          "name": "stdout"
        },
        {
          "output_type": "stream",
          "text": [
            "\r 20%|██        | 98/481 [00:33<02:10,  2.94it/s]"
          ],
          "name": "stderr"
        },
        {
          "output_type": "stream",
          "text": [
            "Predicted class:\n",
            "zebra (n02391049) with probability 0.85\n"
          ],
          "name": "stdout"
        },
        {
          "output_type": "stream",
          "text": [
            "\r 21%|██        | 99/481 [00:33<02:10,  2.93it/s]"
          ],
          "name": "stderr"
        },
        {
          "output_type": "stream",
          "text": [
            "Predicted class:\n",
            "zebra (n02391049) with probability 0.93\n"
          ],
          "name": "stdout"
        },
        {
          "output_type": "stream",
          "text": [
            "\r 21%|██        | 100/481 [00:34<02:10,  2.92it/s]"
          ],
          "name": "stderr"
        },
        {
          "output_type": "stream",
          "text": [
            "Predicted class:\n",
            "zebra (n02391049) with probability 0.92\n"
          ],
          "name": "stdout"
        },
        {
          "output_type": "stream",
          "text": [
            "\r 21%|██        | 101/481 [00:34<02:10,  2.91it/s]"
          ],
          "name": "stderr"
        },
        {
          "output_type": "stream",
          "text": [
            "Predicted class:\n",
            "zebra (n02391049) with probability 0.81\n"
          ],
          "name": "stdout"
        },
        {
          "output_type": "stream",
          "text": [
            "\r 21%|██        | 102/481 [00:35<02:10,  2.90it/s]"
          ],
          "name": "stderr"
        },
        {
          "output_type": "stream",
          "text": [
            "Predicted class:\n",
            "zebra (n02391049) with probability 0.83\n"
          ],
          "name": "stdout"
        },
        {
          "output_type": "stream",
          "text": [
            "\r 21%|██▏       | 103/481 [00:35<02:10,  2.90it/s]"
          ],
          "name": "stderr"
        },
        {
          "output_type": "stream",
          "text": [
            "Predicted class:\n",
            "zebra (n02391049) with probability 0.81\n"
          ],
          "name": "stdout"
        },
        {
          "output_type": "stream",
          "text": [
            "\r 22%|██▏       | 104/481 [00:36<02:10,  2.89it/s]"
          ],
          "name": "stderr"
        },
        {
          "output_type": "stream",
          "text": [
            "Predicted class:\n",
            "zebra (n02391049) with probability 0.72\n"
          ],
          "name": "stdout"
        },
        {
          "output_type": "stream",
          "text": [
            "\r 22%|██▏       | 105/481 [00:36<02:10,  2.88it/s]"
          ],
          "name": "stderr"
        },
        {
          "output_type": "stream",
          "text": [
            "Predicted class:\n",
            "zebra (n02391049) with probability 0.71\n"
          ],
          "name": "stdout"
        },
        {
          "output_type": "stream",
          "text": [
            "\r 22%|██▏       | 106/481 [00:37<02:11,  2.86it/s]"
          ],
          "name": "stderr"
        },
        {
          "output_type": "stream",
          "text": [
            "Predicted class:\n",
            "zebra (n02391049) with probability 0.63\n"
          ],
          "name": "stdout"
        },
        {
          "output_type": "stream",
          "text": [
            "\r 22%|██▏       | 107/481 [00:37<02:11,  2.85it/s]"
          ],
          "name": "stderr"
        },
        {
          "output_type": "stream",
          "text": [
            "Predicted class:\n",
            "zebra (n02391049) with probability 0.73\n"
          ],
          "name": "stdout"
        },
        {
          "output_type": "stream",
          "text": [
            "\r 22%|██▏       | 108/481 [00:37<02:11,  2.84it/s]"
          ],
          "name": "stderr"
        },
        {
          "output_type": "stream",
          "text": [
            "Predicted class:\n",
            "zebra (n02391049) with probability 0.74\n"
          ],
          "name": "stdout"
        },
        {
          "output_type": "stream",
          "text": [
            "\r 23%|██▎       | 109/481 [00:38<02:11,  2.83it/s]"
          ],
          "name": "stderr"
        },
        {
          "output_type": "stream",
          "text": [
            "Predicted class:\n",
            "zebra (n02391049) with probability 0.57\n"
          ],
          "name": "stdout"
        },
        {
          "output_type": "stream",
          "text": [
            "\r 23%|██▎       | 110/481 [00:38<02:11,  2.83it/s]"
          ],
          "name": "stderr"
        },
        {
          "output_type": "stream",
          "text": [
            "Predicted class:\n",
            "zebra (n02391049) with probability 0.57\n"
          ],
          "name": "stdout"
        },
        {
          "output_type": "stream",
          "text": [
            "\r 23%|██▎       | 111/481 [00:39<02:11,  2.82it/s]"
          ],
          "name": "stderr"
        },
        {
          "output_type": "stream",
          "text": [
            "Predicted class:\n",
            "zebra (n02391049) with probability 0.53\n"
          ],
          "name": "stdout"
        },
        {
          "output_type": "stream",
          "text": [
            "\r 23%|██▎       | 112/481 [00:39<02:11,  2.81it/s]"
          ],
          "name": "stderr"
        },
        {
          "output_type": "stream",
          "text": [
            "Predicted class:\n",
            "zebra (n02391049) with probability 0.72\n"
          ],
          "name": "stdout"
        },
        {
          "output_type": "stream",
          "text": [
            "\r 23%|██▎       | 113/481 [00:40<02:11,  2.80it/s]"
          ],
          "name": "stderr"
        },
        {
          "output_type": "stream",
          "text": [
            "Predicted class:\n",
            "zebra (n02391049) with probability 0.68\n"
          ],
          "name": "stdout"
        },
        {
          "output_type": "stream",
          "text": [
            "\r 24%|██▎       | 114/481 [00:40<02:11,  2.79it/s]"
          ],
          "name": "stderr"
        },
        {
          "output_type": "stream",
          "text": [
            "Predicted class:\n",
            "zebra (n02391049) with probability 0.68\n"
          ],
          "name": "stdout"
        },
        {
          "output_type": "stream",
          "text": [
            "\r 24%|██▍       | 115/481 [00:41<02:11,  2.78it/s]"
          ],
          "name": "stderr"
        },
        {
          "output_type": "stream",
          "text": [
            "Predicted class:\n",
            "zebra (n02391049) with probability 0.69\n"
          ],
          "name": "stdout"
        },
        {
          "output_type": "stream",
          "text": [
            "\r 24%|██▍       | 116/481 [00:41<02:11,  2.78it/s]"
          ],
          "name": "stderr"
        },
        {
          "output_type": "stream",
          "text": [
            "Predicted class:\n",
            "zebra (n02391049) with probability 0.60\n"
          ],
          "name": "stdout"
        },
        {
          "output_type": "stream",
          "text": [
            "\r 24%|██▍       | 117/481 [00:42<02:11,  2.77it/s]"
          ],
          "name": "stderr"
        },
        {
          "output_type": "stream",
          "text": [
            "Predicted class:\n",
            "zebra (n02391049) with probability 0.36\n"
          ],
          "name": "stdout"
        },
        {
          "output_type": "stream",
          "text": [
            "\r 25%|██▍       | 118/481 [00:42<02:11,  2.76it/s]"
          ],
          "name": "stderr"
        },
        {
          "output_type": "stream",
          "text": [
            "Predicted class:\n",
            "tiger (n02129604) with probability 0.51\n"
          ],
          "name": "stdout"
        },
        {
          "output_type": "stream",
          "text": [
            "\r 25%|██▍       | 119/481 [00:43<02:11,  2.75it/s]"
          ],
          "name": "stderr"
        },
        {
          "output_type": "stream",
          "text": [
            "Predicted class:\n",
            "tiger (n02129604) with probability 0.56\n"
          ],
          "name": "stdout"
        },
        {
          "output_type": "stream",
          "text": [
            "\r 25%|██▍       | 120/481 [00:43<02:11,  2.74it/s]"
          ],
          "name": "stderr"
        },
        {
          "output_type": "stream",
          "text": [
            "Predicted class:\n",
            "tiger (n02129604) with probability 0.47\n"
          ],
          "name": "stdout"
        },
        {
          "output_type": "stream",
          "text": [
            "\r 25%|██▌       | 121/481 [00:44<02:11,  2.73it/s]"
          ],
          "name": "stderr"
        },
        {
          "output_type": "stream",
          "text": [
            "Predicted class:\n",
            "tiger (n02129604) with probability 0.55\n"
          ],
          "name": "stdout"
        },
        {
          "output_type": "stream",
          "text": [
            "\r 25%|██▌       | 122/481 [00:44<02:11,  2.73it/s]"
          ],
          "name": "stderr"
        },
        {
          "output_type": "stream",
          "text": [
            "Predicted class:\n",
            "tiger (n02129604) with probability 0.51\n"
          ],
          "name": "stdout"
        },
        {
          "output_type": "stream",
          "text": [
            "\r 26%|██▌       | 123/481 [00:45<02:11,  2.72it/s]"
          ],
          "name": "stderr"
        },
        {
          "output_type": "stream",
          "text": [
            "Predicted class:\n",
            "tiger (n02129604) with probability 0.29\n"
          ],
          "name": "stdout"
        },
        {
          "output_type": "stream",
          "text": [
            "\r 26%|██▌       | 124/481 [00:45<02:11,  2.71it/s]"
          ],
          "name": "stderr"
        },
        {
          "output_type": "stream",
          "text": [
            "Predicted class:\n",
            "barracouta (n02514041) with probability 0.17\n"
          ],
          "name": "stdout"
        },
        {
          "output_type": "stream",
          "text": [
            "\r 26%|██▌       | 125/481 [00:46<02:11,  2.70it/s]"
          ],
          "name": "stderr"
        },
        {
          "output_type": "stream",
          "text": [
            "Predicted class:\n",
            "barracouta (n02514041) with probability 0.19\n"
          ],
          "name": "stdout"
        },
        {
          "output_type": "stream",
          "text": [
            "\r 26%|██▌       | 126/481 [00:46<02:11,  2.69it/s]"
          ],
          "name": "stderr"
        },
        {
          "output_type": "stream",
          "text": [
            "Predicted class:\n",
            "tiger (n02129604) with probability 0.65\n"
          ],
          "name": "stdout"
        },
        {
          "output_type": "stream",
          "text": [
            "\r 26%|██▋       | 127/481 [00:47<02:11,  2.68it/s]"
          ],
          "name": "stderr"
        },
        {
          "output_type": "stream",
          "text": [
            "Predicted class:\n",
            "tiger (n02129604) with probability 0.63\n"
          ],
          "name": "stdout"
        },
        {
          "output_type": "stream",
          "text": [
            "\r 27%|██▋       | 128/481 [00:47<02:11,  2.68it/s]"
          ],
          "name": "stderr"
        },
        {
          "output_type": "stream",
          "text": [
            "Predicted class:\n",
            "tiger_cat (n02123159) with probability 0.40\n"
          ],
          "name": "stdout"
        },
        {
          "output_type": "stream",
          "text": [
            "\r 27%|██▋       | 129/481 [00:48<02:11,  2.67it/s]"
          ],
          "name": "stderr"
        },
        {
          "output_type": "stream",
          "text": [
            "Predicted class:\n",
            "tiger (n02129604) with probability 0.44\n"
          ],
          "name": "stdout"
        },
        {
          "output_type": "stream",
          "text": [
            "\r 27%|██▋       | 130/481 [00:48<02:12,  2.66it/s]"
          ],
          "name": "stderr"
        },
        {
          "output_type": "stream",
          "text": [
            "Predicted class:\n",
            "tiger_cat (n02123159) with probability 0.39\n"
          ],
          "name": "stdout"
        },
        {
          "output_type": "stream",
          "text": [
            "\r 27%|██▋       | 131/481 [00:49<02:12,  2.65it/s]"
          ],
          "name": "stderr"
        },
        {
          "output_type": "stream",
          "text": [
            "Predicted class:\n",
            "tiger_cat (n02123159) with probability 0.37\n"
          ],
          "name": "stdout"
        },
        {
          "output_type": "stream",
          "text": [
            "\r 27%|██▋       | 132/481 [00:49<02:11,  2.64it/s]"
          ],
          "name": "stderr"
        },
        {
          "output_type": "stream",
          "text": [
            "Predicted class:\n",
            "zebra (n02391049) with probability 0.37\n"
          ],
          "name": "stdout"
        },
        {
          "output_type": "stream",
          "text": [
            "\r 28%|██▊       | 133/481 [00:50<02:11,  2.64it/s]"
          ],
          "name": "stderr"
        },
        {
          "output_type": "stream",
          "text": [
            "Predicted class:\n",
            "tiger_cat (n02123159) with probability 0.46\n"
          ],
          "name": "stdout"
        },
        {
          "output_type": "stream",
          "text": [
            "\r 28%|██▊       | 134/481 [00:50<02:11,  2.63it/s]"
          ],
          "name": "stderr"
        },
        {
          "output_type": "stream",
          "text": [
            "Predicted class:\n",
            "tiger_cat (n02123159) with probability 0.57\n"
          ],
          "name": "stdout"
        },
        {
          "output_type": "stream",
          "text": [
            "\r 28%|██▊       | 135/481 [00:51<02:11,  2.62it/s]"
          ],
          "name": "stderr"
        },
        {
          "output_type": "stream",
          "text": [
            "Predicted class:\n",
            "tiger_cat (n02123159) with probability 0.50\n"
          ],
          "name": "stdout"
        },
        {
          "output_type": "stream",
          "text": [
            "\r 28%|██▊       | 136/481 [00:52<02:12,  2.61it/s]"
          ],
          "name": "stderr"
        },
        {
          "output_type": "stream",
          "text": [
            "Predicted class:\n",
            "tiger_cat (n02123159) with probability 0.48\n"
          ],
          "name": "stdout"
        },
        {
          "output_type": "stream",
          "text": [
            "\r 28%|██▊       | 137/481 [00:52<02:12,  2.60it/s]"
          ],
          "name": "stderr"
        },
        {
          "output_type": "stream",
          "text": [
            "Predicted class:\n",
            "tiger_cat (n02123159) with probability 0.46\n"
          ],
          "name": "stdout"
        },
        {
          "output_type": "stream",
          "text": [
            "\r 29%|██▊       | 138/481 [00:53<02:12,  2.60it/s]"
          ],
          "name": "stderr"
        },
        {
          "output_type": "stream",
          "text": [
            "Predicted class:\n",
            "tiger_cat (n02123159) with probability 0.40\n"
          ],
          "name": "stdout"
        },
        {
          "output_type": "stream",
          "text": [
            "\r 29%|██▉       | 139/481 [00:53<02:12,  2.59it/s]"
          ],
          "name": "stderr"
        },
        {
          "output_type": "stream",
          "text": [
            "Predicted class:\n",
            "tiger (n02129604) with probability 0.45\n"
          ],
          "name": "stdout"
        },
        {
          "output_type": "stream",
          "text": [
            "\r 29%|██▉       | 140/481 [00:54<02:12,  2.58it/s]"
          ],
          "name": "stderr"
        },
        {
          "output_type": "stream",
          "text": [
            "Predicted class:\n",
            "tiger (n02129604) with probability 0.61\n"
          ],
          "name": "stdout"
        },
        {
          "output_type": "stream",
          "text": [
            "\r 29%|██▉       | 141/481 [00:54<02:12,  2.57it/s]"
          ],
          "name": "stderr"
        },
        {
          "output_type": "stream",
          "text": [
            "Predicted class:\n",
            "tiger (n02129604) with probability 0.52\n"
          ],
          "name": "stdout"
        },
        {
          "output_type": "stream",
          "text": [
            "\r 30%|██▉       | 142/481 [00:55<02:12,  2.57it/s]"
          ],
          "name": "stderr"
        },
        {
          "output_type": "stream",
          "text": [
            "Predicted class:\n",
            "tiger (n02129604) with probability 0.53\n"
          ],
          "name": "stdout"
        },
        {
          "output_type": "stream",
          "text": [
            "\r 30%|██▉       | 143/481 [00:55<02:12,  2.56it/s]"
          ],
          "name": "stderr"
        },
        {
          "output_type": "stream",
          "text": [
            "Predicted class:\n",
            "tiger (n02129604) with probability 0.50\n"
          ],
          "name": "stdout"
        },
        {
          "output_type": "stream",
          "text": [
            "\r 30%|██▉       | 144/481 [00:56<02:12,  2.55it/s]"
          ],
          "name": "stderr"
        },
        {
          "output_type": "stream",
          "text": [
            "Predicted class:\n",
            "tiger (n02129604) with probability 0.36\n"
          ],
          "name": "stdout"
        },
        {
          "output_type": "stream",
          "text": [
            "\r 30%|███       | 145/481 [00:56<02:12,  2.54it/s]"
          ],
          "name": "stderr"
        },
        {
          "output_type": "stream",
          "text": [
            "Predicted class:\n",
            "zebra (n02391049) with probability 0.41\n"
          ],
          "name": "stdout"
        },
        {
          "output_type": "stream",
          "text": [
            "\r 30%|███       | 146/481 [00:57<02:12,  2.54it/s]"
          ],
          "name": "stderr"
        },
        {
          "output_type": "stream",
          "text": [
            "Predicted class:\n",
            "zebra (n02391049) with probability 0.41\n"
          ],
          "name": "stdout"
        },
        {
          "output_type": "stream",
          "text": [
            "\r 31%|███       | 147/481 [00:58<02:12,  2.53it/s]"
          ],
          "name": "stderr"
        },
        {
          "output_type": "stream",
          "text": [
            "Predicted class:\n",
            "zebra (n02391049) with probability 0.37\n"
          ],
          "name": "stdout"
        },
        {
          "output_type": "stream",
          "text": [
            "\r 31%|███       | 148/481 [00:58<02:12,  2.52it/s]"
          ],
          "name": "stderr"
        },
        {
          "output_type": "stream",
          "text": [
            "Predicted class:\n",
            "zebra (n02391049) with probability 0.36\n"
          ],
          "name": "stdout"
        },
        {
          "output_type": "stream",
          "text": [
            "\r 31%|███       | 149/481 [00:59<02:12,  2.51it/s]"
          ],
          "name": "stderr"
        },
        {
          "output_type": "stream",
          "text": [
            "Predicted class:\n",
            "zebra (n02391049) with probability 0.44\n"
          ],
          "name": "stdout"
        },
        {
          "output_type": "stream",
          "text": [
            "\r 31%|███       | 150/481 [01:00<02:12,  2.50it/s]"
          ],
          "name": "stderr"
        },
        {
          "output_type": "stream",
          "text": [
            "Predicted class:\n",
            "zebra (n02391049) with probability 0.31\n"
          ],
          "name": "stdout"
        },
        {
          "output_type": "stream",
          "text": [
            "\r 31%|███▏      | 151/481 [01:00<02:12,  2.49it/s]"
          ],
          "name": "stderr"
        },
        {
          "output_type": "stream",
          "text": [
            "Predicted class:\n",
            "zebra (n02391049) with probability 0.28\n"
          ],
          "name": "stdout"
        },
        {
          "output_type": "stream",
          "text": [
            "\r 32%|███▏      | 152/481 [01:01<02:12,  2.48it/s]"
          ],
          "name": "stderr"
        },
        {
          "output_type": "stream",
          "text": [
            "Predicted class:\n",
            "tiger (n02129604) with probability 0.24\n"
          ],
          "name": "stdout"
        },
        {
          "output_type": "stream",
          "text": [
            "\r 32%|███▏      | 153/481 [01:01<02:12,  2.48it/s]"
          ],
          "name": "stderr"
        },
        {
          "output_type": "stream",
          "text": [
            "Predicted class:\n",
            "zebra (n02391049) with probability 0.38\n"
          ],
          "name": "stdout"
        },
        {
          "output_type": "stream",
          "text": [
            "\r 32%|███▏      | 154/481 [01:02<02:12,  2.47it/s]"
          ],
          "name": "stderr"
        },
        {
          "output_type": "stream",
          "text": [
            "Predicted class:\n",
            "zebra (n02391049) with probability 0.34\n"
          ],
          "name": "stdout"
        },
        {
          "output_type": "stream",
          "text": [
            "\r 32%|███▏      | 155/481 [01:02<02:12,  2.46it/s]"
          ],
          "name": "stderr"
        },
        {
          "output_type": "stream",
          "text": [
            "Predicted class:\n",
            "tiger (n02129604) with probability 0.35\n"
          ],
          "name": "stdout"
        },
        {
          "output_type": "stream",
          "text": [
            "\r 32%|███▏      | 156/481 [01:03<02:12,  2.46it/s]"
          ],
          "name": "stderr"
        },
        {
          "output_type": "stream",
          "text": [
            "Predicted class:\n",
            "tiger (n02129604) with probability 0.40\n"
          ],
          "name": "stdout"
        },
        {
          "output_type": "stream",
          "text": [
            "\r 33%|███▎      | 157/481 [01:04<02:12,  2.45it/s]"
          ],
          "name": "stderr"
        },
        {
          "output_type": "stream",
          "text": [
            "Predicted class:\n",
            "tiger (n02129604) with probability 0.39\n"
          ],
          "name": "stdout"
        },
        {
          "output_type": "stream",
          "text": [
            "\r 33%|███▎      | 158/481 [01:04<02:12,  2.44it/s]"
          ],
          "name": "stderr"
        },
        {
          "output_type": "stream",
          "text": [
            "Predicted class:\n",
            "tiger (n02129604) with probability 0.31\n"
          ],
          "name": "stdout"
        },
        {
          "output_type": "stream",
          "text": [
            "\r 33%|███▎      | 159/481 [01:05<02:12,  2.43it/s]"
          ],
          "name": "stderr"
        },
        {
          "output_type": "stream",
          "text": [
            "Predicted class:\n",
            "tiger (n02129604) with probability 0.34\n"
          ],
          "name": "stdout"
        },
        {
          "output_type": "stream",
          "text": [
            "\r 33%|███▎      | 160/481 [01:05<02:12,  2.43it/s]"
          ],
          "name": "stderr"
        },
        {
          "output_type": "stream",
          "text": [
            "Predicted class:\n",
            "tiger (n02129604) with probability 0.41\n"
          ],
          "name": "stdout"
        },
        {
          "output_type": "stream",
          "text": [
            "\r 33%|███▎      | 161/481 [01:06<02:12,  2.42it/s]"
          ],
          "name": "stderr"
        },
        {
          "output_type": "stream",
          "text": [
            "Predicted class:\n",
            "tiger (n02129604) with probability 0.49\n"
          ],
          "name": "stdout"
        },
        {
          "output_type": "stream",
          "text": [
            "\r 34%|███▎      | 162/481 [01:07<02:12,  2.41it/s]"
          ],
          "name": "stderr"
        },
        {
          "output_type": "stream",
          "text": [
            "Predicted class:\n",
            "tiger (n02129604) with probability 0.43\n"
          ],
          "name": "stdout"
        },
        {
          "output_type": "stream",
          "text": [
            "\r 34%|███▍      | 163/481 [01:07<02:12,  2.41it/s]"
          ],
          "name": "stderr"
        },
        {
          "output_type": "stream",
          "text": [
            "Predicted class:\n",
            "tiger (n02129604) with probability 0.48\n"
          ],
          "name": "stdout"
        },
        {
          "output_type": "stream",
          "text": [
            "\r 34%|███▍      | 164/481 [01:08<02:12,  2.40it/s]"
          ],
          "name": "stderr"
        },
        {
          "output_type": "stream",
          "text": [
            "Predicted class:\n",
            "tiger (n02129604) with probability 0.57\n"
          ],
          "name": "stdout"
        },
        {
          "output_type": "stream",
          "text": [
            "\r 34%|███▍      | 165/481 [01:08<02:12,  2.39it/s]"
          ],
          "name": "stderr"
        },
        {
          "output_type": "stream",
          "text": [
            "Predicted class:\n",
            "ant (n02219486) with probability 0.29\n"
          ],
          "name": "stdout"
        },
        {
          "output_type": "stream",
          "text": [
            "\r 35%|███▍      | 166/481 [01:09<02:12,  2.39it/s]"
          ],
          "name": "stderr"
        },
        {
          "output_type": "stream",
          "text": [
            "Predicted class:\n",
            "ant (n02219486) with probability 0.29\n"
          ],
          "name": "stdout"
        },
        {
          "output_type": "stream",
          "text": [
            "\r 35%|███▍      | 167/481 [01:10<02:12,  2.38it/s]"
          ],
          "name": "stderr"
        },
        {
          "output_type": "stream",
          "text": [
            "Predicted class:\n",
            "bee (n02206856) with probability 0.32\n"
          ],
          "name": "stdout"
        },
        {
          "output_type": "stream",
          "text": [
            "\r 35%|███▍      | 168/481 [01:10<02:12,  2.37it/s]"
          ],
          "name": "stderr"
        },
        {
          "output_type": "stream",
          "text": [
            "Predicted class:\n",
            "ant (n02219486) with probability 0.29\n"
          ],
          "name": "stdout"
        },
        {
          "output_type": "stream",
          "text": [
            "\r 35%|███▌      | 169/481 [01:11<02:11,  2.36it/s]"
          ],
          "name": "stderr"
        },
        {
          "output_type": "stream",
          "text": [
            "Predicted class:\n",
            "ant (n02219486) with probability 0.28\n"
          ],
          "name": "stdout"
        },
        {
          "output_type": "stream",
          "text": [
            "\r 35%|███▌      | 170/481 [01:12<02:11,  2.36it/s]"
          ],
          "name": "stderr"
        },
        {
          "output_type": "stream",
          "text": [
            "Predicted class:\n",
            "ant (n02219486) with probability 0.33\n"
          ],
          "name": "stdout"
        },
        {
          "output_type": "stream",
          "text": [
            "\r 36%|███▌      | 171/481 [01:12<02:11,  2.35it/s]"
          ],
          "name": "stderr"
        },
        {
          "output_type": "stream",
          "text": [
            "Predicted class:\n",
            "ant (n02219486) with probability 0.32\n"
          ],
          "name": "stdout"
        },
        {
          "output_type": "stream",
          "text": [
            "\r 36%|███▌      | 172/481 [01:13<02:11,  2.34it/s]"
          ],
          "name": "stderr"
        },
        {
          "output_type": "stream",
          "text": [
            "Predicted class:\n",
            "bee (n02206856) with probability 0.31\n"
          ],
          "name": "stdout"
        },
        {
          "output_type": "stream",
          "text": [
            "\r 36%|███▌      | 173/481 [01:14<02:11,  2.34it/s]"
          ],
          "name": "stderr"
        },
        {
          "output_type": "stream",
          "text": [
            "Predicted class:\n",
            "bee (n02206856) with probability 0.31\n"
          ],
          "name": "stdout"
        },
        {
          "output_type": "stream",
          "text": [
            "\r 36%|███▌      | 174/481 [01:14<02:11,  2.33it/s]"
          ],
          "name": "stderr"
        },
        {
          "output_type": "stream",
          "text": [
            "Predicted class:\n",
            "bee (n02206856) with probability 0.30\n"
          ],
          "name": "stdout"
        },
        {
          "output_type": "stream",
          "text": [
            "\r 36%|███▋      | 175/481 [01:15<02:11,  2.32it/s]"
          ],
          "name": "stderr"
        },
        {
          "output_type": "stream",
          "text": [
            "Predicted class:\n",
            "ant (n02219486) with probability 0.32\n"
          ],
          "name": "stdout"
        },
        {
          "output_type": "stream",
          "text": [
            "\r 37%|███▋      | 176/481 [01:15<02:11,  2.32it/s]"
          ],
          "name": "stderr"
        },
        {
          "output_type": "stream",
          "text": [
            "Predicted class:\n",
            "ant (n02219486) with probability 0.32\n"
          ],
          "name": "stdout"
        },
        {
          "output_type": "stream",
          "text": [
            "\r 37%|███▋      | 177/481 [01:16<02:11,  2.31it/s]"
          ],
          "name": "stderr"
        },
        {
          "output_type": "stream",
          "text": [
            "Predicted class:\n",
            "ant (n02219486) with probability 0.28\n"
          ],
          "name": "stdout"
        },
        {
          "output_type": "stream",
          "text": [
            "\r 37%|███▋      | 178/481 [01:17<02:11,  2.30it/s]"
          ],
          "name": "stderr"
        },
        {
          "output_type": "stream",
          "text": [
            "Predicted class:\n",
            "bee (n02206856) with probability 0.22\n"
          ],
          "name": "stdout"
        },
        {
          "output_type": "stream",
          "text": [
            "\r 37%|███▋      | 179/481 [01:17<02:11,  2.30it/s]"
          ],
          "name": "stderr"
        },
        {
          "output_type": "stream",
          "text": [
            "Predicted class:\n",
            "bee (n02206856) with probability 0.22\n"
          ],
          "name": "stdout"
        },
        {
          "output_type": "stream",
          "text": [
            "\r 37%|███▋      | 180/481 [01:18<02:11,  2.29it/s]"
          ],
          "name": "stderr"
        },
        {
          "output_type": "stream",
          "text": [
            "Predicted class:\n",
            "bee (n02206856) with probability 0.19\n"
          ],
          "name": "stdout"
        },
        {
          "output_type": "stream",
          "text": [
            "\r 38%|███▊      | 181/481 [01:19<02:11,  2.28it/s]"
          ],
          "name": "stderr"
        },
        {
          "output_type": "stream",
          "text": [
            "Predicted class:\n",
            "bee (n02206856) with probability 0.19\n"
          ],
          "name": "stdout"
        },
        {
          "output_type": "stream",
          "text": [
            "\r 38%|███▊      | 182/481 [01:19<02:11,  2.28it/s]"
          ],
          "name": "stderr"
        },
        {
          "output_type": "stream",
          "text": [
            "Predicted class:\n",
            "bee (n02206856) with probability 0.22\n"
          ],
          "name": "stdout"
        },
        {
          "output_type": "stream",
          "text": [
            "\r 38%|███▊      | 183/481 [01:20<02:11,  2.27it/s]"
          ],
          "name": "stderr"
        },
        {
          "output_type": "stream",
          "text": [
            "Predicted class:\n",
            "bee (n02206856) with probability 0.31\n"
          ],
          "name": "stdout"
        },
        {
          "output_type": "stream",
          "text": [
            "\r 38%|███▊      | 184/481 [01:21<02:11,  2.27it/s]"
          ],
          "name": "stderr"
        },
        {
          "output_type": "stream",
          "text": [
            "Predicted class:\n",
            "bee (n02206856) with probability 0.25\n"
          ],
          "name": "stdout"
        },
        {
          "output_type": "stream",
          "text": [
            "\r 38%|███▊      | 185/481 [01:21<02:11,  2.26it/s]"
          ],
          "name": "stderr"
        },
        {
          "output_type": "stream",
          "text": [
            "Predicted class:\n",
            "bee (n02206856) with probability 0.25\n"
          ],
          "name": "stdout"
        },
        {
          "output_type": "stream",
          "text": [
            "\r 39%|███▊      | 186/481 [01:22<02:10,  2.25it/s]"
          ],
          "name": "stderr"
        },
        {
          "output_type": "stream",
          "text": [
            "Predicted class:\n",
            "bee (n02206856) with probability 0.25\n"
          ],
          "name": "stdout"
        },
        {
          "output_type": "stream",
          "text": [
            "\r 39%|███▉      | 187/481 [01:23<02:10,  2.25it/s]"
          ],
          "name": "stderr"
        },
        {
          "output_type": "stream",
          "text": [
            "Predicted class:\n",
            "bee (n02206856) with probability 0.23\n"
          ],
          "name": "stdout"
        },
        {
          "output_type": "stream",
          "text": [
            "\r 39%|███▉      | 188/481 [01:23<02:10,  2.24it/s]"
          ],
          "name": "stderr"
        },
        {
          "output_type": "stream",
          "text": [
            "Predicted class:\n",
            "bee (n02206856) with probability 0.26\n"
          ],
          "name": "stdout"
        },
        {
          "output_type": "stream",
          "text": [
            "\r 39%|███▉      | 189/481 [01:24<02:10,  2.23it/s]"
          ],
          "name": "stderr"
        },
        {
          "output_type": "stream",
          "text": [
            "Predicted class:\n",
            "bee (n02206856) with probability 0.26\n"
          ],
          "name": "stdout"
        },
        {
          "output_type": "stream",
          "text": [
            "\r 40%|███▉      | 190/481 [01:25<02:10,  2.23it/s]"
          ],
          "name": "stderr"
        },
        {
          "output_type": "stream",
          "text": [
            "Predicted class:\n",
            "bee (n02206856) with probability 0.24\n"
          ],
          "name": "stdout"
        },
        {
          "output_type": "stream",
          "text": [
            "\r 40%|███▉      | 191/481 [01:26<02:10,  2.22it/s]"
          ],
          "name": "stderr"
        },
        {
          "output_type": "stream",
          "text": [
            "Predicted class:\n",
            "bee (n02206856) with probability 0.24\n"
          ],
          "name": "stdout"
        },
        {
          "output_type": "stream",
          "text": [
            "\r 40%|███▉      | 192/481 [01:26<02:10,  2.21it/s]"
          ],
          "name": "stderr"
        },
        {
          "output_type": "stream",
          "text": [
            "Predicted class:\n",
            "bee (n02206856) with probability 0.22\n"
          ],
          "name": "stdout"
        },
        {
          "output_type": "stream",
          "text": [
            "\r 40%|████      | 193/481 [01:27<02:10,  2.21it/s]"
          ],
          "name": "stderr"
        },
        {
          "output_type": "stream",
          "text": [
            "Predicted class:\n",
            "bee (n02206856) with probability 0.21\n"
          ],
          "name": "stdout"
        },
        {
          "output_type": "stream",
          "text": [
            "\r 40%|████      | 194/481 [01:28<02:10,  2.20it/s]"
          ],
          "name": "stderr"
        },
        {
          "output_type": "stream",
          "text": [
            "Predicted class:\n",
            "bee (n02206856) with probability 0.23\n"
          ],
          "name": "stdout"
        },
        {
          "output_type": "stream",
          "text": [
            "\r 41%|████      | 195/481 [01:28<02:10,  2.20it/s]"
          ],
          "name": "stderr"
        },
        {
          "output_type": "stream",
          "text": [
            "Predicted class:\n",
            "feather_boa (n03325584) with probability 0.18\n"
          ],
          "name": "stdout"
        },
        {
          "output_type": "stream",
          "text": [
            "\r 41%|████      | 196/481 [01:29<02:10,  2.19it/s]"
          ],
          "name": "stderr"
        },
        {
          "output_type": "stream",
          "text": [
            "Predicted class:\n",
            "feather_boa (n03325584) with probability 0.19\n"
          ],
          "name": "stdout"
        },
        {
          "output_type": "stream",
          "text": [
            "\r 41%|████      | 197/481 [01:30<02:09,  2.19it/s]"
          ],
          "name": "stderr"
        },
        {
          "output_type": "stream",
          "text": [
            "Predicted class:\n",
            "feather_boa (n03325584) with probability 0.18\n"
          ],
          "name": "stdout"
        },
        {
          "output_type": "stream",
          "text": [
            "\r 41%|████      | 198/481 [01:30<02:09,  2.18it/s]"
          ],
          "name": "stderr"
        },
        {
          "output_type": "stream",
          "text": [
            "Predicted class:\n",
            "feather_boa (n03325584) with probability 0.22\n"
          ],
          "name": "stdout"
        },
        {
          "output_type": "stream",
          "text": [
            "\r 41%|████▏     | 199/481 [01:31<02:09,  2.17it/s]"
          ],
          "name": "stderr"
        },
        {
          "output_type": "stream",
          "text": [
            "Predicted class:\n",
            "feather_boa (n03325584) with probability 0.30\n"
          ],
          "name": "stdout"
        },
        {
          "output_type": "stream",
          "text": [
            "\r 42%|████▏     | 200/481 [01:32<02:09,  2.17it/s]"
          ],
          "name": "stderr"
        },
        {
          "output_type": "stream",
          "text": [
            "Predicted class:\n",
            "feather_boa (n03325584) with probability 0.27\n"
          ],
          "name": "stdout"
        },
        {
          "output_type": "stream",
          "text": [
            "\r 42%|████▏     | 201/481 [01:32<02:09,  2.16it/s]"
          ],
          "name": "stderr"
        },
        {
          "output_type": "stream",
          "text": [
            "Predicted class:\n",
            "feather_boa (n03325584) with probability 0.27\n"
          ],
          "name": "stdout"
        },
        {
          "output_type": "stream",
          "text": [
            "\r 42%|████▏     | 202/481 [01:33<02:09,  2.16it/s]"
          ],
          "name": "stderr"
        },
        {
          "output_type": "stream",
          "text": [
            "Predicted class:\n",
            "feather_boa (n03325584) with probability 0.21\n"
          ],
          "name": "stdout"
        },
        {
          "output_type": "stream",
          "text": [
            "\r 42%|████▏     | 203/481 [01:34<02:09,  2.15it/s]"
          ],
          "name": "stderr"
        },
        {
          "output_type": "stream",
          "text": [
            "Predicted class:\n",
            "feather_boa (n03325584) with probability 0.19\n"
          ],
          "name": "stdout"
        },
        {
          "output_type": "stream",
          "text": [
            "\r 42%|████▏     | 204/481 [01:35<02:09,  2.14it/s]"
          ],
          "name": "stderr"
        },
        {
          "output_type": "stream",
          "text": [
            "Predicted class:\n",
            "feather_boa (n03325584) with probability 0.22\n"
          ],
          "name": "stdout"
        },
        {
          "output_type": "stream",
          "text": [
            "\r 43%|████▎     | 205/481 [01:35<02:09,  2.14it/s]"
          ],
          "name": "stderr"
        },
        {
          "output_type": "stream",
          "text": [
            "Predicted class:\n",
            "feather_boa (n03325584) with probability 0.18\n"
          ],
          "name": "stdout"
        },
        {
          "output_type": "stream",
          "text": [
            "\r 43%|████▎     | 206/481 [01:36<02:09,  2.13it/s]"
          ],
          "name": "stderr"
        },
        {
          "output_type": "stream",
          "text": [
            "Predicted class:\n",
            "feather_boa (n03325584) with probability 0.18\n"
          ],
          "name": "stdout"
        },
        {
          "output_type": "stream",
          "text": [
            "\r 43%|████▎     | 207/481 [01:37<02:08,  2.12it/s]"
          ],
          "name": "stderr"
        },
        {
          "output_type": "stream",
          "text": [
            "Predicted class:\n",
            "feather_boa (n03325584) with probability 0.20\n"
          ],
          "name": "stdout"
        },
        {
          "output_type": "stream",
          "text": [
            "\r 43%|████▎     | 208/481 [01:38<02:08,  2.12it/s]"
          ],
          "name": "stderr"
        },
        {
          "output_type": "stream",
          "text": [
            "Predicted class:\n",
            "feather_boa (n03325584) with probability 0.16\n"
          ],
          "name": "stdout"
        },
        {
          "output_type": "stream",
          "text": [
            "\r 43%|████▎     | 209/481 [01:38<02:08,  2.11it/s]"
          ],
          "name": "stderr"
        },
        {
          "output_type": "stream",
          "text": [
            "Predicted class:\n",
            "bee (n02206856) with probability 0.16\n"
          ],
          "name": "stdout"
        },
        {
          "output_type": "stream",
          "text": [
            "\r 44%|████▎     | 210/481 [01:39<02:08,  2.11it/s]"
          ],
          "name": "stderr"
        },
        {
          "output_type": "stream",
          "text": [
            "Predicted class:\n",
            "bee (n02206856) with probability 0.20\n"
          ],
          "name": "stdout"
        },
        {
          "output_type": "stream",
          "text": [
            "\r 44%|████▍     | 211/481 [01:40<02:08,  2.10it/s]"
          ],
          "name": "stderr"
        },
        {
          "output_type": "stream",
          "text": [
            "Predicted class:\n",
            "bee (n02206856) with probability 0.19\n"
          ],
          "name": "stdout"
        },
        {
          "output_type": "stream",
          "text": [
            "\r 44%|████▍     | 212/481 [01:41<02:08,  2.10it/s]"
          ],
          "name": "stderr"
        },
        {
          "output_type": "stream",
          "text": [
            "Predicted class:\n",
            "bee (n02206856) with probability 0.17\n"
          ],
          "name": "stdout"
        },
        {
          "output_type": "stream",
          "text": [
            "\r 44%|████▍     | 213/481 [01:41<02:08,  2.09it/s]"
          ],
          "name": "stderr"
        },
        {
          "output_type": "stream",
          "text": [
            "Predicted class:\n",
            "feather_boa (n03325584) with probability 0.15\n"
          ],
          "name": "stdout"
        },
        {
          "output_type": "stream",
          "text": [
            "\r 44%|████▍     | 214/481 [01:42<02:08,  2.08it/s]"
          ],
          "name": "stderr"
        },
        {
          "output_type": "stream",
          "text": [
            "Predicted class:\n",
            "feather_boa (n03325584) with probability 0.17\n"
          ],
          "name": "stdout"
        },
        {
          "output_type": "stream",
          "text": [
            "\r 45%|████▍     | 215/481 [01:43<02:07,  2.08it/s]"
          ],
          "name": "stderr"
        },
        {
          "output_type": "stream",
          "text": [
            "Predicted class:\n",
            "feather_boa (n03325584) with probability 0.20\n"
          ],
          "name": "stdout"
        },
        {
          "output_type": "stream",
          "text": [
            "\r 45%|████▍     | 216/481 [01:44<02:07,  2.07it/s]"
          ],
          "name": "stderr"
        },
        {
          "output_type": "stream",
          "text": [
            "Predicted class:\n",
            "feather_boa (n03325584) with probability 0.20\n"
          ],
          "name": "stdout"
        },
        {
          "output_type": "stream",
          "text": [
            "\r 45%|████▌     | 217/481 [01:44<02:07,  2.07it/s]"
          ],
          "name": "stderr"
        },
        {
          "output_type": "stream",
          "text": [
            "Predicted class:\n",
            "feather_boa (n03325584) with probability 0.16\n"
          ],
          "name": "stdout"
        },
        {
          "output_type": "stream",
          "text": [
            "\r 45%|████▌     | 218/481 [01:45<02:07,  2.06it/s]"
          ],
          "name": "stderr"
        },
        {
          "output_type": "stream",
          "text": [
            "Predicted class:\n",
            "feather_boa (n03325584) with probability 0.18\n"
          ],
          "name": "stdout"
        },
        {
          "output_type": "stream",
          "text": [
            "\r 46%|████▌     | 219/481 [01:46<02:07,  2.06it/s]"
          ],
          "name": "stderr"
        },
        {
          "output_type": "stream",
          "text": [
            "Predicted class:\n",
            "feather_boa (n03325584) with probability 0.21\n"
          ],
          "name": "stdout"
        },
        {
          "output_type": "stream",
          "text": [
            "\r 46%|████▌     | 220/481 [01:47<02:07,  2.05it/s]"
          ],
          "name": "stderr"
        },
        {
          "output_type": "stream",
          "text": [
            "Predicted class:\n",
            "feather_boa (n03325584) with probability 0.19\n"
          ],
          "name": "stdout"
        },
        {
          "output_type": "stream",
          "text": [
            "\r 46%|████▌     | 221/481 [01:48<02:07,  2.04it/s]"
          ],
          "name": "stderr"
        },
        {
          "output_type": "stream",
          "text": [
            "Predicted class:\n",
            "feather_boa (n03325584) with probability 0.20\n"
          ],
          "name": "stdout"
        },
        {
          "output_type": "stream",
          "text": [
            "\r 46%|████▌     | 222/481 [01:48<02:07,  2.04it/s]"
          ],
          "name": "stderr"
        },
        {
          "output_type": "stream",
          "text": [
            "Predicted class:\n",
            "feather_boa (n03325584) with probability 0.20\n"
          ],
          "name": "stdout"
        },
        {
          "output_type": "stream",
          "text": [
            "\r 46%|████▋     | 223/481 [01:49<02:06,  2.03it/s]"
          ],
          "name": "stderr"
        },
        {
          "output_type": "stream",
          "text": [
            "Predicted class:\n",
            "feather_boa (n03325584) with probability 0.24\n"
          ],
          "name": "stdout"
        },
        {
          "output_type": "stream",
          "text": [
            "\r 47%|████▋     | 224/481 [01:50<02:06,  2.03it/s]"
          ],
          "name": "stderr"
        },
        {
          "output_type": "stream",
          "text": [
            "Predicted class:\n",
            "bee (n02206856) with probability 0.17\n"
          ],
          "name": "stdout"
        },
        {
          "output_type": "stream",
          "text": [
            "\r 47%|████▋     | 225/481 [01:51<02:06,  2.02it/s]"
          ],
          "name": "stderr"
        },
        {
          "output_type": "stream",
          "text": [
            "Predicted class:\n",
            "bee (n02206856) with probability 0.21\n"
          ],
          "name": "stdout"
        },
        {
          "output_type": "stream",
          "text": [
            "\r 47%|████▋     | 226/481 [01:52<02:06,  2.02it/s]"
          ],
          "name": "stderr"
        },
        {
          "output_type": "stream",
          "text": [
            "Predicted class:\n",
            "bee (n02206856) with probability 0.21\n"
          ],
          "name": "stdout"
        },
        {
          "output_type": "stream",
          "text": [
            "\r 47%|████▋     | 227/481 [01:52<02:06,  2.01it/s]"
          ],
          "name": "stderr"
        },
        {
          "output_type": "stream",
          "text": [
            "Predicted class:\n",
            "bee (n02206856) with probability 0.23\n"
          ],
          "name": "stdout"
        },
        {
          "output_type": "stream",
          "text": [
            "\r 47%|████▋     | 228/481 [01:53<02:06,  2.01it/s]"
          ],
          "name": "stderr"
        },
        {
          "output_type": "stream",
          "text": [
            "Predicted class:\n",
            "bee (n02206856) with probability 0.20\n"
          ],
          "name": "stdout"
        },
        {
          "output_type": "stream",
          "text": [
            "\r 48%|████▊     | 229/481 [01:54<02:06,  2.00it/s]"
          ],
          "name": "stderr"
        },
        {
          "output_type": "stream",
          "text": [
            "Predicted class:\n",
            "bee (n02206856) with probability 0.24\n"
          ],
          "name": "stdout"
        },
        {
          "output_type": "stream",
          "text": [
            "\r 48%|████▊     | 230/481 [01:55<02:05,  1.99it/s]"
          ],
          "name": "stderr"
        },
        {
          "output_type": "stream",
          "text": [
            "Predicted class:\n",
            "bee (n02206856) with probability 0.22\n"
          ],
          "name": "stdout"
        },
        {
          "output_type": "stream",
          "text": [
            "\r 48%|████▊     | 231/481 [01:56<02:05,  1.99it/s]"
          ],
          "name": "stderr"
        },
        {
          "output_type": "stream",
          "text": [
            "Predicted class:\n",
            "bee (n02206856) with probability 0.22\n"
          ],
          "name": "stdout"
        },
        {
          "output_type": "stream",
          "text": [
            "\r 48%|████▊     | 232/481 [01:57<02:05,  1.98it/s]"
          ],
          "name": "stderr"
        },
        {
          "output_type": "stream",
          "text": [
            "Predicted class:\n",
            "bee (n02206856) with probability 0.23\n"
          ],
          "name": "stdout"
        },
        {
          "output_type": "stream",
          "text": [
            "\r 48%|████▊     | 233/481 [01:57<02:05,  1.98it/s]"
          ],
          "name": "stderr"
        },
        {
          "output_type": "stream",
          "text": [
            "Predicted class:\n",
            "feather_boa (n03325584) with probability 0.23\n"
          ],
          "name": "stdout"
        },
        {
          "output_type": "stream",
          "text": [
            "\r 49%|████▊     | 234/481 [01:58<02:05,  1.97it/s]"
          ],
          "name": "stderr"
        },
        {
          "output_type": "stream",
          "text": [
            "Predicted class:\n",
            "bee (n02206856) with probability 0.20\n"
          ],
          "name": "stdout"
        },
        {
          "output_type": "stream",
          "text": [
            "\r 49%|████▉     | 235/481 [01:59<02:05,  1.97it/s]"
          ],
          "name": "stderr"
        },
        {
          "output_type": "stream",
          "text": [
            "Predicted class:\n",
            "feather_boa (n03325584) with probability 0.26\n"
          ],
          "name": "stdout"
        },
        {
          "output_type": "stream",
          "text": [
            "\r 49%|████▉     | 236/481 [02:00<02:04,  1.96it/s]"
          ],
          "name": "stderr"
        },
        {
          "output_type": "stream",
          "text": [
            "Predicted class:\n",
            "feather_boa (n03325584) with probability 0.27\n"
          ],
          "name": "stdout"
        },
        {
          "output_type": "stream",
          "text": [
            "\r 49%|████▉     | 237/481 [02:01<02:04,  1.96it/s]"
          ],
          "name": "stderr"
        },
        {
          "output_type": "stream",
          "text": [
            "Predicted class:\n",
            "feather_boa (n03325584) with probability 0.24\n"
          ],
          "name": "stdout"
        },
        {
          "output_type": "stream",
          "text": [
            "\r 49%|████▉     | 238/481 [02:01<02:04,  1.95it/s]"
          ],
          "name": "stderr"
        },
        {
          "output_type": "stream",
          "text": [
            "Predicted class:\n",
            "feather_boa (n03325584) with probability 0.22\n"
          ],
          "name": "stdout"
        },
        {
          "output_type": "stream",
          "text": [
            "\r 50%|████▉     | 239/481 [02:02<02:04,  1.95it/s]"
          ],
          "name": "stderr"
        },
        {
          "output_type": "stream",
          "text": [
            "Predicted class:\n",
            "feather_boa (n03325584) with probability 0.22\n"
          ],
          "name": "stdout"
        },
        {
          "output_type": "stream",
          "text": [
            "\r 50%|████▉     | 240/481 [02:03<02:04,  1.94it/s]"
          ],
          "name": "stderr"
        },
        {
          "output_type": "stream",
          "text": [
            "Predicted class:\n",
            "feather_boa (n03325584) with probability 0.19\n"
          ],
          "name": "stdout"
        },
        {
          "output_type": "stream",
          "text": [
            "\r 50%|█████     | 241/481 [02:04<02:03,  1.94it/s]"
          ],
          "name": "stderr"
        },
        {
          "output_type": "stream",
          "text": [
            "Predicted class:\n",
            "feather_boa (n03325584) with probability 0.19\n"
          ],
          "name": "stdout"
        },
        {
          "output_type": "stream",
          "text": [
            "\r 50%|█████     | 242/481 [02:05<02:03,  1.93it/s]"
          ],
          "name": "stderr"
        },
        {
          "output_type": "stream",
          "text": [
            "Predicted class:\n",
            "feather_boa (n03325584) with probability 0.19\n"
          ],
          "name": "stdout"
        },
        {
          "output_type": "stream",
          "text": [
            "\r 51%|█████     | 243/481 [02:06<02:03,  1.93it/s]"
          ],
          "name": "stderr"
        },
        {
          "output_type": "stream",
          "text": [
            "Predicted class:\n",
            "bee (n02206856) with probability 0.20\n"
          ],
          "name": "stdout"
        },
        {
          "output_type": "stream",
          "text": [
            "\r 51%|█████     | 244/481 [02:07<02:03,  1.92it/s]"
          ],
          "name": "stderr"
        },
        {
          "output_type": "stream",
          "text": [
            "Predicted class:\n",
            "bee (n02206856) with probability 0.25\n"
          ],
          "name": "stdout"
        },
        {
          "output_type": "stream",
          "text": [
            "\r 51%|█████     | 245/481 [02:07<02:03,  1.92it/s]"
          ],
          "name": "stderr"
        },
        {
          "output_type": "stream",
          "text": [
            "Predicted class:\n",
            "bee (n02206856) with probability 0.25\n"
          ],
          "name": "stdout"
        },
        {
          "output_type": "stream",
          "text": [
            "\r 51%|█████     | 246/481 [02:08<02:03,  1.91it/s]"
          ],
          "name": "stderr"
        },
        {
          "output_type": "stream",
          "text": [
            "Predicted class:\n",
            "bee (n02206856) with probability 0.24\n"
          ],
          "name": "stdout"
        },
        {
          "output_type": "stream",
          "text": [
            "\r 51%|█████▏    | 247/481 [02:09<02:02,  1.91it/s]"
          ],
          "name": "stderr"
        },
        {
          "output_type": "stream",
          "text": [
            "Predicted class:\n",
            "ant (n02219486) with probability 0.18\n"
          ],
          "name": "stdout"
        },
        {
          "output_type": "stream",
          "text": [
            "\r 52%|█████▏    | 248/481 [02:10<02:02,  1.90it/s]"
          ],
          "name": "stderr"
        },
        {
          "output_type": "stream",
          "text": [
            "Predicted class:\n",
            "bee (n02206856) with probability 0.19\n"
          ],
          "name": "stdout"
        },
        {
          "output_type": "stream",
          "text": [
            "\r 52%|█████▏    | 249/481 [02:11<02:02,  1.90it/s]"
          ],
          "name": "stderr"
        },
        {
          "output_type": "stream",
          "text": [
            "Predicted class:\n",
            "bee (n02206856) with probability 0.21\n"
          ],
          "name": "stdout"
        },
        {
          "output_type": "stream",
          "text": [
            "\r 52%|█████▏    | 250/481 [02:12<02:02,  1.89it/s]"
          ],
          "name": "stderr"
        },
        {
          "output_type": "stream",
          "text": [
            "Predicted class:\n",
            "feather_boa (n03325584) with probability 0.17\n"
          ],
          "name": "stdout"
        },
        {
          "output_type": "stream",
          "text": [
            "\r 52%|█████▏    | 251/481 [02:13<02:01,  1.89it/s]"
          ],
          "name": "stderr"
        },
        {
          "output_type": "stream",
          "text": [
            "Predicted class:\n",
            "feather_boa (n03325584) with probability 0.19\n"
          ],
          "name": "stdout"
        },
        {
          "output_type": "stream",
          "text": [
            "\r 52%|█████▏    | 252/481 [02:14<02:01,  1.88it/s]"
          ],
          "name": "stderr"
        },
        {
          "output_type": "stream",
          "text": [
            "Predicted class:\n",
            "bee (n02206856) with probability 0.19\n"
          ],
          "name": "stdout"
        },
        {
          "output_type": "stream",
          "text": [
            "\r 53%|█████▎    | 253/481 [02:14<02:01,  1.88it/s]"
          ],
          "name": "stderr"
        },
        {
          "output_type": "stream",
          "text": [
            "Predicted class:\n",
            "feather_boa (n03325584) with probability 0.18\n"
          ],
          "name": "stdout"
        },
        {
          "output_type": "stream",
          "text": [
            "\r 53%|█████▎    | 254/481 [02:15<02:01,  1.87it/s]"
          ],
          "name": "stderr"
        },
        {
          "output_type": "stream",
          "text": [
            "Predicted class:\n",
            "bee (n02206856) with probability 0.18\n"
          ],
          "name": "stdout"
        },
        {
          "output_type": "stream",
          "text": [
            "\r 53%|█████▎    | 255/481 [02:16<02:01,  1.87it/s]"
          ],
          "name": "stderr"
        },
        {
          "output_type": "stream",
          "text": [
            "Predicted class:\n",
            "bee (n02206856) with probability 0.17\n"
          ],
          "name": "stdout"
        },
        {
          "output_type": "stream",
          "text": [
            "\r 53%|█████▎    | 256/481 [02:17<02:00,  1.86it/s]"
          ],
          "name": "stderr"
        },
        {
          "output_type": "stream",
          "text": [
            "Predicted class:\n",
            "bee (n02206856) with probability 0.18\n"
          ],
          "name": "stdout"
        },
        {
          "output_type": "stream",
          "text": [
            "\r 53%|█████▎    | 257/481 [02:18<02:00,  1.86it/s]"
          ],
          "name": "stderr"
        },
        {
          "output_type": "stream",
          "text": [
            "Predicted class:\n",
            "feather_boa (n03325584) with probability 0.17\n"
          ],
          "name": "stdout"
        },
        {
          "output_type": "stream",
          "text": [
            "\r 54%|█████▎    | 258/481 [02:19<02:00,  1.85it/s]"
          ],
          "name": "stderr"
        },
        {
          "output_type": "stream",
          "text": [
            "Predicted class:\n",
            "feather_boa (n03325584) with probability 0.15\n"
          ],
          "name": "stdout"
        },
        {
          "output_type": "stream",
          "text": [
            "\r 54%|█████▍    | 259/481 [02:20<02:00,  1.85it/s]"
          ],
          "name": "stderr"
        },
        {
          "output_type": "stream",
          "text": [
            "Predicted class:\n",
            "feather_boa (n03325584) with probability 0.15\n"
          ],
          "name": "stdout"
        },
        {
          "output_type": "stream",
          "text": [
            "\r 54%|█████▍    | 260/481 [02:21<01:59,  1.84it/s]"
          ],
          "name": "stderr"
        },
        {
          "output_type": "stream",
          "text": [
            "Predicted class:\n",
            "feather_boa (n03325584) with probability 0.20\n"
          ],
          "name": "stdout"
        },
        {
          "output_type": "stream",
          "text": [
            "\r 54%|█████▍    | 261/481 [02:22<01:59,  1.84it/s]"
          ],
          "name": "stderr"
        },
        {
          "output_type": "stream",
          "text": [
            "Predicted class:\n",
            "feather_boa (n03325584) with probability 0.20\n"
          ],
          "name": "stdout"
        },
        {
          "output_type": "stream",
          "text": [
            "\r 54%|█████▍    | 262/481 [02:22<01:59,  1.83it/s]"
          ],
          "name": "stderr"
        },
        {
          "output_type": "stream",
          "text": [
            "Predicted class:\n",
            "feather_boa (n03325584) with probability 0.15\n"
          ],
          "name": "stdout"
        },
        {
          "output_type": "stream",
          "text": [
            "\r 55%|█████▍    | 263/481 [02:23<01:59,  1.83it/s]"
          ],
          "name": "stderr"
        },
        {
          "output_type": "stream",
          "text": [
            "Predicted class:\n",
            "feather_boa (n03325584) with probability 0.18\n"
          ],
          "name": "stdout"
        },
        {
          "output_type": "stream",
          "text": [
            "\r 55%|█████▍    | 264/481 [02:24<01:58,  1.82it/s]"
          ],
          "name": "stderr"
        },
        {
          "output_type": "stream",
          "text": [
            "Predicted class:\n",
            "feather_boa (n03325584) with probability 0.18\n"
          ],
          "name": "stdout"
        },
        {
          "output_type": "stream",
          "text": [
            "\r 55%|█████▌    | 265/481 [02:25<01:58,  1.82it/s]"
          ],
          "name": "stderr"
        },
        {
          "output_type": "stream",
          "text": [
            "Predicted class:\n",
            "feather_boa (n03325584) with probability 0.20\n"
          ],
          "name": "stdout"
        },
        {
          "output_type": "stream",
          "text": [
            "\r 55%|█████▌    | 266/481 [02:26<01:58,  1.81it/s]"
          ],
          "name": "stderr"
        },
        {
          "output_type": "stream",
          "text": [
            "Predicted class:\n",
            "feather_boa (n03325584) with probability 0.19\n"
          ],
          "name": "stdout"
        },
        {
          "output_type": "stream",
          "text": [
            "\r 56%|█████▌    | 267/481 [02:27<01:58,  1.81it/s]"
          ],
          "name": "stderr"
        },
        {
          "output_type": "stream",
          "text": [
            "Predicted class:\n",
            "feather_boa (n03325584) with probability 0.14\n"
          ],
          "name": "stdout"
        },
        {
          "output_type": "stream",
          "text": [
            "\r 56%|█████▌    | 268/481 [02:28<01:57,  1.81it/s]"
          ],
          "name": "stderr"
        },
        {
          "output_type": "stream",
          "text": [
            "Predicted class:\n",
            "bee (n02206856) with probability 0.15\n"
          ],
          "name": "stdout"
        },
        {
          "output_type": "stream",
          "text": [
            "\r 56%|█████▌    | 269/481 [02:29<01:57,  1.80it/s]"
          ],
          "name": "stderr"
        },
        {
          "output_type": "stream",
          "text": [
            "Predicted class:\n",
            "bee (n02206856) with probability 0.14\n"
          ],
          "name": "stdout"
        },
        {
          "output_type": "stream",
          "text": [
            "\r 56%|█████▌    | 270/481 [02:30<01:57,  1.80it/s]"
          ],
          "name": "stderr"
        },
        {
          "output_type": "stream",
          "text": [
            "Predicted class:\n",
            "feather_boa (n03325584) with probability 0.15\n"
          ],
          "name": "stdout"
        },
        {
          "output_type": "stream",
          "text": [
            "\r 56%|█████▋    | 271/481 [02:31<01:57,  1.79it/s]"
          ],
          "name": "stderr"
        },
        {
          "output_type": "stream",
          "text": [
            "Predicted class:\n",
            "feather_boa (n03325584) with probability 0.15\n"
          ],
          "name": "stdout"
        },
        {
          "output_type": "stream",
          "text": [
            "\r 57%|█████▋    | 272/481 [02:32<01:56,  1.79it/s]"
          ],
          "name": "stderr"
        },
        {
          "output_type": "stream",
          "text": [
            "Predicted class:\n",
            "bee (n02206856) with probability 0.13\n"
          ],
          "name": "stdout"
        },
        {
          "output_type": "stream",
          "text": [
            "\r 57%|█████▋    | 273/481 [02:33<01:56,  1.78it/s]"
          ],
          "name": "stderr"
        },
        {
          "output_type": "stream",
          "text": [
            "Predicted class:\n",
            "bee (n02206856) with probability 0.18\n"
          ],
          "name": "stdout"
        },
        {
          "output_type": "stream",
          "text": [
            "\r 57%|█████▋    | 274/481 [02:34<01:56,  1.78it/s]"
          ],
          "name": "stderr"
        },
        {
          "output_type": "stream",
          "text": [
            "Predicted class:\n",
            "bee (n02206856) with probability 0.20\n"
          ],
          "name": "stdout"
        },
        {
          "output_type": "stream",
          "text": [
            "\r 57%|█████▋    | 275/481 [02:35<01:56,  1.77it/s]"
          ],
          "name": "stderr"
        },
        {
          "output_type": "stream",
          "text": [
            "Predicted class:\n",
            "bee (n02206856) with probability 0.22\n"
          ],
          "name": "stdout"
        },
        {
          "output_type": "stream",
          "text": [
            "\r 57%|█████▋    | 276/481 [02:36<01:56,  1.77it/s]"
          ],
          "name": "stderr"
        },
        {
          "output_type": "stream",
          "text": [
            "Predicted class:\n",
            "bee (n02206856) with probability 0.22\n"
          ],
          "name": "stdout"
        },
        {
          "output_type": "stream",
          "text": [
            "\r 58%|█████▊    | 277/481 [02:37<01:55,  1.76it/s]"
          ],
          "name": "stderr"
        },
        {
          "output_type": "stream",
          "text": [
            "Predicted class:\n",
            "bee (n02206856) with probability 0.13\n"
          ],
          "name": "stdout"
        },
        {
          "output_type": "stream",
          "text": [
            "\r 58%|█████▊    | 278/481 [02:38<01:55,  1.76it/s]"
          ],
          "name": "stderr"
        },
        {
          "output_type": "stream",
          "text": [
            "Predicted class:\n",
            "bee (n02206856) with probability 0.14\n"
          ],
          "name": "stdout"
        },
        {
          "output_type": "stream",
          "text": [
            "\r 58%|█████▊    | 279/481 [02:39<01:55,  1.75it/s]"
          ],
          "name": "stderr"
        },
        {
          "output_type": "stream",
          "text": [
            "Predicted class:\n",
            "bee (n02206856) with probability 0.17\n"
          ],
          "name": "stdout"
        },
        {
          "output_type": "stream",
          "text": [
            "\r 58%|█████▊    | 280/481 [02:40<01:54,  1.75it/s]"
          ],
          "name": "stderr"
        },
        {
          "output_type": "stream",
          "text": [
            "Predicted class:\n",
            "bee (n02206856) with probability 0.14\n"
          ],
          "name": "stdout"
        },
        {
          "output_type": "stream",
          "text": [
            "\r 58%|█████▊    | 281/481 [02:41<01:54,  1.74it/s]"
          ],
          "name": "stderr"
        },
        {
          "output_type": "stream",
          "text": [
            "Predicted class:\n",
            "bee (n02206856) with probability 0.14\n"
          ],
          "name": "stdout"
        },
        {
          "output_type": "stream",
          "text": [
            "\r 59%|█████▊    | 282/481 [02:42<01:54,  1.74it/s]"
          ],
          "name": "stderr"
        },
        {
          "output_type": "stream",
          "text": [
            "Predicted class:\n",
            "bee (n02206856) with probability 0.17\n"
          ],
          "name": "stdout"
        },
        {
          "output_type": "stream",
          "text": [
            "\r 59%|█████▉    | 283/481 [02:43<01:54,  1.74it/s]"
          ],
          "name": "stderr"
        },
        {
          "output_type": "stream",
          "text": [
            "Predicted class:\n",
            "bee (n02206856) with probability 0.16\n"
          ],
          "name": "stdout"
        },
        {
          "output_type": "stream",
          "text": [
            "\r 59%|█████▉    | 284/481 [02:44<01:53,  1.73it/s]"
          ],
          "name": "stderr"
        },
        {
          "output_type": "stream",
          "text": [
            "Predicted class:\n",
            "bee (n02206856) with probability 0.14\n"
          ],
          "name": "stdout"
        },
        {
          "output_type": "stream",
          "text": [
            "\r 59%|█████▉    | 285/481 [02:44<01:53,  1.73it/s]"
          ],
          "name": "stderr"
        },
        {
          "output_type": "stream",
          "text": [
            "Predicted class:\n",
            "bee (n02206856) with probability 0.14\n"
          ],
          "name": "stdout"
        },
        {
          "output_type": "stream",
          "text": [
            "\r 59%|█████▉    | 286/481 [02:45<01:53,  1.72it/s]"
          ],
          "name": "stderr"
        },
        {
          "output_type": "stream",
          "text": [
            "Predicted class:\n",
            "bee (n02206856) with probability 0.14\n"
          ],
          "name": "stdout"
        },
        {
          "output_type": "stream",
          "text": [
            "\r 60%|█████▉    | 287/481 [02:46<01:52,  1.72it/s]"
          ],
          "name": "stderr"
        },
        {
          "output_type": "stream",
          "text": [
            "Predicted class:\n",
            "bee (n02206856) with probability 0.18\n"
          ],
          "name": "stdout"
        },
        {
          "output_type": "stream",
          "text": [
            "\r 60%|█████▉    | 288/481 [02:47<01:52,  1.71it/s]"
          ],
          "name": "stderr"
        },
        {
          "output_type": "stream",
          "text": [
            "Predicted class:\n",
            "bee (n02206856) with probability 0.17\n"
          ],
          "name": "stdout"
        },
        {
          "output_type": "stream",
          "text": [
            "\r 60%|██████    | 289/481 [02:48<01:52,  1.71it/s]"
          ],
          "name": "stderr"
        },
        {
          "output_type": "stream",
          "text": [
            "Predicted class:\n",
            "bee (n02206856) with probability 0.19\n"
          ],
          "name": "stdout"
        },
        {
          "output_type": "stream",
          "text": [
            "\r 60%|██████    | 290/481 [02:49<01:51,  1.71it/s]"
          ],
          "name": "stderr"
        },
        {
          "output_type": "stream",
          "text": [
            "Predicted class:\n",
            "bee (n02206856) with probability 0.24\n"
          ],
          "name": "stdout"
        },
        {
          "output_type": "stream",
          "text": [
            "\r 60%|██████    | 291/481 [02:50<01:51,  1.70it/s]"
          ],
          "name": "stderr"
        },
        {
          "output_type": "stream",
          "text": [
            "Predicted class:\n",
            "bee (n02206856) with probability 0.24\n"
          ],
          "name": "stdout"
        },
        {
          "output_type": "stream",
          "text": [
            "\r 61%|██████    | 292/481 [02:51<01:51,  1.70it/s]"
          ],
          "name": "stderr"
        },
        {
          "output_type": "stream",
          "text": [
            "Predicted class:\n",
            "bee (n02206856) with probability 0.26\n"
          ],
          "name": "stdout"
        },
        {
          "output_type": "stream",
          "text": [
            "\r 61%|██████    | 293/481 [02:52<01:50,  1.69it/s]"
          ],
          "name": "stderr"
        },
        {
          "output_type": "stream",
          "text": [
            "Predicted class:\n",
            "bee (n02206856) with probability 0.20\n"
          ],
          "name": "stdout"
        },
        {
          "output_type": "stream",
          "text": [
            "\r 61%|██████    | 294/481 [02:53<01:50,  1.69it/s]"
          ],
          "name": "stderr"
        },
        {
          "output_type": "stream",
          "text": [
            "Predicted class:\n",
            "bee (n02206856) with probability 0.22\n"
          ],
          "name": "stdout"
        },
        {
          "output_type": "stream",
          "text": [
            "\r 61%|██████▏   | 295/481 [02:54<01:50,  1.69it/s]"
          ],
          "name": "stderr"
        },
        {
          "output_type": "stream",
          "text": [
            "Predicted class:\n",
            "bee (n02206856) with probability 0.21\n"
          ],
          "name": "stdout"
        },
        {
          "output_type": "stream",
          "text": [
            "\r 62%|██████▏   | 296/481 [02:55<01:49,  1.68it/s]"
          ],
          "name": "stderr"
        },
        {
          "output_type": "stream",
          "text": [
            "Predicted class:\n",
            "bee (n02206856) with probability 0.21\n"
          ],
          "name": "stdout"
        },
        {
          "output_type": "stream",
          "text": [
            "\r 62%|██████▏   | 297/481 [02:57<01:49,  1.68it/s]"
          ],
          "name": "stderr"
        },
        {
          "output_type": "stream",
          "text": [
            "Predicted class:\n",
            "bee (n02206856) with probability 0.15\n"
          ],
          "name": "stdout"
        },
        {
          "output_type": "stream",
          "text": [
            "\r 62%|██████▏   | 298/481 [02:58<01:49,  1.67it/s]"
          ],
          "name": "stderr"
        },
        {
          "output_type": "stream",
          "text": [
            "Predicted class:\n",
            "bee (n02206856) with probability 0.14\n"
          ],
          "name": "stdout"
        },
        {
          "output_type": "stream",
          "text": [
            "\r 62%|██████▏   | 299/481 [02:59<01:48,  1.67it/s]"
          ],
          "name": "stderr"
        },
        {
          "output_type": "stream",
          "text": [
            "Predicted class:\n",
            "bee (n02206856) with probability 0.15\n"
          ],
          "name": "stdout"
        },
        {
          "output_type": "stream",
          "text": [
            "\r 62%|██████▏   | 300/481 [03:00<01:48,  1.67it/s]"
          ],
          "name": "stderr"
        },
        {
          "output_type": "stream",
          "text": [
            "Predicted class:\n",
            "bee (n02206856) with probability 0.15\n"
          ],
          "name": "stdout"
        },
        {
          "output_type": "stream",
          "text": [
            "\r 63%|██████▎   | 301/481 [03:01<01:48,  1.66it/s]"
          ],
          "name": "stderr"
        },
        {
          "output_type": "stream",
          "text": [
            "Predicted class:\n",
            "bee (n02206856) with probability 0.15\n"
          ],
          "name": "stdout"
        },
        {
          "output_type": "stream",
          "text": [
            "\r 63%|██████▎   | 302/481 [03:02<01:47,  1.66it/s]"
          ],
          "name": "stderr"
        },
        {
          "output_type": "stream",
          "text": [
            "Predicted class:\n",
            "bee (n02206856) with probability 0.16\n"
          ],
          "name": "stdout"
        },
        {
          "output_type": "stream",
          "text": [
            "\r 63%|██████▎   | 303/481 [03:03<01:47,  1.65it/s]"
          ],
          "name": "stderr"
        },
        {
          "output_type": "stream",
          "text": [
            "Predicted class:\n",
            "bee (n02206856) with probability 0.22\n"
          ],
          "name": "stdout"
        },
        {
          "output_type": "stream",
          "text": [
            "\r 63%|██████▎   | 304/481 [03:04<01:47,  1.65it/s]"
          ],
          "name": "stderr"
        },
        {
          "output_type": "stream",
          "text": [
            "Predicted class:\n",
            "bee (n02206856) with probability 0.17\n"
          ],
          "name": "stdout"
        },
        {
          "output_type": "stream",
          "text": [
            "\r 63%|██████▎   | 305/481 [03:05<01:46,  1.65it/s]"
          ],
          "name": "stderr"
        },
        {
          "output_type": "stream",
          "text": [
            "Predicted class:\n",
            "bee (n02206856) with probability 0.14\n"
          ],
          "name": "stdout"
        },
        {
          "output_type": "stream",
          "text": [
            "\r 64%|██████▎   | 306/481 [03:06<01:46,  1.64it/s]"
          ],
          "name": "stderr"
        },
        {
          "output_type": "stream",
          "text": [
            "Predicted class:\n",
            "bee (n02206856) with probability 0.14\n"
          ],
          "name": "stdout"
        },
        {
          "output_type": "stream",
          "text": [
            "\r 64%|██████▍   | 307/481 [03:07<01:46,  1.64it/s]"
          ],
          "name": "stderr"
        },
        {
          "output_type": "stream",
          "text": [
            "Predicted class:\n",
            "bee (n02206856) with probability 0.13\n"
          ],
          "name": "stdout"
        },
        {
          "output_type": "stream",
          "text": [
            "\r 64%|██████▍   | 308/481 [03:08<01:45,  1.63it/s]"
          ],
          "name": "stderr"
        },
        {
          "output_type": "stream",
          "text": [
            "Predicted class:\n",
            "bee (n02206856) with probability 0.13\n"
          ],
          "name": "stdout"
        },
        {
          "output_type": "stream",
          "text": [
            "\r 64%|██████▍   | 309/481 [03:09<01:45,  1.63it/s]"
          ],
          "name": "stderr"
        },
        {
          "output_type": "stream",
          "text": [
            "Predicted class:\n",
            "bee (n02206856) with probability 0.10\n"
          ],
          "name": "stdout"
        },
        {
          "output_type": "stream",
          "text": [
            "\r 64%|██████▍   | 310/481 [03:10<01:45,  1.63it/s]"
          ],
          "name": "stderr"
        },
        {
          "output_type": "stream",
          "text": [
            "Predicted class:\n",
            "cardoon (n07730033) with probability 0.11\n"
          ],
          "name": "stdout"
        },
        {
          "output_type": "stream",
          "text": [
            "\r 65%|██████▍   | 311/481 [03:11<01:44,  1.62it/s]"
          ],
          "name": "stderr"
        },
        {
          "output_type": "stream",
          "text": [
            "Predicted class:\n",
            "cardoon (n07730033) with probability 0.11\n"
          ],
          "name": "stdout"
        },
        {
          "output_type": "stream",
          "text": [
            "\r 65%|██████▍   | 312/481 [03:12<01:44,  1.62it/s]"
          ],
          "name": "stderr"
        },
        {
          "output_type": "stream",
          "text": [
            "Predicted class:\n",
            "cardoon (n07730033) with probability 0.11\n"
          ],
          "name": "stdout"
        },
        {
          "output_type": "stream",
          "text": [
            "\r 65%|██████▌   | 313/481 [03:13<01:43,  1.62it/s]"
          ],
          "name": "stderr"
        },
        {
          "output_type": "stream",
          "text": [
            "Predicted class:\n",
            "cardoon (n07730033) with probability 0.11\n"
          ],
          "name": "stdout"
        },
        {
          "output_type": "stream",
          "text": [
            "\r 65%|██████▌   | 314/481 [03:14<01:43,  1.61it/s]"
          ],
          "name": "stderr"
        },
        {
          "output_type": "stream",
          "text": [
            "Predicted class:\n",
            "cardoon (n07730033) with probability 0.12\n"
          ],
          "name": "stdout"
        },
        {
          "output_type": "stream",
          "text": [
            "\r 65%|██████▌   | 315/481 [03:15<01:43,  1.61it/s]"
          ],
          "name": "stderr"
        },
        {
          "output_type": "stream",
          "text": [
            "Predicted class:\n",
            "cardoon (n07730033) with probability 0.11\n"
          ],
          "name": "stdout"
        },
        {
          "output_type": "stream",
          "text": [
            "\r 66%|██████▌   | 316/481 [03:17<01:42,  1.60it/s]"
          ],
          "name": "stderr"
        },
        {
          "output_type": "stream",
          "text": [
            "Predicted class:\n",
            "cardoon (n07730033) with probability 0.11\n"
          ],
          "name": "stdout"
        },
        {
          "output_type": "stream",
          "text": [
            "\r 66%|██████▌   | 317/481 [03:18<01:42,  1.60it/s]"
          ],
          "name": "stderr"
        },
        {
          "output_type": "stream",
          "text": [
            "Predicted class:\n",
            "cardoon (n07730033) with probability 0.08\n"
          ],
          "name": "stdout"
        },
        {
          "output_type": "stream",
          "text": [
            "\r 66%|██████▌   | 318/481 [03:19<01:42,  1.60it/s]"
          ],
          "name": "stderr"
        },
        {
          "output_type": "stream",
          "text": [
            "Predicted class:\n",
            "feather_boa (n03325584) with probability 0.08\n"
          ],
          "name": "stdout"
        },
        {
          "output_type": "stream",
          "text": [
            "\r 66%|██████▋   | 319/481 [03:20<01:41,  1.59it/s]"
          ],
          "name": "stderr"
        },
        {
          "output_type": "stream",
          "text": [
            "Predicted class:\n",
            "feather_boa (n03325584) with probability 0.09\n"
          ],
          "name": "stdout"
        },
        {
          "output_type": "stream",
          "text": [
            "\r 67%|██████▋   | 320/481 [03:21<01:41,  1.59it/s]"
          ],
          "name": "stderr"
        },
        {
          "output_type": "stream",
          "text": [
            "Predicted class:\n",
            "feather_boa (n03325584) with probability 0.07\n"
          ],
          "name": "stdout"
        },
        {
          "output_type": "stream",
          "text": [
            "\r 67%|██████▋   | 321/481 [03:22<01:40,  1.59it/s]"
          ],
          "name": "stderr"
        },
        {
          "output_type": "stream",
          "text": [
            "Predicted class:\n",
            "feather_boa (n03325584) with probability 0.07\n"
          ],
          "name": "stdout"
        },
        {
          "output_type": "stream",
          "text": [
            "\r 67%|██████▋   | 322/481 [03:23<01:40,  1.58it/s]"
          ],
          "name": "stderr"
        },
        {
          "output_type": "stream",
          "text": [
            "Predicted class:\n",
            "feather_boa (n03325584) with probability 0.08\n"
          ],
          "name": "stdout"
        },
        {
          "output_type": "stream",
          "text": [
            "\r 67%|██████▋   | 323/481 [03:24<01:40,  1.58it/s]"
          ],
          "name": "stderr"
        },
        {
          "output_type": "stream",
          "text": [
            "Predicted class:\n",
            "bee (n02206856) with probability 0.09\n"
          ],
          "name": "stdout"
        },
        {
          "output_type": "stream",
          "text": [
            "\r 67%|██████▋   | 324/481 [03:25<01:39,  1.57it/s]"
          ],
          "name": "stderr"
        },
        {
          "output_type": "stream",
          "text": [
            "Predicted class:\n",
            "jellyfish (n01910747) with probability 0.11\n"
          ],
          "name": "stdout"
        },
        {
          "output_type": "stream",
          "text": [
            "\r 68%|██████▊   | 325/481 [03:26<01:39,  1.57it/s]"
          ],
          "name": "stderr"
        },
        {
          "output_type": "stream",
          "text": [
            "Predicted class:\n",
            "jellyfish (n01910747) with probability 0.13\n"
          ],
          "name": "stdout"
        },
        {
          "output_type": "stream",
          "text": [
            "\r 68%|██████▊   | 326/481 [03:28<01:38,  1.57it/s]"
          ],
          "name": "stderr"
        },
        {
          "output_type": "stream",
          "text": [
            "Predicted class:\n",
            "jellyfish (n01910747) with probability 0.13\n"
          ],
          "name": "stdout"
        },
        {
          "output_type": "stream",
          "text": [
            "\r 68%|██████▊   | 327/481 [03:29<01:38,  1.56it/s]"
          ],
          "name": "stderr"
        },
        {
          "output_type": "stream",
          "text": [
            "Predicted class:\n",
            "jellyfish (n01910747) with probability 0.12\n"
          ],
          "name": "stdout"
        },
        {
          "output_type": "stream",
          "text": [
            "\r 68%|██████▊   | 328/481 [03:30<01:38,  1.56it/s]"
          ],
          "name": "stderr"
        },
        {
          "output_type": "stream",
          "text": [
            "Predicted class:\n",
            "jellyfish (n01910747) with probability 0.10\n"
          ],
          "name": "stdout"
        },
        {
          "output_type": "stream",
          "text": [
            "\r 68%|██████▊   | 329/481 [03:31<01:37,  1.56it/s]"
          ],
          "name": "stderr"
        },
        {
          "output_type": "stream",
          "text": [
            "Predicted class:\n",
            "jellyfish (n01910747) with probability 0.10\n"
          ],
          "name": "stdout"
        },
        {
          "output_type": "stream",
          "text": [
            "\r 69%|██████▊   | 330/481 [03:32<01:37,  1.55it/s]"
          ],
          "name": "stderr"
        },
        {
          "output_type": "stream",
          "text": [
            "Predicted class:\n",
            "jellyfish (n01910747) with probability 0.12\n"
          ],
          "name": "stdout"
        },
        {
          "output_type": "stream",
          "text": [
            "\r 69%|██████▉   | 331/481 [03:33<01:36,  1.55it/s]"
          ],
          "name": "stderr"
        },
        {
          "output_type": "stream",
          "text": [
            "Predicted class:\n",
            "jellyfish (n01910747) with probability 0.13\n"
          ],
          "name": "stdout"
        },
        {
          "output_type": "stream",
          "text": [
            "\r 69%|██████▉   | 332/481 [03:34<01:36,  1.54it/s]"
          ],
          "name": "stderr"
        },
        {
          "output_type": "stream",
          "text": [
            "Predicted class:\n",
            "jellyfish (n01910747) with probability 0.12\n"
          ],
          "name": "stdout"
        },
        {
          "output_type": "stream",
          "text": [
            "\r 69%|██████▉   | 333/481 [03:36<01:36,  1.54it/s]"
          ],
          "name": "stderr"
        },
        {
          "output_type": "stream",
          "text": [
            "Predicted class:\n",
            "jellyfish (n01910747) with probability 0.14\n"
          ],
          "name": "stdout"
        },
        {
          "output_type": "stream",
          "text": [
            "\r 69%|██████▉   | 334/481 [03:37<01:35,  1.54it/s]"
          ],
          "name": "stderr"
        },
        {
          "output_type": "stream",
          "text": [
            "Predicted class:\n",
            "jellyfish (n01910747) with probability 0.16\n"
          ],
          "name": "stdout"
        },
        {
          "output_type": "stream",
          "text": [
            "\r 70%|██████▉   | 335/481 [03:38<01:35,  1.53it/s]"
          ],
          "name": "stderr"
        },
        {
          "output_type": "stream",
          "text": [
            "Predicted class:\n",
            "jellyfish (n01910747) with probability 0.12\n"
          ],
          "name": "stdout"
        },
        {
          "output_type": "stream",
          "text": [
            "\r 70%|██████▉   | 336/481 [03:39<01:34,  1.53it/s]"
          ],
          "name": "stderr"
        },
        {
          "output_type": "stream",
          "text": [
            "Predicted class:\n",
            "jellyfish (n01910747) with probability 0.11\n"
          ],
          "name": "stdout"
        },
        {
          "output_type": "stream",
          "text": [
            "\r 70%|███████   | 337/481 [03:40<01:34,  1.53it/s]"
          ],
          "name": "stderr"
        },
        {
          "output_type": "stream",
          "text": [
            "Predicted class:\n",
            "patas (n02486261) with probability 0.59\n"
          ],
          "name": "stdout"
        },
        {
          "output_type": "stream",
          "text": [
            "\r 70%|███████   | 338/481 [03:41<01:33,  1.52it/s]"
          ],
          "name": "stderr"
        },
        {
          "output_type": "stream",
          "text": [
            "Predicted class:\n",
            "patas (n02486261) with probability 0.52\n"
          ],
          "name": "stdout"
        },
        {
          "output_type": "stream",
          "text": [
            "\r 70%|███████   | 339/481 [03:42<01:33,  1.52it/s]"
          ],
          "name": "stderr"
        },
        {
          "output_type": "stream",
          "text": [
            "Predicted class:\n",
            "patas (n02486261) with probability 0.52\n"
          ],
          "name": "stdout"
        },
        {
          "output_type": "stream",
          "text": [
            "\r 71%|███████   | 340/481 [03:44<01:32,  1.52it/s]"
          ],
          "name": "stderr"
        },
        {
          "output_type": "stream",
          "text": [
            "Predicted class:\n",
            "patas (n02486261) with probability 0.58\n"
          ],
          "name": "stdout"
        },
        {
          "output_type": "stream",
          "text": [
            "\r 71%|███████   | 341/481 [03:45<01:32,  1.51it/s]"
          ],
          "name": "stderr"
        },
        {
          "output_type": "stream",
          "text": [
            "Predicted class:\n",
            "patas (n02486261) with probability 0.53\n"
          ],
          "name": "stdout"
        },
        {
          "output_type": "stream",
          "text": [
            "\r 71%|███████   | 342/481 [03:46<01:32,  1.51it/s]"
          ],
          "name": "stderr"
        },
        {
          "output_type": "stream",
          "text": [
            "Predicted class:\n",
            "patas (n02486261) with probability 0.47\n"
          ],
          "name": "stdout"
        },
        {
          "output_type": "stream",
          "text": [
            "\r 71%|███████▏  | 343/481 [03:47<01:31,  1.51it/s]"
          ],
          "name": "stderr"
        },
        {
          "output_type": "stream",
          "text": [
            "Predicted class:\n",
            "patas (n02486261) with probability 0.45\n"
          ],
          "name": "stdout"
        },
        {
          "output_type": "stream",
          "text": [
            "\r 72%|███████▏  | 344/481 [03:48<01:31,  1.50it/s]"
          ],
          "name": "stderr"
        },
        {
          "output_type": "stream",
          "text": [
            "Predicted class:\n",
            "baboon (n02486410) with probability 0.46\n"
          ],
          "name": "stdout"
        },
        {
          "output_type": "stream",
          "text": [
            "\r 72%|███████▏  | 345/481 [03:49<01:30,  1.50it/s]"
          ],
          "name": "stderr"
        },
        {
          "output_type": "stream",
          "text": [
            "Predicted class:\n",
            "patas (n02486261) with probability 0.45\n"
          ],
          "name": "stdout"
        },
        {
          "output_type": "stream",
          "text": [
            "\r 72%|███████▏  | 346/481 [03:51<01:30,  1.50it/s]"
          ],
          "name": "stderr"
        },
        {
          "output_type": "stream",
          "text": [
            "Predicted class:\n",
            "patas (n02486261) with probability 0.54\n"
          ],
          "name": "stdout"
        },
        {
          "output_type": "stream",
          "text": [
            "\r 72%|███████▏  | 347/481 [03:52<01:29,  1.49it/s]"
          ],
          "name": "stderr"
        },
        {
          "output_type": "stream",
          "text": [
            "Predicted class:\n",
            "patas (n02486261) with probability 0.44\n"
          ],
          "name": "stdout"
        },
        {
          "output_type": "stream",
          "text": [
            "\r 72%|███████▏  | 348/481 [03:53<01:29,  1.49it/s]"
          ],
          "name": "stderr"
        },
        {
          "output_type": "stream",
          "text": [
            "Predicted class:\n",
            "patas (n02486261) with probability 0.50\n"
          ],
          "name": "stdout"
        },
        {
          "output_type": "stream",
          "text": [
            "\r 73%|███████▎  | 349/481 [03:54<01:28,  1.49it/s]"
          ],
          "name": "stderr"
        },
        {
          "output_type": "stream",
          "text": [
            "Predicted class:\n",
            "patas (n02486261) with probability 0.40\n"
          ],
          "name": "stdout"
        },
        {
          "output_type": "stream",
          "text": [
            "\r 73%|███████▎  | 350/481 [03:55<01:28,  1.48it/s]"
          ],
          "name": "stderr"
        },
        {
          "output_type": "stream",
          "text": [
            "Predicted class:\n",
            "baboon (n02486410) with probability 0.45\n"
          ],
          "name": "stdout"
        },
        {
          "output_type": "stream",
          "text": [
            "\r 73%|███████▎  | 351/481 [03:57<01:27,  1.48it/s]"
          ],
          "name": "stderr"
        },
        {
          "output_type": "stream",
          "text": [
            "Predicted class:\n",
            "patas (n02486261) with probability 0.41\n"
          ],
          "name": "stdout"
        },
        {
          "output_type": "stream",
          "text": [
            "\r 73%|███████▎  | 352/481 [03:58<01:27,  1.48it/s]"
          ],
          "name": "stderr"
        },
        {
          "output_type": "stream",
          "text": [
            "Predicted class:\n",
            "patas (n02486261) with probability 0.46\n"
          ],
          "name": "stdout"
        },
        {
          "output_type": "stream",
          "text": [
            "\r 73%|███████▎  | 353/481 [03:59<01:26,  1.47it/s]"
          ],
          "name": "stderr"
        },
        {
          "output_type": "stream",
          "text": [
            "Predicted class:\n",
            "patas (n02486261) with probability 0.42\n"
          ],
          "name": "stdout"
        },
        {
          "output_type": "stream",
          "text": [
            "\r 74%|███████▎  | 354/481 [04:00<01:26,  1.47it/s]"
          ],
          "name": "stderr"
        },
        {
          "output_type": "stream",
          "text": [
            "Predicted class:\n",
            "patas (n02486261) with probability 0.36\n"
          ],
          "name": "stdout"
        },
        {
          "output_type": "stream",
          "text": [
            "\r 74%|███████▍  | 355/481 [04:02<01:25,  1.47it/s]"
          ],
          "name": "stderr"
        },
        {
          "output_type": "stream",
          "text": [
            "Predicted class:\n",
            "patas (n02486261) with probability 0.38\n"
          ],
          "name": "stdout"
        },
        {
          "output_type": "stream",
          "text": [
            "\r 74%|███████▍  | 356/481 [04:03<01:25,  1.46it/s]"
          ],
          "name": "stderr"
        },
        {
          "output_type": "stream",
          "text": [
            "Predicted class:\n",
            "baboon (n02486410) with probability 0.42\n"
          ],
          "name": "stdout"
        },
        {
          "output_type": "stream",
          "text": [
            "\r 74%|███████▍  | 357/481 [04:04<01:24,  1.46it/s]"
          ],
          "name": "stderr"
        },
        {
          "output_type": "stream",
          "text": [
            "Predicted class:\n",
            "baboon (n02486410) with probability 0.43\n"
          ],
          "name": "stdout"
        },
        {
          "output_type": "stream",
          "text": [
            "\r 74%|███████▍  | 358/481 [04:05<01:24,  1.46it/s]"
          ],
          "name": "stderr"
        },
        {
          "output_type": "stream",
          "text": [
            "Predicted class:\n",
            "baboon (n02486410) with probability 0.44\n"
          ],
          "name": "stdout"
        },
        {
          "output_type": "stream",
          "text": [
            "\r 75%|███████▍  | 359/481 [04:06<01:23,  1.45it/s]"
          ],
          "name": "stderr"
        },
        {
          "output_type": "stream",
          "text": [
            "Predicted class:\n",
            "patas (n02486261) with probability 0.45\n"
          ],
          "name": "stdout"
        },
        {
          "output_type": "stream",
          "text": [
            "\r 75%|███████▍  | 360/481 [04:08<01:23,  1.45it/s]"
          ],
          "name": "stderr"
        },
        {
          "output_type": "stream",
          "text": [
            "Predicted class:\n",
            "baboon (n02486410) with probability 0.35\n"
          ],
          "name": "stdout"
        },
        {
          "output_type": "stream",
          "text": [
            "\r 75%|███████▌  | 361/481 [04:09<01:22,  1.45it/s]"
          ],
          "name": "stderr"
        },
        {
          "output_type": "stream",
          "text": [
            "Predicted class:\n",
            "baboon (n02486410) with probability 0.35\n"
          ],
          "name": "stdout"
        },
        {
          "output_type": "stream",
          "text": [
            "\r 75%|███████▌  | 362/481 [04:10<01:22,  1.44it/s]"
          ],
          "name": "stderr"
        },
        {
          "output_type": "stream",
          "text": [
            "Predicted class:\n",
            "baboon (n02486410) with probability 0.39\n"
          ],
          "name": "stdout"
        },
        {
          "output_type": "stream",
          "text": [
            "\r 75%|███████▌  | 363/481 [04:12<01:21,  1.44it/s]"
          ],
          "name": "stderr"
        },
        {
          "output_type": "stream",
          "text": [
            "Predicted class:\n",
            "baboon (n02486410) with probability 0.39\n"
          ],
          "name": "stdout"
        },
        {
          "output_type": "stream",
          "text": [
            "\r 76%|███████▌  | 364/481 [04:13<01:21,  1.44it/s]"
          ],
          "name": "stderr"
        },
        {
          "output_type": "stream",
          "text": [
            "Predicted class:\n",
            "baboon (n02486410) with probability 0.40\n"
          ],
          "name": "stdout"
        },
        {
          "output_type": "stream",
          "text": [
            "\r 76%|███████▌  | 365/481 [04:14<01:20,  1.43it/s]"
          ],
          "name": "stderr"
        },
        {
          "output_type": "stream",
          "text": [
            "Predicted class:\n",
            "baboon (n02486410) with probability 0.38\n"
          ],
          "name": "stdout"
        },
        {
          "output_type": "stream",
          "text": [
            "\r 76%|███████▌  | 366/481 [04:15<01:20,  1.43it/s]"
          ],
          "name": "stderr"
        },
        {
          "output_type": "stream",
          "text": [
            "Predicted class:\n",
            "baboon (n02486410) with probability 0.41\n"
          ],
          "name": "stdout"
        },
        {
          "output_type": "stream",
          "text": [
            "\r 76%|███████▋  | 367/481 [04:16<01:19,  1.43it/s]"
          ],
          "name": "stderr"
        },
        {
          "output_type": "stream",
          "text": [
            "Predicted class:\n",
            "baboon (n02486410) with probability 0.37\n"
          ],
          "name": "stdout"
        },
        {
          "output_type": "stream",
          "text": [
            "\r 77%|███████▋  | 368/481 [04:18<01:19,  1.43it/s]"
          ],
          "name": "stderr"
        },
        {
          "output_type": "stream",
          "text": [
            "Predicted class:\n",
            "patas (n02486261) with probability 0.49\n"
          ],
          "name": "stdout"
        },
        {
          "output_type": "stream",
          "text": [
            "\r 77%|███████▋  | 369/481 [04:19<01:18,  1.42it/s]"
          ],
          "name": "stderr"
        },
        {
          "output_type": "stream",
          "text": [
            "Predicted class:\n",
            "patas (n02486261) with probability 0.48\n"
          ],
          "name": "stdout"
        },
        {
          "output_type": "stream",
          "text": [
            "\r 77%|███████▋  | 370/481 [04:20<01:18,  1.42it/s]"
          ],
          "name": "stderr"
        },
        {
          "output_type": "stream",
          "text": [
            "Predicted class:\n",
            "patas (n02486261) with probability 0.50\n"
          ],
          "name": "stdout"
        },
        {
          "output_type": "stream",
          "text": [
            "\r 77%|███████▋  | 371/481 [04:21<01:17,  1.42it/s]"
          ],
          "name": "stderr"
        },
        {
          "output_type": "stream",
          "text": [
            "Predicted class:\n",
            "patas (n02486261) with probability 0.56\n"
          ],
          "name": "stdout"
        },
        {
          "output_type": "stream",
          "text": [
            "\r 77%|███████▋  | 372/481 [04:23<01:17,  1.41it/s]"
          ],
          "name": "stderr"
        },
        {
          "output_type": "stream",
          "text": [
            "Predicted class:\n",
            "patas (n02486261) with probability 0.61\n"
          ],
          "name": "stdout"
        },
        {
          "output_type": "stream",
          "text": [
            "\r 78%|███████▊  | 373/481 [04:24<01:16,  1.41it/s]"
          ],
          "name": "stderr"
        },
        {
          "output_type": "stream",
          "text": [
            "Predicted class:\n",
            "patas (n02486261) with probability 0.65\n"
          ],
          "name": "stdout"
        },
        {
          "output_type": "stream",
          "text": [
            "\r 78%|███████▊  | 374/481 [04:25<01:16,  1.41it/s]"
          ],
          "name": "stderr"
        },
        {
          "output_type": "stream",
          "text": [
            "Predicted class:\n",
            "patas (n02486261) with probability 0.61\n"
          ],
          "name": "stdout"
        },
        {
          "output_type": "stream",
          "text": [
            "\r 78%|███████▊  | 375/481 [04:27<01:15,  1.40it/s]"
          ],
          "name": "stderr"
        },
        {
          "output_type": "stream",
          "text": [
            "Predicted class:\n",
            "patas (n02486261) with probability 0.62\n"
          ],
          "name": "stdout"
        },
        {
          "output_type": "stream",
          "text": [
            "\r 78%|███████▊  | 376/481 [04:28<01:14,  1.40it/s]"
          ],
          "name": "stderr"
        },
        {
          "output_type": "stream",
          "text": [
            "Predicted class:\n",
            "patas (n02486261) with probability 0.65\n"
          ],
          "name": "stdout"
        },
        {
          "output_type": "stream",
          "text": [
            "\r 78%|███████▊  | 377/481 [04:29<01:14,  1.40it/s]"
          ],
          "name": "stderr"
        },
        {
          "output_type": "stream",
          "text": [
            "Predicted class:\n",
            "patas (n02486261) with probability 0.65\n"
          ],
          "name": "stdout"
        },
        {
          "output_type": "stream",
          "text": [
            "\r 79%|███████▊  | 378/481 [04:30<01:13,  1.40it/s]"
          ],
          "name": "stderr"
        },
        {
          "output_type": "stream",
          "text": [
            "Predicted class:\n",
            "patas (n02486261) with probability 0.63\n"
          ],
          "name": "stdout"
        },
        {
          "output_type": "stream",
          "text": [
            "\r 79%|███████▉  | 379/481 [04:32<01:13,  1.39it/s]"
          ],
          "name": "stderr"
        },
        {
          "output_type": "stream",
          "text": [
            "Predicted class:\n",
            "patas (n02486261) with probability 0.70\n"
          ],
          "name": "stdout"
        },
        {
          "output_type": "stream",
          "text": [
            "\r 79%|███████▉  | 380/481 [04:33<01:12,  1.39it/s]"
          ],
          "name": "stderr"
        },
        {
          "output_type": "stream",
          "text": [
            "Predicted class:\n",
            "patas (n02486261) with probability 0.73\n"
          ],
          "name": "stdout"
        },
        {
          "output_type": "stream",
          "text": [
            "\r 79%|███████▉  | 381/481 [04:34<01:12,  1.39it/s]"
          ],
          "name": "stderr"
        },
        {
          "output_type": "stream",
          "text": [
            "Predicted class:\n",
            "patas (n02486261) with probability 0.77\n"
          ],
          "name": "stdout"
        },
        {
          "output_type": "stream",
          "text": [
            "\r 79%|███████▉  | 382/481 [04:36<01:11,  1.38it/s]"
          ],
          "name": "stderr"
        },
        {
          "output_type": "stream",
          "text": [
            "Predicted class:\n",
            "patas (n02486261) with probability 0.80\n"
          ],
          "name": "stdout"
        },
        {
          "output_type": "stream",
          "text": [
            "\r 80%|███████▉  | 383/481 [04:37<01:10,  1.38it/s]"
          ],
          "name": "stderr"
        },
        {
          "output_type": "stream",
          "text": [
            "Predicted class:\n",
            "patas (n02486261) with probability 0.81\n"
          ],
          "name": "stdout"
        },
        {
          "output_type": "stream",
          "text": [
            "\r 80%|███████▉  | 384/481 [04:38<01:10,  1.38it/s]"
          ],
          "name": "stderr"
        },
        {
          "output_type": "stream",
          "text": [
            "Predicted class:\n",
            "patas (n02486261) with probability 0.77\n"
          ],
          "name": "stdout"
        },
        {
          "output_type": "stream",
          "text": [
            "\r 80%|████████  | 385/481 [04:40<01:09,  1.37it/s]"
          ],
          "name": "stderr"
        },
        {
          "output_type": "stream",
          "text": [
            "Predicted class:\n",
            "patas (n02486261) with probability 0.71\n"
          ],
          "name": "stdout"
        },
        {
          "output_type": "stream",
          "text": [
            "\r 80%|████████  | 386/481 [04:41<01:09,  1.37it/s]"
          ],
          "name": "stderr"
        },
        {
          "output_type": "stream",
          "text": [
            "Predicted class:\n",
            "patas (n02486261) with probability 0.59\n"
          ],
          "name": "stdout"
        },
        {
          "output_type": "stream",
          "text": [
            "\r 80%|████████  | 387/481 [04:42<01:08,  1.37it/s]"
          ],
          "name": "stderr"
        },
        {
          "output_type": "stream",
          "text": [
            "Predicted class:\n",
            "patas (n02486261) with probability 0.52\n"
          ],
          "name": "stdout"
        },
        {
          "output_type": "stream",
          "text": [
            "\r 81%|████████  | 388/481 [04:44<01:08,  1.37it/s]"
          ],
          "name": "stderr"
        },
        {
          "output_type": "stream",
          "text": [
            "Predicted class:\n",
            "patas (n02486261) with probability 0.50\n"
          ],
          "name": "stdout"
        },
        {
          "output_type": "stream",
          "text": [
            "\r 81%|████████  | 389/481 [04:45<01:07,  1.36it/s]"
          ],
          "name": "stderr"
        },
        {
          "output_type": "stream",
          "text": [
            "Predicted class:\n",
            "patas (n02486261) with probability 0.45\n"
          ],
          "name": "stdout"
        },
        {
          "output_type": "stream",
          "text": [
            "\r 81%|████████  | 390/481 [04:46<01:06,  1.36it/s]"
          ],
          "name": "stderr"
        },
        {
          "output_type": "stream",
          "text": [
            "Predicted class:\n",
            "patas (n02486261) with probability 0.46\n"
          ],
          "name": "stdout"
        },
        {
          "output_type": "stream",
          "text": [
            "\r 81%|████████▏ | 391/481 [04:47<01:06,  1.36it/s]"
          ],
          "name": "stderr"
        },
        {
          "output_type": "stream",
          "text": [
            "Predicted class:\n",
            "patas (n02486261) with probability 0.52\n"
          ],
          "name": "stdout"
        },
        {
          "output_type": "stream",
          "text": [
            "\r 81%|████████▏ | 392/481 [04:49<01:05,  1.35it/s]"
          ],
          "name": "stderr"
        },
        {
          "output_type": "stream",
          "text": [
            "Predicted class:\n",
            "patas (n02486261) with probability 0.54\n"
          ],
          "name": "stdout"
        },
        {
          "output_type": "stream",
          "text": [
            "\r 82%|████████▏ | 393/481 [04:50<01:05,  1.35it/s]"
          ],
          "name": "stderr"
        },
        {
          "output_type": "stream",
          "text": [
            "Predicted class:\n",
            "patas (n02486261) with probability 0.50\n"
          ],
          "name": "stdout"
        },
        {
          "output_type": "stream",
          "text": [
            "\r 82%|████████▏ | 394/481 [04:51<01:04,  1.35it/s]"
          ],
          "name": "stderr"
        },
        {
          "output_type": "stream",
          "text": [
            "Predicted class:\n",
            "macaque (n02487347) with probability 0.44\n"
          ],
          "name": "stdout"
        },
        {
          "output_type": "stream",
          "text": [
            "\r 82%|████████▏ | 395/481 [04:53<01:03,  1.35it/s]"
          ],
          "name": "stderr"
        },
        {
          "output_type": "stream",
          "text": [
            "Predicted class:\n",
            "macaque (n02487347) with probability 0.52\n"
          ],
          "name": "stdout"
        },
        {
          "output_type": "stream",
          "text": [
            "\r 82%|████████▏ | 396/481 [04:54<01:03,  1.34it/s]"
          ],
          "name": "stderr"
        },
        {
          "output_type": "stream",
          "text": [
            "Predicted class:\n",
            "macaque (n02487347) with probability 0.48\n"
          ],
          "name": "stdout"
        },
        {
          "output_type": "stream",
          "text": [
            "\r 83%|████████▎ | 397/481 [04:56<01:02,  1.34it/s]"
          ],
          "name": "stderr"
        },
        {
          "output_type": "stream",
          "text": [
            "Predicted class:\n",
            "macaque (n02487347) with probability 0.44\n"
          ],
          "name": "stdout"
        },
        {
          "output_type": "stream",
          "text": [
            "\r 83%|████████▎ | 398/481 [04:57<01:02,  1.34it/s]"
          ],
          "name": "stderr"
        },
        {
          "output_type": "stream",
          "text": [
            "Predicted class:\n",
            "macaque (n02487347) with probability 0.42\n"
          ],
          "name": "stdout"
        },
        {
          "output_type": "stream",
          "text": [
            "\r 83%|████████▎ | 399/481 [04:58<01:01,  1.34it/s]"
          ],
          "name": "stderr"
        },
        {
          "output_type": "stream",
          "text": [
            "Predicted class:\n",
            "macaque (n02487347) with probability 0.45\n"
          ],
          "name": "stdout"
        },
        {
          "output_type": "stream",
          "text": [
            "\r 83%|████████▎ | 400/481 [05:00<01:00,  1.33it/s]"
          ],
          "name": "stderr"
        },
        {
          "output_type": "stream",
          "text": [
            "Predicted class:\n",
            "macaque (n02487347) with probability 0.49\n"
          ],
          "name": "stdout"
        },
        {
          "output_type": "stream",
          "text": [
            "\r 83%|████████▎ | 401/481 [05:01<01:00,  1.33it/s]"
          ],
          "name": "stderr"
        },
        {
          "output_type": "stream",
          "text": [
            "Predicted class:\n",
            "macaque (n02487347) with probability 0.46\n"
          ],
          "name": "stdout"
        },
        {
          "output_type": "stream",
          "text": [
            "\r 84%|████████▎ | 402/481 [05:02<00:59,  1.33it/s]"
          ],
          "name": "stderr"
        },
        {
          "output_type": "stream",
          "text": [
            "Predicted class:\n",
            "macaque (n02487347) with probability 0.48\n"
          ],
          "name": "stdout"
        },
        {
          "output_type": "stream",
          "text": [
            "\r 84%|████████▍ | 403/481 [05:04<00:58,  1.32it/s]"
          ],
          "name": "stderr"
        },
        {
          "output_type": "stream",
          "text": [
            "Predicted class:\n",
            "macaque (n02487347) with probability 0.49\n"
          ],
          "name": "stdout"
        },
        {
          "output_type": "stream",
          "text": [
            "\r 84%|████████▍ | 404/481 [05:05<00:58,  1.32it/s]"
          ],
          "name": "stderr"
        },
        {
          "output_type": "stream",
          "text": [
            "Predicted class:\n",
            "macaque (n02487347) with probability 0.49\n"
          ],
          "name": "stdout"
        },
        {
          "output_type": "stream",
          "text": [
            "\r 84%|████████▍ | 405/481 [05:06<00:57,  1.32it/s]"
          ],
          "name": "stderr"
        },
        {
          "output_type": "stream",
          "text": [
            "Predicted class:\n",
            "macaque (n02487347) with probability 0.44\n"
          ],
          "name": "stdout"
        },
        {
          "output_type": "stream",
          "text": [
            "\r 84%|████████▍ | 406/481 [05:08<00:56,  1.32it/s]"
          ],
          "name": "stderr"
        },
        {
          "output_type": "stream",
          "text": [
            "Predicted class:\n",
            "macaque (n02487347) with probability 0.41\n"
          ],
          "name": "stdout"
        },
        {
          "output_type": "stream",
          "text": [
            "\r 85%|████████▍ | 407/481 [05:09<00:56,  1.31it/s]"
          ],
          "name": "stderr"
        },
        {
          "output_type": "stream",
          "text": [
            "Predicted class:\n",
            "macaque (n02487347) with probability 0.41\n"
          ],
          "name": "stdout"
        },
        {
          "output_type": "stream",
          "text": [
            "\r 85%|████████▍ | 408/481 [05:11<00:55,  1.31it/s]"
          ],
          "name": "stderr"
        },
        {
          "output_type": "stream",
          "text": [
            "Predicted class:\n",
            "macaque (n02487347) with probability 0.34\n"
          ],
          "name": "stdout"
        },
        {
          "output_type": "stream",
          "text": [
            "\r 85%|████████▌ | 409/481 [05:12<00:55,  1.31it/s]"
          ],
          "name": "stderr"
        },
        {
          "output_type": "stream",
          "text": [
            "Predicted class:\n",
            "patas (n02486261) with probability 0.29\n"
          ],
          "name": "stdout"
        },
        {
          "output_type": "stream",
          "text": [
            "\r 85%|████████▌ | 410/481 [05:13<00:54,  1.31it/s]"
          ],
          "name": "stderr"
        },
        {
          "output_type": "stream",
          "text": [
            "Predicted class:\n",
            "patas (n02486261) with probability 0.25\n"
          ],
          "name": "stdout"
        },
        {
          "output_type": "stream",
          "text": [
            "\r 85%|████████▌ | 411/481 [05:15<00:53,  1.30it/s]"
          ],
          "name": "stderr"
        },
        {
          "output_type": "stream",
          "text": [
            "Predicted class:\n",
            "patas (n02486261) with probability 0.26\n"
          ],
          "name": "stdout"
        },
        {
          "output_type": "stream",
          "text": [
            "\r 86%|████████▌ | 412/481 [05:16<00:53,  1.30it/s]"
          ],
          "name": "stderr"
        },
        {
          "output_type": "stream",
          "text": [
            "Predicted class:\n",
            "gibbon (n02483362) with probability 0.28\n"
          ],
          "name": "stdout"
        },
        {
          "output_type": "stream",
          "text": [
            "\r 86%|████████▌ | 413/481 [05:18<00:52,  1.30it/s]"
          ],
          "name": "stderr"
        },
        {
          "output_type": "stream",
          "text": [
            "Predicted class:\n",
            "gibbon (n02483362) with probability 0.32\n"
          ],
          "name": "stdout"
        },
        {
          "output_type": "stream",
          "text": [
            "\r 86%|████████▌ | 414/481 [05:19<00:51,  1.30it/s]"
          ],
          "name": "stderr"
        },
        {
          "output_type": "stream",
          "text": [
            "Predicted class:\n",
            "patas (n02486261) with probability 0.29\n"
          ],
          "name": "stdout"
        },
        {
          "output_type": "stream",
          "text": [
            "\r 86%|████████▋ | 415/481 [05:20<00:51,  1.29it/s]"
          ],
          "name": "stderr"
        },
        {
          "output_type": "stream",
          "text": [
            "Predicted class:\n",
            "patas (n02486261) with probability 0.28\n"
          ],
          "name": "stdout"
        },
        {
          "output_type": "stream",
          "text": [
            "\r 86%|████████▋ | 416/481 [05:22<00:50,  1.29it/s]"
          ],
          "name": "stderr"
        },
        {
          "output_type": "stream",
          "text": [
            "Predicted class:\n",
            "patas (n02486261) with probability 0.30\n"
          ],
          "name": "stdout"
        },
        {
          "output_type": "stream",
          "text": [
            "\r 87%|████████▋ | 417/481 [05:23<00:49,  1.29it/s]"
          ],
          "name": "stderr"
        },
        {
          "output_type": "stream",
          "text": [
            "Predicted class:\n",
            "patas (n02486261) with probability 0.33\n"
          ],
          "name": "stdout"
        },
        {
          "output_type": "stream",
          "text": [
            "\r 87%|████████▋ | 418/481 [05:24<00:48,  1.29it/s]"
          ],
          "name": "stderr"
        },
        {
          "output_type": "stream",
          "text": [
            "Predicted class:\n",
            "macaque (n02487347) with probability 0.27\n"
          ],
          "name": "stdout"
        },
        {
          "output_type": "stream",
          "text": [
            "\r 87%|████████▋ | 419/481 [05:26<00:48,  1.28it/s]"
          ],
          "name": "stderr"
        },
        {
          "output_type": "stream",
          "text": [
            "Predicted class:\n",
            "patas (n02486261) with probability 0.24\n"
          ],
          "name": "stdout"
        },
        {
          "output_type": "stream",
          "text": [
            "\r 87%|████████▋ | 420/481 [05:27<00:47,  1.28it/s]"
          ],
          "name": "stderr"
        },
        {
          "output_type": "stream",
          "text": [
            "Predicted class:\n",
            "macaque (n02487347) with probability 0.24\n"
          ],
          "name": "stdout"
        },
        {
          "output_type": "stream",
          "text": [
            "\r 88%|████████▊ | 421/481 [05:29<00:46,  1.28it/s]"
          ],
          "name": "stderr"
        },
        {
          "output_type": "stream",
          "text": [
            "Predicted class:\n",
            "patas (n02486261) with probability 0.25\n"
          ],
          "name": "stdout"
        },
        {
          "output_type": "stream",
          "text": [
            "\r 88%|████████▊ | 422/481 [05:30<00:46,  1.28it/s]"
          ],
          "name": "stderr"
        },
        {
          "output_type": "stream",
          "text": [
            "Predicted class:\n",
            "patas (n02486261) with probability 0.27\n"
          ],
          "name": "stdout"
        },
        {
          "output_type": "stream",
          "text": [
            "\r 88%|████████▊ | 423/481 [05:32<00:45,  1.27it/s]"
          ],
          "name": "stderr"
        },
        {
          "output_type": "stream",
          "text": [
            "Predicted class:\n",
            "macaque (n02487347) with probability 0.27\n"
          ],
          "name": "stdout"
        },
        {
          "output_type": "stream",
          "text": [
            "\r 88%|████████▊ | 424/481 [05:33<00:44,  1.27it/s]"
          ],
          "name": "stderr"
        },
        {
          "output_type": "stream",
          "text": [
            "Predicted class:\n",
            "macaque (n02487347) with probability 0.28\n"
          ],
          "name": "stdout"
        },
        {
          "output_type": "stream",
          "text": [
            "\r 88%|████████▊ | 425/481 [05:35<00:44,  1.27it/s]"
          ],
          "name": "stderr"
        },
        {
          "output_type": "stream",
          "text": [
            "Predicted class:\n",
            "patas (n02486261) with probability 0.26\n"
          ],
          "name": "stdout"
        },
        {
          "output_type": "stream",
          "text": [
            "\r 89%|████████▊ | 426/481 [05:36<00:43,  1.27it/s]"
          ],
          "name": "stderr"
        },
        {
          "output_type": "stream",
          "text": [
            "Predicted class:\n",
            "gibbon (n02483362) with probability 0.30\n"
          ],
          "name": "stdout"
        },
        {
          "output_type": "stream",
          "text": [
            "\r 89%|████████▉ | 427/481 [05:37<00:42,  1.26it/s]"
          ],
          "name": "stderr"
        },
        {
          "output_type": "stream",
          "text": [
            "Predicted class:\n",
            "gibbon (n02483362) with probability 0.33\n"
          ],
          "name": "stdout"
        },
        {
          "output_type": "stream",
          "text": [
            "\r 89%|████████▉ | 428/481 [05:39<00:42,  1.26it/s]"
          ],
          "name": "stderr"
        },
        {
          "output_type": "stream",
          "text": [
            "Predicted class:\n",
            "gibbon (n02483362) with probability 0.36\n"
          ],
          "name": "stdout"
        },
        {
          "output_type": "stream",
          "text": [
            "\r 89%|████████▉ | 429/481 [05:40<00:41,  1.26it/s]"
          ],
          "name": "stderr"
        },
        {
          "output_type": "stream",
          "text": [
            "Predicted class:\n",
            "gibbon (n02483362) with probability 0.34\n"
          ],
          "name": "stdout"
        },
        {
          "output_type": "stream",
          "text": [
            "\r 89%|████████▉ | 430/481 [05:42<00:40,  1.26it/s]"
          ],
          "name": "stderr"
        },
        {
          "output_type": "stream",
          "text": [
            "Predicted class:\n",
            "gibbon (n02483362) with probability 0.30\n"
          ],
          "name": "stdout"
        },
        {
          "output_type": "stream",
          "text": [
            "\r 90%|████████▉ | 431/481 [05:43<00:39,  1.25it/s]"
          ],
          "name": "stderr"
        },
        {
          "output_type": "stream",
          "text": [
            "Predicted class:\n",
            "gibbon (n02483362) with probability 0.31\n"
          ],
          "name": "stdout"
        },
        {
          "output_type": "stream",
          "text": [
            "\r 90%|████████▉ | 432/481 [05:45<00:39,  1.25it/s]"
          ],
          "name": "stderr"
        },
        {
          "output_type": "stream",
          "text": [
            "Predicted class:\n",
            "gibbon (n02483362) with probability 0.38\n"
          ],
          "name": "stdout"
        },
        {
          "output_type": "stream",
          "text": [
            "\r 90%|█████████ | 433/481 [05:46<00:38,  1.25it/s]"
          ],
          "name": "stderr"
        },
        {
          "output_type": "stream",
          "text": [
            "Predicted class:\n",
            "gibbon (n02483362) with probability 0.42\n"
          ],
          "name": "stdout"
        },
        {
          "output_type": "stream",
          "text": [
            "\r 90%|█████████ | 434/481 [05:48<00:37,  1.25it/s]"
          ],
          "name": "stderr"
        },
        {
          "output_type": "stream",
          "text": [
            "Predicted class:\n",
            "gibbon (n02483362) with probability 0.43\n"
          ],
          "name": "stdout"
        },
        {
          "output_type": "stream",
          "text": [
            "\r 90%|█████████ | 435/481 [05:49<00:36,  1.24it/s]"
          ],
          "name": "stderr"
        },
        {
          "output_type": "stream",
          "text": [
            "Predicted class:\n",
            "gibbon (n02483362) with probability 0.40\n"
          ],
          "name": "stdout"
        },
        {
          "output_type": "stream",
          "text": [
            "\r 91%|█████████ | 436/481 [05:51<00:36,  1.24it/s]"
          ],
          "name": "stderr"
        },
        {
          "output_type": "stream",
          "text": [
            "Predicted class:\n",
            "gibbon (n02483362) with probability 0.36\n"
          ],
          "name": "stdout"
        },
        {
          "output_type": "stream",
          "text": [
            "\r 91%|█████████ | 437/481 [05:52<00:35,  1.24it/s]"
          ],
          "name": "stderr"
        },
        {
          "output_type": "stream",
          "text": [
            "Predicted class:\n",
            "gibbon (n02483362) with probability 0.33\n"
          ],
          "name": "stdout"
        },
        {
          "output_type": "stream",
          "text": [
            "\r 91%|█████████ | 438/481 [05:53<00:34,  1.24it/s]"
          ],
          "name": "stderr"
        },
        {
          "output_type": "stream",
          "text": [
            "Predicted class:\n",
            "gibbon (n02483362) with probability 0.35\n"
          ],
          "name": "stdout"
        },
        {
          "output_type": "stream",
          "text": [
            "\r 91%|█████████▏| 439/481 [05:55<00:34,  1.24it/s]"
          ],
          "name": "stderr"
        },
        {
          "output_type": "stream",
          "text": [
            "Predicted class:\n",
            "gibbon (n02483362) with probability 0.36\n"
          ],
          "name": "stdout"
        },
        {
          "output_type": "stream",
          "text": [
            "\r 91%|█████████▏| 440/481 [05:56<00:33,  1.23it/s]"
          ],
          "name": "stderr"
        },
        {
          "output_type": "stream",
          "text": [
            "Predicted class:\n",
            "gibbon (n02483362) with probability 0.38\n"
          ],
          "name": "stdout"
        },
        {
          "output_type": "stream",
          "text": [
            "\r 92%|█████████▏| 441/481 [05:58<00:32,  1.23it/s]"
          ],
          "name": "stderr"
        },
        {
          "output_type": "stream",
          "text": [
            "Predicted class:\n",
            "gibbon (n02483362) with probability 0.30\n"
          ],
          "name": "stdout"
        },
        {
          "output_type": "stream",
          "text": [
            "\r 92%|█████████▏| 442/481 [05:59<00:31,  1.23it/s]"
          ],
          "name": "stderr"
        },
        {
          "output_type": "stream",
          "text": [
            "Predicted class:\n",
            "gibbon (n02483362) with probability 0.34\n"
          ],
          "name": "stdout"
        },
        {
          "output_type": "stream",
          "text": [
            "\r 92%|█████████▏| 443/481 [06:01<00:31,  1.23it/s]"
          ],
          "name": "stderr"
        },
        {
          "output_type": "stream",
          "text": [
            "Predicted class:\n",
            "gibbon (n02483362) with probability 0.38\n"
          ],
          "name": "stdout"
        },
        {
          "output_type": "stream",
          "text": [
            "\r 92%|█████████▏| 444/481 [06:02<00:30,  1.22it/s]"
          ],
          "name": "stderr"
        },
        {
          "output_type": "stream",
          "text": [
            "Predicted class:\n",
            "macaque (n02487347) with probability 0.28\n"
          ],
          "name": "stdout"
        },
        {
          "output_type": "stream",
          "text": [
            "\r 93%|█████████▎| 445/481 [06:04<00:29,  1.22it/s]"
          ],
          "name": "stderr"
        },
        {
          "output_type": "stream",
          "text": [
            "Predicted class:\n",
            "macaque (n02487347) with probability 0.38\n"
          ],
          "name": "stdout"
        },
        {
          "output_type": "stream",
          "text": [
            "\r 93%|█████████▎| 446/481 [06:06<00:28,  1.22it/s]"
          ],
          "name": "stderr"
        },
        {
          "output_type": "stream",
          "text": [
            "Predicted class:\n",
            "macaque (n02487347) with probability 0.28\n"
          ],
          "name": "stdout"
        },
        {
          "output_type": "stream",
          "text": [
            "\r 93%|█████████▎| 447/481 [06:07<00:27,  1.22it/s]"
          ],
          "name": "stderr"
        },
        {
          "output_type": "stream",
          "text": [
            "Predicted class:\n",
            "gibbon (n02483362) with probability 0.36\n"
          ],
          "name": "stdout"
        },
        {
          "output_type": "stream",
          "text": [
            "\r 93%|█████████▎| 448/481 [06:09<00:27,  1.21it/s]"
          ],
          "name": "stderr"
        },
        {
          "output_type": "stream",
          "text": [
            "Predicted class:\n",
            "macaque (n02487347) with probability 0.34\n"
          ],
          "name": "stdout"
        },
        {
          "output_type": "stream",
          "text": [
            "\r 93%|█████████▎| 449/481 [06:10<00:26,  1.21it/s]"
          ],
          "name": "stderr"
        },
        {
          "output_type": "stream",
          "text": [
            "Predicted class:\n",
            "macaque (n02487347) with probability 0.36\n"
          ],
          "name": "stdout"
        },
        {
          "output_type": "stream",
          "text": [
            "\r 94%|█████████▎| 450/481 [06:12<00:25,  1.21it/s]"
          ],
          "name": "stderr"
        },
        {
          "output_type": "stream",
          "text": [
            "Predicted class:\n",
            "macaque (n02487347) with probability 0.38\n"
          ],
          "name": "stdout"
        },
        {
          "output_type": "stream",
          "text": [
            "\r 94%|█████████▍| 451/481 [06:13<00:24,  1.21it/s]"
          ],
          "name": "stderr"
        },
        {
          "output_type": "stream",
          "text": [
            "Predicted class:\n",
            "macaque (n02487347) with probability 0.32\n"
          ],
          "name": "stdout"
        },
        {
          "output_type": "stream",
          "text": [
            "\r 94%|█████████▍| 452/481 [06:15<00:24,  1.20it/s]"
          ],
          "name": "stderr"
        },
        {
          "output_type": "stream",
          "text": [
            "Predicted class:\n",
            "macaque (n02487347) with probability 0.38\n"
          ],
          "name": "stdout"
        },
        {
          "output_type": "stream",
          "text": [
            "\r 94%|█████████▍| 453/481 [06:16<00:23,  1.20it/s]"
          ],
          "name": "stderr"
        },
        {
          "output_type": "stream",
          "text": [
            "Predicted class:\n",
            "macaque (n02487347) with probability 0.39\n"
          ],
          "name": "stdout"
        },
        {
          "output_type": "stream",
          "text": [
            "\r 94%|█████████▍| 454/481 [06:18<00:22,  1.20it/s]"
          ],
          "name": "stderr"
        },
        {
          "output_type": "stream",
          "text": [
            "Predicted class:\n",
            "macaque (n02487347) with probability 0.34\n"
          ],
          "name": "stdout"
        },
        {
          "output_type": "stream",
          "text": [
            "\r 95%|█████████▍| 455/481 [06:19<00:21,  1.20it/s]"
          ],
          "name": "stderr"
        },
        {
          "output_type": "stream",
          "text": [
            "Predicted class:\n",
            "macaque (n02487347) with probability 0.43\n"
          ],
          "name": "stdout"
        },
        {
          "output_type": "stream",
          "text": [
            "\r 95%|█████████▍| 456/481 [06:21<00:20,  1.20it/s]"
          ],
          "name": "stderr"
        },
        {
          "output_type": "stream",
          "text": [
            "Predicted class:\n",
            "macaque (n02487347) with probability 0.39\n"
          ],
          "name": "stdout"
        },
        {
          "output_type": "stream",
          "text": [
            "\r 95%|█████████▌| 457/481 [06:22<00:20,  1.19it/s]"
          ],
          "name": "stderr"
        },
        {
          "output_type": "stream",
          "text": [
            "Predicted class:\n",
            "macaque (n02487347) with probability 0.42\n"
          ],
          "name": "stdout"
        },
        {
          "output_type": "stream",
          "text": [
            "\r 95%|█████████▌| 458/481 [06:24<00:19,  1.19it/s]"
          ],
          "name": "stderr"
        },
        {
          "output_type": "stream",
          "text": [
            "Predicted class:\n",
            "macaque (n02487347) with probability 0.33\n"
          ],
          "name": "stdout"
        },
        {
          "output_type": "stream",
          "text": [
            "\r 95%|█████████▌| 459/481 [06:26<00:18,  1.19it/s]"
          ],
          "name": "stderr"
        },
        {
          "output_type": "stream",
          "text": [
            "Predicted class:\n",
            "macaque (n02487347) with probability 0.32\n"
          ],
          "name": "stdout"
        },
        {
          "output_type": "stream",
          "text": [
            "\r 96%|█████████▌| 460/481 [06:27<00:17,  1.19it/s]"
          ],
          "name": "stderr"
        },
        {
          "output_type": "stream",
          "text": [
            "Predicted class:\n",
            "macaque (n02487347) with probability 0.35\n"
          ],
          "name": "stdout"
        },
        {
          "output_type": "stream",
          "text": [
            "\r 96%|█████████▌| 461/481 [06:29<00:16,  1.18it/s]"
          ],
          "name": "stderr"
        },
        {
          "output_type": "stream",
          "text": [
            "Predicted class:\n",
            "macaque (n02487347) with probability 0.40\n"
          ],
          "name": "stdout"
        },
        {
          "output_type": "stream",
          "text": [
            "\r 96%|█████████▌| 462/481 [06:30<00:16,  1.18it/s]"
          ],
          "name": "stderr"
        },
        {
          "output_type": "stream",
          "text": [
            "Predicted class:\n",
            "macaque (n02487347) with probability 0.54\n"
          ],
          "name": "stdout"
        },
        {
          "output_type": "stream",
          "text": [
            "\r 96%|█████████▋| 463/481 [06:32<00:15,  1.18it/s]"
          ],
          "name": "stderr"
        },
        {
          "output_type": "stream",
          "text": [
            "Predicted class:\n",
            "macaque (n02487347) with probability 0.52\n"
          ],
          "name": "stdout"
        },
        {
          "output_type": "stream",
          "text": [
            "\r 96%|█████████▋| 464/481 [06:33<00:14,  1.18it/s]"
          ],
          "name": "stderr"
        },
        {
          "output_type": "stream",
          "text": [
            "Predicted class:\n",
            "macaque (n02487347) with probability 0.46\n"
          ],
          "name": "stdout"
        },
        {
          "output_type": "stream",
          "text": [
            "\r 97%|█████████▋| 465/481 [06:35<00:13,  1.18it/s]"
          ],
          "name": "stderr"
        },
        {
          "output_type": "stream",
          "text": [
            "Predicted class:\n",
            "macaque (n02487347) with probability 0.58\n"
          ],
          "name": "stdout"
        },
        {
          "output_type": "stream",
          "text": [
            "\r 97%|█████████▋| 466/481 [06:37<00:12,  1.17it/s]"
          ],
          "name": "stderr"
        },
        {
          "output_type": "stream",
          "text": [
            "Predicted class:\n",
            "macaque (n02487347) with probability 0.53\n"
          ],
          "name": "stdout"
        },
        {
          "output_type": "stream",
          "text": [
            "\r 97%|█████████▋| 467/481 [06:38<00:11,  1.17it/s]"
          ],
          "name": "stderr"
        },
        {
          "output_type": "stream",
          "text": [
            "Predicted class:\n",
            "macaque (n02487347) with probability 0.60\n"
          ],
          "name": "stdout"
        },
        {
          "output_type": "stream",
          "text": [
            "\r 97%|█████████▋| 468/481 [06:40<00:11,  1.17it/s]"
          ],
          "name": "stderr"
        },
        {
          "output_type": "stream",
          "text": [
            "Predicted class:\n",
            "macaque (n02487347) with probability 0.61\n"
          ],
          "name": "stdout"
        },
        {
          "output_type": "stream",
          "text": [
            "\r 98%|█████████▊| 469/481 [06:42<00:10,  1.17it/s]"
          ],
          "name": "stderr"
        },
        {
          "output_type": "stream",
          "text": [
            "Predicted class:\n",
            "macaque (n02487347) with probability 0.66\n"
          ],
          "name": "stdout"
        },
        {
          "output_type": "stream",
          "text": [
            "\r 98%|█████████▊| 470/481 [06:43<00:09,  1.16it/s]"
          ],
          "name": "stderr"
        },
        {
          "output_type": "stream",
          "text": [
            "Predicted class:\n",
            "macaque (n02487347) with probability 0.69\n"
          ],
          "name": "stdout"
        },
        {
          "output_type": "stream",
          "text": [
            "\r 98%|█████████▊| 471/481 [06:45<00:08,  1.16it/s]"
          ],
          "name": "stderr"
        },
        {
          "output_type": "stream",
          "text": [
            "Predicted class:\n",
            "macaque (n02487347) with probability 0.71\n"
          ],
          "name": "stdout"
        },
        {
          "output_type": "stream",
          "text": [
            "\r 98%|█████████▊| 472/481 [06:46<00:07,  1.16it/s]"
          ],
          "name": "stderr"
        },
        {
          "output_type": "stream",
          "text": [
            "Predicted class:\n",
            "macaque (n02487347) with probability 0.64\n"
          ],
          "name": "stdout"
        },
        {
          "output_type": "stream",
          "text": [
            "\r 98%|█████████▊| 473/481 [06:48<00:06,  1.16it/s]"
          ],
          "name": "stderr"
        },
        {
          "output_type": "stream",
          "text": [
            "Predicted class:\n",
            "macaque (n02487347) with probability 0.54\n"
          ],
          "name": "stdout"
        },
        {
          "output_type": "stream",
          "text": [
            "\r 99%|█████████▊| 474/481 [06:50<00:06,  1.16it/s]"
          ],
          "name": "stderr"
        },
        {
          "output_type": "stream",
          "text": [
            "Predicted class:\n",
            "macaque (n02487347) with probability 0.63\n"
          ],
          "name": "stdout"
        },
        {
          "output_type": "stream",
          "text": [
            "\r 99%|█████████▉| 475/481 [06:51<00:05,  1.15it/s]"
          ],
          "name": "stderr"
        },
        {
          "output_type": "stream",
          "text": [
            "Predicted class:\n",
            "macaque (n02487347) with probability 0.57\n"
          ],
          "name": "stdout"
        },
        {
          "output_type": "stream",
          "text": [
            "\r 99%|█████████▉| 476/481 [06:53<00:04,  1.15it/s]"
          ],
          "name": "stderr"
        },
        {
          "output_type": "stream",
          "text": [
            "Predicted class:\n",
            "macaque (n02487347) with probability 0.61\n"
          ],
          "name": "stdout"
        },
        {
          "output_type": "stream",
          "text": [
            "\r 99%|█████████▉| 477/481 [06:54<00:03,  1.15it/s]"
          ],
          "name": "stderr"
        },
        {
          "output_type": "stream",
          "text": [
            "Predicted class:\n",
            "macaque (n02487347) with probability 0.54\n"
          ],
          "name": "stdout"
        },
        {
          "output_type": "stream",
          "text": [
            "\r 99%|█████████▉| 478/481 [06:56<00:02,  1.15it/s]"
          ],
          "name": "stderr"
        },
        {
          "output_type": "stream",
          "text": [
            "Predicted class:\n",
            "macaque (n02487347) with probability 0.51\n"
          ],
          "name": "stdout"
        },
        {
          "output_type": "stream",
          "text": [
            "\r100%|█████████▉| 479/481 [06:58<00:01,  1.15it/s]"
          ],
          "name": "stderr"
        },
        {
          "output_type": "stream",
          "text": [
            "Predicted class:\n",
            "macaque (n02487347) with probability 0.58\n"
          ],
          "name": "stdout"
        },
        {
          "output_type": "stream",
          "text": [
            "\r100%|█████████▉| 480/481 [06:59<00:00,  1.14it/s]"
          ],
          "name": "stderr"
        },
        {
          "output_type": "stream",
          "text": [
            "Predicted class:\n",
            "macaque (n02487347) with probability 0.47\n"
          ],
          "name": "stdout"
        },
        {
          "output_type": "stream",
          "text": [
            "\r100%|██████████| 481/481 [07:01<00:00,  1.14it/s]\n"
          ],
          "name": "stderr"
        }
      ]
    },
    {
      "metadata": {
        "id": "3Tv17Nh9lL5p",
        "colab_type": "code",
        "colab": {
          "autoexec": {
            "startup": false,
            "wait_interval": 0
          },
          "base_uri": "https://localhost:8080/",
          "height": 1759
        },
        "outputId": "3b8a6449-6043-44bd-de6d-0d5e98b41390",
        "executionInfo": {
          "status": "ok",
          "timestamp": 1529777126052,
          "user_tz": -330,
          "elapsed": 2109,
          "user": {
            "displayName": "Ankita Bhagat",
            "photoUrl": "//lh5.googleusercontent.com/-hBbQJG3EmsY/AAAAAAAAAAI/AAAAAAAAEMc/8aZlpsJaxOI/s50-c-k-no/photo.jpg",
            "userId": "106932527741563015055"
          }
        }
      },
      "cell_type": "code",
      "source": [
        "ls"
      ],
      "execution_count": 5,
      "outputs": [
        {
          "output_type": "stream",
          "text": [
            "Animals_out.avi  Image186.jpg  Image274.jpg  Image362.jpg  Image450.jpg\r\n",
            "Animals_out.mp4  Image187.jpg  Image275.jpg  Image363.jpg  Image451.jpg\r\n",
            "\u001b[0m\u001b[01;34mdatalab\u001b[0m/         Image188.jpg  Image276.jpg  Image364.jpg  Image452.jpg\r\n",
            "Image0.jpg       Image189.jpg  Image277.jpg  Image365.jpg  Image453.jpg\r\n",
            "Image100.jpg     Image18.jpg   Image278.jpg  Image366.jpg  Image454.jpg\r\n",
            "Image101.jpg     Image190.jpg  Image279.jpg  Image367.jpg  Image455.jpg\r\n",
            "Image102.jpg     Image191.jpg  Image27.jpg   Image368.jpg  Image456.jpg\r\n",
            "Image103.jpg     Image192.jpg  Image280.jpg  Image369.jpg  Image457.jpg\r\n",
            "Image104.jpg     Image193.jpg  Image281.jpg  Image36.jpg   Image458.jpg\r\n",
            "Image105.jpg     Image194.jpg  Image282.jpg  Image370.jpg  Image459.jpg\r\n",
            "Image106.jpg     Image195.jpg  Image283.jpg  Image371.jpg  Image45.jpg\r\n",
            "Image107.jpg     Image196.jpg  Image284.jpg  Image372.jpg  Image460.jpg\r\n",
            "Image108.jpg     Image197.jpg  Image285.jpg  Image373.jpg  Image461.jpg\r\n",
            "Image109.jpg     Image198.jpg  Image286.jpg  Image374.jpg  Image462.jpg\r\n",
            "Image10.jpg      Image199.jpg  Image287.jpg  Image375.jpg  Image463.jpg\r\n",
            "Image110.jpg     Image19.jpg   Image288.jpg  Image376.jpg  Image464.jpg\r\n",
            "Image111.jpg     Image1.jpg    Image289.jpg  Image377.jpg  Image465.jpg\r\n",
            "Image112.jpg     Image200.jpg  Image28.jpg   Image378.jpg  Image466.jpg\r\n",
            "Image113.jpg     Image201.jpg  Image290.jpg  Image379.jpg  Image467.jpg\r\n",
            "Image114.jpg     Image202.jpg  Image291.jpg  Image37.jpg   Image468.jpg\r\n",
            "Image115.jpg     Image203.jpg  Image292.jpg  Image380.jpg  Image469.jpg\r\n",
            "Image116.jpg     Image204.jpg  Image293.jpg  Image381.jpg  Image46.jpg\r\n",
            "Image117.jpg     Image205.jpg  Image294.jpg  Image382.jpg  Image470.jpg\r\n",
            "Image118.jpg     Image206.jpg  Image295.jpg  Image383.jpg  Image471.jpg\r\n",
            "Image119.jpg     Image207.jpg  Image296.jpg  Image384.jpg  Image472.jpg\r\n",
            "Image11.jpg      Image208.jpg  Image297.jpg  Image385.jpg  Image473.jpg\r\n",
            "Image120.jpg     Image209.jpg  Image298.jpg  Image386.jpg  Image474.jpg\r\n",
            "Image121.jpg     Image20.jpg   Image299.jpg  Image387.jpg  Image475.jpg\r\n",
            "Image122.jpg     Image210.jpg  Image29.jpg   Image388.jpg  Image476.jpg\r\n",
            "Image123.jpg     Image211.jpg  Image2.jpg    Image389.jpg  Image477.jpg\r\n",
            "Image124.jpg     Image212.jpg  Image300.jpg  Image38.jpg   Image478.jpg\r\n",
            "Image125.jpg     Image213.jpg  Image301.jpg  Image390.jpg  Image479.jpg\r\n",
            "Image126.jpg     Image214.jpg  Image302.jpg  Image391.jpg  Image47.jpg\r\n",
            "Image127.jpg     Image215.jpg  Image303.jpg  Image392.jpg  Image480.jpg\r\n",
            "Image128.jpg     Image216.jpg  Image304.jpg  Image393.jpg  Image48.jpg\r\n",
            "Image129.jpg     Image217.jpg  Image305.jpg  Image394.jpg  Image49.jpg\r\n",
            "Image12.jpg      Image218.jpg  Image306.jpg  Image395.jpg  Image4.jpg\r\n",
            "Image130.jpg     Image219.jpg  Image307.jpg  Image396.jpg  Image50.jpg\r\n",
            "Image131.jpg     Image21.jpg   Image308.jpg  Image397.jpg  Image51.jpg\r\n",
            "Image132.jpg     Image220.jpg  Image309.jpg  Image398.jpg  Image52.jpg\r\n",
            "Image133.jpg     Image221.jpg  Image30.jpg   Image399.jpg  Image53.jpg\r\n",
            "Image134.jpg     Image222.jpg  Image310.jpg  Image39.jpg   Image54.jpg\r\n",
            "Image135.jpg     Image223.jpg  Image311.jpg  Image3.jpg    Image55.jpg\r\n",
            "Image136.jpg     Image224.jpg  Image312.jpg  Image400.jpg  Image56.jpg\r\n",
            "Image137.jpg     Image225.jpg  Image313.jpg  Image401.jpg  Image57.jpg\r\n",
            "Image138.jpg     Image226.jpg  Image314.jpg  Image402.jpg  Image58.jpg\r\n",
            "Image139.jpg     Image227.jpg  Image315.jpg  Image403.jpg  Image59.jpg\r\n",
            "Image13.jpg      Image228.jpg  Image316.jpg  Image404.jpg  Image5.jpg\r\n",
            "Image140.jpg     Image229.jpg  Image317.jpg  Image405.jpg  Image60.jpg\r\n",
            "Image141.jpg     Image22.jpg   Image318.jpg  Image406.jpg  Image61.jpg\r\n",
            "Image142.jpg     Image230.jpg  Image319.jpg  Image407.jpg  Image62.jpg\r\n",
            "Image143.jpg     Image231.jpg  Image31.jpg   Image408.jpg  Image63.jpg\r\n",
            "Image144.jpg     Image232.jpg  Image320.jpg  Image409.jpg  Image64.jpg\r\n",
            "Image145.jpg     Image233.jpg  Image321.jpg  Image40.jpg   Image65.jpg\r\n",
            "Image146.jpg     Image234.jpg  Image322.jpg  Image410.jpg  Image66.jpg\r\n",
            "Image147.jpg     Image235.jpg  Image323.jpg  Image411.jpg  Image67.jpg\r\n",
            "Image148.jpg     Image236.jpg  Image324.jpg  Image412.jpg  Image68.jpg\r\n",
            "Image149.jpg     Image237.jpg  Image325.jpg  Image413.jpg  Image69.jpg\r\n",
            "Image14.jpg      Image238.jpg  Image326.jpg  Image414.jpg  Image6.jpg\r\n",
            "Image150.jpg     Image239.jpg  Image327.jpg  Image415.jpg  Image70.jpg\r\n",
            "Image151.jpg     Image23.jpg   Image328.jpg  Image416.jpg  Image71.jpg\r\n",
            "Image152.jpg     Image240.jpg  Image329.jpg  Image417.jpg  Image72.jpg\r\n",
            "Image153.jpg     Image241.jpg  Image32.jpg   Image418.jpg  Image73.jpg\r\n",
            "Image154.jpg     Image242.jpg  Image330.jpg  Image419.jpg  Image74.jpg\r\n",
            "Image155.jpg     Image243.jpg  Image331.jpg  Image41.jpg   Image75.jpg\r\n",
            "Image156.jpg     Image244.jpg  Image332.jpg  Image420.jpg  Image76.jpg\r\n",
            "Image157.jpg     Image245.jpg  Image333.jpg  Image421.jpg  Image77.jpg\r\n",
            "Image158.jpg     Image246.jpg  Image334.jpg  Image422.jpg  Image78.jpg\r\n",
            "Image159.jpg     Image247.jpg  Image335.jpg  Image423.jpg  Image79.jpg\r\n",
            "Image15.jpg      Image248.jpg  Image336.jpg  Image424.jpg  Image7.jpg\r\n",
            "Image160.jpg     Image249.jpg  Image337.jpg  Image425.jpg  Image80.jpg\r\n",
            "Image161.jpg     Image24.jpg   Image338.jpg  Image426.jpg  Image81.jpg\r\n",
            "Image162.jpg     Image250.jpg  Image339.jpg  Image427.jpg  Image82.jpg\r\n",
            "Image163.jpg     Image251.jpg  Image33.jpg   Image428.jpg  Image83.jpg\r\n",
            "Image164.jpg     Image252.jpg  Image340.jpg  Image429.jpg  Image84.jpg\r\n",
            "Image165.jpg     Image253.jpg  Image341.jpg  Image42.jpg   Image85.jpg\r\n",
            "Image166.jpg     Image254.jpg  Image342.jpg  Image430.jpg  Image86.jpg\r\n",
            "Image167.jpg     Image255.jpg  Image343.jpg  Image431.jpg  Image87.jpg\r\n",
            "Image168.jpg     Image256.jpg  Image344.jpg  Image432.jpg  Image88.jpg\r\n",
            "Image169.jpg     Image257.jpg  Image345.jpg  Image433.jpg  Image89.jpg\r\n",
            "Image16.jpg      Image258.jpg  Image346.jpg  Image434.jpg  Image8.jpg\r\n",
            "Image170.jpg     Image259.jpg  Image347.jpg  Image435.jpg  Image90.jpg\r\n",
            "Image171.jpg     Image25.jpg   Image348.jpg  Image436.jpg  Image91.jpg\r\n",
            "Image172.jpg     Image260.jpg  Image349.jpg  Image437.jpg  Image92.jpg\r\n",
            "Image173.jpg     Image261.jpg  Image34.jpg   Image438.jpg  Image93.jpg\r\n",
            "Image174.jpg     Image262.jpg  Image350.jpg  Image439.jpg  Image94.jpg\r\n",
            "Image175.jpg     Image263.jpg  Image351.jpg  Image43.jpg   Image95.jpg\r\n",
            "Image176.jpg     Image264.jpg  Image352.jpg  Image440.jpg  Image96.jpg\r\n",
            "Image177.jpg     Image265.jpg  Image353.jpg  Image441.jpg  Image97.jpg\r\n",
            "Image178.jpg     Image266.jpg  Image354.jpg  Image442.jpg  Image98.jpg\r\n",
            "Image179.jpg     Image267.jpg  Image355.jpg  Image443.jpg  Image99.jpg\r\n",
            "Image17.jpg      Image268.jpg  Image356.jpg  Image444.jpg  Image9.jpg\r\n",
            "Image180.jpg     Image269.jpg  Image357.jpg  Image445.jpg  image.jpg\r\n",
            "Image181.jpg     Image26.jpg   Image358.jpg  Image446.jpg  Input.mp4\r\n",
            "Image182.jpg     Image270.jpg  Image359.jpg  Image447.jpg\r\n",
            "Image183.jpg     Image271.jpg  Image35.jpg   Image448.jpg\r\n",
            "Image184.jpg     Image272.jpg  Image360.jpg  Image449.jpg\r\n",
            "Image185.jpg     Image273.jpg  Image361.jpg  Image44.jpg\r\n"
          ],
          "name": "stdout"
        }
      ]
    },
    {
      "metadata": {
        "id": "gNucFH0UB20V",
        "colab_type": "code",
        "colab": {
          "autoexec": {
            "startup": false,
            "wait_interval": 0
          }
        }
      },
      "cell_type": "code",
      "source": [
        "from google.colab import files\n",
        "files.download('Animals_out.avi')"
      ],
      "execution_count": 0,
      "outputs": []
    },
    {
      "metadata": {
        "id": "z2N61gQFGznM",
        "colab_type": "code",
        "colab": {
          "autoexec": {
            "startup": false,
            "wait_interval": 0
          }
        }
      },
      "cell_type": "code",
      "source": [
        "!rm -rf Image6.jpg"
      ],
      "execution_count": 0,
      "outputs": []
    },
    {
      "metadata": {
        "id": "mbq8duBRlZjX",
        "colab_type": "code",
        "colab": {
          "autoexec": {
            "startup": false,
            "wait_interval": 0
          }
        }
      },
      "cell_type": "code",
      "source": [
        "files.download('Image324.jpg')"
      ],
      "execution_count": 0,
      "outputs": []
    },
    {
      "metadata": {
        "id": "lk4OilI-7XUi",
        "colab_type": "code",
        "colab": {
          "autoexec": {
            "startup": false,
            "wait_interval": 0
          },
          "base_uri": "https://localhost:8080/",
          "height": 13886
        },
        "outputId": "ea3492cc-bc73-4aef-81c0-87856b5595be",
        "executionInfo": {
          "status": "ok",
          "timestamp": 1529778938774,
          "user_tz": -330,
          "elapsed": 37108,
          "user": {
            "displayName": "Ankita Bhagat",
            "photoUrl": "//lh5.googleusercontent.com/-hBbQJG3EmsY/AAAAAAAAAAI/AAAAAAAAEMc/8aZlpsJaxOI/s50-c-k-no/photo.jpg",
            "userId": "106932527741563015055"
          }
        }
      },
      "cell_type": "code",
      "source": [
        "!apt-get install ffmpeg"
      ],
      "execution_count": 9,
      "outputs": [
        {
          "output_type": "stream",
          "text": [
            "Reading package lists... Done\n",
            "Building dependency tree       \n",
            "Reading state information... Done\n",
            "The following additional packages will be installed:\n",
            "  dbus i965-va-driver libaacs0 libapparmor1 libasound2 libasound2-data libass9\n",
            "  libasyncns0 libavc1394-0 libavcodec57 libavdevice57 libavfilter6\n",
            "  libavformat57 libavresample3 libavutil55 libbdplus0 libbluray2\n",
            "  libboost-filesystem1.62.0 libboost-system1.62.0 libbs2b0 libcaca0 libcairo2\n",
            "  libcapnp-0.5.3 libcdio-cdda1 libcdio-paranoia1 libcdio13 libchromaprint1\n",
            "  libcrystalhd3 libdbus-1-3 libdc1394-22 libdrm-amdgpu1 libdrm-common\n",
            "  libdrm-intel1 libdrm-nouveau2 libdrm-radeon1 libdrm2 libegl1-mesa libelf1\n",
            "  libfftw3-double3 libflac8 libflite1 libfribidi0 libgbm1 libgl1-mesa-dri\n",
            "  libgl1-mesa-glx libglapi-mesa libgme0 libgraphite2-3 libgsm1 libharfbuzz0b\n",
            "  libiec61883-0 libjack-jackd2-0 libllvm5.0 libmirclient9 libmircommon7\n",
            "  libmircore1 libmirprotobuf3 libmp3lame0 libmpg123-0 libnuma1 libogg0\n",
            "  libopenal-data libopenal1 libopencv-core3.1 libopencv-imgproc3.1\n",
            "  libopenjp2-7 libopenmpt0 libopus0 libpciaccess0 libpixman-1-0 libpostproc54\n",
            "  libprotobuf-lite10 libpulse0 libraw1394-11 librubberband2v5 libsamplerate0\n",
            "  libsdl2-2.0-0 libsensors4 libshine3 libslang2 libsnappy1v5 libsndfile1\n",
            "  libsndio6.1 libsoxr0 libspeex1 libssh-gcrypt-4 libswresample2 libswscale4\n",
            "  libtbb2 libtheora0 libtwolame0 libtxc-dxtn-s2tc libusb-1.0-0 libva-drm1\n",
            "  libva-x11-1 libva1 libvdpau1 libvorbis0a libvorbisenc2 libvorbisfile3\n",
            "  libvpx4 libwavpack1 libwayland-client0 libwayland-cursor0\n",
            "  libwayland-egl1-mesa libwayland-server0 libwebp6 libwebpmux3 libwrap0\n",
            "  libx11-xcb1 libx264-148 libx265-130 libxcb-dri2-0 libxcb-dri3-0 libxcb-glx0\n",
            "  libxcb-present0 libxcb-render0 libxcb-shape0 libxcb-shm0 libxcb-sync1\n",
            "  libxcb-xfixes0 libxcursor1 libxdamage1 libxfixes3 libxi6 libxinerama1\n",
            "  libxkbcommon0 libxrandr2 libxshmfence1 libxv1 libxvidcore4 libxxf86vm1\n",
            "  libzvbi-common libzvbi0 mesa-va-drivers mesa-vdpau-drivers tcpd\n",
            "  va-driver-all vdpau-driver-all xkb-data\n",
            "Suggested packages:\n",
            "  default-dbus-session-bus | dbus-session-bus ffmpeg-doc libasound2-plugins\n",
            "  alsa-utils libbluray-bdj firmware-crystalhd libfftw3-bin libfftw3-dev jackd2\n",
            "  libportaudio2 opus-tools pciutils pulseaudio libraw1394-doc lm-sensors\n",
            "  sndiod speex libfglrx-amdxvba1 libvdpau-va-gl1 nvidia-vdpau-driver\n",
            "  nvidia-legacy-340xx-vdpau-driver\n",
            "The following NEW packages will be installed:\n",
            "  dbus ffmpeg i965-va-driver libaacs0 libapparmor1 libasound2 libasound2-data\n",
            "  libass9 libasyncns0 libavc1394-0 libavcodec57 libavdevice57 libavfilter6\n",
            "  libavformat57 libavresample3 libavutil55 libbdplus0 libbluray2\n",
            "  libboost-filesystem1.62.0 libboost-system1.62.0 libbs2b0 libcaca0 libcairo2\n",
            "  libcapnp-0.5.3 libcdio-cdda1 libcdio-paranoia1 libcdio13 libchromaprint1\n",
            "  libcrystalhd3 libdbus-1-3 libdc1394-22 libdrm-amdgpu1 libdrm-common\n",
            "  libdrm-intel1 libdrm-nouveau2 libdrm-radeon1 libdrm2 libegl1-mesa libelf1\n",
            "  libfftw3-double3 libflac8 libflite1 libfribidi0 libgbm1 libgl1-mesa-dri\n",
            "  libgl1-mesa-glx libglapi-mesa libgme0 libgraphite2-3 libgsm1 libharfbuzz0b\n",
            "  libiec61883-0 libjack-jackd2-0 libllvm5.0 libmirclient9 libmircommon7\n",
            "  libmircore1 libmirprotobuf3 libmp3lame0 libmpg123-0 libnuma1 libogg0\n",
            "  libopenal-data libopenal1 libopencv-core3.1 libopencv-imgproc3.1\n",
            "  libopenjp2-7 libopenmpt0 libopus0 libpciaccess0 libpixman-1-0 libpostproc54\n",
            "  libprotobuf-lite10 libpulse0 libraw1394-11 librubberband2v5 libsamplerate0\n",
            "  libsdl2-2.0-0 libsensors4 libshine3 libslang2 libsnappy1v5 libsndfile1\n",
            "  libsndio6.1 libsoxr0 libspeex1 libssh-gcrypt-4 libswresample2 libswscale4\n",
            "  libtbb2 libtheora0 libtwolame0 libtxc-dxtn-s2tc libusb-1.0-0 libva-drm1\n",
            "  libva-x11-1 libva1 libvdpau1 libvorbis0a libvorbisenc2 libvorbisfile3\n",
            "  libvpx4 libwavpack1 libwayland-client0 libwayland-cursor0\n",
            "  libwayland-egl1-mesa libwayland-server0 libwebp6 libwebpmux3 libwrap0\n",
            "  libx11-xcb1 libx264-148 libx265-130 libxcb-dri2-0 libxcb-dri3-0 libxcb-glx0\n",
            "  libxcb-present0 libxcb-render0 libxcb-shape0 libxcb-shm0 libxcb-sync1\n",
            "  libxcb-xfixes0 libxcursor1 libxdamage1 libxfixes3 libxi6 libxinerama1\n",
            "  libxkbcommon0 libxrandr2 libxshmfence1 libxv1 libxvidcore4 libxxf86vm1\n",
            "  libzvbi-common libzvbi0 mesa-va-drivers mesa-vdpau-drivers tcpd\n",
            "  va-driver-all vdpau-driver-all xkb-data\n",
            "0 upgraded, 141 newly installed, 0 to remove and 6 not upgraded.\n",
            "Need to get 60.1 MB of archives.\n",
            "After this operation, 336 MB of additional disk space will be used.\n",
            "Get:1 http://archive.ubuntu.com/ubuntu artful/universe amd64 libgsm1 amd64 1.0.13-4 [27.1 kB]\n",
            "Get:2 http://archive.ubuntu.com/ubuntu artful/main amd64 libogg0 amd64 1.3.2-1 [17.2 kB]\n",
            "Get:3 http://archive.ubuntu.com/ubuntu artful/main amd64 libxinerama1 amd64 2:1.1.3-1 [7,908 B]\n",
            "Get:4 http://archive.ubuntu.com/ubuntu artful/main amd64 libxshmfence1 amd64 1.2-1 [5,042 B]\n",
            "Get:5 http://archive.ubuntu.com/ubuntu artful/main amd64 libxxf86vm1 amd64 1:1.1.4-1 [10.6 kB]\n",
            "Get:6 http://archive.ubuntu.com/ubuntu artful-updates/main amd64 libapparmor1 amd64 2.11.0-2ubuntu17.1 [28.9 kB]\n",
            "Get:7 http://archive.ubuntu.com/ubuntu artful/main amd64 libdbus-1-3 amd64 1.10.22-1ubuntu1 [165 kB]\n",
            "Get:8 http://archive.ubuntu.com/ubuntu artful/main amd64 dbus amd64 1.10.22-1ubuntu1 [144 kB]\n",
            "Get:9 http://archive.ubuntu.com/ubuntu artful/main amd64 libelf1 amd64 0.170-0.1 [44.3 kB]\n",
            "Get:10 http://archive.ubuntu.com/ubuntu artful/main amd64 libfribidi0 amd64 0.19.7-1 [25.1 kB]\n",
            "Get:11 http://archive.ubuntu.com/ubuntu artful/main amd64 libslang2 amd64 2.3.1-5ubuntu1 [422 kB]\n",
            "Get:12 http://archive.ubuntu.com/ubuntu artful/main amd64 xkb-data all 2.19-1.1ubuntu1 [312 kB]\n",
            "Get:13 http://archive.ubuntu.com/ubuntu artful/main amd64 libdrm-common all 2.4.83-1 [4,938 B]\n",
            "Get:14 http://archive.ubuntu.com/ubuntu artful/main amd64 libdrm2 amd64 2.4.83-1 [30.6 kB]\n",
            "Get:15 http://archive.ubuntu.com/ubuntu artful/main amd64 libnuma1 amd64 2.0.11-2.1 [21.6 kB]\n",
            "Get:16 http://archive.ubuntu.com/ubuntu artful/main amd64 libusb-1.0-0 amd64 2:1.0.21-2 [43.3 kB]\n",
            "Get:17 http://archive.ubuntu.com/ubuntu artful/universe amd64 libva-drm1 amd64 1.8.3-2 [7,858 B]\n",
            "Get:18 http://archive.ubuntu.com/ubuntu artful/universe amd64 libva1 amd64 1.8.3-2 [44.9 kB]\n",
            "Get:19 http://archive.ubuntu.com/ubuntu artful/main amd64 libxfixes3 amd64 1:5.0.3-1 [10.8 kB]\n",
            "Get:20 http://archive.ubuntu.com/ubuntu artful/universe amd64 libva-x11-1 amd64 1.8.3-2 [11.4 kB]\n",
            "Get:21 http://archive.ubuntu.com/ubuntu artful/main amd64 libvdpau1 amd64 1.1.1-3ubuntu1 [25.5 kB]\n",
            "Get:22 http://archive.ubuntu.com/ubuntu artful/universe amd64 libavutil55 amd64 7:3.3.4-2 [183 kB]\n",
            "Get:23 http://archive.ubuntu.com/ubuntu artful/universe amd64 libcrystalhd3 amd64 1:0.0~git20110715.fdd2f19-12 [45.8 kB]\n",
            "Get:24 http://archive.ubuntu.com/ubuntu artful/universe amd64 libmp3lame0 amd64 3.99.5+repack1-9build1 [127 kB]\n",
            "Get:25 http://archive.ubuntu.com/ubuntu artful/universe amd64 libopenjp2-7 amd64 2.2.0-1 [133 kB]\n",
            "Get:26 http://archive.ubuntu.com/ubuntu artful/main amd64 libopus0 amd64 1.1.2-1ubuntu1 [159 kB]\n",
            "Get:27 http://archive.ubuntu.com/ubuntu artful/universe amd64 libshine3 amd64 3.1.1-1 [22.9 kB]\n",
            "Get:28 http://archive.ubuntu.com/ubuntu artful/main amd64 libsnappy1v5 amd64 1.1.6-4 [16.0 kB]\n",
            "Get:29 http://archive.ubuntu.com/ubuntu artful/main amd64 libspeex1 amd64 1.2~rc1.2-1ubuntu1 [51.3 kB]\n",
            "Get:30 http://archive.ubuntu.com/ubuntu artful/universe amd64 libsoxr0 amd64 0.1.2-2 [64.7 kB]\n",
            "Get:31 http://archive.ubuntu.com/ubuntu artful/universe amd64 libswresample2 amd64 7:3.3.4-2 [55.4 kB]\n",
            "Get:32 http://archive.ubuntu.com/ubuntu artful/main amd64 libpixman-1-0 amd64 0.34.0-1 [230 kB]\n",
            "Get:33 http://archive.ubuntu.com/ubuntu artful/main amd64 libxcb-render0 amd64 1.12-1ubuntu1 [14.8 kB]\n",
            "Get:34 http://archive.ubuntu.com/ubuntu artful/main amd64 libxcb-shm0 amd64 1.12-1ubuntu1 [5,482 B]\n",
            "Get:35 http://archive.ubuntu.com/ubuntu artful/main amd64 libcairo2 amd64 1.14.10-1ubuntu1 [558 kB]\n",
            "Get:36 http://archive.ubuntu.com/ubuntu artful/main amd64 libtheora0 amd64 1.1.1+dfsg.1-14 [170 kB]\n",
            "Get:37 http://archive.ubuntu.com/ubuntu artful/universe amd64 libtwolame0 amd64 0.3.13-2 [46.1 kB]\n",
            "Get:38 http://archive.ubuntu.com/ubuntu artful-updates/main amd64 libvorbis0a amd64 1.3.5-4ubuntu0.2 [86.5 kB]\n",
            "Get:39 http://archive.ubuntu.com/ubuntu artful-updates/main amd64 libvorbisenc2 amd64 1.3.5-4ubuntu0.2 [70.6 kB]\n",
            "Get:40 http://archive.ubuntu.com/ubuntu artful/main amd64 libvpx4 amd64 1.6.1-3 [763 kB]\n",
            "Get:41 http://archive.ubuntu.com/ubuntu artful-updates/main amd64 libwavpack1 amd64 5.1.0-2ubuntu0.3 [76.3 kB]\n",
            "Get:42 http://archive.ubuntu.com/ubuntu artful/main amd64 libwebp6 amd64 0.6.0-3 [181 kB]\n",
            "Get:43 http://archive.ubuntu.com/ubuntu artful/main amd64 libwebpmux3 amd64 0.6.0-3 [20.0 kB]\n",
            "Get:44 http://archive.ubuntu.com/ubuntu artful/universe amd64 libx264-148 amd64 2:0.148.2795+gitaaa9aa8-1 [604 kB]\n",
            "Get:45 http://archive.ubuntu.com/ubuntu artful/universe amd64 libx265-130 amd64 2.5-2 [1,044 kB]\n",
            "Get:46 http://archive.ubuntu.com/ubuntu artful/universe amd64 libxvidcore4 amd64 2:1.3.4-1 [206 kB]\n",
            "Get:47 http://archive.ubuntu.com/ubuntu artful/universe amd64 libzvbi-common all 0.2.35-13 [32.1 kB]\n",
            "Get:48 http://archive.ubuntu.com/ubuntu artful/universe amd64 libzvbi0 amd64 0.2.35-13 [235 kB]\n",
            "Get:49 http://archive.ubuntu.com/ubuntu artful/universe amd64 libavcodec57 amd64 7:3.3.4-2 [4,513 kB]\n",
            "Get:50 http://archive.ubuntu.com/ubuntu artful/main amd64 libasound2-data all 1.1.3-5 [36.1 kB]\n",
            "Get:51 http://archive.ubuntu.com/ubuntu artful/main amd64 libasound2 amd64 1.1.3-5 [357 kB]\n",
            "Get:52 http://archive.ubuntu.com/ubuntu artful/main amd64 libraw1394-11 amd64 2.1.2-1 [30.7 kB]\n",
            "Get:53 http://archive.ubuntu.com/ubuntu artful/main amd64 libavc1394-0 amd64 0.5.4-4 [16.1 kB]\n",
            "Get:54 http://archive.ubuntu.com/ubuntu artful/main amd64 libgraphite2-3 amd64 1.3.10-2 [78.3 kB]\n",
            "Get:55 http://archive.ubuntu.com/ubuntu artful/main amd64 libharfbuzz0b amd64 1.4.2-1 [211 kB]\n",
            "Get:56 http://archive.ubuntu.com/ubuntu artful/universe amd64 libass9 amd64 1:0.13.7-2 [83.7 kB]\n",
            "Get:57 http://archive.ubuntu.com/ubuntu artful/universe amd64 libbluray2 amd64 1:1.0.1.deb1-2 [136 kB]\n",
            "Get:58 http://archive.ubuntu.com/ubuntu artful/universe amd64 libchromaprint1 amd64 1.4.2-1 [36.8 kB]\n",
            "Get:59 http://archive.ubuntu.com/ubuntu artful/universe amd64 libgme0 amd64 0.6.1-1 [122 kB]\n",
            "Get:60 http://archive.ubuntu.com/ubuntu artful/universe amd64 libmpg123-0 amd64 1.25.6-1 [125 kB]\n",
            "Get:61 http://archive.ubuntu.com/ubuntu artful-updates/main amd64 libvorbisfile3 amd64 1.3.5-4ubuntu0.2 [15.9 kB]\n",
            "Get:62 http://archive.ubuntu.com/ubuntu artful/universe amd64 libopenmpt0 amd64 0.2.8760~beta27-1 [474 kB]\n",
            "Get:63 http://archive.ubuntu.com/ubuntu artful/main amd64 libssh-gcrypt-4 amd64 0.7.5-1 [162 kB]\n",
            "Get:64 http://archive.ubuntu.com/ubuntu artful/universe amd64 libavformat57 amd64 7:3.3.4-2 [924 kB]\n",
            "Get:65 http://archive.ubuntu.com/ubuntu artful/universe amd64 libavresample3 amd64 7:3.3.4-2 [52.7 kB]\n",
            "Get:66 http://archive.ubuntu.com/ubuntu artful/universe amd64 libbs2b0 amd64 3.1.0+dfsg-2.2 [10.5 kB]\n",
            "Get:67 http://archive.ubuntu.com/ubuntu artful/universe amd64 libflite1 amd64 2.0.0-release-4 [12.9 MB]\n",
            "Get:68 http://archive.ubuntu.com/ubuntu artful/universe amd64 libtbb2 amd64 2017~U7-6 [112 kB]\n",
            "Get:69 http://archive.ubuntu.com/ubuntu artful/universe amd64 libopencv-core3.1 amd64 3.1.0+dfsg1-1~exp1ubuntu3 [698 kB]\n",
            "Get:70 http://archive.ubuntu.com/ubuntu artful/universe amd64 libopencv-imgproc3.1 amd64 3.1.0+dfsg1-1~exp1ubuntu3 [778 kB]\n",
            "Get:71 http://archive.ubuntu.com/ubuntu artful/universe amd64 libpostproc54 amd64 7:3.3.4-2 [50.5 kB]\n",
            "Get:72 http://archive.ubuntu.com/ubuntu artful/main amd64 libfftw3-double3 amd64 3.3.6p2-1 [727 kB]\n",
            "Get:73 http://archive.ubuntu.com/ubuntu artful/main amd64 libsamplerate0 amd64 0.1.9-1 [938 kB]\n",
            "Get:74 http://archive.ubuntu.com/ubuntu artful/universe amd64 librubberband2v5 amd64 1.8.1-6ubuntu2 [85.3 kB]\n",
            "Get:75 http://archive.ubuntu.com/ubuntu artful/universe amd64 libswscale4 amd64 7:3.3.4-2 [150 kB]\n",
            "Get:76 http://archive.ubuntu.com/ubuntu artful/universe amd64 libavfilter6 amd64 7:3.3.4-2 [812 kB]\n",
            "51% [76 libavfilter6 53.5 kB/812 kB 7%]"
          ],
          "name": "stdout"
        },
        {
          "output_type": "stream",
          "text": [
            "\r                                       \r52% [Waiting for headers]\r                         \rGet:77 http://archive.ubuntu.com/ubuntu artful/main amd64 libcaca0 amd64 0.99.beta19-2build2~gcc5.2 [202 kB]\r\n",
            "\r52% [77 libcaca0 27.8 kB/202 kB 14%]\r                                    \r53% [Waiting for headers]\r                         \rGet:78 http://archive.ubuntu.com/ubuntu artful/main amd64 libcdio13 amd64 0.83-4.2ubuntu1 [53.0 kB]\r\n",
            "\r53% [78 libcdio13 21.7 kB/53.0 kB 41%]\r                                      \r53% [Working]\r             \rGet:79 http://archive.ubuntu.com/ubuntu artful/main amd64 libcdio-cdda1 amd64 0.83-4.2ubuntu1 [15.7 kB]\r\n",
            "\r53% [79 libcdio-cdda1 15.7 kB/15.7 kB 100%]\r                                           \r53% [Working]\r             \rGet:80 http://archive.ubuntu.com/ubuntu artful/main amd64 libcdio-paranoia1 amd64 0.83-4.2ubuntu1 [15.4 kB]\r\n",
            "\r53% [80 libcdio-paranoia1 15.4 kB/15.4 kB 100%]\r                                               \r53% [Working]\r             \rGet:81 http://archive.ubuntu.com/ubuntu artful/universe amd64 libdc1394-22 amd64 2.2.5-1 [77.5 kB]\r\n",
            "\r53% [81 libdc1394-22 65.5 kB/77.5 kB 85%]\r                                         \r53% [Waiting for headers]\r                         \rGet:82 http://archive.ubuntu.com/ubuntu artful-updates/main amd64 libglapi-mesa amd64 17.2.8-0ubuntu0~17.10.1 [22.2 kB]\r\n",
            "\r54% [82 libglapi-mesa 22.2 kB/22.2 kB 100%]\r                                           \r54% [Working]\r             \rGet:83 http://archive.ubuntu.com/ubuntu artful/main amd64 libx11-xcb1 amd64 2:1.6.4-3 [9,626 B]\r\n",
            "\r54% [83 libx11-xcb1 9,626 B/9,626 B 100%]\r                                         \r54% [Working]\r             \rGet:84 http://archive.ubuntu.com/ubuntu artful/main amd64 libxcb-dri2-0 amd64 1.12-1ubuntu1 [6,838 B]\r\n",
            "\r54% [84 libxcb-dri2-0 6,838 B/6,838 B 100%]\r                                           \r54% [Working]\r             \rGet:85 http://archive.ubuntu.com/ubuntu artful/main amd64 libxcb-dri3-0 amd64 1.12-1ubuntu1 [5,156 B]\r\n",
            "\r54% [85 libxcb-dri3-0 5,156 B/5,156 B 100%]\r                                           \r54% [Waiting for headers]\r                         \rGet:86 http://archive.ubuntu.com/ubuntu artful/main amd64 libxcb-glx0 amd64 1.12-1ubuntu1 [22.3 kB]\r\n",
            "\r54% [86 libxcb-glx0 10.6 kB/22.3 kB 48%]\r                                        \r54% [Waiting for headers]\r                         \rGet:87 http://archive.ubuntu.com/ubuntu artful/main amd64 libxcb-present0 amd64 1.12-1ubuntu1 [5,436 B]\r\n",
            "\r54% [87 libxcb-present0 0 B/5,436 B 0%]\r                                       \r54% [Working]\r             \rGet:88 http://archive.ubuntu.com/ubuntu artful/main amd64 libxcb-sync1 amd64 1.12-1ubuntu1 [8,746 B]\r\n",
            "\r54% [88 libxcb-sync1 8,746 B/8,746 B 100%]\r                                          \r55% [Working]\r             \rGet:89 http://archive.ubuntu.com/ubuntu artful/main amd64 libxdamage1 amd64 1:1.1.4-3 [6,934 B]\r\n",
            "\r55% [89 libxdamage1 0 B/6,934 B 0%]\r                                   \r55% [Working]\r             \rGet:90 http://archive.ubuntu.com/ubuntu artful/main amd64 libdrm-amdgpu1 amd64 2.4.83-1 [18.5 kB]\r\n",
            "\r55% [90 libdrm-amdgpu1 0 B/18.5 kB 0%]\r                                      \r55% [Working]\r             \rGet:91 http://archive.ubuntu.com/ubuntu artful/main amd64 libpciaccess0 amd64 0.13.4-1ubuntu1 [17.9 kB]\r\n",
            "\r55% [91 libpciaccess0 0 B/17.9 kB 0%]\r                                     \r55% [Working]\r             \rGet:92 http://archive.ubuntu.com/ubuntu artful/main amd64 libdrm-intel1 amd64 2.4.83-1 [59.7 kB]\r\n",
            "\r55% [92 libdrm-intel1 0 B/59.7 kB 0%]\r                                     \r55% [Working]\r             \rGet:93 http://archive.ubuntu.com/ubuntu artful/main amd64 libdrm-nouveau2 amd64 2.4.83-1 [16.4 kB]\r\n",
            "\r55% [93 libdrm-nouveau2 0 B/16.4 kB 0%]\r                                       \r55% [Waiting for headers]\r                         \rGet:94 http://archive.ubuntu.com/ubuntu artful/main amd64 libdrm-radeon1 amd64 2.4.83-1 [21.6 kB]\r\n",
            "Get:95 http://archive.ubuntu.com/ubuntu artful/main amd64 libllvm5.0 amd64 1:5.0-3 [13.7 MB]\n",
            "Get:96 http://archive.ubuntu.com/ubuntu artful/main amd64 libsensors4 amd64 1:3.4.0-4 [28.8 kB]\n",
            "Get:97 http://archive.ubuntu.com/ubuntu artful-updates/main amd64 libgl1-mesa-dri amd64 17.2.8-0ubuntu0~17.10.1 [5,707 kB]\n",
            "Get:98 http://archive.ubuntu.com/ubuntu artful-updates/main amd64 libgl1-mesa-glx amd64 17.2.8-0ubuntu0~17.10.1 [130 kB]\n",
            "Get:99 http://archive.ubuntu.com/ubuntu artful/main amd64 libiec61883-0 amd64 1.2.0-2 [23.5 kB]\n",
            "Get:100 http://archive.ubuntu.com/ubuntu artful/main amd64 libjack-jackd2-0 amd64 1.9.10+20150825git1ed50c92~dfsg-5ubuntu1 [256 kB]\n",
            "Get:101 http://archive.ubuntu.com/ubuntu artful/universe amd64 libopenal-data all 1:1.17.2-4 [101 kB]\n",
            "Get:102 http://archive.ubuntu.com/ubuntu artful/universe amd64 libsndio6.1 amd64 1.1.0-3 [23.4 kB]\n",
            "Get:103 http://archive.ubuntu.com/ubuntu artful/universe amd64 libopenal1 amd64 1:1.17.2-4 [207 kB]\n",
            "Get:104 http://archive.ubuntu.com/ubuntu artful/main amd64 libasyncns0 amd64 0.8-6 [12.1 kB]\n",
            "Get:105 http://archive.ubuntu.com/ubuntu artful/main amd64 libflac8 amd64 1.3.2-1 [213 kB]\n",
            "Get:106 http://archive.ubuntu.com/ubuntu artful/main amd64 libsndfile1 amd64 1.0.28-4 [169 kB]\n",
            "Get:107 http://archive.ubuntu.com/ubuntu artful/main amd64 libwrap0 amd64 7.6.q-26 [46.1 kB]\n",
            "Get:108 http://archive.ubuntu.com/ubuntu artful-updates/main amd64 libpulse0 amd64 1:10.0-2ubuntu3.1 [265 kB]\n",
            "Get:109 http://archive.ubuntu.com/ubuntu artful-updates/main amd64 libwayland-client0 amd64 1.14.0-1ubuntu0.1 [22.5 kB]\n",
            "Get:110 http://archive.ubuntu.com/ubuntu artful-updates/main amd64 libwayland-cursor0 amd64 1.14.0-1ubuntu0.1 [9,890 B]\n",
            "Get:111 http://archive.ubuntu.com/ubuntu artful-updates/main amd64 libwayland-server0 amd64 1.14.0-1ubuntu0.1 [28.5 kB]\n",
            "Get:112 http://archive.ubuntu.com/ubuntu artful-updates/main amd64 libgbm1 amd64 17.2.8-0ubuntu0~17.10.1 [24.4 kB]\n",
            "Get:113 http://archive.ubuntu.com/ubuntu artful/main amd64 libboost-system1.62.0 amd64 1.62.0+dfsg-4build3 [9,212 B]\n",
            "Get:114 http://archive.ubuntu.com/ubuntu artful/main amd64 libcapnp-0.5.3 amd64 0.5.3-2ubuntu2 [569 kB]\n",
            "Get:115 http://archive.ubuntu.com/ubuntu artful/main amd64 libboost-filesystem1.62.0 amd64 1.62.0+dfsg-4build3 [38.6 kB]\n",
            "Get:116 http://archive.ubuntu.com/ubuntu artful/main amd64 libmircore1 amd64 0.28.0+17.10.20171011.1-0ubuntu1 [31.5 kB]\n",
            "Get:117 http://archive.ubuntu.com/ubuntu artful/main amd64 libmircommon7 amd64 0.28.0+17.10.20171011.1-0ubuntu1 [73.2 kB]\n",
            "Get:118 http://archive.ubuntu.com/ubuntu artful/main amd64 libprotobuf-lite10 amd64 3.0.0-9ubuntu5 [97.1 kB]\n",
            "Get:119 http://archive.ubuntu.com/ubuntu artful/main amd64 libmirprotobuf3 amd64 0.28.0+17.10.20171011.1-0ubuntu1 [131 kB]\n",
            "Get:120 http://archive.ubuntu.com/ubuntu artful/main amd64 libxkbcommon0 amd64 0.7.1-2 [97.2 kB]\n",
            "Get:121 http://archive.ubuntu.com/ubuntu artful/main amd64 libmirclient9 amd64 0.28.0+17.10.20171011.1-0ubuntu1 [199 kB]\n",
            "Get:122 http://archive.ubuntu.com/ubuntu artful/main amd64 libxcb-xfixes0 amd64 1.12-1ubuntu1 [9,292 B]\n",
            "Get:123 http://archive.ubuntu.com/ubuntu artful-updates/main amd64 libegl1-mesa amd64 17.2.8-0ubuntu0~17.10.1 [85.3 kB]\n",
            "Get:124 http://archive.ubuntu.com/ubuntu artful-updates/main amd64 libwayland-egl1-mesa amd64 17.2.8-0ubuntu0~17.10.1 [5,778 B]\n",
            "Get:125 http://archive.ubuntu.com/ubuntu artful-updates/main amd64 libxcursor1 amd64 1:1.1.14-3ubuntu0.1 [19.8 kB]\n",
            "Get:126 http://archive.ubuntu.com/ubuntu artful/main amd64 libxi6 amd64 2:1.7.9-1 [29.2 kB]\n",
            "Get:127 http://archive.ubuntu.com/ubuntu artful/main amd64 libxrandr2 amd64 2:1.5.1-1 [18.1 kB]\n",
            "Get:128 http://archive.ubuntu.com/ubuntu artful/universe amd64 libsdl2-2.0-0 amd64 2.0.6+dfsg1-3ubuntu1 [346 kB]\n",
            "Get:129 http://archive.ubuntu.com/ubuntu artful/main amd64 libxcb-shape0 amd64 1.12-1ubuntu1 [5,864 B]\n",
            "Get:130 http://archive.ubuntu.com/ubuntu artful/main amd64 libxv1 amd64 2:1.0.11-1 [10.7 kB]\n",
            "Get:131 http://archive.ubuntu.com/ubuntu artful/universe amd64 libavdevice57 amd64 7:3.3.4-2 [73.7 kB]\n",
            "Get:132 http://archive.ubuntu.com/ubuntu artful/universe amd64 ffmpeg amd64 7:3.3.4-2 [1,524 kB]\n",
            "Get:133 http://archive.ubuntu.com/ubuntu artful/universe amd64 libaacs0 amd64 0.9.0-1 [51.4 kB]\n",
            "Get:134 http://archive.ubuntu.com/ubuntu artful/universe amd64 libbdplus0 amd64 0.1.2-2 [46.6 kB]\n",
            "Get:135 http://archive.ubuntu.com/ubuntu artful-updates/universe amd64 mesa-va-drivers amd64 17.2.8-0ubuntu0~17.10.1 [1,532 kB]\n",
            "Get:136 http://archive.ubuntu.com/ubuntu artful-updates/main amd64 mesa-vdpau-drivers amd64 17.2.8-0ubuntu0~17.10.1 [1,658 kB]\n",
            "Get:137 http://archive.ubuntu.com/ubuntu artful/main amd64 tcpd amd64 7.6.q-26 [23.5 kB]\n",
            "Get:138 http://archive.ubuntu.com/ubuntu artful/universe amd64 i965-va-driver amd64 1.8.3-1ubuntu1 [633 kB]\n",
            "Get:139 http://archive.ubuntu.com/ubuntu artful/universe amd64 va-driver-all amd64 1.8.3-2 [4,294 B]\n",
            "Get:140 http://archive.ubuntu.com/ubuntu artful/main amd64 vdpau-driver-all amd64 1.1.1-3ubuntu1 [4,674 B]\n",
            "Get:141 http://archive.ubuntu.com/ubuntu artful/main amd64 libtxc-dxtn-s2tc amd64 1.0+git20151227-2 [48.4 kB]\n",
            "Fetched 60.1 MB in 1s (39.1 MB/s)\n"
          ],
          "name": "stdout"
        },
        {
          "output_type": "stream",
          "text": [
            "Extracting templates from packages: 100%\n",
            "Selecting previously unselected package libgsm1:amd64.\n",
            "(Reading database ... 18396 files and directories currently installed.)\n",
            "Preparing to unpack .../000-libgsm1_1.0.13-4_amd64.deb ...\n",
            "Unpacking libgsm1:amd64 (1.0.13-4) ...\n",
            "Selecting previously unselected package libogg0:amd64.\n",
            "Preparing to unpack .../001-libogg0_1.3.2-1_amd64.deb ...\n",
            "Unpacking libogg0:amd64 (1.3.2-1) ...\n",
            "Selecting previously unselected package libxinerama1:amd64.\n",
            "Preparing to unpack .../002-libxinerama1_2%3a1.1.3-1_amd64.deb ...\n",
            "Unpacking libxinerama1:amd64 (2:1.1.3-1) ...\n",
            "Selecting previously unselected package libxshmfence1:amd64.\n",
            "Preparing to unpack .../003-libxshmfence1_1.2-1_amd64.deb ...\n",
            "Unpacking libxshmfence1:amd64 (1.2-1) ...\n",
            "Selecting previously unselected package libxxf86vm1:amd64.\n",
            "Preparing to unpack .../004-libxxf86vm1_1%3a1.1.4-1_amd64.deb ...\n",
            "Unpacking libxxf86vm1:amd64 (1:1.1.4-1) ...\n",
            "Selecting previously unselected package libapparmor1:amd64.\n",
            "Preparing to unpack .../005-libapparmor1_2.11.0-2ubuntu17.1_amd64.deb ...\n",
            "Unpacking libapparmor1:amd64 (2.11.0-2ubuntu17.1) ...\n",
            "Selecting previously unselected package libdbus-1-3:amd64.\n",
            "Preparing to unpack .../006-libdbus-1-3_1.10.22-1ubuntu1_amd64.deb ...\n",
            "Unpacking libdbus-1-3:amd64 (1.10.22-1ubuntu1) ...\n",
            "Selecting previously unselected package dbus.\n",
            "Preparing to unpack .../007-dbus_1.10.22-1ubuntu1_amd64.deb ...\n",
            "Unpacking dbus (1.10.22-1ubuntu1) ...\n",
            "Selecting previously unselected package libelf1:amd64.\n",
            "Preparing to unpack .../008-libelf1_0.170-0.1_amd64.deb ...\n",
            "Unpacking libelf1:amd64 (0.170-0.1) ...\n",
            "Selecting previously unselected package libfribidi0:amd64.\n",
            "Preparing to unpack .../009-libfribidi0_0.19.7-1_amd64.deb ...\n",
            "Unpacking libfribidi0:amd64 (0.19.7-1) ...\n",
            "Selecting previously unselected package libslang2:amd64.\n",
            "Preparing to unpack .../010-libslang2_2.3.1-5ubuntu1_amd64.deb ...\n",
            "Unpacking libslang2:amd64 (2.3.1-5ubuntu1) ...\n",
            "Selecting previously unselected package xkb-data.\n",
            "Preparing to unpack .../011-xkb-data_2.19-1.1ubuntu1_all.deb ...\n",
            "Unpacking xkb-data (2.19-1.1ubuntu1) ...\n",
            "Selecting previously unselected package libdrm-common.\n",
            "Preparing to unpack .../012-libdrm-common_2.4.83-1_all.deb ...\n",
            "Unpacking libdrm-common (2.4.83-1) ...\n",
            "Selecting previously unselected package libdrm2:amd64.\n",
            "Preparing to unpack .../013-libdrm2_2.4.83-1_amd64.deb ...\n",
            "Unpacking libdrm2:amd64 (2.4.83-1) ...\n",
            "Selecting previously unselected package libnuma1:amd64.\n",
            "Preparing to unpack .../014-libnuma1_2.0.11-2.1_amd64.deb ...\n",
            "Unpacking libnuma1:amd64 (2.0.11-2.1) ...\n",
            "Selecting previously unselected package libusb-1.0-0:amd64.\n",
            "Preparing to unpack .../015-libusb-1.0-0_2%3a1.0.21-2_amd64.deb ...\n",
            "Unpacking libusb-1.0-0:amd64 (2:1.0.21-2) ...\n",
            "Selecting previously unselected package libva-drm1:amd64.\n",
            "Preparing to unpack .../016-libva-drm1_1.8.3-2_amd64.deb ...\n",
            "Unpacking libva-drm1:amd64 (1.8.3-2) ...\n",
            "Selecting previously unselected package libva1:amd64.\n",
            "Preparing to unpack .../017-libva1_1.8.3-2_amd64.deb ...\n",
            "Unpacking libva1:amd64 (1.8.3-2) ...\n",
            "Selecting previously unselected package libxfixes3:amd64.\n",
            "Preparing to unpack .../018-libxfixes3_1%3a5.0.3-1_amd64.deb ...\n",
            "Unpacking libxfixes3:amd64 (1:5.0.3-1) ...\n",
            "Selecting previously unselected package libva-x11-1:amd64.\n",
            "Preparing to unpack .../019-libva-x11-1_1.8.3-2_amd64.deb ...\n",
            "Unpacking libva-x11-1:amd64 (1.8.3-2) ...\n",
            "Selecting previously unselected package libvdpau1:amd64.\n",
            "Preparing to unpack .../020-libvdpau1_1.1.1-3ubuntu1_amd64.deb ...\n",
            "Unpacking libvdpau1:amd64 (1.1.1-3ubuntu1) ...\n",
            "Selecting previously unselected package libavutil55:amd64.\n",
            "Preparing to unpack .../021-libavutil55_7%3a3.3.4-2_amd64.deb ...\n",
            "Unpacking libavutil55:amd64 (7:3.3.4-2) ...\n",
            "Selecting previously unselected package libcrystalhd3:amd64.\n",
            "Preparing to unpack .../022-libcrystalhd3_1%3a0.0~git20110715.fdd2f19-12_amd64.deb ...\n",
            "Unpacking libcrystalhd3:amd64 (1:0.0~git20110715.fdd2f19-12) ...\n",
            "Selecting previously unselected package libmp3lame0:amd64.\n",
            "Preparing to unpack .../023-libmp3lame0_3.99.5+repack1-9build1_amd64.deb ...\n",
            "Unpacking libmp3lame0:amd64 (3.99.5+repack1-9build1) ...\n",
            "Selecting previously unselected package libopenjp2-7:amd64.\n",
            "Preparing to unpack .../024-libopenjp2-7_2.2.0-1_amd64.deb ...\n",
            "Unpacking libopenjp2-7:amd64 (2.2.0-1) ...\n",
            "Selecting previously unselected package libopus0:amd64.\n",
            "Preparing to unpack .../025-libopus0_1.1.2-1ubuntu1_amd64.deb ...\n",
            "Unpacking libopus0:amd64 (1.1.2-1ubuntu1) ...\n",
            "Selecting previously unselected package libshine3:amd64.\n",
            "Preparing to unpack .../026-libshine3_3.1.1-1_amd64.deb ...\n",
            "Unpacking libshine3:amd64 (3.1.1-1) ...\n",
            "Selecting previously unselected package libsnappy1v5:amd64.\n",
            "Preparing to unpack .../027-libsnappy1v5_1.1.6-4_amd64.deb ...\n",
            "Unpacking libsnappy1v5:amd64 (1.1.6-4) ...\n",
            "Selecting previously unselected package libspeex1:amd64.\n",
            "Preparing to unpack .../028-libspeex1_1.2~rc1.2-1ubuntu1_amd64.deb ...\n"
          ],
          "name": "stdout"
        },
        {
          "output_type": "stream",
          "text": [
            "Unpacking libspeex1:amd64 (1.2~rc1.2-1ubuntu1) ...\n",
            "Selecting previously unselected package libsoxr0:amd64.\n",
            "Preparing to unpack .../029-libsoxr0_0.1.2-2_amd64.deb ...\n",
            "Unpacking libsoxr0:amd64 (0.1.2-2) ...\n",
            "Selecting previously unselected package libswresample2:amd64.\n",
            "Preparing to unpack .../030-libswresample2_7%3a3.3.4-2_amd64.deb ...\n",
            "Unpacking libswresample2:amd64 (7:3.3.4-2) ...\n",
            "Selecting previously unselected package libpixman-1-0:amd64.\n",
            "Preparing to unpack .../031-libpixman-1-0_0.34.0-1_amd64.deb ...\n",
            "Unpacking libpixman-1-0:amd64 (0.34.0-1) ...\n",
            "Selecting previously unselected package libxcb-render0:amd64.\n",
            "Preparing to unpack .../032-libxcb-render0_1.12-1ubuntu1_amd64.deb ...\n",
            "Unpacking libxcb-render0:amd64 (1.12-1ubuntu1) ...\n",
            "Selecting previously unselected package libxcb-shm0:amd64.\n",
            "Preparing to unpack .../033-libxcb-shm0_1.12-1ubuntu1_amd64.deb ...\n",
            "Unpacking libxcb-shm0:amd64 (1.12-1ubuntu1) ...\n",
            "Selecting previously unselected package libcairo2:amd64.\n",
            "Preparing to unpack .../034-libcairo2_1.14.10-1ubuntu1_amd64.deb ...\n",
            "Unpacking libcairo2:amd64 (1.14.10-1ubuntu1) ...\n",
            "Selecting previously unselected package libtheora0:amd64.\n",
            "Preparing to unpack .../035-libtheora0_1.1.1+dfsg.1-14_amd64.deb ...\n",
            "Unpacking libtheora0:amd64 (1.1.1+dfsg.1-14) ...\n",
            "Selecting previously unselected package libtwolame0:amd64.\n",
            "Preparing to unpack .../036-libtwolame0_0.3.13-2_amd64.deb ...\n",
            "Unpacking libtwolame0:amd64 (0.3.13-2) ...\n",
            "Selecting previously unselected package libvorbis0a:amd64.\n",
            "Preparing to unpack .../037-libvorbis0a_1.3.5-4ubuntu0.2_amd64.deb ...\n",
            "Unpacking libvorbis0a:amd64 (1.3.5-4ubuntu0.2) ...\n",
            "Selecting previously unselected package libvorbisenc2:amd64.\n",
            "Preparing to unpack .../038-libvorbisenc2_1.3.5-4ubuntu0.2_amd64.deb ...\n",
            "Unpacking libvorbisenc2:amd64 (1.3.5-4ubuntu0.2) ...\n",
            "Selecting previously unselected package libvpx4:amd64.\n",
            "Preparing to unpack .../039-libvpx4_1.6.1-3_amd64.deb ...\n",
            "Unpacking libvpx4:amd64 (1.6.1-3) ...\n",
            "Selecting previously unselected package libwavpack1:amd64.\n",
            "Preparing to unpack .../040-libwavpack1_5.1.0-2ubuntu0.3_amd64.deb ...\n",
            "Unpacking libwavpack1:amd64 (5.1.0-2ubuntu0.3) ...\n",
            "Selecting previously unselected package libwebp6:amd64.\n",
            "Preparing to unpack .../041-libwebp6_0.6.0-3_amd64.deb ...\n",
            "Unpacking libwebp6:amd64 (0.6.0-3) ...\n",
            "Selecting previously unselected package libwebpmux3:amd64.\n",
            "Preparing to unpack .../042-libwebpmux3_0.6.0-3_amd64.deb ...\n",
            "Unpacking libwebpmux3:amd64 (0.6.0-3) ...\n",
            "Selecting previously unselected package libx264-148:amd64.\n",
            "Preparing to unpack .../043-libx264-148_2%3a0.148.2795+gitaaa9aa8-1_amd64.deb ...\n",
            "Unpacking libx264-148:amd64 (2:0.148.2795+gitaaa9aa8-1) ...\n",
            "Selecting previously unselected package libx265-130:amd64.\n",
            "Preparing to unpack .../044-libx265-130_2.5-2_amd64.deb ...\n",
            "Unpacking libx265-130:amd64 (2.5-2) ...\n",
            "Selecting previously unselected package libxvidcore4:amd64.\n",
            "Preparing to unpack .../045-libxvidcore4_2%3a1.3.4-1_amd64.deb ...\n",
            "Unpacking libxvidcore4:amd64 (2:1.3.4-1) ...\n",
            "Selecting previously unselected package libzvbi-common.\n",
            "Preparing to unpack .../046-libzvbi-common_0.2.35-13_all.deb ...\n",
            "Unpacking libzvbi-common (0.2.35-13) ...\n",
            "Selecting previously unselected package libzvbi0:amd64.\n",
            "Preparing to unpack .../047-libzvbi0_0.2.35-13_amd64.deb ...\n",
            "Unpacking libzvbi0:amd64 (0.2.35-13) ...\n",
            "Selecting previously unselected package libavcodec57:amd64.\n",
            "Preparing to unpack .../048-libavcodec57_7%3a3.3.4-2_amd64.deb ...\n",
            "Unpacking libavcodec57:amd64 (7:3.3.4-2) ...\n",
            "Selecting previously unselected package libasound2-data.\n",
            "Preparing to unpack .../049-libasound2-data_1.1.3-5_all.deb ...\n",
            "Unpacking libasound2-data (1.1.3-5) ...\n",
            "Selecting previously unselected package libasound2:amd64.\n",
            "Preparing to unpack .../050-libasound2_1.1.3-5_amd64.deb ...\n",
            "Unpacking libasound2:amd64 (1.1.3-5) ...\n",
            "Selecting previously unselected package libraw1394-11:amd64.\n",
            "Preparing to unpack .../051-libraw1394-11_2.1.2-1_amd64.deb ...\n",
            "Unpacking libraw1394-11:amd64 (2.1.2-1) ...\n",
            "Selecting previously unselected package libavc1394-0:amd64.\n",
            "Preparing to unpack .../052-libavc1394-0_0.5.4-4_amd64.deb ...\n",
            "Unpacking libavc1394-0:amd64 (0.5.4-4) ...\n",
            "Selecting previously unselected package libgraphite2-3:amd64.\n",
            "Preparing to unpack .../053-libgraphite2-3_1.3.10-2_amd64.deb ...\n",
            "Unpacking libgraphite2-3:amd64 (1.3.10-2) ...\n",
            "Selecting previously unselected package libharfbuzz0b:amd64.\n",
            "Preparing to unpack .../054-libharfbuzz0b_1.4.2-1_amd64.deb ...\n",
            "Unpacking libharfbuzz0b:amd64 (1.4.2-1) ...\n",
            "Selecting previously unselected package libass9:amd64.\n",
            "Preparing to unpack .../055-libass9_1%3a0.13.7-2_amd64.deb ...\n",
            "Unpacking libass9:amd64 (1:0.13.7-2) ...\n",
            "Selecting previously unselected package libbluray2:amd64.\n",
            "Preparing to unpack .../056-libbluray2_1%3a1.0.1.deb1-2_amd64.deb ...\n",
            "Unpacking libbluray2:amd64 (1:1.0.1.deb1-2) ...\n"
          ],
          "name": "stdout"
        },
        {
          "output_type": "stream",
          "text": [
            "Selecting previously unselected package libchromaprint1:amd64.\r\n",
            "Preparing to unpack .../057-libchromaprint1_1.4.2-1_amd64.deb ...\r\n",
            "Unpacking libchromaprint1:amd64 (1.4.2-1) ...\n",
            "Selecting previously unselected package libgme0:amd64.\n",
            "Preparing to unpack .../058-libgme0_0.6.1-1_amd64.deb ...\n",
            "Unpacking libgme0:amd64 (0.6.1-1) ...\n",
            "Selecting previously unselected package libmpg123-0:amd64.\n",
            "Preparing to unpack .../059-libmpg123-0_1.25.6-1_amd64.deb ...\n",
            "Unpacking libmpg123-0:amd64 (1.25.6-1) ...\n",
            "Selecting previously unselected package libvorbisfile3:amd64.\n",
            "Preparing to unpack .../060-libvorbisfile3_1.3.5-4ubuntu0.2_amd64.deb ...\n",
            "Unpacking libvorbisfile3:amd64 (1.3.5-4ubuntu0.2) ...\n",
            "Selecting previously unselected package libopenmpt0:amd64.\n",
            "Preparing to unpack .../061-libopenmpt0_0.2.8760~beta27-1_amd64.deb ...\n",
            "Unpacking libopenmpt0:amd64 (0.2.8760~beta27-1) ...\n",
            "Selecting previously unselected package libssh-gcrypt-4:amd64.\n",
            "Preparing to unpack .../062-libssh-gcrypt-4_0.7.5-1_amd64.deb ...\n",
            "Unpacking libssh-gcrypt-4:amd64 (0.7.5-1) ...\n",
            "Selecting previously unselected package libavformat57:amd64.\n",
            "Preparing to unpack .../063-libavformat57_7%3a3.3.4-2_amd64.deb ...\n",
            "Unpacking libavformat57:amd64 (7:3.3.4-2) ...\n",
            "Selecting previously unselected package libavresample3:amd64.\n",
            "Preparing to unpack .../064-libavresample3_7%3a3.3.4-2_amd64.deb ...\n",
            "Unpacking libavresample3:amd64 (7:3.3.4-2) ...\n",
            "Selecting previously unselected package libbs2b0:amd64.\n",
            "Preparing to unpack .../065-libbs2b0_3.1.0+dfsg-2.2_amd64.deb ...\n",
            "Unpacking libbs2b0:amd64 (3.1.0+dfsg-2.2) ...\n",
            "Selecting previously unselected package libflite1:amd64.\n",
            "Preparing to unpack .../066-libflite1_2.0.0-release-4_amd64.deb ...\n",
            "Unpacking libflite1:amd64 (2.0.0-release-4) ...\n",
            "Selecting previously unselected package libtbb2:amd64.\n",
            "Preparing to unpack .../067-libtbb2_2017~U7-6_amd64.deb ...\n",
            "Unpacking libtbb2:amd64 (2017~U7-6) ...\n",
            "Selecting previously unselected package libopencv-core3.1:amd64.\n",
            "Preparing to unpack .../068-libopencv-core3.1_3.1.0+dfsg1-1~exp1ubuntu3_amd64.deb ...\n",
            "Unpacking libopencv-core3.1:amd64 (3.1.0+dfsg1-1~exp1ubuntu3) ...\n",
            "Selecting previously unselected package libopencv-imgproc3.1:amd64.\n",
            "Preparing to unpack .../069-libopencv-imgproc3.1_3.1.0+dfsg1-1~exp1ubuntu3_amd64.deb ...\n",
            "Unpacking libopencv-imgproc3.1:amd64 (3.1.0+dfsg1-1~exp1ubuntu3) ...\n",
            "Selecting previously unselected package libpostproc54:amd64.\n",
            "Preparing to unpack .../070-libpostproc54_7%3a3.3.4-2_amd64.deb ...\n",
            "Unpacking libpostproc54:amd64 (7:3.3.4-2) ...\n",
            "Selecting previously unselected package libfftw3-double3:amd64.\n",
            "Preparing to unpack .../071-libfftw3-double3_3.3.6p2-1_amd64.deb ...\n",
            "Unpacking libfftw3-double3:amd64 (3.3.6p2-1) ...\n",
            "Selecting previously unselected package libsamplerate0:amd64.\n",
            "Preparing to unpack .../072-libsamplerate0_0.1.9-1_amd64.deb ...\n",
            "Unpacking libsamplerate0:amd64 (0.1.9-1) ...\n",
            "Selecting previously unselected package librubberband2v5:amd64.\n",
            "Preparing to unpack .../073-librubberband2v5_1.8.1-6ubuntu2_amd64.deb ...\n",
            "Unpacking librubberband2v5:amd64 (1.8.1-6ubuntu2) ...\n",
            "Selecting previously unselected package libswscale4:amd64.\n",
            "Preparing to unpack .../074-libswscale4_7%3a3.3.4-2_amd64.deb ...\n",
            "Unpacking libswscale4:amd64 (7:3.3.4-2) ...\n",
            "Selecting previously unselected package libavfilter6:amd64.\n",
            "Preparing to unpack .../075-libavfilter6_7%3a3.3.4-2_amd64.deb ...\n",
            "Unpacking libavfilter6:amd64 (7:3.3.4-2) ...\n",
            "Selecting previously unselected package libcaca0:amd64.\n",
            "Preparing to unpack .../076-libcaca0_0.99.beta19-2build2~gcc5.2_amd64.deb ...\n",
            "Unpacking libcaca0:amd64 (0.99.beta19-2build2~gcc5.2) ...\n",
            "Selecting previously unselected package libcdio13:amd64.\n",
            "Preparing to unpack .../077-libcdio13_0.83-4.2ubuntu1_amd64.deb ...\n",
            "Unpacking libcdio13:amd64 (0.83-4.2ubuntu1) ...\n",
            "Selecting previously unselected package libcdio-cdda1:amd64.\n",
            "Preparing to unpack .../078-libcdio-cdda1_0.83-4.2ubuntu1_amd64.deb ...\n",
            "Unpacking libcdio-cdda1:amd64 (0.83-4.2ubuntu1) ...\n",
            "Selecting previously unselected package libcdio-paranoia1:amd64.\n",
            "Preparing to unpack .../079-libcdio-paranoia1_0.83-4.2ubuntu1_amd64.deb ...\n",
            "Unpacking libcdio-paranoia1:amd64 (0.83-4.2ubuntu1) ...\n",
            "Selecting previously unselected package libdc1394-22:amd64.\n",
            "Preparing to unpack .../080-libdc1394-22_2.2.5-1_amd64.deb ...\n",
            "Unpacking libdc1394-22:amd64 (2.2.5-1) ...\n",
            "Selecting previously unselected package libglapi-mesa:amd64.\n",
            "Preparing to unpack .../081-libglapi-mesa_17.2.8-0ubuntu0~17.10.1_amd64.deb ...\n",
            "Unpacking libglapi-mesa:amd64 (17.2.8-0ubuntu0~17.10.1) ...\n",
            "Selecting previously unselected package libx11-xcb1:amd64.\n",
            "Preparing to unpack .../082-libx11-xcb1_2%3a1.6.4-3_amd64.deb ...\n",
            "Unpacking libx11-xcb1:amd64 (2:1.6.4-3) ...\n",
            "Selecting previously unselected package libxcb-dri2-0:amd64.\n",
            "Preparing to unpack .../083-libxcb-dri2-0_1.12-1ubuntu1_amd64.deb ...\n",
            "Unpacking libxcb-dri2-0:amd64 (1.12-1ubuntu1) ...\n",
            "Selecting previously unselected package libxcb-dri3-0:amd64.\n",
            "Preparing to unpack .../084-libxcb-dri3-0_1.12-1ubuntu1_amd64.deb ...\n",
            "Unpacking libxcb-dri3-0:amd64 (1.12-1ubuntu1) ...\n",
            "Selecting previously unselected package libxcb-glx0:amd64.\n",
            "Preparing to unpack .../085-libxcb-glx0_1.12-1ubuntu1_amd64.deb ...\n",
            "Unpacking libxcb-glx0:amd64 (1.12-1ubuntu1) ...\n"
          ],
          "name": "stdout"
        },
        {
          "output_type": "stream",
          "text": [
            "Selecting previously unselected package libxcb-present0:amd64.\r\n",
            "Preparing to unpack .../086-libxcb-present0_1.12-1ubuntu1_amd64.deb ...\r\n",
            "Unpacking libxcb-present0:amd64 (1.12-1ubuntu1) ...\n",
            "Selecting previously unselected package libxcb-sync1:amd64.\n",
            "Preparing to unpack .../087-libxcb-sync1_1.12-1ubuntu1_amd64.deb ...\n",
            "Unpacking libxcb-sync1:amd64 (1.12-1ubuntu1) ...\n",
            "Selecting previously unselected package libxdamage1:amd64.\n",
            "Preparing to unpack .../088-libxdamage1_1%3a1.1.4-3_amd64.deb ...\n",
            "Unpacking libxdamage1:amd64 (1:1.1.4-3) ...\n",
            "Selecting previously unselected package libdrm-amdgpu1:amd64.\n",
            "Preparing to unpack .../089-libdrm-amdgpu1_2.4.83-1_amd64.deb ...\n",
            "Unpacking libdrm-amdgpu1:amd64 (2.4.83-1) ...\n",
            "Selecting previously unselected package libpciaccess0:amd64.\n",
            "Preparing to unpack .../090-libpciaccess0_0.13.4-1ubuntu1_amd64.deb ...\n",
            "Unpacking libpciaccess0:amd64 (0.13.4-1ubuntu1) ...\n",
            "Selecting previously unselected package libdrm-intel1:amd64.\n",
            "Preparing to unpack .../091-libdrm-intel1_2.4.83-1_amd64.deb ...\n",
            "Unpacking libdrm-intel1:amd64 (2.4.83-1) ...\n",
            "Selecting previously unselected package libdrm-nouveau2:amd64.\n",
            "Preparing to unpack .../092-libdrm-nouveau2_2.4.83-1_amd64.deb ...\n",
            "Unpacking libdrm-nouveau2:amd64 (2.4.83-1) ...\n",
            "Selecting previously unselected package libdrm-radeon1:amd64.\n",
            "Preparing to unpack .../093-libdrm-radeon1_2.4.83-1_amd64.deb ...\n",
            "Unpacking libdrm-radeon1:amd64 (2.4.83-1) ...\n",
            "Selecting previously unselected package libllvm5.0:amd64.\n",
            "Preparing to unpack .../094-libllvm5.0_1%3a5.0-3_amd64.deb ...\n",
            "Unpacking libllvm5.0:amd64 (1:5.0-3) ...\n",
            "Selecting previously unselected package libsensors4:amd64.\n",
            "Preparing to unpack .../095-libsensors4_1%3a3.4.0-4_amd64.deb ...\n",
            "Unpacking libsensors4:amd64 (1:3.4.0-4) ...\n",
            "Selecting previously unselected package libgl1-mesa-dri:amd64.\n",
            "Preparing to unpack .../096-libgl1-mesa-dri_17.2.8-0ubuntu0~17.10.1_amd64.deb ...\n",
            "Unpacking libgl1-mesa-dri:amd64 (17.2.8-0ubuntu0~17.10.1) ...\n",
            "Selecting previously unselected package libgl1-mesa-glx:amd64.\n",
            "Preparing to unpack .../097-libgl1-mesa-glx_17.2.8-0ubuntu0~17.10.1_amd64.deb ...\n",
            "Unpacking libgl1-mesa-glx:amd64 (17.2.8-0ubuntu0~17.10.1) ...\n",
            "Selecting previously unselected package libiec61883-0:amd64.\n",
            "Preparing to unpack .../098-libiec61883-0_1.2.0-2_amd64.deb ...\n",
            "Unpacking libiec61883-0:amd64 (1.2.0-2) ...\n",
            "Selecting previously unselected package libjack-jackd2-0:amd64.\n",
            "Preparing to unpack .../099-libjack-jackd2-0_1.9.10+20150825git1ed50c92~dfsg-5ubuntu1_amd64.deb ...\n",
            "Unpacking libjack-jackd2-0:amd64 (1.9.10+20150825git1ed50c92~dfsg-5ubuntu1) ...\n",
            "Selecting previously unselected package libopenal-data.\n",
            "Preparing to unpack .../100-libopenal-data_1%3a1.17.2-4_all.deb ...\n",
            "Unpacking libopenal-data (1:1.17.2-4) ...\n",
            "Selecting previously unselected package libsndio6.1:amd64.\n",
            "Preparing to unpack .../101-libsndio6.1_1.1.0-3_amd64.deb ...\n",
            "Unpacking libsndio6.1:amd64 (1.1.0-3) ...\n",
            "Selecting previously unselected package libopenal1:amd64.\n",
            "Preparing to unpack .../102-libopenal1_1%3a1.17.2-4_amd64.deb ...\n",
            "Unpacking libopenal1:amd64 (1:1.17.2-4) ...\n",
            "Selecting previously unselected package libasyncns0:amd64.\n",
            "Preparing to unpack .../103-libasyncns0_0.8-6_amd64.deb ...\n",
            "Unpacking libasyncns0:amd64 (0.8-6) ...\n",
            "Selecting previously unselected package libflac8:amd64.\n",
            "Preparing to unpack .../104-libflac8_1.3.2-1_amd64.deb ...\n",
            "Unpacking libflac8:amd64 (1.3.2-1) ...\n",
            "Selecting previously unselected package libsndfile1:amd64.\n",
            "Preparing to unpack .../105-libsndfile1_1.0.28-4_amd64.deb ...\n",
            "Unpacking libsndfile1:amd64 (1.0.28-4) ...\n",
            "Selecting previously unselected package libwrap0:amd64.\n",
            "Preparing to unpack .../106-libwrap0_7.6.q-26_amd64.deb ...\n",
            "Unpacking libwrap0:amd64 (7.6.q-26) ...\n",
            "Selecting previously unselected package libpulse0:amd64.\n",
            "Preparing to unpack .../107-libpulse0_1%3a10.0-2ubuntu3.1_amd64.deb ...\n",
            "Unpacking libpulse0:amd64 (1:10.0-2ubuntu3.1) ...\n",
            "Selecting previously unselected package libwayland-client0:amd64.\n",
            "Preparing to unpack .../108-libwayland-client0_1.14.0-1ubuntu0.1_amd64.deb ...\n",
            "Unpacking libwayland-client0:amd64 (1.14.0-1ubuntu0.1) ...\n",
            "Selecting previously unselected package libwayland-cursor0:amd64.\n",
            "Preparing to unpack .../109-libwayland-cursor0_1.14.0-1ubuntu0.1_amd64.deb ...\n",
            "Unpacking libwayland-cursor0:amd64 (1.14.0-1ubuntu0.1) ...\n",
            "Selecting previously unselected package libwayland-server0:amd64.\n",
            "Preparing to unpack .../110-libwayland-server0_1.14.0-1ubuntu0.1_amd64.deb ...\n",
            "Unpacking libwayland-server0:amd64 (1.14.0-1ubuntu0.1) ...\n",
            "Selecting previously unselected package libgbm1:amd64.\n",
            "Preparing to unpack .../111-libgbm1_17.2.8-0ubuntu0~17.10.1_amd64.deb ...\n",
            "Unpacking libgbm1:amd64 (17.2.8-0ubuntu0~17.10.1) ...\n",
            "Selecting previously unselected package libboost-system1.62.0:amd64.\n",
            "Preparing to unpack .../112-libboost-system1.62.0_1.62.0+dfsg-4build3_amd64.deb ...\n",
            "Unpacking libboost-system1.62.0:amd64 (1.62.0+dfsg-4build3) ...\n",
            "Selecting previously unselected package libcapnp-0.5.3:amd64.\n",
            "Preparing to unpack .../113-libcapnp-0.5.3_0.5.3-2ubuntu2_amd64.deb ...\n",
            "Unpacking libcapnp-0.5.3:amd64 (0.5.3-2ubuntu2) ...\n"
          ],
          "name": "stdout"
        },
        {
          "output_type": "stream",
          "text": [
            "Selecting previously unselected package libboost-filesystem1.62.0:amd64.\r\n",
            "Preparing to unpack .../114-libboost-filesystem1.62.0_1.62.0+dfsg-4build3_amd64.deb ...\n",
            "Unpacking libboost-filesystem1.62.0:amd64 (1.62.0+dfsg-4build3) ...\n",
            "Selecting previously unselected package libmircore1:amd64.\n",
            "Preparing to unpack .../115-libmircore1_0.28.0+17.10.20171011.1-0ubuntu1_amd64.deb ...\n",
            "Unpacking libmircore1:amd64 (0.28.0+17.10.20171011.1-0ubuntu1) ...\n",
            "Selecting previously unselected package libmircommon7:amd64.\n",
            "Preparing to unpack .../116-libmircommon7_0.28.0+17.10.20171011.1-0ubuntu1_amd64.deb ...\n",
            "Unpacking libmircommon7:amd64 (0.28.0+17.10.20171011.1-0ubuntu1) ...\n",
            "Selecting previously unselected package libprotobuf-lite10:amd64.\n",
            "Preparing to unpack .../117-libprotobuf-lite10_3.0.0-9ubuntu5_amd64.deb ...\n",
            "Unpacking libprotobuf-lite10:amd64 (3.0.0-9ubuntu5) ...\n",
            "Selecting previously unselected package libmirprotobuf3:amd64.\n",
            "Preparing to unpack .../118-libmirprotobuf3_0.28.0+17.10.20171011.1-0ubuntu1_amd64.deb ...\n",
            "Unpacking libmirprotobuf3:amd64 (0.28.0+17.10.20171011.1-0ubuntu1) ...\n",
            "Selecting previously unselected package libxkbcommon0:amd64.\n",
            "Preparing to unpack .../119-libxkbcommon0_0.7.1-2_amd64.deb ...\n",
            "Unpacking libxkbcommon0:amd64 (0.7.1-2) ...\n",
            "Selecting previously unselected package libmirclient9:amd64.\n",
            "Preparing to unpack .../120-libmirclient9_0.28.0+17.10.20171011.1-0ubuntu1_amd64.deb ...\n",
            "Unpacking libmirclient9:amd64 (0.28.0+17.10.20171011.1-0ubuntu1) ...\n",
            "Selecting previously unselected package libxcb-xfixes0:amd64.\n",
            "Preparing to unpack .../121-libxcb-xfixes0_1.12-1ubuntu1_amd64.deb ...\n",
            "Unpacking libxcb-xfixes0:amd64 (1.12-1ubuntu1) ...\n",
            "Selecting previously unselected package libegl1-mesa:amd64.\n",
            "Preparing to unpack .../122-libegl1-mesa_17.2.8-0ubuntu0~17.10.1_amd64.deb ...\n",
            "Unpacking libegl1-mesa:amd64 (17.2.8-0ubuntu0~17.10.1) ...\n",
            "Selecting previously unselected package libwayland-egl1-mesa:amd64.\n",
            "Preparing to unpack .../123-libwayland-egl1-mesa_17.2.8-0ubuntu0~17.10.1_amd64.deb ...\n",
            "Unpacking libwayland-egl1-mesa:amd64 (17.2.8-0ubuntu0~17.10.1) ...\n",
            "Selecting previously unselected package libxcursor1:amd64.\n",
            "Preparing to unpack .../124-libxcursor1_1%3a1.1.14-3ubuntu0.1_amd64.deb ...\n",
            "Unpacking libxcursor1:amd64 (1:1.1.14-3ubuntu0.1) ...\n",
            "Selecting previously unselected package libxi6:amd64.\n",
            "Preparing to unpack .../125-libxi6_2%3a1.7.9-1_amd64.deb ...\n",
            "Unpacking libxi6:amd64 (2:1.7.9-1) ...\n",
            "Selecting previously unselected package libxrandr2:amd64.\n",
            "Preparing to unpack .../126-libxrandr2_2%3a1.5.1-1_amd64.deb ...\n",
            "Unpacking libxrandr2:amd64 (2:1.5.1-1) ...\n",
            "Selecting previously unselected package libsdl2-2.0-0:amd64.\n",
            "Preparing to unpack .../127-libsdl2-2.0-0_2.0.6+dfsg1-3ubuntu1_amd64.deb ...\n",
            "Unpacking libsdl2-2.0-0:amd64 (2.0.6+dfsg1-3ubuntu1) ...\n",
            "Selecting previously unselected package libxcb-shape0:amd64.\n",
            "Preparing to unpack .../128-libxcb-shape0_1.12-1ubuntu1_amd64.deb ...\n",
            "Unpacking libxcb-shape0:amd64 (1.12-1ubuntu1) ...\n",
            "Selecting previously unselected package libxv1:amd64.\n",
            "Preparing to unpack .../129-libxv1_2%3a1.0.11-1_amd64.deb ...\n",
            "Unpacking libxv1:amd64 (2:1.0.11-1) ...\n",
            "Selecting previously unselected package libavdevice57:amd64.\n",
            "Preparing to unpack .../130-libavdevice57_7%3a3.3.4-2_amd64.deb ...\n",
            "Unpacking libavdevice57:amd64 (7:3.3.4-2) ...\n",
            "Selecting previously unselected package ffmpeg.\n",
            "Preparing to unpack .../131-ffmpeg_7%3a3.3.4-2_amd64.deb ...\n",
            "Unpacking ffmpeg (7:3.3.4-2) ...\n",
            "Selecting previously unselected package libaacs0:amd64.\n",
            "Preparing to unpack .../132-libaacs0_0.9.0-1_amd64.deb ...\n",
            "Unpacking libaacs0:amd64 (0.9.0-1) ...\n",
            "Selecting previously unselected package libbdplus0:amd64.\n",
            "Preparing to unpack .../133-libbdplus0_0.1.2-2_amd64.deb ...\n",
            "Unpacking libbdplus0:amd64 (0.1.2-2) ...\n",
            "Selecting previously unselected package mesa-va-drivers:amd64.\n",
            "Preparing to unpack .../134-mesa-va-drivers_17.2.8-0ubuntu0~17.10.1_amd64.deb ...\n",
            "Unpacking mesa-va-drivers:amd64 (17.2.8-0ubuntu0~17.10.1) ...\n",
            "Selecting previously unselected package mesa-vdpau-drivers:amd64.\n",
            "Preparing to unpack .../135-mesa-vdpau-drivers_17.2.8-0ubuntu0~17.10.1_amd64.deb ...\n",
            "Unpacking mesa-vdpau-drivers:amd64 (17.2.8-0ubuntu0~17.10.1) ...\n",
            "Selecting previously unselected package tcpd.\n",
            "Preparing to unpack .../136-tcpd_7.6.q-26_amd64.deb ...\n",
            "Unpacking tcpd (7.6.q-26) ...\n",
            "Selecting previously unselected package i965-va-driver:amd64.\n",
            "Preparing to unpack .../137-i965-va-driver_1.8.3-1ubuntu1_amd64.deb ...\n",
            "Unpacking i965-va-driver:amd64 (1.8.3-1ubuntu1) ...\n",
            "Selecting previously unselected package va-driver-all:amd64.\n",
            "Preparing to unpack .../138-va-driver-all_1.8.3-2_amd64.deb ...\n",
            "Unpacking va-driver-all:amd64 (1.8.3-2) ...\n",
            "Selecting previously unselected package vdpau-driver-all:amd64.\n",
            "Preparing to unpack .../139-vdpau-driver-all_1.1.1-3ubuntu1_amd64.deb ...\n",
            "Unpacking vdpau-driver-all:amd64 (1.1.1-3ubuntu1) ...\n",
            "Selecting previously unselected package libtxc-dxtn-s2tc:amd64.\n",
            "Preparing to unpack .../140-libtxc-dxtn-s2tc_1.0+git20151227-2_amd64.deb ...\n",
            "Unpacking libtxc-dxtn-s2tc:amd64 (1.0+git20151227-2) ...\n",
            "Setting up libxi6:amd64 (2:1.7.9-1) ...\n",
            "Setting up libxcb-present0:amd64 (1.12-1ubuntu1) ...\n",
            "Setting up libxinerama1:amd64 (2:1.1.3-1) ...\n"
          ],
          "name": "stdout"
        },
        {
          "output_type": "stream",
          "text": [
            "Setting up libxcb-dri2-0:amd64 (1.12-1ubuntu1) ...\n",
            "Setting up libxcb-dri3-0:amd64 (1.12-1ubuntu1) ...\n",
            "Setting up libxcb-glx0:amd64 (1.12-1ubuntu1) ...\n",
            "Setting up libtwolame0:amd64 (0.3.13-2) ...\n",
            "Setting up libraw1394-11:amd64 (2.1.2-1) ...\n",
            "Setting up libxcb-xfixes0:amd64 (1.12-1ubuntu1) ...\n",
            "Setting up libxcb-render0:amd64 (1.12-1ubuntu1) ...\n",
            "Setting up libopenjp2-7:amd64 (2.2.0-1) ...\n",
            "Setting up libasyncns0:amd64 (0.8-6) ...\n",
            "Setting up libcdio13:amd64 (0.83-4.2ubuntu1) ...\n",
            "Setting up libx264-148:amd64 (2:0.148.2795+gitaaa9aa8-1) ...\n",
            "Setting up libxdamage1:amd64 (1:1.1.4-3) ...\n",
            "Setting up libxfixes3:amd64 (1:5.0.3-1) ...\n",
            "Setting up libwavpack1:amd64 (5.1.0-2ubuntu0.3) ...\n",
            "Setting up libaacs0:amd64 (0.9.0-1) ...\n",
            "Setting up libnuma1:amd64 (2.0.11-2.1) ...\n",
            "Setting up libtbb2:amd64 (2017~U7-6) ...\n",
            "Setting up libelf1:amd64 (0.170-0.1) ...\n",
            "Setting up libcdio-cdda1:amd64 (0.83-4.2ubuntu1) ...\n",
            "Setting up libsoxr0:amd64 (0.1.2-2) ...\n",
            "Setting up libssh-gcrypt-4:amd64 (0.7.5-1) ...\n",
            "Setting up libasound2-data (1.1.3-5) ...\n",
            "Setting up libxshmfence1:amd64 (1.2-1) ...\n",
            "Setting up libwayland-client0:amd64 (1.14.0-1ubuntu0.1) ...\n",
            "Setting up xkb-data (2.19-1.1ubuntu1) ...\n",
            "Setting up libcapnp-0.5.3:amd64 (0.5.3-2ubuntu2) ...\n",
            "Setting up libbluray2:amd64 (1:1.0.1.deb1-2) ...\n",
            "Setting up libvdpau1:amd64 (1.1.1-3ubuntu1) ...\n",
            "Setting up libllvm5.0:amd64 (1:5.0-3) ...\n",
            "Setting up libshine3:amd64 (3.1.1-1) ...\n",
            "Setting up libtxc-dxtn-s2tc:amd64 (1.0+git20151227-2) ...\n",
            "update-alternatives: using /usr/lib/x86_64-linux-gnu/s2tc/libtxc_dxtn.so to provide /usr/lib/x86_64-linux-gnu/libtxc_dxtn.so (libtxc-dxtn-x86_64-linux-gnu) in auto mode\n",
            "Setting up libiec61883-0:amd64 (1.2.0-2) ...\n",
            "Setting up libglapi-mesa:amd64 (17.2.8-0ubuntu0~17.10.1) ...\n",
            "Setting up libspeex1:amd64 (1.2~rc1.2-1ubuntu1) ...\n",
            "Setting up libfftw3-double3:amd64 (3.3.6p2-1) ...\n",
            "Setting up libxvidcore4:amd64 (2:1.3.4-1) ...\n",
            "Setting up libvpx4:amd64 (1.6.1-3) ...\n",
            "Setting up libopus0:amd64 (1.1.2-1ubuntu1) ...\n",
            "Setting up libva1:amd64 (1.8.3-2) ...\n",
            "Setting up libasound2:amd64 (1.1.3-5) ...\n",
            "Setting up libopenal-data (1:1.17.2-4) ...\n",
            "Setting up libdrm-common (2.4.83-1) ...\n",
            "Setting up libgraphite2-3:amd64 (1.3.10-2) ...\n",
            "Setting up libbs2b0:amd64 (3.1.0+dfsg-2.2) ...\n",
            "Setting up libxcb-sync1:amd64 (1.12-1ubuntu1) ...\n",
            "Setting up libogg0:amd64 (1.3.2-1) ...\n",
            "Setting up libx11-xcb1:amd64 (2:1.6.4-3) ...\n",
            "Setting up libpixman-1-0:amd64 (0.34.0-1) ...\n",
            "Setting up libmp3lame0:amd64 (3.99.5+repack1-9build1) ...\n",
            "Setting up libxcursor1:amd64 (1:1.1.14-3ubuntu0.1) ...\n",
            "Setting up libusb-1.0-0:amd64 (2:1.0.21-2) ...\n",
            "Setting up libcrystalhd3:amd64 (1:0.0~git20110715.fdd2f19-12) ...\n",
            "Processing triggers for libc-bin (2.26-0ubuntu2.1) ...\n",
            "Setting up libapparmor1:amd64 (2.11.0-2ubuntu17.1) ...\n",
            "Setting up libsnappy1v5:amd64 (1.1.6-4) ...\n",
            "Setting up libavc1394-0:amd64 (0.5.4-4) ...\n",
            "Setting up libx265-130:amd64 (2.5-2) ...\n",
            "Setting up libzvbi-common (0.2.35-13) ...\n",
            "Setting up libfribidi0:amd64 (0.19.7-1) ...\n",
            "Setting up libxcb-shm0:amd64 (1.12-1ubuntu1) ...\n",
            "Setting up libxcb-shape0:amd64 (1.12-1ubuntu1) ...\n",
            "Setting up libpciaccess0:amd64 (0.13.4-1ubuntu1) ...\n",
            "Setting up libxv1:amd64 (2:1.0.11-1) ...\n",
            "Setting up libsensors4:amd64 (1:3.4.0-4) ...\n",
            "Setting up libxkbcommon0:amd64 (0.7.1-2) ...\n",
            "Setting up libcdio-paranoia1:amd64 (0.83-4.2ubuntu1) ...\n",
            "Setting up libgme0:amd64 (0.6.1-1) ...\n",
            "Setting up libbdplus0:amd64 (0.1.2-2) ...\n",
            "Setting up libxxf86vm1:amd64 (1:1.1.4-1) ...\n",
            "Setting up libzvbi0:amd64 (0.2.35-13) ...\n",
            "Setting up libsamplerate0:amd64 (0.1.9-1) ...\n",
            "Setting up libsndio6.1:amd64 (1.1.0-3) ...\n",
            "Setting up libvorbis0a:amd64 (1.3.5-4ubuntu0.2) ...\n",
            "Setting up libprotobuf-lite10:amd64 (3.0.0-9ubuntu5) ...\n",
            "Setting up libmpg123-0:amd64 (1.25.6-1) ...\n",
            "Setting up libslang2:amd64 (2.3.1-5ubuntu1) ...\n",
            "Setting up libwayland-cursor0:amd64 (1.14.0-1ubuntu0.1) ...\n",
            "Setting up libgsm1:amd64 (1.0.13-4) ...\n",
            "Setting up libxrandr2:amd64 (2:1.5.1-1) ...\n",
            "Setting up libdbus-1-3:amd64 (1.10.22-1ubuntu1) ...\n",
            "Setting up libboost-system1.62.0:amd64 (1.62.0+dfsg-4build3) ...\n",
            "Setting up libwrap0:amd64 (7.6.q-26) ...\n",
            "Setting up libwayland-server0:amd64 (1.14.0-1ubuntu0.1) ...\n",
            "Setting up libwebp6:amd64 (0.6.0-3) ...\n",
            "Setting up libvorbisfile3:amd64 (1.3.5-4ubuntu0.2) ...\n",
            "Setting up libcairo2:amd64 (1.14.10-1ubuntu1) ...\n",
            "Setting up libopencv-core3.1:amd64 (3.1.0+dfsg1-1~exp1ubuntu3) ...\n",
            "Setting up libopenmpt0:amd64 (0.2.8760~beta27-1) ...\n",
            "Setting up libmirprotobuf3:amd64 (0.28.0+17.10.20171011.1-0ubuntu1) ...\n"
          ],
          "name": "stdout"
        },
        {
          "output_type": "stream",
          "text": [
            "Setting up libflite1:amd64 (2.0.0-release-4) ...\r\n",
            "Setting up libflac8:amd64 (1.3.2-1) ...\n",
            "Setting up libharfbuzz0b:amd64 (1.4.2-1) ...\n",
            "Setting up libdc1394-22:amd64 (2.2.5-1) ...\n",
            "Setting up tcpd (7.6.q-26) ...\n",
            "Setting up libdrm2:amd64 (2.4.83-1) ...\n",
            "Setting up libdrm-intel1:amd64 (2.4.83-1) ...\n",
            "Setting up libwebpmux3:amd64 (0.6.0-3) ...\n",
            "Setting up libopencv-imgproc3.1:amd64 (3.1.0+dfsg1-1~exp1ubuntu3) ...\n",
            "Setting up libboost-filesystem1.62.0:amd64 (1.62.0+dfsg-4build3) ...\n",
            "Setting up libjack-jackd2-0:amd64 (1.9.10+20150825git1ed50c92~dfsg-5ubuntu1) ...\n",
            "Setting up libopenal1:amd64 (1:1.17.2-4) ...\n",
            "Setting up libva-drm1:amd64 (1.8.3-2) ...\n",
            "Setting up libdrm-radeon1:amd64 (2.4.83-1) ...\n",
            "Setting up librubberband2v5:amd64 (1.8.1-6ubuntu2) ...\n",
            "Setting up dbus (1.10.22-1ubuntu1) ...\n",
            "Setting up libvorbisenc2:amd64 (1.3.5-4ubuntu0.2) ...\n",
            "Setting up libdrm-nouveau2:amd64 (2.4.83-1) ...\n",
            "Setting up libcaca0:amd64 (0.99.beta19-2build2~gcc5.2) ...\n",
            "Setting up libmircore1:amd64 (0.28.0+17.10.20171011.1-0ubuntu1) ...\n",
            "Setting up libtheora0:amd64 (1.1.1+dfsg.1-14) ...\n",
            "Setting up libva-x11-1:amd64 (1.8.3-2) ...\n",
            "Setting up libavutil55:amd64 (7:3.3.4-2) ...\n",
            "Setting up libdrm-amdgpu1:amd64 (2.4.83-1) ...\n",
            "Setting up mesa-vdpau-drivers:amd64 (17.2.8-0ubuntu0~17.10.1) ...\n",
            "Setting up libgbm1:amd64 (17.2.8-0ubuntu0~17.10.1) ...\n",
            "Setting up libass9:amd64 (1:0.13.7-2) ...\n",
            "Setting up libgl1-mesa-dri:amd64 (17.2.8-0ubuntu0~17.10.1) ...\n",
            "Setting up libswresample2:amd64 (7:3.3.4-2) ...\n",
            "Setting up libsndfile1:amd64 (1.0.28-4) ...\n",
            "Setting up i965-va-driver:amd64 (1.8.3-1ubuntu1) ...\n",
            "Setting up libgl1-mesa-glx:amd64 (17.2.8-0ubuntu0~17.10.1) ...\n",
            "update-alternatives: using /usr/lib/x86_64-linux-gnu/mesa/ld.so.conf to provide /etc/ld.so.conf.d/x86_64-linux-gnu_GL.conf (x86_64-linux-gnu_gl_conf) in auto mode\n",
            "Setting up libswscale4:amd64 (7:3.3.4-2) ...\n",
            "Setting up mesa-va-drivers:amd64 (17.2.8-0ubuntu0~17.10.1) ...\n",
            "Setting up libpostproc54:amd64 (7:3.3.4-2) ...\n",
            "Setting up libmircommon7:amd64 (0.28.0+17.10.20171011.1-0ubuntu1) ...\n",
            "Setting up vdpau-driver-all:amd64 (1.1.1-3ubuntu1) ...\n",
            "Setting up libavresample3:amd64 (7:3.3.4-2) ...\n",
            "Setting up libavcodec57:amd64 (7:3.3.4-2) ...\n",
            "Setting up libmirclient9:amd64 (0.28.0+17.10.20171011.1-0ubuntu1) ...\n",
            "Setting up libpulse0:amd64 (1:10.0-2ubuntu3.1) ...\n",
            "Setting up va-driver-all:amd64 (1.8.3-2) ...\n",
            "Setting up libegl1-mesa:amd64 (17.2.8-0ubuntu0~17.10.1) ...\n",
            "update-alternatives: using /usr/lib/x86_64-linux-gnu/mesa-egl/ld.so.conf to provide /etc/ld.so.conf.d/x86_64-linux-gnu_EGL.conf (x86_64-linux-gnu_egl_conf) in auto mode\n",
            "Setting up libchromaprint1:amd64 (1.4.2-1) ...\n",
            "Setting up libwayland-egl1-mesa:amd64 (17.2.8-0ubuntu0~17.10.1) ...\n",
            "Setting up libavformat57:amd64 (7:3.3.4-2) ...\n",
            "Setting up libavfilter6:amd64 (7:3.3.4-2) ...\n",
            "Setting up libsdl2-2.0-0:amd64 (2.0.6+dfsg1-3ubuntu1) ...\n",
            "Setting up libavdevice57:amd64 (7:3.3.4-2) ...\n",
            "Setting up ffmpeg (7:3.3.4-2) ...\n",
            "Processing triggers for libc-bin (2.26-0ubuntu2.1) ...\n"
          ],
          "name": "stdout"
        }
      ]
    },
    {
      "metadata": {
        "id": "WrcMUs1Q8Psv",
        "colab_type": "code",
        "colab": {
          "autoexec": {
            "startup": false,
            "wait_interval": 0
          },
          "base_uri": "https://localhost:8080/",
          "height": 588
        },
        "outputId": "2eeb5347-209b-4f19-dac2-529c0405bea6",
        "executionInfo": {
          "status": "ok",
          "timestamp": 1529779218402,
          "user_tz": -330,
          "elapsed": 3561,
          "user": {
            "displayName": "Ankita Bhagat",
            "photoUrl": "//lh5.googleusercontent.com/-hBbQJG3EmsY/AAAAAAAAAAI/AAAAAAAAEMc/8aZlpsJaxOI/s50-c-k-no/photo.jpg",
            "userId": "106932527741563015055"
          }
        }
      },
      "cell_type": "code",
      "source": [
        "cat *.jpg | ffmpeg -f image2pipe -c:v mjpeg -i - output.mpg"
      ],
      "execution_count": 11,
      "outputs": [
        {
          "output_type": "stream",
          "text": [
            "ffmpeg version 3.3.4-2 Copyright (c) 2000-2017 the FFmpeg developers\r\n",
            "  built with gcc 7 (Ubuntu 7.2.0-8ubuntu2)\r\n",
            "  configuration: --prefix=/usr --extra-version=2 --toolchain=hardened --libdir=/usr/lib/x86_64-linux-gnu --incdir=/usr/include/x86_64-linux-gnu --enable-gpl --disable-stripping --enable-avresample --enable-avisynth --enable-gnutls --enable-ladspa --enable-libass --enable-libbluray --enable-libbs2b --enable-libcaca --enable-libcdio --enable-libflite --enable-libfontconfig --enable-libfreetype --enable-libfribidi --enable-libgme --enable-libgsm --enable-libmp3lame --enable-libopenjpeg --enable-libopenmpt --enable-libopus --enable-libpulse --enable-librubberband --enable-libshine --enable-libsnappy --enable-libsoxr --enable-libspeex --enable-libssh --enable-libtheora --enable-libtwolame --enable-libvorbis --enable-libvpx --enable-libwavpack --enable-libwebp --enable-libx265 --enable-libxvid --enable-libzmq --enable-libzvbi --enable-omx --enable-openal --enable-opengl --enable-sdl2 --enable-libdc1394 --enable-libiec61883 --enable-chromaprint --enable-frei0r --enable-libopencv --enable-libx264 --enable-shared\r\n",
            "  libavutil      55. 58.100 / 55. 58.100\r\n",
            "  libavcodec     57. 89.100 / 57. 89.100\r\n",
            "  libavformat    57. 71.100 / 57. 71.100\r\n",
            "  libavdevice    57.  6.100 / 57.  6.100\r\n",
            "  libavfilter     6. 82.100 /  6. 82.100\r\n",
            "  libavresample   3.  5.  0 /  3.  5.  0\r\n",
            "  libswscale      4.  6.100 /  4.  6.100\r\n",
            "  libswresample   2.  7.100 /  2.  7.100\r\n",
            "  libpostproc    54.  5.100 / 54.  5.100\r\n",
            "Input #0, image2pipe, from 'pipe:':\r\n",
            "  Duration: N/A, bitrate: N/A\r\n",
            "    Stream #0:0: Video: mjpeg, yuvj420p(pc, bt470bg/unknown/unknown), 224x224 [SAR 1:1 DAR 1:1], 25 fps, 25 tbr, 25 tbn, 25 tbc\r\n",
            "Stream mapping:\r\n",
            "  Stream #0:0 -> #0:0 (mjpeg (native) -> mpeg1video (native))\r\n",
            "\u001b[1;34m[swscaler @ 0x5555bb07c000] \u001b[0m\u001b[0;33mdeprecated pixel format used, make sure you did set range correctly\r\n",
            "\u001b[0m\u001b[1;35m[mpeg @ 0x5555baccc600] \u001b[0m\u001b[0;33mVBV buffer size not set, using default size of 130KB\r\n",
            "If you want the mpeg file to be compliant to some specification\r\n",
            "Like DVD, VCD or others, make sure you set the correct buffer size\r\n",
            "\u001b[0mOutput #0, mpeg, to 'output.mpg':\r\n",
            "  Metadata:\r\n",
            "    encoder         : Lavf57.71.100\r\n",
            "    Stream #0:0: Video: mpeg1video, yuv420p, 224x224 [SAR 1:1 DAR 1:1], q=2-31, 200 kb/s, 25 fps, 90k tbn, 25 tbc\r\n",
            "    Metadata:\r\n",
            "      encoder         : Lavc57.89.100 mpeg1video\r\n",
            "    Side data:\r\n",
            "      cpb: bitrate max/min/avg: 0/0/200000 buffer size: 0 vbv_delay: -1\n",
            "frame=  482 fps=0.0 q=12.9 Lsize=     628kB time=00:00:19.20 bitrate= 267.9kbits/s speed=34.1x    \n",
            "video:619kB audio:0kB subtitle:0kB other streams:0kB global headers:0kB muxing overhead: 1.459720%\n"
          ],
          "name": "stdout"
        }
      ]
    },
    {
      "metadata": {
        "id": "pHaZJJF08n1H",
        "colab_type": "code",
        "colab": {
          "autoexec": {
            "startup": false,
            "wait_interval": 0
          },
          "base_uri": "https://localhost:8080/",
          "height": 1759
        },
        "outputId": "044aa3d1-fdc2-4e7c-a62c-98bc4881862b",
        "executionInfo": {
          "status": "ok",
          "timestamp": 1529779228724,
          "user_tz": -330,
          "elapsed": 2188,
          "user": {
            "displayName": "Ankita Bhagat",
            "photoUrl": "//lh5.googleusercontent.com/-hBbQJG3EmsY/AAAAAAAAAAI/AAAAAAAAEMc/8aZlpsJaxOI/s50-c-k-no/photo.jpg",
            "userId": "106932527741563015055"
          }
        }
      },
      "cell_type": "code",
      "source": [
        "ls"
      ],
      "execution_count": 12,
      "outputs": [
        {
          "output_type": "stream",
          "text": [
            "Animals_out.avi  Image186.jpg  Image274.jpg  Image362.jpg  Image450.jpg\r\n",
            "Animals_out.mp4  Image187.jpg  Image275.jpg  Image363.jpg  Image451.jpg\r\n",
            "\u001b[0m\u001b[01;34mdatalab\u001b[0m/         Image188.jpg  Image276.jpg  Image364.jpg  Image452.jpg\r\n",
            "Image0.jpg       Image189.jpg  Image277.jpg  Image365.jpg  Image453.jpg\r\n",
            "Image100.jpg     Image18.jpg   Image278.jpg  Image366.jpg  Image454.jpg\r\n",
            "Image101.jpg     Image190.jpg  Image279.jpg  Image367.jpg  Image455.jpg\r\n",
            "Image102.jpg     Image191.jpg  Image27.jpg   Image368.jpg  Image456.jpg\r\n",
            "Image103.jpg     Image192.jpg  Image280.jpg  Image369.jpg  Image457.jpg\r\n",
            "Image104.jpg     Image193.jpg  Image281.jpg  Image36.jpg   Image458.jpg\r\n",
            "Image105.jpg     Image194.jpg  Image282.jpg  Image370.jpg  Image459.jpg\r\n",
            "Image106.jpg     Image195.jpg  Image283.jpg  Image371.jpg  Image45.jpg\r\n",
            "Image107.jpg     Image196.jpg  Image284.jpg  Image372.jpg  Image460.jpg\r\n",
            "Image108.jpg     Image197.jpg  Image285.jpg  Image373.jpg  Image461.jpg\r\n",
            "Image109.jpg     Image198.jpg  Image286.jpg  Image374.jpg  Image462.jpg\r\n",
            "Image10.jpg      Image199.jpg  Image287.jpg  Image375.jpg  Image463.jpg\r\n",
            "Image110.jpg     Image19.jpg   Image288.jpg  Image376.jpg  Image464.jpg\r\n",
            "Image111.jpg     Image1.jpg    Image289.jpg  Image377.jpg  Image465.jpg\r\n",
            "Image112.jpg     Image200.jpg  Image28.jpg   Image378.jpg  Image466.jpg\r\n",
            "Image113.jpg     Image201.jpg  Image290.jpg  Image379.jpg  Image467.jpg\r\n",
            "Image114.jpg     Image202.jpg  Image291.jpg  Image37.jpg   Image468.jpg\r\n",
            "Image115.jpg     Image203.jpg  Image292.jpg  Image380.jpg  Image469.jpg\r\n",
            "Image116.jpg     Image204.jpg  Image293.jpg  Image381.jpg  Image46.jpg\r\n",
            "Image117.jpg     Image205.jpg  Image294.jpg  Image382.jpg  Image470.jpg\r\n",
            "Image118.jpg     Image206.jpg  Image295.jpg  Image383.jpg  Image471.jpg\r\n",
            "Image119.jpg     Image207.jpg  Image296.jpg  Image384.jpg  Image472.jpg\r\n",
            "Image11.jpg      Image208.jpg  Image297.jpg  Image385.jpg  Image473.jpg\r\n",
            "Image120.jpg     Image209.jpg  Image298.jpg  Image386.jpg  Image474.jpg\r\n",
            "Image121.jpg     Image20.jpg   Image299.jpg  Image387.jpg  Image475.jpg\r\n",
            "Image122.jpg     Image210.jpg  Image29.jpg   Image388.jpg  Image476.jpg\r\n",
            "Image123.jpg     Image211.jpg  Image2.jpg    Image389.jpg  Image477.jpg\r\n",
            "Image124.jpg     Image212.jpg  Image300.jpg  Image38.jpg   Image478.jpg\r\n",
            "Image125.jpg     Image213.jpg  Image301.jpg  Image390.jpg  Image479.jpg\r\n",
            "Image126.jpg     Image214.jpg  Image302.jpg  Image391.jpg  Image47.jpg\r\n",
            "Image127.jpg     Image215.jpg  Image303.jpg  Image392.jpg  Image480.jpg\r\n",
            "Image128.jpg     Image216.jpg  Image304.jpg  Image393.jpg  Image48.jpg\r\n",
            "Image129.jpg     Image217.jpg  Image305.jpg  Image394.jpg  Image49.jpg\r\n",
            "Image12.jpg      Image218.jpg  Image306.jpg  Image395.jpg  Image4.jpg\r\n",
            "Image130.jpg     Image219.jpg  Image307.jpg  Image396.jpg  Image50.jpg\r\n",
            "Image131.jpg     Image21.jpg   Image308.jpg  Image397.jpg  Image51.jpg\r\n",
            "Image132.jpg     Image220.jpg  Image309.jpg  Image398.jpg  Image52.jpg\r\n",
            "Image133.jpg     Image221.jpg  Image30.jpg   Image399.jpg  Image53.jpg\r\n",
            "Image134.jpg     Image222.jpg  Image310.jpg  Image39.jpg   Image54.jpg\r\n",
            "Image135.jpg     Image223.jpg  Image311.jpg  Image3.jpg    Image55.jpg\r\n",
            "Image136.jpg     Image224.jpg  Image312.jpg  Image400.jpg  Image56.jpg\r\n",
            "Image137.jpg     Image225.jpg  Image313.jpg  Image401.jpg  Image57.jpg\r\n",
            "Image138.jpg     Image226.jpg  Image314.jpg  Image402.jpg  Image58.jpg\r\n",
            "Image139.jpg     Image227.jpg  Image315.jpg  Image403.jpg  Image59.jpg\r\n",
            "Image13.jpg      Image228.jpg  Image316.jpg  Image404.jpg  Image5.jpg\r\n",
            "Image140.jpg     Image229.jpg  Image317.jpg  Image405.jpg  Image60.jpg\r\n",
            "Image141.jpg     Image22.jpg   Image318.jpg  Image406.jpg  Image61.jpg\r\n",
            "Image142.jpg     Image230.jpg  Image319.jpg  Image407.jpg  Image62.jpg\r\n",
            "Image143.jpg     Image231.jpg  Image31.jpg   Image408.jpg  Image63.jpg\r\n",
            "Image144.jpg     Image232.jpg  Image320.jpg  Image409.jpg  Image64.jpg\r\n",
            "Image145.jpg     Image233.jpg  Image321.jpg  Image40.jpg   Image65.jpg\r\n",
            "Image146.jpg     Image234.jpg  Image322.jpg  Image410.jpg  Image66.jpg\r\n",
            "Image147.jpg     Image235.jpg  Image323.jpg  Image411.jpg  Image67.jpg\r\n",
            "Image148.jpg     Image236.jpg  Image324.jpg  Image412.jpg  Image68.jpg\r\n",
            "Image149.jpg     Image237.jpg  Image325.jpg  Image413.jpg  Image69.jpg\r\n",
            "Image14.jpg      Image238.jpg  Image326.jpg  Image414.jpg  Image6.jpg\r\n",
            "Image150.jpg     Image239.jpg  Image327.jpg  Image415.jpg  Image70.jpg\r\n",
            "Image151.jpg     Image23.jpg   Image328.jpg  Image416.jpg  Image71.jpg\r\n",
            "Image152.jpg     Image240.jpg  Image329.jpg  Image417.jpg  Image72.jpg\r\n",
            "Image153.jpg     Image241.jpg  Image32.jpg   Image418.jpg  Image73.jpg\r\n",
            "Image154.jpg     Image242.jpg  Image330.jpg  Image419.jpg  Image74.jpg\r\n",
            "Image155.jpg     Image243.jpg  Image331.jpg  Image41.jpg   Image75.jpg\r\n",
            "Image156.jpg     Image244.jpg  Image332.jpg  Image420.jpg  Image76.jpg\r\n",
            "Image157.jpg     Image245.jpg  Image333.jpg  Image421.jpg  Image77.jpg\r\n",
            "Image158.jpg     Image246.jpg  Image334.jpg  Image422.jpg  Image78.jpg\r\n",
            "Image159.jpg     Image247.jpg  Image335.jpg  Image423.jpg  Image79.jpg\r\n",
            "Image15.jpg      Image248.jpg  Image336.jpg  Image424.jpg  Image7.jpg\r\n",
            "Image160.jpg     Image249.jpg  Image337.jpg  Image425.jpg  Image80.jpg\r\n",
            "Image161.jpg     Image24.jpg   Image338.jpg  Image426.jpg  Image81.jpg\r\n",
            "Image162.jpg     Image250.jpg  Image339.jpg  Image427.jpg  Image82.jpg\r\n",
            "Image163.jpg     Image251.jpg  Image33.jpg   Image428.jpg  Image83.jpg\r\n",
            "Image164.jpg     Image252.jpg  Image340.jpg  Image429.jpg  Image84.jpg\r\n",
            "Image165.jpg     Image253.jpg  Image341.jpg  Image42.jpg   Image85.jpg\r\n",
            "Image166.jpg     Image254.jpg  Image342.jpg  Image430.jpg  Image86.jpg\r\n",
            "Image167.jpg     Image255.jpg  Image343.jpg  Image431.jpg  Image87.jpg\r\n",
            "Image168.jpg     Image256.jpg  Image344.jpg  Image432.jpg  Image88.jpg\r\n",
            "Image169.jpg     Image257.jpg  Image345.jpg  Image433.jpg  Image89.jpg\r\n",
            "Image16.jpg      Image258.jpg  Image346.jpg  Image434.jpg  Image8.jpg\r\n",
            "Image170.jpg     Image259.jpg  Image347.jpg  Image435.jpg  Image90.jpg\r\n",
            "Image171.jpg     Image25.jpg   Image348.jpg  Image436.jpg  Image91.jpg\r\n",
            "Image172.jpg     Image260.jpg  Image349.jpg  Image437.jpg  Image92.jpg\r\n",
            "Image173.jpg     Image261.jpg  Image34.jpg   Image438.jpg  Image93.jpg\r\n",
            "Image174.jpg     Image262.jpg  Image350.jpg  Image439.jpg  Image94.jpg\r\n",
            "Image175.jpg     Image263.jpg  Image351.jpg  Image43.jpg   Image95.jpg\r\n",
            "Image176.jpg     Image264.jpg  Image352.jpg  Image440.jpg  Image96.jpg\r\n",
            "Image177.jpg     Image265.jpg  Image353.jpg  Image441.jpg  Image97.jpg\r\n",
            "Image178.jpg     Image266.jpg  Image354.jpg  Image442.jpg  Image98.jpg\r\n",
            "Image179.jpg     Image267.jpg  Image355.jpg  Image443.jpg  Image99.jpg\r\n",
            "Image17.jpg      Image268.jpg  Image356.jpg  Image444.jpg  Image9.jpg\r\n",
            "Image180.jpg     Image269.jpg  Image357.jpg  Image445.jpg  image.jpg\r\n",
            "Image181.jpg     Image26.jpg   Image358.jpg  Image446.jpg  Input.mp4\r\n",
            "Image182.jpg     Image270.jpg  Image359.jpg  Image447.jpg  output.mpg\r\n",
            "Image183.jpg     Image271.jpg  Image35.jpg   Image448.jpg\r\n",
            "Image184.jpg     Image272.jpg  Image360.jpg  Image449.jpg\r\n",
            "Image185.jpg     Image273.jpg  Image361.jpg  Image44.jpg\r\n"
          ],
          "name": "stdout"
        }
      ]
    },
    {
      "metadata": {
        "id": "3d230oka8wP7",
        "colab_type": "code",
        "colab": {
          "autoexec": {
            "startup": false,
            "wait_interval": 0
          }
        }
      },
      "cell_type": "code",
      "source": [
        "files.download('output.mpg')"
      ],
      "execution_count": 0,
      "outputs": []
    },
    {
      "metadata": {
        "id": "4eLdZhpIAj-z",
        "colab_type": "code",
        "colab": {
          "autoexec": {
            "startup": false,
            "wait_interval": 0
          },
          "base_uri": "https://localhost:8080/",
          "height": 327
        },
        "outputId": "8ac299d3-9cfa-47e6-dd09-09fbf946f999",
        "executionInfo": {
          "status": "error",
          "timestamp": 1529701359669,
          "user_tz": -330,
          "elapsed": 2537,
          "user": {
            "displayName": "premila bhagat",
            "photoUrl": "https://lh3.googleusercontent.com/a/default-user=s128",
            "userId": "108134130403334238154"
          }
        }
      },
      "cell_type": "code",
      "source": [
        "from google.colab import files\n",
        "files.download('gradcam.jpg')\n",
        "files.download('guided_gradcam.jpg')"
      ],
      "execution_count": 0,
      "outputs": [
        {
          "output_type": "error",
          "ename": "FileNotFoundError",
          "evalue": "ignored",
          "traceback": [
            "\u001b[0;31m---------------------------------------------------------------------------\u001b[0m",
            "\u001b[0;31mFileNotFoundError\u001b[0m                         Traceback (most recent call last)",
            "\u001b[0;32m<ipython-input-49-eb06e0a92b72>\u001b[0m in \u001b[0;36m<module>\u001b[0;34m()\u001b[0m\n\u001b[1;32m      1\u001b[0m \u001b[0;32mfrom\u001b[0m \u001b[0mgoogle\u001b[0m\u001b[0;34m.\u001b[0m\u001b[0mcolab\u001b[0m \u001b[0;32mimport\u001b[0m \u001b[0mfiles\u001b[0m\u001b[0;34m\u001b[0m\u001b[0m\n\u001b[1;32m      2\u001b[0m \u001b[0mfiles\u001b[0m\u001b[0;34m.\u001b[0m\u001b[0mdownload\u001b[0m\u001b[0;34m(\u001b[0m\u001b[0;34m'gradcam.jpg'\u001b[0m\u001b[0;34m)\u001b[0m\u001b[0;34m\u001b[0m\u001b[0m\n\u001b[0;32m----> 3\u001b[0;31m \u001b[0mfiles\u001b[0m\u001b[0;34m.\u001b[0m\u001b[0mdownload\u001b[0m\u001b[0;34m(\u001b[0m\u001b[0;34m'guided_gradcam.jpg'\u001b[0m\u001b[0;34m)\u001b[0m\u001b[0;34m\u001b[0m\u001b[0m\n\u001b[0m",
            "\u001b[0;32m/usr/local/lib/python3.6/dist-packages/google/colab/files.py\u001b[0m in \u001b[0;36mdownload\u001b[0;34m(filename)\u001b[0m\n\u001b[1;32m    140\u001b[0m       \u001b[0;32mraise\u001b[0m \u001b[0mOSError\u001b[0m\u001b[0;34m(\u001b[0m\u001b[0mmsg\u001b[0m\u001b[0;34m)\u001b[0m\u001b[0;34m\u001b[0m\u001b[0m\n\u001b[1;32m    141\u001b[0m     \u001b[0;32melse\u001b[0m\u001b[0;34m:\u001b[0m\u001b[0;34m\u001b[0m\u001b[0m\n\u001b[0;32m--> 142\u001b[0;31m       \u001b[0;32mraise\u001b[0m \u001b[0mFileNotFoundError\u001b[0m\u001b[0;34m(\u001b[0m\u001b[0mmsg\u001b[0m\u001b[0;34m)\u001b[0m  \u001b[0;31m# pylint: disable=undefined-variable\u001b[0m\u001b[0;34m\u001b[0m\u001b[0m\n\u001b[0m\u001b[1;32m    143\u001b[0m \u001b[0;34m\u001b[0m\u001b[0m\n\u001b[1;32m    144\u001b[0m   \u001b[0mstarted\u001b[0m \u001b[0;34m=\u001b[0m \u001b[0mthreading\u001b[0m\u001b[0;34m.\u001b[0m\u001b[0mEvent\u001b[0m\u001b[0;34m(\u001b[0m\u001b[0;34m)\u001b[0m\u001b[0;34m\u001b[0m\u001b[0m\n",
            "\u001b[0;31mFileNotFoundError\u001b[0m: Cannot find file: guided_gradcam.jpg"
          ]
        }
      ]
    },
    {
      "metadata": {
        "id": "cWpGWjhrH5uS",
        "colab_type": "code",
        "colab": {
          "autoexec": {
            "startup": false,
            "wait_interval": 0
          }
        }
      },
      "cell_type": "code",
      "source": [
        "from google.colab import files\n",
        "files.download('image.jpg')"
      ],
      "execution_count": 0,
      "outputs": []
    },
    {
      "metadata": {
        "id": "ptT79N9MiX5P",
        "colab_type": "code",
        "colab": {
          "autoexec": {
            "startup": false,
            "wait_interval": 0
          },
          "base_uri": "https://localhost:8080/",
          "height": 312
        },
        "outputId": "10b90b85-2af9-4b6b-dfd6-77ef2d01202e",
        "executionInfo": {
          "status": "error",
          "timestamp": 1529704359494,
          "user_tz": -330,
          "elapsed": 825,
          "user": {
            "displayName": "premila bhagat",
            "photoUrl": "https://lh3.googleusercontent.com/a/default-user=s128",
            "userId": "108134130403334238154"
          }
        }
      },
      "cell_type": "code",
      "source": [
        "print(predictions.shape)\n",
        "topK = 5\n",
        "decoded = decode_predictions(predictions, top=topK)[0]\n",
        "print('Predicted:', decoded)\n",
        "\n",
        "topK_synsets = [triple[0] for triple in decoded]\n",
        "topK_names = [triple[1] for triple in decoded]\n",
        "topK_scores = [triple[2] for triple in decoded]\n",
        "\n",
        "print(topK_names)\n",
        "\n",
        "class_names = ['boxer', 'tiger_cat']\n",
        "topK_ndx = []\n",
        "imagenet_ndx = [] # indexes into the softmax entries of final layer\n",
        "for i, name in enumerate(class_names):\n",
        "    ndx = topK_names.index(name)\n",
        "    topK_ndx.append(ndx)\n",
        "    imagenet_ndx.append(np.argwhere(predictions[0] == topK_scores[ndx])[0][0])"
      ],
      "execution_count": 0,
      "outputs": [
        {
          "output_type": "stream",
          "text": [
            "(1, 1000)\n",
            "Predicted: [('n02108422', 'bull_mastiff', 0.40943855), ('n02108089', 'boxer', 0.3950904), ('n02109047', 'Great_Dane', 0.039510224), ('n02109525', 'Saint_Bernard', 0.031701066), ('n02129604', 'tiger', 0.019169448)]\n",
            "['bull_mastiff', 'boxer', 'Great_Dane', 'Saint_Bernard', 'tiger']\n"
          ],
          "name": "stdout"
        },
        {
          "output_type": "error",
          "ename": "ValueError",
          "evalue": "ignored",
          "traceback": [
            "\u001b[0;31m---------------------------------------------------------------------------\u001b[0m",
            "\u001b[0;31mValueError\u001b[0m                                Traceback (most recent call last)",
            "\u001b[0;32m<ipython-input-65-3acc51884c5d>\u001b[0m in \u001b[0;36m<module>\u001b[0;34m()\u001b[0m\n\u001b[1;32m     14\u001b[0m \u001b[0mimagenet_ndx\u001b[0m \u001b[0;34m=\u001b[0m \u001b[0;34m[\u001b[0m\u001b[0;34m]\u001b[0m \u001b[0;31m# indexes into the softmax entries of final layer\u001b[0m\u001b[0;34m\u001b[0m\u001b[0m\n\u001b[1;32m     15\u001b[0m \u001b[0;32mfor\u001b[0m \u001b[0mi\u001b[0m\u001b[0;34m,\u001b[0m \u001b[0mname\u001b[0m \u001b[0;32min\u001b[0m \u001b[0menumerate\u001b[0m\u001b[0;34m(\u001b[0m\u001b[0mclass_names\u001b[0m\u001b[0;34m)\u001b[0m\u001b[0;34m:\u001b[0m\u001b[0;34m\u001b[0m\u001b[0m\n\u001b[0;32m---> 16\u001b[0;31m     \u001b[0mndx\u001b[0m \u001b[0;34m=\u001b[0m \u001b[0mtopK_names\u001b[0m\u001b[0;34m.\u001b[0m\u001b[0mindex\u001b[0m\u001b[0;34m(\u001b[0m\u001b[0mname\u001b[0m\u001b[0;34m)\u001b[0m\u001b[0;34m\u001b[0m\u001b[0m\n\u001b[0m\u001b[1;32m     17\u001b[0m     \u001b[0mtopK_ndx\u001b[0m\u001b[0;34m.\u001b[0m\u001b[0mappend\u001b[0m\u001b[0;34m(\u001b[0m\u001b[0mndx\u001b[0m\u001b[0;34m)\u001b[0m\u001b[0;34m\u001b[0m\u001b[0m\n\u001b[1;32m     18\u001b[0m     \u001b[0mimagenet_ndx\u001b[0m\u001b[0;34m.\u001b[0m\u001b[0mappend\u001b[0m\u001b[0;34m(\u001b[0m\u001b[0mnp\u001b[0m\u001b[0;34m.\u001b[0m\u001b[0margwhere\u001b[0m\u001b[0;34m(\u001b[0m\u001b[0mpredictions\u001b[0m\u001b[0;34m[\u001b[0m\u001b[0;36m0\u001b[0m\u001b[0;34m]\u001b[0m \u001b[0;34m==\u001b[0m \u001b[0mtopK_scores\u001b[0m\u001b[0;34m[\u001b[0m\u001b[0mndx\u001b[0m\u001b[0;34m]\u001b[0m\u001b[0;34m)\u001b[0m\u001b[0;34m[\u001b[0m\u001b[0;36m0\u001b[0m\u001b[0;34m]\u001b[0m\u001b[0;34m[\u001b[0m\u001b[0;36m0\u001b[0m\u001b[0;34m]\u001b[0m\u001b[0;34m)\u001b[0m\u001b[0;34m\u001b[0m\u001b[0m\n",
            "\u001b[0;31mValueError\u001b[0m: 'tiger_cat' is not in list"
          ]
        }
      ]
    },
    {
      "metadata": {
        "id": "jaqHJ1XofKzQ",
        "colab_type": "code",
        "colab": {
          "autoexec": {
            "startup": false,
            "wait_interval": 0
          },
          "base_uri": "https://localhost:8080/",
          "height": 367
        },
        "outputId": "46413322-6334-432c-fbd8-ddfafbb37c11",
        "executionInfo": {
          "status": "ok",
          "timestamp": 1528529826216,
          "user_tz": -330,
          "elapsed": 3701,
          "user": {
            "displayName": "Ankita Bhagat",
            "photoUrl": "//lh5.googleusercontent.com/-hBbQJG3EmsY/AAAAAAAAAAI/AAAAAAAAEMc/8aZlpsJaxOI/s50-c-k-no/photo.jpg",
            "userId": "106932527741563015055"
          }
        }
      },
      "cell_type": "code",
      "source": [
        "!pip install keras-vis"
      ],
      "execution_count": 0,
      "outputs": [
        {
          "output_type": "stream",
          "text": [
            "Collecting keras-vis\n",
            "  Downloading https://files.pythonhosted.org/packages/70/b6/585f1c100b3ee5b8a12cf603c21a9a1f11010eaf634b4d5d73346e7b0c14/keras_vis-0.4.1-py2.py3-none-any.whl\n",
            "Requirement already satisfied: matplotlib in /usr/local/lib/python3.6/dist-packages (from keras-vis) (2.1.2)\n",
            "Requirement already satisfied: keras in /usr/local/lib/python3.6/dist-packages (from keras-vis) (2.1.6)\n",
            "Requirement already satisfied: h5py in /usr/local/lib/python3.6/dist-packages (from keras-vis) (2.7.1)\n",
            "Requirement already satisfied: scikit-image in /usr/local/lib/python3.6/dist-packages (from keras-vis) (0.13.1)\n",
            "Requirement already satisfied: six in /usr/local/lib/python3.6/dist-packages (from keras-vis) (1.11.0)\n",
            "Requirement already satisfied: pyparsing!=2.0.4,!=2.1.2,!=2.1.6,>=2.0.1 in /usr/local/lib/python3.6/dist-packages (from matplotlib->keras-vis) (2.2.0)\n",
            "Requirement already satisfied: python-dateutil>=2.1 in /usr/local/lib/python3.6/dist-packages (from matplotlib->keras-vis) (2.5.3)\n",
            "Requirement already satisfied: pytz in /usr/local/lib/python3.6/dist-packages (from matplotlib->keras-vis) (2018.4)\n",
            "Requirement already satisfied: cycler>=0.10 in /usr/local/lib/python3.6/dist-packages (from matplotlib->keras-vis) (0.10.0)\n",
            "Requirement already satisfied: numpy>=1.7.1 in /usr/local/lib/python3.6/dist-packages (from matplotlib->keras-vis) (1.14.3)\n",
            "Requirement already satisfied: pyyaml in /usr/local/lib/python3.6/dist-packages (from keras->keras-vis) (3.12)\n",
            "Requirement already satisfied: scipy>=0.14 in /usr/local/lib/python3.6/dist-packages (from keras->keras-vis) (0.19.1)\n",
            "Requirement already satisfied: PyWavelets>=0.4.0 in /usr/local/lib/python3.6/dist-packages (from scikit-image->keras-vis) (0.5.2)\n",
            "Requirement already satisfied: networkx>=1.8 in /usr/local/lib/python3.6/dist-packages (from scikit-image->keras-vis) (2.1)\n",
            "Requirement already satisfied: pillow>=2.1.0 in /usr/local/lib/python3.6/dist-packages (from scikit-image->keras-vis) (4.0.0)\n",
            "Requirement already satisfied: decorator>=4.1.0 in /usr/local/lib/python3.6/dist-packages (from networkx>=1.8->scikit-image->keras-vis) (4.3.0)\n",
            "Requirement already satisfied: olefile in /usr/local/lib/python3.6/dist-packages (from pillow>=2.1.0->scikit-image->keras-vis) (0.45.1)\n",
            "Installing collected packages: keras-vis\n",
            "Successfully installed keras-vis-0.4.1\n"
          ],
          "name": "stdout"
        }
      ]
    },
    {
      "metadata": {
        "id": "T4pJh00kewJB",
        "colab_type": "code",
        "colab": {
          "autoexec": {
            "startup": false,
            "wait_interval": 0
          },
          "base_uri": "https://localhost:8080/",
          "height": 381
        },
        "outputId": "ec6d5141-6e1c-4301-e5ed-03e482b155da",
        "executionInfo": {
          "status": "error",
          "timestamp": 1529703789349,
          "user_tz": -330,
          "elapsed": 874,
          "user": {
            "displayName": "premila bhagat",
            "photoUrl": "https://lh3.googleusercontent.com/a/default-user=s128",
            "userId": "108134130403334238154"
          }
        }
      },
      "cell_type": "code",
      "source": [
        "from vis.utils import utils\n",
        "from vis.visualization import visualize_cam, overlay\n",
        "from matplotlib import pyplot as plt\n",
        "import matplotlib.cm as cm\n",
        "\n",
        "topK_synsets = [triple[0] for triple in decoded]\n",
        "topK_names = [triple[1] for triple in decoded]\n",
        "topK_scores = [triple[2] for triple in decoded]\n",
        "\n",
        "class_names = ['boxer', 'tiger_cat']\n",
        "topK_ndx = []\n",
        "imagenet_ndx = [] # indexes into the softmax entries of final layer\n",
        "for i, name in enumerate(class_names):\n",
        "    ndx = topK_names.index(name)\n",
        "    topK_ndx.append(ndx)\n",
        "    imagenet_ndx.append(np.argwhere(predictions[0] == topK_scores[ndx])[0][0])\n",
        "# 282 = Tiger cat, 242 = Boxer (0 indexed)\n",
        "\n",
        "img = utils.load_img('cat_dog.jpg', target_size=(224, 224))\n",
        "N = len(class_names)\n",
        "fig, ax = plt.subplots(1, N+1)\n",
        "ax[0].imshow(img)\n",
        "ax[0].axis('off')\n",
        "\n",
        "# Lets overlay the heatmap for each desired class onto original image.    \n",
        "for i in range(N):\n",
        "    ndx = imagenet_ndx[i]\n",
        "    layer_idx = utils.find_layer_idx(model, 'predictions') # final layer\n",
        "    grads = visualize_cam(model, layer_idx, filter_indices=ndx, \n",
        "                        seed_input=img, backprop_modifier='guided') \n",
        "    #jet_heatmap = np.uint8(cm.jet(grads)[..., :3] * 255)\n",
        "    jet_heatmap = np.uint8(cm.jet(grads) * 255)[:, : , :, 0]\n",
        "    ax[i+1].imshow(overlay(jet_heatmap, img))\n",
        "    ax[i+1].axis('off')\n",
        "    ax[i+1].set_title(class_names[i])\n",
        "plt.show()"
      ],
      "execution_count": 0,
      "outputs": [
        {
          "output_type": "error",
          "ename": "ModuleNotFoundError",
          "evalue": "ignored",
          "traceback": [
            "\u001b[0;31m---------------------------------------------------------------------------\u001b[0m",
            "\u001b[0;31mModuleNotFoundError\u001b[0m                       Traceback (most recent call last)",
            "\u001b[0;32m<ipython-input-58-5c7164fd5b7b>\u001b[0m in \u001b[0;36m<module>\u001b[0;34m()\u001b[0m\n\u001b[0;32m----> 1\u001b[0;31m \u001b[0;32mfrom\u001b[0m \u001b[0mvis\u001b[0m\u001b[0;34m.\u001b[0m\u001b[0mutils\u001b[0m \u001b[0;32mimport\u001b[0m \u001b[0mutils\u001b[0m\u001b[0;34m\u001b[0m\u001b[0m\n\u001b[0m\u001b[1;32m      2\u001b[0m \u001b[0;32mfrom\u001b[0m \u001b[0mvis\u001b[0m\u001b[0;34m.\u001b[0m\u001b[0mvisualization\u001b[0m \u001b[0;32mimport\u001b[0m \u001b[0mvisualize_cam\u001b[0m\u001b[0;34m,\u001b[0m \u001b[0moverlay\u001b[0m\u001b[0;34m\u001b[0m\u001b[0m\n\u001b[1;32m      3\u001b[0m \u001b[0;32mfrom\u001b[0m \u001b[0mmatplotlib\u001b[0m \u001b[0;32mimport\u001b[0m \u001b[0mpyplot\u001b[0m \u001b[0;32mas\u001b[0m \u001b[0mplt\u001b[0m\u001b[0;34m\u001b[0m\u001b[0m\n\u001b[1;32m      4\u001b[0m \u001b[0;32mimport\u001b[0m \u001b[0mmatplotlib\u001b[0m\u001b[0;34m.\u001b[0m\u001b[0mcm\u001b[0m \u001b[0;32mas\u001b[0m \u001b[0mcm\u001b[0m\u001b[0;34m\u001b[0m\u001b[0m\n\u001b[1;32m      5\u001b[0m \u001b[0;34m\u001b[0m\u001b[0m\n",
            "\u001b[0;31mModuleNotFoundError\u001b[0m: No module named 'vis'",
            "",
            "\u001b[0;31m---------------------------------------------------------------------------\u001b[0;32m\nNOTE: If your import is failing due to a missing package, you can\nmanually install dependencies using either !pip or !apt.\n\nTo view examples of installing some common dependencies, click the\n\"Open Examples\" button below.\n\u001b[0;31m---------------------------------------------------------------------------\u001b[0m\n"
          ]
        }
      ]
    },
    {
      "metadata": {
        "id": "xUM588bWQSZD",
        "colab_type": "code",
        "colab": {
          "autoexec": {
            "startup": false,
            "wait_interval": 0
          },
          "base_uri": "https://localhost:8080/",
          "height": 33
        },
        "outputId": "a1e10873-539c-40ff-b043-b3565bb9fbcd",
        "executionInfo": {
          "status": "ok",
          "timestamp": 1528450340387,
          "user_tz": -330,
          "elapsed": 2093,
          "user": {
            "displayName": "Ankita Bhagat",
            "photoUrl": "//lh5.googleusercontent.com/-hBbQJG3EmsY/AAAAAAAAAAI/AAAAAAAAEMc/8aZlpsJaxOI/s50-c-k-no/photo.jpg",
            "userId": "106932527741563015055"
          }
        }
      },
      "cell_type": "code",
      "source": [
        "ls"
      ],
      "execution_count": 0,
      "outputs": [
        {
          "output_type": "stream",
          "text": [
            "cat_dog.jpg  \u001b[0m\u001b[01;34mdatalab\u001b[0m/\r\n"
          ],
          "name": "stdout"
        }
      ]
    },
    {
      "metadata": {
        "id": "lIQkxQP4QUrA",
        "colab_type": "code",
        "colab": {
          "autoexec": {
            "startup": false,
            "wait_interval": 0
          }
        }
      },
      "cell_type": "code",
      "source": [
        "files.download('gradcam.jpg')\n",
        "files.download('guided_gradcam.jpg')"
      ],
      "execution_count": 0,
      "outputs": []
    },
    {
      "metadata": {
        "id": "da0sUVBbLymP",
        "colab_type": "code",
        "colab": {
          "autoexec": {
            "startup": false,
            "wait_interval": 0
          },
          "base_uri": "https://localhost:8080/",
          "height": 178
        },
        "outputId": "d11d4d1a-17a6-45b6-86af-8b3e4a982af2",
        "executionInfo": {
          "status": "error",
          "timestamp": 1528608825164,
          "user_tz": -330,
          "elapsed": 2269,
          "user": {
            "displayName": "Ankita Bhagat",
            "photoUrl": "//lh5.googleusercontent.com/-hBbQJG3EmsY/AAAAAAAAAAI/AAAAAAAAEMc/8aZlpsJaxOI/s50-c-k-no/photo.jpg",
            "userId": "106932527741563015055"
          }
        }
      },
      "cell_type": "code",
      "source": [
        "!rm -rf image.jpg"
      ],
      "execution_count": 0,
      "outputs": [
        {
          "output_type": "error",
          "ename": "NameError",
          "evalue": "ignored",
          "traceback": [
            "\u001b[0;31m---------------------------------------------------------------------------\u001b[0m",
            "\u001b[0;31mNameError\u001b[0m                                 Traceback (most recent call last)",
            "\u001b[0;32m<ipython-input-5-f789f42887a0>\u001b[0m in \u001b[0;36m<module>\u001b[0;34m()\u001b[0m\n\u001b[1;32m      1\u001b[0m \u001b[0mget_ipython\u001b[0m\u001b[0;34m(\u001b[0m\u001b[0;34m)\u001b[0m\u001b[0;34m.\u001b[0m\u001b[0msystem\u001b[0m\u001b[0;34m(\u001b[0m\u001b[0;34m'rm -rf image.jpg'\u001b[0m\u001b[0;34m)\u001b[0m\u001b[0;34m\u001b[0m\u001b[0m\n\u001b[0;32m----> 2\u001b[0;31m \u001b[0mls\u001b[0m\u001b[0;34m\u001b[0m\u001b[0m\n\u001b[0m",
            "\u001b[0;31mNameError\u001b[0m: name 'ls' is not defined"
          ]
        }
      ]
    },
    {
      "metadata": {
        "id": "ZJoVSy1iL7ep",
        "colab_type": "code",
        "colab": {
          "autoexec": {
            "startup": false,
            "wait_interval": 0
          },
          "base_uri": "https://localhost:8080/",
          "height": 33
        },
        "outputId": "57e3af75-7cc6-4089-b158-5ef90d957064",
        "executionInfo": {
          "status": "ok",
          "timestamp": 1528608836385,
          "user_tz": -330,
          "elapsed": 2191,
          "user": {
            "displayName": "Ankita Bhagat",
            "photoUrl": "//lh5.googleusercontent.com/-hBbQJG3EmsY/AAAAAAAAAAI/AAAAAAAAEMc/8aZlpsJaxOI/s50-c-k-no/photo.jpg",
            "userId": "106932527741563015055"
          }
        }
      },
      "cell_type": "code",
      "source": [
        "ls"
      ],
      "execution_count": 0,
      "outputs": [
        {
          "output_type": "stream",
          "text": [
            "cat_dog.jpg  \u001b[0m\u001b[01;34mdatalab\u001b[0m/  gradcam.jpg  guided_gradcam.jpg\r\n"
          ],
          "name": "stdout"
        }
      ]
    },
    {
      "metadata": {
        "id": "HZ5CaM4uLyu2",
        "colab_type": "code",
        "colab": {
          "autoexec": {
            "startup": false,
            "wait_interval": 0
          },
          "base_uri": "https://localhost:8080/",
          "height": 33
        },
        "outputId": "2518b11a-4a0f-4a34-8ece-7cfffb422493",
        "executionInfo": {
          "status": "ok",
          "timestamp": 1528608839225,
          "user_tz": -330,
          "elapsed": 865,
          "user": {
            "displayName": "Ankita Bhagat",
            "photoUrl": "//lh5.googleusercontent.com/-hBbQJG3EmsY/AAAAAAAAAAI/AAAAAAAAEMc/8aZlpsJaxOI/s50-c-k-no/photo.jpg",
            "userId": "106932527741563015055"
          }
        }
      },
      "cell_type": "code",
      "source": [
        "preprocessed_input = load_image('cat_dog.jpg')\n",
        "cv2.imwrite(\"image.jpg\", preprocessed_input)"
      ],
      "execution_count": 0,
      "outputs": [
        {
          "output_type": "execute_result",
          "data": {
            "text/plain": [
              "False"
            ]
          },
          "metadata": {
            "tags": []
          },
          "execution_count": 7
        }
      ]
    },
    {
      "metadata": {
        "id": "Hp35a33VLyx9",
        "colab_type": "code",
        "colab": {
          "autoexec": {
            "startup": false,
            "wait_interval": 0
          }
        }
      },
      "cell_type": "code",
      "source": [
        "from google.colab import files\n",
        "files.download('image.jpg')"
      ],
      "execution_count": 0,
      "outputs": []
    }
  ]
}